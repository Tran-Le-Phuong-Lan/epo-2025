{
  "cells": [
    {
      "cell_type": "markdown",
      "metadata": {
        "id": "HfPCA-ShVh3w"
      },
      "source": [
        "# Semantic search with FAISS (PyTorch)\n",
        "\n",
        "**Reference:** \n",
        "\n",
        "[1] This notebook provided by Hugging Face: https://huggingface.co/learn/llm-course/en/chapter5/6\n",
        "\n",
        "[2] FAISS: https://github.com/facebookresearch/faiss/wiki/Getting-started"
      ]
    },
    {
      "cell_type": "markdown",
      "metadata": {
        "id": "9DqrLM8iVh3y"
      },
      "source": [
        "Install the Transformers, Datasets, and Evaluate libraries to run this notebook."
      ]
    },
    {
      "cell_type": "markdown",
      "metadata": {},
      "source": [
        "# Libs"
      ]
    },
    {
      "cell_type": "code",
      "execution_count": 1,
      "metadata": {},
      "outputs": [],
      "source": [
        "# ! pip install datasets evaluate transformers[sentencepiece]\n",
        "\n",
        "# reference:\n",
        "# [1] https://stackoverflow.com/questions/58957169/faiss-error-could-not-find-a-version-that-satisfies-the-requirement-faiss-from/58957380\n",
        "# [1] Self-summary: \n",
        "#   1.1 Python version too high (for example: 3.13 has problem with installing faiss)\n",
        "#   1.2 must state the cuda version explicitly while installing faiss -> (after install torch) check 'nvidia-...' version in  `conda list > requirement.txt` \n",
        "# ! pip install faiss-gpu-cu12 # "
      ]
    },
    {
      "cell_type": "code",
      "execution_count": 33,
      "metadata": {},
      "outputs": [],
      "source": [
        "# ! pip install peft \n",
        "# ! pip install joblib\n",
        "# ! pip install scikit-learn"
      ]
    },
    {
      "cell_type": "code",
      "execution_count": 26,
      "metadata": {},
      "outputs": [],
      "source": [
        "from transformers import (\n",
        "    AutoModel,\n",
        "    AutoTokenizer,\n",
        "    BitsAndBytesConfig,\n",
        "    TrainingArguments,\n",
        "    Trainer,\n",
        "    DataCollatorWithPadding\n",
        ")"
      ]
    },
    {
      "cell_type": "code",
      "execution_count": 1,
      "metadata": {},
      "outputs": [],
      "source": [
        "import pandas as pd"
      ]
    },
    {
      "cell_type": "markdown",
      "metadata": {},
      "source": [
        "# Data processing"
      ]
    },
    {
      "cell_type": "code",
      "execution_count": 3,
      "metadata": {
        "id": "7MZuJ0ZxVh3z",
        "outputId": "924fb96f-9c2a-438b-eafd-3fec14a46cfc"
      },
      "outputs": [],
      "source": [
        "# from datasets import load_dataset\n",
        "\n",
        "# issues_dataset = load_dataset(\"lewtun/github-issues\", split=\"train\")\n",
        "# issues_dataset"
      ]
    },
    {
      "cell_type": "code",
      "execution_count": 2,
      "metadata": {},
      "outputs": [
        {
          "name": "stdout",
          "output_type": "stream",
          "text": [
            "row counts in df_1: 1848\n",
            "row counts in df_2: 22\n",
            "row counts in df_epo: 1870\n"
          ]
        }
      ],
      "source": [
        "df_1 = pd.read_csv(\"/home/lephuonglantran/EPO2024/df_combine.csv\")\n",
        "print(f\"row counts in df_1: {len(df_1)}\")\n",
        "df_2 = pd.read_csv(\"/home/lephuonglantran/EPO2024/df_combine_val.csv\")\n",
        "print(f\"row counts in df_2: {len(df_2)}\")\n",
        "df = pd.concat([df_1, df_2], ignore_index=True)\n",
        "\n",
        "print(f\"row counts in df_epo: {len(df)}\")"
      ]
    },
    {
      "cell_type": "code",
      "execution_count": 39,
      "metadata": {},
      "outputs": [
        {
          "data": {
            "text/plain": [
              "(\"A method of assaying nucleic acids in a sample, comprising the steps of: a) adding multiple sets of probes into the sample to form a mixture, each set of probes comprising: i. a first probe having a first portion at least partially complementary to a first region of a target nucleic acid in the sample and a second portion forming a first primer binding site;ii. a second probe having a first portion at least partially complementary to a second region of the target nucleic acid in the sample and a second portion forming a second primer binding site, wherein the 5' end of the first probe is adjacent to the 3' end of the second probe when both probes are hybridized to the target nucleic acid;b) denaturing nucleic acids in the mixture;c) hybridizing the set of probes to the complementary regions of the target nucleic acid;d) performing a ligation reaction with a ligase enzyme on the set of hybridized probes to connect the adjacent 5' end of the first probe and the 3' end of the second probe to form a third probe, wherein steps b-d are repeated 1-100 times;e) amplifying the third probe with multiple sets of primers to obtain an amplification product, each set of primers comprising: i. a first primer at least partially complementary to the first primer binding site in one or more first probes of the multiple sets of probes;ii. a second primer at least partially complementary to the second primer binding site in one or more second probes of the multiple sets of probes;f) assaying the presence, absence or quantity of the target nucleic acid in the sample by determining the presence, absence or quantity of the third probe in the amplification product; and wherein at least one primer of each set of primers is labeled with a detectable moiety; and at least one primer of the multiple sets of primers includes a stuffer sequence; and at least one probe of the multiple sets of probes includes a stuffer sequence, wherein the measurement is carried out using capillary electrophoresis.The method of claim 1, wherein the stuffer sequence in the at least one primer of the multiple sets of primers has about 10 to about 500 nucleotides, preferably about 10 to about 60 nucleotides; and/or the stuffer sequence in the at least one probe of the multiple sets of probes has about 1 to about 200 nucleotides, preferably about 1 to about 55 nucleotides.The method of claim 1 or 2, wherein at least one primer of each set of primers includes an oligonucleotide comprising a sequence GTTTCTT or a functional equivalent variant of the oligonucleotide comprising a sequence GTTTCTT.The method of any one of preceding claims, wherein the determination of the presence, absence or quantity of the third probe in the amplification product is carried out by measuring the presence, absence or quantity of the third probe in the amplification product on the basis of detectable moieties, fragment sizes, or both.The method of any one of preceding claims, wherein the moiety is a fluorescent dye; preferably the moiety is a fluorescent dye selected from the group consisting of FAM (5-or 6-carboxyfluorescein), VIC, NED, PET, Fluorescein, FITC, IRD-700/800, CY3, CY5, CY3.5, CY5.5, HEX, TET, TAMRA, JOE, ROX, BODIPY TMR, Oregon Green, Rhodamine Green, Rhodamine Red, Texas Red, and Yakima Yellow.The method of any one of preceding claims, wherein the target nucleic acid is the dystrophin gene having a deletion of one or more exons and the sets of probes for assaying the dystrophin gene comprise one or more probe pairs selected from SEQ ID NOs: 158-541; or the target nucleic acid corresponds to a part of human chromosome 21 and the sets of probes for assaying the part of human chromosome 21 comprise probe pairs selected from SEQ ID NOs: 559-942.The method of any one of preceding claims, wherein the denaturing step is carried at about 90°C to about 99°C for about 5 seconds to about 30 minutes, and the hybridization and the ligation steps are carried out simultaneously at about 4°C to about 70°C for about 1 minute to about 48 hours, preferably the denaturing step is carried at about 95°C for about 30 seconds, and the hybridization and the ligation steps are carried out simultaneously at about 58°C for about 4 hours, and the steps of denaturing, hybridization and ligation are repeated 4 times.The method of any one of preceding claims, wherein two or more sets of probes are used to hybridize to two or more target sites in the target nucleic acid, with each set of probes hybridizing to a different target site.The method of any one of preceding claims, wherein the target nucleic acid has a quantitative variation of about 0.1% to about 30% between two samples.The method of any one of preceding claims, wherein one set of primers is used to amplify a group of the third probes, said group of the third probes comprises multiple third probes which are formed from multiple sets of probes hybridizing to multiple target sites and from multiple sets of reference probes hybridizing to multiple reference target sites.The method of any one of preceding claims, wherein the multiple third probes in the group are formed from about 1 to about 100 sets of probes hybridizing to target sites and about 1 to about 100 sets of reference probes.The method of any one of preceding claims, wherein about 50 to about 500 sets of probes are used to hybridize to about 50 to about 500 target sites on the target nucleic acid.The method of any one of preceding claims, wherein the target nucleic acid corresponds to at least a part of human chromosome 21, human chromosome 18, human chromosome 13, human chromosome region 22q11.2, or the pseudoautosomal regions of human chromosomes X or Y in a maternal blood or urine sample.The method of any one of preceding claims, wherein the copy number of each target site is determined by the following four steps: a) a ratio of the quantity of the third probe targeting the target site to the quantity of the third probe in the same group targeting one reference sites are calculated; b) a copy number value is calculated by this ratio value in a test sample divided by the corresponding ratio value in a control sample or the median value of the corresponding ratio values in all control samples or all test samples, and then times 2; c) more copy number values are calculated by repeating a-b by using the quantity of another third probe in the same group targeting another reference sites in step a; d) the copy number of each target site is calculated by taking the average or median of all the copy number values with or without abandoning egregious value.The method of any one of preceding claims, further comprising a step of determining the copy number of the target nucleic acid in a sample by taking the average or median of the copy numbers of all target sites on the target nucleic acid or by taking the average or median of the copy numbers of all target sites on the target nucleic acid after abandoning egregious values.A kit for assaying nucleic acids in a sample according to claims 1-15, comprising: a) multiple sets of probes corresponding to a target nucleic acid, each set of probes comprising: i. a first probe having a first portion at least partially complementary to a first region of a target nucleic acid in the sample and a second portion forming a first primer binding site;ii. a second probe having a first portion at least partially complementary to a second region of the target nucleic acid in the sample and a second portion forming a second primer binding site, wherein the 5' end of the first probe is adjacent to the 3' end of the second probe when both probes are hybridized to the target nucleic acid and the first and the second probes may be ligated to form a third probe;b) multiple sets of primers for amplifying the third probe, wherein each set of multiple sets of primers comprising: i. a first primer at least partially complementary to the first primer binding site in one or more first probes of the multiple sets of probes;ii. a second primer at least partially complementary to the second primer binding site in one or more second probes of the multiple sets of probes;c) reagents including a ligase, a buffer for a ligation reaction, a DNA polymerase, a buffer for a polymerase chain reaction, or a combination thereof; andd) optionally a brochure containing instructions of using the kit; wherein at least one primer of each set of primers is labeled with a detectable moiety; and at least one primer of the multiple sets of primers includes a stuffer sequence; and at least one probe of the multiple sets of probes includes a stuffer sequence, wherein the measurement is carried out using capillary electrophoresis.\",\n",
              " 'METHOD FOR MULTIPLEX NUCLEIC ACID ANALYSIS')"
            ]
          },
          "execution_count": 39,
          "metadata": {},
          "output_type": "execute_result"
        }
      ],
      "source": [
        "df[\"claims\"][0], df[\"title\"][0]"
      ]
    },
    {
      "cell_type": "code",
      "execution_count": 3,
      "metadata": {},
      "outputs": [
        {
          "name": "stderr",
          "output_type": "stream",
          "text": [
            "/home/lephuonglantran/.conda/envs/gpuenv_2/lib/python3.12/site-packages/tqdm/auto.py:21: TqdmWarning: IProgress not found. Please update jupyter and ipywidgets. See https://ipywidgets.readthedocs.io/en/stable/user_install.html\n",
            "  from .autonotebook import tqdm as notebook_tqdm\n"
          ]
        }
      ],
      "source": [
        "# convert panda data frame to dataset\n",
        "from datasets import Dataset"
      ]
    },
    {
      "cell_type": "code",
      "execution_count": 5,
      "metadata": {},
      "outputs": [
        {
          "data": {
            "text/plain": [
              "Dataset({\n",
              "    features: ['title', 'description', 'claims', 'ipc'],\n",
              "    num_rows: 1870\n",
              "})"
            ]
          },
          "execution_count": 5,
          "metadata": {},
          "output_type": "execute_result"
        }
      ],
      "source": [
        "dataset = Dataset.from_pandas(df)\n",
        "dataset"
      ]
    },
    {
      "cell_type": "code",
      "execution_count": 5,
      "metadata": {
        "id": "kwS04TSIVh30",
        "outputId": "df1da230-3518-42c1-8936-d4d8b8d502bf"
      },
      "outputs": [],
      "source": [
        "# issues_dataset = issues_dataset.filter(\n",
        "#     lambda x: (x[\"is_pull_request\"] == False and len(x[\"comments\"]) > 0)\n",
        "# )\n",
        "# issues_dataset"
      ]
    },
    {
      "cell_type": "markdown",
      "metadata": {},
      "source": [
        "> We can see that there are a lot of columns in our dataset, most of which we don’t need to build our search engine. From a search perspective, the most informative columns are `title`, `body`, and `comments`, while `html_url` provides us with a link back to the source issue. Let’s use the `Dataset.remove_columns()` function to drop the rest:  "
      ]
    },
    {
      "cell_type": "code",
      "execution_count": 6,
      "metadata": {
        "id": "KQPnvx7pVh30",
        "outputId": "277f3ac1-4c34-46ca-ae94-c0032c045dcf"
      },
      "outputs": [
        {
          "data": {
            "text/plain": [
              "Dataset({\n",
              "    features: ['title', 'description', 'ipc'],\n",
              "    num_rows: 1870\n",
              "})"
            ]
          },
          "execution_count": 6,
          "metadata": {},
          "output_type": "execute_result"
        }
      ],
      "source": [
        "# columns = issues_dataset.column_names\n",
        "# columns_to_keep = [\"title\", \"body\", \"html_url\", \"comments\"]\n",
        "# columns_to_remove = set(columns_to_keep).symmetric_difference(columns)\n",
        "# issues_dataset = issues_dataset.remove_columns(columns_to_remove)\n",
        "# issues_dataset\n",
        "\n",
        "columns = dataset.column_names\n",
        "columns_to_keep = [\"title\", \"description\", \"ipc\"]\n",
        "columns_to_remove = set(columns_to_keep).symmetric_difference(columns)\n",
        "dataset = dataset.remove_columns(columns_to_remove)\n",
        "dataset\n"
      ]
    },
    {
      "cell_type": "markdown",
      "metadata": {},
      "source": [
        "> Now that we **have one comment per row**, let’s **create a new comments_length column** that **contains the number of words per comment**:  "
      ]
    },
    {
      "cell_type": "code",
      "execution_count": 7,
      "metadata": {
        "id": "u1V7Gs2lVh31"
      },
      "outputs": [
        {
          "name": "stderr",
          "output_type": "stream",
          "text": [
            "Map: 100%|██████████| 1870/1870 [00:02<00:00, 701.19 examples/s] \n"
          ]
        }
      ],
      "source": [
        "# comments_dataset = comments_dataset.map(\n",
        "#     lambda x: {\"comment_length\": len(x[\"comments\"].split())}\n",
        "# )\n",
        "\n",
        "description_dataset = dataset.map(\n",
        "    lambda x: {\"description_length\": len(x[\"description\"].split())}\n",
        ")"
      ]
    },
    {
      "cell_type": "markdown",
      "metadata": {},
      "source": [
        "> We can **use this new column to filter out short comments**, which typically **include things like “cc @lewtun” or “Thanks!” that are not relevant** for our search engine. There’s **no precise number to select for the filter**, **but around 15 words** seems like a good start:  "
      ]
    },
    {
      "cell_type": "code",
      "execution_count": 8,
      "metadata": {
        "id": "vrAOWkChVh31",
        "outputId": "d45e7de1-f384-4a1c-c997-0534f917b12e"
      },
      "outputs": [
        {
          "name": "stderr",
          "output_type": "stream",
          "text": [
            "Filter: 100%|██████████| 1870/1870 [00:00<00:00, 16375.00 examples/s]\n"
          ]
        },
        {
          "data": {
            "text/plain": [
              "Dataset({\n",
              "    features: ['title', 'description', 'ipc', 'description_length'],\n",
              "    num_rows: 1870\n",
              "})"
            ]
          },
          "execution_count": 8,
          "metadata": {},
          "output_type": "execute_result"
        }
      ],
      "source": [
        "# comments_dataset = comments_dataset.filter(lambda x: x[\"comment_length\"] > 15)\n",
        "# comments_dataset\n",
        "\n",
        "description_dataset = description_dataset.filter(lambda x: x[\"description_length\"] > 15)\n",
        "description_dataset"
      ]
    },
    {
      "cell_type": "code",
      "execution_count": 8,
      "metadata": {
        "id": "kgHWo25UVh31"
      },
      "outputs": [],
      "source": [
        "# def concatenate_text(examples):\n",
        "#     return {\n",
        "#         \"text\": examples[\"title\"]\n",
        "#         + \" \\n \"\n",
        "#         + examples[\"description\"]\n",
        "#     }\n",
        "\n",
        "# # comments_dataset = comments_dataset.map(concatenate_text)\n",
        "# description_dataset = description_dataset.map(concatenate_text)"
      ]
    },
    {
      "cell_type": "code",
      "execution_count": 44,
      "metadata": {},
      "outputs": [
        {
          "data": {
            "text/plain": [
              "47423"
            ]
          },
          "execution_count": 44,
          "metadata": {},
          "output_type": "execute_result"
        }
      ],
      "source": [
        "description_dataset[0]['description_length']"
      ]
    },
    {
      "cell_type": "code",
      "execution_count": 9,
      "metadata": {},
      "outputs": [
        {
          "name": "stdout",
          "output_type": "stream",
          "text": [
            "min length in dataset: 359 words\n",
            "max length in dataset: 21706\n"
          ]
        }
      ],
      "source": [
        "max = 0\n",
        "for i in range(len(description_dataset)):\n",
        "    length_description_dataset = description_dataset[i]['description_length']\n",
        "    if i== 0:\n",
        "        min = length_description_dataset\n",
        "    if length_description_dataset <= min:\n",
        "        min = length_description_dataset\n",
        "    else:\n",
        "        max = length_description_dataset\n",
        "print(f\"min length in dataset: {min} words\\nmax length in dataset: {max}\")"
      ]
    },
    {
      "cell_type": "markdown",
      "metadata": {},
      "source": [
        "Split the long description into small chunks\n",
        "\n",
        "reference:\n",
        "\n",
        "[1] https://saturncloud.io/blog/how-to-split-text-in-a-column-into-multiple-rows-using-pandas/\n",
        "\n",
        "[2] joing list of words into a string: https://stackoverflow.com/questions/67560768/join-list-element-after-split-into-str"
      ]
    },
    {
      "cell_type": "code",
      "execution_count": 10,
      "metadata": {},
      "outputs": [],
      "source": [
        "def spilt_into_smaller_descriptions(examples):\n",
        "    res = []\n",
        "    index = 0\n",
        "    num_words_per_chunk = 359\n",
        "    total_chunks = examples[\"description\"].split()\n",
        "    total_len = examples[\"description_length\"]\n",
        "    while index < total_len:\n",
        "        chunk = ' '.join(total_chunks[index: index+num_words_per_chunk]) \n",
        "                        # the elem with index = index + num_words_per_chunk \n",
        "                        # is excluded\n",
        "        res.append(chunk)\n",
        "        index = index + num_words_per_chunk\n",
        "    last_chunk = ' '.join(total_chunks[index - num_words_per_chunk: total_len])\n",
        "    res.append(last_chunk)\n",
        "    return {\n",
        "        \"description\": res\n",
        "    }"
      ]
    },
    {
      "cell_type": "code",
      "execution_count": 73,
      "metadata": {},
      "outputs": [
        {
          "data": {
            "text/plain": [
              "Dataset({\n",
              "    features: ['title', 'description', 'ipc', 'description_length'],\n",
              "    num_rows: 20\n",
              "})"
            ]
          },
          "execution_count": 73,
          "metadata": {},
          "output_type": "execute_result"
        }
      ],
      "source": [
        "# reference: https://discuss.huggingface.co/t/how-can-i-grab-the-first-n-rows-of-a-dataset-as-a-dataset-object/33093/2\n",
        "# small_sample = description_dataset.select(range(20))\n",
        "small_sample = description_dataset.select(range(20))\n",
        "small_sample"
      ]
    },
    {
      "cell_type": "code",
      "execution_count": 74,
      "metadata": {},
      "outputs": [],
      "source": [
        "# small_sample[0]"
      ]
    },
    {
      "cell_type": "code",
      "execution_count": 75,
      "metadata": {},
      "outputs": [
        {
          "name": "stderr",
          "output_type": "stream",
          "text": [
            "Map: 100%|██████████| 20/20 [00:00<00:00, 380.16 examples/s]\n"
          ]
        }
      ],
      "source": [
        "sm_description_dataset = small_sample.map(spilt_into_smaller_descriptions)"
      ]
    },
    {
      "cell_type": "code",
      "execution_count": 76,
      "metadata": {},
      "outputs": [],
      "source": [
        "# sm_description_dataset[0]"
      ]
    },
    {
      "cell_type": "code",
      "execution_count": 77,
      "metadata": {},
      "outputs": [],
      "source": [
        "# description_dataset = description_dataset.map(spilt_into_smaller_descriptions)"
      ]
    },
    {
      "cell_type": "markdown",
      "metadata": {},
      "source": [
        "convert to dataframe to use `explode`"
      ]
    },
    {
      "cell_type": "code",
      "execution_count": 78,
      "metadata": {},
      "outputs": [],
      "source": [
        "# small_sample.set_format(\"pandas\")\n",
        "# df_small_sample = small_sample[:]\n",
        "\n",
        "# description_dataset.set_format(\"pandas\")\n",
        "# df_description_dataset = description_dataset[:]\n",
        "\n",
        "sm_description_dataset\n",
        "sm_description_dataset.set_format(\"pandas\")\n",
        "df_sm_description_dataset = sm_description_dataset[:]"
      ]
    },
    {
      "cell_type": "code",
      "execution_count": 79,
      "metadata": {},
      "outputs": [
        {
          "data": {
            "text/html": [
              "<div>\n",
              "<style scoped>\n",
              "    .dataframe tbody tr th:only-of-type {\n",
              "        vertical-align: middle;\n",
              "    }\n",
              "\n",
              "    .dataframe tbody tr th {\n",
              "        vertical-align: top;\n",
              "    }\n",
              "\n",
              "    .dataframe thead th {\n",
              "        text-align: right;\n",
              "    }\n",
              "</style>\n",
              "<table border=\"1\" class=\"dataframe\">\n",
              "  <thead>\n",
              "    <tr style=\"text-align: right;\">\n",
              "      <th></th>\n",
              "      <th>title</th>\n",
              "      <th>description</th>\n",
              "      <th>ipc</th>\n",
              "      <th>description_length</th>\n",
              "    </tr>\n",
              "  </thead>\n",
              "  <tbody>\n",
              "    <tr>\n",
              "      <th>0</th>\n",
              "      <td>METHOD FOR MULTIPLEX NUCLEIC ACID ANALYSIS</td>\n",
              "      <td>FIELD OF INVENTIONThe present invention relate...</td>\n",
              "      <td>C</td>\n",
              "      <td>47423</td>\n",
              "    </tr>\n",
              "    <tr>\n",
              "      <th>1</th>\n",
              "      <td>METHOD FOR MULTIPLEX NUCLEIC ACID ANALYSIS</td>\n",
              "      <td>kits based on the present invention may be sui...</td>\n",
              "      <td>C</td>\n",
              "      <td>47423</td>\n",
              "    </tr>\n",
              "    <tr>\n",
              "      <th>2</th>\n",
              "      <td>METHOD FOR MULTIPLEX NUCLEIC ACID ANALYSIS</td>\n",
              "      <td>example, the presence, absence or quantity of ...</td>\n",
              "      <td>C</td>\n",
              "      <td>47423</td>\n",
              "    </tr>\n",
              "    <tr>\n",
              "      <th>3</th>\n",
              "      <td>METHOD FOR MULTIPLEX NUCLEIC ACID ANALYSIS</td>\n",
              "      <td>the stuffer sequence may have about 1 to about...</td>\n",
              "      <td>C</td>\n",
              "      <td>47423</td>\n",
              "    </tr>\n",
              "  </tbody>\n",
              "</table>\n",
              "</div>"
            ],
            "text/plain": [
              "                                        title  \\\n",
              "0  METHOD FOR MULTIPLEX NUCLEIC ACID ANALYSIS   \n",
              "1  METHOD FOR MULTIPLEX NUCLEIC ACID ANALYSIS   \n",
              "2  METHOD FOR MULTIPLEX NUCLEIC ACID ANALYSIS   \n",
              "3  METHOD FOR MULTIPLEX NUCLEIC ACID ANALYSIS   \n",
              "\n",
              "                                         description ipc  description_length  \n",
              "0  FIELD OF INVENTIONThe present invention relate...   C               47423  \n",
              "1  kits based on the present invention may be sui...   C               47423  \n",
              "2  example, the presence, absence or quantity of ...   C               47423  \n",
              "3  the stuffer sequence may have about 1 to about...   C               47423  "
            ]
          },
          "execution_count": 79,
          "metadata": {},
          "output_type": "execute_result"
        }
      ],
      "source": [
        "# df_small_sample_explode = df_small_sample.explode(\"description\", ignore_index=True)\n",
        "# df_small_sample_explode.head(4)\n",
        "\n",
        "# df_description_dataset_explode = df_description_dataset.explode(\"description\", ignore_index=True)\n",
        "# df_description_dataset_explode.head(4)\n",
        "\n",
        "df_sm_description_dataset_explode = df_sm_description_dataset.explode(\"description\", ignore_index=True)\n",
        "df_sm_description_dataset_explode.head(4)"
      ]
    },
    {
      "cell_type": "markdown",
      "metadata": {},
      "source": [
        "Convert the dataframe back to dataset "
      ]
    },
    {
      "cell_type": "code",
      "execution_count": 80,
      "metadata": {},
      "outputs": [
        {
          "data": {
            "text/plain": [
              "Dataset({\n",
              "    features: ['title', 'description', 'ipc', 'description_length'],\n",
              "    num_rows: 843\n",
              "})"
            ]
          },
          "execution_count": 80,
          "metadata": {},
          "output_type": "execute_result"
        }
      ],
      "source": [
        "# description_dataset = Dataset.from_pandas(df_description_dataset_explode)\n",
        "# description_dataset\n",
        "\n",
        "sm_description_dataset = Dataset.from_pandas(df_sm_description_dataset_explode)\n",
        "sm_description_dataset"
      ]
    },
    {
      "cell_type": "markdown",
      "metadata": {},
      "source": [
        "# Creating text embeddings"
      ]
    },
    {
      "cell_type": "code",
      "execution_count": 81,
      "metadata": {
        "id": "yKcqAREOVh32"
      },
      "outputs": [],
      "source": [
        "from transformers import AutoTokenizer, AutoModel\n",
        "model_ckpt = \"sentence-transformers/multi-qa-mpnet-base-dot-v1\"\n",
        "tokenizer = AutoTokenizer.from_pretrained(model_ckpt)\n",
        "model = AutoModel.from_pretrained(model_ckpt)"
      ]
    },
    {
      "cell_type": "code",
      "execution_count": 82,
      "metadata": {
        "id": "nX3lDtF-Vh32"
      },
      "outputs": [
        {
          "data": {
            "text/plain": [
              "MPNetModel(\n",
              "  (embeddings): MPNetEmbeddings(\n",
              "    (word_embeddings): Embedding(30527, 768, padding_idx=1)\n",
              "    (position_embeddings): Embedding(514, 768, padding_idx=1)\n",
              "    (LayerNorm): LayerNorm((768,), eps=1e-05, elementwise_affine=True)\n",
              "    (dropout): Dropout(p=0.1, inplace=False)\n",
              "  )\n",
              "  (encoder): MPNetEncoder(\n",
              "    (layer): ModuleList(\n",
              "      (0-11): 12 x MPNetLayer(\n",
              "        (attention): MPNetAttention(\n",
              "          (attn): MPNetSelfAttention(\n",
              "            (q): Linear(in_features=768, out_features=768, bias=True)\n",
              "            (k): Linear(in_features=768, out_features=768, bias=True)\n",
              "            (v): Linear(in_features=768, out_features=768, bias=True)\n",
              "            (o): Linear(in_features=768, out_features=768, bias=True)\n",
              "            (dropout): Dropout(p=0.1, inplace=False)\n",
              "          )\n",
              "          (LayerNorm): LayerNorm((768,), eps=1e-05, elementwise_affine=True)\n",
              "          (dropout): Dropout(p=0.1, inplace=False)\n",
              "        )\n",
              "        (intermediate): MPNetIntermediate(\n",
              "          (dense): Linear(in_features=768, out_features=3072, bias=True)\n",
              "          (intermediate_act_fn): GELUActivation()\n",
              "        )\n",
              "        (output): MPNetOutput(\n",
              "          (dense): Linear(in_features=3072, out_features=768, bias=True)\n",
              "          (LayerNorm): LayerNorm((768,), eps=1e-05, elementwise_affine=True)\n",
              "          (dropout): Dropout(p=0.1, inplace=False)\n",
              "        )\n",
              "      )\n",
              "    )\n",
              "    (relative_attention_bias): Embedding(32, 12)\n",
              "  )\n",
              "  (pooler): MPNetPooler(\n",
              "    (dense): Linear(in_features=768, out_features=768, bias=True)\n",
              "    (activation): Tanh()\n",
              "  )\n",
              ")"
            ]
          },
          "execution_count": 82,
          "metadata": {},
          "output_type": "execute_result"
        }
      ],
      "source": [
        "import torch\n",
        "\n",
        "device = torch.device(\"cuda\")\n",
        "model.to(device)"
      ]
    },
    {
      "cell_type": "markdown",
      "metadata": {},
      "source": [
        " > As we mentioned earlier, we’d **like to represent each entry in our GitHub issues corpus as a single vector**, so we **need to “pool” or average our token embeddings** in some way. One popular approach is to **perform CLS pooling on our model’s outputs**, where we **simply collect the last hidden state for the special [CLS] token**. The following function does the trick for us:"
      ]
    },
    {
      "cell_type": "code",
      "execution_count": 83,
      "metadata": {
        "id": "5fDzb5SWVh32"
      },
      "outputs": [],
      "source": [
        "def cls_pooling(model_output):\n",
        "    return model_output.last_hidden_state[:, 0]"
      ]
    },
    {
      "cell_type": "markdown",
      "metadata": {},
      "source": [
        "> Next, we’ll create a helper function that will tokenize a list of documents, place the tensors on the GPU, feed them to the model, and finally apply CLS pooling to the outputs:"
      ]
    },
    {
      "cell_type": "code",
      "execution_count": 84,
      "metadata": {
        "id": "7vnrkBahVh32"
      },
      "outputs": [],
      "source": [
        "def get_embeddings(text_list):\n",
        "    # encoded_input = tokenizer(\n",
        "    #     text_list, padding=True, truncation=True, return_tensors=\"pt\"\n",
        "    # )\n",
        "    encoded_input = tokenizer(\n",
        "        text_list, padding=True, truncation=True, return_tensors=\"pt\"\n",
        "    )\n",
        "    encoded_input = {k: v.to(device) for k, v in encoded_input.items()}\n",
        "    model_output = model(**encoded_input)\n",
        "    return cls_pooling(model_output)"
      ]
    },
    {
      "cell_type": "code",
      "execution_count": 85,
      "metadata": {
        "id": "27el6788Vh32",
        "outputId": "7ba1f604-edf1-434f-9ab5-5919fc13c3a4"
      },
      "outputs": [
        {
          "data": {
            "text/plain": [
              "torch.Size([1, 768])"
            ]
          },
          "execution_count": 85,
          "metadata": {},
          "output_type": "execute_result"
        }
      ],
      "source": [
        "# embedding = get_embeddings(comments_dataset[\"text\"][0])\n",
        "# embedding.shape\n",
        "\n",
        "# embedding = get_embeddings(description_dataset[\"description\"][0])\n",
        "# embedding.shape\n",
        "\n",
        "embedding = get_embeddings(sm_description_dataset[\"description\"][0])\n",
        "embedding.shape"
      ]
    },
    {
      "cell_type": "code",
      "execution_count": 86,
      "metadata": {
        "id": "dO9LHydvVh32"
      },
      "outputs": [
        {
          "name": "stderr",
          "output_type": "stream",
          "text": [
            "Map: 100%|██████████| 843/843 [00:21<00:00, 38.44 examples/s]\n"
          ]
        }
      ],
      "source": [
        "# embeddings_dataset = comments_dataset.map(\n",
        "#     lambda x: {\"embeddings\": get_embeddings(x[\"text\"]).detach().cpu().numpy()[0]}\n",
        "# )\n",
        "embeddings_dataset = sm_description_dataset.map(\n",
        "    lambda x: {\"embeddings\": get_embeddings(x[\"description\"]).detach().cpu().numpy()[0]}\n",
        ")"
      ]
    },
    {
      "cell_type": "code",
      "execution_count": 87,
      "metadata": {
        "id": "7RbZJfVZVh32"
      },
      "outputs": [
        {
          "name": "stderr",
          "output_type": "stream",
          "text": [
            "100%|██████████| 1/1 [00:00<00:00, 325.11it/s]\n"
          ]
        },
        {
          "data": {
            "text/plain": [
              "Dataset({\n",
              "    features: ['title', 'description', 'ipc', 'description_length', 'embeddings'],\n",
              "    num_rows: 843\n",
              "})"
            ]
          },
          "execution_count": 87,
          "metadata": {},
          "output_type": "execute_result"
        }
      ],
      "source": [
        "embeddings_dataset.add_faiss_index(column=\"embeddings\")"
      ]
    },
    {
      "cell_type": "code",
      "execution_count": 88,
      "metadata": {
        "id": "0TYuteMRVh32",
        "outputId": "06a98363-a102-4efa-9f1d-7c0666471847"
      },
      "outputs": [
        {
          "data": {
            "text/plain": [
              "(1, 768)"
            ]
          },
          "execution_count": 88,
          "metadata": {},
          "output_type": "execute_result"
        }
      ],
      "source": [
        "# question = \"How can I load a dataset offline?\"\n",
        "question = \"How to test nucleic acids in a sample\"\n",
        "question_embedding = get_embeddings([question]).cpu().detach().numpy()\n",
        "question_embedding.shape"
      ]
    },
    {
      "cell_type": "code",
      "execution_count": 89,
      "metadata": {
        "id": "42Mxc3zUVh32"
      },
      "outputs": [],
      "source": [
        "scores, samples = embeddings_dataset.get_nearest_examples(\n",
        "    \"embeddings\", question_embedding, k=5\n",
        ")\n",
        "\n",
        "# Loaded version\n",
        "# scores, samples = load_dataset.get_nearest_examples(\n",
        "#     \"embeddings\", question_embedding, k=5\n",
        "# )"
      ]
    },
    {
      "cell_type": "code",
      "execution_count": 90,
      "metadata": {},
      "outputs": [],
      "source": [
        "# samples"
      ]
    },
    {
      "cell_type": "code",
      "execution_count": 91,
      "metadata": {
        "id": "CEY-C86lVh32"
      },
      "outputs": [],
      "source": [
        "import pandas as pd\n",
        "\n",
        "samples_df = pd.DataFrame.from_dict(samples)\n",
        "samples_df[\"scores\"] = scores\n",
        "samples_df.sort_values(\"scores\", ascending=False, inplace=True)"
      ]
    },
    {
      "cell_type": "code",
      "execution_count": 92,
      "metadata": {},
      "outputs": [],
      "source": [
        "# samples_df"
      ]
    },
    {
      "cell_type": "code",
      "execution_count": 93,
      "metadata": {
        "id": "YNm1oWXmVh32",
        "outputId": "249ba260-bbd1-4e3d-f99e-148f29e721aa"
      },
      "outputs": [
        {
          "name": "stdout",
          "output_type": "stream",
          "text": [
            "TITLE: POLYMER-BIOACTIVE AGENT CONJUGATES\n",
            "SCORE: 34.82658767700195\n",
            "DESCRIPTION: (s, 1H, H-2); 8.07-7.97 (m, 1H, H-5); 7.41-7.30 (m, 1H, H-8); 3.57-3.46 (m, CH of cyclopropane ring); 3.41-3.24 (m, 4H, 2xCH2 of piperazine); 2.74-2.58 (m, 2xCH2 of piperazine); 2.44-2.33 (m, 2H, CH2N); 1.65-1.45 (m, 2H, CH2); 1.45-1.28 (m, 2H, CH2 of cyclopropane ring); 1.28-1.12 (m, 2H, CH2 of cyclopropane ring); 0.94 (t, 3H, CH3) MS (CH2Cl2) 374 [M+ 1] 747 [2M+1]b) (2,2-dimethyl-1,3-dioxolan-4-yl)methyl 1-cyclopropyl-6-fluoro-4-oxo-7-(4-propylpiperazin-1-yl)-1,4-dihydroquinoline-3-carboxylate1-cyclopropyl-6-fluoro-4-oxo-7-(4-propylpiperazin-1-yl)-1,4-dihydroquinoline-3-carboxylic acid (8.86 g, 23.70 mmol) was dissolved in anhydrous dichloromethane (370 ml) under argon. 2,2-dimethyl-1,3-dioxolane-4-methanol (4.71 g, 35.60 mmol), triethylamine (9.59 g, 94.80 mmol) and HBTU (9.90 g, 26.10 mmol) were added and the reaction mixture was stirred at room temperature for three days (exclusion of light). The reaction mixture was washed with saturated NaHCO3 solution (500 ml), aqueous (pH 5) hydrochloric acid (500 ml) and water (500 ml) successively. The organic layer was dried over Na2SO4 and the solvent was removed under reduced pressure, yielding 10.28 g (89 %) of a yellow solid.1H-NMR (CDCl3, 400 MHz): δ[ppm] = 8.53 (s, 1H, H-2); 8.09-7.95 (m,1H, H-5); 7.32-7.17 (m, H-8); 4.51-4.41 (m, 1H, CH); 4.41-4.31 (m, 2H, 1H of CH2O+ 1H of CH2O); 4.19-4.09 (m, 1H, CH2O); 3.98-3.86 (m, 1H, CH2O); 3.50-3.36 (m, 1H of cyclopropane ring); 3.36-3.15 (m, 4H, 2xCH2 of piperazine); 2.76-2.61 (m, 4H, 2xCH2 of piperazine); 2.49-2.31 (m, 2H, CH2N); 1.72-1.48 (m, 2H, CH2CH2CH3); 1.44 (s, 3H, CH3), 1.36 (s, 3H, CH3); 1.33-1.25 (m, 2H, CH2 of cyclopropane); 1.16-1.03 (m, 2H, CH2 of cyclopropane); 0.93 (t, 3H, CH3)c) 2,3-dihydroxypropyl 1-cyclopropyl-6-fluoro-4-oxo-7-(4-propylpiperazin-1-yl)-1,4-dihydroquinoline-3-carboxylate(2,2-dimethyl-1,3-dioxolan-4-yl)methyl 1-cyclopropyl-6-fluoro-4-oxo-7-(4-propylpiperazin-1-yl)-1,4-dihydroquinoline-3-carboxylate (2.45 g, 5.03 mmol) was dissolved in anhydrous dichloromethane (245 ml) under argon. A 1 M solution of boron trichloride in dichloromethane (6.3 ml, 6.30 mmol) was added dropwise and the reaction mixture was stirred at room temperature for 1 h. Methanol (25 ml) was added to the reaction mixture and the volatiles were removed under reduced pressure. The crude product was purified through flash column chromatography (5% MeOH in CHCl3) giving a yellow oil (1.58 g, 3.53 mmol, 70 %). MS (MeOH): 448.3 [M+1]Levofloxacin (9-fluoro-3-methyl-10-(4-methylpiperazin-1-yl)-7-oxo-3,7-dihydro-2H-[1,4]oxazino[2,3,4-ij]quinoline-6-carboxylic acidExample 7: 2,3-dihydroxypropyl 9-fluoro-3-methyl-10-(-4-methylpiperazin-1-yl)-7-oxo-3,7-dihydro-2H-[1,4]oxazino[2,3,4-ij]quinoline-6-carboxylatea) (2,2-dimethyl-1,3-dioxolan-4-yl)methyl 9-fluoro-3-methyl-10-(4-methylpipirazin-1-yl)-7-oxo-3,7-dihydro-2H-[1,4]oxazino[2,3,4-ij]quinoline-6-carboxylate(9-fluoro-3-methyl-10-(4-methylpiperazin-1-yl)-7-oxo-3,7-dihydro-2H-[1,4]oxazino[2,3,4-ij]quinoline-6-carboxylic acid (10.00 g, 27.7 mmol), was dissolved in CH2Cl2 (500 ml) under argon. 2,2-dimethyl-1,3-dioxolane-4-methanol (5.49 g, 41.5 mmol) triethylamine (11.21 g,\n",
            "==================================================\n",
            "\n",
            "TITLE: POLYMER-BIOACTIVE AGENT CONJUGATES\n",
            "SCORE: 34.536468505859375\n",
            "DESCRIPTION: and cooled to 0°C (ice/water bath). Benzyloxycarbonyl chloride (0.40 ml, 0.48 g, 2.8 mmol) was added dropwise. The reaction mixture was stirred at 0°C for 1 h and then gradually warmed to room temperature and stirred for another 16 h. After that the reaction mixture was brought to pH 5 through dropwise addition of 2N HCl solution. The reaction mixture was extracted with CHCl3 (3 x 50 ml). The combined organic layers were dried over Na2SO4 and the solvent was removed under reduced pressure. The crude product was purified through crystallisation from acetonitrile to give a colourless solid (0.23 g, 0.49 mmol, 49 %)1H-NMR (CDCl3, 400 MHz): δ[ppm] = 8.78 (s, 1H, H-2); 8.10-8.00 (m, 1H, H-5); 7.44-7.28 (m, 6H, 1H of H-8+5H of ArH); 5.17 (s, 2H, ArCH2); 3.81-3.63 (m, 4H, 2xCH2 of piperazine); 3.56-3.46 (m, 1H of cyclopropane); 3.38-3.23 (m, 4H, 2xCH2 of piperazine); 1.44-1.33 (m, 2H, CH2 of cyclopropane); 1.24-1.13 (m, 2H, CH2 of cyclopropane)b) (2,2-dimethyl-1,3-dioxolan-4-yl)methyl 7-(4-(benzyloxycarbonyl)piperazin-1-yl)-1-cyclopropyl-6-fluoro-4-oxo-1,4-dihydroquinoline-3-carboxylate7-(4-(benzyloxycarbonyl)piperazin-1-yl)-1-cyclopropyl-6-fluoro-4-oxo-1,4-dihydroquinoline-3-carboxylic acid (0.47 g, 1.0 mmol) was dissolved in anhydrous CH2Cl2 (47 ml) under argon. 2,2-dimethyl-1,3-dioxolane-4-methanol (0.20 g, 1.5 mmol) triethylamine (0.40 g, 4.0 mmol) and O-benzotriazol-1-yl-N,N,N',N'-trimethyluronium hexafluorophosphate (0.42 g, 1.1 mmol) were added successively. The reaction mixture was stirred under argon for 72 h. The reaction mixture was washed with saturated NaHCO3 solution (1 x 50 ml), water (1 x 50 ml) and dried over Na2SO4. The organic solvent was removed under reduced pressuregiving a pale, pink solid (0.54 g, 0.93 mmol, 93 %).1H-NMR (CDCl3, 400 MHz): δ[ppm] = 8.56 (s, 1H, H-2); 8.10-7.97 (m, 1H, H-5); 7.42-7.13 (m, 6H, 5xArH+1H of H-8); 5.16 (s, 2H, ArCH2O); 4.52-4.40 (m, 1H, CH); 4.40-4.30 (m, 2H, 1H of CH2O+1H of CH2O); 4.08-3.96 (m, 1H, 1H of CH2O); 3.86-3.81 (m, 1H, 1H of CH2O); 3.62-3.51 (m, 4H, 2xCH2 of piperazine); 3.37-3.33 (m, 1H, CH of cyclopropane); 3.31-3.14 (m, 4H, 2xCH2 of piperazine); 1.44 (s, 3H, CH3); 1.36 (s, 3H, CH3); 1.34-1.26 (m, CH2 of cyclopropane); 1.26-1.03 (m, CH2 of cyclopropane) MS (MeCN) 580 [M+ 1] 602 [M+23]c) 2,3-dihydroxypropyl 7-(4-(benzyloxycarbonyl)piperazin-1-yl)-1-cyclopropyl-6-fluoro-4-oxo-1,4-dihydroquinoline-3-carboxylate(2,2-dimethyl-1,3-dioxolan-4-yl)methyl 7-(4-(benzyloxycarbonyl)piperazin-1-yl)-1-cyclopropyl-6-fluoro-4-oxo-1,4-dihydroquinoline-3-carboxylate (2.85 g, 4.9 mmol) was dissolved in 95 % aqueous ehanol (100 ml). After addition of amberlyst 15 (wet) ion exchange resion\n",
            "==================================================\n",
            "\n",
            "TITLE: POLYMER-BIOACTIVE AGENT CONJUGATES\n",
            "SCORE: 34.2430419921875\n",
            "DESCRIPTION: giving a yellow solid (0.35 g, 88 %)1H-NMR (CDCl3, 400 MHz): δ[ppm] = 8.67 (s, H-5); 7.56-7.40 (m, H-8); 4.71-4.56 (m, 1H, H-3 of benzoxazine ring); 4.56-4.33 (m, 3H, 2H of NHCHCH2O+1H of CH2OCO); 4.33-4.21 (m, 1H, CH2OCO); 4.02-3.91 (m, 1H, CHOH); 3.57-3.52 (m, 2H, CH2OH); 3.52-3.34 (m, 4H, 2xCH2 piperazine); 2.85-2.56 (m, 4H, 2xCH2 piperazine); 2.43 (s, 3H, NHCH3); 1.52 (d, 3H, CH3). MS (MeOH) 436 [M+ 1] 458 [M+23]Example 8: (S)-1,3-dihydroxypropan-2-yl 9-fluoro-3-methyl-10-(4-methylpiperazin-1-yl)-7-oxo-3,7-dihydro-2H-[1,4]oxazino[2,3,4-ij]quinoline-6-carboxylatea) (S)-2-phenyl-1,3-dioxan-5-yl 9-fluoro-3-methyl-10-(4-methylpiperazin-1-yl)-7-oxo-3,7-dihydro-2H-[1,4]oxazino[2,3,4-ij]quinoline-6-carboxylate(S)-9-fluoro-3-methyl-10-(4-methylpiperazin-1-yl)-7-oxo-3,7-dihydro-2H-[1,4] oxazino [2,3,4-ij] quinoline-6-carboxylic acid (4.18 g, 11.56 mmol) was dissolved in anhydrous dichloromethane (210 ml) under argon. 1,3-O-benzylideneglycerol (2.50 g, 13.67 mmol), triethylamine (4.68 g, 46.24 mmol) and HBTU (4.38 g, 11.56 mmol) were added successively. The reaction mixture was stirred at room temperature (exclusion of light) for 3 days. The reaction mixture was washed with saturated NaHCO3 solution (500 ml), aqueous (pH 5) hydrochloric acid (500 ml) and water (500 ml) successively. The organic layer was dried over Na2SO4 and the solvent was removed under reduced pressure. The crude product was purified through flash column chromatography (SiO2/10 % MeOH in CHCl3) yielding 4.32 g, 71 %) of a yellow, crystalline solid.1H-NMR (CDCl3, 400 MHz): δ[ppm] = 8.22 (s, 1H, H-5); 7.64-7.52 (m, 1H, H-8); 7.46-7.31 (m,4H, ArH); 7.10 (d, 1H, ArH); 5.65 (s, 1H, CHOCO); 4.91 (s, 1H, ArCH); 4.64-4.01 (m, 7H, 1H of CHN+2H of CH2O+4H of 2xCH2O); 3.38-3.22 (m, 2xCH2 of piperazine ring); 2.62-2.43 (m, 4H, 2xCH2 of piperazine ring); 2.36 (s, NCH3); 0.95 (d, 3H, CHCH3) MS (MeOH) 524 [M+1] 546 [M+23]b) (S)-1,3-dihydroxypropan-2-yl 9-fluoro-3-methyl-10-(4-methylpiperazin-1-yl)-7-oxo-3,7-dihydro-2H-[1,4]oxazino[2,3,4-ij]quinoline-6-carboxylate(S)-2-phenyl-1,3-dioxan-5-yl 9-fluoro-3-methyl-10-(4-methylpiperazin-1-yl)-7-oxo-3,7-dihydro-2H-[1,4]oxazino[2,3,4-ij]quinoline-6-carboxylate (0.50 g, 9.55 mmol), was dissolved in a mixture of dichloromethane/methanol (2:1.5, 87.5 ml) under argon. Palladium catalyst (10 wt % Pd/C) (180 mg) was added, the flask was evacuated and allowed to stir 1 atm of hydrogen gas at room temperature for 16 hours. The crude reaction mixture was passed through a glass microfiber on a sintered funnel. The volatiles were removed under reduced pressure yielding 370 mg (88%) of a yellow gum1H-NMR (CDCl3, 400 MHz): δ[ppm] = 8.72 (s, 1H), 7.57 (dd, 1H, J1 = 12.6 Hz, J2 = 1.8 Hz), 4.67-4.60 (m, 1H), 4.55-4.49 (m, 1H), 4.41-4.35 (m, 2H), 4.31-4.25 (m,\n",
            "==================================================\n",
            "\n",
            "TITLE: METHOD FOR MULTIPLEX NUCLEIC ACID ANALYSIS\n",
            "SCORE: 33.87230682373047\n",
            "DESCRIPTION: nucleic acids include those with positive backbones, non-ionic backbones, and non-ribose backbones. See, e.g., Denpcy et al., 1995, Proc. Natl. Acad. Sci. USA 92:6097; Jeffs et al., 1994, J. Biomolecular NMR 34:17; U.S. Pat. Nos. 5,386,023, 5,235,033 and 5,034,506. Modifications of the ribose-phosphate backbone may be done to facilitate the addition of labels, or to increase the stability and half-life of such molecules in physiological environments.In some embodiments, peptide nucleic acids (PNA) may be used for nucleic acids in the present invention. The PNA backbones are substantially non-ionic under neutral conditions, in contrast to the highly charged phosphodiester backbone of naturally occurring nucleic acids. This results in two advantages. First, the PNA backbone exhibits improved hybridization kinetics. PNAs have larger changes in the melting temperature (Tm) for mismatched versus perfectly matched basepairs. DNA and RNA typically exhibit a 2-4°C drop in Tm for an internal mismatch. With the non-ionic PNA backbone, the drop is closer to 7-9°C. This allows for better detection of mismatches. Similarly, due to their non-ionic nature, hybridization of the bases attached to these backbones is relatively insensitive to salt concentration.Nucleic acids may be single stranded or double stranded, as specified, or contain portions of both double stranded or single stranded sequence. Nucleic acids may be DNA, genomic DNA, cDNA, RNA or a hybrid. Nucleic acids may contain any combination of deoxyribo- and ribo-nucleotides, and any combination of bases, including uracil, adenine, thymine, cytosine, guanine, inosine, xanthanine, hypoxanthine, isocytosine, isoguanine, etc. In one embodiment, nucleic acids utilize isocytosine and isoguanine in nucleic acids designed to be complementary to other probes, rather than target sequences, as this reduces non-specific hybridization, as is generally described in U.S. Patent No. 5,681,702. As used herein, the term \"nucleoside\" includes nucleotides as well as nucleoside and nucleotide analogs, and modified nucleosides such as amino modified nucleosides. In addition, \"nucleoside\" includes non-naturally occurring analog structures. Thus, for example, the individual units of a peptide nucleic acid, each containing a base, are referred to herein as a nucleoside.In some embodiments, the methods according to the present invention are directed to the multiplexed detection of target nucleic acids. The term \"target nucleic acid\" or\n",
            "==================================================\n",
            "\n",
            "TITLE: METHOD FOR MULTIPLEX NUCLEIC ACID ANALYSIS\n",
            "SCORE: 33.4687385559082\n",
            "DESCRIPTION: example, the presence, absence or quantity of more than about 48, 96, 192, 384 or more target nucleic acids in the sample may be assayed in a multiplexed manner. The probes corresponding to all the target nucleic acids may be added to the sample and a single ligation reaction is performed to obtain ligation products for all the target nucleic acids.The sample to be assayed may be a sample of a bodily fluid, a biopsy tissue, or a paraffin-embedded tissue from an animal. The bodily fluid may be blood, plasma, serum, urine, sputum, spinal fluid, cerebrospinal fluid, pleural fluid, nipple aspirates, lymph fluid, fluid of the respiratory, intestinal, or genitourinary tracts, tear fluid, saliva, breast milk, fluid from the lymphatic system, semen, cerebrospinal fluid, intra-organ system fluid, ascitic fluid, tumor cyst fluid, amniotic fluid, or combinations thereof from an animal, e.g., a human.In some embodiments, nucleic acids are extracted from the sample before forming a mixture with the set of probes. The target nucleic acid may be DNA, RNA, or cDNA. The RNA may be reverse transcribed into cDNA before forming a mixture with the set of probes.In some embodiments, at least one primer of the set of primers is labeled with a detectable moiety, e.g., an oligonucleotide tag or a fluorescent dye. The fluorescent dye may be FAM (5-or 6-carboxyfluorescein), VIC, NED, PET, Fluorescein, FITC, IRD-700/800, CY3, CY5, CY3.5, CY5.5, HEX, TET, TAMRA, JOE, ROX, BODIPY TMR, Oregon Green, Rhodamine Green, Rhodamine Red, Texas Red, or Yakima Yellow. In other embodiments, at least one primer of the set of primers includes a stuffer sequence. The stuffer sequence in some primers may have about 10 to about 500 nucleotides. The stuffer sequence in other primers may be about 10 to about 60 nucleotides. In some preferred embodiments, no primer has more than about 125 nucleotides, preferably about 75 nucleotides. In still other embodiments, at least one primer of the set of primers includes an oligonucleotide comprising a sequence GTTTCTT or a functional equivalent variant of the oligonucleotide comprising a sequence GTTTCTT.In further embodiments, at least one probe of the set of probes includes a stuffer sequence. In some instances,\n",
            "==================================================\n",
            "\n"
          ]
        }
      ],
      "source": [
        "for _, row in samples_df.iterrows():\n",
        "    print(f\"TITLE: {row.title}\")\n",
        "    print(f\"SCORE: {row.scores}\")\n",
        "    print(f\"DESCRIPTION: {row.description}\")\n",
        "    print(\"=\" * 50)\n",
        "    print()"
      ]
    },
    {
      "cell_type": "markdown",
      "metadata": {},
      "source": [
        "# Save and reload FAISS database\n",
        "\n",
        "**references:**\n",
        "\n",
        "[1] https://huggingface.co/docs/datasets/v1.2.0/faiss_and_ea.html\n",
        "\n",
        "[2] https://discuss.huggingface.co/t/save-and-load-datasets/9260"
      ]
    },
    {
      "cell_type": "markdown",
      "metadata": {},
      "source": [
        "## Save"
      ]
    },
    {
      "cell_type": "code",
      "execution_count": 95,
      "metadata": {},
      "outputs": [
        {
          "name": "stderr",
          "output_type": "stream",
          "text": [
            "Saving the dataset (1/1 shards): 100%|██████████| 843/843 [00:00<00:00, 69585.89 examples/s]\n"
          ]
        }
      ],
      "source": [
        "sm_description_dataset.save_to_disk('./data_embeddings/epo_dataset1')"
      ]
    },
    {
      "cell_type": "code",
      "execution_count": 96,
      "metadata": {},
      "outputs": [],
      "source": [
        "# ds_with_embeddings.save_faiss_index('embeddings', 'my_index.faiss')\n",
        "embeddings_dataset.save_faiss_index('embeddings', './data_embeddings/epo_index1.faiss')"
      ]
    },
    {
      "cell_type": "markdown",
      "metadata": {},
      "source": [
        "## Load"
      ]
    },
    {
      "cell_type": "code",
      "execution_count": 7,
      "metadata": {},
      "outputs": [],
      "source": [
        "# ds = load_dataset('crime_and_punish', split='train[:100]')\n",
        "# ds.load_faiss_index('embeddings', 'my_index.faiss')\n",
        "from datasets import load_from_disk\n",
        "load_dataset = load_from_disk('./data_embeddings/epo_dataset')"
      ]
    },
    {
      "cell_type": "code",
      "execution_count": 8,
      "metadata": {},
      "outputs": [],
      "source": [
        "load_dataset.load_faiss_index('embeddings', './data_embeddings/epo_index.faiss')"
      ]
    },
    {
      "cell_type": "markdown",
      "metadata": {},
      "source": [
        "# Searching in multiple faiss database\n",
        "\n",
        "[1] https://huggingface.co/learn/cookbook/en/semantic_cache_chroma_vector_database"
      ]
    },
    {
      "cell_type": "code",
      "execution_count": 99,
      "metadata": {},
      "outputs": [
        {
          "name": "stdout",
          "output_type": "stream",
          "text": [
            "2\n"
          ]
        }
      ],
      "source": [
        "from datasets import load_from_disk\n",
        "load_all_dataset = []\n",
        "for i in range(2):\n",
        "    dataset_name = './data_embeddings/epo_dataset' + str(i+1)\n",
        "    loaded_dataset = load_from_disk(dataset_name)\n",
        "    dataset_faiss_name = './data_embeddings/epo_index' + str(i+1) + '.faiss'\n",
        "    loaded_dataset.load_faiss_index('embeddings', dataset_faiss_name)\n",
        "    load_all_dataset.append(loaded_dataset)\n",
        "print(len(load_all_dataset))"
      ]
    },
    {
      "cell_type": "code",
      "execution_count": 106,
      "metadata": {},
      "outputs": [
        {
          "name": "stdout",
          "output_type": "stream",
          "text": [
            "Dataset({\n",
            "    features: ['title', 'description', 'ipc', 'description_length'],\n",
            "    num_rows: 826\n",
            "}) METHOD FOR MULTIPLEX NUCLEIC ACID ANALYSIS\n"
          ]
        }
      ],
      "source": [
        "print(\n",
        "    load_all_dataset[1],\n",
        "    load_all_dataset[0]['title'][0]\n",
        ")"
      ]
    },
    {
      "cell_type": "code",
      "execution_count": 100,
      "metadata": {},
      "outputs": [
        {
          "data": {
            "text/plain": [
              "(1, 768)"
            ]
          },
          "execution_count": 100,
          "metadata": {},
          "output_type": "execute_result"
        }
      ],
      "source": [
        "question = \"How to test nucleic acids in a sample\"\n",
        "question_embedding = get_embeddings([question]).cpu().detach().numpy()\n",
        "question_embedding.shape"
      ]
    },
    {
      "cell_type": "code",
      "execution_count": 107,
      "metadata": {},
      "outputs": [],
      "source": [
        "\n",
        "all_scores = []\n",
        "all_samples = []\n",
        "for index, embeddings_dataset in enumerate(load_all_dataset):\n",
        "    scores, samples = embeddings_dataset.get_nearest_examples(\n",
        "    \"embeddings\", question_embedding, k=5\n",
        ")\n",
        "    all_scores.append(scores)\n",
        "    all_samples.append(samples)"
      ]
    },
    {
      "cell_type": "code",
      "execution_count": 108,
      "metadata": {},
      "outputs": [
        {
          "name": "stdout",
          "output_type": "stream",
          "text": [
            "TITLE: COMPOSITIONS COMPRISING BACTERIAL STRAINS\n",
            "SCORE: 37.041133880615234\n",
            "DESCRIPTION: <222> 749 <223> 'n' is a, c, g or t<220> <221> misc_feature <222> 749 <223> 'n' is a, c, g or t<400> 4 <210> 5 <211> 1458 <212> DNA <213> Blautia hydrogenotrophica<220> <221> misc_feature <222> 1416 <223> 'n' is a, c, g or t<220> <221> misc_feature <222> 1416 <223> 'n' is a, c, g or t<400> 5\n",
            "==================================================\n",
            "\n",
            "TITLE: POLYMER-BIOACTIVE AGENT CONJUGATES\n",
            "SCORE: 37.041133880615234\n",
            "DESCRIPTION: (s, 1H, H-2); 8.07-7.97 (m, 1H, H-5); 7.41-7.30 (m, 1H, H-8); 3.57-3.46 (m, CH of cyclopropane ring); 3.41-3.24 (m, 4H, 2xCH2 of piperazine); 2.74-2.58 (m, 2xCH2 of piperazine); 2.44-2.33 (m, 2H, CH2N); 1.65-1.45 (m, 2H, CH2); 1.45-1.28 (m, 2H, CH2 of cyclopropane ring); 1.28-1.12 (m, 2H, CH2 of cyclopropane ring); 0.94 (t, 3H, CH3) MS (CH2Cl2) 374 [M+ 1] 747 [2M+1]b) (2,2-dimethyl-1,3-dioxolan-4-yl)methyl 1-cyclopropyl-6-fluoro-4-oxo-7-(4-propylpiperazin-1-yl)-1,4-dihydroquinoline-3-carboxylate1-cyclopropyl-6-fluoro-4-oxo-7-(4-propylpiperazin-1-yl)-1,4-dihydroquinoline-3-carboxylic acid (8.86 g, 23.70 mmol) was dissolved in anhydrous dichloromethane (370 ml) under argon. 2,2-dimethyl-1,3-dioxolane-4-methanol (4.71 g, 35.60 mmol), triethylamine (9.59 g, 94.80 mmol) and HBTU (9.90 g, 26.10 mmol) were added and the reaction mixture was stirred at room temperature for three days (exclusion of light). The reaction mixture was washed with saturated NaHCO3 solution (500 ml), aqueous (pH 5) hydrochloric acid (500 ml) and water (500 ml) successively. The organic layer was dried over Na2SO4 and the solvent was removed under reduced pressure, yielding 10.28 g (89 %) of a yellow solid.1H-NMR (CDCl3, 400 MHz): δ[ppm] = 8.53 (s, 1H, H-2); 8.09-7.95 (m,1H, H-5); 7.32-7.17 (m, H-8); 4.51-4.41 (m, 1H, CH); 4.41-4.31 (m, 2H, 1H of CH2O+ 1H of CH2O); 4.19-4.09 (m, 1H, CH2O); 3.98-3.86 (m, 1H, CH2O); 3.50-3.36 (m, 1H of cyclopropane ring); 3.36-3.15 (m, 4H, 2xCH2 of piperazine); 2.76-2.61 (m, 4H, 2xCH2 of piperazine); 2.49-2.31 (m, 2H, CH2N); 1.72-1.48 (m, 2H, CH2CH2CH3); 1.44 (s, 3H, CH3), 1.36 (s, 3H, CH3); 1.33-1.25 (m, 2H, CH2 of cyclopropane); 1.16-1.03 (m, 2H, CH2 of cyclopropane); 0.93 (t, 3H, CH3)c) 2,3-dihydroxypropyl 1-cyclopropyl-6-fluoro-4-oxo-7-(4-propylpiperazin-1-yl)-1,4-dihydroquinoline-3-carboxylate(2,2-dimethyl-1,3-dioxolan-4-yl)methyl 1-cyclopropyl-6-fluoro-4-oxo-7-(4-propylpiperazin-1-yl)-1,4-dihydroquinoline-3-carboxylate (2.45 g, 5.03 mmol) was dissolved in anhydrous dichloromethane (245 ml) under argon. A 1 M solution of boron trichloride in dichloromethane (6.3 ml, 6.30 mmol) was added dropwise and the reaction mixture was stirred at room temperature for 1 h. Methanol (25 ml) was added to the reaction mixture and the volatiles were removed under reduced pressure. The crude product was purified through flash column chromatography (5% MeOH in CHCl3) giving a yellow oil (1.58 g, 3.53 mmol, 70 %). MS (MeOH): 448.3 [M+1]Levofloxacin (9-fluoro-3-methyl-10-(4-methylpiperazin-1-yl)-7-oxo-3,7-dihydro-2H-[1,4]oxazino[2,3,4-ij]quinoline-6-carboxylic acidExample 7: 2,3-dihydroxypropyl 9-fluoro-3-methyl-10-(-4-methylpiperazin-1-yl)-7-oxo-3,7-dihydro-2H-[1,4]oxazino[2,3,4-ij]quinoline-6-carboxylatea) (2,2-dimethyl-1,3-dioxolan-4-yl)methyl 9-fluoro-3-methyl-10-(4-methylpipirazin-1-yl)-7-oxo-3,7-dihydro-2H-[1,4]oxazino[2,3,4-ij]quinoline-6-carboxylate(9-fluoro-3-methyl-10-(4-methylpiperazin-1-yl)-7-oxo-3,7-dihydro-2H-[1,4]oxazino[2,3,4-ij]quinoline-6-carboxylic acid (10.00 g, 27.7 mmol), was dissolved in CH2Cl2 (500 ml) under argon. 2,2-dimethyl-1,3-dioxolane-4-methanol (5.49 g, 41.5 mmol) triethylamine (11.21 g,\n",
            "==================================================\n",
            "\n",
            "TITLE: USE OF RING-FUSED BICYCLIC PYRIDYL DERIVATIVES AS FGFR4 INHIBITORS\n",
            "SCORE: 36.868385314941406\n",
            "DESCRIPTION: temperature. After 15 min a solution of 6-amino-4-fluoronicotinonitrile (intermediate 21, 30 g, 219 mmol) in THF (200 ml) was added and the reaction mixture stirred for 18 h at room temperature. The reaction mixture was partitioned between saturated aqueous NH4Cl and EtOAc, extracted with EtOAc (2x), the combined EtOAc layers were dried over Na2SO4 and evaporated. The residue was triturated with Et2O and the product obtained by filtration as a yellow solid. 1H NMR (400 MHz, DMSO-d6) δ 8.12 (s, 1H), 6.82 (s, 2H), 6.07 (s, 1H), 4.64 (septet, 1H), 1.31 (d, 6H). (UPLC-MS 7) tR 0.61; ESI-MS 178.1 [M+H]+.Intermediate 81: 1-((2-(dimethoxymethyl)-5,6,7,8-tetrahydro-1,8-naphthyridin-3-yl)methyl)-4-methylpiperazin-2-one.Sodium triacetoxyborohydride (3.10 g, 14.61 mmol) was added to a mixture of 2-(dimethoxymethyl)-5,6,7,8-tetrahydro-1,8-naphthyridine-3-carbaldehyde (intermediate 41, 2.30 g, 9.74 mmol), ethyl 2-((2-aminoethyl)(methyl)amino)acetate dihydrochloride (intermediate 82, 2.6 g, 14.61 mmol) and triethylamine (6.75 ml, 48.7 mmol) in 1,2-dichloroethane (20 ml) at room temperature. The reaction mixture was stirred for 21 h at room temperature and additional sodium triacetoxyborohydride (2.6 g, 9.74 mmol) was added. After a further 4 h stirring at room temperature, again additional sodium triacetoxyborohydride (1.3 g, 4.87 mmol) was added and the reaction maintained at 4 °C for 2.5 days. The reaction mixture was then warmed to room temperature, saturated aqueous NaHCO3 solution added, the mixture extracted with DCM (3x), the combined organic layers dried over Na2SO4 and evaporated. The residue was applied to a 120 g RediSep® silica column as a DCM solution and purified by normal phase chromatography, eluting with a gradient from DCM to 10% MeOH in DCM. Product containing fractions were combined and evaporated to give the title compound as an orange foam. 1H NMR (400 MHz, COCl3) δ 7.08 (s, 1H), 5.30 (s, br, 1H), 5.20 (s, 1H), 4.69 (s, 2H), 3.44 - 3.34 (m, 2H), 3.40 (s, 6H), 3.22 - 3.15 (m, 2H), 3.24 (s, 2H), 2.71 - 2.64 (m, 2H), 2.58 - 2.50 (m, 2H), 2.31 (s, 3H), 1.98 - 1.82 (m, 2H). (UPLC-MS 6) tR 0.33; ESI-MS 335.3 [M+H]+.Intermediate 82: ethyl 2-((2-aminoethyl)(methyl)amino)acetate dihydrochloride.Concentrated hydrochloric acid (10 ml) was added to a solution of ethyl 2-((2-((tert-butoxycarbonyl)amino)ethyl)(methyl)amino)acetate (intermediate 83, 3.05 g, 11.13 mmol) in THF (20 ml) and EtOH (100 ml)\n",
            "==================================================\n",
            "\n",
            "TITLE: POLYMER-BIOACTIVE AGENT CONJUGATES\n",
            "SCORE: 36.868385314941406\n",
            "DESCRIPTION: and cooled to 0°C (ice/water bath). Benzyloxycarbonyl chloride (0.40 ml, 0.48 g, 2.8 mmol) was added dropwise. The reaction mixture was stirred at 0°C for 1 h and then gradually warmed to room temperature and stirred for another 16 h. After that the reaction mixture was brought to pH 5 through dropwise addition of 2N HCl solution. The reaction mixture was extracted with CHCl3 (3 x 50 ml). The combined organic layers were dried over Na2SO4 and the solvent was removed under reduced pressure. The crude product was purified through crystallisation from acetonitrile to give a colourless solid (0.23 g, 0.49 mmol, 49 %)1H-NMR (CDCl3, 400 MHz): δ[ppm] = 8.78 (s, 1H, H-2); 8.10-8.00 (m, 1H, H-5); 7.44-7.28 (m, 6H, 1H of H-8+5H of ArH); 5.17 (s, 2H, ArCH2); 3.81-3.63 (m, 4H, 2xCH2 of piperazine); 3.56-3.46 (m, 1H of cyclopropane); 3.38-3.23 (m, 4H, 2xCH2 of piperazine); 1.44-1.33 (m, 2H, CH2 of cyclopropane); 1.24-1.13 (m, 2H, CH2 of cyclopropane)b) (2,2-dimethyl-1,3-dioxolan-4-yl)methyl 7-(4-(benzyloxycarbonyl)piperazin-1-yl)-1-cyclopropyl-6-fluoro-4-oxo-1,4-dihydroquinoline-3-carboxylate7-(4-(benzyloxycarbonyl)piperazin-1-yl)-1-cyclopropyl-6-fluoro-4-oxo-1,4-dihydroquinoline-3-carboxylic acid (0.47 g, 1.0 mmol) was dissolved in anhydrous CH2Cl2 (47 ml) under argon. 2,2-dimethyl-1,3-dioxolane-4-methanol (0.20 g, 1.5 mmol) triethylamine (0.40 g, 4.0 mmol) and O-benzotriazol-1-yl-N,N,N',N'-trimethyluronium hexafluorophosphate (0.42 g, 1.1 mmol) were added successively. The reaction mixture was stirred under argon for 72 h. The reaction mixture was washed with saturated NaHCO3 solution (1 x 50 ml), water (1 x 50 ml) and dried over Na2SO4. The organic solvent was removed under reduced pressuregiving a pale, pink solid (0.54 g, 0.93 mmol, 93 %).1H-NMR (CDCl3, 400 MHz): δ[ppm] = 8.56 (s, 1H, H-2); 8.10-7.97 (m, 1H, H-5); 7.42-7.13 (m, 6H, 5xArH+1H of H-8); 5.16 (s, 2H, ArCH2O); 4.52-4.40 (m, 1H, CH); 4.40-4.30 (m, 2H, 1H of CH2O+1H of CH2O); 4.08-3.96 (m, 1H, 1H of CH2O); 3.86-3.81 (m, 1H, 1H of CH2O); 3.62-3.51 (m, 4H, 2xCH2 of piperazine); 3.37-3.33 (m, 1H, CH of cyclopropane); 3.31-3.14 (m, 4H, 2xCH2 of piperazine); 1.44 (s, 3H, CH3); 1.36 (s, 3H, CH3); 1.34-1.26 (m, CH2 of cyclopropane); 1.26-1.03 (m, CH2 of cyclopropane) MS (MeCN) 580 [M+ 1] 602 [M+23]c) 2,3-dihydroxypropyl 7-(4-(benzyloxycarbonyl)piperazin-1-yl)-1-cyclopropyl-6-fluoro-4-oxo-1,4-dihydroquinoline-3-carboxylate(2,2-dimethyl-1,3-dioxolan-4-yl)methyl 7-(4-(benzyloxycarbonyl)piperazin-1-yl)-1-cyclopropyl-6-fluoro-4-oxo-1,4-dihydroquinoline-3-carboxylate (2.85 g, 4.9 mmol) was dissolved in 95 % aqueous ehanol (100 ml). After addition of amberlyst 15 (wet) ion exchange resion\n",
            "==================================================\n",
            "\n",
            "TITLE: METHODS AND KITS FOR THE DIAGNOSIS OF LUNG CANCER\n",
            "SCORE: 36.651649475097656\n",
            "DESCRIPTION: normalization (see below). Therefore, a total of 12 samples can be analyzed per plate (if no replicates are measured). In detail: ∘ Dilute serum or plasma sample 1:400 in assay-buffer (50% StabilZyme Select, SurModics and 50% LowCross Buffer, Candor) and add to one column of immunoplate (one sample per column).∘ Incubate at RT for 1h (shake at 500 rpm).∘ Wash 3 times with 3x 350 µl PBST-buffer.∘ Add 100 µl secondary antibody Polyclonal goat anti-human IgG (Fc-specific), conjugated with horseradish peroxidase HRP, Dianova;Final concentration: 0,04 µg/µl in 50% StabilZymeHRP, SurModics and 50% LowCross Buffer, Candor.∘ Incubate at RT for 1h (shake at 500 rpm).∘ Wash 3 times with 3x 350 µl PBST-buffer.∘ Dispense 100 µl TMB-substrate per well. Incubate at RT for 15min.∘ Stop reaction by adding 100 µl stop solution (dilute 25% sulfuric acid 1:10 in H2O = 2,5% sulfuric acid).∘ Measure in ELISA-reader at 450/620 nm.▪ Data analysis and evaluation of results: In this step, samples are defined as \"negative\" (no tumor-associated autoantibodies detectable meaning that no tumor was found) or \"positive\" (tumor-associated autoantibodies are detected meaning that a tumor is present and further diagnostics like imaging techniques CT or MRT are required to localize it). Reactivities in samples are calculated and evaluated as follows: ∘ OD (optical density) at 620 nm is subtracted from OD at 450 nm for each well: [OD450-620nm].∘ Sample 1 in column 1 of immunoplate (see layout in Figure 7): Marker 1 (Peptide-Mix 1): [OD450-620nm] of well A1 is divided by mean of [OD450-620nm] of wells G1 and H1 (blank normalization). = Quotient 1;Marker 2 (Peptide-Mix 2): [OD450-620nm] of well A2 is divided by mean of [OD450-620nm] of well G1 and H1 (blank normalization). = Quotient 2;Same procedure for markers 3-6 (peptide-mixes 3-6) = Quotients 3-6.∘ Samples 2-12 in columns 2-12 of immunoplate, respectively, are calculated the same way meaning that for each sample quotients 1-6 are calculated.∘ Note: This sample-internal blank normalization is preferable because background (signals obtained from wells where no peptide is coated, rows G and H) varies from sample to sample. Refer also to explanations of primary screening described above.∘ Test result: If any quotient 1-6 of a\n",
            "==================================================\n",
            "\n",
            "TITLE: POLYMER-BIOACTIVE AGENT CONJUGATES\n",
            "SCORE: 36.651649475097656\n",
            "DESCRIPTION: giving a yellow solid (0.35 g, 88 %)1H-NMR (CDCl3, 400 MHz): δ[ppm] = 8.67 (s, H-5); 7.56-7.40 (m, H-8); 4.71-4.56 (m, 1H, H-3 of benzoxazine ring); 4.56-4.33 (m, 3H, 2H of NHCHCH2O+1H of CH2OCO); 4.33-4.21 (m, 1H, CH2OCO); 4.02-3.91 (m, 1H, CHOH); 3.57-3.52 (m, 2H, CH2OH); 3.52-3.34 (m, 4H, 2xCH2 piperazine); 2.85-2.56 (m, 4H, 2xCH2 piperazine); 2.43 (s, 3H, NHCH3); 1.52 (d, 3H, CH3). MS (MeOH) 436 [M+ 1] 458 [M+23]Example 8: (S)-1,3-dihydroxypropan-2-yl 9-fluoro-3-methyl-10-(4-methylpiperazin-1-yl)-7-oxo-3,7-dihydro-2H-[1,4]oxazino[2,3,4-ij]quinoline-6-carboxylatea) (S)-2-phenyl-1,3-dioxan-5-yl 9-fluoro-3-methyl-10-(4-methylpiperazin-1-yl)-7-oxo-3,7-dihydro-2H-[1,4]oxazino[2,3,4-ij]quinoline-6-carboxylate(S)-9-fluoro-3-methyl-10-(4-methylpiperazin-1-yl)-7-oxo-3,7-dihydro-2H-[1,4] oxazino [2,3,4-ij] quinoline-6-carboxylic acid (4.18 g, 11.56 mmol) was dissolved in anhydrous dichloromethane (210 ml) under argon. 1,3-O-benzylideneglycerol (2.50 g, 13.67 mmol), triethylamine (4.68 g, 46.24 mmol) and HBTU (4.38 g, 11.56 mmol) were added successively. The reaction mixture was stirred at room temperature (exclusion of light) for 3 days. The reaction mixture was washed with saturated NaHCO3 solution (500 ml), aqueous (pH 5) hydrochloric acid (500 ml) and water (500 ml) successively. The organic layer was dried over Na2SO4 and the solvent was removed under reduced pressure. The crude product was purified through flash column chromatography (SiO2/10 % MeOH in CHCl3) yielding 4.32 g, 71 %) of a yellow, crystalline solid.1H-NMR (CDCl3, 400 MHz): δ[ppm] = 8.22 (s, 1H, H-5); 7.64-7.52 (m, 1H, H-8); 7.46-7.31 (m,4H, ArH); 7.10 (d, 1H, ArH); 5.65 (s, 1H, CHOCO); 4.91 (s, 1H, ArCH); 4.64-4.01 (m, 7H, 1H of CHN+2H of CH2O+4H of 2xCH2O); 3.38-3.22 (m, 2xCH2 of piperazine ring); 2.62-2.43 (m, 4H, 2xCH2 of piperazine ring); 2.36 (s, NCH3); 0.95 (d, 3H, CHCH3) MS (MeOH) 524 [M+1] 546 [M+23]b) (S)-1,3-dihydroxypropan-2-yl 9-fluoro-3-methyl-10-(4-methylpiperazin-1-yl)-7-oxo-3,7-dihydro-2H-[1,4]oxazino[2,3,4-ij]quinoline-6-carboxylate(S)-2-phenyl-1,3-dioxan-5-yl 9-fluoro-3-methyl-10-(4-methylpiperazin-1-yl)-7-oxo-3,7-dihydro-2H-[1,4]oxazino[2,3,4-ij]quinoline-6-carboxylate (0.50 g, 9.55 mmol), was dissolved in a mixture of dichloromethane/methanol (2:1.5, 87.5 ml) under argon. Palladium catalyst (10 wt % Pd/C) (180 mg) was added, the flask was evacuated and allowed to stir 1 atm of hydrogen gas at room temperature for 16 hours. The crude reaction mixture was passed through a glass microfiber on a sintered funnel. The volatiles were removed under reduced pressure yielding 370 mg (88%) of a yellow gum1H-NMR (CDCl3, 400 MHz): δ[ppm] = 8.72 (s, 1H), 7.57 (dd, 1H, J1 = 12.6 Hz, J2 = 1.8 Hz), 4.67-4.60 (m, 1H), 4.55-4.49 (m, 1H), 4.41-4.35 (m, 2H), 4.31-4.25 (m,\n",
            "==================================================\n",
            "\n",
            "TITLE: USE OF RING-FUSED BICYCLIC PYRIDYL DERIVATIVES AS FGFR4 INHIBITORS\n",
            "SCORE: 36.22651672363281\n",
            "DESCRIPTION: or acetic acid/ethanol. The fixed tissue sample may be embedded in wax (paraffin) or a plastic resin. The embedded tissue sample (or frozen tissue sample) may be cut into thin sections. RNA or protein may also be extracted from a fixed or wax-embedded tissue sample or a frozen tissue sample. Once a sample of cells or sample of tissue is removed from the subject with cancer, it may be processed for the isolation of RNA or protein using techniques well known in the art and as described below.An example of extraction of RNA from a biopsy taken from a patient with solid malignancies can include, for example, guanidium thiocyanate lysis followed by CsCI centrifugation (Chirgwin, et al., Biochemistry 18:5294-5299, 1979). RNA from single cells may be obtained as described in methods for preparing cDNA libraries from single cells (see, e.g., Dulac, Curr. Top. Dev. Biol. 36:245, 1998; Jena, et al., J. Immunol. Methods 190:199, 1996). In one embodiment, the RNA population may be enriched for sequences of interest. Enrichment may be accomplished, for example, by random hexamers and primer-specific cDNA synthesis, or multiple rounds of linear amplification based on cDNA synthesis and template-directed in vitro transcription (see, e.g., Wang, et al., Proc. Natl. Acad. Sci. USA 86:9717, 1989; Dulac, et al., supra; Jena, et al., supra).In one embodiment, the assaying method includes providing a nucleic acid probe comprising a nucleotide sequence, for example, at least 10, 15, 25 or 40 nucleotides, and up to all or nearly all of the coding sequence which is complementary to a portion of the coding sequence of a nucleic acid sequence of FGFR4, KLB and FGF19; obtaining a tissue sample from a mammal having a cancerous cell; contacting the nucleic acid probe under stringent conditions with RNA obtained from a biopsy taken from a patient (e.g., in a Northern blot, in situ hybridization assay, PCR etc); and determining the amount of hybridization of the probe with RNA. Nucleic acids may be labeled during or after enrichment and/or amplification of RNAs.In the method disclosed herein, the step of assaying may comprise a technique as described below. Further examples of assaying are described in the\n",
            "==================================================\n",
            "\n",
            "TITLE: METHOD FOR MULTIPLEX NUCLEIC ACID ANALYSIS\n",
            "SCORE: 36.22651672363281\n",
            "DESCRIPTION: nucleic acids include those with positive backbones, non-ionic backbones, and non-ribose backbones. See, e.g., Denpcy et al., 1995, Proc. Natl. Acad. Sci. USA 92:6097; Jeffs et al., 1994, J. Biomolecular NMR 34:17; U.S. Pat. Nos. 5,386,023, 5,235,033 and 5,034,506. Modifications of the ribose-phosphate backbone may be done to facilitate the addition of labels, or to increase the stability and half-life of such molecules in physiological environments.In some embodiments, peptide nucleic acids (PNA) may be used for nucleic acids in the present invention. The PNA backbones are substantially non-ionic under neutral conditions, in contrast to the highly charged phosphodiester backbone of naturally occurring nucleic acids. This results in two advantages. First, the PNA backbone exhibits improved hybridization kinetics. PNAs have larger changes in the melting temperature (Tm) for mismatched versus perfectly matched basepairs. DNA and RNA typically exhibit a 2-4°C drop in Tm for an internal mismatch. With the non-ionic PNA backbone, the drop is closer to 7-9°C. This allows for better detection of mismatches. Similarly, due to their non-ionic nature, hybridization of the bases attached to these backbones is relatively insensitive to salt concentration.Nucleic acids may be single stranded or double stranded, as specified, or contain portions of both double stranded or single stranded sequence. Nucleic acids may be DNA, genomic DNA, cDNA, RNA or a hybrid. Nucleic acids may contain any combination of deoxyribo- and ribo-nucleotides, and any combination of bases, including uracil, adenine, thymine, cytosine, guanine, inosine, xanthanine, hypoxanthine, isocytosine, isoguanine, etc. In one embodiment, nucleic acids utilize isocytosine and isoguanine in nucleic acids designed to be complementary to other probes, rather than target sequences, as this reduces non-specific hybridization, as is generally described in U.S. Patent No. 5,681,702. As used herein, the term \"nucleoside\" includes nucleotides as well as nucleoside and nucleotide analogs, and modified nucleosides such as amino modified nucleosides. In addition, \"nucleoside\" includes non-naturally occurring analog structures. Thus, for example, the individual units of a peptide nucleic acid, each containing a base, are referred to herein as a nucleoside.In some embodiments, the methods according to the present invention are directed to the multiplexed detection of target nucleic acids. The term \"target nucleic acid\" or\n",
            "==================================================\n",
            "\n",
            "TITLE: METHOD FOR MULTIPLEX NUCLEIC ACID ANALYSIS\n",
            "SCORE: 33.93384552001953\n",
            "DESCRIPTION: example, the presence, absence or quantity of more than about 48, 96, 192, 384 or more target nucleic acids in the sample may be assayed in a multiplexed manner. The probes corresponding to all the target nucleic acids may be added to the sample and a single ligation reaction is performed to obtain ligation products for all the target nucleic acids.The sample to be assayed may be a sample of a bodily fluid, a biopsy tissue, or a paraffin-embedded tissue from an animal. The bodily fluid may be blood, plasma, serum, urine, sputum, spinal fluid, cerebrospinal fluid, pleural fluid, nipple aspirates, lymph fluid, fluid of the respiratory, intestinal, or genitourinary tracts, tear fluid, saliva, breast milk, fluid from the lymphatic system, semen, cerebrospinal fluid, intra-organ system fluid, ascitic fluid, tumor cyst fluid, amniotic fluid, or combinations thereof from an animal, e.g., a human.In some embodiments, nucleic acids are extracted from the sample before forming a mixture with the set of probes. The target nucleic acid may be DNA, RNA, or cDNA. The RNA may be reverse transcribed into cDNA before forming a mixture with the set of probes.In some embodiments, at least one primer of the set of primers is labeled with a detectable moiety, e.g., an oligonucleotide tag or a fluorescent dye. The fluorescent dye may be FAM (5-or 6-carboxyfluorescein), VIC, NED, PET, Fluorescein, FITC, IRD-700/800, CY3, CY5, CY3.5, CY5.5, HEX, TET, TAMRA, JOE, ROX, BODIPY TMR, Oregon Green, Rhodamine Green, Rhodamine Red, Texas Red, or Yakima Yellow. In other embodiments, at least one primer of the set of primers includes a stuffer sequence. The stuffer sequence in some primers may have about 10 to about 500 nucleotides. The stuffer sequence in other primers may be about 10 to about 60 nucleotides. In some preferred embodiments, no primer has more than about 125 nucleotides, preferably about 75 nucleotides. In still other embodiments, at least one primer of the set of primers includes an oligonucleotide comprising a sequence GTTTCTT or a functional equivalent variant of the oligonucleotide comprising a sequence GTTTCTT.In further embodiments, at least one probe of the set of probes includes a stuffer sequence. In some instances,\n",
            "==================================================\n",
            "\n",
            "TITLE: METHODS AND KITS FOR THE DIAGNOSIS OF LUNG CANCER\n",
            "SCORE: 33.93384552001953\n",
            "DESCRIPTION: nucleic acid to be introduced into prokaryotic and/or into eukaryotic cells and, where appropriate, be integrated into a genome. Such vectors are preferably replicated and/or expressed in the cell. Vectors include plasmids, phagemids, bacteriophages or viral genomes. The term \"plasmid\" as used herein relates generally to a construct of extrachromosomal genetic material, usually a circular DNA duplex, which can replicate independently of chromosomal DNA. In one embodiment, the vector is an expression vector.The term \"host cell\" relates to any cell which can be transformed or transfected with an exogenous nucleic acid, preferably DNA or RNA. The term \"host cell\" includes prokaryotic (e.g. E. coli) or eukaryotic cells (e.g. mammalian cells, especially human cells, yeast cells and insect cells). Mammalian cells such as human cells, mouse cells, hamster cells, pig cells, goat cells and primate cells are particularly preferred. The cells can be derived from a large number of tissue types and include primary cells and cell lines. Specific examples include keratinocytes, peripheral blood leukocytes, bone marrow stem cells and embryonic stem cells. In further embodiments, the host cell is an antigen-presenting cell, where the term \"antigen-presenting cell\" includes dendritic cells, monocytes and macrophages. A nucleic acid may be present in the host cell in a single or in a plurality of copies and is expressed in one embodiment in the host cell.According to the invention there is further provided a diagnostic device comprising a panel of isolated peptides as defined above, wherein, preferably, the panel of isolated peptides is immobilized on a support.According to the present invention, a diagnostic device can take different forms, and it can be varied depending on the precise nature of the assay being performed. For example, the isolated peptide as disclosed herein may be coated onto a solid support, typically nitrocellulose or other hydrophobic porous material. Alternatively, the peptide may be coated on a synthetic plastics material, multi-well plate, microtitre assay plate, microarray chip, latex bead, filter comprising a cellulosic or synthetic polymeric material, glass or plastic slide, dipstick, capillary fill device and the like. Coating of the peptides to these surfaces can be accomplished by methods known in the art. Protein carriers are\n",
            "==================================================\n",
            "\n"
          ]
        }
      ],
      "source": [
        "all_result = []\n",
        "for idx, samples in enumerate(all_samples):\n",
        "    samples_df = pd.DataFrame.from_dict(samples)\n",
        "    samples_df[\"scores\"] = scores\n",
        "    all_result.append(samples_df)\n",
        "\n",
        "all_result_df = pd.concat(all_result, ignore_index=True)\n",
        "    \n",
        "all_result_df.sort_values(\"scores\", ascending=False, inplace=True)\n",
        "\n",
        "for _, row in all_result_df.iterrows():\n",
        "    print(f\"TITLE: {row.title}\")\n",
        "    print(f\"SCORE: {row.scores}\")\n",
        "    print(f\"DESCRIPTION: {row.description}\")\n",
        "    print(\"=\" * 50)\n",
        "    print()"
      ]
    },
    {
      "cell_type": "code",
      "execution_count": null,
      "metadata": {},
      "outputs": [],
      "source": []
    }
  ],
  "metadata": {
    "colab": {
      "name": "Semantic search with FAISS (PyTorch)",
      "provenance": []
    },
    "kernelspec": {
      "display_name": "gpuenv",
      "language": "python",
      "name": "python3"
    },
    "language_info": {
      "codemirror_mode": {
        "name": "ipython",
        "version": 3
      },
      "file_extension": ".py",
      "mimetype": "text/x-python",
      "name": "python",
      "nbconvert_exporter": "python",
      "pygments_lexer": "ipython3",
      "version": "3.12.9"
    }
  },
  "nbformat": 4,
  "nbformat_minor": 0
}
