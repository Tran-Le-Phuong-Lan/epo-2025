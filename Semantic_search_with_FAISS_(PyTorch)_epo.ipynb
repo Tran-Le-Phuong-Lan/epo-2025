{
  "cells": [
    {
      "cell_type": "markdown",
      "metadata": {
        "id": "HfPCA-ShVh3w"
      },
      "source": [
        "# Semantic search with FAISS (PyTorch)\n",
        "\n",
        "**Reference:** \n",
        "\n",
        "[1] This notebook provided by Hugging Face: https://huggingface.co/learn/llm-course/en/chapter5/6\n",
        "\n",
        "[2] FAISS: https://github.com/facebookresearch/faiss/wiki/Getting-started"
      ]
    },
    {
      "cell_type": "markdown",
      "metadata": {
        "id": "9DqrLM8iVh3y"
      },
      "source": [
        "Install the Transformers, Datasets, and Evaluate libraries to run this notebook."
      ]
    },
    {
      "cell_type": "markdown",
      "metadata": {},
      "source": [
        "# Libs"
      ]
    },
    {
      "cell_type": "code",
      "execution_count": 1,
      "metadata": {},
      "outputs": [],
      "source": [
        "# ! pip install datasets evaluate transformers[sentencepiece]\n",
        "\n",
        "# reference:\n",
        "# [1] https://stackoverflow.com/questions/58957169/faiss-error-could-not-find-a-version-that-satisfies-the-requirement-faiss-from/58957380\n",
        "# [1] Self-summary: \n",
        "#   1.1 Python version too high (for example: 3.13 has problem with installing faiss)\n",
        "#   1.2 must state the cuda version explicitly while installing faiss -> (after install torch) check 'nvidia-...' version in  `conda list > requirement.txt` \n",
        "# ! pip install faiss-gpu-cu12 # "
      ]
    },
    {
      "cell_type": "code",
      "execution_count": 1,
      "metadata": {},
      "outputs": [],
      "source": [
        "import pandas as pd"
      ]
    },
    {
      "cell_type": "markdown",
      "metadata": {},
      "source": [
        "# Data processing"
      ]
    },
    {
      "cell_type": "code",
      "execution_count": 3,
      "metadata": {
        "id": "7MZuJ0ZxVh3z",
        "outputId": "924fb96f-9c2a-438b-eafd-3fec14a46cfc"
      },
      "outputs": [],
      "source": [
        "# from datasets import load_dataset\n",
        "\n",
        "# issues_dataset = load_dataset(\"lewtun/github-issues\", split=\"train\")\n",
        "# issues_dataset"
      ]
    },
    {
      "cell_type": "code",
      "execution_count": 12,
      "metadata": {},
      "outputs": [
        {
          "name": "stdout",
          "output_type": "stream",
          "text": [
            "row counts in df_1: 1848\n",
            "row counts in df_2: 22\n",
            "row counts in df_epo: 1870\n"
          ]
        }
      ],
      "source": [
        "df_1 = pd.read_csv(\"/home/lephuonglantran/EPO2024/df_combine.csv\")\n",
        "print(f\"row counts in df_1: {len(df_1)}\")\n",
        "df_2 = pd.read_csv(\"/home/lephuonglantran/EPO2024/df_combine_val.csv\")\n",
        "print(f\"row counts in df_2: {len(df_2)}\")\n",
        "df = pd.concat([df_1, df_2], ignore_index=True)\n",
        "\n",
        "print(f\"row counts in df_epo: {len(df)}\")"
      ]
    },
    {
      "cell_type": "code",
      "execution_count": 20,
      "metadata": {},
      "outputs": [
        {
          "data": {
            "text/plain": [
              "(\"A method of assaying nucleic acids in a sample, comprising the steps of: a) adding multiple sets of probes into the sample to form a mixture, each set of probes comprising: i. a first probe having a first portion at least partially complementary to a first region of a target nucleic acid in the sample and a second portion forming a first primer binding site;ii. a second probe having a first portion at least partially complementary to a second region of the target nucleic acid in the sample and a second portion forming a second primer binding site, wherein the 5' end of the first probe is adjacent to the 3' end of the second probe when both probes are hybridized to the target nucleic acid;b) denaturing nucleic acids in the mixture;c) hybridizing the set of probes to the complementary regions of the target nucleic acid;d) performing a ligation reaction with a ligase enzyme on the set of hybridized probes to connect the adjacent 5' end of the first probe and the 3' end of the second probe to form a third probe, wherein steps b-d are repeated 1-100 times;e) amplifying the third probe with multiple sets of primers to obtain an amplification product, each set of primers comprising: i. a first primer at least partially complementary to the first primer binding site in one or more first probes of the multiple sets of probes;ii. a second primer at least partially complementary to the second primer binding site in one or more second probes of the multiple sets of probes;f) assaying the presence, absence or quantity of the target nucleic acid in the sample by determining the presence, absence or quantity of the third probe in the amplification product; and wherein at least one primer of each set of primers is labeled with a detectable moiety; and at least one primer of the multiple sets of primers includes a stuffer sequence; and at least one probe of the multiple sets of probes includes a stuffer sequence, wherein the measurement is carried out using capillary electrophoresis.The method of claim 1, wherein the stuffer sequence in the at least one primer of the multiple sets of primers has about 10 to about 500 nucleotides, preferably about 10 to about 60 nucleotides; and/or the stuffer sequence in the at least one probe of the multiple sets of probes has about 1 to about 200 nucleotides, preferably about 1 to about 55 nucleotides.The method of claim 1 or 2, wherein at least one primer of each set of primers includes an oligonucleotide comprising a sequence GTTTCTT or a functional equivalent variant of the oligonucleotide comprising a sequence GTTTCTT.The method of any one of preceding claims, wherein the determination of the presence, absence or quantity of the third probe in the amplification product is carried out by measuring the presence, absence or quantity of the third probe in the amplification product on the basis of detectable moieties, fragment sizes, or both.The method of any one of preceding claims, wherein the moiety is a fluorescent dye; preferably the moiety is a fluorescent dye selected from the group consisting of FAM (5-or 6-carboxyfluorescein), VIC, NED, PET, Fluorescein, FITC, IRD-700/800, CY3, CY5, CY3.5, CY5.5, HEX, TET, TAMRA, JOE, ROX, BODIPY TMR, Oregon Green, Rhodamine Green, Rhodamine Red, Texas Red, and Yakima Yellow.The method of any one of preceding claims, wherein the target nucleic acid is the dystrophin gene having a deletion of one or more exons and the sets of probes for assaying the dystrophin gene comprise one or more probe pairs selected from SEQ ID NOs: 158-541; or the target nucleic acid corresponds to a part of human chromosome 21 and the sets of probes for assaying the part of human chromosome 21 comprise probe pairs selected from SEQ ID NOs: 559-942.The method of any one of preceding claims, wherein the denaturing step is carried at about 90°C to about 99°C for about 5 seconds to about 30 minutes, and the hybridization and the ligation steps are carried out simultaneously at about 4°C to about 70°C for about 1 minute to about 48 hours, preferably the denaturing step is carried at about 95°C for about 30 seconds, and the hybridization and the ligation steps are carried out simultaneously at about 58°C for about 4 hours, and the steps of denaturing, hybridization and ligation are repeated 4 times.The method of any one of preceding claims, wherein two or more sets of probes are used to hybridize to two or more target sites in the target nucleic acid, with each set of probes hybridizing to a different target site.The method of any one of preceding claims, wherein the target nucleic acid has a quantitative variation of about 0.1% to about 30% between two samples.The method of any one of preceding claims, wherein one set of primers is used to amplify a group of the third probes, said group of the third probes comprises multiple third probes which are formed from multiple sets of probes hybridizing to multiple target sites and from multiple sets of reference probes hybridizing to multiple reference target sites.The method of any one of preceding claims, wherein the multiple third probes in the group are formed from about 1 to about 100 sets of probes hybridizing to target sites and about 1 to about 100 sets of reference probes.The method of any one of preceding claims, wherein about 50 to about 500 sets of probes are used to hybridize to about 50 to about 500 target sites on the target nucleic acid.The method of any one of preceding claims, wherein the target nucleic acid corresponds to at least a part of human chromosome 21, human chromosome 18, human chromosome 13, human chromosome region 22q11.2, or the pseudoautosomal regions of human chromosomes X or Y in a maternal blood or urine sample.The method of any one of preceding claims, wherein the copy number of each target site is determined by the following four steps: a) a ratio of the quantity of the third probe targeting the target site to the quantity of the third probe in the same group targeting one reference sites are calculated; b) a copy number value is calculated by this ratio value in a test sample divided by the corresponding ratio value in a control sample or the median value of the corresponding ratio values in all control samples or all test samples, and then times 2; c) more copy number values are calculated by repeating a-b by using the quantity of another third probe in the same group targeting another reference sites in step a; d) the copy number of each target site is calculated by taking the average or median of all the copy number values with or without abandoning egregious value.The method of any one of preceding claims, further comprising a step of determining the copy number of the target nucleic acid in a sample by taking the average or median of the copy numbers of all target sites on the target nucleic acid or by taking the average or median of the copy numbers of all target sites on the target nucleic acid after abandoning egregious values.A kit for assaying nucleic acids in a sample according to claims 1-15, comprising: a) multiple sets of probes corresponding to a target nucleic acid, each set of probes comprising: i. a first probe having a first portion at least partially complementary to a first region of a target nucleic acid in the sample and a second portion forming a first primer binding site;ii. a second probe having a first portion at least partially complementary to a second region of the target nucleic acid in the sample and a second portion forming a second primer binding site, wherein the 5' end of the first probe is adjacent to the 3' end of the second probe when both probes are hybridized to the target nucleic acid and the first and the second probes may be ligated to form a third probe;b) multiple sets of primers for amplifying the third probe, wherein each set of multiple sets of primers comprising: i. a first primer at least partially complementary to the first primer binding site in one or more first probes of the multiple sets of probes;ii. a second primer at least partially complementary to the second primer binding site in one or more second probes of the multiple sets of probes;c) reagents including a ligase, a buffer for a ligation reaction, a DNA polymerase, a buffer for a polymerase chain reaction, or a combination thereof; andd) optionally a brochure containing instructions of using the kit; wherein at least one primer of each set of primers is labeled with a detectable moiety; and at least one primer of the multiple sets of primers includes a stuffer sequence; and at least one probe of the multiple sets of probes includes a stuffer sequence, wherein the measurement is carried out using capillary electrophoresis.\",\n",
              " 'METHOD FOR MULTIPLEX NUCLEIC ACID ANALYSIS')"
            ]
          },
          "execution_count": 20,
          "metadata": {},
          "output_type": "execute_result"
        }
      ],
      "source": [
        "df[\"claims\"][0], df[\"title\"][0]"
      ]
    },
    {
      "cell_type": "code",
      "execution_count": 2,
      "metadata": {},
      "outputs": [
        {
          "name": "stderr",
          "output_type": "stream",
          "text": [
            "/home/lephuonglantran/.conda/envs/gpuenv_2/lib/python3.12/site-packages/tqdm/auto.py:21: TqdmWarning: IProgress not found. Please update jupyter and ipywidgets. See https://ipywidgets.readthedocs.io/en/stable/user_install.html\n",
            "  from .autonotebook import tqdm as notebook_tqdm\n"
          ]
        }
      ],
      "source": [
        "# convert panda data frame to dataset\n",
        "from datasets import Dataset"
      ]
    },
    {
      "cell_type": "code",
      "execution_count": 4,
      "metadata": {},
      "outputs": [
        {
          "data": {
            "text/plain": [
              "Dataset({\n",
              "    features: ['title', 'description', 'claims', 'ipc'],\n",
              "    num_rows: 1870\n",
              "})"
            ]
          },
          "execution_count": 4,
          "metadata": {},
          "output_type": "execute_result"
        }
      ],
      "source": [
        "dataset = Dataset.from_pandas(df)\n",
        "dataset"
      ]
    },
    {
      "cell_type": "code",
      "execution_count": 5,
      "metadata": {
        "id": "kwS04TSIVh30",
        "outputId": "df1da230-3518-42c1-8936-d4d8b8d502bf"
      },
      "outputs": [],
      "source": [
        "# issues_dataset = issues_dataset.filter(\n",
        "#     lambda x: (x[\"is_pull_request\"] == False and len(x[\"comments\"]) > 0)\n",
        "# )\n",
        "# issues_dataset"
      ]
    },
    {
      "cell_type": "markdown",
      "metadata": {},
      "source": [
        "> We can see that there are a lot of columns in our dataset, most of which we don’t need to build our search engine. From a search perspective, the most informative columns are `title`, `body`, and `comments`, while `html_url` provides us with a link back to the source issue. Let’s use the `Dataset.remove_columns()` function to drop the rest:  "
      ]
    },
    {
      "cell_type": "code",
      "execution_count": 5,
      "metadata": {
        "id": "KQPnvx7pVh30",
        "outputId": "277f3ac1-4c34-46ca-ae94-c0032c045dcf"
      },
      "outputs": [
        {
          "data": {
            "text/plain": [
              "Dataset({\n",
              "    features: ['title', 'description', 'ipc'],\n",
              "    num_rows: 1870\n",
              "})"
            ]
          },
          "execution_count": 5,
          "metadata": {},
          "output_type": "execute_result"
        }
      ],
      "source": [
        "# columns = issues_dataset.column_names\n",
        "# columns_to_keep = [\"title\", \"body\", \"html_url\", \"comments\"]\n",
        "# columns_to_remove = set(columns_to_keep).symmetric_difference(columns)\n",
        "# issues_dataset = issues_dataset.remove_columns(columns_to_remove)\n",
        "# issues_dataset\n",
        "\n",
        "columns = dataset.column_names\n",
        "columns_to_keep = [\"title\", \"description\", \"ipc\"]\n",
        "columns_to_remove = set(columns_to_keep).symmetric_difference(columns)\n",
        "dataset = dataset.remove_columns(columns_to_remove)\n",
        "dataset\n"
      ]
    },
    {
      "cell_type": "markdown",
      "metadata": {},
      "source": [
        "> Now that we **have one comment per row**, let’s **create a new comments_length column** that **contains the number of words per comment**:  "
      ]
    },
    {
      "cell_type": "code",
      "execution_count": 6,
      "metadata": {
        "id": "u1V7Gs2lVh31"
      },
      "outputs": [
        {
          "name": "stderr",
          "output_type": "stream",
          "text": [
            "Map: 100%|██████████| 1870/1870 [00:02<00:00, 714.13 examples/s] \n"
          ]
        }
      ],
      "source": [
        "# comments_dataset = comments_dataset.map(\n",
        "#     lambda x: {\"comment_length\": len(x[\"comments\"].split())}\n",
        "# )\n",
        "\n",
        "description_dataset = dataset.map(\n",
        "    lambda x: {\"description_length\": len(x[\"description\"].split())}\n",
        ")"
      ]
    },
    {
      "cell_type": "markdown",
      "metadata": {},
      "source": [
        "> We can **use this new column to filter out short comments**, which typically **include things like “cc @lewtun” or “Thanks!” that are not relevant** for our search engine. There’s **no precise number to select for the filter**, **but around 15 words** seems like a good start:  "
      ]
    },
    {
      "cell_type": "code",
      "execution_count": 7,
      "metadata": {
        "id": "vrAOWkChVh31",
        "outputId": "d45e7de1-f384-4a1c-c997-0534f917b12e"
      },
      "outputs": [
        {
          "name": "stderr",
          "output_type": "stream",
          "text": [
            "Filter: 100%|██████████| 1870/1870 [00:00<00:00, 16374.73 examples/s]\n"
          ]
        },
        {
          "data": {
            "text/plain": [
              "Dataset({\n",
              "    features: ['title', 'description', 'ipc', 'description_length'],\n",
              "    num_rows: 1870\n",
              "})"
            ]
          },
          "execution_count": 7,
          "metadata": {},
          "output_type": "execute_result"
        }
      ],
      "source": [
        "# comments_dataset = comments_dataset.filter(lambda x: x[\"comment_length\"] > 15)\n",
        "# comments_dataset\n",
        "\n",
        "description_dataset = description_dataset.filter(lambda x: x[\"description_length\"] > 15)\n",
        "description_dataset"
      ]
    },
    {
      "cell_type": "code",
      "execution_count": 8,
      "metadata": {
        "id": "kgHWo25UVh31"
      },
      "outputs": [],
      "source": [
        "# def concatenate_text(examples):\n",
        "#     return {\n",
        "#         \"text\": examples[\"title\"]\n",
        "#         + \" \\n \"\n",
        "#         + examples[\"description\"]\n",
        "#     }\n",
        "\n",
        "# # comments_dataset = comments_dataset.map(concatenate_text)\n",
        "# description_dataset = description_dataset.map(concatenate_text)"
      ]
    },
    {
      "cell_type": "code",
      "execution_count": 9,
      "metadata": {},
      "outputs": [
        {
          "data": {
            "text/plain": [
              "47423"
            ]
          },
          "execution_count": 9,
          "metadata": {},
          "output_type": "execute_result"
        }
      ],
      "source": [
        "description_dataset[0]['description_length']"
      ]
    },
    {
      "cell_type": "code",
      "execution_count": 10,
      "metadata": {},
      "outputs": [
        {
          "name": "stdout",
          "output_type": "stream",
          "text": [
            "min length in dataset: 359 words\n",
            "max length in dataset: 21706\n"
          ]
        }
      ],
      "source": [
        "max = 0\n",
        "for i in range(len(description_dataset)):\n",
        "    length_description_dataset = description_dataset[i]['description_length']\n",
        "    if i== 0:\n",
        "        min = length_description_dataset\n",
        "    if length_description_dataset <= min:\n",
        "        min = length_description_dataset\n",
        "    else:\n",
        "        max = length_description_dataset\n",
        "print(f\"min length in dataset: {min} words\\nmax length in dataset: {max}\")"
      ]
    },
    {
      "cell_type": "markdown",
      "metadata": {},
      "source": [
        "Split the long description into small chunks\n",
        "\n",
        "reference:\n",
        "\n",
        "[1] https://saturncloud.io/blog/how-to-split-text-in-a-column-into-multiple-rows-using-pandas/\n",
        "\n",
        "[2] joing list of words into a string: https://stackoverflow.com/questions/67560768/join-list-element-after-split-into-str"
      ]
    },
    {
      "cell_type": "code",
      "execution_count": 11,
      "metadata": {},
      "outputs": [],
      "source": [
        "def spilt_into_smaller_descriptions(examples):\n",
        "    res = []\n",
        "    index = 0\n",
        "    num_words_per_chunk = 359\n",
        "    total_chunks = examples[\"description\"].split()\n",
        "    total_len = examples[\"description_length\"]\n",
        "    while index < total_len:\n",
        "        chunk = ' '.join(total_chunks[index: index+num_words_per_chunk]) \n",
        "                        # the elem with index = index + num_words_per_chunk \n",
        "                        # is excluded\n",
        "        res.append(chunk)\n",
        "        index = index + num_words_per_chunk\n",
        "    last_chunk = ' '.join(total_chunks[index - num_words_per_chunk: total_len])\n",
        "    res.append(last_chunk)\n",
        "    return {\n",
        "        \"description\": res\n",
        "    }"
      ]
    },
    {
      "cell_type": "code",
      "execution_count": 33,
      "metadata": {},
      "outputs": [],
      "source": [
        "# reference: https://discuss.huggingface.co/t/how-can-i-grab-the-first-n-rows-of-a-dataset-as-a-dataset-object/33093/2\n",
        "# small_sample = description_dataset.select(range(10))\n",
        "# small_sample"
      ]
    },
    {
      "cell_type": "code",
      "execution_count": 34,
      "metadata": {},
      "outputs": [],
      "source": [
        "# small_sample[0]"
      ]
    },
    {
      "cell_type": "code",
      "execution_count": 35,
      "metadata": {},
      "outputs": [],
      "source": [
        "# small_sample = small_sample.map(spilt_into_smaller_descriptions)"
      ]
    },
    {
      "cell_type": "code",
      "execution_count": 18,
      "metadata": {},
      "outputs": [],
      "source": [
        "# small_sample[0]"
      ]
    },
    {
      "cell_type": "code",
      "execution_count": 38,
      "metadata": {},
      "outputs": [
        {
          "name": "stderr",
          "output_type": "stream",
          "text": [
            "Map: 100%|██████████| 1870/1870 [00:03<00:00, 494.21 examples/s]\n"
          ]
        }
      ],
      "source": [
        "description_dataset = description_dataset.map(spilt_into_smaller_descriptions)"
      ]
    },
    {
      "cell_type": "markdown",
      "metadata": {},
      "source": [
        "convert to dataframe to use `explode`"
      ]
    },
    {
      "cell_type": "code",
      "execution_count": 39,
      "metadata": {},
      "outputs": [],
      "source": [
        "# small_sample.set_format(\"pandas\")\n",
        "# df_small_sample = small_sample[:]\n",
        "description_dataset.set_format(\"pandas\")\n",
        "df_description_dataset = description_dataset[:]"
      ]
    },
    {
      "cell_type": "code",
      "execution_count": 40,
      "metadata": {},
      "outputs": [
        {
          "data": {
            "text/html": [
              "<div>\n",
              "<style scoped>\n",
              "    .dataframe tbody tr th:only-of-type {\n",
              "        vertical-align: middle;\n",
              "    }\n",
              "\n",
              "    .dataframe tbody tr th {\n",
              "        vertical-align: top;\n",
              "    }\n",
              "\n",
              "    .dataframe thead th {\n",
              "        text-align: right;\n",
              "    }\n",
              "</style>\n",
              "<table border=\"1\" class=\"dataframe\">\n",
              "  <thead>\n",
              "    <tr style=\"text-align: right;\">\n",
              "      <th></th>\n",
              "      <th>title</th>\n",
              "      <th>description</th>\n",
              "      <th>ipc</th>\n",
              "      <th>description_length</th>\n",
              "    </tr>\n",
              "  </thead>\n",
              "  <tbody>\n",
              "    <tr>\n",
              "      <th>0</th>\n",
              "      <td>METHOD FOR MULTIPLEX NUCLEIC ACID ANALYSIS</td>\n",
              "      <td>FIELD OF INVENTIONThe present invention relate...</td>\n",
              "      <td>C</td>\n",
              "      <td>47423</td>\n",
              "    </tr>\n",
              "    <tr>\n",
              "      <th>1</th>\n",
              "      <td>METHOD FOR MULTIPLEX NUCLEIC ACID ANALYSIS</td>\n",
              "      <td>kits based on the present invention may be sui...</td>\n",
              "      <td>C</td>\n",
              "      <td>47423</td>\n",
              "    </tr>\n",
              "    <tr>\n",
              "      <th>2</th>\n",
              "      <td>METHOD FOR MULTIPLEX NUCLEIC ACID ANALYSIS</td>\n",
              "      <td>example, the presence, absence or quantity of ...</td>\n",
              "      <td>C</td>\n",
              "      <td>47423</td>\n",
              "    </tr>\n",
              "    <tr>\n",
              "      <th>3</th>\n",
              "      <td>METHOD FOR MULTIPLEX NUCLEIC ACID ANALYSIS</td>\n",
              "      <td>the stuffer sequence may have about 1 to about...</td>\n",
              "      <td>C</td>\n",
              "      <td>47423</td>\n",
              "    </tr>\n",
              "  </tbody>\n",
              "</table>\n",
              "</div>"
            ],
            "text/plain": [
              "                                        title  \\\n",
              "0  METHOD FOR MULTIPLEX NUCLEIC ACID ANALYSIS   \n",
              "1  METHOD FOR MULTIPLEX NUCLEIC ACID ANALYSIS   \n",
              "2  METHOD FOR MULTIPLEX NUCLEIC ACID ANALYSIS   \n",
              "3  METHOD FOR MULTIPLEX NUCLEIC ACID ANALYSIS   \n",
              "\n",
              "                                         description ipc  description_length  \n",
              "0  FIELD OF INVENTIONThe present invention relate...   C               47423  \n",
              "1  kits based on the present invention may be sui...   C               47423  \n",
              "2  example, the presence, absence or quantity of ...   C               47423  \n",
              "3  the stuffer sequence may have about 1 to about...   C               47423  "
            ]
          },
          "execution_count": 40,
          "metadata": {},
          "output_type": "execute_result"
        }
      ],
      "source": [
        "# df_small_sample_explode = df_small_sample.explode(\"description\", ignore_index=True)\n",
        "# df_small_sample_explode.head(4)\n",
        "df_description_dataset_explode = df_description_dataset.explode(\"description\", ignore_index=True)\n",
        "df_description_dataset_explode.head(4)"
      ]
    },
    {
      "cell_type": "markdown",
      "metadata": {},
      "source": [
        "Convert the dataframe back to dataset "
      ]
    },
    {
      "cell_type": "code",
      "execution_count": 42,
      "metadata": {},
      "outputs": [
        {
          "data": {
            "text/plain": [
              "Dataset({\n",
              "    features: ['title', 'description', 'ipc', 'description_length'],\n",
              "    num_rows: 60154\n",
              "})"
            ]
          },
          "execution_count": 42,
          "metadata": {},
          "output_type": "execute_result"
        }
      ],
      "source": [
        "description_dataset = Dataset.from_pandas(df_description_dataset_explode)\n",
        "description_dataset"
      ]
    },
    {
      "cell_type": "markdown",
      "metadata": {},
      "source": [
        "# Creating text embeddings"
      ]
    },
    {
      "cell_type": "code",
      "execution_count": 3,
      "metadata": {
        "id": "yKcqAREOVh32"
      },
      "outputs": [
        {
          "name": "stderr",
          "output_type": "stream",
          "text": [
            "Xet Storage is enabled for this repo, but the 'hf_xet' package is not installed. Falling back to regular HTTP download. For better performance, install the package with: `pip install huggingface_hub[hf_xet]` or `pip install hf_xet`\n"
          ]
        }
      ],
      "source": [
        "from transformers import AutoTokenizer, AutoModel\n",
        "\n",
        "model_ckpt = \"sentence-transformers/multi-qa-mpnet-base-dot-v1\"\n",
        "tokenizer = AutoTokenizer.from_pretrained(model_ckpt)\n",
        "model = AutoModel.from_pretrained(model_ckpt)"
      ]
    },
    {
      "cell_type": "code",
      "execution_count": 4,
      "metadata": {
        "id": "nX3lDtF-Vh32"
      },
      "outputs": [
        {
          "data": {
            "text/plain": [
              "MPNetModel(\n",
              "  (embeddings): MPNetEmbeddings(\n",
              "    (word_embeddings): Embedding(30527, 768, padding_idx=1)\n",
              "    (position_embeddings): Embedding(514, 768, padding_idx=1)\n",
              "    (LayerNorm): LayerNorm((768,), eps=1e-05, elementwise_affine=True)\n",
              "    (dropout): Dropout(p=0.1, inplace=False)\n",
              "  )\n",
              "  (encoder): MPNetEncoder(\n",
              "    (layer): ModuleList(\n",
              "      (0-11): 12 x MPNetLayer(\n",
              "        (attention): MPNetAttention(\n",
              "          (attn): MPNetSelfAttention(\n",
              "            (q): Linear(in_features=768, out_features=768, bias=True)\n",
              "            (k): Linear(in_features=768, out_features=768, bias=True)\n",
              "            (v): Linear(in_features=768, out_features=768, bias=True)\n",
              "            (o): Linear(in_features=768, out_features=768, bias=True)\n",
              "            (dropout): Dropout(p=0.1, inplace=False)\n",
              "          )\n",
              "          (LayerNorm): LayerNorm((768,), eps=1e-05, elementwise_affine=True)\n",
              "          (dropout): Dropout(p=0.1, inplace=False)\n",
              "        )\n",
              "        (intermediate): MPNetIntermediate(\n",
              "          (dense): Linear(in_features=768, out_features=3072, bias=True)\n",
              "          (intermediate_act_fn): GELUActivation()\n",
              "        )\n",
              "        (output): MPNetOutput(\n",
              "          (dense): Linear(in_features=3072, out_features=768, bias=True)\n",
              "          (LayerNorm): LayerNorm((768,), eps=1e-05, elementwise_affine=True)\n",
              "          (dropout): Dropout(p=0.1, inplace=False)\n",
              "        )\n",
              "      )\n",
              "    )\n",
              "    (relative_attention_bias): Embedding(32, 12)\n",
              "  )\n",
              "  (pooler): MPNetPooler(\n",
              "    (dense): Linear(in_features=768, out_features=768, bias=True)\n",
              "    (activation): Tanh()\n",
              "  )\n",
              ")"
            ]
          },
          "execution_count": 4,
          "metadata": {},
          "output_type": "execute_result"
        }
      ],
      "source": [
        "import torch\n",
        "\n",
        "device = torch.device(\"cuda\")\n",
        "model.to(device)"
      ]
    },
    {
      "cell_type": "markdown",
      "metadata": {},
      "source": [
        " > As we mentioned earlier, we’d **like to represent each entry in our GitHub issues corpus as a single vector**, so we **need to “pool” or average our token embeddings** in some way. One popular approach is to **perform CLS pooling on our model’s outputs**, where we **simply collect the last hidden state for the special [CLS] token**. The following function does the trick for us:"
      ]
    },
    {
      "cell_type": "code",
      "execution_count": 5,
      "metadata": {
        "id": "5fDzb5SWVh32"
      },
      "outputs": [],
      "source": [
        "def cls_pooling(model_output):\n",
        "    return model_output.last_hidden_state[:, 0]"
      ]
    },
    {
      "cell_type": "markdown",
      "metadata": {},
      "source": [
        "> Next, we’ll create a helper function that will tokenize a list of documents, place the tensors on the GPU, feed them to the model, and finally apply CLS pooling to the outputs:"
      ]
    },
    {
      "cell_type": "code",
      "execution_count": 6,
      "metadata": {
        "id": "7vnrkBahVh32"
      },
      "outputs": [],
      "source": [
        "def get_embeddings(text_list):\n",
        "    encoded_input = tokenizer(\n",
        "        text_list, padding=True, truncation=True, return_tensors=\"pt\"\n",
        "    )\n",
        "    encoded_input = {k: v.to(device) for k, v in encoded_input.items()}\n",
        "    model_output = model(**encoded_input)\n",
        "    return cls_pooling(model_output)"
      ]
    },
    {
      "cell_type": "code",
      "execution_count": 47,
      "metadata": {
        "id": "27el6788Vh32",
        "outputId": "7ba1f604-edf1-434f-9ab5-5919fc13c3a4"
      },
      "outputs": [
        {
          "data": {
            "text/plain": [
              "torch.Size([1, 768])"
            ]
          },
          "execution_count": 47,
          "metadata": {},
          "output_type": "execute_result"
        }
      ],
      "source": [
        "# embedding = get_embeddings(comments_dataset[\"text\"][0])\n",
        "# embedding.shape\n",
        "embedding = get_embeddings(description_dataset[\"description\"][0])\n",
        "embedding.shape"
      ]
    },
    {
      "cell_type": "code",
      "execution_count": 48,
      "metadata": {
        "id": "dO9LHydvVh32"
      },
      "outputs": [
        {
          "name": "stderr",
          "output_type": "stream",
          "text": [
            "Map: 100%|██████████| 60154/60154 [24:40<00:00, 40.64 examples/s]\n"
          ]
        }
      ],
      "source": [
        "# embeddings_dataset = comments_dataset.map(\n",
        "#     lambda x: {\"embeddings\": get_embeddings(x[\"text\"]).detach().cpu().numpy()[0]}\n",
        "# )\n",
        "embeddings_dataset = description_dataset.map(\n",
        "    lambda x: {\"embeddings\": get_embeddings(x[\"description\"]).detach().cpu().numpy()[0]}\n",
        ")"
      ]
    },
    {
      "cell_type": "code",
      "execution_count": 49,
      "metadata": {
        "id": "7RbZJfVZVh32"
      },
      "outputs": [
        {
          "name": "stderr",
          "output_type": "stream",
          "text": [
            "  0%|          | 0/61 [00:00<?, ?it/s]"
          ]
        },
        {
          "name": "stderr",
          "output_type": "stream",
          "text": [
            "100%|██████████| 61/61 [00:00<00:00, 147.07it/s]\n"
          ]
        },
        {
          "data": {
            "text/plain": [
              "Dataset({\n",
              "    features: ['title', 'description', 'ipc', 'description_length', 'embeddings'],\n",
              "    num_rows: 60154\n",
              "})"
            ]
          },
          "execution_count": 49,
          "metadata": {},
          "output_type": "execute_result"
        }
      ],
      "source": [
        "embeddings_dataset.add_faiss_index(column=\"embeddings\")"
      ]
    },
    {
      "cell_type": "code",
      "execution_count": 14,
      "metadata": {
        "id": "0TYuteMRVh32",
        "outputId": "06a98363-a102-4efa-9f1d-7c0666471847"
      },
      "outputs": [
        {
          "data": {
            "text/plain": [
              "(1, 768)"
            ]
          },
          "execution_count": 14,
          "metadata": {},
          "output_type": "execute_result"
        }
      ],
      "source": [
        "# question = \"How can I load a dataset offline?\"\n",
        "question = \"How to test nucleic acids in a sample\"\n",
        "question_embedding = get_embeddings([question]).cpu().detach().numpy()\n",
        "question_embedding.shape"
      ]
    },
    {
      "cell_type": "code",
      "execution_count": 15,
      "metadata": {
        "id": "42Mxc3zUVh32"
      },
      "outputs": [],
      "source": [
        "# scores, samples = embeddings_dataset.get_nearest_examples(\n",
        "#     \"embeddings\", question_embedding, k=5\n",
        "# )\n",
        "\n",
        "# Loaded version\n",
        "scores, samples = load_dataset.get_nearest_examples(\n",
        "    \"embeddings\", question_embedding, k=5\n",
        ")"
      ]
    },
    {
      "cell_type": "code",
      "execution_count": 16,
      "metadata": {},
      "outputs": [
        {
          "data": {
            "text/plain": [
              "{'title': ['Yeast hybrid vectors and their use for the production of polypeptides',\n",
              "  'PANCREATIC CANCER DETECTION KIT, DEVICE, AND DETECTION METHOD',\n",
              "  'PANCREATIC CANCER DETECTION KIT, DEVICE, AND DETECTION METHOD',\n",
              "  'VACCINE COMPOSITION COMPRISING MUTANT CALRETICULIN',\n",
              "  'NOVEL CRISPR ENZYMES AND SYSTEMS'],\n",
              " 'description': ['nucleic acids are precipitated with 2 volumes of ethanol at -20°C for 10 h. The precipitate is collected by centrifugation (HB-4 rotor, 20 min, 10 000 rpm, 0°C) and dissolved in 20 µl dye mix containing 90% (v/v) formamide (Merck, pro analysis), 1 mM EDTA, 0.05% bromo-phenol blue and 0.05% xylene cyanol blue. The sample is heated at 90°C for 2 min and applied on a 5% polyacrylamide gel in Tris-borate-EDTA (cf. Peacock et al. (39). A single band is visible on the autoradiogram which migrates between the 267 bp and 435 bp 32P-labeled marker DNA fragments obtained from the Hae III digest of the plasmid pBR 322. The 32P-labelled cDNA fragment is extracted from the gel and purified as described by Mueller et al. (42). 20 000 Cerenkov cpm of the 32P-labeled human IFN-a and IFN-β specific cDNA probe are obtained.c) Screening for colonies containing HuIFN cDNA (figure 9)1650 of the transformant colonies prepared as described above (step D) are transferred to nitrocellulose filters BA 85 (Schleicher & Schuell, 8 cm diameter). The cells are lysed and their DNA is denatured and fixed to the filters in situ, according to Grunstein and Hogness (20). The filters bearing the colonies are prehybridized in 4xSET (a solution containing 0.15 M NaCI, 30 mM Tris - HCI (pH 8.0), 1 mM EDTA) 0.1% (w/v) Ficoll 400 (Pharmacia), 0.1% (w/v) polyvinylpyrrolidone (PVP-360, Sigma), 0.1% (v/v) BSA, 0.5% SDS, 50 pg/ml denatured calf-thymus DNA (prepared as follows: 5 mg calf-thymus DNA (type I, Sigma) is boiled for 10 min in 0.5 M NaOH to shear the DNA, neutralized with 5 M acetic acid and precipitated with 2 volumes of ethanol at -20°C. The precipitate is collected by centrifugation in a HB-4 rotor for 10 min at 0°C and redissolved in 500 µl 0.5 mM EDTA) at 65°C for 4h using 20 ml mixtures per filter and hybridized with 103 Cerenkov cpm of the 32P-labeled probe per nitrocellulose filter in 5xSET, 0.02% (w/v) Ficoll, 0.01 % polyvinylpyrrolidone, 0.02% (v/v) BSA, 0.2% SDS and 50 µg/ml denatured calf-thymus DNA. The hybridization is performed at 65°C for 36 h.The filters are rinsed once in chloroform, twice',\n",
              "  'miR-187-5p, miR-1908-5p, miR-371a-5p, and miR-550a-5pSpecifically, miR-125a-3p is hsa-miR-125a-3p, miR-204-3p is hsa-miR-204-3p, miR-1469 is hsa-mtR-1469, miR-575 is hsa-miR-575, miR-150-3p is hsa-miR-150-3p, miR-423-5p is hsa-miR-423-5p, miR-564 is hsa-miR-564, miR-3188 is hsa-miR-3188, miR-1246 is hsa-miR-1246, miR-602 is hsa-miR-602, miR-1290 is hsa-miR-1290, miR-16-5p is hsa-miR-16-5p, miR-451a is hsa-miR-451a, miR-24-3p is hsa-miR-24-3p, miR-187-5p is hsa-miR-187-5p, miR-1908-5p is hsa-miR-1908-5p, miR-371a-5p is hsa-miR-371a-5p, and miR-550a-5p is hsa-miR-550a-5p.Specifically, the nucleic acid(s) is further selected from the group consisting of the following polynucleotides (f) to (j): (f) a polynucleotide consisting of a nucleotide sequence represented by any of SEQ ID NOs: 105 to 122 or a nucleotide sequence derived from the nucleotide sequence by the replacement of u with t, a variant thereof, a derivative thereof, or a fragment thereof comprising 15 or more consecutive nucleotides;(g) a polynucleotide comprising a nucleotide sequence represented by any of SEQ ID NOs: 105 to 122;(h) a polynucleotide consisting of a nucleotide sequence complementary to a nucleotide sequence represented by any of SEQ ID NOs: 105 to 122 or a nucleotide sequence derived from the nucleotide sequence by the replacement of u with t, a variant thereof, a derivative thereof, or a fragment thereof comprising 15 or more consecutive nucleotides;(i) a polynucleotide comprising a nucleotide sequence complementary to a nucleotide sequence represented by any of SEQ ID NOs: 105 to 122 or a nucleotide sequence derived from the nucleotide sequence by the replacement of u with t; and(j) a polynucleotide hybridizing under stringent conditions to any of the polynucleotides (f) to (i).The nucleic acid(s) further used can comprise a nucleic acid capable of specifically binding to at least one or more polynucleotides selected from the following miRNAs: miR-4417, miR-4707-5p, miR-7847-3p, miR-2861, miR-4513, miR-7111-5p, miR-6777-5p, miR-7113-3p, miR-4648, miR-3184-5p, miR-4271, miR-6791-5p, miR-642a-3p, miR-7108-5p, miR-128-1-5p, miR-5196-5p, miR-3178, miR-3656, miR-92a-2-5p, miR-6769b-5p, miR-4689, miR-6076, miR-92b-5p, miR-6774-5p, miR-486-3p, miR-6806-5p, miR-6842-5p, miR-6716-5p, miR-557, miR-4673, miR-4674, miR-4442, miR-1915-3p, miR-4687-3p, and miR-92b-3p.Specifically, miR-4417 is hsa-miR-4417, miR-4707-5p is hsa-miR-4707-5p, miR-7847-3p is hsa-miR-7847-3p, miR-2861 is hsa-miR-2861, miR-4513 is hsa-miR-4513, miR-7111-5p is hsa-miR-7111-5p, miR-6777-5p is hsa-miR-6777-5p, miR-7113-3p is hsa-miR-7113-3p, miR-4648 is hsa-miR-4648, miR-3184-5p is hsa-miR-3184-5p, miR-4271 is hsa-miR-4271, miR-6791-5p is hsa-miR-6791-5p, miR-642a-3p is hsa-miR-642a-3p, miR-7108-5p is hsa-miR-7108-5p, miR-128-1-5p is hsa-miR-128-1-5p, miR-5196-5p is hsa-miR-5196-5p, miR-3178',\n",
              "  'is hsa-miR-3178, miR-3656 is hsa-miR-3656, miR-92a-2-5p is hsa-miR-92a-2-5p, miR-6769b-5p is hsa-miR-6769b-5p, miR-4689 is hsa-miR-4689, miR-6076 is hsa-miR-6076, miR-92b-5p is hsa-miR-92b-5p, miR-6774-5p is hsa-miR-6774-5p, miR-486-3p is hsa-miR-486-3p, miR-6806-5p is hsa-miR-6806-5p, miR-6842-5p is hsa-miR-6842-5p, miR-6716-5p is hsa-miR-6716-5p, miR-557 is hsa-miR-557, miR-4673 is hsa-miR-4673, miR-4674 is hsa-miR-4674, miR-4442 is hsa-miR-4442, miR-1915-3p is hsa-miR-1915-3p, miR-4687-3p is hsa-miR-4687-3p, and miR-92b-3p is hsa-miR-92b-3p.Specifically, the nucleic acid(s) further used is a polynucleotide(s) selected from the group consisting of the following polynucleotides (k) to (o): (k) a polynucleotide consisting of a nucleotide sequence represented by any of SEQ ID NOs: 349 to 383 or a nucleotide sequence derived from the nucleotide sequence by the replacement of u with t, a variant thereof, a derivative thereof, or a fragment thereof comprising 15 or more consecutive nucleotides;(1) a polynucleotide comprising a nucleotide sequence represented by any of SEQ ID NOs: 349 to 383;(m) a polynucleotide consisting of a nucleotide sequence complementary to a nucleotide sequence represented by any of SEQ ID NOs: 349 to 383 or a nucleotide sequence derived from the nucleotide sequence by the replacement of u with t, a variant thereof, a derivative thereof, or a fragment thereof comprising 15 or more consecutive nucleotides;(n) a polynucleotide comprising a nucleotide sequence complementary to a nucleotide sequence represented by any of SEQ ID NOs: 349 to 383 or a nucleotide sequence derived from the nucleotide sequence by the replacement of u with t; and(o) a polynucleotide hybridizing under stringent conditions to any of the polynucleotides (k) to (n).Examples of the sample used in the method of the present invention can include samples prepared from living tissues (preferably pancreatic tissues) or body fluids such as blood, serum, plasma, and urine from subjects. Specifically, for example, an RNA-containing sample prepared from the tissue, a polynucleotide-containing sample further prepared therefrom, a body fluid such as blood, serum, plasma, or urine, a portion or the whole of a living tissue collected from the subject by biopsy or the like, or a living tissue excised by surgery can be used, and the sample for measurement can be prepared therefrom.As used herein, the subject refers to a mammal, for example, a primate such as',\n",
              "  '208, 212, 216, 220, 224, 228, 232, 236, 240, 244, 248, 252, 256, 260, 264, 268, 272, 276, 280, 284, 288; 294, 298, 302, 306, 310, 314, 318, 322, 326, 330, 334, 338, 342, 346, 350, 354, 358, 362, 366, 370, 374, 378, 382, 386, 390, 394, 398, 402, 406, 410, 414, 418, 422, 426, 430, or 434;(b) a nucleic acid comprising a nucleotide sequence as depicted in SEQ ID NO: 1, 5, 9, 13, 17, 21, 25, 29, 33, 37, 41, 45, 49, 53, 57, 61, 65, 69, 73, 77, 81, 85, 89, 93, 97, 101, 105, 109, 113, 117, 121, 125, 129, 133, 137, 141, 145, 149, 153, 157, 161, 165, 169, 173, 177, 181, 185, 189, 193, 197, 201, 205, 209, 213, 217, 221, 225, 229, 233, 237, 241, 245, 249, 253, 257, 261, 265, 269, 273, 277, 281, 285, 291, 295, 299, 303, 307, 311, 315, 319, 323, 327, 331, 335, 339, 343, 347, 351, 355, 359, 363, 367, 371, 375, 379, 383, 387, 391, 395, 399, 403, 407, 411, 415, 419, 423, 427, or 431;(c) a nucleic acid hybridizing under stringent conditions to the complementary strand of the nucleic acid as defined in (a) or (b);(d) a nucleic acid comprising a nucleotide sequence with at least 70 % identity to the nucleotide sequence of the nucleic acids of any one of (a) to (c); and(e) a nucleic acid comprising a nucleotide sequence which is degenerate as a result of the genetic code to the nucleotide sequence of a nucleic acid of any one of (a) to (d).Any methods routinely employed for mutational analyses can be used in accordance with the present invention. The presence of the mutant allele on genomic level, can, for example, be determined by sequencing (such as Sanger sequencing e.g. bidirectional Sanger sequencing) and/or PCR-based detection strategies, such as PCR sizing assays (i.e. PCR followed by fragment analysis e.g. via agarose gel electrophoresis (like high-density agarose gel electrophoresis)).Detection of a mutation in a nucleic acid can be performed by methods known in the art, including direct sequencing, restriction fragment length polymorphism identification (RFLPI) of genomic DNA, random amplified polymorphic detection (RAPD),',\n",
              "  'acid-targeting complex, including the guide sequence to be tested and a control guide sequence different from the test guide sequence, and comparing binding or rate of cleavage at or in the vicinity of the target sequence between the test and control guide sequence reactions. Other assays are possible, and will occur to those skilled in the art.A guide sequence may be selected to target any target sequence. In some embodiments, the target sequence is a sequence within a gene transcript or mRNA.In some embodiments, the target sequence is a sequence within a genome of a cell.In some embodiments, a guide sequence is selected to reduce the degree of secondary structure within the guide sequence. Secondary structure may be determined by any suitable polynucleotide folding algorithm. Some programs are based on calculating the minimal Gibbs free energy. An example of one such algorithm is mFold, as described by Zuker and Stiegler (Nucleic Acids Res. 9 (1981), 133-148). Another example folding algorithm is the online webserver RNAfold, developed at Institute for Theoretical Chemistry at the University of Vienna, using the centroid structure prediction algorithm (see e.g. A.R. Gruber et al., 2008, Cell 106(1): 23-24; and PA Carr and GM Church, 2009, Nature Biotechnology 27(12): 1151-62). Further algorithms may be found in U.S. application Serial No. TBA (attorney docket 44790.11.2022; Broad Reference BI-2013/004A).In some embodiments, a recombination template is also provided. A recombination template may be a component of another vector as described herein, contained in a separate vector, or provided as a separate polynucleotide. In some embodiments, a recombination template is designed to serve as a template in homologous recombination, such as within or near a target sequence nicked or cleaved by a nucleic acid-targeting effector protein as a part of a nucleic acid-targeting complex. A template polynucleotide may be of any suitable length, such as about or more than about 10, 15, 20, 25, 50, 75, 100, 150, 200, 500, 1000, or more nucleotides in length. In some embodiments, the template polynucleotide is complementary to a portion of a polynucleotide comprising the target sequence. When optimally aligned, a template polynucleotide might overlap with one or more nucleotides of a target'],\n",
              " 'ipc': ['C', 'C', 'C', 'C', 'C'],\n",
              " 'description_length': [29757, 53527, 53527, 47968, 195429]}"
            ]
          },
          "execution_count": 16,
          "metadata": {},
          "output_type": "execute_result"
        }
      ],
      "source": [
        "samples"
      ]
    },
    {
      "cell_type": "code",
      "execution_count": 18,
      "metadata": {
        "id": "CEY-C86lVh32"
      },
      "outputs": [],
      "source": [
        "import pandas as pd\n",
        "\n",
        "samples_df = pd.DataFrame.from_dict(samples)\n",
        "samples_df[\"scores\"] = scores\n",
        "samples_df.sort_values(\"scores\", ascending=False, inplace=True)"
      ]
    },
    {
      "cell_type": "code",
      "execution_count": 19,
      "metadata": {},
      "outputs": [
        {
          "data": {
            "text/html": [
              "<div>\n",
              "<style scoped>\n",
              "    .dataframe tbody tr th:only-of-type {\n",
              "        vertical-align: middle;\n",
              "    }\n",
              "\n",
              "    .dataframe tbody tr th {\n",
              "        vertical-align: top;\n",
              "    }\n",
              "\n",
              "    .dataframe thead th {\n",
              "        text-align: right;\n",
              "    }\n",
              "</style>\n",
              "<table border=\"1\" class=\"dataframe\">\n",
              "  <thead>\n",
              "    <tr style=\"text-align: right;\">\n",
              "      <th></th>\n",
              "      <th>title</th>\n",
              "      <th>description</th>\n",
              "      <th>ipc</th>\n",
              "      <th>description_length</th>\n",
              "      <th>scores</th>\n",
              "    </tr>\n",
              "  </thead>\n",
              "  <tbody>\n",
              "    <tr>\n",
              "      <th>4</th>\n",
              "      <td>NOVEL CRISPR ENZYMES AND SYSTEMS</td>\n",
              "      <td>acid-targeting complex, including the guide se...</td>\n",
              "      <td>C</td>\n",
              "      <td>195429</td>\n",
              "      <td>30.071918</td>\n",
              "    </tr>\n",
              "    <tr>\n",
              "      <th>3</th>\n",
              "      <td>VACCINE COMPOSITION COMPRISING MUTANT CALRETIC...</td>\n",
              "      <td>208, 212, 216, 220, 224, 228, 232, 236, 240, 2...</td>\n",
              "      <td>C</td>\n",
              "      <td>47968</td>\n",
              "      <td>29.956596</td>\n",
              "    </tr>\n",
              "    <tr>\n",
              "      <th>2</th>\n",
              "      <td>PANCREATIC CANCER DETECTION KIT, DEVICE, AND D...</td>\n",
              "      <td>is hsa-miR-3178, miR-3656 is hsa-miR-3656, miR...</td>\n",
              "      <td>C</td>\n",
              "      <td>53527</td>\n",
              "      <td>29.729515</td>\n",
              "    </tr>\n",
              "    <tr>\n",
              "      <th>1</th>\n",
              "      <td>PANCREATIC CANCER DETECTION KIT, DEVICE, AND D...</td>\n",
              "      <td>miR-187-5p, miR-1908-5p, miR-371a-5p, and miR-...</td>\n",
              "      <td>C</td>\n",
              "      <td>53527</td>\n",
              "      <td>29.226179</td>\n",
              "    </tr>\n",
              "    <tr>\n",
              "      <th>0</th>\n",
              "      <td>Yeast hybrid vectors and their use for the pro...</td>\n",
              "      <td>nucleic acids are precipitated with 2 volumes ...</td>\n",
              "      <td>C</td>\n",
              "      <td>29757</td>\n",
              "      <td>29.010170</td>\n",
              "    </tr>\n",
              "  </tbody>\n",
              "</table>\n",
              "</div>"
            ],
            "text/plain": [
              "                                               title  \\\n",
              "4                   NOVEL CRISPR ENZYMES AND SYSTEMS   \n",
              "3  VACCINE COMPOSITION COMPRISING MUTANT CALRETIC...   \n",
              "2  PANCREATIC CANCER DETECTION KIT, DEVICE, AND D...   \n",
              "1  PANCREATIC CANCER DETECTION KIT, DEVICE, AND D...   \n",
              "0  Yeast hybrid vectors and their use for the pro...   \n",
              "\n",
              "                                         description ipc  description_length  \\\n",
              "4  acid-targeting complex, including the guide se...   C              195429   \n",
              "3  208, 212, 216, 220, 224, 228, 232, 236, 240, 2...   C               47968   \n",
              "2  is hsa-miR-3178, miR-3656 is hsa-miR-3656, miR...   C               53527   \n",
              "1  miR-187-5p, miR-1908-5p, miR-371a-5p, and miR-...   C               53527   \n",
              "0  nucleic acids are precipitated with 2 volumes ...   C               29757   \n",
              "\n",
              "      scores  \n",
              "4  30.071918  \n",
              "3  29.956596  \n",
              "2  29.729515  \n",
              "1  29.226179  \n",
              "0  29.010170  "
            ]
          },
          "execution_count": 19,
          "metadata": {},
          "output_type": "execute_result"
        }
      ],
      "source": [
        "samples_df"
      ]
    },
    {
      "cell_type": "code",
      "execution_count": 21,
      "metadata": {
        "id": "YNm1oWXmVh32",
        "outputId": "249ba260-bbd1-4e3d-f99e-148f29e721aa"
      },
      "outputs": [
        {
          "name": "stdout",
          "output_type": "stream",
          "text": [
            "TITLE: NOVEL CRISPR ENZYMES AND SYSTEMS\n",
            "SCORE: 30.071918487548828\n",
            "DESCRIPTION: acid-targeting complex, including the guide sequence to be tested and a control guide sequence different from the test guide sequence, and comparing binding or rate of cleavage at or in the vicinity of the target sequence between the test and control guide sequence reactions. Other assays are possible, and will occur to those skilled in the art.A guide sequence may be selected to target any target sequence. In some embodiments, the target sequence is a sequence within a gene transcript or mRNA.In some embodiments, the target sequence is a sequence within a genome of a cell.In some embodiments, a guide sequence is selected to reduce the degree of secondary structure within the guide sequence. Secondary structure may be determined by any suitable polynucleotide folding algorithm. Some programs are based on calculating the minimal Gibbs free energy. An example of one such algorithm is mFold, as described by Zuker and Stiegler (Nucleic Acids Res. 9 (1981), 133-148). Another example folding algorithm is the online webserver RNAfold, developed at Institute for Theoretical Chemistry at the University of Vienna, using the centroid structure prediction algorithm (see e.g. A.R. Gruber et al., 2008, Cell 106(1): 23-24; and PA Carr and GM Church, 2009, Nature Biotechnology 27(12): 1151-62). Further algorithms may be found in U.S. application Serial No. TBA (attorney docket 44790.11.2022; Broad Reference BI-2013/004A).In some embodiments, a recombination template is also provided. A recombination template may be a component of another vector as described herein, contained in a separate vector, or provided as a separate polynucleotide. In some embodiments, a recombination template is designed to serve as a template in homologous recombination, such as within or near a target sequence nicked or cleaved by a nucleic acid-targeting effector protein as a part of a nucleic acid-targeting complex. A template polynucleotide may be of any suitable length, such as about or more than about 10, 15, 20, 25, 50, 75, 100, 150, 200, 500, 1000, or more nucleotides in length. In some embodiments, the template polynucleotide is complementary to a portion of a polynucleotide comprising the target sequence. When optimally aligned, a template polynucleotide might overlap with one or more nucleotides of a target\n",
            "==================================================\n",
            "\n",
            "TITLE: VACCINE COMPOSITION COMPRISING MUTANT CALRETICULIN\n",
            "SCORE: 29.95659637451172\n",
            "DESCRIPTION: 208, 212, 216, 220, 224, 228, 232, 236, 240, 244, 248, 252, 256, 260, 264, 268, 272, 276, 280, 284, 288; 294, 298, 302, 306, 310, 314, 318, 322, 326, 330, 334, 338, 342, 346, 350, 354, 358, 362, 366, 370, 374, 378, 382, 386, 390, 394, 398, 402, 406, 410, 414, 418, 422, 426, 430, or 434;(b) a nucleic acid comprising a nucleotide sequence as depicted in SEQ ID NO: 1, 5, 9, 13, 17, 21, 25, 29, 33, 37, 41, 45, 49, 53, 57, 61, 65, 69, 73, 77, 81, 85, 89, 93, 97, 101, 105, 109, 113, 117, 121, 125, 129, 133, 137, 141, 145, 149, 153, 157, 161, 165, 169, 173, 177, 181, 185, 189, 193, 197, 201, 205, 209, 213, 217, 221, 225, 229, 233, 237, 241, 245, 249, 253, 257, 261, 265, 269, 273, 277, 281, 285, 291, 295, 299, 303, 307, 311, 315, 319, 323, 327, 331, 335, 339, 343, 347, 351, 355, 359, 363, 367, 371, 375, 379, 383, 387, 391, 395, 399, 403, 407, 411, 415, 419, 423, 427, or 431;(c) a nucleic acid hybridizing under stringent conditions to the complementary strand of the nucleic acid as defined in (a) or (b);(d) a nucleic acid comprising a nucleotide sequence with at least 70 % identity to the nucleotide sequence of the nucleic acids of any one of (a) to (c); and(e) a nucleic acid comprising a nucleotide sequence which is degenerate as a result of the genetic code to the nucleotide sequence of a nucleic acid of any one of (a) to (d).Any methods routinely employed for mutational analyses can be used in accordance with the present invention. The presence of the mutant allele on genomic level, can, for example, be determined by sequencing (such as Sanger sequencing e.g. bidirectional Sanger sequencing) and/or PCR-based detection strategies, such as PCR sizing assays (i.e. PCR followed by fragment analysis e.g. via agarose gel electrophoresis (like high-density agarose gel electrophoresis)).Detection of a mutation in a nucleic acid can be performed by methods known in the art, including direct sequencing, restriction fragment length polymorphism identification (RFLPI) of genomic DNA, random amplified polymorphic detection (RAPD),\n",
            "==================================================\n",
            "\n",
            "TITLE: PANCREATIC CANCER DETECTION KIT, DEVICE, AND DETECTION METHOD\n",
            "SCORE: 29.729515075683594\n",
            "DESCRIPTION: is hsa-miR-3178, miR-3656 is hsa-miR-3656, miR-92a-2-5p is hsa-miR-92a-2-5p, miR-6769b-5p is hsa-miR-6769b-5p, miR-4689 is hsa-miR-4689, miR-6076 is hsa-miR-6076, miR-92b-5p is hsa-miR-92b-5p, miR-6774-5p is hsa-miR-6774-5p, miR-486-3p is hsa-miR-486-3p, miR-6806-5p is hsa-miR-6806-5p, miR-6842-5p is hsa-miR-6842-5p, miR-6716-5p is hsa-miR-6716-5p, miR-557 is hsa-miR-557, miR-4673 is hsa-miR-4673, miR-4674 is hsa-miR-4674, miR-4442 is hsa-miR-4442, miR-1915-3p is hsa-miR-1915-3p, miR-4687-3p is hsa-miR-4687-3p, and miR-92b-3p is hsa-miR-92b-3p.Specifically, the nucleic acid(s) further used is a polynucleotide(s) selected from the group consisting of the following polynucleotides (k) to (o): (k) a polynucleotide consisting of a nucleotide sequence represented by any of SEQ ID NOs: 349 to 383 or a nucleotide sequence derived from the nucleotide sequence by the replacement of u with t, a variant thereof, a derivative thereof, or a fragment thereof comprising 15 or more consecutive nucleotides;(1) a polynucleotide comprising a nucleotide sequence represented by any of SEQ ID NOs: 349 to 383;(m) a polynucleotide consisting of a nucleotide sequence complementary to a nucleotide sequence represented by any of SEQ ID NOs: 349 to 383 or a nucleotide sequence derived from the nucleotide sequence by the replacement of u with t, a variant thereof, a derivative thereof, or a fragment thereof comprising 15 or more consecutive nucleotides;(n) a polynucleotide comprising a nucleotide sequence complementary to a nucleotide sequence represented by any of SEQ ID NOs: 349 to 383 or a nucleotide sequence derived from the nucleotide sequence by the replacement of u with t; and(o) a polynucleotide hybridizing under stringent conditions to any of the polynucleotides (k) to (n).Examples of the sample used in the method of the present invention can include samples prepared from living tissues (preferably pancreatic tissues) or body fluids such as blood, serum, plasma, and urine from subjects. Specifically, for example, an RNA-containing sample prepared from the tissue, a polynucleotide-containing sample further prepared therefrom, a body fluid such as blood, serum, plasma, or urine, a portion or the whole of a living tissue collected from the subject by biopsy or the like, or a living tissue excised by surgery can be used, and the sample for measurement can be prepared therefrom.As used herein, the subject refers to a mammal, for example, a primate such as\n",
            "==================================================\n",
            "\n",
            "TITLE: PANCREATIC CANCER DETECTION KIT, DEVICE, AND DETECTION METHOD\n",
            "SCORE: 29.226179122924805\n",
            "DESCRIPTION: miR-187-5p, miR-1908-5p, miR-371a-5p, and miR-550a-5pSpecifically, miR-125a-3p is hsa-miR-125a-3p, miR-204-3p is hsa-miR-204-3p, miR-1469 is hsa-mtR-1469, miR-575 is hsa-miR-575, miR-150-3p is hsa-miR-150-3p, miR-423-5p is hsa-miR-423-5p, miR-564 is hsa-miR-564, miR-3188 is hsa-miR-3188, miR-1246 is hsa-miR-1246, miR-602 is hsa-miR-602, miR-1290 is hsa-miR-1290, miR-16-5p is hsa-miR-16-5p, miR-451a is hsa-miR-451a, miR-24-3p is hsa-miR-24-3p, miR-187-5p is hsa-miR-187-5p, miR-1908-5p is hsa-miR-1908-5p, miR-371a-5p is hsa-miR-371a-5p, and miR-550a-5p is hsa-miR-550a-5p.Specifically, the nucleic acid(s) is further selected from the group consisting of the following polynucleotides (f) to (j): (f) a polynucleotide consisting of a nucleotide sequence represented by any of SEQ ID NOs: 105 to 122 or a nucleotide sequence derived from the nucleotide sequence by the replacement of u with t, a variant thereof, a derivative thereof, or a fragment thereof comprising 15 or more consecutive nucleotides;(g) a polynucleotide comprising a nucleotide sequence represented by any of SEQ ID NOs: 105 to 122;(h) a polynucleotide consisting of a nucleotide sequence complementary to a nucleotide sequence represented by any of SEQ ID NOs: 105 to 122 or a nucleotide sequence derived from the nucleotide sequence by the replacement of u with t, a variant thereof, a derivative thereof, or a fragment thereof comprising 15 or more consecutive nucleotides;(i) a polynucleotide comprising a nucleotide sequence complementary to a nucleotide sequence represented by any of SEQ ID NOs: 105 to 122 or a nucleotide sequence derived from the nucleotide sequence by the replacement of u with t; and(j) a polynucleotide hybridizing under stringent conditions to any of the polynucleotides (f) to (i).The nucleic acid(s) further used can comprise a nucleic acid capable of specifically binding to at least one or more polynucleotides selected from the following miRNAs: miR-4417, miR-4707-5p, miR-7847-3p, miR-2861, miR-4513, miR-7111-5p, miR-6777-5p, miR-7113-3p, miR-4648, miR-3184-5p, miR-4271, miR-6791-5p, miR-642a-3p, miR-7108-5p, miR-128-1-5p, miR-5196-5p, miR-3178, miR-3656, miR-92a-2-5p, miR-6769b-5p, miR-4689, miR-6076, miR-92b-5p, miR-6774-5p, miR-486-3p, miR-6806-5p, miR-6842-5p, miR-6716-5p, miR-557, miR-4673, miR-4674, miR-4442, miR-1915-3p, miR-4687-3p, and miR-92b-3p.Specifically, miR-4417 is hsa-miR-4417, miR-4707-5p is hsa-miR-4707-5p, miR-7847-3p is hsa-miR-7847-3p, miR-2861 is hsa-miR-2861, miR-4513 is hsa-miR-4513, miR-7111-5p is hsa-miR-7111-5p, miR-6777-5p is hsa-miR-6777-5p, miR-7113-3p is hsa-miR-7113-3p, miR-4648 is hsa-miR-4648, miR-3184-5p is hsa-miR-3184-5p, miR-4271 is hsa-miR-4271, miR-6791-5p is hsa-miR-6791-5p, miR-642a-3p is hsa-miR-642a-3p, miR-7108-5p is hsa-miR-7108-5p, miR-128-1-5p is hsa-miR-128-1-5p, miR-5196-5p is hsa-miR-5196-5p, miR-3178\n",
            "==================================================\n",
            "\n",
            "TITLE: Yeast hybrid vectors and their use for the production of polypeptides\n",
            "SCORE: 29.010169982910156\n",
            "DESCRIPTION: nucleic acids are precipitated with 2 volumes of ethanol at -20°C for 10 h. The precipitate is collected by centrifugation (HB-4 rotor, 20 min, 10 000 rpm, 0°C) and dissolved in 20 µl dye mix containing 90% (v/v) formamide (Merck, pro analysis), 1 mM EDTA, 0.05% bromo-phenol blue and 0.05% xylene cyanol blue. The sample is heated at 90°C for 2 min and applied on a 5% polyacrylamide gel in Tris-borate-EDTA (cf. Peacock et al. (39). A single band is visible on the autoradiogram which migrates between the 267 bp and 435 bp 32P-labeled marker DNA fragments obtained from the Hae III digest of the plasmid pBR 322. The 32P-labelled cDNA fragment is extracted from the gel and purified as described by Mueller et al. (42). 20 000 Cerenkov cpm of the 32P-labeled human IFN-a and IFN-β specific cDNA probe are obtained.c) Screening for colonies containing HuIFN cDNA (figure 9)1650 of the transformant colonies prepared as described above (step D) are transferred to nitrocellulose filters BA 85 (Schleicher & Schuell, 8 cm diameter). The cells are lysed and their DNA is denatured and fixed to the filters in situ, according to Grunstein and Hogness (20). The filters bearing the colonies are prehybridized in 4xSET (a solution containing 0.15 M NaCI, 30 mM Tris - HCI (pH 8.0), 1 mM EDTA) 0.1% (w/v) Ficoll 400 (Pharmacia), 0.1% (w/v) polyvinylpyrrolidone (PVP-360, Sigma), 0.1% (v/v) BSA, 0.5% SDS, 50 pg/ml denatured calf-thymus DNA (prepared as follows: 5 mg calf-thymus DNA (type I, Sigma) is boiled for 10 min in 0.5 M NaOH to shear the DNA, neutralized with 5 M acetic acid and precipitated with 2 volumes of ethanol at -20°C. The precipitate is collected by centrifugation in a HB-4 rotor for 10 min at 0°C and redissolved in 500 µl 0.5 mM EDTA) at 65°C for 4h using 20 ml mixtures per filter and hybridized with 103 Cerenkov cpm of the 32P-labeled probe per nitrocellulose filter in 5xSET, 0.02% (w/v) Ficoll, 0.01 % polyvinylpyrrolidone, 0.02% (v/v) BSA, 0.2% SDS and 50 µg/ml denatured calf-thymus DNA. The hybridization is performed at 65°C for 36 h.The filters are rinsed once in chloroform, twice\n",
            "==================================================\n",
            "\n"
          ]
        }
      ],
      "source": [
        "for _, row in samples_df.iterrows():\n",
        "    print(f\"TITLE: {row.title}\")\n",
        "    print(f\"SCORE: {row.scores}\")\n",
        "    print(f\"DESCRIPTION: {row.description}\")\n",
        "    print(\"=\" * 50)\n",
        "    print()"
      ]
    },
    {
      "cell_type": "markdown",
      "metadata": {},
      "source": [
        "# Save and reload FAISS database\n",
        "\n",
        "**references:**\n",
        "\n",
        "[1] https://huggingface.co/docs/datasets/v1.2.0/faiss_and_ea.html\n",
        "\n",
        "[2] https://discuss.huggingface.co/t/save-and-load-datasets/9260"
      ]
    },
    {
      "cell_type": "markdown",
      "metadata": {},
      "source": [
        "## Save"
      ]
    },
    {
      "cell_type": "code",
      "execution_count": 51,
      "metadata": {},
      "outputs": [
        {
          "name": "stderr",
          "output_type": "stream",
          "text": [
            "Saving the dataset (1/1 shards): 100%|██████████| 60154/60154 [00:00<00:00, 392558.11 examples/s]\n"
          ]
        }
      ],
      "source": [
        "description_dataset.save_to_disk('epo_dataset')"
      ]
    },
    {
      "cell_type": "code",
      "execution_count": 50,
      "metadata": {},
      "outputs": [],
      "source": [
        "# ds_with_embeddings.save_faiss_index('embeddings', 'my_index.faiss')\n",
        "embeddings_dataset.save_faiss_index('embeddings', 'epo_index.faiss')"
      ]
    },
    {
      "cell_type": "markdown",
      "metadata": {},
      "source": [
        "## Load"
      ]
    },
    {
      "cell_type": "code",
      "execution_count": 7,
      "metadata": {},
      "outputs": [],
      "source": [
        "# ds = load_dataset('crime_and_punish', split='train[:100]')\n",
        "# ds.load_faiss_index('embeddings', 'my_index.faiss')\n",
        "from datasets import load_from_disk\n",
        "load_dataset = load_from_disk('./epo_dataset')"
      ]
    },
    {
      "cell_type": "code",
      "execution_count": 8,
      "metadata": {},
      "outputs": [],
      "source": [
        "load_dataset.load_faiss_index('embeddings', 'epo_index.faiss')"
      ]
    },
    {
      "cell_type": "code",
      "execution_count": null,
      "metadata": {},
      "outputs": [],
      "source": []
    }
  ],
  "metadata": {
    "colab": {
      "name": "Semantic search with FAISS (PyTorch)",
      "provenance": []
    },
    "kernelspec": {
      "display_name": "gpuenv",
      "language": "python",
      "name": "python3"
    },
    "language_info": {
      "codemirror_mode": {
        "name": "ipython",
        "version": 3
      },
      "file_extension": ".py",
      "mimetype": "text/x-python",
      "name": "python",
      "nbconvert_exporter": "python",
      "pygments_lexer": "ipython3",
      "version": "3.12.9"
    }
  },
  "nbformat": 4,
  "nbformat_minor": 0
}
