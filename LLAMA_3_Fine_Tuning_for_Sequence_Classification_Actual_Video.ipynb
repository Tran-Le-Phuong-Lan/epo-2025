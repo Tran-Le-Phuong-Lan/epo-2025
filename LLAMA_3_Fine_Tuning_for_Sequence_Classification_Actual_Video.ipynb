{
  "cells": [
    {
      "cell_type": "markdown",
      "metadata": {
        "colab_type": "text",
        "id": "view-in-github"
      },
      "source": [
        "<a href=\"https://colab.research.google.com/github/adidror005/youtube-videos/blob/main/LLAMA_3_Fine_Tuning_for_Sequence_Classification_Actual_Video.ipynb\" target=\"_parent\"><img src=\"https://colab.research.google.com/assets/colab-badge.svg\" alt=\"Open In Colab\"/></a>"
      ]
    },
    {
      "cell_type": "markdown",
      "metadata": {
        "id": "IqufrL0vwDod"
      },
      "source": [
        "# LLAMA3 Fine-tuning for text classification using QLORA\n",
        "\n",
        "\n",
        "### Requirements:\n",
        "* A GPU with enough memory!\n",
        "\n",
        "### Installs\n",
        "* They suggest using latest version of transformers\n",
        "* Must restart after install because the accelerate package used in the hugging face trainer requires it."
      ]
    },
    {
      "cell_type": "code",
      "execution_count": 2,
      "metadata": {},
      "outputs": [],
      "source": [
        "# Install Pytorch\n",
        "# ! pip install \"torch==2.5.0\" tensorboard"
      ]
    },
    {
      "cell_type": "code",
      "execution_count": 3,
      "metadata": {},
      "outputs": [],
      "source": [
        "# %pip install  --upgrade \"transformers==4.40.0\" \n",
        "# ! pip install transformers"
      ]
    },
    {
      "cell_type": "code",
      "execution_count": 4,
      "metadata": {},
      "outputs": [],
      "source": [
        "# ! pip install datasets"
      ]
    },
    {
      "cell_type": "code",
      "execution_count": 5,
      "metadata": {},
      "outputs": [],
      "source": [
        "# ! pip install accelerate"
      ]
    },
    {
      "cell_type": "code",
      "execution_count": 6,
      "metadata": {},
      "outputs": [],
      "source": [
        "# ! pip install evaluate "
      ]
    },
    {
      "cell_type": "code",
      "execution_count": 7,
      "metadata": {},
      "outputs": [],
      "source": [
        "# ! pip install bitsandbytes"
      ]
    },
    {
      "cell_type": "code",
      "execution_count": 8,
      "metadata": {},
      "outputs": [],
      "source": [
        "# ! pip install huggingface_hub"
      ]
    },
    {
      "cell_type": "code",
      "execution_count": 9,
      "metadata": {},
      "outputs": [],
      "source": [
        "# ! pip install trl"
      ]
    },
    {
      "cell_type": "code",
      "execution_count": 10,
      "metadata": {},
      "outputs": [],
      "source": [
        "# ! pip install peft"
      ]
    },
    {
      "cell_type": "code",
      "execution_count": 14,
      "metadata": {
        "colab": {
          "base_uri": "https://localhost:8080/"
        },
        "collapsed": true,
        "id": "QzSvk9-psdeH",
        "outputId": "2908f2e2-013a-4c71-ed9a-ea390adf2d06"
      },
      "outputs": [],
      "source": [
        "\n",
        "\n",
        "# # Install Hugging Face libraries\n",
        "# %pip install  --upgrade \"transformers==4.40.0\" \"datasets==2.18.0\" \"accelerate==0.29.3\" \"evaluate==0.4.1\" \"bitsandbytes==0.43.1\" \"huggingface_hub==0.22.2\" \"trl==0.8.6\" \"peft==0.10.0\"\n"
      ]
    },
    {
      "cell_type": "markdown",
      "metadata": {
        "id": "jIS0yOVNRHcB"
      },
      "source": [
        "### Big Picture Overview of Parameter Efficient Fine Tuning Methods like LoRA and QLoRA Fine Tuning for Sequence Classification\n",
        "\n",
        "**The Essence of Fine-tuning**\n",
        "- LLMs are pre-trained on vast amounts of data for broad language understanding.\n",
        "- Fine-tuning is crucial for specializing in specific domains or tasks, involving adjustments with smaller, relevant datasets.\n",
        "\n",
        "**Model Fine-tuning with PEFT: Exploring LoRA and QLoRA**\n",
        "- Traditional fine-tuning is resource-intensive; PEFT (Parameter Efficient Fine-tuning) makes the process faster and less demanding.\n",
        "- Focus on two PEFT methods: LoRA and QLoRA.\n",
        "\n",
        "**The Power of PEFT**\n",
        "- PEFT modifies only a subset of the LLM's parameters, enhancing speed and reducing memory demands, making it suitable for less powerful devices.\n",
        "\n",
        "**LoRA: Efficiency through Adapters**\n",
        "- **Low-Rank Adaptation (LoRA):** Injects small trainable adapters into the pre-trained model.\n",
        "- **Equation:** For a weight matrix $W$, LoRA approximates $W = W_0 + BA$, where $W_0$ is the original weight matrix, and $BA$ represents the low-rank modification through trainable matrices $B$ and $A$.\n",
        "- Adapters learn task nuances while keeping the majority of the LLM unchanged, minimizing overhead.\n",
        "\n",
        "**QLoRA: Compression and Speed**\n",
        "- **Quantized LoRA (QLoRA):** Extends LoRA by quantizing the model’s weights, further reducing size and enhancing speed.\n",
        "- **Innovations in QLoRA:**\n",
        "  1. **4-bit Quantization:** Uses a 4-bit data type, NormalFloat (NF4), for optimal weight quantization, drastically reducing memory usage.\n",
        "  2. **Low-Rank Adapters:** Fine-tuned with 16-bit precision to effectively capture task-specific nuances.\n",
        "  3. **Double Quantization:** Reduces quantization constants from 32-bit to 8-bit, saving additional memory without accuracy loss.\n",
        "  4. **Paged Optimizers:** Manages memory efficiently during training, optimizing for large tasks.\n",
        "\n",
        "**Why PEFT Matters**\n",
        "- **Rapid Learning:** Speeds up model adaptation.\n",
        "- **Smaller Footprint:** Eases deployment with reduced model size.\n",
        "- **Edge-Friendly:** Fits better on devices with limited resources, enhancing accessibility.\n",
        "\n",
        "**Conclusion**\n",
        "- PEFT methods like LoRA and QLoRA revolutionize LLM fine-tuning by focusing on efficiency, facilitating faster adaptability, smaller models, and broader device compatibility.\n",
        "\n",
        "\n"
      ]
    },
    {
      "cell_type": "markdown",
      "metadata": {
        "id": "QAs9tbj8tiBZ"
      },
      "source": [
        "### Fine-tuning for Sentiment Analysis Classification:\n",
        "\n",
        "\n",
        "#### 1. Text Generation with Sentiment Label as part of text\n",
        "- **Approach**: Train the model to generate text that naturally appends the sentiment label at the end.\n",
        "- **Input**: \"TSLA slashes model Y prices ======\"\n",
        "- **Output**: \"TSLA slashes model Y prices ====== Bearish\"\n",
        "- **Use Case**: This method is useful for applications requiring continuous text output that includes embedded sentiment analysis, such as interactive chatbots or automated content creation tools.\n",
        "\n",
        "\n",
        "#### 2. Sequence Classification Head\n",
        "- **Approach**: Add a sequence classification head (linear layer) on top of the LLaMa Model transformer. This setup is similar to GPT-2 and focuses on classifying the sentiment based on the last relevant token in the sequence.\n",
        "    - **Token Positioning**:\n",
        "        - **With pad_token_id**: The model identifies and ignores padding tokens, using the last non-padding token for classification.\n",
        "        - **Without pad_token_id**: It defaults to the last token in each sequence.\n",
        "        - **inputs_embeds**: If embeddings are directly passed (without input_ids), the model cannot identify padding tokens and takes the last embedding in each sequence as the input for classification.\n",
        "- **Input**: Specific sentences (e.g., \"TSLA slashes Model Y prices\").\n",
        "- **Output**: Direct sentiment classification (e.g., \"Bearish\").\n",
        "- **Training Objective**: Minimize cross-entropy loss between the predicted and the actual sentiment labels.\n",
        "\n",
        "https://huggingface.co/docs/transformers/main/en/model_doc/llama\n",
        "\n",
        "### Peft Configs\n",
        "* Bits and bytes config for quantization\n",
        "* Lora config for lora\n",
        "\n",
        "### Going to use Hugginface Transformers trainer class: Main componenents\n",
        "* Hugging face dataset (for train + eval)\n",
        "* Data collater\n",
        "* Compute Metrics\n",
        "* Class weights since we use custom trainer and also custom weighted loss..\n",
        "* trainingArgs: like # epochs, learning rate, weight decay etc..\n",
        "\n"
      ]
    },
    {
      "cell_type": "markdown",
      "metadata": {
        "id": "zCNt55YNyA3d"
      },
      "source": [
        "### Login to huggingface hub to put your LLama token so we can access Llama 3 7B Param Pre-trained Model"
      ]
    },
    {
      "cell_type": "code",
      "execution_count": 48,
      "metadata": {
        "colab": {
          "base_uri": "https://localhost:8080/"
        },
        "collapsed": true,
        "id": "N8157Tsw3Vo3",
        "outputId": "e5b95d7b-c101-401e-ac8f-09e4e6f9ae7a"
      },
      "outputs": [],
      "source": [
        "#  !huggingface-cli login # can not used through epo tip platform"
      ]
    },
    {
      "cell_type": "markdown",
      "metadata": {},
      "source": [
        "### Alternative to hugging face -cli"
      ]
    },
    {
      "cell_type": "code",
      "execution_count": 56,
      "metadata": {},
      "outputs": [],
      "source": [
        "# ! pip install huggingface_hub"
      ]
    },
    {
      "cell_type": "code",
      "execution_count": 57,
      "metadata": {},
      "outputs": [],
      "source": [
        "# from huggingface_hub import login\n",
        "# login(token=\"your token\")"
      ]
    },
    {
      "cell_type": "markdown",
      "metadata": {
        "id": "Z_5AVUyey1io"
      },
      "source": [
        "###### Imports"
      ]
    },
    {
      "cell_type": "code",
      "execution_count": 1,
      "metadata": {
        "id": "h5NPLc7isjdM"
      },
      "outputs": [
        {
          "name": "stderr",
          "output_type": "stream",
          "text": [
            "/home/lephuonglantran/.conda/envs/gpuenv/lib/python3.13/site-packages/tqdm/auto.py:21: TqdmWarning: IProgress not found. Please update jupyter and ipywidgets. See https://ipywidgets.readthedocs.io/en/stable/user_install.html\n",
            "  from .autonotebook import tqdm as notebook_tqdm\n"
          ]
        }
      ],
      "source": [
        "import os\n",
        "import random\n",
        "import functools\n",
        "import csv\n",
        "import pandas as pd\n",
        "import numpy as np\n",
        "import torch\n",
        "import torch.nn.functional as F\n",
        "import evaluate\n",
        "\n",
        "from sklearn.datasets import make_classification\n",
        "from sklearn.model_selection import train_test_split\n",
        "from sklearn.linear_model import LogisticRegression\n",
        "from sklearn.metrics import f1_score, confusion_matrix, classification_report, balanced_accuracy_score, accuracy_score\n",
        "\n",
        "from datasets import Dataset, DatasetDict\n",
        "from peft import LoraConfig, prepare_model_for_kbit_training, get_peft_model\n",
        "\n",
        "from transformers import (\n",
        "    AutoModelForSequenceClassification,\n",
        "    AutoTokenizer,\n",
        "    BitsAndBytesConfig,\n",
        "    TrainingArguments,\n",
        "    Trainer,\n",
        "    DataCollatorWithPadding\n",
        ")\n"
      ]
    },
    {
      "cell_type": "markdown",
      "metadata": {
        "id": "A5NaDTjvbO5u"
      },
      "source": [
        "### Youtube Video Describing How to get Dataset\n",
        "* Only really need first 3 mins of video"
      ]
    },
    {
      "cell_type": "code",
      "execution_count": null,
      "metadata": {
        "colab": {
          "base_uri": "https://localhost:8080/",
          "height": 321
        },
        "id": "aO711xGybRai",
        "outputId": "ed4a7ba4-49bb-464a-a0a3-fe8ae859b6e5"
      },
      "outputs": [
        {
          "data": {
            "image/jpeg": "[encoded data removed]",
            "text/html": [
              "\n",
              "        <iframe\n",
              "            width=\"400\"\n",
              "            height=\"300\"\n",
              "            src=\"https://www.youtube.com/embed/ascf3y7zSaY\"\n",
              "            frameborder=\"0\"\n",
              "            allowfullscreen\n",
              "            \n",
              "        ></iframe>\n",
              "        "
            ],
            "text/plain": [
              "<IPython.lib.display.YouTubeVideo at 0x7b98ea010ee0>"
            ]
          },
          "execution_count": 1,
          "metadata": {},
          "output_type": "execute_result"
        }
      ],
      "source": [
        "from IPython.display import YouTubeVideo\n",
        "YouTubeVideo('ascf3y7zSaY')"
      ]
    },
    {
      "cell_type": "markdown",
      "metadata": {
        "id": "OPHo5hnA1Fsq"
      },
      "source": [
        "#### Load TSLA sentiment analysis dataset\n",
        "* Derived from Alpha vantage text data...\n"
      ]
    },
    {
      "cell_type": "code",
      "execution_count": 2,
      "metadata": {
        "colab": {
          "base_uri": "https://localhost:8080/",
          "height": 423
        },
        "id": "yFIRWaIH1SHb",
        "outputId": "7330c507-f343-4347-d6a0-f63a57b6a23c"
      },
      "outputs": [
        {
          "name": "stdout",
          "output_type": "stream",
          "text": [
            "row counts in df_1: 1848\n",
            "row counts in df_2: 22\n",
            "row counts in df_epo: 1870\n"
          ]
        }
      ],
      "source": [
        "# df = pd.read_csv(\"tsla_sentiment.csv\")\n",
        "# df\n",
        "\n",
        "# ref: \n",
        "# [1] https://pandas.pydata.org/docs/reference/api/pandas.concat.html\n",
        "# [2] https://www.usepandas.com/csv/append-csv-files\n",
        "# combine pandas csv\n",
        "df_1 = pd.read_csv(\"/home/lephuonglantran/EPO2024/df_combine.csv\")\n",
        "print(f\"row counts in df_1: {len(df_1)}\")\n",
        "df_2 = pd.read_csv(\"/home/lephuonglantran/EPO2024/df_combine_val.csv\")\n",
        "print(f\"row counts in df_2: {len(df_2)}\")\n",
        "df = pd.concat([df_1, df_2], ignore_index=True)\n",
        "\n",
        "print(f\"row counts in df_epo: {len(df)}\")"
      ]
    },
    {
      "cell_type": "code",
      "execution_count": 3,
      "metadata": {},
      "outputs": [],
      "source": [
        "# df"
      ]
    },
    {
      "cell_type": "markdown",
      "metadata": {
        "id": "tC0ls6RVlzHC"
      },
      "source": [
        "* Add also a numeric 0,1,2 version of label since we will need it later for fine tuning. We can save it in 'target'"
      ]
    },
    {
      "cell_type": "code",
      "execution_count": 4,
      "metadata": {
        "colab": {
          "base_uri": "https://localhost:8080/",
          "height": 206
        },
        "id": "kHiBd07ikx0N",
        "outputId": "923ca1bb-ef66-401a-fef1-71744938bc4f"
      },
      "outputs": [
        {
          "data": {
            "text/html": [
              "<div>\n",
              "<style scoped>\n",
              "    .dataframe tbody tr th:only-of-type {\n",
              "        vertical-align: middle;\n",
              "    }\n",
              "\n",
              "    .dataframe tbody tr th {\n",
              "        vertical-align: top;\n",
              "    }\n",
              "\n",
              "    .dataframe thead th {\n",
              "        text-align: right;\n",
              "    }\n",
              "</style>\n",
              "<table border=\"1\" class=\"dataframe\">\n",
              "  <thead>\n",
              "    <tr style=\"text-align: right;\">\n",
              "      <th></th>\n",
              "      <th>title</th>\n",
              "      <th>description</th>\n",
              "      <th>claims</th>\n",
              "      <th>ipc</th>\n",
              "      <th>target</th>\n",
              "    </tr>\n",
              "  </thead>\n",
              "  <tbody>\n",
              "    <tr>\n",
              "      <th>0</th>\n",
              "      <td>METHOD FOR MULTIPLEX NUCLEIC ACID ANALYSIS</td>\n",
              "      <td>FIELD OF INVENTIONThe present invention relate...</td>\n",
              "      <td>A method of assaying nucleic acids in a sample...</td>\n",
              "      <td>C</td>\n",
              "      <td>2</td>\n",
              "    </tr>\n",
              "    <tr>\n",
              "      <th>1</th>\n",
              "      <td>METHODS FOR ISOLATING BACTERIA</td>\n",
              "      <td>The present invention discloses compositions a...</td>\n",
              "      <td>A method to identify or isolate a bacterium wh...</td>\n",
              "      <td>C</td>\n",
              "      <td>2</td>\n",
              "    </tr>\n",
              "    <tr>\n",
              "      <th>2</th>\n",
              "      <td>EMULSIFYING DISPERSANTS, METHOD FOR EMUSIFICAT...</td>\n",
              "      <td>TECHNICAL FIELDThe present invention relates t...</td>\n",
              "      <td>An emulsification dispersant, wherein the main...</td>\n",
              "      <td>B</td>\n",
              "      <td>1</td>\n",
              "    </tr>\n",
              "    <tr>\n",
              "      <th>3</th>\n",
              "      <td>Silibinin component for the treatment of hepat...</td>\n",
              "      <td>This invention relates to the use of a silibin...</td>\n",
              "      <td>A silibinin component for use in the treatment...</td>\n",
              "      <td>A</td>\n",
              "      <td>0</td>\n",
              "    </tr>\n",
              "    <tr>\n",
              "      <th>4</th>\n",
              "      <td>Zone detection in a GNSS system</td>\n",
              "      <td>The present invention concerns, according to a...</td>\n",
              "      <td>Method for zone based detection of vehicles pa...</td>\n",
              "      <td>G</td>\n",
              "      <td>6</td>\n",
              "    </tr>\n",
              "  </tbody>\n",
              "</table>\n",
              "</div>"
            ],
            "text/plain": [
              "                                               title  \\\n",
              "0         METHOD FOR MULTIPLEX NUCLEIC ACID ANALYSIS   \n",
              "1                     METHODS FOR ISOLATING BACTERIA   \n",
              "2  EMULSIFYING DISPERSANTS, METHOD FOR EMUSIFICAT...   \n",
              "3  Silibinin component for the treatment of hepat...   \n",
              "4                    Zone detection in a GNSS system   \n",
              "\n",
              "                                         description  \\\n",
              "0  FIELD OF INVENTIONThe present invention relate...   \n",
              "1  The present invention discloses compositions a...   \n",
              "2  TECHNICAL FIELDThe present invention relates t...   \n",
              "3  This invention relates to the use of a silibin...   \n",
              "4  The present invention concerns, according to a...   \n",
              "\n",
              "                                              claims ipc  target  \n",
              "0  A method of assaying nucleic acids in a sample...   C       2  \n",
              "1  A method to identify or isolate a bacterium wh...   C       2  \n",
              "2  An emulsification dispersant, wherein the main...   B       1  \n",
              "3  A silibinin component for use in the treatment...   A       0  \n",
              "4  Method for zone based detection of vehicles pa...   G       6  "
            ]
          },
          "execution_count": 4,
          "metadata": {},
          "output_type": "execute_result"
        }
      ],
      "source": [
        "# df['label']=df['label'].astype('category')\n",
        "# df['target']=df['label'].cat.codes\n",
        "\n",
        "# df.head()\n",
        "\n",
        "df['ipc']=df['ipc'].astype('category')\n",
        "df['target']=df['ipc'].cat.codes\n",
        "df.head()"
      ]
    },
    {
      "cell_type": "markdown",
      "metadata": {
        "id": "OnaLFMhfk1u_"
      },
      "source": [
        "* Suppose you want to decode later"
      ]
    },
    {
      "cell_type": "code",
      "execution_count": 5,
      "metadata": {
        "colab": {
          "base_uri": "https://localhost:8080/"
        },
        "id": "r0eMOMiky_8b",
        "outputId": "f9e20d26-b118-4b1a-e7b0-5a16f0a083ca"
      },
      "outputs": [
        {
          "data": {
            "text/plain": [
              "Index(['A', 'B', 'C', 'D', 'E', 'F', 'G', 'H'], dtype='object')"
            ]
          },
          "execution_count": 5,
          "metadata": {},
          "output_type": "execute_result"
        }
      ],
      "source": [
        "# IMPORTANT: in order to use this, if we already run the previous code,\n",
        "# then we have to rerun the following: (before running the .cat.categories)\n",
        "df_decode = pd.read_csv(\"/home/lephuonglantran/EPO2024/df_combine.csv\")\n",
        "df_decode['ipc']=df_decode['ipc'].astype('category')\n",
        "\n",
        "# df['label'].cat.categories\n",
        "df_decode['ipc'].cat.categories"
      ]
    },
    {
      "cell_type": "code",
      "execution_count": 6,
      "metadata": {
        "colab": {
          "base_uri": "https://localhost:8080/"
        },
        "id": "oZEezWPak0Oh",
        "outputId": "d45a3d70-93fe-40aa-80cf-04a8f9f368a6"
      },
      "outputs": [
        {
          "data": {
            "text/plain": [
              "{0: 'A', 1: 'B', 2: 'C', 3: 'D', 4: 'E', 5: 'F', 6: 'G', 7: 'H'}"
            ]
          },
          "execution_count": 6,
          "metadata": {},
          "output_type": "execute_result"
        }
      ],
      "source": [
        "# category_map = {code: category for code, category in enumerate(df['label'].cat.categories)}\n",
        "# category_map\n",
        "category_map = {code: category for code, category in enumerate(df_decode['ipc'].cat.categories)}\n",
        "category_map"
      ]
    },
    {
      "cell_type": "markdown",
      "metadata": {
        "id": "OKz778AH1zSZ"
      },
      "source": [
        "### Split into train/val/test for later comparison.\n",
        "* For simplicity we split based on time.\n",
        "  - First 60% train\n",
        "  - Next 20% val\n",
        "  - Next 20% test\n",
        "* This can be problematic a bit since class balance changes over time and some articles on boundries between train/val or val/test have some overlap, but completely beats bias of stratified sample usually used since some articles are literally on same thing, but maybe different sources.\n"
      ]
    },
    {
      "cell_type": "code",
      "execution_count": 7,
      "metadata": {
        "colab": {
          "base_uri": "https://localhost:8080/"
        },
        "id": "b6otP7Zi1z20",
        "outputId": "4cf4b6e1-eb88-4b54-8c99-082e6ab0141d"
      },
      "outputs": [
        {
          "name": "stdout",
          "output_type": "stream",
          "text": [
            "(1122, 5) (374, 5) (374, 5)\n"
          ]
        }
      ],
      "source": [
        "train_end_point = int(df.shape[0]*0.6)\n",
        "val_end_point = int(df.shape[0]*0.8)\n",
        "df_train = df.iloc[:train_end_point,:]\n",
        "df_val = df.iloc[train_end_point:val_end_point,:]\n",
        "df_test = df.iloc[val_end_point:,:]\n",
        "print(df_train.shape, df_test.shape, df_val.shape)\n",
        "\n"
      ]
    },
    {
      "cell_type": "markdown",
      "metadata": {
        "id": "nv3ToinDzIwE"
      },
      "source": [
        "### Convert from Pandas DataFrame to Hugging Face Dataset\n",
        "* Also let's shuffle the training set.\n",
        "* We put the components train,val,test into a DatasetDict so we can access them later with HF trainer.\n",
        "* Later we will add a tokenized dataset\n"
      ]
    },
    {
      "cell_type": "code",
      "execution_count": 8,
      "metadata": {
        "id": "1g5EdzTN21Tq"
      },
      "outputs": [],
      "source": [
        "# Converting pandas DataFrames into Hugging Face Dataset objects:\n",
        "# dataset_train = Dataset.from_pandas(df_train.drop('label',axis=1))\n",
        "# dataset_val = Dataset.from_pandas(df_val.drop('label',axis=1))\n",
        "# dataset_test = Dataset.from_pandas(df_test.drop('label',axis=1))\n",
        "\n",
        "dataset_train = Dataset.from_pandas(df_train.drop('ipc',axis=1))\n",
        "dataset_val = Dataset.from_pandas(df_val.drop('ipc',axis=1))\n",
        "dataset_test = Dataset.from_pandas(df_test.drop('ipc',axis=1))"
      ]
    },
    {
      "cell_type": "code",
      "execution_count": 9,
      "metadata": {
        "id": "EjSFUqr4zbG9"
      },
      "outputs": [],
      "source": [
        "# Shuffle the training dataset\n",
        "dataset_train_shuffled = dataset_train.shuffle(seed=42)  # Using a seed for reproducibility\n"
      ]
    },
    {
      "cell_type": "code",
      "execution_count": 10,
      "metadata": {
        "colab": {
          "base_uri": "https://localhost:8080/"
        },
        "id": "xREu-St-zeGE",
        "outputId": "55f77eb0-d2c9-48c1-dbf0-4b3ed8d1e3f6"
      },
      "outputs": [
        {
          "data": {
            "text/plain": [
              "DatasetDict({\n",
              "    train: Dataset({\n",
              "        features: ['title', 'description', 'claims', 'target'],\n",
              "        num_rows: 1122\n",
              "    })\n",
              "    val: Dataset({\n",
              "        features: ['title', 'description', 'claims', 'target'],\n",
              "        num_rows: 374\n",
              "    })\n",
              "    test: Dataset({\n",
              "        features: ['title', 'description', 'claims', 'target'],\n",
              "        num_rows: 374\n",
              "    })\n",
              "})"
            ]
          },
          "execution_count": 10,
          "metadata": {},
          "output_type": "execute_result"
        }
      ],
      "source": [
        "# Combine them into a single DatasetDict\n",
        "dataset = DatasetDict({\n",
        "    'train': dataset_train_shuffled,\n",
        "    'val': dataset_val,\n",
        "    'test': dataset_test\n",
        "})\n",
        "dataset"
      ]
    },
    {
      "cell_type": "code",
      "execution_count": 12,
      "metadata": {
        "colab": {
          "base_uri": "https://localhost:8080/"
        },
        "id": "sTP9exNizh1N",
        "outputId": "1424ce62-a680-4bf9-822e-1bdef0153b27"
      },
      "outputs": [],
      "source": [
        "# dataset['train']"
      ]
    },
    {
      "cell_type": "markdown",
      "metadata": {
        "id": "b6mX_Hfe0hei"
      },
      "source": [
        "* Since our classes are not balanced let's calculate class weights based on inverse value counts\n",
        "* Convert to pytorch tensor since we will need it"
      ]
    },
    {
      "cell_type": "code",
      "execution_count": 13,
      "metadata": {
        "colab": {
          "base_uri": "https://localhost:8080/"
        },
        "id": "Z6z0M7tf0g3q",
        "outputId": "0f98bc58-a02a-4b67-96ea-48587f0a610d"
      },
      "outputs": [
        {
          "data": {
            "text/plain": [
              "target\n",
              "2    0.349376\n",
              "0    0.215686\n",
              "6    0.151515\n",
              "7    0.115865\n",
              "1    0.103387\n",
              "5    0.032977\n",
              "4    0.018717\n",
              "3    0.012478\n",
              "Name: proportion, dtype: float64"
            ]
          },
          "execution_count": 13,
          "metadata": {},
          "output_type": "execute_result"
        }
      ],
      "source": [
        "df_train.target.value_counts(normalize=True)"
      ]
    },
    {
      "cell_type": "code",
      "execution_count": 14,
      "metadata": {
        "colab": {
          "base_uri": "https://localhost:8080/"
        },
        "id": "e6Nvgfy-zsyM",
        "outputId": "d4c6c212-6cff-40c4-987e-4fcc754c69ed"
      },
      "outputs": [
        {
          "data": {
            "text/plain": [
              "tensor([0.0236, 0.0493, 0.0146, 0.4083, 0.2722, 0.1545, 0.0336, 0.0440])"
            ]
          },
          "execution_count": 14,
          "metadata": {},
          "output_type": "execute_result"
        }
      ],
      "source": [
        "class_weights=(1/df_train.target.value_counts(normalize=True).sort_index()).tolist()\n",
        "class_weights=torch.tensor(class_weights)\n",
        "class_weights=class_weights/class_weights.sum()\n",
        "class_weights\n"
      ]
    },
    {
      "cell_type": "markdown",
      "metadata": {
        "id": "QolyR2Cd2Bsg"
      },
      "source": [
        "## Load LLama model with 4 bit quantization as specified in bits and bytes and prepare model for peft training\n",
        "\n",
        "### Model Name"
      ]
    },
    {
      "cell_type": "code",
      "execution_count": 21,
      "metadata": {
        "id": "mXkyNcgt2fet"
      },
      "outputs": [],
      "source": [
        "# can not access even with the hugging face token (bcs of tip restriction?)\n",
        "# model_name = \"meta-llama/Meta-Llama-3-8B\" \n",
        "\n",
        "# can access wihtout access token, but its architecture is not conformed with PEFT:\n",
        "# error:  model that doesn't have the expected projection layers (q_proj, k_proj, v_proj, o_proj) in the architecture.\n",
        "# when running: get_peft_model\n",
        "# model_name = \"bigscience/bloom-560m\" \n",
        "model_name = \"EleutherAI/gpt-neo-1.3B\"\n"
      ]
    },
    {
      "cell_type": "markdown",
      "metadata": {
        "id": "tzRyVNmN2jlO"
      },
      "source": [
        "#### Quantization Config (for QLORA)"
      ]
    },
    {
      "cell_type": "code",
      "execution_count": 22,
      "metadata": {
        "id": "BtR7MXs43GJf"
      },
      "outputs": [],
      "source": [
        "quantization_config = BitsAndBytesConfig(\n",
        "    load_in_4bit = True, # enable 4-bit quantization\n",
        "    bnb_4bit_quant_type = 'nf4', # information theoretically optimal dtype for normally distributed weights\n",
        "    bnb_4bit_use_double_quant = True, # quantize quantized weights //insert xzibit meme\n",
        "    bnb_4bit_compute_dtype = torch.bfloat16 # optimized fp format for ML\n",
        ")\n"
      ]
    },
    {
      "cell_type": "markdown",
      "metadata": {
        "id": "AxRLidIwS4Xu"
      },
      "source": [
        "#### Lora Config"
      ]
    },
    {
      "cell_type": "code",
      "execution_count": 23,
      "metadata": {
        "id": "EG950ljoS3RM"
      },
      "outputs": [],
      "source": [
        "lora_config = LoraConfig(\n",
        "    r = 16, # the dimension of the low-rank matrices\n",
        "    lora_alpha = 8, # scaling factor for LoRA activations vs pre-trained weight activations\n",
        "    target_modules = ['q_proj', 'k_proj', 'v_proj', 'o_proj'],\n",
        "    lora_dropout = 0.05, # dropout probability of the LoRA layers\n",
        "    bias = 'none', # wether to train bias weights, set to 'none' for attention layers\n",
        "    task_type = 'SEQ_CLS'\n",
        ")"
      ]
    },
    {
      "cell_type": "markdown",
      "metadata": {
        "id": "Brl04t2KS69t"
      },
      "source": [
        "#### Load model\n",
        "* AutomodelForSequenceClassification\n",
        "* Num Labels is # of classes\n"
      ]
    },
    {
      "cell_type": "code",
      "execution_count": 93,
      "metadata": {
        "colab": {
          "base_uri": "https://localhost:8080/",
          "height": 928,
          "referenced_widgets": [
            "b224f046c61840398f029d6055059230",
            "aae8c9810a654b1687e864db233bfc93",
            "b1bb7247d0a24fb0b07f008278dc1035",
            "359debc35c204c04823b38a5599bc0d4",
            "5666a59abaf0408e900588f01db9780b",
            "3489aa42339d4940b7e3dbdc8bed6192",
            "dcb7bad386a94ef4969a1fb8a4f19898",
            "6095c80a7d7f457a97f37a367ef6aba2",
            "ea778b3eaade47b2b05379c743484587",
            "e8842a69abed41e5b01d5d03ef95296d",
            "3f22823219984e7fb9ba9a74bce1c208",
            "403bdda5ced3464e8fe488ad120608fc",
            "94f9bafa996049e09fee2b33cf9c8912",
            "f057fc6d99694197b5e7b151859a2c9c",
            "ac79eeb5ac9f44e9a4ba6ab0c1aff1e1",
            "bc36971e14bb4c0983bd81681b2a3aba",
            "206e57be9af14513a792f3d13e42152b",
            "2b39f1df7e164cd3a526c15b2c6f37f4",
            "fa09525bb079472cb094e104dfd96f00",
            "21f5247d26c04f02816c8d7f546208ba",
            "710c17e9501c4308a422e00057be8b37",
            "9e9d4f30efcf40d795d16fd29ea94a0d",
            "dd8e3cd0ad8d45318a4675ac6a5baf26",
            "414dab2711c64fe997908c28831d0c8c",
            "eda7d917f270452c8ee05e580257dbb8",
            "2641d00f77aa4417a5f93437ae8fdd2a",
            "c1b7531e1be14ac1903b7a89c94bd7af",
            "99e8e71fe1ec4a2dad38dabdc7e67aad",
            "fce4a3c36f0c4eb2a3a99caf35162ca7",
            "474880039bfd4bbcba164914d10299dd",
            "ea014a4e473a47c3b22493c91ef9ad55",
            "78d6a442c3f748498e1bbed255089c40",
            "83c7a388f9c44c90a911f7042d8954d9",
            "ba281795dd084f4cb435b0ea6ea50b3c",
            "813601d73d414535b9e737bd2cc0bb24",
            "41248e1164c94e9a8ee94f52c99ea4c3",
            "5b7ec8f814ce446ebc508913d511b776",
            "692667b805b34f839c9da096a3ceca1e",
            "625f00e633b14a42b685e387a9a2353a",
            "cdcd01d84d1f405880eedbad3cbbf0c5",
            "6e1938dee61d4cc4ab3f873a0c94336d",
            "16194c537e304449849e67d32fa9db9c",
            "6e048e05f9974807bbf336b3bc51ea84",
            "acd80b2096d04e3185251baf9072550d",
            "de9df3d65e1f4585bc0567756e642ff9",
            "75ad2b5be1af416ba749a7937836489e",
            "710049629d224a1fa293a020cfb981e7",
            "ed358193a0f143fa826fbf329096b8e6",
            "4c0fb44b4d4f4a05b2236df9a0ec7c3f",
            "13d6d0c4b2d14604b37b3bba7404c1d4",
            "46d2c2caf5ca4962a60d18afb4e61096",
            "a6970ab51f9f431e93f8e58a5db279af",
            "6ca22f3477604afc86780be9758110f4",
            "0d69ed12c7284bffabb756bfdaf44976",
            "434796f7e56b4176a6751f2fe0dae66e",
            "819ffae6275b471ebaa84cc1006bd5fb",
            "08be83315d604c82acbe60eb37b83274",
            "c9195c1efd00457db7f4c25b44c7b7aa",
            "e91d598b519541aebf07211eab52ec51",
            "0c6031210741497681283876d244b6a3",
            "5404ad7cd8bb42ff902105a82a6f64c3",
            "ff0b41d09ab24c9fa933f90db66807f1",
            "9d521d703e834e8e891d2142e4f41b4c",
            "f7e45f78a00545238e6abb6e94c49a77",
            "961db17f86b74bc0b891c4151c549437",
            "1d922d06cbad4e26989fb3c15de09e39",
            "c8bb82b0531b47a5ac771e0b85e8857f",
            "d2d6273618d74849b6732c5b92c764cb",
            "ef5639f0fef14c65b8b995c89792bc64",
            "6ba11ae6ca6f4d3fb8fb8ed504010d8a",
            "5bc22a4e964043049d6110063a3730cc",
            "91b20098593446ce8eacd288b17cdfdb",
            "3515d6ff77924dd899459540c000f155",
            "ca2b930b7b8f48c08ddbc023d4fa7061",
            "160408689cff44b8bb4c2cb54eb8d6cf",
            "c1925c68f38d459a9c1f01c92aacd926",
            "39efa72b84674bbea9bd163affcfa657",
            "dd3ffda8426845e682c8930a5e800789",
            "eb21b12a914c4784a8a3b03ed6e08fce",
            "45a4ef167362477b9f4f88c9b02c1453",
            "93a4c76712cd4b1093d425a9c214d4a0",
            "b703791b1f29499d9552aff7df9a9835",
            "59a8df9063ac4d018897104bca748216",
            "b589816277bb4d47846d66a20356ccea",
            "7e71db8c84ec49df8d3d3f784d4f7cbb",
            "1aca1dc9ebca46ed9e336e66d6b3af1e",
            "39a3ec6898c540f4bb204724e5ef7c73",
            "a642d673447d4e0293f22182a53cbb52"
          ]
        },
        "id": "pJtZAdKp4WdT",
        "outputId": "10221bc2-d53e-48db-8387-ccd53461351d"
      },
      "outputs": [
        {
          "name": "stderr",
          "output_type": "stream",
          "text": [
            "`low_cpu_mem_usage` was None, now default to True since model is quantized.\n",
            "Some weights of GPTNeoForSequenceClassification were not initialized from the model checkpoint at EleutherAI/gpt-neo-1.3B and are newly initialized: ['score.weight']\n",
            "You should probably TRAIN this model on a down-stream task to be able to use it for predictions and inference.\n"
          ]
        },
        {
          "data": {
            "text/plain": [
              "GPTNeoForSequenceClassification(\n",
              "  (transformer): GPTNeoModel(\n",
              "    (wte): Embedding(50257, 2048)\n",
              "    (wpe): Embedding(2048, 2048)\n",
              "    (drop): Dropout(p=0.0, inplace=False)\n",
              "    (h): ModuleList(\n",
              "      (0-23): 24 x GPTNeoBlock(\n",
              "        (ln_1): LayerNorm((2048,), eps=1e-05, elementwise_affine=True)\n",
              "        (attn): GPTNeoAttention(\n",
              "          (attention): GPTNeoSelfAttention(\n",
              "            (attn_dropout): Dropout(p=0.0, inplace=False)\n",
              "            (resid_dropout): Dropout(p=0.0, inplace=False)\n",
              "            (k_proj): Linear4bit(in_features=2048, out_features=2048, bias=False)\n",
              "            (v_proj): Linear4bit(in_features=2048, out_features=2048, bias=False)\n",
              "            (q_proj): Linear4bit(in_features=2048, out_features=2048, bias=False)\n",
              "            (out_proj): Linear4bit(in_features=2048, out_features=2048, bias=True)\n",
              "          )\n",
              "        )\n",
              "        (ln_2): LayerNorm((2048,), eps=1e-05, elementwise_affine=True)\n",
              "        (mlp): GPTNeoMLP(\n",
              "          (c_fc): Linear4bit(in_features=2048, out_features=8192, bias=True)\n",
              "          (c_proj): Linear4bit(in_features=8192, out_features=2048, bias=True)\n",
              "          (act): NewGELUActivation()\n",
              "          (dropout): Dropout(p=0.0, inplace=False)\n",
              "        )\n",
              "      )\n",
              "    )\n",
              "    (ln_f): LayerNorm((2048,), eps=1e-05, elementwise_affine=True)\n",
              "  )\n",
              "  (score): Linear(in_features=2048, out_features=8, bias=False)\n",
              ")"
            ]
          },
          "execution_count": 93,
          "metadata": {},
          "output_type": "execute_result"
        }
      ],
      "source": [
        "# chatGPT:\n",
        "# ask: how to Ensure you have access to the model meta-llama/Meta-Llama-3-8B on Hugging Face?\n",
        "# [2] How to use Huggingface trainer API: https://huggingface.co/learn/llm-course/en/chapter3/3\n",
        "model = AutoModelForSequenceClassification.from_pretrained(\n",
        "    model_name,\n",
        "    quantization_config=quantization_config,\n",
        "    # num_labels=3\n",
        "    num_labels=8 # must be determined correctly,\n",
        "                 # otherwise, unreasonable errors happen to \n",
        "                 # CustomedTrainer(Trainer) in the compute_loss function\n",
        ")\n",
        "\n",
        "model "
      ]
    },
    {
      "cell_type": "markdown",
      "metadata": {
        "id": "prFT0qY0mVkR"
      },
      "source": [
        "* prepare_model_for_kbit_training() function to preprocess the quantized model for training."
      ]
    },
    {
      "cell_type": "code",
      "execution_count": 94,
      "metadata": {
        "colab": {
          "base_uri": "https://localhost:8080/"
        },
        "id": "-NcEtG0jmTqO",
        "outputId": "5acbb3d2-1e29-4bac-ef83-8acef45b988c"
      },
      "outputs": [
        {
          "data": {
            "text/plain": [
              "GPTNeoForSequenceClassification(\n",
              "  (transformer): GPTNeoModel(\n",
              "    (wte): Embedding(50257, 2048)\n",
              "    (wpe): Embedding(2048, 2048)\n",
              "    (drop): Dropout(p=0.0, inplace=False)\n",
              "    (h): ModuleList(\n",
              "      (0-23): 24 x GPTNeoBlock(\n",
              "        (ln_1): LayerNorm((2048,), eps=1e-05, elementwise_affine=True)\n",
              "        (attn): GPTNeoAttention(\n",
              "          (attention): GPTNeoSelfAttention(\n",
              "            (attn_dropout): Dropout(p=0.0, inplace=False)\n",
              "            (resid_dropout): Dropout(p=0.0, inplace=False)\n",
              "            (k_proj): Linear4bit(in_features=2048, out_features=2048, bias=False)\n",
              "            (v_proj): Linear4bit(in_features=2048, out_features=2048, bias=False)\n",
              "            (q_proj): Linear4bit(in_features=2048, out_features=2048, bias=False)\n",
              "            (out_proj): Linear4bit(in_features=2048, out_features=2048, bias=True)\n",
              "          )\n",
              "        )\n",
              "        (ln_2): LayerNorm((2048,), eps=1e-05, elementwise_affine=True)\n",
              "        (mlp): GPTNeoMLP(\n",
              "          (c_fc): Linear4bit(in_features=2048, out_features=8192, bias=True)\n",
              "          (c_proj): Linear4bit(in_features=8192, out_features=2048, bias=True)\n",
              "          (act): NewGELUActivation()\n",
              "          (dropout): Dropout(p=0.0, inplace=False)\n",
              "        )\n",
              "      )\n",
              "    )\n",
              "    (ln_f): LayerNorm((2048,), eps=1e-05, elementwise_affine=True)\n",
              "  )\n",
              "  (score): Linear(in_features=2048, out_features=8, bias=False)\n",
              ")"
            ]
          },
          "execution_count": 94,
          "metadata": {},
          "output_type": "execute_result"
        }
      ],
      "source": [
        "model = prepare_model_for_kbit_training(model)\n",
        "model"
      ]
    },
    {
      "cell_type": "markdown",
      "metadata": {
        "id": "25JDWS0Hmb0y"
      },
      "source": [
        "* get_peft_model prepares a model for training with a PEFT method such as LoRA by wrapping the base model and PEFT configuration with get_peft_model"
      ]
    },
    {
      "cell_type": "code",
      "execution_count": 95,
      "metadata": {
        "colab": {
          "base_uri": "https://localhost:8080/"
        },
        "id": "zIXKJgTfmU-H",
        "outputId": "cff5d956-766e-415e-9e46-934c63d14945"
      },
      "outputs": [
        {
          "data": {
            "text/plain": [
              "PeftModelForSequenceClassification(\n",
              "  (base_model): LoraModel(\n",
              "    (model): GPTNeoForSequenceClassification(\n",
              "      (transformer): GPTNeoModel(\n",
              "        (wte): Embedding(50257, 2048)\n",
              "        (wpe): Embedding(2048, 2048)\n",
              "        (drop): Dropout(p=0.0, inplace=False)\n",
              "        (h): ModuleList(\n",
              "          (0-23): 24 x GPTNeoBlock(\n",
              "            (ln_1): LayerNorm((2048,), eps=1e-05, elementwise_affine=True)\n",
              "            (attn): GPTNeoAttention(\n",
              "              (attention): GPTNeoSelfAttention(\n",
              "                (attn_dropout): Dropout(p=0.0, inplace=False)\n",
              "                (resid_dropout): Dropout(p=0.0, inplace=False)\n",
              "                (k_proj): lora.Linear4bit(\n",
              "                  (base_layer): Linear4bit(in_features=2048, out_features=2048, bias=False)\n",
              "                  (lora_dropout): ModuleDict(\n",
              "                    (default): Dropout(p=0.05, inplace=False)\n",
              "                  )\n",
              "                  (lora_A): ModuleDict(\n",
              "                    (default): Linear(in_features=2048, out_features=16, bias=False)\n",
              "                  )\n",
              "                  (lora_B): ModuleDict(\n",
              "                    (default): Linear(in_features=16, out_features=2048, bias=False)\n",
              "                  )\n",
              "                  (lora_embedding_A): ParameterDict()\n",
              "                  (lora_embedding_B): ParameterDict()\n",
              "                  (lora_magnitude_vector): ModuleDict()\n",
              "                )\n",
              "                (v_proj): lora.Linear4bit(\n",
              "                  (base_layer): Linear4bit(in_features=2048, out_features=2048, bias=False)\n",
              "                  (lora_dropout): ModuleDict(\n",
              "                    (default): Dropout(p=0.05, inplace=False)\n",
              "                  )\n",
              "                  (lora_A): ModuleDict(\n",
              "                    (default): Linear(in_features=2048, out_features=16, bias=False)\n",
              "                  )\n",
              "                  (lora_B): ModuleDict(\n",
              "                    (default): Linear(in_features=16, out_features=2048, bias=False)\n",
              "                  )\n",
              "                  (lora_embedding_A): ParameterDict()\n",
              "                  (lora_embedding_B): ParameterDict()\n",
              "                  (lora_magnitude_vector): ModuleDict()\n",
              "                )\n",
              "                (q_proj): lora.Linear4bit(\n",
              "                  (base_layer): Linear4bit(in_features=2048, out_features=2048, bias=False)\n",
              "                  (lora_dropout): ModuleDict(\n",
              "                    (default): Dropout(p=0.05, inplace=False)\n",
              "                  )\n",
              "                  (lora_A): ModuleDict(\n",
              "                    (default): Linear(in_features=2048, out_features=16, bias=False)\n",
              "                  )\n",
              "                  (lora_B): ModuleDict(\n",
              "                    (default): Linear(in_features=16, out_features=2048, bias=False)\n",
              "                  )\n",
              "                  (lora_embedding_A): ParameterDict()\n",
              "                  (lora_embedding_B): ParameterDict()\n",
              "                  (lora_magnitude_vector): ModuleDict()\n",
              "                )\n",
              "                (out_proj): Linear4bit(in_features=2048, out_features=2048, bias=True)\n",
              "              )\n",
              "            )\n",
              "            (ln_2): LayerNorm((2048,), eps=1e-05, elementwise_affine=True)\n",
              "            (mlp): GPTNeoMLP(\n",
              "              (c_fc): Linear4bit(in_features=2048, out_features=8192, bias=True)\n",
              "              (c_proj): Linear4bit(in_features=8192, out_features=2048, bias=True)\n",
              "              (act): NewGELUActivation()\n",
              "              (dropout): Dropout(p=0.0, inplace=False)\n",
              "            )\n",
              "          )\n",
              "        )\n",
              "        (ln_f): LayerNorm((2048,), eps=1e-05, elementwise_affine=True)\n",
              "      )\n",
              "      (score): ModulesToSaveWrapper(\n",
              "        (original_module): Linear(in_features=2048, out_features=8, bias=False)\n",
              "        (modules_to_save): ModuleDict(\n",
              "          (default): Linear(in_features=2048, out_features=8, bias=False)\n",
              "        )\n",
              "      )\n",
              "    )\n",
              "  )\n",
              ")"
            ]
          },
          "execution_count": 95,
          "metadata": {},
          "output_type": "execute_result"
        }
      ],
      "source": [
        "model = get_peft_model(model, lora_config)\n",
        "model"
      ]
    },
    {
      "cell_type": "markdown",
      "metadata": {
        "id": "4j9Ubd2DVAOW"
      },
      "source": [
        "### Load the tokenizer\n",
        "\n",
        "#### Since LLAMA3 pre-training doesn't have EOS token\n",
        "* Set the pad_token_id to eos_token_id\n",
        "* Set pad token ot eos_token"
      ]
    },
    {
      "cell_type": "code",
      "execution_count": 96,
      "metadata": {
        "colab": {
          "base_uri": "https://localhost:8080/",
          "height": 131,
          "referenced_widgets": [
            "387feb3b88494cbeb9aa89a6dc96116b",
            "ffc1f4e32ffc4b468f1e3dec8d42c175",
            "7ce4b44997c0459f9230b9c00d457048",
            "51b42521a11e452cae12bbfb20093958",
            "d1c5b89bafbd436c8b4962c4379a774e",
            "2c8c9f746e5b4801a490875629c6f55d",
            "499e29a51382443b9e7bc66bc161dfae",
            "0367e7c0bda64f69aaef7573b11c8d72",
            "382c6e08ff6b4de5964b923274b971ed",
            "1ee9bed043784495bdfe3ef72715be61",
            "dbd8adbf37f144029993aeff1412f5fd",
            "21652408ab064ff0aa29799238ddccc5",
            "0005f9e87c704ab3aa8f25293841d816",
            "741618da6ab54e79a3ec3f9d8e0d193e",
            "398531a14a284d309b134877c18af493",
            "86adf9382003468180e89b2ca6711703",
            "f472f2b00821466cb91fa836685a835c",
            "857f9eb9ae57444bad63bb2228c2a18f",
            "6c4017c17c0145b6ae237d23f64b8fbe",
            "119e616844b04994a54a6f84458051b8",
            "58abdf33136342d1ad7f958051fdd66d",
            "339e695b1b4043a9925dc74deb4e12d3",
            "abb61dcdea5f4d06b0aaadf768f49687",
            "39b68f6605074dec8ea22bfb29e5152c",
            "49c3dc218df04e4688ba7f3a3fb0f858",
            "2a30d9f502104d07b81fd160a13f7d9e",
            "602ac9ff16fb4d6abb2c80e4e9394f1a",
            "751304bd08354634a44bbae8c18317a9",
            "66ff02c0e244458bbca72da5ae824ad6",
            "15252a9e712b4426b3883f20e49574fd",
            "3d154e011fe74981bf69556a506fce0c",
            "733f80e5474040d29a2e7b79fb88b670",
            "7c4b0822ebe34143a32dab87ed41cc7a"
          ]
        },
        "id": "DzS5OhVO8Tuo",
        "outputId": "ab6798ff-9e64-4c04-894c-a1329e90a8bb"
      },
      "outputs": [],
      "source": [
        "tokenizer = AutoTokenizer.from_pretrained(model_name, add_prefix_space=True)\n",
        "\n",
        "tokenizer.pad_token_id = tokenizer.eos_token_id\n",
        "tokenizer.pad_token = tokenizer.eos_token"
      ]
    },
    {
      "cell_type": "markdown",
      "metadata": {
        "id": "akDra1649hcn"
      },
      "source": [
        "#### Update some model configs\n",
        "* Must use .cache = False as below or it crashes from my experience"
      ]
    },
    {
      "cell_type": "code",
      "execution_count": 97,
      "metadata": {
        "id": "XBFCNrrE9hAR"
      },
      "outputs": [],
      "source": [
        "model.config.pad_token_id = tokenizer.pad_token_id\n",
        "model.config.use_cache = False\n",
        "model.config.pretraining_tp = 1"
      ]
    },
    {
      "cell_type": "markdown",
      "metadata": {
        "id": "eWoLZTYf3lCw"
      },
      "source": [
        "### Loop through dataset to measure performance before training/fitting the model\n",
        "* Use a batch size 32 to kinda vectorize and to avoid memory errors."
      ]
    },
    {
      "cell_type": "code",
      "execution_count": 98,
      "metadata": {
        "colab": {
          "base_uri": "https://localhost:8080/"
        },
        "id": "barsbGNJ08JS",
        "outputId": "89db44d5-d4bc-4fa8-f315-51e97aa3816b"
      },
      "outputs": [
        {
          "data": {
            "text/plain": [
              "['An enhanced monitoring system that identifies an event candidate within a wireless node network, the system comprising: a server (100) disposed at a top level within the wireless node network;a plurality of ID nodes (120a-120e) disposed at a low level within the wireless node network, the ID nodes being incapable of communicating directly with the server;a master node (110a-110c) disposed at a middle level within the wireless node network as a monitoring intermediary between the ID nodes and the server, wherein the master node further comprisesa master node processing unit,a memory storage coupled to the master node processing unit, the memory storage maintaining event detection engine code for execution by the master node processing unit,a timer coupled to the node processing unit and operative to track an elapsed time after an initiating event;a first communication interface coupled to the node processing unit and operative to communicate directly with at least a first of the ID nodes over a first communication path;a second communication interface coupled to the node processing unit and operative to communicate directly with the server over a second communication path, wherein the first communication path is distinct from the second communication path;wherein a first of the ID nodes is adapted to broadcast at least a first signal over the first communication path; andwherein the master node, when executing the event detection engine code on the master node processing unit, is operative todetect, via the first communication interface, the first signal broadcast by the first of the ID nodes,identify the event candidate as a first sighting event related to the first ID node when the master node detects the first signal,generate event data representing the first sighting event after identifying the first sighting event, wherein the event data representing the first sighting event comprises an identifier of the first ID node and further comprises at least timing information and observed signal strength information characterizing the first sighting event,cause the second communication interface to provide the event data representing the first sighting event to the server,monitor, via the first communication interface, for any in a series of successive signals broadcast by the first ID node within an event horizon for the first ID node after detecting the first signal,track, via the timer, the elapsed time between successive ones of the first signal and any in the series of successive signals broadcast by the first ID node,track a received signal strength indicator value for the first signal and any in the series of successive signals broadcast by the first ID node,identify the event candidate as a subsequent event related to the first node and within the event horizon beginning with the first sighting event, the subsequent event being identified based upon timing information related to the elapsed time tracked by the timer and based upon observed signal strength information as indicated by the received signal strength indicator value,generate event data representing the subsequent event as including at least the timing information related to the elapsed time tracked by the timer and based upon observed signal strength information as indicated by the received signal strength indicator value, and cause the second communication interface to provide the event data representing the subsequent event to the server;wherein the server is adapted to receive the event data representing the first sighting event and the event data representing the subsequent event.The system of claim 1, wherein the subsequent event comprises a sporadic event when: (1) the master node has not identified a previous event within the event horizon to be a first benchmark checkpoint event representing detection of a threshold number of the signals within the series of successive signals broadcast by the first ID node; and(2) the master node has not detected, via the first communication interface, a subsequent signal broadcast by the first ID node before the elapsed time exceeds a gap time period when tracked by the time from when the master node detected a most recent in the series of successive signals from the first ID node.The system of claim 1, wherein the subsequent event comprises a first benchmark checkpoint event representing a detected online state of the first ID node when the master node detects, via the first communication interface, a threshold number of the signals within the series of successive signals broadcast by the first ID node and without the elapsed time between each of the threshold number of detected signals does not exceed a gap time period.The system of claim 1, wherein the subsequent event comprises an offline event when: (1) the master node identified a previous event within the event horizon to be a first benchmark checkpoint event representing detection of a threshold number of the signals within the series of successive signals broadcast by the first ID node; and(2) the master node has not detected a subsequent signal broadcast by the first ID node when the elapsed time from when a most recent of the signals in the series of successive signals from the first ID node exceeds a gap time period.The system of claim 1, wherein the subsequent event comprises a new checkpoint event when: (1) the master node has identified a previous event within the event horizon to be a first benchmark checkpoint event, wherein the first benchmark checkpoint event representing detection of an earlier threshold number of the signals within the series of successive signals broadcast by the first ID node; and(2) the master node detects a subsequent threshold number of the signals in the series of successive signals from the first ID node after identifying the first benchmark checkpoint event.The system of claim 5, wherein the master node is further operative to generate the event data representing the subsequent event and cause the second communication interface to provide the event data representing the subsequent event to the server by being further operative to: generate the event data representing the new checkpoint event upon identifying a threshold number of previous checkpoint events; andcause the second communication interface to provide the event data representing the new checkpoint event to the server after identifying the threshold number of previous checkpoint events.The system of claim 1, wherein the subsequent event comprises a shift event when the master node is further operative to detect at least a threshold difference between the received signal strength indicator value for a new checkpoint event and the received signal strength indicator value for a previous benchmark checkpoint event.A master node apparatus (110a) for enhanced monitoring for an event candidate within a wireless node network having a plurality of ID nodes and a server, the master node apparatus comprising: a node processing unit;a memory storage coupled to the node processing unit, the memory storage maintaining event detection engine code for execution by the node processing unit;a timer coupled to the node processing unit and operative to track an elapsed time after an initiating event;a first communication interface coupled to the node processing unit and operative to communicate with at least a first of the ID nodes over a first communication path;a second communication interface coupled to the node processing unit and operative to communicate with the server over a second communication path; andwherein the node processing unit, when executing the event detection engine code maintained on the memory storage, is operative todetect, via the first communication interface, a first signal broadcast by a first of the ID nodes over the first communication path,identify the event candidate as a first sighting event related to the first ID node when the master node detects the first signal,generate event data representing the first sighting event after identifying the first sighting event, wherein the event data representing the first sighting event comprises an identifier of the first ID node and further comprises at least timing information and observed signal strength information characterizing the first sighting event,cause the second communication interface to provide the event data representing the first sighting event to the server,monitor, via the first communication interface, for any in a series of successive signals broadcast by the first ID node within an event horizon for the first ID node after detecting the first signal,track, via the timer, the elapsed time between successive ones of the first signal and any in the series of successive signals broadcast by the first ID node,track a received signal strength indicator value for the first signal and any in the series of successive signals broadcast by the first ID node,identify the event candidate as a subsequent event related to the first node and within the event horizon beginning with the first sighting event, the subsequent event being identified based upon timing information related to the elapsed time tracked by the timer and based upon observed signal strength information as indicated by the received signal strength indicator value,generate event data representing the subsequent event as including at least the timing information related to the elapsed time tracked by the timer and based upon observed signal strength information as indicated by the received signal strength indicator value, and cause the second communication interface to provide the event data representing the subsequent event to the server.The master node apparatus of claim 8, wherein the subsequent event comprises a sporadic event when: (1) the node processing unit has not identified a previous event within the event horizon to be a first benchmark checkpoint event representing detection of a threshold number of the signals within the series of successive signals broadcast by the first ID node; and(2) the node processing unit has not detected, via the first communication interface, a subsequent signal broadcast by the first ID node before the elapsed time exceeds a gap time period when tracked by the time from when the master node detected a most recent in the series of successive signals from the first ID node.The master node apparatus of claim 8, wherein the subsequent event comprises a first benchmark checkpoint event representing a detected online state of the first ID node when the node processing unit detects, via the first communication interface, a threshold number of the signals within the series of successive signals broadcast by the first ID node and without the elapsed time between each of the threshold number of detected signals does not exceed a gap time period.The master node apparatus of claim 8, wherein the subsequent event comprises an offline event when: (1) the node processing unit identified a previous event within the event horizon to be a first benchmark checkpoint event representing detection of a threshold number of the signals within the series of successive signals broadcast by the first ID node; and(2) the node processing unit has not detected a subsequent signal broadcast by the first ID node when the elapsed time from when a most recent of the signals in the series of successive signals from the first ID node exceeds a gap time period.The master node apparatus of claim 8, wherein the subsequent event comprises a new checkpoint event when: (1) the node processing unit has identified a previous event within the event horizon to be a first benchmark checkpoint event, wherein the first benchmark checkpoint event representing detection of an earlier threshold number of the signals within the series of successive signals broadcast by the first ID node; and(2) the node processing unit detects a subsequent threshold number of the signals in the series of successive signals from the first ID node after identifying the first benchmark checkpoint event.The master node apparatus of claim 12, wherein the node processing unit is further operative to generate the event data representing the subsequent event and cause the second communication interface to provide the event data representing the subsequent event to the server by being further operative to: generate the event data representing the new checkpoint event upon identifying a threshold number of previous checkpoint events; andcause the second communication interface to provide the event data representing the new checkpoint event to the server after identifying the threshold number of previous checkpoint events.The master node apparatus of claim 8, wherein the subsequent event comprises a shift event when the node processing unit is further operative to detect at least a threshold difference between the received signal strength indicator value for the new checkpoint event and the received signal strength indicator value for a previous benchmark checkpoint event.A method for operating an enhanced monitoring system that identifies an event candidate within a wireless node network, the system comprising: a server disposed at a top level within the wireless node network;a plurality of ID nodes disposed at a low level within the wireless node network, the ID nodes being incapable of communicating directly with the server;a master node disposed at a middle level within the wireless node network as a monitoring intermediary between the ID nodes and the server, wherein the master node further comprisesa master node processing unit,a memory storage coupled to the master node processing unit, the memory storage maintains event detection engine code for execution by the master node processing unit,a timer coupled to the node processing unit and operates to track an elapsed time after an initiating event;a first communication interface coupled to the node processing unit and operates to communicate directly with at least a first of the ID nodes over a first communication path;a second communication interface coupled to the node processing unit and operates to communicate directly with the server over a second communication path, wherein the first communication path is distinct from the second communication path;wherein in the method: a first of the ID nodes broadcasts at least a first signal over the first communication path; andwherein the master node, when executing the event detection engine code on the master node processing unit, detects (4204), via the first communication interface, the first signal broadcast by the first of the ID nodes, identifies (4206) the event candidate as a first sighting event related to the first ID node when the master node detects the first signal,generates (4208) event data representing the first sighting event after identifying the first sighting event, wherein the event data representing the first sighting event comprises an identifier of the first ID node and further comprises at least timing information and observed signal strength information characterizing the first sighting event,causes the second communication interface to provide (4210) the event data representing the first sighting event to the server, monitors (4212), via the first communication interface, for any in a series of successive signals broadcast by the first ID node within an event horizon for the first ID node after detecting the first signal,tracks, via the timer, the elapsed time between successive ones of the first signal and any in the series of successive signals broadcast by the first ID node,tracks a received signal strength indicator value for the first signal and any in the series of successive signals broadcast by the first ID node,identifies the event candidate as a subsequent event related to the first node and within the event horizon beginning with the first sighting event, the subsequent event being identified based upon timing information related to the elapsed time tracked by the timer and based upon observed signal strength information as indicated by the received signal strength indicator value,generates event data representing the subsequent event as including at least the timing information related to the elapsed time tracked by the timer and based upon observed signal strength information as indicated by the received signal strength indicator value, and cause the second communication interface to provide the event data representing the subsequent event to the server; andwherein the server receives the event data representing the first sighting event and the event data representing the subsequent event.The method of claim 15, wherein the subsequent event comprises a sporadic event when: (1) the master node has not identified a previous event within the event horizon to be a first benchmark checkpoint event representing detection of a threshold number of the signals within the series of successive signals broadcast by the first ID node; and(2) the master node has not detected, via the first communication interface, a subsequent signal broadcast by the first ID node before the elapsed time exceeds a gap time period when tracked by the time from when the master node detected a most recent in the series of successive signals from the first ID node.The method of claim 15, wherein the subsequent event comprises a first benchmark checkpoint event representing a detected online state of the first ID node when the master node detects, via the first communication interface, a threshold number of the signals within the series of successive signals broadcast by the first ID node and without the elapsed time between each of the threshold number of detected signals does not exceed a gap time period.The method of claim 15, wherein the subsequent event comprises an offline event when: (1) the master node identified a previous event within the event horizon to be a first benchmark checkpoint event representing detection of a threshold number of the signals within the series of successive signals broadcast by the first ID node; and(2) the master node has not detected a subsequent signal broadcast by the first ID node when the elapsed time from when a most recent of the signals in the series of successive signals from the first ID node exceeds a gap time period.The method of claim 15, wherein the subsequent event comprises a new checkpoint event when: (1) the master node has identified a previous event within the event horizon to be a first benchmark checkpoint event, wherein the first benchmark checkpoint event representing detection of an earlier threshold number of the signals within the series of successive signals broadcast by the first ID node; and(2) the master node detects a subsequent threshold number of the signals in the series of successive signals from the first ID node after identifying the first benchmark checkpoint event.The method of claim 19, wherein the master node is further operative to generate the event data representing the subsequent event and cause the second communication interface to provide the event data representing the subsequent event to the server by being further operative to: generate the event data representing the new checkpoint event upon identifying a threshold number of previous checkpoint events; andcause the second communication interface to provide the event data representing the new checkpoint event to the server after identifying the threshold number of previous checkpoint events.The method of claim 15, wherein the subsequent event comprises a shift event when the master node is further operative to detect at least a threshold difference between the received signal strength indicator value for a new checkpoint event and the received signal strength indicator value for a previous benchmark checkpoint event.A method for operating a master node apparatus (110a) for enhanced monitoring for an event candidate within a wireless node network having a plurality of ID nodes and a server, the master node apparatus comprising: a node processing unit;a memory storage coupled to the node processing unit, the memory storage maintains event detection engine code for execution by the node processing unit;a timer coupled to the node processing unit and operates to track an elapsed time after an initiating event;a first communication interface coupled to the node processing unit and operates to communicate with at least a first of the ID nodes over a first communication path;a second communication interface coupled to the node processing unit and operates to communicate with the server over a second communication path; andwherein the node processing unit, when executing the event detection engine code maintained on the memory storage,detects, via the first communication interface, a first signal broadcast by a first of the ID nodes over the first communication path,identifies the event candidate as a first sighting event related to the first ID node when the master node detects the first signal,generates event data representing the first sighting event after identifying the first sighting event, wherein the event data representing the first sighting event comprises an identifier of the first ID node and further comprises at least timing information and observed signal strength information characterizing the first sighting event,causes the second communication interface to provide the event data representing the first sighting event to the server,monitors, via the first communication interface, for any in a series of successive signals broadcast by the first ID node within an event horizon for the first ID node after detecting the first signal,tracks, via the timer, the elapsed time between successive ones of the first signal and any in the series of successive signals broadcast by the first ID node,tracks a received signal strength indicator value for the first signal and any in the series of successive signals broadcast by the first ID node,identifies the event candidate as a subsequent event related to the first node and within the event horizon beginning with the first sighting event, the subsequent event being identified based upon timing information related to the elapsed time tracked by the timer and based upon observed signal strength information as indicated by the received signal strength indicator value,generates event data representing the subsequent event as including at least the timing information related to the elapsed time tracked by the timer and based upon observed signal strength information as indicated by the received signal strength indicator value, andcauses the second communication interface to provide the event data representing the subsequent event to the server.The method of claim 22, wherein the subsequent event comprises a sporadic event when: (1) the node processing unit has not identified a previous event within the event horizon to be a first benchmark checkpoint event representing detection of a threshold number of the signals within the series of successive signals broadcast by the first ID node; and(2) the node processing unit has not detected, via the first communication interface, a subsequent signal broadcast by the first ID node before the elapsed time exceeds a gap time period when tracked by the time from when the master node detected a most recent in the series of successive signals from the first ID node.The method of claim 22, wherein the subsequent event comprises a first benchmark checkpoint event representing a detected online state of the first ID node when the node processing unit detects, via the first communication interface, a threshold number of the signals within the series of successive signals broadcast by the first ID node and without the elapsed time between each of the threshold number of detected signals does not exceed a gap time period.The method of claim 22, wherein the subsequent event comprises an offline event when: (1) the node processing unit identified a previous event within the event horizon to be a first benchmark checkpoint event representing detection of a threshold number of the signals within the series of successive signals broadcast by the first ID node; and(2) the node processing unit has not detected a subsequent signal broadcast by the first ID node when the elapsed time from when a most recent of the signals in the series of successive signals from the first ID node exceeds a gap time period.The method of claim 22, wherein the subsequent event comprises a new checkpoint event when: (1) the node processing unit has identified a previous event within the event horizon to be a first benchmark checkpoint event, wherein the first benchmark checkpoint event representing detection of an earlier threshold number of the signals within the series of successive signals broadcast by the first ID node; and(2) the node processing unit detects a subsequent threshold number of the signals in the series of successive signals from the first ID node after identifying the first benchmark checkpoint event.The method of claim 26, wherein the node processing unit is further operative to generate the event data representing the subsequent event and cause the second communication interface to provide the event data representing the subsequent event to the server by being further operative to: generate the event data representing the new checkpoint event upon identifying a threshold number of previous checkpoint events; andcause the second communication interface to provide the event data representing the new checkpoint event to the server after identifying the threshold number of previous checkpoint events.The method of claim 22, wherein the subsequent event comprises a shift event when the node processing unit is further operative to detect at least a threshold difference between the received signal strength indicator value for the new checkpoint event and the received signal strength indicator value for a previous benchmark checkpoint event.',\n",
              " 'A method of controlling movement of a carriage (16) of a multi-leaf collimator of a radiotherapy apparatus, comprising: obtaining (S01, S101, S201) a desired position of each of a set of leaves (17) on thecarriage (16) in each of a plurality of segments from a field, wherein a field defines a treatment plan and a segment from a field is defined by a radiation field formed by the leafs;determining (S02, S102, S202) an allowable moving range set of the carriage (16) according to the desired position, wherein the allowable moving range set comprises a respective allowable moving range of the carriage (16) in each of the segments;determining (S03) a respective position of the carriage (16) in each of the segments according to the allowable moving range set; andcontrolling (S04, S104, S204) the movement of the carriage (16) according to the determined respective positions of the carriage (16) in the segments;wherein determining the allowable moving range set of the carriage (16) comprises: determining, for each of the segments, endpoints of the respective allowable moving range of the carriage,wherein the endpoints represent minimum and maximum positions of the carriage (16) when the leaves (17) are in the desired positions in the segment and an end of the carriage (16) is aligned with ends of the leaves (17).The method according to claim 1, wherein determining the respective position of the carriage (16) in each of the segments according to the allowable moving range set comprises: determining a reference point according to the allowable moving range set; andtaking a position closest to the reference point in each of the allowable moving ranges as the respective position of the carriage (16) in the corresponding segment.The method according to claim 2, wherein determining the reference point according to the allowable moving range set comprises: calculating, for each of a plurality of candidate reference points, a respective total moving distance representing a sum of absolute values of distances for the carriage (16) from the candidate reference point to each of the allowable moving ranges in the allowable moving range set; anddetermining the candidate reference point having a minimum total moving distance among the determined respective total moving distances to be the reference point.The method according to claim 3, further comprising determining a distance for the carriage (16) from the candidate reference point to each of the allowable moving ranges by determining the distance to be zero if the candidate reference point is within an allowable moving range, anddetermining the distance to be from the candidate reference point to a closest endpoint of an allowable moving range if the candidate reference point is out of the allowable moving range.The method according to claim 1, wherein determining the respective position of the carriage (16) in each of the segments according to the allowable moving range set comprises: taking an endpoint of each of the allowable moving ranges in the allowable moving range set as a hypothetical reference point;generating, for each of the hypothetical reference points, a corresponding position sequence including a respective position point closest to the hypothetical reference point in each of the allowable moving ranges;calculating, for each of the hypothetical reference points, a respective total moving distance representing a sum of absolute values of distances for the carriage (16) from the hypothetical reference point to each of the position points in the corresponding position sequence;determining the hypothetical reference point with a minimum total moving distance among the calculated respective total moving distances to be a reference point of the carriage (16); anddetermining the respective position of the carriage (16) in each of the segments according to a position sequence corresponding to the reference point.The method according to claim 1, further comprising: determining whether there is an intersection between each of the allowable moving ranges in the allowable moving range set;in response to determining that there is an intersection between each of the allowable moving ranges, taking a position point closest to an initial position of the carriage (16) in the intersection as a reference point, and determining the reference point as the position of the carriage (16) in each of the segments; andin response to determining that there is no intersection between each of the allowable moving ranges, determining the respective position of the carriage (16) in each of the segments according to the allowable moving range set.The method according to claim 1, wherein determining the respective position of the carriage (16) in each of the segments according to the allowable moving range set comprises: determining whether a current position of the carriage (16) is located within an allowable moving range of a next segment in the allowable moving range set;in response to determining that the current position of the carriage (16) is located within the allowable moving range of the next segment, determining the current position to be the respective position of the carriage (16) in the next segment; andin response to determining that the current position of the carriage (16) is out of the allowable moving range of the next segment, determining a position closest to the current position in the allowable moving range of the next segment is to be the respective position of the carriage (16) in the next segment.A device for controlling movement of a carriage of a multi-leaf collimator of a radiotherapy apparatus, comprising: one or more processors (710); anda non-transitory machine-readable storage medium (730) having instructions stored thereon which, when executed by the one or more processors (710), cause the one or more processors (710) to perform operations comprising: obtaining a desired position of each of a set of leaves (17) on the carriage (16) in each of a plurality of segments from a field, wherein a field defines a treatment plan and a segment from a field is defined by a radiation field formed by the leafs;determining an allowable moving range set of the carriage (16) according to the desired position, wherein the allowable moving range set comprises a respective allowable moving range of the carriage (16) in each of the segments;determining a respective position of the carriage (16) in each of the segments according to the allowable moving range set; andcontrolling the movement of the carriage (16) according to the determined respective positions of the carriage (16) in the segments;wherein determining the allowable moving range set of the carriage (16) comprises: determining, for each of the segments, endpoints of the respective allowable moving range of the carriage,wherein the endpoints represent minimum and maximum positions of the carriage (16) when the leaves (17) are in the desired positions in the segment and an end of the carriage (16) is aligned with ends of the leaves (17).The device according to claim 8, wherein determining the respective position of the carriage (16) in each of the segments according to the allowable moving range set comprises: determining a reference point according to the allowable moving range set; andtaking a position closest to the reference point in each of the allowable moving ranges as the respective position of the carriage (16) in the corresponding segment.The device according to claim 9, wherein determining the reference point according to the allowable moving range set comprises: calculating, for each of a plurality of candidate reference points, a respective total moving distance representing a sum of absolute values of distances for the carriage (16) from the candidate reference point to each of the allowable moving ranges in the allowable moving range set; anddetermining the candidate reference point having a minimum total moving distance among the determined respective total moving distances to be the reference point.The device according to claim 10, wherein the operations further comprise: determining a distance for the carriage (16) from the candidate reference point to each of the allowable moving ranges by determining the distance to be zero if the candidate reference point is within an allowable moving range, anddetermining the distance to be from the candidate reference point to a closest endpoint of an allowable moving range if the candidate reference point is out of the allowable moving range.The device according to claim 8, wherein determining the respective position of the carriage (16) in each of the segments according to the allowable moving range set comprises: taking an endpoint of each of the allowable moving ranges in the allowable moving range set as a hypothetical reference point;generating, for each of the hypothetical reference points, a corresponding position sequence including a respective position point closest to the hypothetical reference point in each of the allowable moving ranges;calculating, for each of the hypothetical reference points, a respective total moving distance representing a sum of absolute values of distances for the carriage (16) from the hypothetical reference point to each of the position points in the corresponding position sequence;determining the hypothetical reference point with a minimum total moving distance among the calculated respective total moving distances to be a reference point of the carriage (16); anddetermining the respective position of the carriage (16) in each of the segments according to a position sequence corresponding to the reference point.The device according to claim 8, wherein the operations further comprise: determining whether there is an intersection between each of the allowable moving ranges in the allowable moving range set;in response to determining that there is an intersection between each of the allowable moving ranges, taking a position point closest to an initial position of the carriage (16) in the intersection as a reference point, and determining the reference point as the position of the carriage (16) in each of the segments; andin response to determining that there is no intersection between each of the allowable moving ranges, determining the respective position of the carriage (16) in each of the segments according to the allowable moving range set.The device according to claim 8, wherein determining the respective position of the carriage (16) in each of the segments according to the allowable moving range set comprises: determining whether a current position of the carriage (16) is located within an allowable moving range of a next segment in the allowable moving range set;in response to determining that the current position of the carriage (16) is located within the allowable moving range of the next segment, determining the current position to be the respective position of the carriage (16) in the next segment; andin response to determining that the current position of the carriage (16) is out of the allowable moving range of the next segment, determining a position closest to the current position in the allowable moving range of the next segment is to be the respective position of the carriage (16) in the next segment.']"
            ]
          },
          "execution_count": 98,
          "metadata": {},
          "output_type": "execute_result"
        }
      ],
      "source": [
        "# sentences = df_test.summary.tolist()\n",
        "# sentences[0:2]\n",
        "\n",
        "sentences = df_test.claims.tolist()\n",
        "sentences[0:2]"
      ]
    },
    {
      "cell_type": "code",
      "execution_count": 30,
      "metadata": {},
      "outputs": [
        {
          "name": "stdout",
          "output_type": "stream",
          "text": [
            "True\n"
          ]
        }
      ],
      "source": [
        "print(torch.cuda.is_available())"
      ]
    },
    {
      "cell_type": "code",
      "execution_count": 99,
      "metadata": {
        "id": "1GECdZk_Iso0"
      },
      "outputs": [],
      "source": [
        "# Convert summaries to a list\n",
        "# sentences = df_test.summary.tolist()\n",
        "sentences = df_test.claims.tolist()\n",
        "\n",
        "# Define the batch size\n",
        "batch_size = 32  # You can adjust this based on your system's memory capacity\n",
        "\n",
        "# Initialize an empty list to store the model outputs\n",
        "all_outputs = []\n",
        "\n",
        "# Process the sentences in batches\n",
        "for i in range(0, len(sentences), batch_size):\n",
        "    # Get the batch of sentences\n",
        "    batch_sentences = sentences[i:i + batch_size]\n",
        "\n",
        "    # Tokenize the batch\n",
        "    inputs = tokenizer(batch_sentences, return_tensors=\"pt\", padding=True, truncation=True, max_length=512)\n",
        "\n",
        "    # Move tensors to the device where the model is (e.g., GPU or CPU)\n",
        "    inputs = {k: v.to('cuda' if torch.cuda.is_available() else 'cpu') for k, v in inputs.items()}\n",
        "\n",
        "    # Perform inference and store the logits\n",
        "    with torch.no_grad():\n",
        "        outputs = model(**inputs)\n",
        "        all_outputs.append(outputs['logits'])\n",
        "\n"
      ]
    },
    {
      "cell_type": "markdown",
      "metadata": {
        "id": "LHBh3ML64rc6"
      },
      "source": [
        "* Concatenate all outputs into a single tensor"
      ]
    },
    {
      "cell_type": "code",
      "execution_count": 100,
      "metadata": {
        "colab": {
          "base_uri": "https://localhost:8080/"
        },
        "id": "I0t0AWmd4kcv",
        "outputId": "3a52926f-168f-4cee-c18d-6082fbda42c2"
      },
      "outputs": [
        {
          "data": {
            "text/plain": [
              "tensor([[ 3.0570,  0.3898, -2.2676,  ..., -4.2776,  0.7538, -1.0104],\n",
              "        [-1.2087, -2.7293, -1.6476,  ..., -2.5018, -1.3717,  0.5067],\n",
              "        [-0.0678, -0.8751, -2.7138,  ..., -1.6706,  1.0458, -0.3313],\n",
              "        ...,\n",
              "        [ 1.3200, -0.2240, -3.7941,  ..., -3.0809,  1.9897, -0.6449],\n",
              "        [ 1.7498, -0.9291,  1.3450,  ..., -1.3736, -3.3485,  2.3644],\n",
              "        [ 2.1406, -2.1612, -2.9488,  ..., -2.0408,  2.3643,  0.0246]],\n",
              "       device='cuda:0')"
            ]
          },
          "execution_count": 100,
          "metadata": {},
          "output_type": "execute_result"
        }
      ],
      "source": [
        "final_outputs = torch.cat(all_outputs, dim=0)\n",
        "final_outputs"
      ]
    },
    {
      "cell_type": "markdown",
      "metadata": {
        "id": "_vfhekJH4ucy"
      },
      "source": [
        "* argmax to get class prediction"
      ]
    },
    {
      "cell_type": "code",
      "execution_count": 101,
      "metadata": {
        "colab": {
          "base_uri": "https://localhost:8080/"
        },
        "id": "K5Suw61G4qOJ",
        "outputId": "a9c0cbc2-108f-4a66-fbff-786e5fad415e"
      },
      "outputs": [
        {
          "data": {
            "text/plain": [
              "tensor([0, 7, 6, 6, 7, 0, 1, 0, 4, 6, 7, 4, 7, 0, 0, 0, 7, 7, 2, 7, 6, 6, 1, 1,\n",
              "        0, 7, 0, 0, 0, 0, 1, 0, 1, 0, 6, 0, 7, 6, 7, 7, 0, 0, 0, 7, 6, 0, 0, 7,\n",
              "        7, 0, 4, 0, 0, 2, 0, 0, 0, 7, 0, 7, 7, 1, 6, 1, 0, 6, 0, 0, 2, 7, 7, 4,\n",
              "        0, 1, 0, 0, 6, 0, 2, 7, 2, 7, 0, 0, 7, 6, 0, 0, 7, 6, 0, 7, 7, 0, 0, 0,\n",
              "        4, 4, 0, 6, 0, 1, 4, 0, 0, 7, 0, 0, 0, 0, 7, 7, 0, 0, 3, 1, 1, 0, 6, 2,\n",
              "        6, 0, 6, 7, 0, 0, 6, 0, 4, 2, 4, 0, 0, 0, 4, 0, 0, 6, 1, 6, 2, 0, 7, 0,\n",
              "        0, 0, 5, 4, 7, 7, 7, 1, 6, 0, 7, 7, 4, 0, 0, 0, 0, 2, 6, 7, 0, 0, 7, 0,\n",
              "        0, 7, 7, 4, 0, 0, 4, 6, 0, 0, 6, 4, 0, 7, 0, 0, 0, 7, 7, 0, 2, 0, 0, 7,\n",
              "        1, 0, 7, 0, 0, 6, 0, 0, 0, 6, 0, 0, 0, 0, 4, 6, 0, 0, 6, 0, 0, 1, 6, 2,\n",
              "        6, 6, 3, 4, 6, 0, 7, 0, 6, 2, 6, 0, 7, 0, 7, 0, 1, 7, 0, 7, 0, 0, 6, 0,\n",
              "        7, 0, 7, 7, 7, 6, 7, 0, 0, 4, 0, 6, 7, 6, 0, 0, 7, 0, 0, 0, 7, 7, 6, 0,\n",
              "        7, 0, 7, 0, 0, 0, 7, 4, 0, 2, 7, 7, 6, 3, 0, 0, 0, 6, 0, 0, 7, 0, 7, 4,\n",
              "        0, 6, 0, 0, 6, 0, 0, 0, 0, 2, 0, 0, 4, 0, 6, 7, 6, 2, 0, 6, 6, 7, 0, 1,\n",
              "        0, 0, 1, 7, 7, 7, 2, 7, 1, 0, 1, 7, 7, 0, 0, 0, 7, 0, 0, 6, 1, 1, 0, 0,\n",
              "        7, 3, 0, 0, 0, 6, 7, 0, 7, 7, 1, 0, 4, 0, 7, 0, 0, 0, 0, 0, 0, 6, 7, 0,\n",
              "        7, 1, 0, 0, 7, 7, 1, 0, 0, 1, 0, 6, 7, 6], device='cuda:0')"
            ]
          },
          "execution_count": 101,
          "metadata": {},
          "output_type": "execute_result"
        }
      ],
      "source": [
        "final_outputs.argmax(axis=1)"
      ]
    },
    {
      "cell_type": "markdown",
      "metadata": {
        "id": "mtsgVzj3JMk9"
      },
      "source": [
        "* Move to CPU so we can use numpy and set prediction colum to it"
      ]
    },
    {
      "cell_type": "code",
      "execution_count": 102,
      "metadata": {
        "colab": {
          "base_uri": "https://localhost:8080/"
        },
        "id": "XcW9bs5K5Upf",
        "outputId": "841b2fa2-cc24-464a-cd61-ccd79bce355c"
      },
      "outputs": [
        {
          "name": "stderr",
          "output_type": "stream",
          "text": [
            "/tmp/ipykernel_5178/1915017267.py:1: SettingWithCopyWarning: \n",
            "A value is trying to be set on a copy of a slice from a DataFrame.\n",
            "Try using .loc[row_indexer,col_indexer] = value instead\n",
            "\n",
            "See the caveats in the documentation: https://pandas.pydata.org/pandas-docs/stable/user_guide/indexing.html#returning-a-view-versus-a-copy\n",
            "  df_test['predictions']=final_outputs.argmax(axis=1).cpu().numpy()\n"
          ]
        },
        {
          "data": {
            "text/plain": [
              "1496    0\n",
              "1497    7\n",
              "1498    6\n",
              "1499    6\n",
              "1500    7\n",
              "       ..\n",
              "1865    1\n",
              "1866    0\n",
              "1867    6\n",
              "1868    7\n",
              "1869    6\n",
              "Name: predictions, Length: 374, dtype: int64"
            ]
          },
          "execution_count": 102,
          "metadata": {},
          "output_type": "execute_result"
        }
      ],
      "source": [
        "df_test['predictions']=final_outputs.argmax(axis=1).cpu().numpy()\n",
        "df_test['predictions']"
      ]
    },
    {
      "cell_type": "code",
      "execution_count": 103,
      "metadata": {
        "colab": {
          "base_uri": "https://localhost:8080/"
        },
        "id": "w-8_az8IXKyZ",
        "outputId": "5e0edaf0-66f3-4cf5-84c1-b1b470b70529"
      },
      "outputs": [
        {
          "data": {
            "text/plain": [
              "predictions\n",
              "0    169\n",
              "7     84\n",
              "6     52\n",
              "1     26\n",
              "4     22\n",
              "2     16\n",
              "3      4\n",
              "5      1\n",
              "Name: count, dtype: int64"
            ]
          },
          "execution_count": 103,
          "metadata": {},
          "output_type": "execute_result"
        }
      ],
      "source": [
        "df_test['predictions'].value_counts()"
      ]
    },
    {
      "cell_type": "markdown",
      "metadata": {
        "id": "C4pmQIpc6RNr"
      },
      "source": [
        "#### Use category map to get back category names"
      ]
    },
    {
      "cell_type": "code",
      "execution_count": 104,
      "metadata": {
        "colab": {
          "base_uri": "https://localhost:8080/"
        },
        "id": "s2mhkH5r6TgM",
        "outputId": "e1082997-7806-4fd9-b21e-675f4074a909"
      },
      "outputs": [
        {
          "name": "stderr",
          "output_type": "stream",
          "text": [
            "/tmp/ipykernel_5178/4293232383.py:1: SettingWithCopyWarning: \n",
            "A value is trying to be set on a copy of a slice from a DataFrame.\n",
            "Try using .loc[row_indexer,col_indexer] = value instead\n",
            "\n",
            "See the caveats in the documentation: https://pandas.pydata.org/pandas-docs/stable/user_guide/indexing.html#returning-a-view-versus-a-copy\n",
            "  df_test['predictions']=df_test['predictions'].apply(lambda l:category_map[l])\n"
          ]
        },
        {
          "data": {
            "text/plain": [
              "1496    A\n",
              "1497    H\n",
              "1498    G\n",
              "1499    G\n",
              "1500    H\n",
              "       ..\n",
              "1865    B\n",
              "1866    A\n",
              "1867    G\n",
              "1868    H\n",
              "1869    G\n",
              "Name: predictions, Length: 374, dtype: object"
            ]
          },
          "execution_count": 104,
          "metadata": {},
          "output_type": "execute_result"
        }
      ],
      "source": [
        "df_test['predictions']=df_test['predictions'].apply(lambda l:category_map[l])\n",
        "df_test['predictions']"
      ]
    },
    {
      "cell_type": "markdown",
      "metadata": {
        "id": "fPokM-op4ZZF"
      },
      "source": [
        "### Analyze performance as in intro notebook"
      ]
    },
    {
      "cell_type": "code",
      "execution_count": 24,
      "metadata": {
        "id": "ZJ3eFsPz4Hd9"
      },
      "outputs": [],
      "source": [
        "def get_performance_metrics(df_test):\n",
        "  y_test = df_test.ipc\n",
        "  y_pred = df_test.predictions\n",
        "\n",
        "  print(\"Confusion Matrix:\")\n",
        "  print(confusion_matrix(y_test, y_pred))\n",
        "\n",
        "  print(\"\\nClassification Report:\")\n",
        "  print(classification_report(y_test, y_pred))\n",
        "\n",
        "  print(\"Balanced Accuracy Score:\", balanced_accuracy_score(y_test, y_pred))\n",
        "  print(\"Accuracy Score:\", accuracy_score(y_test, y_pred))"
      ]
    },
    {
      "cell_type": "code",
      "execution_count": 105,
      "metadata": {
        "colab": {
          "base_uri": "https://localhost:8080/"
        },
        "id": "05xkpOOS03Nm",
        "outputId": "a9d670be-6f35-48c4-99b0-166f48cfb074"
      },
      "outputs": [
        {
          "name": "stdout",
          "output_type": "stream",
          "text": [
            "Confusion Matrix:\n",
            "[[32  7  1  0  3  0 12 18]\n",
            " [28  3  2  2  7  0  5 12]\n",
            " [17  2  2  0  1  1 10  4]\n",
            " [ 5  1  0  0  1  0  1  3]\n",
            " [ 7  1  0  0  1  0  2  6]\n",
            " [19  2  0  0  3  0  5  7]\n",
            " [26  5  1  2  2  0  5 17]\n",
            " [35  5 10  0  4  0 12 17]]\n",
            "\n",
            "Classification Report:\n",
            "              precision    recall  f1-score   support\n",
            "\n",
            "           A       0.19      0.44      0.26        73\n",
            "           B       0.12      0.05      0.07        59\n",
            "           C       0.12      0.05      0.08        37\n",
            "           D       0.00      0.00      0.00        11\n",
            "           E       0.05      0.06      0.05        17\n",
            "           F       0.00      0.00      0.00        36\n",
            "           G       0.10      0.09      0.09        58\n",
            "           H       0.20      0.20      0.20        83\n",
            "\n",
            "    accuracy                           0.16       374\n",
            "   macro avg       0.10      0.11      0.09       374\n",
            "weighted avg       0.13      0.16      0.13       374\n",
            "\n",
            "Balanced Accuracy Score: 0.1116384223920821\n",
            "Accuracy Score: 0.16042780748663102\n"
          ]
        }
      ],
      "source": [
        "get_performance_metrics(df_test)"
      ]
    },
    {
      "cell_type": "markdown",
      "metadata": {
        "id": "0aM2eCK47kf2"
      },
      "source": [
        "# Trainer Components\n",
        "* model\n",
        "* tokenizer\n",
        "* training arguments\n",
        "* train dataset\n",
        "* eval dataset\n",
        "* Data Collater\n",
        "* Compute Metrics\n",
        "* class_weights: In our case since we are using a custom trainer so we can use a weighted loss we will subclass trainer and define the custom loss."
      ]
    },
    {
      "cell_type": "markdown",
      "metadata": {
        "id": "TQCINMPIVgvS"
      },
      "source": [
        "#### Create LLAMA tokenized dataset which will house our train/val parts during the training process but after applying tokenization"
      ]
    },
    {
      "cell_type": "code",
      "execution_count": 75,
      "metadata": {
        "colab": {
          "base_uri": "https://localhost:8080/",
          "height": 113,
          "referenced_widgets": [
            "9eac88c3df5740f0aff47e1cf642a2b7",
            "497bdc5ed13845aa997010f82c561e02",
            "2b90f18877d445d682e528c31cf882a0",
            "2fa05604b70b4c438594668f1729ca06",
            "35f3a4134a8c4a70ad95337b9450198b",
            "71ac1cd6248e4264a3f4b33ca20407cc",
            "e94fa747d9554e619a64bafa00b98aa1",
            "c7b816d2bf4244ceaa9567e39155da09",
            "fbc91a151de04346871e2261c38faee9",
            "3e70ead7f53f402a849e87cfffbfe9c1",
            "b9c7a7034d54472ab739dd85f32ffb88",
            "68105b6997b143e1a5e63c1e403bfe6d",
            "5ff3afd723da4500a20f9e399f9bd17d",
            "e8d62ca54f824e35afeaa8a82606135a",
            "217834eb817c40bb9622aa7a327acd0c",
            "8790fbb137bb4f929180549adc8d8aa7",
            "db12c219c37f46dbbf07541b12c93e56",
            "6ddc0023e98644bf9c438e770bf81967",
            "0e2a0d2d4cb3467caa7b4e94e73a0dba",
            "70ce9dd20e4d41c2ad4f3a14ba5113b9",
            "bc4060ccee5b41f28718c79b4eb41b47",
            "1ce7bb1c0c5a4839a9869c9fac7bf85d",
            "fd1624d61b5148778450fd1ae5ade1bf",
            "aa072c7ad10b41a281811c3ba059c6b6",
            "0f21d24459d74b58a9e43231fde5e66a",
            "29c6d91fa0274668aaa98d7e429f65be",
            "b382104666c4466d9aaf57291241b835",
            "0facdcb44e1b49ac84ebb5cc5dd4dc64",
            "c3602f4b708048e2aab2740f3a334c6b",
            "5d4788b846a548ddb9f316145451db78",
            "6ed7f45528d64f298716bcd0b268de19",
            "ffb54dcb52294d9199eaf9e7a5995a89",
            "5413fbb2c1b94866ba25d73b46e1d055"
          ]
        },
        "id": "MJ8t0ZtVVfPv",
        "outputId": "6e5027e2-06ce-4647-b899-57ae1e099dc0"
      },
      "outputs": [
        {
          "name": "stderr",
          "output_type": "stream",
          "text": [
            "Map: 100%|██████████| 1122/1122 [00:00<00:00, 1479.93 examples/s]\n",
            "Map: 100%|██████████| 374/374 [00:00<00:00, 1669.87 examples/s]\n",
            "Map: 100%|██████████| 374/374 [00:00<00:00, 1763.65 examples/s]\n"
          ]
        }
      ],
      "source": [
        "MAX_LEN = 512\n",
        "# col_to_delete = ['time_published', 'summary']\n",
        "col_to_delete = ['title', 'description', 'claims']\n",
        "\n",
        "def llama_preprocessing_function(examples):\n",
        "    return tokenizer(examples['claims'], truncation=True, max_length=MAX_LEN)\n",
        "\n",
        "tokenized_datasets = dataset.map(llama_preprocessing_function, batched=True, remove_columns=col_to_delete)\n",
        "# tokenized_datasets = tokenized_datasets.rename_column(\"target\", \"label\")\n",
        "tokenized_datasets = tokenized_datasets.rename_column(\"target\", \"labels\") # ADVICE:\n",
        "                                                                          # must rename 'target' to 'labels',\n",
        "                                                                          # to avoid, keyError in CustomedTrainer(Trainer) relating to transformer -> trainer -> utili..py  \n",
        "tokenized_datasets.set_format(\"torch\")"
      ]
    },
    {
      "cell_type": "code",
      "execution_count": 76,
      "metadata": {},
      "outputs": [
        {
          "name": "stdout",
          "output_type": "stream",
          "text": [
            "DatasetDict({\n",
            "    train: Dataset({\n",
            "        features: ['labels', 'input_ids', 'attention_mask'],\n",
            "        num_rows: 1122\n",
            "    })\n",
            "    val: Dataset({\n",
            "        features: ['labels', 'input_ids', 'attention_mask'],\n",
            "        num_rows: 374\n",
            "    })\n",
            "    test: Dataset({\n",
            "        features: ['labels', 'input_ids', 'attention_mask'],\n",
            "        num_rows: 374\n",
            "    })\n",
            "})\n"
          ]
        }
      ],
      "source": [
        "print(tokenized_datasets)"
      ]
    },
    {
      "cell_type": "markdown",
      "metadata": {
        "id": "LFMAsvJFVlMc"
      },
      "source": [
        "## Data Collator\n",
        "A **data collator** prepares batches of data for training or inference in machine learning, ensuring uniform formatting and adherence to model input requirements. This is especially crucial for variable-sized inputs like text sequences.\n",
        "\n",
        "### Functions of Data Collator\n",
        "\n",
        "1. **Padding:** Uniformly pads sequences to the length of the longest sequence using a special token, allowing simultaneous batch processing.\n",
        "2. **Batching:** Groups individual data points into batches for efficient processing.\n",
        "3. **Handling Special Tokens:** Adds necessary special tokens to sequences.\n",
        "4. **Converting to Tensor:** Transforms data into tensors, the required format for machine learning frameworks.\n",
        "\n",
        "### `DataCollatorWithPadding`\n",
        "\n",
        "The `DataCollatorWithPadding` specifically manages padding, using a tokenizer to ensure that all sequences are padded to the same length for consistent model input.\n",
        "\n",
        "- **Syntax:** `collate_fn = DataCollatorWithPadding(tokenizer=tokenizer)`\n",
        "- **Purpose:** Automatically pads text data to the longest sequence in a batch, crucial for models like BERT or GPT.\n",
        "- **Tokenizer:** Uses the provided `tokenizer` for sequence processing, respecting model-specific vocabulary and formatting rules.\n",
        "\n",
        "This collator is commonly used with libraries like Hugging Face's Transformers, facilitating data preprocessing for various NLP models.\n"
      ]
    },
    {
      "cell_type": "code",
      "execution_count": 46,
      "metadata": {
        "id": "XfpRu7l5Vjx9"
      },
      "outputs": [],
      "source": [
        "collate_fn = DataCollatorWithPadding(tokenizer=tokenizer)\n"
      ]
    },
    {
      "cell_type": "markdown",
      "metadata": {
        "id": "KHh8YAiqVu06"
      },
      "source": [
        "# define which metrics to compute for evaluation\n",
        "* We will use balanced accuracy and accuracy for simplicity"
      ]
    },
    {
      "cell_type": "code",
      "execution_count": 47,
      "metadata": {
        "id": "F3fjS8YO4do1"
      },
      "outputs": [],
      "source": [
        "def compute_metrics(eval_pred):\n",
        "    predictions, labels = eval_pred\n",
        "    predictions = np.argmax(predictions, axis=1)\n",
        "    return {'balanced_accuracy' : balanced_accuracy_score(predictions, labels),'accuracy':accuracy_score(predictions,labels)}\n",
        "\n"
      ]
    },
    {
      "cell_type": "markdown",
      "metadata": {
        "id": "7IKaB5d6Wbni"
      },
      "source": [
        "### Define custom trainer with classweights\n",
        "* We will have a custom loss function that deals with the class weights and have class weights as additional argument in constructor"
      ]
    },
    {
      "cell_type": "code",
      "execution_count": 109,
      "metadata": {
        "id": "wc4zAX1iXvDD"
      },
      "outputs": [],
      "source": [
        "class CustomTrainer(Trainer):\n",
        "    def __init__(self, *args, class_weights=None, **kwargs):\n",
        "        super().__init__(*args, **kwargs)\n",
        "        # Ensure label_weights is a tensor\n",
        "        if class_weights is not None:\n",
        "            self.class_weights = torch.tensor(class_weights, dtype=torch.float32).to(self.args.device)\n",
        "        else:\n",
        "            self.class_weights = None\n",
        "\n",
        "    def compute_loss(self, model, inputs, return_outputs=False, num_items_in_batch = None):\n",
        "        # Extract labels and convert them to long type for cross_entropy\n",
        "        # labels = inputs.pop(\"labels\").long()\n",
        "        labels = inputs.pop('labels').long()\n",
        "\n",
        "        # Forward pass\n",
        "        outputs = model(**inputs)\n",
        "\n",
        "        # Extract logits assuming they are directly outputted by the model\n",
        "        logits = outputs.get('logits')\n",
        "\n",
        "        # Compute custom loss with class weights for imbalanced data handling\n",
        "        if self.class_weights is not None:\n",
        "            # print(f\"shape of logits: {type(logits), logits.shape}\")\n",
        "            # print(f\"shape of labels: {type(labels), labels.shape}\")\n",
        "            # print(f\"shape of weight: {type(self.class_weights), self.class_weights.shape}\")\n",
        "            loss = F.cross_entropy(logits, labels, weight=self.class_weights)\n",
        "        else:\n",
        "            loss = F.cross_entropy(logits, labels)\n",
        "\n",
        "        return (loss, outputs) if return_outputs else loss\n"
      ]
    },
    {
      "cell_type": "markdown",
      "metadata": {
        "id": "nfFh6JMw8y7E"
      },
      "source": [
        "# define training args"
      ]
    },
    {
      "cell_type": "code",
      "execution_count": 64,
      "metadata": {
        "id": "5AET29lE9qqw"
      },
      "outputs": [
        {
          "name": "stderr",
          "output_type": "stream",
          "text": [
            "/home/lephuonglantran/.conda/envs/gpuenv/lib/python3.13/site-packages/transformers/training_args.py:1611: FutureWarning: `evaluation_strategy` is deprecated and will be removed in version 4.46 of 🤗 Transformers. Use `eval_strategy` instead\n",
            "  warnings.warn(\n"
          ]
        }
      ],
      "source": [
        "training_args = TrainingArguments(\n",
        "    output_dir = 'sentiment_classification',\n",
        "    learning_rate = 1e-4,\n",
        "    per_device_train_batch_size = 8,\n",
        "    per_device_eval_batch_size = 8,\n",
        "    num_train_epochs = 2,\n",
        "    weight_decay = 0.01,\n",
        "    evaluation_strategy = 'epoch',\n",
        "    save_strategy = 'epoch',\n",
        "    load_best_model_at_end = True\n",
        ")"
      ]
    },
    {
      "cell_type": "markdown",
      "metadata": {
        "id": "DyDI7Wm89-0p"
      },
      "source": [
        "#### Define custom trainer"
      ]
    },
    {
      "cell_type": "code",
      "execution_count": 110,
      "metadata": {
        "colab": {
          "base_uri": "https://localhost:8080/"
        },
        "id": "BGHhP9R09rUR",
        "outputId": "c1c4cf41-0339-4651-88d4-c784b5d9d623"
      },
      "outputs": [
        {
          "name": "stderr",
          "output_type": "stream",
          "text": [
            "/tmp/ipykernel_5178/2505152404.py:3: FutureWarning: `tokenizer` is deprecated and will be removed in version 5.0.0 for `CustomTrainer.__init__`. Use `processing_class` instead.\n",
            "  super().__init__(*args, **kwargs)\n",
            "No label_names provided for model class `PeftModelForSequenceClassification`. Since `PeftModel` hides base models input arguments, if label_names is not given, label_names can't be set automatically within `Trainer`. Note that empty label_names list will be used instead.\n",
            "/tmp/ipykernel_5178/2505152404.py:6: UserWarning: To copy construct from a tensor, it is recommended to use sourceTensor.clone().detach() or sourceTensor.clone().detach().requires_grad_(True), rather than torch.tensor(sourceTensor).\n",
            "  self.class_weights = torch.tensor(class_weights, dtype=torch.float32).to(self.args.device)\n"
          ]
        }
      ],
      "source": [
        "trainer = CustomTrainer(\n",
        "    model = model,\n",
        "    args = training_args,\n",
        "    train_dataset = tokenized_datasets['train'],\n",
        "    eval_dataset = tokenized_datasets['val'],\n",
        "    tokenizer = tokenizer,\n",
        "    data_collator = collate_fn,\n",
        "    compute_metrics = compute_metrics,\n",
        "    class_weights=class_weights,\n",
        ")"
      ]
    },
    {
      "cell_type": "code",
      "execution_count": 79,
      "metadata": {},
      "outputs": [
        {
          "name": "stdout",
          "output_type": "stream",
          "text": [
            "Dataset({\n",
            "    features: ['labels', 'input_ids', 'attention_mask'],\n",
            "    num_rows: 374\n",
            "})\n"
          ]
        }
      ],
      "source": [
        "print(tokenized_datasets['val'])"
      ]
    },
    {
      "cell_type": "markdown",
      "metadata": {
        "id": "HCN4zFN0fRpJ"
      },
      "source": [
        "* https://huggingface.co/docs/transformers/en/training"
      ]
    },
    {
      "cell_type": "markdown",
      "metadata": {
        "id": "9tIQ3lxk-BLL"
      },
      "source": [
        "### Run trainer!"
      ]
    },
    {
      "cell_type": "code",
      "execution_count": 111,
      "metadata": {
        "colab": {
          "base_uri": "https://localhost:8080/",
          "height": 194
        },
        "id": "qLXOgM0FkaKE",
        "outputId": "ebe2d93c-897c-428a-8673-cd25ba0883dc"
      },
      "outputs": [
        {
          "data": {
            "text/html": [
              "\n",
              "    <div>\n",
              "      \n",
              "      <progress value='282' max='282' style='width:300px; height:20px; vertical-align: middle;'></progress>\n",
              "      [282/282 14:44, Epoch 2/2]\n",
              "    </div>\n",
              "    <table border=\"1\" class=\"dataframe\">\n",
              "  <thead>\n",
              " <tr style=\"text-align: left;\">\n",
              "      <th>Epoch</th>\n",
              "      <th>Training Loss</th>\n",
              "      <th>Validation Loss</th>\n",
              "      <th>Balanced Accuracy</th>\n",
              "      <th>Accuracy</th>\n",
              "    </tr>\n",
              "  </thead>\n",
              "  <tbody>\n",
              "    <tr>\n",
              "      <td>1</td>\n",
              "      <td>No log</td>\n",
              "      <td>2.247162</td>\n",
              "      <td>0.209343</td>\n",
              "      <td>0.291444</td>\n",
              "    </tr>\n",
              "    <tr>\n",
              "      <td>2</td>\n",
              "      <td>No log</td>\n",
              "      <td>2.131719</td>\n",
              "      <td>0.243629</td>\n",
              "      <td>0.339572</td>\n",
              "    </tr>\n",
              "  </tbody>\n",
              "</table><p>"
            ],
            "text/plain": [
              "<IPython.core.display.HTML object>"
            ]
          },
          "metadata": {},
          "output_type": "display_data"
        },
        {
          "name": "stderr",
          "output_type": "stream",
          "text": [
            "/home/lephuonglantran/.conda/envs/gpuenv/lib/python3.13/site-packages/torch/_dynamo/eval_frame.py:632: UserWarning: torch.utils.checkpoint: the use_reentrant parameter should be passed explicitly. In version 2.5 we will raise an exception if use_reentrant is not passed. use_reentrant=False is recommended, but if you need to preserve the current default behavior, you can pass use_reentrant=True. Refer to docs for more details on the differences between the two variants.\n",
            "  return fn(*args, **kwargs)\n"
          ]
        }
      ],
      "source": [
        "train_result = trainer.train()"
      ]
    },
    {
      "cell_type": "markdown",
      "metadata": {
        "id": "dSTf1TMf8NpC"
      },
      "source": [
        "#### Let's check the results\n",
        "* I wrapped in a function"
      ]
    },
    {
      "cell_type": "code",
      "execution_count": 113,
      "metadata": {
        "id": "uxIXBpIHeWKc"
      },
      "outputs": [
        {
          "name": "stderr",
          "output_type": "stream",
          "text": [
            "/tmp/ipykernel_5178/1478339107.py:29: SettingWithCopyWarning: \n",
            "A value is trying to be set on a copy of a slice from a DataFrame.\n",
            "Try using .loc[row_indexer,col_indexer] = value instead\n",
            "\n",
            "See the caveats in the documentation: https://pandas.pydata.org/pandas-docs/stable/user_guide/indexing.html#returning-a-view-versus-a-copy\n",
            "  df_test['predictions']=final_outputs.argmax(axis=1).cpu().numpy()\n",
            "/tmp/ipykernel_5178/1478339107.py:30: SettingWithCopyWarning: \n",
            "A value is trying to be set on a copy of a slice from a DataFrame.\n",
            "Try using .loc[row_indexer,col_indexer] = value instead\n",
            "\n",
            "See the caveats in the documentation: https://pandas.pydata.org/pandas-docs/stable/user_guide/indexing.html#returning-a-view-versus-a-copy\n",
            "  df_test['predictions']=df_test['predictions'].apply(lambda l:category_map[l])\n"
          ]
        }
      ],
      "source": [
        "def make_predictions(model,df_test):\n",
        "\n",
        "\n",
        "  # Convert summaries to a list\n",
        "  sentences = df_test.claims.tolist()\n",
        "\n",
        "  # Define the batch size\n",
        "  batch_size = 32  # You can adjust this based on your system's memory capacity\n",
        "\n",
        "  # Initialize an empty list to store the model outputs\n",
        "  all_outputs = []\n",
        "\n",
        "  # Process the sentences in batches\n",
        "  for i in range(0, len(sentences), batch_size):\n",
        "      # Get the batch of sentences\n",
        "      batch_sentences = sentences[i:i + batch_size]\n",
        "\n",
        "      # Tokenize the batch\n",
        "      inputs = tokenizer(batch_sentences, return_tensors=\"pt\", padding=True, truncation=True, max_length=512)\n",
        "\n",
        "      # Move tensors to the device where the model is (e.g., GPU or CPU)\n",
        "      inputs = {k: v.to('cuda' if torch.cuda.is_available() else 'cpu') for k, v in inputs.items()}\n",
        "\n",
        "      # Perform inference and store the logits\n",
        "      with torch.no_grad():\n",
        "          outputs = model(**inputs)\n",
        "          all_outputs.append(outputs['logits'])\n",
        "  final_outputs = torch.cat(all_outputs, dim=0)\n",
        "  df_test['predictions']=final_outputs.argmax(axis=1).cpu().numpy()\n",
        "  df_test['predictions']=df_test['predictions'].apply(lambda l:category_map[l])\n",
        "\n",
        "\n",
        "make_predictions(model,df_test)"
      ]
    },
    {
      "cell_type": "code",
      "execution_count": 114,
      "metadata": {
        "colab": {
          "base_uri": "https://localhost:8080/"
        },
        "id": "5OGdmf228OJa",
        "outputId": "a18c98ef-c94c-46ae-9090-4fd1841269c8"
      },
      "outputs": [],
      "source": [
        "# def make_predictions(model,df_test):\n",
        "\n",
        "\n",
        "#   # Convert summaries to a list\n",
        "#   sentences = df_test.summary.tolist()\n",
        "\n",
        "#   # Define the batch size\n",
        "#   batch_size = 32  # You can adjust this based on your system's memory capacity\n",
        "\n",
        "#   # Initialize an empty list to store the model outputs\n",
        "#   all_outputs = []\n",
        "\n",
        "#   # Process the sentences in batches\n",
        "#   for i in range(0, len(sentences), batch_size):\n",
        "#       # Get the batch of sentences\n",
        "#       batch_sentences = sentences[i:i + batch_size]\n",
        "\n",
        "#       # Tokenize the batch\n",
        "#       inputs = tokenizer(batch_sentences, return_tensors=\"pt\", padding=True, truncation=True, max_length=512)\n",
        "\n",
        "#       # Move tensors to the device where the model is (e.g., GPU or CPU)\n",
        "#       inputs = {k: v.to('cuda' if torch.cuda.is_available() else 'cpu') for k, v in inputs.items()}\n",
        "\n",
        "#       # Perform inference and store the logits\n",
        "#       with torch.no_grad():\n",
        "#           outputs = model(**inputs)\n",
        "#           all_outputs.append(outputs['logits'])\n",
        "#   final_outputs = torch.cat(all_outputs, dim=0)\n",
        "#   df_test['predictions']=final_outputs.argmax(axis=1).cpu().numpy()\n",
        "#   df_test['predictions']=df_test['predictions'].apply(lambda l:category_map[l])\n",
        "\n",
        "\n",
        "# make_predictions(model,df_test)"
      ]
    },
    {
      "cell_type": "code",
      "execution_count": 115,
      "metadata": {
        "colab": {
          "base_uri": "https://localhost:8080/"
        },
        "id": "hrPwJ-RSsTXd",
        "outputId": "16c8841c-6e5f-45a3-eb5f-1f74fb327f7e"
      },
      "outputs": [
        {
          "name": "stdout",
          "output_type": "stream",
          "text": [
            "Confusion Matrix:\n",
            "[[13 26  6  0  2  5 13  8]\n",
            " [ 3 20  6  1  4  4 17  4]\n",
            " [ 5  5 23  0  1  1  1  1]\n",
            " [ 3  5  0  0  1  0  2  0]\n",
            " [ 4  6  0  0  1  0  4  2]\n",
            " [ 3 22  0  0  1  2  6  2]\n",
            " [ 4 13  1  0  0  1 25 14]\n",
            " [ 1 16 10  0  1  2 33 20]]\n",
            "\n",
            "Classification Report:\n",
            "              precision    recall  f1-score   support\n",
            "\n",
            "           A       0.36      0.18      0.24        73\n",
            "           B       0.18      0.34      0.23        59\n",
            "           C       0.50      0.62      0.55        37\n",
            "           D       0.00      0.00      0.00        11\n",
            "           E       0.09      0.06      0.07        17\n",
            "           F       0.13      0.06      0.08        36\n",
            "           G       0.25      0.43      0.31        58\n",
            "           H       0.39      0.24      0.30        83\n",
            "\n",
            "    accuracy                           0.28       374\n",
            "   macro avg       0.24      0.24      0.22       374\n",
            "weighted avg       0.29      0.28      0.26       374\n",
            "\n",
            "Balanced Accuracy Score: 0.24063303592469112\n",
            "Accuracy Score: 0.27807486631016043\n"
          ]
        }
      ],
      "source": [
        "get_performance_metrics(df_test)"
      ]
    },
    {
      "cell_type": "markdown",
      "metadata": {
        "id": "eZTHqTuPir_k"
      },
      "source": [
        "### Saving the model trainer state and model adapters"
      ]
    },
    {
      "cell_type": "code",
      "execution_count": 116,
      "metadata": {
        "colab": {
          "base_uri": "https://localhost:8080/"
        },
        "id": "KnCfi0Z3W567",
        "outputId": "9ceed4c1-4fec-4c34-977f-0cef16ded95c"
      },
      "outputs": [
        {
          "name": "stdout",
          "output_type": "stream",
          "text": [
            "***** train metrics *****\n",
            "  epoch                    =        2.0\n",
            "  total_flos               =  7788950GF\n",
            "  train_loss               =      2.143\n",
            "  train_runtime            = 0:14:47.56\n",
            "  train_samples            =       1122\n",
            "  train_samples_per_second =      2.528\n",
            "  train_steps_per_second   =      0.318\n"
          ]
        }
      ],
      "source": [
        "metrics = train_result.metrics\n",
        "max_train_samples = len(dataset_train)\n",
        "metrics[\"train_samples\"] = min(max_train_samples, len(dataset_train))\n",
        "trainer.log_metrics(\"train\", metrics)\n",
        "trainer.save_metrics(\"train\", metrics)\n",
        "trainer.save_state()"
      ]
    },
    {
      "cell_type": "markdown",
      "metadata": {
        "id": "CArcZkf509Xq"
      },
      "source": [
        "#### (NOT DO THIS) Saving the adapter model\n",
        "* Note this doesn't save the entire model. It only saves the adapters."
      ]
    },
    {
      "cell_type": "code",
      "execution_count": 27,
      "metadata": {
        "id": "AyDo4GzKaQTo"
      },
      "outputs": [],
      "source": [
        "# trainer.save_model(\"saved_model\")"
      ]
    },
    {
      "cell_type": "markdown",
      "metadata": {
        "id": "E4JoRFNQbjxi"
      },
      "source": [
        "### Saved, Load and Infer from PEFT Model\n",
        "\n",
        "**reference:**\n",
        "\n",
        "[1] How to save and load a peft model: https://github.com/huggingface/peft/issues/503 -> code: https://colab.research.google.com/drive/1mGpLQk8VMFfh_jcMGPaTfygGOdqlUUTs?usp=sharing#scrollTo=6Qutrt6nkVZm"
      ]
    },
    {
      "cell_type": "markdown",
      "metadata": {},
      "source": [
        "#### Save"
      ]
    },
    {
      "cell_type": "code",
      "execution_count": 15,
      "metadata": {
        "colab": {
          "base_uri": "https://localhost:8080/"
        },
        "id": "5JLs0pfabl48",
        "outputId": "822a27c7-2ce5-4fd9-aa82-d8b22a3a70fb"
      },
      "outputs": [],
      "source": [
        "model_save_path = \"./saved_peft_model\"\n",
        "# model.save_pretrained(model_save_path)"
      ]
    },
    {
      "cell_type": "markdown",
      "metadata": {},
      "source": [
        "#### Load"
      ]
    },
    {
      "cell_type": "code",
      "execution_count": 16,
      "metadata": {
        "id": "x7HaMw0xulhd"
      },
      "outputs": [],
      "source": [
        "from peft import PeftModel, PeftConfig # AutoPeftModelForCausalLM\n",
        "\n",
        "config = PeftConfig.from_pretrained(model_save_path)\n"
      ]
    },
    {
      "cell_type": "code",
      "execution_count": 17,
      "metadata": {},
      "outputs": [
        {
          "name": "stdout",
          "output_type": "stream",
          "text": [
            "EleutherAI/gpt-neo-1.3B\n"
          ]
        }
      ],
      "source": [
        "print(config.base_model_name_or_path)"
      ]
    },
    {
      "cell_type": "code",
      "execution_count": 20,
      "metadata": {},
      "outputs": [
        {
          "name": "stderr",
          "output_type": "stream",
          "text": [
            "`low_cpu_mem_usage` was None, now default to True since model is quantized.\n"
          ]
        },
        {
          "name": "stderr",
          "output_type": "stream",
          "text": [
            "Some weights of GPTNeoForSequenceClassification were not initialized from the model checkpoint at EleutherAI/gpt-neo-1.3B and are newly initialized: ['score.weight']\n",
            "You should probably TRAIN this model on a down-stream task to be able to use it for predictions and inference.\n"
          ]
        }
      ],
      "source": [
        "# Load pre-trained model\n",
        "# quantization_config (same as when initialize the model for training)\n",
        "quantization_config = BitsAndBytesConfig(\n",
        "    load_in_4bit = True, # enable 4-bit quantization\n",
        "    bnb_4bit_quant_type = 'nf4', # information theoretically optimal dtype for normally distributed weights\n",
        "    bnb_4bit_use_double_quant = True, # quantize quantized weights //insert xzibit meme\n",
        "    bnb_4bit_compute_dtype = torch.bfloat16 # optimized fp format for ML\n",
        ")\n",
        "\n",
        "model_loaded_base = AutoModelForSequenceClassification.from_pretrained(\n",
        "    config.base_model_name_or_path,\n",
        "    quantization_config=quantization_config,\n",
        "    # num_labels=3\n",
        "    num_labels=8 # must be determined correctly,\n",
        "                 # otherwise, unreasonable errors happen to \n",
        "                 # CustomedTrainer(Trainer) in the compute_loss function\n",
        ")\n",
        "model_loaded_peft = PeftModel.from_pretrained(model_loaded_base, model_save_path)\n",
        "\n",
        "# Load tokenizer again (as if the training code, and setup above was not existent)\n",
        "tokenizer_loaded = AutoTokenizer.from_pretrained(config.base_model_name_or_path, add_prefix_space=True)\n",
        "tokenizer_loaded.pad_token_id = tokenizer_loaded.eos_token_id\n",
        "tokenizer_loaded.pad_token = tokenizer_loaded.eos_token\n"
      ]
    },
    {
      "cell_type": "markdown",
      "metadata": {},
      "source": [
        "#### Inference"
      ]
    },
    {
      "cell_type": "code",
      "execution_count": 21,
      "metadata": {},
      "outputs": [],
      "source": [
        "model_loaded_peft.config.pad_token_id = tokenizer_loaded.pad_token_id\n",
        "model_loaded_peft.config.use_cache = False\n",
        "model_loaded_peft.config.pretraining_tp = 1"
      ]
    },
    {
      "cell_type": "code",
      "execution_count": 22,
      "metadata": {},
      "outputs": [],
      "source": [
        "# Convert summaries to a list\n",
        "# sentences = df_test.summary.tolist()\n",
        "sentences = df_test.claims.tolist()\n",
        "\n",
        "# Define the batch size\n",
        "batch_size = 32  # You can adjust this based on your system's memory capacity\n",
        "\n",
        "# Initialize an empty list to store the model outputs\n",
        "all_outputs = []\n",
        "\n",
        "# Process the sentences in batches\n",
        "for i in range(0, len(sentences), batch_size):\n",
        "    # Get the batch of sentences\n",
        "    batch_sentences = sentences[i:i + batch_size]\n",
        "\n",
        "    # Tokenize the batch\n",
        "    inputs = tokenizer_loaded(batch_sentences, return_tensors=\"pt\", padding=True, truncation=True, max_length=512)\n",
        "\n",
        "    # Move tensors to the device where the model is (e.g., GPU or CPU)\n",
        "    inputs = {k: v.to('cuda' if torch.cuda.is_available() else 'cpu') for k, v in inputs.items()}\n",
        "\n",
        "    # Perform inference and store the logits\n",
        "    with torch.no_grad():\n",
        "        outputs = model_loaded_peft(**inputs)\n",
        "        all_outputs.append(outputs['logits'])"
      ]
    },
    {
      "cell_type": "code",
      "execution_count": 25,
      "metadata": {},
      "outputs": [
        {
          "name": "stdout",
          "output_type": "stream",
          "text": [
            "Confusion Matrix:\n",
            "[[12 28  6  0  2  5 12  8]\n",
            " [ 3 20  6  1  4  4 16  5]\n",
            " [ 5  5 23  0  1  1  1  1]\n",
            " [ 3  5  0  0  1  0  2  0]\n",
            " [ 4  6  0  0  1  0  4  2]\n",
            " [ 3 22  0  0  1  2  6  2]\n",
            " [ 4 13  2  0  0  1 24 14]\n",
            " [ 1 15 10  0  1  2 33 21]]\n",
            "\n",
            "Classification Report:\n",
            "              precision    recall  f1-score   support\n",
            "\n",
            "           A       0.34      0.16      0.22        73\n",
            "           B       0.18      0.34      0.23        59\n",
            "           C       0.49      0.62      0.55        37\n",
            "           D       0.00      0.00      0.00        11\n",
            "           E       0.09      0.06      0.07        17\n",
            "           F       0.13      0.06      0.08        36\n",
            "           G       0.24      0.41      0.31        58\n",
            "           H       0.40      0.25      0.31        83\n",
            "\n",
            "    accuracy                           0.28       374\n",
            "   macro avg       0.23      0.24      0.22       374\n",
            "weighted avg       0.29      0.28      0.26       374\n",
            "\n",
            "Balanced Accuracy Score: 0.23827155884016027\n",
            "Accuracy Score: 0.27540106951871657\n"
          ]
        },
        {
          "name": "stderr",
          "output_type": "stream",
          "text": [
            "/tmp/ipykernel_32859/2471174724.py:2: SettingWithCopyWarning: \n",
            "A value is trying to be set on a copy of a slice from a DataFrame.\n",
            "Try using .loc[row_indexer,col_indexer] = value instead\n",
            "\n",
            "See the caveats in the documentation: https://pandas.pydata.org/pandas-docs/stable/user_guide/indexing.html#returning-a-view-versus-a-copy\n",
            "  df_test['predictions']=final_outputs.argmax(axis=1).cpu().numpy()\n",
            "/tmp/ipykernel_32859/2471174724.py:3: SettingWithCopyWarning: \n",
            "A value is trying to be set on a copy of a slice from a DataFrame.\n",
            "Try using .loc[row_indexer,col_indexer] = value instead\n",
            "\n",
            "See the caveats in the documentation: https://pandas.pydata.org/pandas-docs/stable/user_guide/indexing.html#returning-a-view-versus-a-copy\n",
            "  df_test['predictions']=df_test['predictions'].apply(lambda l:category_map[l])\n"
          ]
        }
      ],
      "source": [
        "final_outputs = torch.cat(all_outputs, dim=0)\n",
        "df_test['predictions']=final_outputs.argmax(axis=1).cpu().numpy()\n",
        "df_test['predictions']=df_test['predictions'].apply(lambda l:category_map[l])\n",
        "get_performance_metrics(df_test)"
      ]
    },
    {
      "cell_type": "markdown",
      "metadata": {},
      "source": [
        "# Further questions"
      ]
    },
    {
      "cell_type": "markdown",
      "metadata": {},
      "source": [
        "[1] How to load saved huggingface trainer state to continue training\n",
        "\n",
        "[2] try out whether the old ssh key can be used again"
      ]
    }
  ],
  "metadata": {
    "accelerator": "GPU",
    "colab": {
      "authorship_tag": "ABX9TyMesSfteeDsSgAwfYVVnQ5b",
      "gpuType": "L4",
      "include_colab_link": true,
      "provenance": []
    },
    "kernelspec": {
      "display_name": "gpuenv",
      "language": "python",
      "name": "python3"
    },
    "language_info": {
      "codemirror_mode": {
        "name": "ipython",
        "version": 3
      },
      "file_extension": ".py",
      "mimetype": "text/x-python",
      "name": "python",
      "nbconvert_exporter": "python",
      "pygments_lexer": "ipython3",
      "version": "3.13.2"
    },
    "widgets": {
      "application/vnd.jupyter.widget-state+json": {
        "0005f9e87c704ab3aa8f25293841d816": {
          "model_module": "@jupyter-widgets/controls",
          "model_module_version": "1.5.0",
          "model_name": "HTMLModel",
          "state": {
            "_dom_classes": [],
            "_model_module": "@jupyter-widgets/controls",
            "_model_module_version": "1.5.0",
            "_model_name": "HTMLModel",
            "_view_count": null,
            "_view_module": "@jupyter-widgets/controls",
            "_view_module_version": "1.5.0",
            "_view_name": "HTMLView",
            "description": "",
            "description_tooltip": null,
            "layout": "IPY_MODEL_f472f2b00821466cb91fa836685a835c",
            "placeholder": "​",
            "style": "IPY_MODEL_857f9eb9ae57444bad63bb2228c2a18f",
            "value": "tokenizer.json: 100%"
          }
        },
        "0367e7c0bda64f69aaef7573b11c8d72": {
          "model_module": "@jupyter-widgets/base",
          "model_module_version": "1.2.0",
          "model_name": "LayoutModel",
          "state": {
            "_model_module": "@jupyter-widgets/base",
            "_model_module_version": "1.2.0",
            "_model_name": "LayoutModel",
            "_view_count": null,
            "_view_module": "@jupyter-widgets/base",
            "_view_module_version": "1.2.0",
            "_view_name": "LayoutView",
            "align_content": null,
            "align_items": null,
            "align_self": null,
            "border": null,
            "bottom": null,
            "display": null,
            "flex": null,
            "flex_flow": null,
            "grid_area": null,
            "grid_auto_columns": null,
            "grid_auto_flow": null,
            "grid_auto_rows": null,
            "grid_column": null,
            "grid_gap": null,
            "grid_row": null,
            "grid_template_areas": null,
            "grid_template_columns": null,
            "grid_template_rows": null,
            "height": null,
            "justify_content": null,
            "justify_items": null,
            "left": null,
            "margin": null,
            "max_height": null,
            "max_width": null,
            "min_height": null,
            "min_width": null,
            "object_fit": null,
            "object_position": null,
            "order": null,
            "overflow": null,
            "overflow_x": null,
            "overflow_y": null,
            "padding": null,
            "right": null,
            "top": null,
            "visibility": null,
            "width": null
          }
        },
        "08be83315d604c82acbe60eb37b83274": {
          "model_module": "@jupyter-widgets/controls",
          "model_module_version": "1.5.0",
          "model_name": "HTMLModel",
          "state": {
            "_dom_classes": [],
            "_model_module": "@jupyter-widgets/controls",
            "_model_module_version": "1.5.0",
            "_model_name": "HTMLModel",
            "_view_count": null,
            "_view_module": "@jupyter-widgets/controls",
            "_view_module_version": "1.5.0",
            "_view_name": "HTMLView",
            "description": "",
            "description_tooltip": null,
            "layout": "IPY_MODEL_5404ad7cd8bb42ff902105a82a6f64c3",
            "placeholder": "​",
            "style": "IPY_MODEL_ff0b41d09ab24c9fa933f90db66807f1",
            "value": "model-00003-of-00004.safetensors: 100%"
          }
        },
        "0c6031210741497681283876d244b6a3": {
          "model_module": "@jupyter-widgets/base",
          "model_module_version": "1.2.0",
          "model_name": "LayoutModel",
          "state": {
            "_model_module": "@jupyter-widgets/base",
            "_model_module_version": "1.2.0",
            "_model_name": "LayoutModel",
            "_view_count": null,
            "_view_module": "@jupyter-widgets/base",
            "_view_module_version": "1.2.0",
            "_view_name": "LayoutView",
            "align_content": null,
            "align_items": null,
            "align_self": null,
            "border": null,
            "bottom": null,
            "display": null,
            "flex": null,
            "flex_flow": null,
            "grid_area": null,
            "grid_auto_columns": null,
            "grid_auto_flow": null,
            "grid_auto_rows": null,
            "grid_column": null,
            "grid_gap": null,
            "grid_row": null,
            "grid_template_areas": null,
            "grid_template_columns": null,
            "grid_template_rows": null,
            "height": null,
            "justify_content": null,
            "justify_items": null,
            "left": null,
            "margin": null,
            "max_height": null,
            "max_width": null,
            "min_height": null,
            "min_width": null,
            "object_fit": null,
            "object_position": null,
            "order": null,
            "overflow": null,
            "overflow_x": null,
            "overflow_y": null,
            "padding": null,
            "right": null,
            "top": null,
            "visibility": null,
            "width": null
          }
        },
        "0d69ed12c7284bffabb756bfdaf44976": {
          "model_module": "@jupyter-widgets/base",
          "model_module_version": "1.2.0",
          "model_name": "LayoutModel",
          "state": {
            "_model_module": "@jupyter-widgets/base",
            "_model_module_version": "1.2.0",
            "_model_name": "LayoutModel",
            "_view_count": null,
            "_view_module": "@jupyter-widgets/base",
            "_view_module_version": "1.2.0",
            "_view_name": "LayoutView",
            "align_content": null,
            "align_items": null,
            "align_self": null,
            "border": null,
            "bottom": null,
            "display": null,
            "flex": null,
            "flex_flow": null,
            "grid_area": null,
            "grid_auto_columns": null,
            "grid_auto_flow": null,
            "grid_auto_rows": null,
            "grid_column": null,
            "grid_gap": null,
            "grid_row": null,
            "grid_template_areas": null,
            "grid_template_columns": null,
            "grid_template_rows": null,
            "height": null,
            "justify_content": null,
            "justify_items": null,
            "left": null,
            "margin": null,
            "max_height": null,
            "max_width": null,
            "min_height": null,
            "min_width": null,
            "object_fit": null,
            "object_position": null,
            "order": null,
            "overflow": null,
            "overflow_x": null,
            "overflow_y": null,
            "padding": null,
            "right": null,
            "top": null,
            "visibility": null,
            "width": null
          }
        },
        "0e2a0d2d4cb3467caa7b4e94e73a0dba": {
          "model_module": "@jupyter-widgets/base",
          "model_module_version": "1.2.0",
          "model_name": "LayoutModel",
          "state": {
            "_model_module": "@jupyter-widgets/base",
            "_model_module_version": "1.2.0",
            "_model_name": "LayoutModel",
            "_view_count": null,
            "_view_module": "@jupyter-widgets/base",
            "_view_module_version": "1.2.0",
            "_view_name": "LayoutView",
            "align_content": null,
            "align_items": null,
            "align_self": null,
            "border": null,
            "bottom": null,
            "display": null,
            "flex": null,
            "flex_flow": null,
            "grid_area": null,
            "grid_auto_columns": null,
            "grid_auto_flow": null,
            "grid_auto_rows": null,
            "grid_column": null,
            "grid_gap": null,
            "grid_row": null,
            "grid_template_areas": null,
            "grid_template_columns": null,
            "grid_template_rows": null,
            "height": null,
            "justify_content": null,
            "justify_items": null,
            "left": null,
            "margin": null,
            "max_height": null,
            "max_width": null,
            "min_height": null,
            "min_width": null,
            "object_fit": null,
            "object_position": null,
            "order": null,
            "overflow": null,
            "overflow_x": null,
            "overflow_y": null,
            "padding": null,
            "right": null,
            "top": null,
            "visibility": null,
            "width": null
          }
        },
        "0f21d24459d74b58a9e43231fde5e66a": {
          "model_module": "@jupyter-widgets/controls",
          "model_module_version": "1.5.0",
          "model_name": "FloatProgressModel",
          "state": {
            "_dom_classes": [],
            "_model_module": "@jupyter-widgets/controls",
            "_model_module_version": "1.5.0",
            "_model_name": "FloatProgressModel",
            "_view_count": null,
            "_view_module": "@jupyter-widgets/controls",
            "_view_module_version": "1.5.0",
            "_view_name": "ProgressView",
            "bar_style": "success",
            "description": "",
            "description_tooltip": null,
            "layout": "IPY_MODEL_5d4788b846a548ddb9f316145451db78",
            "max": 1170,
            "min": 0,
            "orientation": "horizontal",
            "style": "IPY_MODEL_6ed7f45528d64f298716bcd0b268de19",
            "value": 1170
          }
        },
        "0facdcb44e1b49ac84ebb5cc5dd4dc64": {
          "model_module": "@jupyter-widgets/base",
          "model_module_version": "1.2.0",
          "model_name": "LayoutModel",
          "state": {
            "_model_module": "@jupyter-widgets/base",
            "_model_module_version": "1.2.0",
            "_model_name": "LayoutModel",
            "_view_count": null,
            "_view_module": "@jupyter-widgets/base",
            "_view_module_version": "1.2.0",
            "_view_name": "LayoutView",
            "align_content": null,
            "align_items": null,
            "align_self": null,
            "border": null,
            "bottom": null,
            "display": null,
            "flex": null,
            "flex_flow": null,
            "grid_area": null,
            "grid_auto_columns": null,
            "grid_auto_flow": null,
            "grid_auto_rows": null,
            "grid_column": null,
            "grid_gap": null,
            "grid_row": null,
            "grid_template_areas": null,
            "grid_template_columns": null,
            "grid_template_rows": null,
            "height": null,
            "justify_content": null,
            "justify_items": null,
            "left": null,
            "margin": null,
            "max_height": null,
            "max_width": null,
            "min_height": null,
            "min_width": null,
            "object_fit": null,
            "object_position": null,
            "order": null,
            "overflow": null,
            "overflow_x": null,
            "overflow_y": null,
            "padding": null,
            "right": null,
            "top": null,
            "visibility": null,
            "width": null
          }
        },
        "119e616844b04994a54a6f84458051b8": {
          "model_module": "@jupyter-widgets/controls",
          "model_module_version": "1.5.0",
          "model_name": "ProgressStyleModel",
          "state": {
            "_model_module": "@jupyter-widgets/controls",
            "_model_module_version": "1.5.0",
            "_model_name": "ProgressStyleModel",
            "_view_count": null,
            "_view_module": "@jupyter-widgets/base",
            "_view_module_version": "1.2.0",
            "_view_name": "StyleView",
            "bar_color": null,
            "description_width": ""
          }
        },
        "13d6d0c4b2d14604b37b3bba7404c1d4": {
          "model_module": "@jupyter-widgets/base",
          "model_module_version": "1.2.0",
          "model_name": "LayoutModel",
          "state": {
            "_model_module": "@jupyter-widgets/base",
            "_model_module_version": "1.2.0",
            "_model_name": "LayoutModel",
            "_view_count": null,
            "_view_module": "@jupyter-widgets/base",
            "_view_module_version": "1.2.0",
            "_view_name": "LayoutView",
            "align_content": null,
            "align_items": null,
            "align_self": null,
            "border": null,
            "bottom": null,
            "display": null,
            "flex": null,
            "flex_flow": null,
            "grid_area": null,
            "grid_auto_columns": null,
            "grid_auto_flow": null,
            "grid_auto_rows": null,
            "grid_column": null,
            "grid_gap": null,
            "grid_row": null,
            "grid_template_areas": null,
            "grid_template_columns": null,
            "grid_template_rows": null,
            "height": null,
            "justify_content": null,
            "justify_items": null,
            "left": null,
            "margin": null,
            "max_height": null,
            "max_width": null,
            "min_height": null,
            "min_width": null,
            "object_fit": null,
            "object_position": null,
            "order": null,
            "overflow": null,
            "overflow_x": null,
            "overflow_y": null,
            "padding": null,
            "right": null,
            "top": null,
            "visibility": null,
            "width": null
          }
        },
        "15252a9e712b4426b3883f20e49574fd": {
          "model_module": "@jupyter-widgets/base",
          "model_module_version": "1.2.0",
          "model_name": "LayoutModel",
          "state": {
            "_model_module": "@jupyter-widgets/base",
            "_model_module_version": "1.2.0",
            "_model_name": "LayoutModel",
            "_view_count": null,
            "_view_module": "@jupyter-widgets/base",
            "_view_module_version": "1.2.0",
            "_view_name": "LayoutView",
            "align_content": null,
            "align_items": null,
            "align_self": null,
            "border": null,
            "bottom": null,
            "display": null,
            "flex": null,
            "flex_flow": null,
            "grid_area": null,
            "grid_auto_columns": null,
            "grid_auto_flow": null,
            "grid_auto_rows": null,
            "grid_column": null,
            "grid_gap": null,
            "grid_row": null,
            "grid_template_areas": null,
            "grid_template_columns": null,
            "grid_template_rows": null,
            "height": null,
            "justify_content": null,
            "justify_items": null,
            "left": null,
            "margin": null,
            "max_height": null,
            "max_width": null,
            "min_height": null,
            "min_width": null,
            "object_fit": null,
            "object_position": null,
            "order": null,
            "overflow": null,
            "overflow_x": null,
            "overflow_y": null,
            "padding": null,
            "right": null,
            "top": null,
            "visibility": null,
            "width": null
          }
        },
        "160408689cff44b8bb4c2cb54eb8d6cf": {
          "model_module": "@jupyter-widgets/controls",
          "model_module_version": "1.5.0",
          "model_name": "ProgressStyleModel",
          "state": {
            "_model_module": "@jupyter-widgets/controls",
            "_model_module_version": "1.5.0",
            "_model_name": "ProgressStyleModel",
            "_view_count": null,
            "_view_module": "@jupyter-widgets/base",
            "_view_module_version": "1.2.0",
            "_view_name": "StyleView",
            "bar_color": null,
            "description_width": ""
          }
        },
        "16194c537e304449849e67d32fa9db9c": {
          "model_module": "@jupyter-widgets/controls",
          "model_module_version": "1.5.0",
          "model_name": "ProgressStyleModel",
          "state": {
            "_model_module": "@jupyter-widgets/controls",
            "_model_module_version": "1.5.0",
            "_model_name": "ProgressStyleModel",
            "_view_count": null,
            "_view_module": "@jupyter-widgets/base",
            "_view_module_version": "1.2.0",
            "_view_name": "StyleView",
            "bar_color": null,
            "description_width": ""
          }
        },
        "1aca1dc9ebca46ed9e336e66d6b3af1e": {
          "model_module": "@jupyter-widgets/controls",
          "model_module_version": "1.5.0",
          "model_name": "ProgressStyleModel",
          "state": {
            "_model_module": "@jupyter-widgets/controls",
            "_model_module_version": "1.5.0",
            "_model_name": "ProgressStyleModel",
            "_view_count": null,
            "_view_module": "@jupyter-widgets/base",
            "_view_module_version": "1.2.0",
            "_view_name": "StyleView",
            "bar_color": null,
            "description_width": ""
          }
        },
        "1ce7bb1c0c5a4839a9869c9fac7bf85d": {
          "model_module": "@jupyter-widgets/controls",
          "model_module_version": "1.5.0",
          "model_name": "DescriptionStyleModel",
          "state": {
            "_model_module": "@jupyter-widgets/controls",
            "_model_module_version": "1.5.0",
            "_model_name": "DescriptionStyleModel",
            "_view_count": null,
            "_view_module": "@jupyter-widgets/base",
            "_view_module_version": "1.2.0",
            "_view_name": "StyleView",
            "description_width": ""
          }
        },
        "1d922d06cbad4e26989fb3c15de09e39": {
          "model_module": "@jupyter-widgets/controls",
          "model_module_version": "1.5.0",
          "model_name": "DescriptionStyleModel",
          "state": {
            "_model_module": "@jupyter-widgets/controls",
            "_model_module_version": "1.5.0",
            "_model_name": "DescriptionStyleModel",
            "_view_count": null,
            "_view_module": "@jupyter-widgets/base",
            "_view_module_version": "1.2.0",
            "_view_name": "StyleView",
            "description_width": ""
          }
        },
        "1ee9bed043784495bdfe3ef72715be61": {
          "model_module": "@jupyter-widgets/base",
          "model_module_version": "1.2.0",
          "model_name": "LayoutModel",
          "state": {
            "_model_module": "@jupyter-widgets/base",
            "_model_module_version": "1.2.0",
            "_model_name": "LayoutModel",
            "_view_count": null,
            "_view_module": "@jupyter-widgets/base",
            "_view_module_version": "1.2.0",
            "_view_name": "LayoutView",
            "align_content": null,
            "align_items": null,
            "align_self": null,
            "border": null,
            "bottom": null,
            "display": null,
            "flex": null,
            "flex_flow": null,
            "grid_area": null,
            "grid_auto_columns": null,
            "grid_auto_flow": null,
            "grid_auto_rows": null,
            "grid_column": null,
            "grid_gap": null,
            "grid_row": null,
            "grid_template_areas": null,
            "grid_template_columns": null,
            "grid_template_rows": null,
            "height": null,
            "justify_content": null,
            "justify_items": null,
            "left": null,
            "margin": null,
            "max_height": null,
            "max_width": null,
            "min_height": null,
            "min_width": null,
            "object_fit": null,
            "object_position": null,
            "order": null,
            "overflow": null,
            "overflow_x": null,
            "overflow_y": null,
            "padding": null,
            "right": null,
            "top": null,
            "visibility": null,
            "width": null
          }
        },
        "206e57be9af14513a792f3d13e42152b": {
          "model_module": "@jupyter-widgets/base",
          "model_module_version": "1.2.0",
          "model_name": "LayoutModel",
          "state": {
            "_model_module": "@jupyter-widgets/base",
            "_model_module_version": "1.2.0",
            "_model_name": "LayoutModel",
            "_view_count": null,
            "_view_module": "@jupyter-widgets/base",
            "_view_module_version": "1.2.0",
            "_view_name": "LayoutView",
            "align_content": null,
            "align_items": null,
            "align_self": null,
            "border": null,
            "bottom": null,
            "display": null,
            "flex": null,
            "flex_flow": null,
            "grid_area": null,
            "grid_auto_columns": null,
            "grid_auto_flow": null,
            "grid_auto_rows": null,
            "grid_column": null,
            "grid_gap": null,
            "grid_row": null,
            "grid_template_areas": null,
            "grid_template_columns": null,
            "grid_template_rows": null,
            "height": null,
            "justify_content": null,
            "justify_items": null,
            "left": null,
            "margin": null,
            "max_height": null,
            "max_width": null,
            "min_height": null,
            "min_width": null,
            "object_fit": null,
            "object_position": null,
            "order": null,
            "overflow": null,
            "overflow_x": null,
            "overflow_y": null,
            "padding": null,
            "right": null,
            "top": null,
            "visibility": null,
            "width": null
          }
        },
        "21652408ab064ff0aa29799238ddccc5": {
          "model_module": "@jupyter-widgets/controls",
          "model_module_version": "1.5.0",
          "model_name": "HBoxModel",
          "state": {
            "_dom_classes": [],
            "_model_module": "@jupyter-widgets/controls",
            "_model_module_version": "1.5.0",
            "_model_name": "HBoxModel",
            "_view_count": null,
            "_view_module": "@jupyter-widgets/controls",
            "_view_module_version": "1.5.0",
            "_view_name": "HBoxView",
            "box_style": "",
            "children": [
              "IPY_MODEL_0005f9e87c704ab3aa8f25293841d816",
              "IPY_MODEL_741618da6ab54e79a3ec3f9d8e0d193e",
              "IPY_MODEL_398531a14a284d309b134877c18af493"
            ],
            "layout": "IPY_MODEL_86adf9382003468180e89b2ca6711703"
          }
        },
        "217834eb817c40bb9622aa7a327acd0c": {
          "model_module": "@jupyter-widgets/controls",
          "model_module_version": "1.5.0",
          "model_name": "HTMLModel",
          "state": {
            "_dom_classes": [],
            "_model_module": "@jupyter-widgets/controls",
            "_model_module_version": "1.5.0",
            "_model_name": "HTMLModel",
            "_view_count": null,
            "_view_module": "@jupyter-widgets/controls",
            "_view_module_version": "1.5.0",
            "_view_name": "HTMLView",
            "description": "",
            "description_tooltip": null,
            "layout": "IPY_MODEL_bc4060ccee5b41f28718c79b4eb41b47",
            "placeholder": "​",
            "style": "IPY_MODEL_1ce7bb1c0c5a4839a9869c9fac7bf85d",
            "value": " 1170/1170 [00:00&lt;00:00, 14679.48 examples/s]"
          }
        },
        "21f5247d26c04f02816c8d7f546208ba": {
          "model_module": "@jupyter-widgets/controls",
          "model_module_version": "1.5.0",
          "model_name": "ProgressStyleModel",
          "state": {
            "_model_module": "@jupyter-widgets/controls",
            "_model_module_version": "1.5.0",
            "_model_name": "ProgressStyleModel",
            "_view_count": null,
            "_view_module": "@jupyter-widgets/base",
            "_view_module_version": "1.2.0",
            "_view_name": "StyleView",
            "bar_color": null,
            "description_width": ""
          }
        },
        "2641d00f77aa4417a5f93437ae8fdd2a": {
          "model_module": "@jupyter-widgets/controls",
          "model_module_version": "1.5.0",
          "model_name": "HTMLModel",
          "state": {
            "_dom_classes": [],
            "_model_module": "@jupyter-widgets/controls",
            "_model_module_version": "1.5.0",
            "_model_name": "HTMLModel",
            "_view_count": null,
            "_view_module": "@jupyter-widgets/controls",
            "_view_module_version": "1.5.0",
            "_view_name": "HTMLView",
            "description": "",
            "description_tooltip": null,
            "layout": "IPY_MODEL_78d6a442c3f748498e1bbed255089c40",
            "placeholder": "​",
            "style": "IPY_MODEL_83c7a388f9c44c90a911f7042d8954d9",
            "value": " 4/4 [01:02&lt;00:00, 13.35s/it]"
          }
        },
        "29c6d91fa0274668aaa98d7e429f65be": {
          "model_module": "@jupyter-widgets/controls",
          "model_module_version": "1.5.0",
          "model_name": "HTMLModel",
          "state": {
            "_dom_classes": [],
            "_model_module": "@jupyter-widgets/controls",
            "_model_module_version": "1.5.0",
            "_model_name": "HTMLModel",
            "_view_count": null,
            "_view_module": "@jupyter-widgets/controls",
            "_view_module_version": "1.5.0",
            "_view_name": "HTMLView",
            "description": "",
            "description_tooltip": null,
            "layout": "IPY_MODEL_ffb54dcb52294d9199eaf9e7a5995a89",
            "placeholder": "​",
            "style": "IPY_MODEL_5413fbb2c1b94866ba25d73b46e1d055",
            "value": " 1170/1170 [00:00&lt;00:00, 18987.12 examples/s]"
          }
        },
        "2a30d9f502104d07b81fd160a13f7d9e": {
          "model_module": "@jupyter-widgets/controls",
          "model_module_version": "1.5.0",
          "model_name": "HTMLModel",
          "state": {
            "_dom_classes": [],
            "_model_module": "@jupyter-widgets/controls",
            "_model_module_version": "1.5.0",
            "_model_name": "HTMLModel",
            "_view_count": null,
            "_view_module": "@jupyter-widgets/controls",
            "_view_module_version": "1.5.0",
            "_view_name": "HTMLView",
            "description": "",
            "description_tooltip": null,
            "layout": "IPY_MODEL_733f80e5474040d29a2e7b79fb88b670",
            "placeholder": "​",
            "style": "IPY_MODEL_7c4b0822ebe34143a32dab87ed41cc7a",
            "value": " 73.0/73.0 [00:00&lt;00:00, 6.04kB/s]"
          }
        },
        "2b39f1df7e164cd3a526c15b2c6f37f4": {
          "model_module": "@jupyter-widgets/controls",
          "model_module_version": "1.5.0",
          "model_name": "DescriptionStyleModel",
          "state": {
            "_model_module": "@jupyter-widgets/controls",
            "_model_module_version": "1.5.0",
            "_model_name": "DescriptionStyleModel",
            "_view_count": null,
            "_view_module": "@jupyter-widgets/base",
            "_view_module_version": "1.2.0",
            "_view_name": "StyleView",
            "description_width": ""
          }
        },
        "2b90f18877d445d682e528c31cf882a0": {
          "model_module": "@jupyter-widgets/controls",
          "model_module_version": "1.5.0",
          "model_name": "FloatProgressModel",
          "state": {
            "_dom_classes": [],
            "_model_module": "@jupyter-widgets/controls",
            "_model_module_version": "1.5.0",
            "_model_name": "FloatProgressModel",
            "_view_count": null,
            "_view_module": "@jupyter-widgets/controls",
            "_view_module_version": "1.5.0",
            "_view_name": "ProgressView",
            "bar_style": "success",
            "description": "",
            "description_tooltip": null,
            "layout": "IPY_MODEL_c7b816d2bf4244ceaa9567e39155da09",
            "max": 3508,
            "min": 0,
            "orientation": "horizontal",
            "style": "IPY_MODEL_fbc91a151de04346871e2261c38faee9",
            "value": 3508
          }
        },
        "2c8c9f746e5b4801a490875629c6f55d": {
          "model_module": "@jupyter-widgets/base",
          "model_module_version": "1.2.0",
          "model_name": "LayoutModel",
          "state": {
            "_model_module": "@jupyter-widgets/base",
            "_model_module_version": "1.2.0",
            "_model_name": "LayoutModel",
            "_view_count": null,
            "_view_module": "@jupyter-widgets/base",
            "_view_module_version": "1.2.0",
            "_view_name": "LayoutView",
            "align_content": null,
            "align_items": null,
            "align_self": null,
            "border": null,
            "bottom": null,
            "display": null,
            "flex": null,
            "flex_flow": null,
            "grid_area": null,
            "grid_auto_columns": null,
            "grid_auto_flow": null,
            "grid_auto_rows": null,
            "grid_column": null,
            "grid_gap": null,
            "grid_row": null,
            "grid_template_areas": null,
            "grid_template_columns": null,
            "grid_template_rows": null,
            "height": null,
            "justify_content": null,
            "justify_items": null,
            "left": null,
            "margin": null,
            "max_height": null,
            "max_width": null,
            "min_height": null,
            "min_width": null,
            "object_fit": null,
            "object_position": null,
            "order": null,
            "overflow": null,
            "overflow_x": null,
            "overflow_y": null,
            "padding": null,
            "right": null,
            "top": null,
            "visibility": null,
            "width": null
          }
        },
        "2fa05604b70b4c438594668f1729ca06": {
          "model_module": "@jupyter-widgets/controls",
          "model_module_version": "1.5.0",
          "model_name": "HTMLModel",
          "state": {
            "_dom_classes": [],
            "_model_module": "@jupyter-widgets/controls",
            "_model_module_version": "1.5.0",
            "_model_name": "HTMLModel",
            "_view_count": null,
            "_view_module": "@jupyter-widgets/controls",
            "_view_module_version": "1.5.0",
            "_view_name": "HTMLView",
            "description": "",
            "description_tooltip": null,
            "layout": "IPY_MODEL_3e70ead7f53f402a849e87cfffbfe9c1",
            "placeholder": "​",
            "style": "IPY_MODEL_b9c7a7034d54472ab739dd85f32ffb88",
            "value": " 3508/3508 [00:00&lt;00:00, 17936.84 examples/s]"
          }
        },
        "339e695b1b4043a9925dc74deb4e12d3": {
          "model_module": "@jupyter-widgets/controls",
          "model_module_version": "1.5.0",
          "model_name": "DescriptionStyleModel",
          "state": {
            "_model_module": "@jupyter-widgets/controls",
            "_model_module_version": "1.5.0",
            "_model_name": "DescriptionStyleModel",
            "_view_count": null,
            "_view_module": "@jupyter-widgets/base",
            "_view_module_version": "1.2.0",
            "_view_name": "StyleView",
            "description_width": ""
          }
        },
        "3489aa42339d4940b7e3dbdc8bed6192": {
          "model_module": "@jupyter-widgets/base",
          "model_module_version": "1.2.0",
          "model_name": "LayoutModel",
          "state": {
            "_model_module": "@jupyter-widgets/base",
            "_model_module_version": "1.2.0",
            "_model_name": "LayoutModel",
            "_view_count": null,
            "_view_module": "@jupyter-widgets/base",
            "_view_module_version": "1.2.0",
            "_view_name": "LayoutView",
            "align_content": null,
            "align_items": null,
            "align_self": null,
            "border": null,
            "bottom": null,
            "display": null,
            "flex": null,
            "flex_flow": null,
            "grid_area": null,
            "grid_auto_columns": null,
            "grid_auto_flow": null,
            "grid_auto_rows": null,
            "grid_column": null,
            "grid_gap": null,
            "grid_row": null,
            "grid_template_areas": null,
            "grid_template_columns": null,
            "grid_template_rows": null,
            "height": null,
            "justify_content": null,
            "justify_items": null,
            "left": null,
            "margin": null,
            "max_height": null,
            "max_width": null,
            "min_height": null,
            "min_width": null,
            "object_fit": null,
            "object_position": null,
            "order": null,
            "overflow": null,
            "overflow_x": null,
            "overflow_y": null,
            "padding": null,
            "right": null,
            "top": null,
            "visibility": null,
            "width": null
          }
        },
        "3515d6ff77924dd899459540c000f155": {
          "model_module": "@jupyter-widgets/controls",
          "model_module_version": "1.5.0",
          "model_name": "DescriptionStyleModel",
          "state": {
            "_model_module": "@jupyter-widgets/controls",
            "_model_module_version": "1.5.0",
            "_model_name": "DescriptionStyleModel",
            "_view_count": null,
            "_view_module": "@jupyter-widgets/base",
            "_view_module_version": "1.2.0",
            "_view_name": "StyleView",
            "description_width": ""
          }
        },
        "359debc35c204c04823b38a5599bc0d4": {
          "model_module": "@jupyter-widgets/controls",
          "model_module_version": "1.5.0",
          "model_name": "HTMLModel",
          "state": {
            "_dom_classes": [],
            "_model_module": "@jupyter-widgets/controls",
            "_model_module_version": "1.5.0",
            "_model_name": "HTMLModel",
            "_view_count": null,
            "_view_module": "@jupyter-widgets/controls",
            "_view_module_version": "1.5.0",
            "_view_name": "HTMLView",
            "description": "",
            "description_tooltip": null,
            "layout": "IPY_MODEL_e8842a69abed41e5b01d5d03ef95296d",
            "placeholder": "​",
            "style": "IPY_MODEL_3f22823219984e7fb9ba9a74bce1c208",
            "value": " 654/654 [00:00&lt;00:00, 59.8kB/s]"
          }
        },
        "35f3a4134a8c4a70ad95337b9450198b": {
          "model_module": "@jupyter-widgets/base",
          "model_module_version": "1.2.0",
          "model_name": "LayoutModel",
          "state": {
            "_model_module": "@jupyter-widgets/base",
            "_model_module_version": "1.2.0",
            "_model_name": "LayoutModel",
            "_view_count": null,
            "_view_module": "@jupyter-widgets/base",
            "_view_module_version": "1.2.0",
            "_view_name": "LayoutView",
            "align_content": null,
            "align_items": null,
            "align_self": null,
            "border": null,
            "bottom": null,
            "display": null,
            "flex": null,
            "flex_flow": null,
            "grid_area": null,
            "grid_auto_columns": null,
            "grid_auto_flow": null,
            "grid_auto_rows": null,
            "grid_column": null,
            "grid_gap": null,
            "grid_row": null,
            "grid_template_areas": null,
            "grid_template_columns": null,
            "grid_template_rows": null,
            "height": null,
            "justify_content": null,
            "justify_items": null,
            "left": null,
            "margin": null,
            "max_height": null,
            "max_width": null,
            "min_height": null,
            "min_width": null,
            "object_fit": null,
            "object_position": null,
            "order": null,
            "overflow": null,
            "overflow_x": null,
            "overflow_y": null,
            "padding": null,
            "right": null,
            "top": null,
            "visibility": null,
            "width": null
          }
        },
        "382c6e08ff6b4de5964b923274b971ed": {
          "model_module": "@jupyter-widgets/controls",
          "model_module_version": "1.5.0",
          "model_name": "ProgressStyleModel",
          "state": {
            "_model_module": "@jupyter-widgets/controls",
            "_model_module_version": "1.5.0",
            "_model_name": "ProgressStyleModel",
            "_view_count": null,
            "_view_module": "@jupyter-widgets/base",
            "_view_module_version": "1.2.0",
            "_view_name": "StyleView",
            "bar_color": null,
            "description_width": ""
          }
        },
        "387feb3b88494cbeb9aa89a6dc96116b": {
          "model_module": "@jupyter-widgets/controls",
          "model_module_version": "1.5.0",
          "model_name": "HBoxModel",
          "state": {
            "_dom_classes": [],
            "_model_module": "@jupyter-widgets/controls",
            "_model_module_version": "1.5.0",
            "_model_name": "HBoxModel",
            "_view_count": null,
            "_view_module": "@jupyter-widgets/controls",
            "_view_module_version": "1.5.0",
            "_view_name": "HBoxView",
            "box_style": "",
            "children": [
              "IPY_MODEL_ffc1f4e32ffc4b468f1e3dec8d42c175",
              "IPY_MODEL_7ce4b44997c0459f9230b9c00d457048",
              "IPY_MODEL_51b42521a11e452cae12bbfb20093958"
            ],
            "layout": "IPY_MODEL_d1c5b89bafbd436c8b4962c4379a774e"
          }
        },
        "398531a14a284d309b134877c18af493": {
          "model_module": "@jupyter-widgets/controls",
          "model_module_version": "1.5.0",
          "model_name": "HTMLModel",
          "state": {
            "_dom_classes": [],
            "_model_module": "@jupyter-widgets/controls",
            "_model_module_version": "1.5.0",
            "_model_name": "HTMLModel",
            "_view_count": null,
            "_view_module": "@jupyter-widgets/controls",
            "_view_module_version": "1.5.0",
            "_view_name": "HTMLView",
            "description": "",
            "description_tooltip": null,
            "layout": "IPY_MODEL_58abdf33136342d1ad7f958051fdd66d",
            "placeholder": "​",
            "style": "IPY_MODEL_339e695b1b4043a9925dc74deb4e12d3",
            "value": " 9.09M/9.09M [00:00&lt;00:00, 22.9MB/s]"
          }
        },
        "39a3ec6898c540f4bb204724e5ef7c73": {
          "model_module": "@jupyter-widgets/base",
          "model_module_version": "1.2.0",
          "model_name": "LayoutModel",
          "state": {
            "_model_module": "@jupyter-widgets/base",
            "_model_module_version": "1.2.0",
            "_model_name": "LayoutModel",
            "_view_count": null,
            "_view_module": "@jupyter-widgets/base",
            "_view_module_version": "1.2.0",
            "_view_name": "LayoutView",
            "align_content": null,
            "align_items": null,
            "align_self": null,
            "border": null,
            "bottom": null,
            "display": null,
            "flex": null,
            "flex_flow": null,
            "grid_area": null,
            "grid_auto_columns": null,
            "grid_auto_flow": null,
            "grid_auto_rows": null,
            "grid_column": null,
            "grid_gap": null,
            "grid_row": null,
            "grid_template_areas": null,
            "grid_template_columns": null,
            "grid_template_rows": null,
            "height": null,
            "justify_content": null,
            "justify_items": null,
            "left": null,
            "margin": null,
            "max_height": null,
            "max_width": null,
            "min_height": null,
            "min_width": null,
            "object_fit": null,
            "object_position": null,
            "order": null,
            "overflow": null,
            "overflow_x": null,
            "overflow_y": null,
            "padding": null,
            "right": null,
            "top": null,
            "visibility": null,
            "width": null
          }
        },
        "39b68f6605074dec8ea22bfb29e5152c": {
          "model_module": "@jupyter-widgets/controls",
          "model_module_version": "1.5.0",
          "model_name": "HTMLModel",
          "state": {
            "_dom_classes": [],
            "_model_module": "@jupyter-widgets/controls",
            "_model_module_version": "1.5.0",
            "_model_name": "HTMLModel",
            "_view_count": null,
            "_view_module": "@jupyter-widgets/controls",
            "_view_module_version": "1.5.0",
            "_view_name": "HTMLView",
            "description": "",
            "description_tooltip": null,
            "layout": "IPY_MODEL_751304bd08354634a44bbae8c18317a9",
            "placeholder": "​",
            "style": "IPY_MODEL_66ff02c0e244458bbca72da5ae824ad6",
            "value": "special_tokens_map.json: 100%"
          }
        },
        "39efa72b84674bbea9bd163affcfa657": {
          "model_module": "@jupyter-widgets/controls",
          "model_module_version": "1.5.0",
          "model_name": "DescriptionStyleModel",
          "state": {
            "_model_module": "@jupyter-widgets/controls",
            "_model_module_version": "1.5.0",
            "_model_name": "DescriptionStyleModel",
            "_view_count": null,
            "_view_module": "@jupyter-widgets/base",
            "_view_module_version": "1.2.0",
            "_view_name": "StyleView",
            "description_width": ""
          }
        },
        "3d154e011fe74981bf69556a506fce0c": {
          "model_module": "@jupyter-widgets/controls",
          "model_module_version": "1.5.0",
          "model_name": "ProgressStyleModel",
          "state": {
            "_model_module": "@jupyter-widgets/controls",
            "_model_module_version": "1.5.0",
            "_model_name": "ProgressStyleModel",
            "_view_count": null,
            "_view_module": "@jupyter-widgets/base",
            "_view_module_version": "1.2.0",
            "_view_name": "StyleView",
            "bar_color": null,
            "description_width": ""
          }
        },
        "3e70ead7f53f402a849e87cfffbfe9c1": {
          "model_module": "@jupyter-widgets/base",
          "model_module_version": "1.2.0",
          "model_name": "LayoutModel",
          "state": {
            "_model_module": "@jupyter-widgets/base",
            "_model_module_version": "1.2.0",
            "_model_name": "LayoutModel",
            "_view_count": null,
            "_view_module": "@jupyter-widgets/base",
            "_view_module_version": "1.2.0",
            "_view_name": "LayoutView",
            "align_content": null,
            "align_items": null,
            "align_self": null,
            "border": null,
            "bottom": null,
            "display": null,
            "flex": null,
            "flex_flow": null,
            "grid_area": null,
            "grid_auto_columns": null,
            "grid_auto_flow": null,
            "grid_auto_rows": null,
            "grid_column": null,
            "grid_gap": null,
            "grid_row": null,
            "grid_template_areas": null,
            "grid_template_columns": null,
            "grid_template_rows": null,
            "height": null,
            "justify_content": null,
            "justify_items": null,
            "left": null,
            "margin": null,
            "max_height": null,
            "max_width": null,
            "min_height": null,
            "min_width": null,
            "object_fit": null,
            "object_position": null,
            "order": null,
            "overflow": null,
            "overflow_x": null,
            "overflow_y": null,
            "padding": null,
            "right": null,
            "top": null,
            "visibility": null,
            "width": null
          }
        },
        "3f22823219984e7fb9ba9a74bce1c208": {
          "model_module": "@jupyter-widgets/controls",
          "model_module_version": "1.5.0",
          "model_name": "DescriptionStyleModel",
          "state": {
            "_model_module": "@jupyter-widgets/controls",
            "_model_module_version": "1.5.0",
            "_model_name": "DescriptionStyleModel",
            "_view_count": null,
            "_view_module": "@jupyter-widgets/base",
            "_view_module_version": "1.2.0",
            "_view_name": "StyleView",
            "description_width": ""
          }
        },
        "403bdda5ced3464e8fe488ad120608fc": {
          "model_module": "@jupyter-widgets/controls",
          "model_module_version": "1.5.0",
          "model_name": "HBoxModel",
          "state": {
            "_dom_classes": [],
            "_model_module": "@jupyter-widgets/controls",
            "_model_module_version": "1.5.0",
            "_model_name": "HBoxModel",
            "_view_count": null,
            "_view_module": "@jupyter-widgets/controls",
            "_view_module_version": "1.5.0",
            "_view_name": "HBoxView",
            "box_style": "",
            "children": [
              "IPY_MODEL_94f9bafa996049e09fee2b33cf9c8912",
              "IPY_MODEL_f057fc6d99694197b5e7b151859a2c9c",
              "IPY_MODEL_ac79eeb5ac9f44e9a4ba6ab0c1aff1e1"
            ],
            "layout": "IPY_MODEL_bc36971e14bb4c0983bd81681b2a3aba"
          }
        },
        "41248e1164c94e9a8ee94f52c99ea4c3": {
          "model_module": "@jupyter-widgets/controls",
          "model_module_version": "1.5.0",
          "model_name": "FloatProgressModel",
          "state": {
            "_dom_classes": [],
            "_model_module": "@jupyter-widgets/controls",
            "_model_module_version": "1.5.0",
            "_model_name": "FloatProgressModel",
            "_view_count": null,
            "_view_module": "@jupyter-widgets/controls",
            "_view_module_version": "1.5.0",
            "_view_name": "ProgressView",
            "bar_style": "success",
            "description": "",
            "description_tooltip": null,
            "layout": "IPY_MODEL_6e1938dee61d4cc4ab3f873a0c94336d",
            "max": 4976698672,
            "min": 0,
            "orientation": "horizontal",
            "style": "IPY_MODEL_16194c537e304449849e67d32fa9db9c",
            "value": 4976698672
          }
        },
        "414dab2711c64fe997908c28831d0c8c": {
          "model_module": "@jupyter-widgets/controls",
          "model_module_version": "1.5.0",
          "model_name": "HTMLModel",
          "state": {
            "_dom_classes": [],
            "_model_module": "@jupyter-widgets/controls",
            "_model_module_version": "1.5.0",
            "_model_name": "HTMLModel",
            "_view_count": null,
            "_view_module": "@jupyter-widgets/controls",
            "_view_module_version": "1.5.0",
            "_view_name": "HTMLView",
            "description": "",
            "description_tooltip": null,
            "layout": "IPY_MODEL_99e8e71fe1ec4a2dad38dabdc7e67aad",
            "placeholder": "​",
            "style": "IPY_MODEL_fce4a3c36f0c4eb2a3a99caf35162ca7",
            "value": "Downloading shards: 100%"
          }
        },
        "434796f7e56b4176a6751f2fe0dae66e": {
          "model_module": "@jupyter-widgets/controls",
          "model_module_version": "1.5.0",
          "model_name": "DescriptionStyleModel",
          "state": {
            "_model_module": "@jupyter-widgets/controls",
            "_model_module_version": "1.5.0",
            "_model_name": "DescriptionStyleModel",
            "_view_count": null,
            "_view_module": "@jupyter-widgets/base",
            "_view_module_version": "1.2.0",
            "_view_name": "StyleView",
            "description_width": ""
          }
        },
        "45a4ef167362477b9f4f88c9b02c1453": {
          "model_module": "@jupyter-widgets/controls",
          "model_module_version": "1.5.0",
          "model_name": "FloatProgressModel",
          "state": {
            "_dom_classes": [],
            "_model_module": "@jupyter-widgets/controls",
            "_model_module_version": "1.5.0",
            "_model_name": "FloatProgressModel",
            "_view_count": null,
            "_view_module": "@jupyter-widgets/controls",
            "_view_module_version": "1.5.0",
            "_view_name": "ProgressView",
            "bar_style": "success",
            "description": "",
            "description_tooltip": null,
            "layout": "IPY_MODEL_7e71db8c84ec49df8d3d3f784d4f7cbb",
            "max": 4,
            "min": 0,
            "orientation": "horizontal",
            "style": "IPY_MODEL_1aca1dc9ebca46ed9e336e66d6b3af1e",
            "value": 4
          }
        },
        "46d2c2caf5ca4962a60d18afb4e61096": {
          "model_module": "@jupyter-widgets/controls",
          "model_module_version": "1.5.0",
          "model_name": "DescriptionStyleModel",
          "state": {
            "_model_module": "@jupyter-widgets/controls",
            "_model_module_version": "1.5.0",
            "_model_name": "DescriptionStyleModel",
            "_view_count": null,
            "_view_module": "@jupyter-widgets/base",
            "_view_module_version": "1.2.0",
            "_view_name": "StyleView",
            "description_width": ""
          }
        },
        "474880039bfd4bbcba164914d10299dd": {
          "model_module": "@jupyter-widgets/base",
          "model_module_version": "1.2.0",
          "model_name": "LayoutModel",
          "state": {
            "_model_module": "@jupyter-widgets/base",
            "_model_module_version": "1.2.0",
            "_model_name": "LayoutModel",
            "_view_count": null,
            "_view_module": "@jupyter-widgets/base",
            "_view_module_version": "1.2.0",
            "_view_name": "LayoutView",
            "align_content": null,
            "align_items": null,
            "align_self": null,
            "border": null,
            "bottom": null,
            "display": null,
            "flex": null,
            "flex_flow": null,
            "grid_area": null,
            "grid_auto_columns": null,
            "grid_auto_flow": null,
            "grid_auto_rows": null,
            "grid_column": null,
            "grid_gap": null,
            "grid_row": null,
            "grid_template_areas": null,
            "grid_template_columns": null,
            "grid_template_rows": null,
            "height": null,
            "justify_content": null,
            "justify_items": null,
            "left": null,
            "margin": null,
            "max_height": null,
            "max_width": null,
            "min_height": null,
            "min_width": null,
            "object_fit": null,
            "object_position": null,
            "order": null,
            "overflow": null,
            "overflow_x": null,
            "overflow_y": null,
            "padding": null,
            "right": null,
            "top": null,
            "visibility": null,
            "width": null
          }
        },
        "497bdc5ed13845aa997010f82c561e02": {
          "model_module": "@jupyter-widgets/controls",
          "model_module_version": "1.5.0",
          "model_name": "HTMLModel",
          "state": {
            "_dom_classes": [],
            "_model_module": "@jupyter-widgets/controls",
            "_model_module_version": "1.5.0",
            "_model_name": "HTMLModel",
            "_view_count": null,
            "_view_module": "@jupyter-widgets/controls",
            "_view_module_version": "1.5.0",
            "_view_name": "HTMLView",
            "description": "",
            "description_tooltip": null,
            "layout": "IPY_MODEL_71ac1cd6248e4264a3f4b33ca20407cc",
            "placeholder": "​",
            "style": "IPY_MODEL_e94fa747d9554e619a64bafa00b98aa1",
            "value": "Map: 100%"
          }
        },
        "499e29a51382443b9e7bc66bc161dfae": {
          "model_module": "@jupyter-widgets/controls",
          "model_module_version": "1.5.0",
          "model_name": "DescriptionStyleModel",
          "state": {
            "_model_module": "@jupyter-widgets/controls",
            "_model_module_version": "1.5.0",
            "_model_name": "DescriptionStyleModel",
            "_view_count": null,
            "_view_module": "@jupyter-widgets/base",
            "_view_module_version": "1.2.0",
            "_view_name": "StyleView",
            "description_width": ""
          }
        },
        "49c3dc218df04e4688ba7f3a3fb0f858": {
          "model_module": "@jupyter-widgets/controls",
          "model_module_version": "1.5.0",
          "model_name": "FloatProgressModel",
          "state": {
            "_dom_classes": [],
            "_model_module": "@jupyter-widgets/controls",
            "_model_module_version": "1.5.0",
            "_model_name": "FloatProgressModel",
            "_view_count": null,
            "_view_module": "@jupyter-widgets/controls",
            "_view_module_version": "1.5.0",
            "_view_name": "ProgressView",
            "bar_style": "success",
            "description": "",
            "description_tooltip": null,
            "layout": "IPY_MODEL_15252a9e712b4426b3883f20e49574fd",
            "max": 73,
            "min": 0,
            "orientation": "horizontal",
            "style": "IPY_MODEL_3d154e011fe74981bf69556a506fce0c",
            "value": 73
          }
        },
        "4c0fb44b4d4f4a05b2236df9a0ec7c3f": {
          "model_module": "@jupyter-widgets/base",
          "model_module_version": "1.2.0",
          "model_name": "LayoutModel",
          "state": {
            "_model_module": "@jupyter-widgets/base",
            "_model_module_version": "1.2.0",
            "_model_name": "LayoutModel",
            "_view_count": null,
            "_view_module": "@jupyter-widgets/base",
            "_view_module_version": "1.2.0",
            "_view_name": "LayoutView",
            "align_content": null,
            "align_items": null,
            "align_self": null,
            "border": null,
            "bottom": null,
            "display": null,
            "flex": null,
            "flex_flow": null,
            "grid_area": null,
            "grid_auto_columns": null,
            "grid_auto_flow": null,
            "grid_auto_rows": null,
            "grid_column": null,
            "grid_gap": null,
            "grid_row": null,
            "grid_template_areas": null,
            "grid_template_columns": null,
            "grid_template_rows": null,
            "height": null,
            "justify_content": null,
            "justify_items": null,
            "left": null,
            "margin": null,
            "max_height": null,
            "max_width": null,
            "min_height": null,
            "min_width": null,
            "object_fit": null,
            "object_position": null,
            "order": null,
            "overflow": null,
            "overflow_x": null,
            "overflow_y": null,
            "padding": null,
            "right": null,
            "top": null,
            "visibility": null,
            "width": null
          }
        },
        "51b42521a11e452cae12bbfb20093958": {
          "model_module": "@jupyter-widgets/controls",
          "model_module_version": "1.5.0",
          "model_name": "HTMLModel",
          "state": {
            "_dom_classes": [],
            "_model_module": "@jupyter-widgets/controls",
            "_model_module_version": "1.5.0",
            "_model_name": "HTMLModel",
            "_view_count": null,
            "_view_module": "@jupyter-widgets/controls",
            "_view_module_version": "1.5.0",
            "_view_name": "HTMLView",
            "description": "",
            "description_tooltip": null,
            "layout": "IPY_MODEL_1ee9bed043784495bdfe3ef72715be61",
            "placeholder": "​",
            "style": "IPY_MODEL_dbd8adbf37f144029993aeff1412f5fd",
            "value": " 50.6k/50.6k [00:00&lt;00:00, 3.75MB/s]"
          }
        },
        "5404ad7cd8bb42ff902105a82a6f64c3": {
          "model_module": "@jupyter-widgets/base",
          "model_module_version": "1.2.0",
          "model_name": "LayoutModel",
          "state": {
            "_model_module": "@jupyter-widgets/base",
            "_model_module_version": "1.2.0",
            "_model_name": "LayoutModel",
            "_view_count": null,
            "_view_module": "@jupyter-widgets/base",
            "_view_module_version": "1.2.0",
            "_view_name": "LayoutView",
            "align_content": null,
            "align_items": null,
            "align_self": null,
            "border": null,
            "bottom": null,
            "display": null,
            "flex": null,
            "flex_flow": null,
            "grid_area": null,
            "grid_auto_columns": null,
            "grid_auto_flow": null,
            "grid_auto_rows": null,
            "grid_column": null,
            "grid_gap": null,
            "grid_row": null,
            "grid_template_areas": null,
            "grid_template_columns": null,
            "grid_template_rows": null,
            "height": null,
            "justify_content": null,
            "justify_items": null,
            "left": null,
            "margin": null,
            "max_height": null,
            "max_width": null,
            "min_height": null,
            "min_width": null,
            "object_fit": null,
            "object_position": null,
            "order": null,
            "overflow": null,
            "overflow_x": null,
            "overflow_y": null,
            "padding": null,
            "right": null,
            "top": null,
            "visibility": null,
            "width": null
          }
        },
        "5413fbb2c1b94866ba25d73b46e1d055": {
          "model_module": "@jupyter-widgets/controls",
          "model_module_version": "1.5.0",
          "model_name": "DescriptionStyleModel",
          "state": {
            "_model_module": "@jupyter-widgets/controls",
            "_model_module_version": "1.5.0",
            "_model_name": "DescriptionStyleModel",
            "_view_count": null,
            "_view_module": "@jupyter-widgets/base",
            "_view_module_version": "1.2.0",
            "_view_name": "StyleView",
            "description_width": ""
          }
        },
        "5666a59abaf0408e900588f01db9780b": {
          "model_module": "@jupyter-widgets/base",
          "model_module_version": "1.2.0",
          "model_name": "LayoutModel",
          "state": {
            "_model_module": "@jupyter-widgets/base",
            "_model_module_version": "1.2.0",
            "_model_name": "LayoutModel",
            "_view_count": null,
            "_view_module": "@jupyter-widgets/base",
            "_view_module_version": "1.2.0",
            "_view_name": "LayoutView",
            "align_content": null,
            "align_items": null,
            "align_self": null,
            "border": null,
            "bottom": null,
            "display": null,
            "flex": null,
            "flex_flow": null,
            "grid_area": null,
            "grid_auto_columns": null,
            "grid_auto_flow": null,
            "grid_auto_rows": null,
            "grid_column": null,
            "grid_gap": null,
            "grid_row": null,
            "grid_template_areas": null,
            "grid_template_columns": null,
            "grid_template_rows": null,
            "height": null,
            "justify_content": null,
            "justify_items": null,
            "left": null,
            "margin": null,
            "max_height": null,
            "max_width": null,
            "min_height": null,
            "min_width": null,
            "object_fit": null,
            "object_position": null,
            "order": null,
            "overflow": null,
            "overflow_x": null,
            "overflow_y": null,
            "padding": null,
            "right": null,
            "top": null,
            "visibility": null,
            "width": null
          }
        },
        "58abdf33136342d1ad7f958051fdd66d": {
          "model_module": "@jupyter-widgets/base",
          "model_module_version": "1.2.0",
          "model_name": "LayoutModel",
          "state": {
            "_model_module": "@jupyter-widgets/base",
            "_model_module_version": "1.2.0",
            "_model_name": "LayoutModel",
            "_view_count": null,
            "_view_module": "@jupyter-widgets/base",
            "_view_module_version": "1.2.0",
            "_view_name": "LayoutView",
            "align_content": null,
            "align_items": null,
            "align_self": null,
            "border": null,
            "bottom": null,
            "display": null,
            "flex": null,
            "flex_flow": null,
            "grid_area": null,
            "grid_auto_columns": null,
            "grid_auto_flow": null,
            "grid_auto_rows": null,
            "grid_column": null,
            "grid_gap": null,
            "grid_row": null,
            "grid_template_areas": null,
            "grid_template_columns": null,
            "grid_template_rows": null,
            "height": null,
            "justify_content": null,
            "justify_items": null,
            "left": null,
            "margin": null,
            "max_height": null,
            "max_width": null,
            "min_height": null,
            "min_width": null,
            "object_fit": null,
            "object_position": null,
            "order": null,
            "overflow": null,
            "overflow_x": null,
            "overflow_y": null,
            "padding": null,
            "right": null,
            "top": null,
            "visibility": null,
            "width": null
          }
        },
        "59a8df9063ac4d018897104bca748216": {
          "model_module": "@jupyter-widgets/base",
          "model_module_version": "1.2.0",
          "model_name": "LayoutModel",
          "state": {
            "_model_module": "@jupyter-widgets/base",
            "_model_module_version": "1.2.0",
            "_model_name": "LayoutModel",
            "_view_count": null,
            "_view_module": "@jupyter-widgets/base",
            "_view_module_version": "1.2.0",
            "_view_name": "LayoutView",
            "align_content": null,
            "align_items": null,
            "align_self": null,
            "border": null,
            "bottom": null,
            "display": null,
            "flex": null,
            "flex_flow": null,
            "grid_area": null,
            "grid_auto_columns": null,
            "grid_auto_flow": null,
            "grid_auto_rows": null,
            "grid_column": null,
            "grid_gap": null,
            "grid_row": null,
            "grid_template_areas": null,
            "grid_template_columns": null,
            "grid_template_rows": null,
            "height": null,
            "justify_content": null,
            "justify_items": null,
            "left": null,
            "margin": null,
            "max_height": null,
            "max_width": null,
            "min_height": null,
            "min_width": null,
            "object_fit": null,
            "object_position": null,
            "order": null,
            "overflow": null,
            "overflow_x": null,
            "overflow_y": null,
            "padding": null,
            "right": null,
            "top": null,
            "visibility": null,
            "width": null
          }
        },
        "5b7ec8f814ce446ebc508913d511b776": {
          "model_module": "@jupyter-widgets/controls",
          "model_module_version": "1.5.0",
          "model_name": "HTMLModel",
          "state": {
            "_dom_classes": [],
            "_model_module": "@jupyter-widgets/controls",
            "_model_module_version": "1.5.0",
            "_model_name": "HTMLModel",
            "_view_count": null,
            "_view_module": "@jupyter-widgets/controls",
            "_view_module_version": "1.5.0",
            "_view_name": "HTMLView",
            "description": "",
            "description_tooltip": null,
            "layout": "IPY_MODEL_6e048e05f9974807bbf336b3bc51ea84",
            "placeholder": "​",
            "style": "IPY_MODEL_acd80b2096d04e3185251baf9072550d",
            "value": " 4.98G/4.98G [00:19&lt;00:00, 225MB/s]"
          }
        },
        "5bc22a4e964043049d6110063a3730cc": {
          "model_module": "@jupyter-widgets/base",
          "model_module_version": "1.2.0",
          "model_name": "LayoutModel",
          "state": {
            "_model_module": "@jupyter-widgets/base",
            "_model_module_version": "1.2.0",
            "_model_name": "LayoutModel",
            "_view_count": null,
            "_view_module": "@jupyter-widgets/base",
            "_view_module_version": "1.2.0",
            "_view_name": "LayoutView",
            "align_content": null,
            "align_items": null,
            "align_self": null,
            "border": null,
            "bottom": null,
            "display": null,
            "flex": null,
            "flex_flow": null,
            "grid_area": null,
            "grid_auto_columns": null,
            "grid_auto_flow": null,
            "grid_auto_rows": null,
            "grid_column": null,
            "grid_gap": null,
            "grid_row": null,
            "grid_template_areas": null,
            "grid_template_columns": null,
            "grid_template_rows": null,
            "height": null,
            "justify_content": null,
            "justify_items": null,
            "left": null,
            "margin": null,
            "max_height": null,
            "max_width": null,
            "min_height": null,
            "min_width": null,
            "object_fit": null,
            "object_position": null,
            "order": null,
            "overflow": null,
            "overflow_x": null,
            "overflow_y": null,
            "padding": null,
            "right": null,
            "top": null,
            "visibility": null,
            "width": null
          }
        },
        "5d4788b846a548ddb9f316145451db78": {
          "model_module": "@jupyter-widgets/base",
          "model_module_version": "1.2.0",
          "model_name": "LayoutModel",
          "state": {
            "_model_module": "@jupyter-widgets/base",
            "_model_module_version": "1.2.0",
            "_model_name": "LayoutModel",
            "_view_count": null,
            "_view_module": "@jupyter-widgets/base",
            "_view_module_version": "1.2.0",
            "_view_name": "LayoutView",
            "align_content": null,
            "align_items": null,
            "align_self": null,
            "border": null,
            "bottom": null,
            "display": null,
            "flex": null,
            "flex_flow": null,
            "grid_area": null,
            "grid_auto_columns": null,
            "grid_auto_flow": null,
            "grid_auto_rows": null,
            "grid_column": null,
            "grid_gap": null,
            "grid_row": null,
            "grid_template_areas": null,
            "grid_template_columns": null,
            "grid_template_rows": null,
            "height": null,
            "justify_content": null,
            "justify_items": null,
            "left": null,
            "margin": null,
            "max_height": null,
            "max_width": null,
            "min_height": null,
            "min_width": null,
            "object_fit": null,
            "object_position": null,
            "order": null,
            "overflow": null,
            "overflow_x": null,
            "overflow_y": null,
            "padding": null,
            "right": null,
            "top": null,
            "visibility": null,
            "width": null
          }
        },
        "5ff3afd723da4500a20f9e399f9bd17d": {
          "model_module": "@jupyter-widgets/controls",
          "model_module_version": "1.5.0",
          "model_name": "HTMLModel",
          "state": {
            "_dom_classes": [],
            "_model_module": "@jupyter-widgets/controls",
            "_model_module_version": "1.5.0",
            "_model_name": "HTMLModel",
            "_view_count": null,
            "_view_module": "@jupyter-widgets/controls",
            "_view_module_version": "1.5.0",
            "_view_name": "HTMLView",
            "description": "",
            "description_tooltip": null,
            "layout": "IPY_MODEL_db12c219c37f46dbbf07541b12c93e56",
            "placeholder": "​",
            "style": "IPY_MODEL_6ddc0023e98644bf9c438e770bf81967",
            "value": "Map: 100%"
          }
        },
        "602ac9ff16fb4d6abb2c80e4e9394f1a": {
          "model_module": "@jupyter-widgets/base",
          "model_module_version": "1.2.0",
          "model_name": "LayoutModel",
          "state": {
            "_model_module": "@jupyter-widgets/base",
            "_model_module_version": "1.2.0",
            "_model_name": "LayoutModel",
            "_view_count": null,
            "_view_module": "@jupyter-widgets/base",
            "_view_module_version": "1.2.0",
            "_view_name": "LayoutView",
            "align_content": null,
            "align_items": null,
            "align_self": null,
            "border": null,
            "bottom": null,
            "display": null,
            "flex": null,
            "flex_flow": null,
            "grid_area": null,
            "grid_auto_columns": null,
            "grid_auto_flow": null,
            "grid_auto_rows": null,
            "grid_column": null,
            "grid_gap": null,
            "grid_row": null,
            "grid_template_areas": null,
            "grid_template_columns": null,
            "grid_template_rows": null,
            "height": null,
            "justify_content": null,
            "justify_items": null,
            "left": null,
            "margin": null,
            "max_height": null,
            "max_width": null,
            "min_height": null,
            "min_width": null,
            "object_fit": null,
            "object_position": null,
            "order": null,
            "overflow": null,
            "overflow_x": null,
            "overflow_y": null,
            "padding": null,
            "right": null,
            "top": null,
            "visibility": null,
            "width": null
          }
        },
        "6095c80a7d7f457a97f37a367ef6aba2": {
          "model_module": "@jupyter-widgets/base",
          "model_module_version": "1.2.0",
          "model_name": "LayoutModel",
          "state": {
            "_model_module": "@jupyter-widgets/base",
            "_model_module_version": "1.2.0",
            "_model_name": "LayoutModel",
            "_view_count": null,
            "_view_module": "@jupyter-widgets/base",
            "_view_module_version": "1.2.0",
            "_view_name": "LayoutView",
            "align_content": null,
            "align_items": null,
            "align_self": null,
            "border": null,
            "bottom": null,
            "display": null,
            "flex": null,
            "flex_flow": null,
            "grid_area": null,
            "grid_auto_columns": null,
            "grid_auto_flow": null,
            "grid_auto_rows": null,
            "grid_column": null,
            "grid_gap": null,
            "grid_row": null,
            "grid_template_areas": null,
            "grid_template_columns": null,
            "grid_template_rows": null,
            "height": null,
            "justify_content": null,
            "justify_items": null,
            "left": null,
            "margin": null,
            "max_height": null,
            "max_width": null,
            "min_height": null,
            "min_width": null,
            "object_fit": null,
            "object_position": null,
            "order": null,
            "overflow": null,
            "overflow_x": null,
            "overflow_y": null,
            "padding": null,
            "right": null,
            "top": null,
            "visibility": null,
            "width": null
          }
        },
        "625f00e633b14a42b685e387a9a2353a": {
          "model_module": "@jupyter-widgets/base",
          "model_module_version": "1.2.0",
          "model_name": "LayoutModel",
          "state": {
            "_model_module": "@jupyter-widgets/base",
            "_model_module_version": "1.2.0",
            "_model_name": "LayoutModel",
            "_view_count": null,
            "_view_module": "@jupyter-widgets/base",
            "_view_module_version": "1.2.0",
            "_view_name": "LayoutView",
            "align_content": null,
            "align_items": null,
            "align_self": null,
            "border": null,
            "bottom": null,
            "display": null,
            "flex": null,
            "flex_flow": null,
            "grid_area": null,
            "grid_auto_columns": null,
            "grid_auto_flow": null,
            "grid_auto_rows": null,
            "grid_column": null,
            "grid_gap": null,
            "grid_row": null,
            "grid_template_areas": null,
            "grid_template_columns": null,
            "grid_template_rows": null,
            "height": null,
            "justify_content": null,
            "justify_items": null,
            "left": null,
            "margin": null,
            "max_height": null,
            "max_width": null,
            "min_height": null,
            "min_width": null,
            "object_fit": null,
            "object_position": null,
            "order": null,
            "overflow": null,
            "overflow_x": null,
            "overflow_y": null,
            "padding": null,
            "right": null,
            "top": null,
            "visibility": null,
            "width": null
          }
        },
        "66ff02c0e244458bbca72da5ae824ad6": {
          "model_module": "@jupyter-widgets/controls",
          "model_module_version": "1.5.0",
          "model_name": "DescriptionStyleModel",
          "state": {
            "_model_module": "@jupyter-widgets/controls",
            "_model_module_version": "1.5.0",
            "_model_name": "DescriptionStyleModel",
            "_view_count": null,
            "_view_module": "@jupyter-widgets/base",
            "_view_module_version": "1.2.0",
            "_view_name": "StyleView",
            "description_width": ""
          }
        },
        "68105b6997b143e1a5e63c1e403bfe6d": {
          "model_module": "@jupyter-widgets/controls",
          "model_module_version": "1.5.0",
          "model_name": "HBoxModel",
          "state": {
            "_dom_classes": [],
            "_model_module": "@jupyter-widgets/controls",
            "_model_module_version": "1.5.0",
            "_model_name": "HBoxModel",
            "_view_count": null,
            "_view_module": "@jupyter-widgets/controls",
            "_view_module_version": "1.5.0",
            "_view_name": "HBoxView",
            "box_style": "",
            "children": [
              "IPY_MODEL_5ff3afd723da4500a20f9e399f9bd17d",
              "IPY_MODEL_e8d62ca54f824e35afeaa8a82606135a",
              "IPY_MODEL_217834eb817c40bb9622aa7a327acd0c"
            ],
            "layout": "IPY_MODEL_8790fbb137bb4f929180549adc8d8aa7"
          }
        },
        "692667b805b34f839c9da096a3ceca1e": {
          "model_module": "@jupyter-widgets/base",
          "model_module_version": "1.2.0",
          "model_name": "LayoutModel",
          "state": {
            "_model_module": "@jupyter-widgets/base",
            "_model_module_version": "1.2.0",
            "_model_name": "LayoutModel",
            "_view_count": null,
            "_view_module": "@jupyter-widgets/base",
            "_view_module_version": "1.2.0",
            "_view_name": "LayoutView",
            "align_content": null,
            "align_items": null,
            "align_self": null,
            "border": null,
            "bottom": null,
            "display": null,
            "flex": null,
            "flex_flow": null,
            "grid_area": null,
            "grid_auto_columns": null,
            "grid_auto_flow": null,
            "grid_auto_rows": null,
            "grid_column": null,
            "grid_gap": null,
            "grid_row": null,
            "grid_template_areas": null,
            "grid_template_columns": null,
            "grid_template_rows": null,
            "height": null,
            "justify_content": null,
            "justify_items": null,
            "left": null,
            "margin": null,
            "max_height": null,
            "max_width": null,
            "min_height": null,
            "min_width": null,
            "object_fit": null,
            "object_position": null,
            "order": null,
            "overflow": null,
            "overflow_x": null,
            "overflow_y": null,
            "padding": null,
            "right": null,
            "top": null,
            "visibility": null,
            "width": null
          }
        },
        "6ba11ae6ca6f4d3fb8fb8ed504010d8a": {
          "model_module": "@jupyter-widgets/controls",
          "model_module_version": "1.5.0",
          "model_name": "HTMLModel",
          "state": {
            "_dom_classes": [],
            "_model_module": "@jupyter-widgets/controls",
            "_model_module_version": "1.5.0",
            "_model_name": "HTMLModel",
            "_view_count": null,
            "_view_module": "@jupyter-widgets/controls",
            "_view_module_version": "1.5.0",
            "_view_name": "HTMLView",
            "description": "",
            "description_tooltip": null,
            "layout": "IPY_MODEL_c1925c68f38d459a9c1f01c92aacd926",
            "placeholder": "​",
            "style": "IPY_MODEL_39efa72b84674bbea9bd163affcfa657",
            "value": " 1.17G/1.17G [00:04&lt;00:00, 285MB/s]"
          }
        },
        "6c4017c17c0145b6ae237d23f64b8fbe": {
          "model_module": "@jupyter-widgets/base",
          "model_module_version": "1.2.0",
          "model_name": "LayoutModel",
          "state": {
            "_model_module": "@jupyter-widgets/base",
            "_model_module_version": "1.2.0",
            "_model_name": "LayoutModel",
            "_view_count": null,
            "_view_module": "@jupyter-widgets/base",
            "_view_module_version": "1.2.0",
            "_view_name": "LayoutView",
            "align_content": null,
            "align_items": null,
            "align_self": null,
            "border": null,
            "bottom": null,
            "display": null,
            "flex": null,
            "flex_flow": null,
            "grid_area": null,
            "grid_auto_columns": null,
            "grid_auto_flow": null,
            "grid_auto_rows": null,
            "grid_column": null,
            "grid_gap": null,
            "grid_row": null,
            "grid_template_areas": null,
            "grid_template_columns": null,
            "grid_template_rows": null,
            "height": null,
            "justify_content": null,
            "justify_items": null,
            "left": null,
            "margin": null,
            "max_height": null,
            "max_width": null,
            "min_height": null,
            "min_width": null,
            "object_fit": null,
            "object_position": null,
            "order": null,
            "overflow": null,
            "overflow_x": null,
            "overflow_y": null,
            "padding": null,
            "right": null,
            "top": null,
            "visibility": null,
            "width": null
          }
        },
        "6ca22f3477604afc86780be9758110f4": {
          "model_module": "@jupyter-widgets/controls",
          "model_module_version": "1.5.0",
          "model_name": "ProgressStyleModel",
          "state": {
            "_model_module": "@jupyter-widgets/controls",
            "_model_module_version": "1.5.0",
            "_model_name": "ProgressStyleModel",
            "_view_count": null,
            "_view_module": "@jupyter-widgets/base",
            "_view_module_version": "1.2.0",
            "_view_name": "StyleView",
            "bar_color": null,
            "description_width": ""
          }
        },
        "6ddc0023e98644bf9c438e770bf81967": {
          "model_module": "@jupyter-widgets/controls",
          "model_module_version": "1.5.0",
          "model_name": "DescriptionStyleModel",
          "state": {
            "_model_module": "@jupyter-widgets/controls",
            "_model_module_version": "1.5.0",
            "_model_name": "DescriptionStyleModel",
            "_view_count": null,
            "_view_module": "@jupyter-widgets/base",
            "_view_module_version": "1.2.0",
            "_view_name": "StyleView",
            "description_width": ""
          }
        },
        "6e048e05f9974807bbf336b3bc51ea84": {
          "model_module": "@jupyter-widgets/base",
          "model_module_version": "1.2.0",
          "model_name": "LayoutModel",
          "state": {
            "_model_module": "@jupyter-widgets/base",
            "_model_module_version": "1.2.0",
            "_model_name": "LayoutModel",
            "_view_count": null,
            "_view_module": "@jupyter-widgets/base",
            "_view_module_version": "1.2.0",
            "_view_name": "LayoutView",
            "align_content": null,
            "align_items": null,
            "align_self": null,
            "border": null,
            "bottom": null,
            "display": null,
            "flex": null,
            "flex_flow": null,
            "grid_area": null,
            "grid_auto_columns": null,
            "grid_auto_flow": null,
            "grid_auto_rows": null,
            "grid_column": null,
            "grid_gap": null,
            "grid_row": null,
            "grid_template_areas": null,
            "grid_template_columns": null,
            "grid_template_rows": null,
            "height": null,
            "justify_content": null,
            "justify_items": null,
            "left": null,
            "margin": null,
            "max_height": null,
            "max_width": null,
            "min_height": null,
            "min_width": null,
            "object_fit": null,
            "object_position": null,
            "order": null,
            "overflow": null,
            "overflow_x": null,
            "overflow_y": null,
            "padding": null,
            "right": null,
            "top": null,
            "visibility": null,
            "width": null
          }
        },
        "6e1938dee61d4cc4ab3f873a0c94336d": {
          "model_module": "@jupyter-widgets/base",
          "model_module_version": "1.2.0",
          "model_name": "LayoutModel",
          "state": {
            "_model_module": "@jupyter-widgets/base",
            "_model_module_version": "1.2.0",
            "_model_name": "LayoutModel",
            "_view_count": null,
            "_view_module": "@jupyter-widgets/base",
            "_view_module_version": "1.2.0",
            "_view_name": "LayoutView",
            "align_content": null,
            "align_items": null,
            "align_self": null,
            "border": null,
            "bottom": null,
            "display": null,
            "flex": null,
            "flex_flow": null,
            "grid_area": null,
            "grid_auto_columns": null,
            "grid_auto_flow": null,
            "grid_auto_rows": null,
            "grid_column": null,
            "grid_gap": null,
            "grid_row": null,
            "grid_template_areas": null,
            "grid_template_columns": null,
            "grid_template_rows": null,
            "height": null,
            "justify_content": null,
            "justify_items": null,
            "left": null,
            "margin": null,
            "max_height": null,
            "max_width": null,
            "min_height": null,
            "min_width": null,
            "object_fit": null,
            "object_position": null,
            "order": null,
            "overflow": null,
            "overflow_x": null,
            "overflow_y": null,
            "padding": null,
            "right": null,
            "top": null,
            "visibility": null,
            "width": null
          }
        },
        "6ed7f45528d64f298716bcd0b268de19": {
          "model_module": "@jupyter-widgets/controls",
          "model_module_version": "1.5.0",
          "model_name": "ProgressStyleModel",
          "state": {
            "_model_module": "@jupyter-widgets/controls",
            "_model_module_version": "1.5.0",
            "_model_name": "ProgressStyleModel",
            "_view_count": null,
            "_view_module": "@jupyter-widgets/base",
            "_view_module_version": "1.2.0",
            "_view_name": "StyleView",
            "bar_color": null,
            "description_width": ""
          }
        },
        "70ce9dd20e4d41c2ad4f3a14ba5113b9": {
          "model_module": "@jupyter-widgets/controls",
          "model_module_version": "1.5.0",
          "model_name": "ProgressStyleModel",
          "state": {
            "_model_module": "@jupyter-widgets/controls",
            "_model_module_version": "1.5.0",
            "_model_name": "ProgressStyleModel",
            "_view_count": null,
            "_view_module": "@jupyter-widgets/base",
            "_view_module_version": "1.2.0",
            "_view_name": "StyleView",
            "bar_color": null,
            "description_width": ""
          }
        },
        "710049629d224a1fa293a020cfb981e7": {
          "model_module": "@jupyter-widgets/controls",
          "model_module_version": "1.5.0",
          "model_name": "FloatProgressModel",
          "state": {
            "_dom_classes": [],
            "_model_module": "@jupyter-widgets/controls",
            "_model_module_version": "1.5.0",
            "_model_name": "FloatProgressModel",
            "_view_count": null,
            "_view_module": "@jupyter-widgets/controls",
            "_view_module_version": "1.5.0",
            "_view_name": "ProgressView",
            "bar_style": "success",
            "description": "",
            "description_tooltip": null,
            "layout": "IPY_MODEL_a6970ab51f9f431e93f8e58a5db279af",
            "max": 4999802720,
            "min": 0,
            "orientation": "horizontal",
            "style": "IPY_MODEL_6ca22f3477604afc86780be9758110f4",
            "value": 4999802720
          }
        },
        "710c17e9501c4308a422e00057be8b37": {
          "model_module": "@jupyter-widgets/base",
          "model_module_version": "1.2.0",
          "model_name": "LayoutModel",
          "state": {
            "_model_module": "@jupyter-widgets/base",
            "_model_module_version": "1.2.0",
            "_model_name": "LayoutModel",
            "_view_count": null,
            "_view_module": "@jupyter-widgets/base",
            "_view_module_version": "1.2.0",
            "_view_name": "LayoutView",
            "align_content": null,
            "align_items": null,
            "align_self": null,
            "border": null,
            "bottom": null,
            "display": null,
            "flex": null,
            "flex_flow": null,
            "grid_area": null,
            "grid_auto_columns": null,
            "grid_auto_flow": null,
            "grid_auto_rows": null,
            "grid_column": null,
            "grid_gap": null,
            "grid_row": null,
            "grid_template_areas": null,
            "grid_template_columns": null,
            "grid_template_rows": null,
            "height": null,
            "justify_content": null,
            "justify_items": null,
            "left": null,
            "margin": null,
            "max_height": null,
            "max_width": null,
            "min_height": null,
            "min_width": null,
            "object_fit": null,
            "object_position": null,
            "order": null,
            "overflow": null,
            "overflow_x": null,
            "overflow_y": null,
            "padding": null,
            "right": null,
            "top": null,
            "visibility": null,
            "width": null
          }
        },
        "71ac1cd6248e4264a3f4b33ca20407cc": {
          "model_module": "@jupyter-widgets/base",
          "model_module_version": "1.2.0",
          "model_name": "LayoutModel",
          "state": {
            "_model_module": "@jupyter-widgets/base",
            "_model_module_version": "1.2.0",
            "_model_name": "LayoutModel",
            "_view_count": null,
            "_view_module": "@jupyter-widgets/base",
            "_view_module_version": "1.2.0",
            "_view_name": "LayoutView",
            "align_content": null,
            "align_items": null,
            "align_self": null,
            "border": null,
            "bottom": null,
            "display": null,
            "flex": null,
            "flex_flow": null,
            "grid_area": null,
            "grid_auto_columns": null,
            "grid_auto_flow": null,
            "grid_auto_rows": null,
            "grid_column": null,
            "grid_gap": null,
            "grid_row": null,
            "grid_template_areas": null,
            "grid_template_columns": null,
            "grid_template_rows": null,
            "height": null,
            "justify_content": null,
            "justify_items": null,
            "left": null,
            "margin": null,
            "max_height": null,
            "max_width": null,
            "min_height": null,
            "min_width": null,
            "object_fit": null,
            "object_position": null,
            "order": null,
            "overflow": null,
            "overflow_x": null,
            "overflow_y": null,
            "padding": null,
            "right": null,
            "top": null,
            "visibility": null,
            "width": null
          }
        },
        "733f80e5474040d29a2e7b79fb88b670": {
          "model_module": "@jupyter-widgets/base",
          "model_module_version": "1.2.0",
          "model_name": "LayoutModel",
          "state": {
            "_model_module": "@jupyter-widgets/base",
            "_model_module_version": "1.2.0",
            "_model_name": "LayoutModel",
            "_view_count": null,
            "_view_module": "@jupyter-widgets/base",
            "_view_module_version": "1.2.0",
            "_view_name": "LayoutView",
            "align_content": null,
            "align_items": null,
            "align_self": null,
            "border": null,
            "bottom": null,
            "display": null,
            "flex": null,
            "flex_flow": null,
            "grid_area": null,
            "grid_auto_columns": null,
            "grid_auto_flow": null,
            "grid_auto_rows": null,
            "grid_column": null,
            "grid_gap": null,
            "grid_row": null,
            "grid_template_areas": null,
            "grid_template_columns": null,
            "grid_template_rows": null,
            "height": null,
            "justify_content": null,
            "justify_items": null,
            "left": null,
            "margin": null,
            "max_height": null,
            "max_width": null,
            "min_height": null,
            "min_width": null,
            "object_fit": null,
            "object_position": null,
            "order": null,
            "overflow": null,
            "overflow_x": null,
            "overflow_y": null,
            "padding": null,
            "right": null,
            "top": null,
            "visibility": null,
            "width": null
          }
        },
        "741618da6ab54e79a3ec3f9d8e0d193e": {
          "model_module": "@jupyter-widgets/controls",
          "model_module_version": "1.5.0",
          "model_name": "FloatProgressModel",
          "state": {
            "_dom_classes": [],
            "_model_module": "@jupyter-widgets/controls",
            "_model_module_version": "1.5.0",
            "_model_name": "FloatProgressModel",
            "_view_count": null,
            "_view_module": "@jupyter-widgets/controls",
            "_view_module_version": "1.5.0",
            "_view_name": "ProgressView",
            "bar_style": "success",
            "description": "",
            "description_tooltip": null,
            "layout": "IPY_MODEL_6c4017c17c0145b6ae237d23f64b8fbe",
            "max": 9085698,
            "min": 0,
            "orientation": "horizontal",
            "style": "IPY_MODEL_119e616844b04994a54a6f84458051b8",
            "value": 9085698
          }
        },
        "751304bd08354634a44bbae8c18317a9": {
          "model_module": "@jupyter-widgets/base",
          "model_module_version": "1.2.0",
          "model_name": "LayoutModel",
          "state": {
            "_model_module": "@jupyter-widgets/base",
            "_model_module_version": "1.2.0",
            "_model_name": "LayoutModel",
            "_view_count": null,
            "_view_module": "@jupyter-widgets/base",
            "_view_module_version": "1.2.0",
            "_view_name": "LayoutView",
            "align_content": null,
            "align_items": null,
            "align_self": null,
            "border": null,
            "bottom": null,
            "display": null,
            "flex": null,
            "flex_flow": null,
            "grid_area": null,
            "grid_auto_columns": null,
            "grid_auto_flow": null,
            "grid_auto_rows": null,
            "grid_column": null,
            "grid_gap": null,
            "grid_row": null,
            "grid_template_areas": null,
            "grid_template_columns": null,
            "grid_template_rows": null,
            "height": null,
            "justify_content": null,
            "justify_items": null,
            "left": null,
            "margin": null,
            "max_height": null,
            "max_width": null,
            "min_height": null,
            "min_width": null,
            "object_fit": null,
            "object_position": null,
            "order": null,
            "overflow": null,
            "overflow_x": null,
            "overflow_y": null,
            "padding": null,
            "right": null,
            "top": null,
            "visibility": null,
            "width": null
          }
        },
        "75ad2b5be1af416ba749a7937836489e": {
          "model_module": "@jupyter-widgets/controls",
          "model_module_version": "1.5.0",
          "model_name": "HTMLModel",
          "state": {
            "_dom_classes": [],
            "_model_module": "@jupyter-widgets/controls",
            "_model_module_version": "1.5.0",
            "_model_name": "HTMLModel",
            "_view_count": null,
            "_view_module": "@jupyter-widgets/controls",
            "_view_module_version": "1.5.0",
            "_view_name": "HTMLView",
            "description": "",
            "description_tooltip": null,
            "layout": "IPY_MODEL_13d6d0c4b2d14604b37b3bba7404c1d4",
            "placeholder": "​",
            "style": "IPY_MODEL_46d2c2caf5ca4962a60d18afb4e61096",
            "value": "model-00002-of-00004.safetensors: 100%"
          }
        },
        "78d6a442c3f748498e1bbed255089c40": {
          "model_module": "@jupyter-widgets/base",
          "model_module_version": "1.2.0",
          "model_name": "LayoutModel",
          "state": {
            "_model_module": "@jupyter-widgets/base",
            "_model_module_version": "1.2.0",
            "_model_name": "LayoutModel",
            "_view_count": null,
            "_view_module": "@jupyter-widgets/base",
            "_view_module_version": "1.2.0",
            "_view_name": "LayoutView",
            "align_content": null,
            "align_items": null,
            "align_self": null,
            "border": null,
            "bottom": null,
            "display": null,
            "flex": null,
            "flex_flow": null,
            "grid_area": null,
            "grid_auto_columns": null,
            "grid_auto_flow": null,
            "grid_auto_rows": null,
            "grid_column": null,
            "grid_gap": null,
            "grid_row": null,
            "grid_template_areas": null,
            "grid_template_columns": null,
            "grid_template_rows": null,
            "height": null,
            "justify_content": null,
            "justify_items": null,
            "left": null,
            "margin": null,
            "max_height": null,
            "max_width": null,
            "min_height": null,
            "min_width": null,
            "object_fit": null,
            "object_position": null,
            "order": null,
            "overflow": null,
            "overflow_x": null,
            "overflow_y": null,
            "padding": null,
            "right": null,
            "top": null,
            "visibility": null,
            "width": null
          }
        },
        "7c4b0822ebe34143a32dab87ed41cc7a": {
          "model_module": "@jupyter-widgets/controls",
          "model_module_version": "1.5.0",
          "model_name": "DescriptionStyleModel",
          "state": {
            "_model_module": "@jupyter-widgets/controls",
            "_model_module_version": "1.5.0",
            "_model_name": "DescriptionStyleModel",
            "_view_count": null,
            "_view_module": "@jupyter-widgets/base",
            "_view_module_version": "1.2.0",
            "_view_name": "StyleView",
            "description_width": ""
          }
        },
        "7ce4b44997c0459f9230b9c00d457048": {
          "model_module": "@jupyter-widgets/controls",
          "model_module_version": "1.5.0",
          "model_name": "FloatProgressModel",
          "state": {
            "_dom_classes": [],
            "_model_module": "@jupyter-widgets/controls",
            "_model_module_version": "1.5.0",
            "_model_name": "FloatProgressModel",
            "_view_count": null,
            "_view_module": "@jupyter-widgets/controls",
            "_view_module_version": "1.5.0",
            "_view_name": "ProgressView",
            "bar_style": "success",
            "description": "",
            "description_tooltip": null,
            "layout": "IPY_MODEL_0367e7c0bda64f69aaef7573b11c8d72",
            "max": 50566,
            "min": 0,
            "orientation": "horizontal",
            "style": "IPY_MODEL_382c6e08ff6b4de5964b923274b971ed",
            "value": 50566
          }
        },
        "7e71db8c84ec49df8d3d3f784d4f7cbb": {
          "model_module": "@jupyter-widgets/base",
          "model_module_version": "1.2.0",
          "model_name": "LayoutModel",
          "state": {
            "_model_module": "@jupyter-widgets/base",
            "_model_module_version": "1.2.0",
            "_model_name": "LayoutModel",
            "_view_count": null,
            "_view_module": "@jupyter-widgets/base",
            "_view_module_version": "1.2.0",
            "_view_name": "LayoutView",
            "align_content": null,
            "align_items": null,
            "align_self": null,
            "border": null,
            "bottom": null,
            "display": null,
            "flex": null,
            "flex_flow": null,
            "grid_area": null,
            "grid_auto_columns": null,
            "grid_auto_flow": null,
            "grid_auto_rows": null,
            "grid_column": null,
            "grid_gap": null,
            "grid_row": null,
            "grid_template_areas": null,
            "grid_template_columns": null,
            "grid_template_rows": null,
            "height": null,
            "justify_content": null,
            "justify_items": null,
            "left": null,
            "margin": null,
            "max_height": null,
            "max_width": null,
            "min_height": null,
            "min_width": null,
            "object_fit": null,
            "object_position": null,
            "order": null,
            "overflow": null,
            "overflow_x": null,
            "overflow_y": null,
            "padding": null,
            "right": null,
            "top": null,
            "visibility": null,
            "width": null
          }
        },
        "813601d73d414535b9e737bd2cc0bb24": {
          "model_module": "@jupyter-widgets/controls",
          "model_module_version": "1.5.0",
          "model_name": "HTMLModel",
          "state": {
            "_dom_classes": [],
            "_model_module": "@jupyter-widgets/controls",
            "_model_module_version": "1.5.0",
            "_model_name": "HTMLModel",
            "_view_count": null,
            "_view_module": "@jupyter-widgets/controls",
            "_view_module_version": "1.5.0",
            "_view_name": "HTMLView",
            "description": "",
            "description_tooltip": null,
            "layout": "IPY_MODEL_625f00e633b14a42b685e387a9a2353a",
            "placeholder": "​",
            "style": "IPY_MODEL_cdcd01d84d1f405880eedbad3cbbf0c5",
            "value": "model-00001-of-00004.safetensors: 100%"
          }
        },
        "819ffae6275b471ebaa84cc1006bd5fb": {
          "model_module": "@jupyter-widgets/controls",
          "model_module_version": "1.5.0",
          "model_name": "HBoxModel",
          "state": {
            "_dom_classes": [],
            "_model_module": "@jupyter-widgets/controls",
            "_model_module_version": "1.5.0",
            "_model_name": "HBoxModel",
            "_view_count": null,
            "_view_module": "@jupyter-widgets/controls",
            "_view_module_version": "1.5.0",
            "_view_name": "HBoxView",
            "box_style": "",
            "children": [
              "IPY_MODEL_08be83315d604c82acbe60eb37b83274",
              "IPY_MODEL_c9195c1efd00457db7f4c25b44c7b7aa",
              "IPY_MODEL_e91d598b519541aebf07211eab52ec51"
            ],
            "layout": "IPY_MODEL_0c6031210741497681283876d244b6a3"
          }
        },
        "83c7a388f9c44c90a911f7042d8954d9": {
          "model_module": "@jupyter-widgets/controls",
          "model_module_version": "1.5.0",
          "model_name": "DescriptionStyleModel",
          "state": {
            "_model_module": "@jupyter-widgets/controls",
            "_model_module_version": "1.5.0",
            "_model_name": "DescriptionStyleModel",
            "_view_count": null,
            "_view_module": "@jupyter-widgets/base",
            "_view_module_version": "1.2.0",
            "_view_name": "StyleView",
            "description_width": ""
          }
        },
        "857f9eb9ae57444bad63bb2228c2a18f": {
          "model_module": "@jupyter-widgets/controls",
          "model_module_version": "1.5.0",
          "model_name": "DescriptionStyleModel",
          "state": {
            "_model_module": "@jupyter-widgets/controls",
            "_model_module_version": "1.5.0",
            "_model_name": "DescriptionStyleModel",
            "_view_count": null,
            "_view_module": "@jupyter-widgets/base",
            "_view_module_version": "1.2.0",
            "_view_name": "StyleView",
            "description_width": ""
          }
        },
        "86adf9382003468180e89b2ca6711703": {
          "model_module": "@jupyter-widgets/base",
          "model_module_version": "1.2.0",
          "model_name": "LayoutModel",
          "state": {
            "_model_module": "@jupyter-widgets/base",
            "_model_module_version": "1.2.0",
            "_model_name": "LayoutModel",
            "_view_count": null,
            "_view_module": "@jupyter-widgets/base",
            "_view_module_version": "1.2.0",
            "_view_name": "LayoutView",
            "align_content": null,
            "align_items": null,
            "align_self": null,
            "border": null,
            "bottom": null,
            "display": null,
            "flex": null,
            "flex_flow": null,
            "grid_area": null,
            "grid_auto_columns": null,
            "grid_auto_flow": null,
            "grid_auto_rows": null,
            "grid_column": null,
            "grid_gap": null,
            "grid_row": null,
            "grid_template_areas": null,
            "grid_template_columns": null,
            "grid_template_rows": null,
            "height": null,
            "justify_content": null,
            "justify_items": null,
            "left": null,
            "margin": null,
            "max_height": null,
            "max_width": null,
            "min_height": null,
            "min_width": null,
            "object_fit": null,
            "object_position": null,
            "order": null,
            "overflow": null,
            "overflow_x": null,
            "overflow_y": null,
            "padding": null,
            "right": null,
            "top": null,
            "visibility": null,
            "width": null
          }
        },
        "8790fbb137bb4f929180549adc8d8aa7": {
          "model_module": "@jupyter-widgets/base",
          "model_module_version": "1.2.0",
          "model_name": "LayoutModel",
          "state": {
            "_model_module": "@jupyter-widgets/base",
            "_model_module_version": "1.2.0",
            "_model_name": "LayoutModel",
            "_view_count": null,
            "_view_module": "@jupyter-widgets/base",
            "_view_module_version": "1.2.0",
            "_view_name": "LayoutView",
            "align_content": null,
            "align_items": null,
            "align_self": null,
            "border": null,
            "bottom": null,
            "display": null,
            "flex": null,
            "flex_flow": null,
            "grid_area": null,
            "grid_auto_columns": null,
            "grid_auto_flow": null,
            "grid_auto_rows": null,
            "grid_column": null,
            "grid_gap": null,
            "grid_row": null,
            "grid_template_areas": null,
            "grid_template_columns": null,
            "grid_template_rows": null,
            "height": null,
            "justify_content": null,
            "justify_items": null,
            "left": null,
            "margin": null,
            "max_height": null,
            "max_width": null,
            "min_height": null,
            "min_width": null,
            "object_fit": null,
            "object_position": null,
            "order": null,
            "overflow": null,
            "overflow_x": null,
            "overflow_y": null,
            "padding": null,
            "right": null,
            "top": null,
            "visibility": null,
            "width": null
          }
        },
        "91b20098593446ce8eacd288b17cdfdb": {
          "model_module": "@jupyter-widgets/base",
          "model_module_version": "1.2.0",
          "model_name": "LayoutModel",
          "state": {
            "_model_module": "@jupyter-widgets/base",
            "_model_module_version": "1.2.0",
            "_model_name": "LayoutModel",
            "_view_count": null,
            "_view_module": "@jupyter-widgets/base",
            "_view_module_version": "1.2.0",
            "_view_name": "LayoutView",
            "align_content": null,
            "align_items": null,
            "align_self": null,
            "border": null,
            "bottom": null,
            "display": null,
            "flex": null,
            "flex_flow": null,
            "grid_area": null,
            "grid_auto_columns": null,
            "grid_auto_flow": null,
            "grid_auto_rows": null,
            "grid_column": null,
            "grid_gap": null,
            "grid_row": null,
            "grid_template_areas": null,
            "grid_template_columns": null,
            "grid_template_rows": null,
            "height": null,
            "justify_content": null,
            "justify_items": null,
            "left": null,
            "margin": null,
            "max_height": null,
            "max_width": null,
            "min_height": null,
            "min_width": null,
            "object_fit": null,
            "object_position": null,
            "order": null,
            "overflow": null,
            "overflow_x": null,
            "overflow_y": null,
            "padding": null,
            "right": null,
            "top": null,
            "visibility": null,
            "width": null
          }
        },
        "93a4c76712cd4b1093d425a9c214d4a0": {
          "model_module": "@jupyter-widgets/controls",
          "model_module_version": "1.5.0",
          "model_name": "HTMLModel",
          "state": {
            "_dom_classes": [],
            "_model_module": "@jupyter-widgets/controls",
            "_model_module_version": "1.5.0",
            "_model_name": "HTMLModel",
            "_view_count": null,
            "_view_module": "@jupyter-widgets/controls",
            "_view_module_version": "1.5.0",
            "_view_name": "HTMLView",
            "description": "",
            "description_tooltip": null,
            "layout": "IPY_MODEL_39a3ec6898c540f4bb204724e5ef7c73",
            "placeholder": "​",
            "style": "IPY_MODEL_a642d673447d4e0293f22182a53cbb52",
            "value": " 4/4 [00:08&lt;00:00,  1.77s/it]"
          }
        },
        "94f9bafa996049e09fee2b33cf9c8912": {
          "model_module": "@jupyter-widgets/controls",
          "model_module_version": "1.5.0",
          "model_name": "HTMLModel",
          "state": {
            "_dom_classes": [],
            "_model_module": "@jupyter-widgets/controls",
            "_model_module_version": "1.5.0",
            "_model_name": "HTMLModel",
            "_view_count": null,
            "_view_module": "@jupyter-widgets/controls",
            "_view_module_version": "1.5.0",
            "_view_name": "HTMLView",
            "description": "",
            "description_tooltip": null,
            "layout": "IPY_MODEL_206e57be9af14513a792f3d13e42152b",
            "placeholder": "​",
            "style": "IPY_MODEL_2b39f1df7e164cd3a526c15b2c6f37f4",
            "value": "model.safetensors.index.json: 100%"
          }
        },
        "961db17f86b74bc0b891c4151c549437": {
          "model_module": "@jupyter-widgets/base",
          "model_module_version": "1.2.0",
          "model_name": "LayoutModel",
          "state": {
            "_model_module": "@jupyter-widgets/base",
            "_model_module_version": "1.2.0",
            "_model_name": "LayoutModel",
            "_view_count": null,
            "_view_module": "@jupyter-widgets/base",
            "_view_module_version": "1.2.0",
            "_view_name": "LayoutView",
            "align_content": null,
            "align_items": null,
            "align_self": null,
            "border": null,
            "bottom": null,
            "display": null,
            "flex": null,
            "flex_flow": null,
            "grid_area": null,
            "grid_auto_columns": null,
            "grid_auto_flow": null,
            "grid_auto_rows": null,
            "grid_column": null,
            "grid_gap": null,
            "grid_row": null,
            "grid_template_areas": null,
            "grid_template_columns": null,
            "grid_template_rows": null,
            "height": null,
            "justify_content": null,
            "justify_items": null,
            "left": null,
            "margin": null,
            "max_height": null,
            "max_width": null,
            "min_height": null,
            "min_width": null,
            "object_fit": null,
            "object_position": null,
            "order": null,
            "overflow": null,
            "overflow_x": null,
            "overflow_y": null,
            "padding": null,
            "right": null,
            "top": null,
            "visibility": null,
            "width": null
          }
        },
        "99e8e71fe1ec4a2dad38dabdc7e67aad": {
          "model_module": "@jupyter-widgets/base",
          "model_module_version": "1.2.0",
          "model_name": "LayoutModel",
          "state": {
            "_model_module": "@jupyter-widgets/base",
            "_model_module_version": "1.2.0",
            "_model_name": "LayoutModel",
            "_view_count": null,
            "_view_module": "@jupyter-widgets/base",
            "_view_module_version": "1.2.0",
            "_view_name": "LayoutView",
            "align_content": null,
            "align_items": null,
            "align_self": null,
            "border": null,
            "bottom": null,
            "display": null,
            "flex": null,
            "flex_flow": null,
            "grid_area": null,
            "grid_auto_columns": null,
            "grid_auto_flow": null,
            "grid_auto_rows": null,
            "grid_column": null,
            "grid_gap": null,
            "grid_row": null,
            "grid_template_areas": null,
            "grid_template_columns": null,
            "grid_template_rows": null,
            "height": null,
            "justify_content": null,
            "justify_items": null,
            "left": null,
            "margin": null,
            "max_height": null,
            "max_width": null,
            "min_height": null,
            "min_width": null,
            "object_fit": null,
            "object_position": null,
            "order": null,
            "overflow": null,
            "overflow_x": null,
            "overflow_y": null,
            "padding": null,
            "right": null,
            "top": null,
            "visibility": null,
            "width": null
          }
        },
        "9d521d703e834e8e891d2142e4f41b4c": {
          "model_module": "@jupyter-widgets/base",
          "model_module_version": "1.2.0",
          "model_name": "LayoutModel",
          "state": {
            "_model_module": "@jupyter-widgets/base",
            "_model_module_version": "1.2.0",
            "_model_name": "LayoutModel",
            "_view_count": null,
            "_view_module": "@jupyter-widgets/base",
            "_view_module_version": "1.2.0",
            "_view_name": "LayoutView",
            "align_content": null,
            "align_items": null,
            "align_self": null,
            "border": null,
            "bottom": null,
            "display": null,
            "flex": null,
            "flex_flow": null,
            "grid_area": null,
            "grid_auto_columns": null,
            "grid_auto_flow": null,
            "grid_auto_rows": null,
            "grid_column": null,
            "grid_gap": null,
            "grid_row": null,
            "grid_template_areas": null,
            "grid_template_columns": null,
            "grid_template_rows": null,
            "height": null,
            "justify_content": null,
            "justify_items": null,
            "left": null,
            "margin": null,
            "max_height": null,
            "max_width": null,
            "min_height": null,
            "min_width": null,
            "object_fit": null,
            "object_position": null,
            "order": null,
            "overflow": null,
            "overflow_x": null,
            "overflow_y": null,
            "padding": null,
            "right": null,
            "top": null,
            "visibility": null,
            "width": null
          }
        },
        "9e9d4f30efcf40d795d16fd29ea94a0d": {
          "model_module": "@jupyter-widgets/controls",
          "model_module_version": "1.5.0",
          "model_name": "DescriptionStyleModel",
          "state": {
            "_model_module": "@jupyter-widgets/controls",
            "_model_module_version": "1.5.0",
            "_model_name": "DescriptionStyleModel",
            "_view_count": null,
            "_view_module": "@jupyter-widgets/base",
            "_view_module_version": "1.2.0",
            "_view_name": "StyleView",
            "description_width": ""
          }
        },
        "9eac88c3df5740f0aff47e1cf642a2b7": {
          "model_module": "@jupyter-widgets/controls",
          "model_module_version": "1.5.0",
          "model_name": "HBoxModel",
          "state": {
            "_dom_classes": [],
            "_model_module": "@jupyter-widgets/controls",
            "_model_module_version": "1.5.0",
            "_model_name": "HBoxModel",
            "_view_count": null,
            "_view_module": "@jupyter-widgets/controls",
            "_view_module_version": "1.5.0",
            "_view_name": "HBoxView",
            "box_style": "",
            "children": [
              "IPY_MODEL_497bdc5ed13845aa997010f82c561e02",
              "IPY_MODEL_2b90f18877d445d682e528c31cf882a0",
              "IPY_MODEL_2fa05604b70b4c438594668f1729ca06"
            ],
            "layout": "IPY_MODEL_35f3a4134a8c4a70ad95337b9450198b"
          }
        },
        "a642d673447d4e0293f22182a53cbb52": {
          "model_module": "@jupyter-widgets/controls",
          "model_module_version": "1.5.0",
          "model_name": "DescriptionStyleModel",
          "state": {
            "_model_module": "@jupyter-widgets/controls",
            "_model_module_version": "1.5.0",
            "_model_name": "DescriptionStyleModel",
            "_view_count": null,
            "_view_module": "@jupyter-widgets/base",
            "_view_module_version": "1.2.0",
            "_view_name": "StyleView",
            "description_width": ""
          }
        },
        "a6970ab51f9f431e93f8e58a5db279af": {
          "model_module": "@jupyter-widgets/base",
          "model_module_version": "1.2.0",
          "model_name": "LayoutModel",
          "state": {
            "_model_module": "@jupyter-widgets/base",
            "_model_module_version": "1.2.0",
            "_model_name": "LayoutModel",
            "_view_count": null,
            "_view_module": "@jupyter-widgets/base",
            "_view_module_version": "1.2.0",
            "_view_name": "LayoutView",
            "align_content": null,
            "align_items": null,
            "align_self": null,
            "border": null,
            "bottom": null,
            "display": null,
            "flex": null,
            "flex_flow": null,
            "grid_area": null,
            "grid_auto_columns": null,
            "grid_auto_flow": null,
            "grid_auto_rows": null,
            "grid_column": null,
            "grid_gap": null,
            "grid_row": null,
            "grid_template_areas": null,
            "grid_template_columns": null,
            "grid_template_rows": null,
            "height": null,
            "justify_content": null,
            "justify_items": null,
            "left": null,
            "margin": null,
            "max_height": null,
            "max_width": null,
            "min_height": null,
            "min_width": null,
            "object_fit": null,
            "object_position": null,
            "order": null,
            "overflow": null,
            "overflow_x": null,
            "overflow_y": null,
            "padding": null,
            "right": null,
            "top": null,
            "visibility": null,
            "width": null
          }
        },
        "aa072c7ad10b41a281811c3ba059c6b6": {
          "model_module": "@jupyter-widgets/controls",
          "model_module_version": "1.5.0",
          "model_name": "HTMLModel",
          "state": {
            "_dom_classes": [],
            "_model_module": "@jupyter-widgets/controls",
            "_model_module_version": "1.5.0",
            "_model_name": "HTMLModel",
            "_view_count": null,
            "_view_module": "@jupyter-widgets/controls",
            "_view_module_version": "1.5.0",
            "_view_name": "HTMLView",
            "description": "",
            "description_tooltip": null,
            "layout": "IPY_MODEL_0facdcb44e1b49ac84ebb5cc5dd4dc64",
            "placeholder": "​",
            "style": "IPY_MODEL_c3602f4b708048e2aab2740f3a334c6b",
            "value": "Map: 100%"
          }
        },
        "aae8c9810a654b1687e864db233bfc93": {
          "model_module": "@jupyter-widgets/controls",
          "model_module_version": "1.5.0",
          "model_name": "HTMLModel",
          "state": {
            "_dom_classes": [],
            "_model_module": "@jupyter-widgets/controls",
            "_model_module_version": "1.5.0",
            "_model_name": "HTMLModel",
            "_view_count": null,
            "_view_module": "@jupyter-widgets/controls",
            "_view_module_version": "1.5.0",
            "_view_name": "HTMLView",
            "description": "",
            "description_tooltip": null,
            "layout": "IPY_MODEL_3489aa42339d4940b7e3dbdc8bed6192",
            "placeholder": "​",
            "style": "IPY_MODEL_dcb7bad386a94ef4969a1fb8a4f19898",
            "value": "config.json: 100%"
          }
        },
        "abb61dcdea5f4d06b0aaadf768f49687": {
          "model_module": "@jupyter-widgets/controls",
          "model_module_version": "1.5.0",
          "model_name": "HBoxModel",
          "state": {
            "_dom_classes": [],
            "_model_module": "@jupyter-widgets/controls",
            "_model_module_version": "1.5.0",
            "_model_name": "HBoxModel",
            "_view_count": null,
            "_view_module": "@jupyter-widgets/controls",
            "_view_module_version": "1.5.0",
            "_view_name": "HBoxView",
            "box_style": "",
            "children": [
              "IPY_MODEL_39b68f6605074dec8ea22bfb29e5152c",
              "IPY_MODEL_49c3dc218df04e4688ba7f3a3fb0f858",
              "IPY_MODEL_2a30d9f502104d07b81fd160a13f7d9e"
            ],
            "layout": "IPY_MODEL_602ac9ff16fb4d6abb2c80e4e9394f1a"
          }
        },
        "ac79eeb5ac9f44e9a4ba6ab0c1aff1e1": {
          "model_module": "@jupyter-widgets/controls",
          "model_module_version": "1.5.0",
          "model_name": "HTMLModel",
          "state": {
            "_dom_classes": [],
            "_model_module": "@jupyter-widgets/controls",
            "_model_module_version": "1.5.0",
            "_model_name": "HTMLModel",
            "_view_count": null,
            "_view_module": "@jupyter-widgets/controls",
            "_view_module_version": "1.5.0",
            "_view_name": "HTMLView",
            "description": "",
            "description_tooltip": null,
            "layout": "IPY_MODEL_710c17e9501c4308a422e00057be8b37",
            "placeholder": "​",
            "style": "IPY_MODEL_9e9d4f30efcf40d795d16fd29ea94a0d",
            "value": " 23.9k/23.9k [00:00&lt;00:00, 2.12MB/s]"
          }
        },
        "acd80b2096d04e3185251baf9072550d": {
          "model_module": "@jupyter-widgets/controls",
          "model_module_version": "1.5.0",
          "model_name": "DescriptionStyleModel",
          "state": {
            "_model_module": "@jupyter-widgets/controls",
            "_model_module_version": "1.5.0",
            "_model_name": "DescriptionStyleModel",
            "_view_count": null,
            "_view_module": "@jupyter-widgets/base",
            "_view_module_version": "1.2.0",
            "_view_name": "StyleView",
            "description_width": ""
          }
        },
        "b1bb7247d0a24fb0b07f008278dc1035": {
          "model_module": "@jupyter-widgets/controls",
          "model_module_version": "1.5.0",
          "model_name": "FloatProgressModel",
          "state": {
            "_dom_classes": [],
            "_model_module": "@jupyter-widgets/controls",
            "_model_module_version": "1.5.0",
            "_model_name": "FloatProgressModel",
            "_view_count": null,
            "_view_module": "@jupyter-widgets/controls",
            "_view_module_version": "1.5.0",
            "_view_name": "ProgressView",
            "bar_style": "success",
            "description": "",
            "description_tooltip": null,
            "layout": "IPY_MODEL_6095c80a7d7f457a97f37a367ef6aba2",
            "max": 654,
            "min": 0,
            "orientation": "horizontal",
            "style": "IPY_MODEL_ea778b3eaade47b2b05379c743484587",
            "value": 654
          }
        },
        "b224f046c61840398f029d6055059230": {
          "model_module": "@jupyter-widgets/controls",
          "model_module_version": "1.5.0",
          "model_name": "HBoxModel",
          "state": {
            "_dom_classes": [],
            "_model_module": "@jupyter-widgets/controls",
            "_model_module_version": "1.5.0",
            "_model_name": "HBoxModel",
            "_view_count": null,
            "_view_module": "@jupyter-widgets/controls",
            "_view_module_version": "1.5.0",
            "_view_name": "HBoxView",
            "box_style": "",
            "children": [
              "IPY_MODEL_aae8c9810a654b1687e864db233bfc93",
              "IPY_MODEL_b1bb7247d0a24fb0b07f008278dc1035",
              "IPY_MODEL_359debc35c204c04823b38a5599bc0d4"
            ],
            "layout": "IPY_MODEL_5666a59abaf0408e900588f01db9780b"
          }
        },
        "b382104666c4466d9aaf57291241b835": {
          "model_module": "@jupyter-widgets/base",
          "model_module_version": "1.2.0",
          "model_name": "LayoutModel",
          "state": {
            "_model_module": "@jupyter-widgets/base",
            "_model_module_version": "1.2.0",
            "_model_name": "LayoutModel",
            "_view_count": null,
            "_view_module": "@jupyter-widgets/base",
            "_view_module_version": "1.2.0",
            "_view_name": "LayoutView",
            "align_content": null,
            "align_items": null,
            "align_self": null,
            "border": null,
            "bottom": null,
            "display": null,
            "flex": null,
            "flex_flow": null,
            "grid_area": null,
            "grid_auto_columns": null,
            "grid_auto_flow": null,
            "grid_auto_rows": null,
            "grid_column": null,
            "grid_gap": null,
            "grid_row": null,
            "grid_template_areas": null,
            "grid_template_columns": null,
            "grid_template_rows": null,
            "height": null,
            "justify_content": null,
            "justify_items": null,
            "left": null,
            "margin": null,
            "max_height": null,
            "max_width": null,
            "min_height": null,
            "min_width": null,
            "object_fit": null,
            "object_position": null,
            "order": null,
            "overflow": null,
            "overflow_x": null,
            "overflow_y": null,
            "padding": null,
            "right": null,
            "top": null,
            "visibility": null,
            "width": null
          }
        },
        "b589816277bb4d47846d66a20356ccea": {
          "model_module": "@jupyter-widgets/controls",
          "model_module_version": "1.5.0",
          "model_name": "DescriptionStyleModel",
          "state": {
            "_model_module": "@jupyter-widgets/controls",
            "_model_module_version": "1.5.0",
            "_model_name": "DescriptionStyleModel",
            "_view_count": null,
            "_view_module": "@jupyter-widgets/base",
            "_view_module_version": "1.2.0",
            "_view_name": "StyleView",
            "description_width": ""
          }
        },
        "b703791b1f29499d9552aff7df9a9835": {
          "model_module": "@jupyter-widgets/base",
          "model_module_version": "1.2.0",
          "model_name": "LayoutModel",
          "state": {
            "_model_module": "@jupyter-widgets/base",
            "_model_module_version": "1.2.0",
            "_model_name": "LayoutModel",
            "_view_count": null,
            "_view_module": "@jupyter-widgets/base",
            "_view_module_version": "1.2.0",
            "_view_name": "LayoutView",
            "align_content": null,
            "align_items": null,
            "align_self": null,
            "border": null,
            "bottom": null,
            "display": null,
            "flex": null,
            "flex_flow": null,
            "grid_area": null,
            "grid_auto_columns": null,
            "grid_auto_flow": null,
            "grid_auto_rows": null,
            "grid_column": null,
            "grid_gap": null,
            "grid_row": null,
            "grid_template_areas": null,
            "grid_template_columns": null,
            "grid_template_rows": null,
            "height": null,
            "justify_content": null,
            "justify_items": null,
            "left": null,
            "margin": null,
            "max_height": null,
            "max_width": null,
            "min_height": null,
            "min_width": null,
            "object_fit": null,
            "object_position": null,
            "order": null,
            "overflow": null,
            "overflow_x": null,
            "overflow_y": null,
            "padding": null,
            "right": null,
            "top": null,
            "visibility": null,
            "width": null
          }
        },
        "b9c7a7034d54472ab739dd85f32ffb88": {
          "model_module": "@jupyter-widgets/controls",
          "model_module_version": "1.5.0",
          "model_name": "DescriptionStyleModel",
          "state": {
            "_model_module": "@jupyter-widgets/controls",
            "_model_module_version": "1.5.0",
            "_model_name": "DescriptionStyleModel",
            "_view_count": null,
            "_view_module": "@jupyter-widgets/base",
            "_view_module_version": "1.2.0",
            "_view_name": "StyleView",
            "description_width": ""
          }
        },
        "ba281795dd084f4cb435b0ea6ea50b3c": {
          "model_module": "@jupyter-widgets/controls",
          "model_module_version": "1.5.0",
          "model_name": "HBoxModel",
          "state": {
            "_dom_classes": [],
            "_model_module": "@jupyter-widgets/controls",
            "_model_module_version": "1.5.0",
            "_model_name": "HBoxModel",
            "_view_count": null,
            "_view_module": "@jupyter-widgets/controls",
            "_view_module_version": "1.5.0",
            "_view_name": "HBoxView",
            "box_style": "",
            "children": [
              "IPY_MODEL_813601d73d414535b9e737bd2cc0bb24",
              "IPY_MODEL_41248e1164c94e9a8ee94f52c99ea4c3",
              "IPY_MODEL_5b7ec8f814ce446ebc508913d511b776"
            ],
            "layout": "IPY_MODEL_692667b805b34f839c9da096a3ceca1e"
          }
        },
        "bc36971e14bb4c0983bd81681b2a3aba": {
          "model_module": "@jupyter-widgets/base",
          "model_module_version": "1.2.0",
          "model_name": "LayoutModel",
          "state": {
            "_model_module": "@jupyter-widgets/base",
            "_model_module_version": "1.2.0",
            "_model_name": "LayoutModel",
            "_view_count": null,
            "_view_module": "@jupyter-widgets/base",
            "_view_module_version": "1.2.0",
            "_view_name": "LayoutView",
            "align_content": null,
            "align_items": null,
            "align_self": null,
            "border": null,
            "bottom": null,
            "display": null,
            "flex": null,
            "flex_flow": null,
            "grid_area": null,
            "grid_auto_columns": null,
            "grid_auto_flow": null,
            "grid_auto_rows": null,
            "grid_column": null,
            "grid_gap": null,
            "grid_row": null,
            "grid_template_areas": null,
            "grid_template_columns": null,
            "grid_template_rows": null,
            "height": null,
            "justify_content": null,
            "justify_items": null,
            "left": null,
            "margin": null,
            "max_height": null,
            "max_width": null,
            "min_height": null,
            "min_width": null,
            "object_fit": null,
            "object_position": null,
            "order": null,
            "overflow": null,
            "overflow_x": null,
            "overflow_y": null,
            "padding": null,
            "right": null,
            "top": null,
            "visibility": null,
            "width": null
          }
        },
        "bc4060ccee5b41f28718c79b4eb41b47": {
          "model_module": "@jupyter-widgets/base",
          "model_module_version": "1.2.0",
          "model_name": "LayoutModel",
          "state": {
            "_model_module": "@jupyter-widgets/base",
            "_model_module_version": "1.2.0",
            "_model_name": "LayoutModel",
            "_view_count": null,
            "_view_module": "@jupyter-widgets/base",
            "_view_module_version": "1.2.0",
            "_view_name": "LayoutView",
            "align_content": null,
            "align_items": null,
            "align_self": null,
            "border": null,
            "bottom": null,
            "display": null,
            "flex": null,
            "flex_flow": null,
            "grid_area": null,
            "grid_auto_columns": null,
            "grid_auto_flow": null,
            "grid_auto_rows": null,
            "grid_column": null,
            "grid_gap": null,
            "grid_row": null,
            "grid_template_areas": null,
            "grid_template_columns": null,
            "grid_template_rows": null,
            "height": null,
            "justify_content": null,
            "justify_items": null,
            "left": null,
            "margin": null,
            "max_height": null,
            "max_width": null,
            "min_height": null,
            "min_width": null,
            "object_fit": null,
            "object_position": null,
            "order": null,
            "overflow": null,
            "overflow_x": null,
            "overflow_y": null,
            "padding": null,
            "right": null,
            "top": null,
            "visibility": null,
            "width": null
          }
        },
        "c1925c68f38d459a9c1f01c92aacd926": {
          "model_module": "@jupyter-widgets/base",
          "model_module_version": "1.2.0",
          "model_name": "LayoutModel",
          "state": {
            "_model_module": "@jupyter-widgets/base",
            "_model_module_version": "1.2.0",
            "_model_name": "LayoutModel",
            "_view_count": null,
            "_view_module": "@jupyter-widgets/base",
            "_view_module_version": "1.2.0",
            "_view_name": "LayoutView",
            "align_content": null,
            "align_items": null,
            "align_self": null,
            "border": null,
            "bottom": null,
            "display": null,
            "flex": null,
            "flex_flow": null,
            "grid_area": null,
            "grid_auto_columns": null,
            "grid_auto_flow": null,
            "grid_auto_rows": null,
            "grid_column": null,
            "grid_gap": null,
            "grid_row": null,
            "grid_template_areas": null,
            "grid_template_columns": null,
            "grid_template_rows": null,
            "height": null,
            "justify_content": null,
            "justify_items": null,
            "left": null,
            "margin": null,
            "max_height": null,
            "max_width": null,
            "min_height": null,
            "min_width": null,
            "object_fit": null,
            "object_position": null,
            "order": null,
            "overflow": null,
            "overflow_x": null,
            "overflow_y": null,
            "padding": null,
            "right": null,
            "top": null,
            "visibility": null,
            "width": null
          }
        },
        "c1b7531e1be14ac1903b7a89c94bd7af": {
          "model_module": "@jupyter-widgets/base",
          "model_module_version": "1.2.0",
          "model_name": "LayoutModel",
          "state": {
            "_model_module": "@jupyter-widgets/base",
            "_model_module_version": "1.2.0",
            "_model_name": "LayoutModel",
            "_view_count": null,
            "_view_module": "@jupyter-widgets/base",
            "_view_module_version": "1.2.0",
            "_view_name": "LayoutView",
            "align_content": null,
            "align_items": null,
            "align_self": null,
            "border": null,
            "bottom": null,
            "display": null,
            "flex": null,
            "flex_flow": null,
            "grid_area": null,
            "grid_auto_columns": null,
            "grid_auto_flow": null,
            "grid_auto_rows": null,
            "grid_column": null,
            "grid_gap": null,
            "grid_row": null,
            "grid_template_areas": null,
            "grid_template_columns": null,
            "grid_template_rows": null,
            "height": null,
            "justify_content": null,
            "justify_items": null,
            "left": null,
            "margin": null,
            "max_height": null,
            "max_width": null,
            "min_height": null,
            "min_width": null,
            "object_fit": null,
            "object_position": null,
            "order": null,
            "overflow": null,
            "overflow_x": null,
            "overflow_y": null,
            "padding": null,
            "right": null,
            "top": null,
            "visibility": null,
            "width": null
          }
        },
        "c3602f4b708048e2aab2740f3a334c6b": {
          "model_module": "@jupyter-widgets/controls",
          "model_module_version": "1.5.0",
          "model_name": "DescriptionStyleModel",
          "state": {
            "_model_module": "@jupyter-widgets/controls",
            "_model_module_version": "1.5.0",
            "_model_name": "DescriptionStyleModel",
            "_view_count": null,
            "_view_module": "@jupyter-widgets/base",
            "_view_module_version": "1.2.0",
            "_view_name": "StyleView",
            "description_width": ""
          }
        },
        "c7b816d2bf4244ceaa9567e39155da09": {
          "model_module": "@jupyter-widgets/base",
          "model_module_version": "1.2.0",
          "model_name": "LayoutModel",
          "state": {
            "_model_module": "@jupyter-widgets/base",
            "_model_module_version": "1.2.0",
            "_model_name": "LayoutModel",
            "_view_count": null,
            "_view_module": "@jupyter-widgets/base",
            "_view_module_version": "1.2.0",
            "_view_name": "LayoutView",
            "align_content": null,
            "align_items": null,
            "align_self": null,
            "border": null,
            "bottom": null,
            "display": null,
            "flex": null,
            "flex_flow": null,
            "grid_area": null,
            "grid_auto_columns": null,
            "grid_auto_flow": null,
            "grid_auto_rows": null,
            "grid_column": null,
            "grid_gap": null,
            "grid_row": null,
            "grid_template_areas": null,
            "grid_template_columns": null,
            "grid_template_rows": null,
            "height": null,
            "justify_content": null,
            "justify_items": null,
            "left": null,
            "margin": null,
            "max_height": null,
            "max_width": null,
            "min_height": null,
            "min_width": null,
            "object_fit": null,
            "object_position": null,
            "order": null,
            "overflow": null,
            "overflow_x": null,
            "overflow_y": null,
            "padding": null,
            "right": null,
            "top": null,
            "visibility": null,
            "width": null
          }
        },
        "c8bb82b0531b47a5ac771e0b85e8857f": {
          "model_module": "@jupyter-widgets/controls",
          "model_module_version": "1.5.0",
          "model_name": "HBoxModel",
          "state": {
            "_dom_classes": [],
            "_model_module": "@jupyter-widgets/controls",
            "_model_module_version": "1.5.0",
            "_model_name": "HBoxModel",
            "_view_count": null,
            "_view_module": "@jupyter-widgets/controls",
            "_view_module_version": "1.5.0",
            "_view_name": "HBoxView",
            "box_style": "",
            "children": [
              "IPY_MODEL_d2d6273618d74849b6732c5b92c764cb",
              "IPY_MODEL_ef5639f0fef14c65b8b995c89792bc64",
              "IPY_MODEL_6ba11ae6ca6f4d3fb8fb8ed504010d8a"
            ],
            "layout": "IPY_MODEL_5bc22a4e964043049d6110063a3730cc"
          }
        },
        "c9195c1efd00457db7f4c25b44c7b7aa": {
          "model_module": "@jupyter-widgets/controls",
          "model_module_version": "1.5.0",
          "model_name": "FloatProgressModel",
          "state": {
            "_dom_classes": [],
            "_model_module": "@jupyter-widgets/controls",
            "_model_module_version": "1.5.0",
            "_model_name": "FloatProgressModel",
            "_view_count": null,
            "_view_module": "@jupyter-widgets/controls",
            "_view_module_version": "1.5.0",
            "_view_name": "ProgressView",
            "bar_style": "success",
            "description": "",
            "description_tooltip": null,
            "layout": "IPY_MODEL_9d521d703e834e8e891d2142e4f41b4c",
            "max": 4915916176,
            "min": 0,
            "orientation": "horizontal",
            "style": "IPY_MODEL_f7e45f78a00545238e6abb6e94c49a77",
            "value": 4915916176
          }
        },
        "ca2b930b7b8f48c08ddbc023d4fa7061": {
          "model_module": "@jupyter-widgets/base",
          "model_module_version": "1.2.0",
          "model_name": "LayoutModel",
          "state": {
            "_model_module": "@jupyter-widgets/base",
            "_model_module_version": "1.2.0",
            "_model_name": "LayoutModel",
            "_view_count": null,
            "_view_module": "@jupyter-widgets/base",
            "_view_module_version": "1.2.0",
            "_view_name": "LayoutView",
            "align_content": null,
            "align_items": null,
            "align_self": null,
            "border": null,
            "bottom": null,
            "display": null,
            "flex": null,
            "flex_flow": null,
            "grid_area": null,
            "grid_auto_columns": null,
            "grid_auto_flow": null,
            "grid_auto_rows": null,
            "grid_column": null,
            "grid_gap": null,
            "grid_row": null,
            "grid_template_areas": null,
            "grid_template_columns": null,
            "grid_template_rows": null,
            "height": null,
            "justify_content": null,
            "justify_items": null,
            "left": null,
            "margin": null,
            "max_height": null,
            "max_width": null,
            "min_height": null,
            "min_width": null,
            "object_fit": null,
            "object_position": null,
            "order": null,
            "overflow": null,
            "overflow_x": null,
            "overflow_y": null,
            "padding": null,
            "right": null,
            "top": null,
            "visibility": null,
            "width": null
          }
        },
        "cdcd01d84d1f405880eedbad3cbbf0c5": {
          "model_module": "@jupyter-widgets/controls",
          "model_module_version": "1.5.0",
          "model_name": "DescriptionStyleModel",
          "state": {
            "_model_module": "@jupyter-widgets/controls",
            "_model_module_version": "1.5.0",
            "_model_name": "DescriptionStyleModel",
            "_view_count": null,
            "_view_module": "@jupyter-widgets/base",
            "_view_module_version": "1.2.0",
            "_view_name": "StyleView",
            "description_width": ""
          }
        },
        "d1c5b89bafbd436c8b4962c4379a774e": {
          "model_module": "@jupyter-widgets/base",
          "model_module_version": "1.2.0",
          "model_name": "LayoutModel",
          "state": {
            "_model_module": "@jupyter-widgets/base",
            "_model_module_version": "1.2.0",
            "_model_name": "LayoutModel",
            "_view_count": null,
            "_view_module": "@jupyter-widgets/base",
            "_view_module_version": "1.2.0",
            "_view_name": "LayoutView",
            "align_content": null,
            "align_items": null,
            "align_self": null,
            "border": null,
            "bottom": null,
            "display": null,
            "flex": null,
            "flex_flow": null,
            "grid_area": null,
            "grid_auto_columns": null,
            "grid_auto_flow": null,
            "grid_auto_rows": null,
            "grid_column": null,
            "grid_gap": null,
            "grid_row": null,
            "grid_template_areas": null,
            "grid_template_columns": null,
            "grid_template_rows": null,
            "height": null,
            "justify_content": null,
            "justify_items": null,
            "left": null,
            "margin": null,
            "max_height": null,
            "max_width": null,
            "min_height": null,
            "min_width": null,
            "object_fit": null,
            "object_position": null,
            "order": null,
            "overflow": null,
            "overflow_x": null,
            "overflow_y": null,
            "padding": null,
            "right": null,
            "top": null,
            "visibility": null,
            "width": null
          }
        },
        "d2d6273618d74849b6732c5b92c764cb": {
          "model_module": "@jupyter-widgets/controls",
          "model_module_version": "1.5.0",
          "model_name": "HTMLModel",
          "state": {
            "_dom_classes": [],
            "_model_module": "@jupyter-widgets/controls",
            "_model_module_version": "1.5.0",
            "_model_name": "HTMLModel",
            "_view_count": null,
            "_view_module": "@jupyter-widgets/controls",
            "_view_module_version": "1.5.0",
            "_view_name": "HTMLView",
            "description": "",
            "description_tooltip": null,
            "layout": "IPY_MODEL_91b20098593446ce8eacd288b17cdfdb",
            "placeholder": "​",
            "style": "IPY_MODEL_3515d6ff77924dd899459540c000f155",
            "value": "model-00004-of-00004.safetensors: 100%"
          }
        },
        "db12c219c37f46dbbf07541b12c93e56": {
          "model_module": "@jupyter-widgets/base",
          "model_module_version": "1.2.0",
          "model_name": "LayoutModel",
          "state": {
            "_model_module": "@jupyter-widgets/base",
            "_model_module_version": "1.2.0",
            "_model_name": "LayoutModel",
            "_view_count": null,
            "_view_module": "@jupyter-widgets/base",
            "_view_module_version": "1.2.0",
            "_view_name": "LayoutView",
            "align_content": null,
            "align_items": null,
            "align_self": null,
            "border": null,
            "bottom": null,
            "display": null,
            "flex": null,
            "flex_flow": null,
            "grid_area": null,
            "grid_auto_columns": null,
            "grid_auto_flow": null,
            "grid_auto_rows": null,
            "grid_column": null,
            "grid_gap": null,
            "grid_row": null,
            "grid_template_areas": null,
            "grid_template_columns": null,
            "grid_template_rows": null,
            "height": null,
            "justify_content": null,
            "justify_items": null,
            "left": null,
            "margin": null,
            "max_height": null,
            "max_width": null,
            "min_height": null,
            "min_width": null,
            "object_fit": null,
            "object_position": null,
            "order": null,
            "overflow": null,
            "overflow_x": null,
            "overflow_y": null,
            "padding": null,
            "right": null,
            "top": null,
            "visibility": null,
            "width": null
          }
        },
        "dbd8adbf37f144029993aeff1412f5fd": {
          "model_module": "@jupyter-widgets/controls",
          "model_module_version": "1.5.0",
          "model_name": "DescriptionStyleModel",
          "state": {
            "_model_module": "@jupyter-widgets/controls",
            "_model_module_version": "1.5.0",
            "_model_name": "DescriptionStyleModel",
            "_view_count": null,
            "_view_module": "@jupyter-widgets/base",
            "_view_module_version": "1.2.0",
            "_view_name": "StyleView",
            "description_width": ""
          }
        },
        "dcb7bad386a94ef4969a1fb8a4f19898": {
          "model_module": "@jupyter-widgets/controls",
          "model_module_version": "1.5.0",
          "model_name": "DescriptionStyleModel",
          "state": {
            "_model_module": "@jupyter-widgets/controls",
            "_model_module_version": "1.5.0",
            "_model_name": "DescriptionStyleModel",
            "_view_count": null,
            "_view_module": "@jupyter-widgets/base",
            "_view_module_version": "1.2.0",
            "_view_name": "StyleView",
            "description_width": ""
          }
        },
        "dd3ffda8426845e682c8930a5e800789": {
          "model_module": "@jupyter-widgets/controls",
          "model_module_version": "1.5.0",
          "model_name": "HBoxModel",
          "state": {
            "_dom_classes": [],
            "_model_module": "@jupyter-widgets/controls",
            "_model_module_version": "1.5.0",
            "_model_name": "HBoxModel",
            "_view_count": null,
            "_view_module": "@jupyter-widgets/controls",
            "_view_module_version": "1.5.0",
            "_view_name": "HBoxView",
            "box_style": "",
            "children": [
              "IPY_MODEL_eb21b12a914c4784a8a3b03ed6e08fce",
              "IPY_MODEL_45a4ef167362477b9f4f88c9b02c1453",
              "IPY_MODEL_93a4c76712cd4b1093d425a9c214d4a0"
            ],
            "layout": "IPY_MODEL_b703791b1f29499d9552aff7df9a9835"
          }
        },
        "dd8e3cd0ad8d45318a4675ac6a5baf26": {
          "model_module": "@jupyter-widgets/controls",
          "model_module_version": "1.5.0",
          "model_name": "HBoxModel",
          "state": {
            "_dom_classes": [],
            "_model_module": "@jupyter-widgets/controls",
            "_model_module_version": "1.5.0",
            "_model_name": "HBoxModel",
            "_view_count": null,
            "_view_module": "@jupyter-widgets/controls",
            "_view_module_version": "1.5.0",
            "_view_name": "HBoxView",
            "box_style": "",
            "children": [
              "IPY_MODEL_414dab2711c64fe997908c28831d0c8c",
              "IPY_MODEL_eda7d917f270452c8ee05e580257dbb8",
              "IPY_MODEL_2641d00f77aa4417a5f93437ae8fdd2a"
            ],
            "layout": "IPY_MODEL_c1b7531e1be14ac1903b7a89c94bd7af"
          }
        },
        "de9df3d65e1f4585bc0567756e642ff9": {
          "model_module": "@jupyter-widgets/controls",
          "model_module_version": "1.5.0",
          "model_name": "HBoxModel",
          "state": {
            "_dom_classes": [],
            "_model_module": "@jupyter-widgets/controls",
            "_model_module_version": "1.5.0",
            "_model_name": "HBoxModel",
            "_view_count": null,
            "_view_module": "@jupyter-widgets/controls",
            "_view_module_version": "1.5.0",
            "_view_name": "HBoxView",
            "box_style": "",
            "children": [
              "IPY_MODEL_75ad2b5be1af416ba749a7937836489e",
              "IPY_MODEL_710049629d224a1fa293a020cfb981e7",
              "IPY_MODEL_ed358193a0f143fa826fbf329096b8e6"
            ],
            "layout": "IPY_MODEL_4c0fb44b4d4f4a05b2236df9a0ec7c3f"
          }
        },
        "e8842a69abed41e5b01d5d03ef95296d": {
          "model_module": "@jupyter-widgets/base",
          "model_module_version": "1.2.0",
          "model_name": "LayoutModel",
          "state": {
            "_model_module": "@jupyter-widgets/base",
            "_model_module_version": "1.2.0",
            "_model_name": "LayoutModel",
            "_view_count": null,
            "_view_module": "@jupyter-widgets/base",
            "_view_module_version": "1.2.0",
            "_view_name": "LayoutView",
            "align_content": null,
            "align_items": null,
            "align_self": null,
            "border": null,
            "bottom": null,
            "display": null,
            "flex": null,
            "flex_flow": null,
            "grid_area": null,
            "grid_auto_columns": null,
            "grid_auto_flow": null,
            "grid_auto_rows": null,
            "grid_column": null,
            "grid_gap": null,
            "grid_row": null,
            "grid_template_areas": null,
            "grid_template_columns": null,
            "grid_template_rows": null,
            "height": null,
            "justify_content": null,
            "justify_items": null,
            "left": null,
            "margin": null,
            "max_height": null,
            "max_width": null,
            "min_height": null,
            "min_width": null,
            "object_fit": null,
            "object_position": null,
            "order": null,
            "overflow": null,
            "overflow_x": null,
            "overflow_y": null,
            "padding": null,
            "right": null,
            "top": null,
            "visibility": null,
            "width": null
          }
        },
        "e8d62ca54f824e35afeaa8a82606135a": {
          "model_module": "@jupyter-widgets/controls",
          "model_module_version": "1.5.0",
          "model_name": "FloatProgressModel",
          "state": {
            "_dom_classes": [],
            "_model_module": "@jupyter-widgets/controls",
            "_model_module_version": "1.5.0",
            "_model_name": "FloatProgressModel",
            "_view_count": null,
            "_view_module": "@jupyter-widgets/controls",
            "_view_module_version": "1.5.0",
            "_view_name": "ProgressView",
            "bar_style": "success",
            "description": "",
            "description_tooltip": null,
            "layout": "IPY_MODEL_0e2a0d2d4cb3467caa7b4e94e73a0dba",
            "max": 1170,
            "min": 0,
            "orientation": "horizontal",
            "style": "IPY_MODEL_70ce9dd20e4d41c2ad4f3a14ba5113b9",
            "value": 1170
          }
        },
        "e91d598b519541aebf07211eab52ec51": {
          "model_module": "@jupyter-widgets/controls",
          "model_module_version": "1.5.0",
          "model_name": "HTMLModel",
          "state": {
            "_dom_classes": [],
            "_model_module": "@jupyter-widgets/controls",
            "_model_module_version": "1.5.0",
            "_model_name": "HTMLModel",
            "_view_count": null,
            "_view_module": "@jupyter-widgets/controls",
            "_view_module_version": "1.5.0",
            "_view_name": "HTMLView",
            "description": "",
            "description_tooltip": null,
            "layout": "IPY_MODEL_961db17f86b74bc0b891c4151c549437",
            "placeholder": "​",
            "style": "IPY_MODEL_1d922d06cbad4e26989fb3c15de09e39",
            "value": " 4.92G/4.92G [00:17&lt;00:00, 264MB/s]"
          }
        },
        "e94fa747d9554e619a64bafa00b98aa1": {
          "model_module": "@jupyter-widgets/controls",
          "model_module_version": "1.5.0",
          "model_name": "DescriptionStyleModel",
          "state": {
            "_model_module": "@jupyter-widgets/controls",
            "_model_module_version": "1.5.0",
            "_model_name": "DescriptionStyleModel",
            "_view_count": null,
            "_view_module": "@jupyter-widgets/base",
            "_view_module_version": "1.2.0",
            "_view_name": "StyleView",
            "description_width": ""
          }
        },
        "ea014a4e473a47c3b22493c91ef9ad55": {
          "model_module": "@jupyter-widgets/controls",
          "model_module_version": "1.5.0",
          "model_name": "ProgressStyleModel",
          "state": {
            "_model_module": "@jupyter-widgets/controls",
            "_model_module_version": "1.5.0",
            "_model_name": "ProgressStyleModel",
            "_view_count": null,
            "_view_module": "@jupyter-widgets/base",
            "_view_module_version": "1.2.0",
            "_view_name": "StyleView",
            "bar_color": null,
            "description_width": ""
          }
        },
        "ea778b3eaade47b2b05379c743484587": {
          "model_module": "@jupyter-widgets/controls",
          "model_module_version": "1.5.0",
          "model_name": "ProgressStyleModel",
          "state": {
            "_model_module": "@jupyter-widgets/controls",
            "_model_module_version": "1.5.0",
            "_model_name": "ProgressStyleModel",
            "_view_count": null,
            "_view_module": "@jupyter-widgets/base",
            "_view_module_version": "1.2.0",
            "_view_name": "StyleView",
            "bar_color": null,
            "description_width": ""
          }
        },
        "eb21b12a914c4784a8a3b03ed6e08fce": {
          "model_module": "@jupyter-widgets/controls",
          "model_module_version": "1.5.0",
          "model_name": "HTMLModel",
          "state": {
            "_dom_classes": [],
            "_model_module": "@jupyter-widgets/controls",
            "_model_module_version": "1.5.0",
            "_model_name": "HTMLModel",
            "_view_count": null,
            "_view_module": "@jupyter-widgets/controls",
            "_view_module_version": "1.5.0",
            "_view_name": "HTMLView",
            "description": "",
            "description_tooltip": null,
            "layout": "IPY_MODEL_59a8df9063ac4d018897104bca748216",
            "placeholder": "​",
            "style": "IPY_MODEL_b589816277bb4d47846d66a20356ccea",
            "value": "Loading checkpoint shards: 100%"
          }
        },
        "ed358193a0f143fa826fbf329096b8e6": {
          "model_module": "@jupyter-widgets/controls",
          "model_module_version": "1.5.0",
          "model_name": "HTMLModel",
          "state": {
            "_dom_classes": [],
            "_model_module": "@jupyter-widgets/controls",
            "_model_module_version": "1.5.0",
            "_model_name": "HTMLModel",
            "_view_count": null,
            "_view_module": "@jupyter-widgets/controls",
            "_view_module_version": "1.5.0",
            "_view_name": "HTMLView",
            "description": "",
            "description_tooltip": null,
            "layout": "IPY_MODEL_0d69ed12c7284bffabb756bfdaf44976",
            "placeholder": "​",
            "style": "IPY_MODEL_434796f7e56b4176a6751f2fe0dae66e",
            "value": " 5.00G/5.00G [00:20&lt;00:00, 272MB/s]"
          }
        },
        "eda7d917f270452c8ee05e580257dbb8": {
          "model_module": "@jupyter-widgets/controls",
          "model_module_version": "1.5.0",
          "model_name": "FloatProgressModel",
          "state": {
            "_dom_classes": [],
            "_model_module": "@jupyter-widgets/controls",
            "_model_module_version": "1.5.0",
            "_model_name": "FloatProgressModel",
            "_view_count": null,
            "_view_module": "@jupyter-widgets/controls",
            "_view_module_version": "1.5.0",
            "_view_name": "ProgressView",
            "bar_style": "success",
            "description": "",
            "description_tooltip": null,
            "layout": "IPY_MODEL_474880039bfd4bbcba164914d10299dd",
            "max": 4,
            "min": 0,
            "orientation": "horizontal",
            "style": "IPY_MODEL_ea014a4e473a47c3b22493c91ef9ad55",
            "value": 4
          }
        },
        "ef5639f0fef14c65b8b995c89792bc64": {
          "model_module": "@jupyter-widgets/controls",
          "model_module_version": "1.5.0",
          "model_name": "FloatProgressModel",
          "state": {
            "_dom_classes": [],
            "_model_module": "@jupyter-widgets/controls",
            "_model_module_version": "1.5.0",
            "_model_name": "FloatProgressModel",
            "_view_count": null,
            "_view_module": "@jupyter-widgets/controls",
            "_view_module_version": "1.5.0",
            "_view_name": "ProgressView",
            "bar_style": "success",
            "description": "",
            "description_tooltip": null,
            "layout": "IPY_MODEL_ca2b930b7b8f48c08ddbc023d4fa7061",
            "max": 1168138808,
            "min": 0,
            "orientation": "horizontal",
            "style": "IPY_MODEL_160408689cff44b8bb4c2cb54eb8d6cf",
            "value": 1168138808
          }
        },
        "f057fc6d99694197b5e7b151859a2c9c": {
          "model_module": "@jupyter-widgets/controls",
          "model_module_version": "1.5.0",
          "model_name": "FloatProgressModel",
          "state": {
            "_dom_classes": [],
            "_model_module": "@jupyter-widgets/controls",
            "_model_module_version": "1.5.0",
            "_model_name": "FloatProgressModel",
            "_view_count": null,
            "_view_module": "@jupyter-widgets/controls",
            "_view_module_version": "1.5.0",
            "_view_name": "ProgressView",
            "bar_style": "success",
            "description": "",
            "description_tooltip": null,
            "layout": "IPY_MODEL_fa09525bb079472cb094e104dfd96f00",
            "max": 23950,
            "min": 0,
            "orientation": "horizontal",
            "style": "IPY_MODEL_21f5247d26c04f02816c8d7f546208ba",
            "value": 23950
          }
        },
        "f472f2b00821466cb91fa836685a835c": {
          "model_module": "@jupyter-widgets/base",
          "model_module_version": "1.2.0",
          "model_name": "LayoutModel",
          "state": {
            "_model_module": "@jupyter-widgets/base",
            "_model_module_version": "1.2.0",
            "_model_name": "LayoutModel",
            "_view_count": null,
            "_view_module": "@jupyter-widgets/base",
            "_view_module_version": "1.2.0",
            "_view_name": "LayoutView",
            "align_content": null,
            "align_items": null,
            "align_self": null,
            "border": null,
            "bottom": null,
            "display": null,
            "flex": null,
            "flex_flow": null,
            "grid_area": null,
            "grid_auto_columns": null,
            "grid_auto_flow": null,
            "grid_auto_rows": null,
            "grid_column": null,
            "grid_gap": null,
            "grid_row": null,
            "grid_template_areas": null,
            "grid_template_columns": null,
            "grid_template_rows": null,
            "height": null,
            "justify_content": null,
            "justify_items": null,
            "left": null,
            "margin": null,
            "max_height": null,
            "max_width": null,
            "min_height": null,
            "min_width": null,
            "object_fit": null,
            "object_position": null,
            "order": null,
            "overflow": null,
            "overflow_x": null,
            "overflow_y": null,
            "padding": null,
            "right": null,
            "top": null,
            "visibility": null,
            "width": null
          }
        },
        "f7e45f78a00545238e6abb6e94c49a77": {
          "model_module": "@jupyter-widgets/controls",
          "model_module_version": "1.5.0",
          "model_name": "ProgressStyleModel",
          "state": {
            "_model_module": "@jupyter-widgets/controls",
            "_model_module_version": "1.5.0",
            "_model_name": "ProgressStyleModel",
            "_view_count": null,
            "_view_module": "@jupyter-widgets/base",
            "_view_module_version": "1.2.0",
            "_view_name": "StyleView",
            "bar_color": null,
            "description_width": ""
          }
        },
        "fa09525bb079472cb094e104dfd96f00": {
          "model_module": "@jupyter-widgets/base",
          "model_module_version": "1.2.0",
          "model_name": "LayoutModel",
          "state": {
            "_model_module": "@jupyter-widgets/base",
            "_model_module_version": "1.2.0",
            "_model_name": "LayoutModel",
            "_view_count": null,
            "_view_module": "@jupyter-widgets/base",
            "_view_module_version": "1.2.0",
            "_view_name": "LayoutView",
            "align_content": null,
            "align_items": null,
            "align_self": null,
            "border": null,
            "bottom": null,
            "display": null,
            "flex": null,
            "flex_flow": null,
            "grid_area": null,
            "grid_auto_columns": null,
            "grid_auto_flow": null,
            "grid_auto_rows": null,
            "grid_column": null,
            "grid_gap": null,
            "grid_row": null,
            "grid_template_areas": null,
            "grid_template_columns": null,
            "grid_template_rows": null,
            "height": null,
            "justify_content": null,
            "justify_items": null,
            "left": null,
            "margin": null,
            "max_height": null,
            "max_width": null,
            "min_height": null,
            "min_width": null,
            "object_fit": null,
            "object_position": null,
            "order": null,
            "overflow": null,
            "overflow_x": null,
            "overflow_y": null,
            "padding": null,
            "right": null,
            "top": null,
            "visibility": null,
            "width": null
          }
        },
        "fbc91a151de04346871e2261c38faee9": {
          "model_module": "@jupyter-widgets/controls",
          "model_module_version": "1.5.0",
          "model_name": "ProgressStyleModel",
          "state": {
            "_model_module": "@jupyter-widgets/controls",
            "_model_module_version": "1.5.0",
            "_model_name": "ProgressStyleModel",
            "_view_count": null,
            "_view_module": "@jupyter-widgets/base",
            "_view_module_version": "1.2.0",
            "_view_name": "StyleView",
            "bar_color": null,
            "description_width": ""
          }
        },
        "fce4a3c36f0c4eb2a3a99caf35162ca7": {
          "model_module": "@jupyter-widgets/controls",
          "model_module_version": "1.5.0",
          "model_name": "DescriptionStyleModel",
          "state": {
            "_model_module": "@jupyter-widgets/controls",
            "_model_module_version": "1.5.0",
            "_model_name": "DescriptionStyleModel",
            "_view_count": null,
            "_view_module": "@jupyter-widgets/base",
            "_view_module_version": "1.2.0",
            "_view_name": "StyleView",
            "description_width": ""
          }
        },
        "fd1624d61b5148778450fd1ae5ade1bf": {
          "model_module": "@jupyter-widgets/controls",
          "model_module_version": "1.5.0",
          "model_name": "HBoxModel",
          "state": {
            "_dom_classes": [],
            "_model_module": "@jupyter-widgets/controls",
            "_model_module_version": "1.5.0",
            "_model_name": "HBoxModel",
            "_view_count": null,
            "_view_module": "@jupyter-widgets/controls",
            "_view_module_version": "1.5.0",
            "_view_name": "HBoxView",
            "box_style": "",
            "children": [
              "IPY_MODEL_aa072c7ad10b41a281811c3ba059c6b6",
              "IPY_MODEL_0f21d24459d74b58a9e43231fde5e66a",
              "IPY_MODEL_29c6d91fa0274668aaa98d7e429f65be"
            ],
            "layout": "IPY_MODEL_b382104666c4466d9aaf57291241b835"
          }
        },
        "ff0b41d09ab24c9fa933f90db66807f1": {
          "model_module": "@jupyter-widgets/controls",
          "model_module_version": "1.5.0",
          "model_name": "DescriptionStyleModel",
          "state": {
            "_model_module": "@jupyter-widgets/controls",
            "_model_module_version": "1.5.0",
            "_model_name": "DescriptionStyleModel",
            "_view_count": null,
            "_view_module": "@jupyter-widgets/base",
            "_view_module_version": "1.2.0",
            "_view_name": "StyleView",
            "description_width": ""
          }
        },
        "ffb54dcb52294d9199eaf9e7a5995a89": {
          "model_module": "@jupyter-widgets/base",
          "model_module_version": "1.2.0",
          "model_name": "LayoutModel",
          "state": {
            "_model_module": "@jupyter-widgets/base",
            "_model_module_version": "1.2.0",
            "_model_name": "LayoutModel",
            "_view_count": null,
            "_view_module": "@jupyter-widgets/base",
            "_view_module_version": "1.2.0",
            "_view_name": "LayoutView",
            "align_content": null,
            "align_items": null,
            "align_self": null,
            "border": null,
            "bottom": null,
            "display": null,
            "flex": null,
            "flex_flow": null,
            "grid_area": null,
            "grid_auto_columns": null,
            "grid_auto_flow": null,
            "grid_auto_rows": null,
            "grid_column": null,
            "grid_gap": null,
            "grid_row": null,
            "grid_template_areas": null,
            "grid_template_columns": null,
            "grid_template_rows": null,
            "height": null,
            "justify_content": null,
            "justify_items": null,
            "left": null,
            "margin": null,
            "max_height": null,
            "max_width": null,
            "min_height": null,
            "min_width": null,
            "object_fit": null,
            "object_position": null,
            "order": null,
            "overflow": null,
            "overflow_x": null,
            "overflow_y": null,
            "padding": null,
            "right": null,
            "top": null,
            "visibility": null,
            "width": null
          }
        },
        "ffc1f4e32ffc4b468f1e3dec8d42c175": {
          "model_module": "@jupyter-widgets/controls",
          "model_module_version": "1.5.0",
          "model_name": "HTMLModel",
          "state": {
            "_dom_classes": [],
            "_model_module": "@jupyter-widgets/controls",
            "_model_module_version": "1.5.0",
            "_model_name": "HTMLModel",
            "_view_count": null,
            "_view_module": "@jupyter-widgets/controls",
            "_view_module_version": "1.5.0",
            "_view_name": "HTMLView",
            "description": "",
            "description_tooltip": null,
            "layout": "IPY_MODEL_2c8c9f746e5b4801a490875629c6f55d",
            "placeholder": "​",
            "style": "IPY_MODEL_499e29a51382443b9e7bc66bc161dfae",
            "value": "tokenizer_config.json: 100%"
          }
        }
      }
    }
  },
  "nbformat": 4,
  "nbformat_minor": 0
}
