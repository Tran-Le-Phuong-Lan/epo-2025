{
 "cells": [
  {
   "cell_type": "markdown",
   "id": "2a79f71b",
   "metadata": {},
   "source": [
    "# Envs"
   ]
  },
  {
   "cell_type": "code",
   "execution_count": 1,
   "id": "63568368",
   "metadata": {},
   "outputs": [],
   "source": [
    "import os\n",
    "os.environ[\"KMP_DUPLICATE_LIB_OK\"]=\"TRUE\""
   ]
  },
  {
   "cell_type": "code",
   "execution_count": 63,
   "id": "e7313025",
   "metadata": {},
   "outputs": [],
   "source": [
    "import pandas as pd\n",
    "import json\n",
    "# convert panda data frame to dataset\n",
    "from datasets import Dataset"
   ]
  },
  {
   "cell_type": "markdown",
   "id": "3f43b241",
   "metadata": {},
   "source": [
    "# Import data for processing"
   ]
  },
  {
   "cell_type": "code",
   "execution_count": 53,
   "id": "74a8b13e",
   "metadata": {},
   "outputs": [
    {
     "name": "stdout",
     "output_type": "stream",
     "text": [
      "row counts in df: 237\n"
     ]
    }
   ],
   "source": [
    "df_sample= pd.read_csv(\"C:/Users/20245580/Documents/Others/EPO2025/epo_data/sample_dataset.csv\")\n",
    "print(f\"row counts in df: {len(df_sample)}\")"
   ]
  },
  {
   "cell_type": "code",
   "execution_count": 56,
   "id": "a18e4fe5",
   "metadata": {},
   "outputs": [
    {
     "data": {
      "text/html": [
       "<div>\n",
       "<style scoped>\n",
       "    .dataframe tbody tr th:only-of-type {\n",
       "        vertical-align: middle;\n",
       "    }\n",
       "\n",
       "    .dataframe tbody tr th {\n",
       "        vertical-align: top;\n",
       "    }\n",
       "\n",
       "    .dataframe thead th {\n",
       "        text-align: right;\n",
       "    }\n",
       "</style>\n",
       "<table border=\"1\" class=\"dataframe\">\n",
       "  <thead>\n",
       "    <tr style=\"text-align: right;\">\n",
       "      <th></th>\n",
       "      <th>publication_number</th>\n",
       "      <th>publication_kind</th>\n",
       "      <th>publication_date</th>\n",
       "      <th>ipc</th>\n",
       "      <th>cpc</th>\n",
       "      <th>title_en</th>\n",
       "      <th>claims</th>\n",
       "      <th>abstract_text</th>\n",
       "      <th>description_text</th>\n",
       "      <th>prior_art</th>\n",
       "      <th>...</th>\n",
       "      <th>pct_publication_number</th>\n",
       "      <th>designated_states_contracting</th>\n",
       "      <th>designated_states_extension</th>\n",
       "      <th>designated_states_validation</th>\n",
       "      <th>applicant</th>\n",
       "      <th>inventor</th>\n",
       "      <th>sdg_number</th>\n",
       "      <th>analysis_explanation</th>\n",
       "      <th>ipc_tech_field</th>\n",
       "      <th>ipc_technologies</th>\n",
       "    </tr>\n",
       "  </thead>\n",
       "  <tbody>\n",
       "    <tr>\n",
       "      <th>10</th>\n",
       "      <td>3316253</td>\n",
       "      <td>B1</td>\n",
       "      <td>20200812</td>\n",
       "      <td>G10L13/02, G10L25/84, H04R25/00, A42B3/30, H04...</td>\n",
       "      <td>[]</td>\n",
       "      <td>SPEECH SYNTHESIS DEVICE, SPEECH SYNTHESIS METH...</td>\n",
       "      <td>a voice synthesis device comprisinga plurality...</td>\n",
       "      <td>NaN</td>\n",
       "      <td>This application claims the benefit and priori...</td>\n",
       "      <td>[{'is_patent': True}, {'is_patent': True}, {'i...</td>\n",
       "      <td>...</td>\n",
       "      <td>WO2016206285</td>\n",
       "      <td>['AL', 'AT', 'BE', 'BG', 'CH', 'CY', 'CZ', 'DE...</td>\n",
       "      <td>[]</td>\n",
       "      <td>[]</td>\n",
       "      <td>[{'name': 'BOE Technology Group Co., Ltd.', 'c...</td>\n",
       "      <td>[{'name': 'LIANG, Xuan', 'country': 'CN'}]</td>\n",
       "      <td>3</td>\n",
       "      <td>– Goal 3: The patent describes a \"hearing aid\"...</td>\n",
       "      <td>Electricity; Human Necessities; Physics</td>\n",
       "      <td>Audio/Video Technology; Clothing &amp; Apparel; Me...</td>\n",
       "    </tr>\n",
       "    <tr>\n",
       "      <th>11</th>\n",
       "      <td>3316950</td>\n",
       "      <td>B1</td>\n",
       "      <td>20200805</td>\n",
       "      <td>A61M16/06, A61M16/14</td>\n",
       "      <td>[]</td>\n",
       "      <td>NASAL CANNULA FOR CONTINUOUS AND SIMULTANEOUS ...</td>\n",
       "      <td>a nasal cannula 100 for delivering humidified ...</td>\n",
       "      <td>NaN</td>\n",
       "      <td>BackgroundPatients with respiratory ailments m...</td>\n",
       "      <td>[{'is_patent': True}, {'is_patent': True}, {'i...</td>\n",
       "      <td>...</td>\n",
       "      <td>WO2017004404</td>\n",
       "      <td>['AL', 'AT', 'BE', 'BG', 'CH', 'CY', 'CZ', 'DE...</td>\n",
       "      <td>[]</td>\n",
       "      <td>[]</td>\n",
       "      <td>[{'name': 'Vapotherm, Inc.', 'country': 'US'}]</td>\n",
       "      <td>[{'name': 'CORTEZ, Felino, V., Jr.', 'country'...</td>\n",
       "      <td>3</td>\n",
       "      <td>– Goal 3: The patent describes a \"nasal cannul...</td>\n",
       "      <td>Human Necessities</td>\n",
       "      <td>Other Human Necessities</td>\n",
       "    </tr>\n",
       "    <tr>\n",
       "      <th>12</th>\n",
       "      <td>3320019</td>\n",
       "      <td>B1</td>\n",
       "      <td>20200812</td>\n",
       "      <td>C08G63/88, C08J9/14, C08J9/20</td>\n",
       "      <td>[]</td>\n",
       "      <td>PROCESS FOR PREPARING POLY(GLYCOLIDE-CO-LACTID...</td>\n",
       "      <td>process for preparing polylactidecoglycolide c...</td>\n",
       "      <td>NaN</td>\n",
       "      <td>Field of the inventionThe invention is concern...</td>\n",
       "      <td>[{'is_patent': False}]</td>\n",
       "      <td>...</td>\n",
       "      <td>WO2017005483</td>\n",
       "      <td>['AL', 'AT', 'BE', 'BG', 'CH', 'CY', 'CZ', 'DE...</td>\n",
       "      <td>[]</td>\n",
       "      <td>[]</td>\n",
       "      <td>[{'name': 'Evonik Operations GmbH', 'country':...</td>\n",
       "      <td>[{'name': 'KIRCHNER, Andreas', 'country': 'DE'...</td>\n",
       "      <td>3</td>\n",
       "      <td>– Goal 3: The patent describes a process for p...</td>\n",
       "      <td>Chemistry &amp; Metallurgy</td>\n",
       "      <td>Chemical Processes</td>\n",
       "    </tr>\n",
       "    <tr>\n",
       "      <th>13</th>\n",
       "      <td>3320928</td>\n",
       "      <td>B1</td>\n",
       "      <td>20200826</td>\n",
       "      <td>A61M5/168, A61M5/148, A61M5/14, A61M5/142, A61...</td>\n",
       "      <td>[]</td>\n",
       "      <td>DRUG INJECTION DEVICE</td>\n",
       "      <td>a medicine infusing apparatus comprisinga cove...</td>\n",
       "      <td>NaN</td>\n",
       "      <td>Technical FieldThe present invention relates t...</td>\n",
       "      <td>[{'is_patent': True}, {'is_patent': True}, {'i...</td>\n",
       "      <td>...</td>\n",
       "      <td>WO2017007125</td>\n",
       "      <td>['AL', 'AT', 'BE', 'BG', 'CH', 'CY', 'CZ', 'DE...</td>\n",
       "      <td>[]</td>\n",
       "      <td>[]</td>\n",
       "      <td>[{'name': 'Cebika Inc.', 'country': 'KR'}]</td>\n",
       "      <td>[{'name': 'CHO, Byoung Chic', 'country': 'KR'}]</td>\n",
       "      <td>3</td>\n",
       "      <td>– Goal 3: The patent describes a \"medicine inf...</td>\n",
       "      <td>Human Necessities</td>\n",
       "      <td>Other Human Necessities</td>\n",
       "    </tr>\n",
       "    <tr>\n",
       "      <th>14</th>\n",
       "      <td>3320941</td>\n",
       "      <td>B1</td>\n",
       "      <td>20200805</td>\n",
       "      <td>A61M16/06, A61M16/08</td>\n",
       "      <td>[]</td>\n",
       "      <td>ARTIFICIAL RESPIRATION SYSTEM</td>\n",
       "      <td>an artificial respiration system 100, comprisi...</td>\n",
       "      <td>NaN</td>\n",
       "      <td>TECHNICAL FIELDThe present invention relates t...</td>\n",
       "      <td>[{'is_patent': True}, {'is_patent': True}, {'i...</td>\n",
       "      <td>...</td>\n",
       "      <td>NaN</td>\n",
       "      <td>['AL', 'AT', 'BE', 'BG', 'CH', 'CY', 'CZ', 'DE...</td>\n",
       "      <td>[]</td>\n",
       "      <td>[]</td>\n",
       "      <td>[{'name': 'Intersurgical S.P.A.', 'country': '...</td>\n",
       "      <td>[{'name': 'NAVALESI, Paolo', 'country': 'IT'},...</td>\n",
       "      <td>3</td>\n",
       "      <td>– Goal 3: The patent describes an \"artificial ...</td>\n",
       "      <td>Human Necessities</td>\n",
       "      <td>Other Human Necessities</td>\n",
       "    </tr>\n",
       "    <tr>\n",
       "      <th>15</th>\n",
       "      <td>3324171</td>\n",
       "      <td>B1</td>\n",
       "      <td>20200805</td>\n",
       "      <td>B01L9/00, G01N1/30, G01N1/31, G01N1/36, G01N35/00</td>\n",
       "      <td>[]</td>\n",
       "      <td>AUTOMATED HIGH VOLUME SLIDE PROCESSING METHOD</td>\n",
       "      <td>an automated method for processing a plurality...</td>\n",
       "      <td>NaN</td>\n",
       "      <td>Background of the Invention1. FieldThe present...</td>\n",
       "      <td>[{'is_patent': True}, {'is_patent': True}, {'i...</td>\n",
       "      <td>...</td>\n",
       "      <td>NaN</td>\n",
       "      <td>['AT', 'BE', 'BG', 'CH', 'CY', 'CZ', 'DE', 'DK...</td>\n",
       "      <td>[]</td>\n",
       "      <td>[]</td>\n",
       "      <td>[{'name': 'Ventana Medical Systems, Inc.', 'co...</td>\n",
       "      <td>[{'name': 'Griebel, Rick', 'country': 'US'}, {...</td>\n",
       "      <td>3</td>\n",
       "      <td>– Goal 3: The patent describes an automated me...</td>\n",
       "      <td>Performing Operations &amp; Transport; Physics</td>\n",
       "      <td>Measurement &amp; Testing; Mechanical Tools &amp; Equi...</td>\n",
       "    </tr>\n",
       "    <tr>\n",
       "      <th>16</th>\n",
       "      <td>3324744</td>\n",
       "      <td>B1</td>\n",
       "      <td>20200812</td>\n",
       "      <td>A01N57/12, A01N25/30, A01N25/04, A01N59/26, A0...</td>\n",
       "      <td>[]</td>\n",
       "      <td>NOVEL FORMULATIONS COMPRISING PHOSPHITE</td>\n",
       "      <td>an aqueous suspension comprising a solubilized...</td>\n",
       "      <td>NaN</td>\n",
       "      <td>Field:The invention relates to novel aqueous s...</td>\n",
       "      <td>[{'is_patent': True}, {'is_patent': True}, {'i...</td>\n",
       "      <td>...</td>\n",
       "      <td>WO2017014633</td>\n",
       "      <td>['AL', 'AT', 'BE', 'BG', 'CH', 'CY', 'CZ', 'DE...</td>\n",
       "      <td>[]</td>\n",
       "      <td>[]</td>\n",
       "      <td>[{'name': 'Ceradis B.V.', 'country': 'NL'}]</td>\n",
       "      <td>[{'name': 'VAN DER KRIEKEN, Wilhelmus Maria', ...</td>\n",
       "      <td>2</td>\n",
       "      <td>– Goal 2: The patent describes \"a method of fe...</td>\n",
       "      <td>Human Necessities</td>\n",
       "      <td>Agriculture &amp; Forestry; Food &amp; Beverage Proces...</td>\n",
       "    </tr>\n",
       "    <tr>\n",
       "      <th>17</th>\n",
       "      <td>3325972</td>\n",
       "      <td>B1</td>\n",
       "      <td>20200819</td>\n",
       "      <td>G01N33/574</td>\n",
       "      <td>[]</td>\n",
       "      <td>BIOMARKER COMBINATIONS FOR PROSTATE DISEASE</td>\n",
       "      <td>a method for determining whether a subject has...</td>\n",
       "      <td>NaN</td>\n",
       "      <td>Technical FieldThe present invention relates g...</td>\n",
       "      <td>[{'is_patent': False}, {'is_patent': False}, {...</td>\n",
       "      <td>...</td>\n",
       "      <td>WO2017011855</td>\n",
       "      <td>['AL', 'AT', 'BE', 'BG', 'CH', 'CY', 'CZ', 'DE...</td>\n",
       "      <td>[]</td>\n",
       "      <td>[]</td>\n",
       "      <td>[{'name': 'Minomic International Ltd.', 'count...</td>\n",
       "      <td>[{'name': 'WALSH, Bradley', 'country': 'AU'}, ...</td>\n",
       "      <td>3</td>\n",
       "      <td>– Goal 3: The patent directly addresses health...</td>\n",
       "      <td>Physics</td>\n",
       "      <td>Measurement &amp; Testing</td>\n",
       "    </tr>\n",
       "    <tr>\n",
       "      <th>18</th>\n",
       "      <td>3327120</td>\n",
       "      <td>B1</td>\n",
       "      <td>20200826</td>\n",
       "      <td>C12N15/09, C12N1/19, C12P7/64, C12P19/44</td>\n",
       "      <td>[]</td>\n",
       "      <td>SOPHOROLIPID HIGHLY-PRODUCTIVE MUTANT STRAIN</td>\n",
       "      <td>a sophorolipidproducing yeast mutant strain of...</td>\n",
       "      <td>NaN</td>\n",
       "      <td>Field of the InventionThe present disclosure r...</td>\n",
       "      <td>[{'is_patent': True}, {'is_patent': True}, {'i...</td>\n",
       "      <td>...</td>\n",
       "      <td>WO2017014175</td>\n",
       "      <td>['AL', 'AT', 'BE', 'BG', 'CH', 'CY', 'CZ', 'DE...</td>\n",
       "      <td>[]</td>\n",
       "      <td>[]</td>\n",
       "      <td>[{'name': 'Kao Corporation', 'country': 'JP'}]</td>\n",
       "      <td>[{'name': 'ICHIHARA, Takahiro', 'country': 'JP...</td>\n",
       "      <td>12</td>\n",
       "      <td>– Goal 12: The patent describes a \"sophorolipi...</td>\n",
       "      <td>Chemistry &amp; Metallurgy</td>\n",
       "      <td>Biochemistry &amp; Biotechnology; Chemical Processes</td>\n",
       "    </tr>\n",
       "    <tr>\n",
       "      <th>19</th>\n",
       "      <td>3327125</td>\n",
       "      <td>B1</td>\n",
       "      <td>20200805</td>\n",
       "      <td>C12N15/113</td>\n",
       "      <td>[]</td>\n",
       "      <td>RNA INTERFERENCE MEDIATED INHIBITION OF GENE E...</td>\n",
       "      <td>a doublestranded short interfering nucleic aci...</td>\n",
       "      <td>NaN</td>\n",
       "      <td>The present invention relates to double-strand...</td>\n",
       "      <td>[{'is_patent': True}, {'is_patent': True}, {'i...</td>\n",
       "      <td>...</td>\n",
       "      <td>NaN</td>\n",
       "      <td>['AL', 'AT', 'BE', 'BG', 'CH', 'CY', 'CZ', 'DE...</td>\n",
       "      <td>[]</td>\n",
       "      <td>[]</td>\n",
       "      <td>[{'name': 'Sirna Therapeutics, Inc.', 'country...</td>\n",
       "      <td>[{'name': 'Cancilla, Mark', 'country': 'US'}, ...</td>\n",
       "      <td>3</td>\n",
       "      <td>– Goal 3: The patent describes a \"doublestrand...</td>\n",
       "      <td>Chemistry &amp; Metallurgy</td>\n",
       "      <td>Biochemistry &amp; Biotechnology</td>\n",
       "    </tr>\n",
       "  </tbody>\n",
       "</table>\n",
       "<p>10 rows × 22 columns</p>\n",
       "</div>"
      ],
      "text/plain": [
       "    publication_number publication_kind  publication_date  \\\n",
       "10             3316253               B1          20200812   \n",
       "11             3316950               B1          20200805   \n",
       "12             3320019               B1          20200812   \n",
       "13             3320928               B1          20200826   \n",
       "14             3320941               B1          20200805   \n",
       "15             3324171               B1          20200805   \n",
       "16             3324744               B1          20200812   \n",
       "17             3325972               B1          20200819   \n",
       "18             3327120               B1          20200826   \n",
       "19             3327125               B1          20200805   \n",
       "\n",
       "                                                  ipc cpc  \\\n",
       "10  G10L13/02, G10L25/84, H04R25/00, A42B3/30, H04...  []   \n",
       "11                               A61M16/06, A61M16/14  []   \n",
       "12                      C08G63/88, C08J9/14, C08J9/20  []   \n",
       "13  A61M5/168, A61M5/148, A61M5/14, A61M5/142, A61...  []   \n",
       "14                               A61M16/06, A61M16/08  []   \n",
       "15  B01L9/00, G01N1/30, G01N1/31, G01N1/36, G01N35/00  []   \n",
       "16  A01N57/12, A01N25/30, A01N25/04, A01N59/26, A0...  []   \n",
       "17                                         G01N33/574  []   \n",
       "18           C12N15/09, C12N1/19, C12P7/64, C12P19/44  []   \n",
       "19                                         C12N15/113  []   \n",
       "\n",
       "                                             title_en  \\\n",
       "10  SPEECH SYNTHESIS DEVICE, SPEECH SYNTHESIS METH...   \n",
       "11  NASAL CANNULA FOR CONTINUOUS AND SIMULTANEOUS ...   \n",
       "12  PROCESS FOR PREPARING POLY(GLYCOLIDE-CO-LACTID...   \n",
       "13                              DRUG INJECTION DEVICE   \n",
       "14                      ARTIFICIAL RESPIRATION SYSTEM   \n",
       "15      AUTOMATED HIGH VOLUME SLIDE PROCESSING METHOD   \n",
       "16            NOVEL FORMULATIONS COMPRISING PHOSPHITE   \n",
       "17        BIOMARKER COMBINATIONS FOR PROSTATE DISEASE   \n",
       "18       SOPHOROLIPID HIGHLY-PRODUCTIVE MUTANT STRAIN   \n",
       "19  RNA INTERFERENCE MEDIATED INHIBITION OF GENE E...   \n",
       "\n",
       "                                               claims  abstract_text  \\\n",
       "10  a voice synthesis device comprisinga plurality...            NaN   \n",
       "11  a nasal cannula 100 for delivering humidified ...            NaN   \n",
       "12  process for preparing polylactidecoglycolide c...            NaN   \n",
       "13  a medicine infusing apparatus comprisinga cove...            NaN   \n",
       "14  an artificial respiration system 100, comprisi...            NaN   \n",
       "15  an automated method for processing a plurality...            NaN   \n",
       "16  an aqueous suspension comprising a solubilized...            NaN   \n",
       "17  a method for determining whether a subject has...            NaN   \n",
       "18  a sophorolipidproducing yeast mutant strain of...            NaN   \n",
       "19  a doublestranded short interfering nucleic aci...            NaN   \n",
       "\n",
       "                                     description_text  \\\n",
       "10  This application claims the benefit and priori...   \n",
       "11  BackgroundPatients with respiratory ailments m...   \n",
       "12  Field of the inventionThe invention is concern...   \n",
       "13  Technical FieldThe present invention relates t...   \n",
       "14  TECHNICAL FIELDThe present invention relates t...   \n",
       "15  Background of the Invention1. FieldThe present...   \n",
       "16  Field:The invention relates to novel aqueous s...   \n",
       "17  Technical FieldThe present invention relates g...   \n",
       "18  Field of the InventionThe present disclosure r...   \n",
       "19  The present invention relates to double-strand...   \n",
       "\n",
       "                                            prior_art  ...  \\\n",
       "10  [{'is_patent': True}, {'is_patent': True}, {'i...  ...   \n",
       "11  [{'is_patent': True}, {'is_patent': True}, {'i...  ...   \n",
       "12                             [{'is_patent': False}]  ...   \n",
       "13  [{'is_patent': True}, {'is_patent': True}, {'i...  ...   \n",
       "14  [{'is_patent': True}, {'is_patent': True}, {'i...  ...   \n",
       "15  [{'is_patent': True}, {'is_patent': True}, {'i...  ...   \n",
       "16  [{'is_patent': True}, {'is_patent': True}, {'i...  ...   \n",
       "17  [{'is_patent': False}, {'is_patent': False}, {...  ...   \n",
       "18  [{'is_patent': True}, {'is_patent': True}, {'i...  ...   \n",
       "19  [{'is_patent': True}, {'is_patent': True}, {'i...  ...   \n",
       "\n",
       "   pct_publication_number                      designated_states_contracting  \\\n",
       "10           WO2016206285  ['AL', 'AT', 'BE', 'BG', 'CH', 'CY', 'CZ', 'DE...   \n",
       "11           WO2017004404  ['AL', 'AT', 'BE', 'BG', 'CH', 'CY', 'CZ', 'DE...   \n",
       "12           WO2017005483  ['AL', 'AT', 'BE', 'BG', 'CH', 'CY', 'CZ', 'DE...   \n",
       "13           WO2017007125  ['AL', 'AT', 'BE', 'BG', 'CH', 'CY', 'CZ', 'DE...   \n",
       "14                    NaN  ['AL', 'AT', 'BE', 'BG', 'CH', 'CY', 'CZ', 'DE...   \n",
       "15                    NaN  ['AT', 'BE', 'BG', 'CH', 'CY', 'CZ', 'DE', 'DK...   \n",
       "16           WO2017014633  ['AL', 'AT', 'BE', 'BG', 'CH', 'CY', 'CZ', 'DE...   \n",
       "17           WO2017011855  ['AL', 'AT', 'BE', 'BG', 'CH', 'CY', 'CZ', 'DE...   \n",
       "18           WO2017014175  ['AL', 'AT', 'BE', 'BG', 'CH', 'CY', 'CZ', 'DE...   \n",
       "19                    NaN  ['AL', 'AT', 'BE', 'BG', 'CH', 'CY', 'CZ', 'DE...   \n",
       "\n",
       "   designated_states_extension designated_states_validation  \\\n",
       "10                          []                           []   \n",
       "11                          []                           []   \n",
       "12                          []                           []   \n",
       "13                          []                           []   \n",
       "14                          []                           []   \n",
       "15                          []                           []   \n",
       "16                          []                           []   \n",
       "17                          []                           []   \n",
       "18                          []                           []   \n",
       "19                          []                           []   \n",
       "\n",
       "                                            applicant  \\\n",
       "10  [{'name': 'BOE Technology Group Co., Ltd.', 'c...   \n",
       "11     [{'name': 'Vapotherm, Inc.', 'country': 'US'}]   \n",
       "12  [{'name': 'Evonik Operations GmbH', 'country':...   \n",
       "13         [{'name': 'Cebika Inc.', 'country': 'KR'}]   \n",
       "14  [{'name': 'Intersurgical S.P.A.', 'country': '...   \n",
       "15  [{'name': 'Ventana Medical Systems, Inc.', 'co...   \n",
       "16        [{'name': 'Ceradis B.V.', 'country': 'NL'}]   \n",
       "17  [{'name': 'Minomic International Ltd.', 'count...   \n",
       "18     [{'name': 'Kao Corporation', 'country': 'JP'}]   \n",
       "19  [{'name': 'Sirna Therapeutics, Inc.', 'country...   \n",
       "\n",
       "                                             inventor sdg_number  \\\n",
       "10         [{'name': 'LIANG, Xuan', 'country': 'CN'}]          3   \n",
       "11  [{'name': 'CORTEZ, Felino, V., Jr.', 'country'...          3   \n",
       "12  [{'name': 'KIRCHNER, Andreas', 'country': 'DE'...          3   \n",
       "13    [{'name': 'CHO, Byoung Chic', 'country': 'KR'}]          3   \n",
       "14  [{'name': 'NAVALESI, Paolo', 'country': 'IT'},...          3   \n",
       "15  [{'name': 'Griebel, Rick', 'country': 'US'}, {...          3   \n",
       "16  [{'name': 'VAN DER KRIEKEN, Wilhelmus Maria', ...          2   \n",
       "17  [{'name': 'WALSH, Bradley', 'country': 'AU'}, ...          3   \n",
       "18  [{'name': 'ICHIHARA, Takahiro', 'country': 'JP...         12   \n",
       "19  [{'name': 'Cancilla, Mark', 'country': 'US'}, ...          3   \n",
       "\n",
       "                                 analysis_explanation  \\\n",
       "10  – Goal 3: The patent describes a \"hearing aid\"...   \n",
       "11  – Goal 3: The patent describes a \"nasal cannul...   \n",
       "12  – Goal 3: The patent describes a process for p...   \n",
       "13  – Goal 3: The patent describes a \"medicine inf...   \n",
       "14  – Goal 3: The patent describes an \"artificial ...   \n",
       "15  – Goal 3: The patent describes an automated me...   \n",
       "16  – Goal 2: The patent describes \"a method of fe...   \n",
       "17  – Goal 3: The patent directly addresses health...   \n",
       "18  – Goal 12: The patent describes a \"sophorolipi...   \n",
       "19  – Goal 3: The patent describes a \"doublestrand...   \n",
       "\n",
       "                                ipc_tech_field  \\\n",
       "10     Electricity; Human Necessities; Physics   \n",
       "11                           Human Necessities   \n",
       "12                      Chemistry & Metallurgy   \n",
       "13                           Human Necessities   \n",
       "14                           Human Necessities   \n",
       "15  Performing Operations & Transport; Physics   \n",
       "16                           Human Necessities   \n",
       "17                                     Physics   \n",
       "18                      Chemistry & Metallurgy   \n",
       "19                      Chemistry & Metallurgy   \n",
       "\n",
       "                                     ipc_technologies  \n",
       "10  Audio/Video Technology; Clothing & Apparel; Me...  \n",
       "11                            Other Human Necessities  \n",
       "12                                 Chemical Processes  \n",
       "13                            Other Human Necessities  \n",
       "14                            Other Human Necessities  \n",
       "15  Measurement & Testing; Mechanical Tools & Equi...  \n",
       "16  Agriculture & Forestry; Food & Beverage Proces...  \n",
       "17                              Measurement & Testing  \n",
       "18   Biochemistry & Biotechnology; Chemical Processes  \n",
       "19                       Biochemistry & Biotechnology  \n",
       "\n",
       "[10 rows x 22 columns]"
      ]
     },
     "execution_count": 56,
     "metadata": {},
     "output_type": "execute_result"
    }
   ],
   "source": [
    "df_sample[10:20]"
   ]
  },
  {
   "cell_type": "code",
   "execution_count": 3,
   "id": "1411df84",
   "metadata": {},
   "outputs": [
    {
     "name": "stdout",
     "output_type": "stream",
     "text": [
      "row counts in df: 24901\n"
     ]
    }
   ],
   "source": [
    "df= pd.read_csv(\"C:/Users/20245580/Documents/Others/EPO2025/epo_data/Full_dataset.csv\")\n",
    "print(f\"row counts in df: {len(df)}\")"
   ]
  },
  {
   "cell_type": "markdown",
   "id": "01e1a5eb",
   "metadata": {},
   "source": [
    "## Investigating"
   ]
  },
  {
   "cell_type": "code",
   "execution_count": 4,
   "id": "44a9b340",
   "metadata": {},
   "outputs": [
    {
     "data": {
      "text/html": [
       "<div>\n",
       "<style scoped>\n",
       "    .dataframe tbody tr th:only-of-type {\n",
       "        vertical-align: middle;\n",
       "    }\n",
       "\n",
       "    .dataframe tbody tr th {\n",
       "        vertical-align: top;\n",
       "    }\n",
       "\n",
       "    .dataframe thead th {\n",
       "        text-align: right;\n",
       "    }\n",
       "</style>\n",
       "<table border=\"1\" class=\"dataframe\">\n",
       "  <thead>\n",
       "    <tr style=\"text-align: right;\">\n",
       "      <th></th>\n",
       "      <th>publication_number</th>\n",
       "      <th>publication_kind</th>\n",
       "      <th>publication_date</th>\n",
       "      <th>ipc</th>\n",
       "      <th>cpc</th>\n",
       "      <th>title_en</th>\n",
       "      <th>claims</th>\n",
       "      <th>abstract_text</th>\n",
       "      <th>description_text</th>\n",
       "      <th>prior_art</th>\n",
       "      <th>...</th>\n",
       "      <th>pct_publication_number</th>\n",
       "      <th>designated_states_contracting</th>\n",
       "      <th>designated_states_extension</th>\n",
       "      <th>designated_states_validation</th>\n",
       "      <th>applicant</th>\n",
       "      <th>inventor</th>\n",
       "      <th>sdg_number</th>\n",
       "      <th>analysis_explanation</th>\n",
       "      <th>ipc_tech_field</th>\n",
       "      <th>ipc_technologies</th>\n",
       "    </tr>\n",
       "  </thead>\n",
       "  <tbody>\n",
       "    <tr>\n",
       "      <th>0</th>\n",
       "      <td>6</td>\n",
       "      <td>B1</td>\n",
       "      <td>19810204</td>\n",
       "      <td>C02F3/04</td>\n",
       "      <td>[]</td>\n",
       "      <td>Process for nitrification of waste water</td>\n",
       "      <td>process for nitrifying oxidizable nitrogen com...</td>\n",
       "      <td>NaN</td>\n",
       "      <td>The invention relates to a process for nitrifi...</td>\n",
       "      <td>[]</td>\n",
       "      <td>...</td>\n",
       "      <td>NaN</td>\n",
       "      <td>['BE', 'DE', 'FR', 'GB', 'NL', 'SE']</td>\n",
       "      <td>[]</td>\n",
       "      <td>[]</td>\n",
       "      <td>[]</td>\n",
       "      <td>[{'name': 'Bakker, Gerhard', 'country': 'NL'},...</td>\n",
       "      <td>6</td>\n",
       "      <td>– Goal 6: The patent explicitly describes a \"p...</td>\n",
       "      <td>NaN</td>\n",
       "      <td>NaN</td>\n",
       "    </tr>\n",
       "    <tr>\n",
       "      <th>1</th>\n",
       "      <td>41</td>\n",
       "      <td>B1</td>\n",
       "      <td>19810429</td>\n",
       "      <td>A61M25/00</td>\n",
       "      <td>[]</td>\n",
       "      <td>An intravascular catheter</td>\n",
       "      <td>an intravascular catheter comprising a hub 2 h...</td>\n",
       "      <td>NaN</td>\n",
       "      <td>This invention relates to an intravascular cat...</td>\n",
       "      <td>[]</td>\n",
       "      <td>...</td>\n",
       "      <td>NaN</td>\n",
       "      <td>['BE', 'DE', 'FR', 'GB', 'SE']</td>\n",
       "      <td>[]</td>\n",
       "      <td>[]</td>\n",
       "      <td>[]</td>\n",
       "      <td>[{'name': 'Sagae, Kyuta', 'country': 'JP'}, {'...</td>\n",
       "      <td>3</td>\n",
       "      <td>– Goal 3: The patent describes \"an intravascul...</td>\n",
       "      <td>Human Necessities</td>\n",
       "      <td>Other Human Necessities</td>\n",
       "    </tr>\n",
       "    <tr>\n",
       "      <th>2</th>\n",
       "      <td>85</td>\n",
       "      <td>B1</td>\n",
       "      <td>19801029</td>\n",
       "      <td>C01B7/13, C01B17/90, C01B3/06, C01B13/02</td>\n",
       "      <td>[]</td>\n",
       "      <td>Process for the production and separation of h...</td>\n",
       "      <td>a process for the production and separation of...</td>\n",
       "      <td>NaN</td>\n",
       "      <td>This invention relates to a process for the pr...</td>\n",
       "      <td>[]</td>\n",
       "      <td>...</td>\n",
       "      <td>NaN</td>\n",
       "      <td>['BE', 'DE', 'FR', 'GB', 'LU', 'NL']</td>\n",
       "      <td>[]</td>\n",
       "      <td>[]</td>\n",
       "      <td>[]</td>\n",
       "      <td>[{'name': 'De Beni, Giancarlo', 'country': 'IT...</td>\n",
       "      <td>7</td>\n",
       "      <td>– Goal 7: The patent describes \"the use of the...</td>\n",
       "      <td>Chemistry &amp; Metallurgy</td>\n",
       "      <td>Chemical Processes</td>\n",
       "    </tr>\n",
       "    <tr>\n",
       "      <th>3</th>\n",
       "      <td>196</td>\n",
       "      <td>B1</td>\n",
       "      <td>19820421</td>\n",
       "      <td>B65D5/02</td>\n",
       "      <td>[]</td>\n",
       "      <td>A corrugated fibreboard box</td>\n",
       "      <td>a corrugated fibreboard shipping box for packi...</td>\n",
       "      <td>NaN</td>\n",
       "      <td>This invention relates to a corrugated fibrebo...</td>\n",
       "      <td>[]</td>\n",
       "      <td>...</td>\n",
       "      <td>NaN</td>\n",
       "      <td>['DE', 'FR', 'GB']</td>\n",
       "      <td>[]</td>\n",
       "      <td>[]</td>\n",
       "      <td>[]</td>\n",
       "      <td>[{'name': 'Ken Kohayakawa', 'country': 'JP'}, ...</td>\n",
       "      <td>12</td>\n",
       "      <td>– Goal 12: The patent describes a \"corrugated ...</td>\n",
       "      <td>Performing Operations &amp; Transport</td>\n",
       "      <td>Packaging &amp; Containers</td>\n",
       "    </tr>\n",
       "    <tr>\n",
       "      <th>4</th>\n",
       "      <td>197</td>\n",
       "      <td>B1</td>\n",
       "      <td>19811111</td>\n",
       "      <td>H01M10/36, H01M4/58, C01G1/12</td>\n",
       "      <td>[]</td>\n",
       "      <td>Rechargeable non-aqueous cell with a chalcogen...</td>\n",
       "      <td>a nonaqueous secondary cell, comprising a nega...</td>\n",
       "      <td>NaN</td>\n",
       "      <td>Background of the Invention1. Field of the Inv...</td>\n",
       "      <td>[]</td>\n",
       "      <td>...</td>\n",
       "      <td>NaN</td>\n",
       "      <td>['BE', 'DE', 'FR', 'GB', 'NL', 'SE']</td>\n",
       "      <td>[]</td>\n",
       "      <td>[]</td>\n",
       "      <td>[]</td>\n",
       "      <td>[{'name': 'DiSalvo, Francis Joseph', 'country'...</td>\n",
       "      <td>7</td>\n",
       "      <td>– Goal 7: The patent describes a \"nonaqueous s...</td>\n",
       "      <td>Chemistry &amp; Metallurgy; Electricity</td>\n",
       "      <td>Electrical Power; Other Chemistry &amp; Metallurgy</td>\n",
       "    </tr>\n",
       "  </tbody>\n",
       "</table>\n",
       "<p>5 rows × 22 columns</p>\n",
       "</div>"
      ],
      "text/plain": [
       "   publication_number publication_kind  publication_date  \\\n",
       "0                   6               B1          19810204   \n",
       "1                  41               B1          19810429   \n",
       "2                  85               B1          19801029   \n",
       "3                 196               B1          19820421   \n",
       "4                 197               B1          19811111   \n",
       "\n",
       "                                        ipc cpc  \\\n",
       "0                                  C02F3/04  []   \n",
       "1                                 A61M25/00  []   \n",
       "2  C01B7/13, C01B17/90, C01B3/06, C01B13/02  []   \n",
       "3                                  B65D5/02  []   \n",
       "4             H01M10/36, H01M4/58, C01G1/12  []   \n",
       "\n",
       "                                            title_en  \\\n",
       "0           Process for nitrification of waste water   \n",
       "1                          An intravascular catheter   \n",
       "2  Process for the production and separation of h...   \n",
       "3                        A corrugated fibreboard box   \n",
       "4  Rechargeable non-aqueous cell with a chalcogen...   \n",
       "\n",
       "                                              claims  abstract_text  \\\n",
       "0  process for nitrifying oxidizable nitrogen com...            NaN   \n",
       "1  an intravascular catheter comprising a hub 2 h...            NaN   \n",
       "2  a process for the production and separation of...            NaN   \n",
       "3  a corrugated fibreboard shipping box for packi...            NaN   \n",
       "4  a nonaqueous secondary cell, comprising a nega...            NaN   \n",
       "\n",
       "                                    description_text prior_art  ...  \\\n",
       "0  The invention relates to a process for nitrifi...        []  ...   \n",
       "1  This invention relates to an intravascular cat...        []  ...   \n",
       "2  This invention relates to a process for the pr...        []  ...   \n",
       "3  This invention relates to a corrugated fibrebo...        []  ...   \n",
       "4  Background of the Invention1. Field of the Inv...        []  ...   \n",
       "\n",
       "  pct_publication_number         designated_states_contracting  \\\n",
       "0                    NaN  ['BE', 'DE', 'FR', 'GB', 'NL', 'SE']   \n",
       "1                    NaN        ['BE', 'DE', 'FR', 'GB', 'SE']   \n",
       "2                    NaN  ['BE', 'DE', 'FR', 'GB', 'LU', 'NL']   \n",
       "3                    NaN                    ['DE', 'FR', 'GB']   \n",
       "4                    NaN  ['BE', 'DE', 'FR', 'GB', 'NL', 'SE']   \n",
       "\n",
       "  designated_states_extension designated_states_validation applicant  \\\n",
       "0                          []                           []        []   \n",
       "1                          []                           []        []   \n",
       "2                          []                           []        []   \n",
       "3                          []                           []        []   \n",
       "4                          []                           []        []   \n",
       "\n",
       "                                            inventor sdg_number  \\\n",
       "0  [{'name': 'Bakker, Gerhard', 'country': 'NL'},...          6   \n",
       "1  [{'name': 'Sagae, Kyuta', 'country': 'JP'}, {'...          3   \n",
       "2  [{'name': 'De Beni, Giancarlo', 'country': 'IT...          7   \n",
       "3  [{'name': 'Ken Kohayakawa', 'country': 'JP'}, ...         12   \n",
       "4  [{'name': 'DiSalvo, Francis Joseph', 'country'...          7   \n",
       "\n",
       "                                analysis_explanation  \\\n",
       "0  – Goal 6: The patent explicitly describes a \"p...   \n",
       "1  – Goal 3: The patent describes \"an intravascul...   \n",
       "2  – Goal 7: The patent describes \"the use of the...   \n",
       "3  – Goal 12: The patent describes a \"corrugated ...   \n",
       "4  – Goal 7: The patent describes a \"nonaqueous s...   \n",
       "\n",
       "                        ipc_tech_field  \\\n",
       "0                                  NaN   \n",
       "1                    Human Necessities   \n",
       "2               Chemistry & Metallurgy   \n",
       "3    Performing Operations & Transport   \n",
       "4  Chemistry & Metallurgy; Electricity   \n",
       "\n",
       "                                 ipc_technologies  \n",
       "0                                             NaN  \n",
       "1                         Other Human Necessities  \n",
       "2                              Chemical Processes  \n",
       "3                          Packaging & Containers  \n",
       "4  Electrical Power; Other Chemistry & Metallurgy  \n",
       "\n",
       "[5 rows x 22 columns]"
      ]
     },
     "execution_count": 4,
     "metadata": {},
     "output_type": "execute_result"
    }
   ],
   "source": [
    "df.head()"
   ]
  },
  {
   "cell_type": "code",
   "execution_count": 5,
   "id": "2def50f2",
   "metadata": {},
   "outputs": [
    {
     "data": {
      "text/plain": [
       "True"
      ]
     },
     "execution_count": 5,
     "metadata": {},
     "output_type": "execute_result"
    }
   ],
   "source": [
    "df[\"publication_number\"].is_unique"
   ]
  },
  {
   "cell_type": "markdown",
   "id": "efac0d02",
   "metadata": {},
   "source": [
    "# Processing with Huggingface dataset"
   ]
  },
  {
   "cell_type": "code",
   "execution_count": 7,
   "id": "bc3d6511",
   "metadata": {},
   "outputs": [
    {
     "data": {
      "text/plain": [
       "Dataset({\n",
       "    features: ['publication_number', 'publication_kind', 'publication_date', 'ipc', 'cpc', 'title_en', 'claims', 'abstract_text', 'description_text', 'prior_art', 'reference', 'parent', 'pct_publication_number', 'designated_states_contracting', 'designated_states_extension', 'designated_states_validation', 'applicant', 'inventor', 'sdg_number', 'analysis_explanation', 'ipc_tech_field', 'ipc_technologies'],\n",
       "    num_rows: 24901\n",
       "})"
      ]
     },
     "execution_count": 7,
     "metadata": {},
     "output_type": "execute_result"
    }
   ],
   "source": [
    "dataset = Dataset.from_pandas(df)\n",
    "dataset"
   ]
  },
  {
   "cell_type": "markdown",
   "id": "101c5192",
   "metadata": {},
   "source": [
    "## create different `table` database for `sqlite`"
   ]
  },
  {
   "cell_type": "markdown",
   "id": "2d99c4db",
   "metadata": {},
   "source": [
    "### `main` table"
   ]
  },
  {
   "cell_type": "code",
   "execution_count": 8,
   "id": "75010da2",
   "metadata": {},
   "outputs": [
    {
     "data": {
      "text/plain": [
       "Dataset({\n",
       "    features: ['publication_number', 'title_en', 'claims', 'inventor'],\n",
       "    num_rows: 24901\n",
       "})"
      ]
     },
     "execution_count": 8,
     "metadata": {},
     "output_type": "execute_result"
    }
   ],
   "source": [
    "# remove column => table `main`\n",
    "columns = dataset.column_names\n",
    "columns_to_keep = ['publication_number', 'title_en', 'claims', 'inventor']\n",
    "columns_to_remove = set(columns_to_keep).symmetric_difference(columns)\n",
    "dataset_main = dataset.remove_columns(columns_to_remove)\n",
    "dataset_main"
   ]
  },
  {
   "cell_type": "markdown",
   "id": "3d947780",
   "metadata": {},
   "source": [
    "### `sdg_pub` table"
   ]
  },
  {
   "cell_type": "code",
   "execution_count": 41,
   "id": "9685c883",
   "metadata": {},
   "outputs": [
    {
     "data": {
      "text/plain": [
       "Dataset({\n",
       "    features: ['publication_number', 'sdg_number'],\n",
       "    num_rows: 24901\n",
       "})"
      ]
     },
     "execution_count": 41,
     "metadata": {},
     "output_type": "execute_result"
    }
   ],
   "source": [
    "# remove column => table `sdg_pub`\n",
    "columns = dataset.column_names\n",
    "columns_to_keep = ['publication_number', 'sdg_number']\n",
    "columns_to_remove = set(columns_to_keep).symmetric_difference(columns)\n",
    "dataset_sdg_pub = dataset.remove_columns(columns_to_remove)\n",
    "dataset_sdg_pub"
   ]
  },
  {
   "cell_type": "markdown",
   "id": "58f6e74a",
   "metadata": {},
   "source": [
    "### `ipc_pub` table"
   ]
  },
  {
   "cell_type": "code",
   "execution_count": 10,
   "id": "c875466a",
   "metadata": {},
   "outputs": [
    {
     "data": {
      "text/plain": [
       "Dataset({\n",
       "    features: ['publication_number', 'ipc'],\n",
       "    num_rows: 24901\n",
       "})"
      ]
     },
     "execution_count": 10,
     "metadata": {},
     "output_type": "execute_result"
    }
   ],
   "source": [
    "columns = dataset.column_names\n",
    "columns_to_keep = ['publication_number', 'ipc']\n",
    "columns_to_remove = set(columns_to_keep).symmetric_difference(columns)\n",
    "dataset_ipc_pub = dataset.remove_columns(columns_to_remove)\n",
    "dataset_ipc_pub"
   ]
  },
  {
   "cell_type": "markdown",
   "id": "5523a05c",
   "metadata": {},
   "source": [
    "# Processing the `sdg_pub` table"
   ]
  },
  {
   "cell_type": "code",
   "execution_count": 33,
   "id": "efba9f69",
   "metadata": {},
   "outputs": [
    {
     "data": {
      "text/plain": [
       "{'publication_number': 1707059, 'sdg_number': '2,3'}"
      ]
     },
     "execution_count": 33,
     "metadata": {},
     "output_type": "execute_result"
    }
   ],
   "source": [
    "dataset_sdg_pub[789]"
   ]
  },
  {
   "cell_type": "code",
   "execution_count": 42,
   "id": "1986508b",
   "metadata": {},
   "outputs": [
    {
     "name": "stderr",
     "output_type": "stream",
     "text": [
      "Map: 100%|██████████| 24901/24901 [00:00<00:00, 27179.63 examples/s]\n"
     ]
    }
   ],
   "source": [
    "dataset_sdg_pub_mod = dataset_sdg_pub.map(\n",
    "    lambda x: {\"sdg_number\": x[\"sdg_number\"].split(\",\")}\n",
    ")"
   ]
  },
  {
   "cell_type": "code",
   "execution_count": 52,
   "id": "e09eb3c9",
   "metadata": {},
   "outputs": [
    {
     "data": {
      "text/plain": [
       "{'publication_number': 1707059, 'sdg_number': ['2', '3']}"
      ]
     },
     "execution_count": 52,
     "metadata": {},
     "output_type": "execute_result"
    }
   ],
   "source": [
    "dataset_sdg_pub_mod[789]"
   ]
  },
  {
   "cell_type": "code",
   "execution_count": 58,
   "id": "61107204",
   "metadata": {},
   "outputs": [],
   "source": [
    "# convert to pandas to explode, and convert back to dataset\n",
    "dataset_sdg_pub_mod.set_format(\"pandas\")\n",
    "dataset_sdg_pub_mod = dataset_sdg_pub_mod[:] # convert to dataframe\n",
    "dataset_sdg_pub_mod= dataset_sdg_pub_mod.explode(\"sdg_number\", ignore_index=True) # explode\n",
    "dataset_sdg_pub_mod =  Dataset.from_pandas(dataset_sdg_pub_mod)"
   ]
  },
  {
   "cell_type": "code",
   "execution_count": 64,
   "id": "8cd15247",
   "metadata": {},
   "outputs": [
    {
     "data": {
      "text/plain": [
       "{'publication_number': [6, 41, 85, 196, 197, 238, 251, 251, 270, 270],\n",
       " 'sdg_number': ['6', '3', '7', '12', '7', '7', '7', '12', '9', '12']}"
      ]
     },
     "execution_count": 64,
     "metadata": {},
     "output_type": "execute_result"
    }
   ],
   "source": [
    "dataset_sdg_pub_mod[:10]"
   ]
  },
  {
   "cell_type": "markdown",
   "id": "0ce3f34f",
   "metadata": {},
   "source": [
    "## Save to json file"
   ]
  },
  {
   "cell_type": "code",
   "execution_count": 65,
   "id": "458bd08a",
   "metadata": {},
   "outputs": [],
   "source": [
    "sdg_json_db_path = 'C:/Users/20245580/Documents/Others/EPO2025/epo_data/processed_to_json/sdg_pub.json'"
   ]
  },
  {
   "cell_type": "code",
   "execution_count": 66,
   "id": "07c5479b",
   "metadata": {},
   "outputs": [],
   "source": [
    "test = dataset_sdg_pub_mod.to_list()"
   ]
  },
  {
   "cell_type": "code",
   "execution_count": 67,
   "id": "00a27a71",
   "metadata": {},
   "outputs": [
    {
     "name": "stdout",
     "output_type": "stream",
     "text": [
      "27053 <class 'dict'>\n"
     ]
    }
   ],
   "source": [
    "print(\n",
    "    len(test),\n",
    "    type(test[0])\n",
    "    )"
   ]
  },
  {
   "cell_type": "code",
   "execution_count": 68,
   "id": "1cc27c8c",
   "metadata": {},
   "outputs": [],
   "source": [
    "# Save to json file\n",
    "with open(sdg_json_db_path, 'w') as file:\n",
    "    json.dump(test, file)"
   ]
  },
  {
   "cell_type": "code",
   "execution_count": 69,
   "id": "65fc487c",
   "metadata": {},
   "outputs": [],
   "source": [
    "# Load from json file\n",
    "with open(sdg_json_db_path, 'r') as file:\n",
    "    load_data = json.load(file)"
   ]
  },
  {
   "cell_type": "code",
   "execution_count": 71,
   "id": "c4e7a4d5",
   "metadata": {},
   "outputs": [
    {
     "name": "stdout",
     "output_type": "stream",
     "text": [
      "27053 <class 'dict'> 3 41\n"
     ]
    }
   ],
   "source": [
    "print(\n",
    "    len(load_data),\n",
    "    type(load_data[0]),\n",
    "    load_data[1]['sdg_number'], \n",
    "    load_data[1]['publication_number']\n",
    "    )"
   ]
  },
  {
   "cell_type": "markdown",
   "id": "f195b1a2",
   "metadata": {},
   "source": [
    "# Processing the `ipc_pub` table"
   ]
  },
  {
   "cell_type": "code",
   "execution_count": 72,
   "id": "a9d57838",
   "metadata": {},
   "outputs": [
    {
     "data": {
      "text/plain": [
       "{'publication_number': 1707059, 'ipc': 'A23K1/16, A23K1/18'}"
      ]
     },
     "execution_count": 72,
     "metadata": {},
     "output_type": "execute_result"
    }
   ],
   "source": [
    "dataset_ipc_pub[789]"
   ]
  },
  {
   "cell_type": "code",
   "execution_count": 78,
   "id": "adfee271",
   "metadata": {},
   "outputs": [
    {
     "name": "stderr",
     "output_type": "stream",
     "text": [
      "Map: 100%|██████████| 24901/24901 [00:00<00:00, 28370.98 examples/s]\n"
     ]
    }
   ],
   "source": [
    "dataset_ipc_pub_mod = dataset_ipc_pub.map(\n",
    "    lambda x: {\"ipc\": x[\"ipc\"].split(\",\")}\n",
    ")"
   ]
  },
  {
   "cell_type": "code",
   "execution_count": 79,
   "id": "e6dcfb7e",
   "metadata": {},
   "outputs": [
    {
     "data": {
      "text/plain": [
       "{'publication_number': 1707059, 'ipc': ['A23K1/16', ' A23K1/18']}"
      ]
     },
     "execution_count": 79,
     "metadata": {},
     "output_type": "execute_result"
    }
   ],
   "source": [
    "dataset_ipc_pub_mod[789]"
   ]
  },
  {
   "cell_type": "code",
   "execution_count": 80,
   "id": "1d16320f",
   "metadata": {},
   "outputs": [],
   "source": [
    "# convert to pandas to explode, and convert back to dataset\n",
    "dataset_ipc_pub_mod.set_format(\"pandas\")\n",
    "dataset_ipc_pub_mod = dataset_ipc_pub_mod[:] # convert to dataframe\n",
    "dataset_ipc_pub_mod= dataset_ipc_pub_mod.explode(\"ipc\", ignore_index=True) # explode\n",
    "dataset_ipc_pub_mod =  Dataset.from_pandas(dataset_ipc_pub_mod)"
   ]
  },
  {
   "cell_type": "code",
   "execution_count": 81,
   "id": "d5bdb0cd",
   "metadata": {},
   "outputs": [
    {
     "data": {
      "text/plain": [
       "{'publication_number': [6, 41, 85, 85, 85, 85, 196, 197, 197, 197],\n",
       " 'ipc': ['C02F3/04',\n",
       "  'A61M25/00',\n",
       "  'C01B7/13',\n",
       "  ' C01B17/90',\n",
       "  ' C01B3/06',\n",
       "  ' C01B13/02',\n",
       "  'B65D5/02',\n",
       "  'H01M10/36',\n",
       "  ' H01M4/58',\n",
       "  ' C01G1/12']}"
      ]
     },
     "execution_count": 81,
     "metadata": {},
     "output_type": "execute_result"
    }
   ],
   "source": [
    "dataset_ipc_pub_mod[0:10]"
   ]
  },
  {
   "cell_type": "markdown",
   "id": "adcd83cd",
   "metadata": {},
   "source": [
    "## Save to json file"
   ]
  },
  {
   "cell_type": "code",
   "execution_count": 82,
   "id": "ea92a6dc",
   "metadata": {},
   "outputs": [],
   "source": [
    "ipc_json_db_path = 'C:/Users/20245580/Documents/Others/EPO2025/epo_data/processed_to_json/ipc_pub.json'"
   ]
  },
  {
   "cell_type": "code",
   "execution_count": 83,
   "id": "7172a0a6",
   "metadata": {},
   "outputs": [],
   "source": [
    "test = dataset_ipc_pub_mod.to_list()\n",
    "# Save to json file\n",
    "with open(ipc_json_db_path, 'w') as file:\n",
    "    json.dump(test, file)"
   ]
  },
  {
   "cell_type": "code",
   "execution_count": 84,
   "id": "a99f0cd4",
   "metadata": {},
   "outputs": [],
   "source": [
    "# Load from json file\n",
    "with open(ipc_json_db_path, 'r') as file:\n",
    "    load_data = json.load(file)"
   ]
  },
  {
   "cell_type": "code",
   "execution_count": 85,
   "id": "9d9e4fe7",
   "metadata": {},
   "outputs": [
    {
     "name": "stdout",
     "output_type": "stream",
     "text": [
      "90660 <class 'dict'> A61M25/00 41\n"
     ]
    }
   ],
   "source": [
    "print(\n",
    "    len(load_data),\n",
    "    type(load_data[0]),\n",
    "    load_data[1]['ipc'], \n",
    "    load_data[1]['publication_number']\n",
    "    )"
   ]
  },
  {
   "cell_type": "markdown",
   "id": "b3d99f7c",
   "metadata": {},
   "source": [
    "# Processing the `main` table"
   ]
  },
  {
   "cell_type": "code",
   "execution_count": null,
   "id": "3a2c8e0c",
   "metadata": {},
   "outputs": [],
   "source": []
  }
 ],
 "metadata": {
  "kernelspec": {
   "display_name": "workspace_1",
   "language": "python",
   "name": "python3"
  },
  "language_info": {
   "codemirror_mode": {
    "name": "ipython",
    "version": 3
   },
   "file_extension": ".py",
   "mimetype": "text/x-python",
   "name": "python",
   "nbconvert_exporter": "python",
   "pygments_lexer": "ipython3",
   "version": "3.12.9"
  }
 },
 "nbformat": 4,
 "nbformat_minor": 5
}
