{
 "cells": [
  {
   "cell_type": "markdown",
   "id": "2a79f71b",
   "metadata": {},
   "source": [
    "# Envs"
   ]
  },
  {
   "cell_type": "code",
   "execution_count": 1,
   "id": "63568368",
   "metadata": {},
   "outputs": [],
   "source": [
    "import os\n",
    "os.environ[\"KMP_DUPLICATE_LIB_OK\"]=\"TRUE\""
   ]
  },
  {
   "cell_type": "code",
   "execution_count": 2,
   "id": "e7313025",
   "metadata": {},
   "outputs": [
    {
     "name": "stderr",
     "output_type": "stream",
     "text": [
      "c:\\Users\\20245580\\AppData\\Local\\anaconda3\\envs\\workspace_1\\Lib\\site-packages\\tqdm\\auto.py:21: TqdmWarning: IProgress not found. Please update jupyter and ipywidgets. See https://ipywidgets.readthedocs.io/en/stable/user_install.html\n",
      "  from .autonotebook import tqdm as notebook_tqdm\n"
     ]
    }
   ],
   "source": [
    "import pandas as pd\n",
    "import json\n",
    "# convert panda data frame to dataset\n",
    "from datasets import Dataset"
   ]
  },
  {
   "cell_type": "markdown",
   "id": "3f43b241",
   "metadata": {},
   "source": [
    "# Import data for processing"
   ]
  },
  {
   "cell_type": "code",
   "execution_count": 53,
   "id": "74a8b13e",
   "metadata": {},
   "outputs": [
    {
     "name": "stdout",
     "output_type": "stream",
     "text": [
      "row counts in df: 237\n"
     ]
    }
   ],
   "source": [
    "df_sample= pd.read_csv(\"C:/Users/20245580/Documents/Others/EPO2025/epo_data/sample_dataset.csv\")\n",
    "print(f\"row counts in df: {len(df_sample)}\")"
   ]
  },
  {
   "cell_type": "code",
   "execution_count": 56,
   "id": "a18e4fe5",
   "metadata": {},
   "outputs": [
    {
     "data": {
      "text/html": [
       "<div>\n",
       "<style scoped>\n",
       "    .dataframe tbody tr th:only-of-type {\n",
       "        vertical-align: middle;\n",
       "    }\n",
       "\n",
       "    .dataframe tbody tr th {\n",
       "        vertical-align: top;\n",
       "    }\n",
       "\n",
       "    .dataframe thead th {\n",
       "        text-align: right;\n",
       "    }\n",
       "</style>\n",
       "<table border=\"1\" class=\"dataframe\">\n",
       "  <thead>\n",
       "    <tr style=\"text-align: right;\">\n",
       "      <th></th>\n",
       "      <th>publication_number</th>\n",
       "      <th>publication_kind</th>\n",
       "      <th>publication_date</th>\n",
       "      <th>ipc</th>\n",
       "      <th>cpc</th>\n",
       "      <th>title_en</th>\n",
       "      <th>claims</th>\n",
       "      <th>abstract_text</th>\n",
       "      <th>description_text</th>\n",
       "      <th>prior_art</th>\n",
       "      <th>...</th>\n",
       "      <th>pct_publication_number</th>\n",
       "      <th>designated_states_contracting</th>\n",
       "      <th>designated_states_extension</th>\n",
       "      <th>designated_states_validation</th>\n",
       "      <th>applicant</th>\n",
       "      <th>inventor</th>\n",
       "      <th>sdg_number</th>\n",
       "      <th>analysis_explanation</th>\n",
       "      <th>ipc_tech_field</th>\n",
       "      <th>ipc_technologies</th>\n",
       "    </tr>\n",
       "  </thead>\n",
       "  <tbody>\n",
       "    <tr>\n",
       "      <th>10</th>\n",
       "      <td>3316253</td>\n",
       "      <td>B1</td>\n",
       "      <td>20200812</td>\n",
       "      <td>G10L13/02, G10L25/84, H04R25/00, A42B3/30, H04...</td>\n",
       "      <td>[]</td>\n",
       "      <td>SPEECH SYNTHESIS DEVICE, SPEECH SYNTHESIS METH...</td>\n",
       "      <td>a voice synthesis device comprisinga plurality...</td>\n",
       "      <td>NaN</td>\n",
       "      <td>This application claims the benefit and priori...</td>\n",
       "      <td>[{'is_patent': True}, {'is_patent': True}, {'i...</td>\n",
       "      <td>...</td>\n",
       "      <td>WO2016206285</td>\n",
       "      <td>['AL', 'AT', 'BE', 'BG', 'CH', 'CY', 'CZ', 'DE...</td>\n",
       "      <td>[]</td>\n",
       "      <td>[]</td>\n",
       "      <td>[{'name': 'BOE Technology Group Co., Ltd.', 'c...</td>\n",
       "      <td>[{'name': 'LIANG, Xuan', 'country': 'CN'}]</td>\n",
       "      <td>3</td>\n",
       "      <td>– Goal 3: The patent describes a \"hearing aid\"...</td>\n",
       "      <td>Electricity; Human Necessities; Physics</td>\n",
       "      <td>Audio/Video Technology; Clothing &amp; Apparel; Me...</td>\n",
       "    </tr>\n",
       "    <tr>\n",
       "      <th>11</th>\n",
       "      <td>3316950</td>\n",
       "      <td>B1</td>\n",
       "      <td>20200805</td>\n",
       "      <td>A61M16/06, A61M16/14</td>\n",
       "      <td>[]</td>\n",
       "      <td>NASAL CANNULA FOR CONTINUOUS AND SIMULTANEOUS ...</td>\n",
       "      <td>a nasal cannula 100 for delivering humidified ...</td>\n",
       "      <td>NaN</td>\n",
       "      <td>BackgroundPatients with respiratory ailments m...</td>\n",
       "      <td>[{'is_patent': True}, {'is_patent': True}, {'i...</td>\n",
       "      <td>...</td>\n",
       "      <td>WO2017004404</td>\n",
       "      <td>['AL', 'AT', 'BE', 'BG', 'CH', 'CY', 'CZ', 'DE...</td>\n",
       "      <td>[]</td>\n",
       "      <td>[]</td>\n",
       "      <td>[{'name': 'Vapotherm, Inc.', 'country': 'US'}]</td>\n",
       "      <td>[{'name': 'CORTEZ, Felino, V., Jr.', 'country'...</td>\n",
       "      <td>3</td>\n",
       "      <td>– Goal 3: The patent describes a \"nasal cannul...</td>\n",
       "      <td>Human Necessities</td>\n",
       "      <td>Other Human Necessities</td>\n",
       "    </tr>\n",
       "    <tr>\n",
       "      <th>12</th>\n",
       "      <td>3320019</td>\n",
       "      <td>B1</td>\n",
       "      <td>20200812</td>\n",
       "      <td>C08G63/88, C08J9/14, C08J9/20</td>\n",
       "      <td>[]</td>\n",
       "      <td>PROCESS FOR PREPARING POLY(GLYCOLIDE-CO-LACTID...</td>\n",
       "      <td>process for preparing polylactidecoglycolide c...</td>\n",
       "      <td>NaN</td>\n",
       "      <td>Field of the inventionThe invention is concern...</td>\n",
       "      <td>[{'is_patent': False}]</td>\n",
       "      <td>...</td>\n",
       "      <td>WO2017005483</td>\n",
       "      <td>['AL', 'AT', 'BE', 'BG', 'CH', 'CY', 'CZ', 'DE...</td>\n",
       "      <td>[]</td>\n",
       "      <td>[]</td>\n",
       "      <td>[{'name': 'Evonik Operations GmbH', 'country':...</td>\n",
       "      <td>[{'name': 'KIRCHNER, Andreas', 'country': 'DE'...</td>\n",
       "      <td>3</td>\n",
       "      <td>– Goal 3: The patent describes a process for p...</td>\n",
       "      <td>Chemistry &amp; Metallurgy</td>\n",
       "      <td>Chemical Processes</td>\n",
       "    </tr>\n",
       "    <tr>\n",
       "      <th>13</th>\n",
       "      <td>3320928</td>\n",
       "      <td>B1</td>\n",
       "      <td>20200826</td>\n",
       "      <td>A61M5/168, A61M5/148, A61M5/14, A61M5/142, A61...</td>\n",
       "      <td>[]</td>\n",
       "      <td>DRUG INJECTION DEVICE</td>\n",
       "      <td>a medicine infusing apparatus comprisinga cove...</td>\n",
       "      <td>NaN</td>\n",
       "      <td>Technical FieldThe present invention relates t...</td>\n",
       "      <td>[{'is_patent': True}, {'is_patent': True}, {'i...</td>\n",
       "      <td>...</td>\n",
       "      <td>WO2017007125</td>\n",
       "      <td>['AL', 'AT', 'BE', 'BG', 'CH', 'CY', 'CZ', 'DE...</td>\n",
       "      <td>[]</td>\n",
       "      <td>[]</td>\n",
       "      <td>[{'name': 'Cebika Inc.', 'country': 'KR'}]</td>\n",
       "      <td>[{'name': 'CHO, Byoung Chic', 'country': 'KR'}]</td>\n",
       "      <td>3</td>\n",
       "      <td>– Goal 3: The patent describes a \"medicine inf...</td>\n",
       "      <td>Human Necessities</td>\n",
       "      <td>Other Human Necessities</td>\n",
       "    </tr>\n",
       "    <tr>\n",
       "      <th>14</th>\n",
       "      <td>3320941</td>\n",
       "      <td>B1</td>\n",
       "      <td>20200805</td>\n",
       "      <td>A61M16/06, A61M16/08</td>\n",
       "      <td>[]</td>\n",
       "      <td>ARTIFICIAL RESPIRATION SYSTEM</td>\n",
       "      <td>an artificial respiration system 100, comprisi...</td>\n",
       "      <td>NaN</td>\n",
       "      <td>TECHNICAL FIELDThe present invention relates t...</td>\n",
       "      <td>[{'is_patent': True}, {'is_patent': True}, {'i...</td>\n",
       "      <td>...</td>\n",
       "      <td>NaN</td>\n",
       "      <td>['AL', 'AT', 'BE', 'BG', 'CH', 'CY', 'CZ', 'DE...</td>\n",
       "      <td>[]</td>\n",
       "      <td>[]</td>\n",
       "      <td>[{'name': 'Intersurgical S.P.A.', 'country': '...</td>\n",
       "      <td>[{'name': 'NAVALESI, Paolo', 'country': 'IT'},...</td>\n",
       "      <td>3</td>\n",
       "      <td>– Goal 3: The patent describes an \"artificial ...</td>\n",
       "      <td>Human Necessities</td>\n",
       "      <td>Other Human Necessities</td>\n",
       "    </tr>\n",
       "    <tr>\n",
       "      <th>15</th>\n",
       "      <td>3324171</td>\n",
       "      <td>B1</td>\n",
       "      <td>20200805</td>\n",
       "      <td>B01L9/00, G01N1/30, G01N1/31, G01N1/36, G01N35/00</td>\n",
       "      <td>[]</td>\n",
       "      <td>AUTOMATED HIGH VOLUME SLIDE PROCESSING METHOD</td>\n",
       "      <td>an automated method for processing a plurality...</td>\n",
       "      <td>NaN</td>\n",
       "      <td>Background of the Invention1. FieldThe present...</td>\n",
       "      <td>[{'is_patent': True}, {'is_patent': True}, {'i...</td>\n",
       "      <td>...</td>\n",
       "      <td>NaN</td>\n",
       "      <td>['AT', 'BE', 'BG', 'CH', 'CY', 'CZ', 'DE', 'DK...</td>\n",
       "      <td>[]</td>\n",
       "      <td>[]</td>\n",
       "      <td>[{'name': 'Ventana Medical Systems, Inc.', 'co...</td>\n",
       "      <td>[{'name': 'Griebel, Rick', 'country': 'US'}, {...</td>\n",
       "      <td>3</td>\n",
       "      <td>– Goal 3: The patent describes an automated me...</td>\n",
       "      <td>Performing Operations &amp; Transport; Physics</td>\n",
       "      <td>Measurement &amp; Testing; Mechanical Tools &amp; Equi...</td>\n",
       "    </tr>\n",
       "    <tr>\n",
       "      <th>16</th>\n",
       "      <td>3324744</td>\n",
       "      <td>B1</td>\n",
       "      <td>20200812</td>\n",
       "      <td>A01N57/12, A01N25/30, A01N25/04, A01N59/26, A0...</td>\n",
       "      <td>[]</td>\n",
       "      <td>NOVEL FORMULATIONS COMPRISING PHOSPHITE</td>\n",
       "      <td>an aqueous suspension comprising a solubilized...</td>\n",
       "      <td>NaN</td>\n",
       "      <td>Field:The invention relates to novel aqueous s...</td>\n",
       "      <td>[{'is_patent': True}, {'is_patent': True}, {'i...</td>\n",
       "      <td>...</td>\n",
       "      <td>WO2017014633</td>\n",
       "      <td>['AL', 'AT', 'BE', 'BG', 'CH', 'CY', 'CZ', 'DE...</td>\n",
       "      <td>[]</td>\n",
       "      <td>[]</td>\n",
       "      <td>[{'name': 'Ceradis B.V.', 'country': 'NL'}]</td>\n",
       "      <td>[{'name': 'VAN DER KRIEKEN, Wilhelmus Maria', ...</td>\n",
       "      <td>2</td>\n",
       "      <td>– Goal 2: The patent describes \"a method of fe...</td>\n",
       "      <td>Human Necessities</td>\n",
       "      <td>Agriculture &amp; Forestry; Food &amp; Beverage Proces...</td>\n",
       "    </tr>\n",
       "    <tr>\n",
       "      <th>17</th>\n",
       "      <td>3325972</td>\n",
       "      <td>B1</td>\n",
       "      <td>20200819</td>\n",
       "      <td>G01N33/574</td>\n",
       "      <td>[]</td>\n",
       "      <td>BIOMARKER COMBINATIONS FOR PROSTATE DISEASE</td>\n",
       "      <td>a method for determining whether a subject has...</td>\n",
       "      <td>NaN</td>\n",
       "      <td>Technical FieldThe present invention relates g...</td>\n",
       "      <td>[{'is_patent': False}, {'is_patent': False}, {...</td>\n",
       "      <td>...</td>\n",
       "      <td>WO2017011855</td>\n",
       "      <td>['AL', 'AT', 'BE', 'BG', 'CH', 'CY', 'CZ', 'DE...</td>\n",
       "      <td>[]</td>\n",
       "      <td>[]</td>\n",
       "      <td>[{'name': 'Minomic International Ltd.', 'count...</td>\n",
       "      <td>[{'name': 'WALSH, Bradley', 'country': 'AU'}, ...</td>\n",
       "      <td>3</td>\n",
       "      <td>– Goal 3: The patent directly addresses health...</td>\n",
       "      <td>Physics</td>\n",
       "      <td>Measurement &amp; Testing</td>\n",
       "    </tr>\n",
       "    <tr>\n",
       "      <th>18</th>\n",
       "      <td>3327120</td>\n",
       "      <td>B1</td>\n",
       "      <td>20200826</td>\n",
       "      <td>C12N15/09, C12N1/19, C12P7/64, C12P19/44</td>\n",
       "      <td>[]</td>\n",
       "      <td>SOPHOROLIPID HIGHLY-PRODUCTIVE MUTANT STRAIN</td>\n",
       "      <td>a sophorolipidproducing yeast mutant strain of...</td>\n",
       "      <td>NaN</td>\n",
       "      <td>Field of the InventionThe present disclosure r...</td>\n",
       "      <td>[{'is_patent': True}, {'is_patent': True}, {'i...</td>\n",
       "      <td>...</td>\n",
       "      <td>WO2017014175</td>\n",
       "      <td>['AL', 'AT', 'BE', 'BG', 'CH', 'CY', 'CZ', 'DE...</td>\n",
       "      <td>[]</td>\n",
       "      <td>[]</td>\n",
       "      <td>[{'name': 'Kao Corporation', 'country': 'JP'}]</td>\n",
       "      <td>[{'name': 'ICHIHARA, Takahiro', 'country': 'JP...</td>\n",
       "      <td>12</td>\n",
       "      <td>– Goal 12: The patent describes a \"sophorolipi...</td>\n",
       "      <td>Chemistry &amp; Metallurgy</td>\n",
       "      <td>Biochemistry &amp; Biotechnology; Chemical Processes</td>\n",
       "    </tr>\n",
       "    <tr>\n",
       "      <th>19</th>\n",
       "      <td>3327125</td>\n",
       "      <td>B1</td>\n",
       "      <td>20200805</td>\n",
       "      <td>C12N15/113</td>\n",
       "      <td>[]</td>\n",
       "      <td>RNA INTERFERENCE MEDIATED INHIBITION OF GENE E...</td>\n",
       "      <td>a doublestranded short interfering nucleic aci...</td>\n",
       "      <td>NaN</td>\n",
       "      <td>The present invention relates to double-strand...</td>\n",
       "      <td>[{'is_patent': True}, {'is_patent': True}, {'i...</td>\n",
       "      <td>...</td>\n",
       "      <td>NaN</td>\n",
       "      <td>['AL', 'AT', 'BE', 'BG', 'CH', 'CY', 'CZ', 'DE...</td>\n",
       "      <td>[]</td>\n",
       "      <td>[]</td>\n",
       "      <td>[{'name': 'Sirna Therapeutics, Inc.', 'country...</td>\n",
       "      <td>[{'name': 'Cancilla, Mark', 'country': 'US'}, ...</td>\n",
       "      <td>3</td>\n",
       "      <td>– Goal 3: The patent describes a \"doublestrand...</td>\n",
       "      <td>Chemistry &amp; Metallurgy</td>\n",
       "      <td>Biochemistry &amp; Biotechnology</td>\n",
       "    </tr>\n",
       "  </tbody>\n",
       "</table>\n",
       "<p>10 rows × 22 columns</p>\n",
       "</div>"
      ],
      "text/plain": [
       "    publication_number publication_kind  publication_date  \\\n",
       "10             3316253               B1          20200812   \n",
       "11             3316950               B1          20200805   \n",
       "12             3320019               B1          20200812   \n",
       "13             3320928               B1          20200826   \n",
       "14             3320941               B1          20200805   \n",
       "15             3324171               B1          20200805   \n",
       "16             3324744               B1          20200812   \n",
       "17             3325972               B1          20200819   \n",
       "18             3327120               B1          20200826   \n",
       "19             3327125               B1          20200805   \n",
       "\n",
       "                                                  ipc cpc  \\\n",
       "10  G10L13/02, G10L25/84, H04R25/00, A42B3/30, H04...  []   \n",
       "11                               A61M16/06, A61M16/14  []   \n",
       "12                      C08G63/88, C08J9/14, C08J9/20  []   \n",
       "13  A61M5/168, A61M5/148, A61M5/14, A61M5/142, A61...  []   \n",
       "14                               A61M16/06, A61M16/08  []   \n",
       "15  B01L9/00, G01N1/30, G01N1/31, G01N1/36, G01N35/00  []   \n",
       "16  A01N57/12, A01N25/30, A01N25/04, A01N59/26, A0...  []   \n",
       "17                                         G01N33/574  []   \n",
       "18           C12N15/09, C12N1/19, C12P7/64, C12P19/44  []   \n",
       "19                                         C12N15/113  []   \n",
       "\n",
       "                                             title_en  \\\n",
       "10  SPEECH SYNTHESIS DEVICE, SPEECH SYNTHESIS METH...   \n",
       "11  NASAL CANNULA FOR CONTINUOUS AND SIMULTANEOUS ...   \n",
       "12  PROCESS FOR PREPARING POLY(GLYCOLIDE-CO-LACTID...   \n",
       "13                              DRUG INJECTION DEVICE   \n",
       "14                      ARTIFICIAL RESPIRATION SYSTEM   \n",
       "15      AUTOMATED HIGH VOLUME SLIDE PROCESSING METHOD   \n",
       "16            NOVEL FORMULATIONS COMPRISING PHOSPHITE   \n",
       "17        BIOMARKER COMBINATIONS FOR PROSTATE DISEASE   \n",
       "18       SOPHOROLIPID HIGHLY-PRODUCTIVE MUTANT STRAIN   \n",
       "19  RNA INTERFERENCE MEDIATED INHIBITION OF GENE E...   \n",
       "\n",
       "                                               claims  abstract_text  \\\n",
       "10  a voice synthesis device comprisinga plurality...            NaN   \n",
       "11  a nasal cannula 100 for delivering humidified ...            NaN   \n",
       "12  process for preparing polylactidecoglycolide c...            NaN   \n",
       "13  a medicine infusing apparatus comprisinga cove...            NaN   \n",
       "14  an artificial respiration system 100, comprisi...            NaN   \n",
       "15  an automated method for processing a plurality...            NaN   \n",
       "16  an aqueous suspension comprising a solubilized...            NaN   \n",
       "17  a method for determining whether a subject has...            NaN   \n",
       "18  a sophorolipidproducing yeast mutant strain of...            NaN   \n",
       "19  a doublestranded short interfering nucleic aci...            NaN   \n",
       "\n",
       "                                     description_text  \\\n",
       "10  This application claims the benefit and priori...   \n",
       "11  BackgroundPatients with respiratory ailments m...   \n",
       "12  Field of the inventionThe invention is concern...   \n",
       "13  Technical FieldThe present invention relates t...   \n",
       "14  TECHNICAL FIELDThe present invention relates t...   \n",
       "15  Background of the Invention1. FieldThe present...   \n",
       "16  Field:The invention relates to novel aqueous s...   \n",
       "17  Technical FieldThe present invention relates g...   \n",
       "18  Field of the InventionThe present disclosure r...   \n",
       "19  The present invention relates to double-strand...   \n",
       "\n",
       "                                            prior_art  ...  \\\n",
       "10  [{'is_patent': True}, {'is_patent': True}, {'i...  ...   \n",
       "11  [{'is_patent': True}, {'is_patent': True}, {'i...  ...   \n",
       "12                             [{'is_patent': False}]  ...   \n",
       "13  [{'is_patent': True}, {'is_patent': True}, {'i...  ...   \n",
       "14  [{'is_patent': True}, {'is_patent': True}, {'i...  ...   \n",
       "15  [{'is_patent': True}, {'is_patent': True}, {'i...  ...   \n",
       "16  [{'is_patent': True}, {'is_patent': True}, {'i...  ...   \n",
       "17  [{'is_patent': False}, {'is_patent': False}, {...  ...   \n",
       "18  [{'is_patent': True}, {'is_patent': True}, {'i...  ...   \n",
       "19  [{'is_patent': True}, {'is_patent': True}, {'i...  ...   \n",
       "\n",
       "   pct_publication_number                      designated_states_contracting  \\\n",
       "10           WO2016206285  ['AL', 'AT', 'BE', 'BG', 'CH', 'CY', 'CZ', 'DE...   \n",
       "11           WO2017004404  ['AL', 'AT', 'BE', 'BG', 'CH', 'CY', 'CZ', 'DE...   \n",
       "12           WO2017005483  ['AL', 'AT', 'BE', 'BG', 'CH', 'CY', 'CZ', 'DE...   \n",
       "13           WO2017007125  ['AL', 'AT', 'BE', 'BG', 'CH', 'CY', 'CZ', 'DE...   \n",
       "14                    NaN  ['AL', 'AT', 'BE', 'BG', 'CH', 'CY', 'CZ', 'DE...   \n",
       "15                    NaN  ['AT', 'BE', 'BG', 'CH', 'CY', 'CZ', 'DE', 'DK...   \n",
       "16           WO2017014633  ['AL', 'AT', 'BE', 'BG', 'CH', 'CY', 'CZ', 'DE...   \n",
       "17           WO2017011855  ['AL', 'AT', 'BE', 'BG', 'CH', 'CY', 'CZ', 'DE...   \n",
       "18           WO2017014175  ['AL', 'AT', 'BE', 'BG', 'CH', 'CY', 'CZ', 'DE...   \n",
       "19                    NaN  ['AL', 'AT', 'BE', 'BG', 'CH', 'CY', 'CZ', 'DE...   \n",
       "\n",
       "   designated_states_extension designated_states_validation  \\\n",
       "10                          []                           []   \n",
       "11                          []                           []   \n",
       "12                          []                           []   \n",
       "13                          []                           []   \n",
       "14                          []                           []   \n",
       "15                          []                           []   \n",
       "16                          []                           []   \n",
       "17                          []                           []   \n",
       "18                          []                           []   \n",
       "19                          []                           []   \n",
       "\n",
       "                                            applicant  \\\n",
       "10  [{'name': 'BOE Technology Group Co., Ltd.', 'c...   \n",
       "11     [{'name': 'Vapotherm, Inc.', 'country': 'US'}]   \n",
       "12  [{'name': 'Evonik Operations GmbH', 'country':...   \n",
       "13         [{'name': 'Cebika Inc.', 'country': 'KR'}]   \n",
       "14  [{'name': 'Intersurgical S.P.A.', 'country': '...   \n",
       "15  [{'name': 'Ventana Medical Systems, Inc.', 'co...   \n",
       "16        [{'name': 'Ceradis B.V.', 'country': 'NL'}]   \n",
       "17  [{'name': 'Minomic International Ltd.', 'count...   \n",
       "18     [{'name': 'Kao Corporation', 'country': 'JP'}]   \n",
       "19  [{'name': 'Sirna Therapeutics, Inc.', 'country...   \n",
       "\n",
       "                                             inventor sdg_number  \\\n",
       "10         [{'name': 'LIANG, Xuan', 'country': 'CN'}]          3   \n",
       "11  [{'name': 'CORTEZ, Felino, V., Jr.', 'country'...          3   \n",
       "12  [{'name': 'KIRCHNER, Andreas', 'country': 'DE'...          3   \n",
       "13    [{'name': 'CHO, Byoung Chic', 'country': 'KR'}]          3   \n",
       "14  [{'name': 'NAVALESI, Paolo', 'country': 'IT'},...          3   \n",
       "15  [{'name': 'Griebel, Rick', 'country': 'US'}, {...          3   \n",
       "16  [{'name': 'VAN DER KRIEKEN, Wilhelmus Maria', ...          2   \n",
       "17  [{'name': 'WALSH, Bradley', 'country': 'AU'}, ...          3   \n",
       "18  [{'name': 'ICHIHARA, Takahiro', 'country': 'JP...         12   \n",
       "19  [{'name': 'Cancilla, Mark', 'country': 'US'}, ...          3   \n",
       "\n",
       "                                 analysis_explanation  \\\n",
       "10  – Goal 3: The patent describes a \"hearing aid\"...   \n",
       "11  – Goal 3: The patent describes a \"nasal cannul...   \n",
       "12  – Goal 3: The patent describes a process for p...   \n",
       "13  – Goal 3: The patent describes a \"medicine inf...   \n",
       "14  – Goal 3: The patent describes an \"artificial ...   \n",
       "15  – Goal 3: The patent describes an automated me...   \n",
       "16  – Goal 2: The patent describes \"a method of fe...   \n",
       "17  – Goal 3: The patent directly addresses health...   \n",
       "18  – Goal 12: The patent describes a \"sophorolipi...   \n",
       "19  – Goal 3: The patent describes a \"doublestrand...   \n",
       "\n",
       "                                ipc_tech_field  \\\n",
       "10     Electricity; Human Necessities; Physics   \n",
       "11                           Human Necessities   \n",
       "12                      Chemistry & Metallurgy   \n",
       "13                           Human Necessities   \n",
       "14                           Human Necessities   \n",
       "15  Performing Operations & Transport; Physics   \n",
       "16                           Human Necessities   \n",
       "17                                     Physics   \n",
       "18                      Chemistry & Metallurgy   \n",
       "19                      Chemistry & Metallurgy   \n",
       "\n",
       "                                     ipc_technologies  \n",
       "10  Audio/Video Technology; Clothing & Apparel; Me...  \n",
       "11                            Other Human Necessities  \n",
       "12                                 Chemical Processes  \n",
       "13                            Other Human Necessities  \n",
       "14                            Other Human Necessities  \n",
       "15  Measurement & Testing; Mechanical Tools & Equi...  \n",
       "16  Agriculture & Forestry; Food & Beverage Proces...  \n",
       "17                              Measurement & Testing  \n",
       "18   Biochemistry & Biotechnology; Chemical Processes  \n",
       "19                       Biochemistry & Biotechnology  \n",
       "\n",
       "[10 rows x 22 columns]"
      ]
     },
     "execution_count": 56,
     "metadata": {},
     "output_type": "execute_result"
    }
   ],
   "source": [
    "df_sample[10:20]"
   ]
  },
  {
   "cell_type": "code",
   "execution_count": 173,
   "id": "1411df84",
   "metadata": {},
   "outputs": [
    {
     "name": "stdout",
     "output_type": "stream",
     "text": [
      "row counts in df: 24901\n"
     ]
    }
   ],
   "source": [
    "df= pd.read_csv(\"C:/Users/20245580/Documents/Others/EPO2025/epo_data/Full_dataset.csv\")\n",
    "print(f\"row counts in df: {len(df)}\")"
   ]
  },
  {
   "cell_type": "markdown",
   "id": "01e1a5eb",
   "metadata": {},
   "source": [
    "## Investigating"
   ]
  },
  {
   "cell_type": "code",
   "execution_count": 4,
   "id": "44a9b340",
   "metadata": {},
   "outputs": [
    {
     "data": {
      "text/html": [
       "<div>\n",
       "<style scoped>\n",
       "    .dataframe tbody tr th:only-of-type {\n",
       "        vertical-align: middle;\n",
       "    }\n",
       "\n",
       "    .dataframe tbody tr th {\n",
       "        vertical-align: top;\n",
       "    }\n",
       "\n",
       "    .dataframe thead th {\n",
       "        text-align: right;\n",
       "    }\n",
       "</style>\n",
       "<table border=\"1\" class=\"dataframe\">\n",
       "  <thead>\n",
       "    <tr style=\"text-align: right;\">\n",
       "      <th></th>\n",
       "      <th>publication_number</th>\n",
       "      <th>publication_kind</th>\n",
       "      <th>publication_date</th>\n",
       "      <th>ipc</th>\n",
       "      <th>cpc</th>\n",
       "      <th>title_en</th>\n",
       "      <th>claims</th>\n",
       "      <th>abstract_text</th>\n",
       "      <th>description_text</th>\n",
       "      <th>prior_art</th>\n",
       "      <th>...</th>\n",
       "      <th>pct_publication_number</th>\n",
       "      <th>designated_states_contracting</th>\n",
       "      <th>designated_states_extension</th>\n",
       "      <th>designated_states_validation</th>\n",
       "      <th>applicant</th>\n",
       "      <th>inventor</th>\n",
       "      <th>sdg_number</th>\n",
       "      <th>analysis_explanation</th>\n",
       "      <th>ipc_tech_field</th>\n",
       "      <th>ipc_technologies</th>\n",
       "    </tr>\n",
       "  </thead>\n",
       "  <tbody>\n",
       "    <tr>\n",
       "      <th>0</th>\n",
       "      <td>6</td>\n",
       "      <td>B1</td>\n",
       "      <td>19810204</td>\n",
       "      <td>C02F3/04</td>\n",
       "      <td>[]</td>\n",
       "      <td>Process for nitrification of waste water</td>\n",
       "      <td>process for nitrifying oxidizable nitrogen com...</td>\n",
       "      <td>NaN</td>\n",
       "      <td>The invention relates to a process for nitrifi...</td>\n",
       "      <td>[]</td>\n",
       "      <td>...</td>\n",
       "      <td>NaN</td>\n",
       "      <td>['BE', 'DE', 'FR', 'GB', 'NL', 'SE']</td>\n",
       "      <td>[]</td>\n",
       "      <td>[]</td>\n",
       "      <td>[]</td>\n",
       "      <td>[{'name': 'Bakker, Gerhard', 'country': 'NL'},...</td>\n",
       "      <td>6</td>\n",
       "      <td>– Goal 6: The patent explicitly describes a \"p...</td>\n",
       "      <td>NaN</td>\n",
       "      <td>NaN</td>\n",
       "    </tr>\n",
       "    <tr>\n",
       "      <th>1</th>\n",
       "      <td>41</td>\n",
       "      <td>B1</td>\n",
       "      <td>19810429</td>\n",
       "      <td>A61M25/00</td>\n",
       "      <td>[]</td>\n",
       "      <td>An intravascular catheter</td>\n",
       "      <td>an intravascular catheter comprising a hub 2 h...</td>\n",
       "      <td>NaN</td>\n",
       "      <td>This invention relates to an intravascular cat...</td>\n",
       "      <td>[]</td>\n",
       "      <td>...</td>\n",
       "      <td>NaN</td>\n",
       "      <td>['BE', 'DE', 'FR', 'GB', 'SE']</td>\n",
       "      <td>[]</td>\n",
       "      <td>[]</td>\n",
       "      <td>[]</td>\n",
       "      <td>[{'name': 'Sagae, Kyuta', 'country': 'JP'}, {'...</td>\n",
       "      <td>3</td>\n",
       "      <td>– Goal 3: The patent describes \"an intravascul...</td>\n",
       "      <td>Human Necessities</td>\n",
       "      <td>Other Human Necessities</td>\n",
       "    </tr>\n",
       "    <tr>\n",
       "      <th>2</th>\n",
       "      <td>85</td>\n",
       "      <td>B1</td>\n",
       "      <td>19801029</td>\n",
       "      <td>C01B7/13, C01B17/90, C01B3/06, C01B13/02</td>\n",
       "      <td>[]</td>\n",
       "      <td>Process for the production and separation of h...</td>\n",
       "      <td>a process for the production and separation of...</td>\n",
       "      <td>NaN</td>\n",
       "      <td>This invention relates to a process for the pr...</td>\n",
       "      <td>[]</td>\n",
       "      <td>...</td>\n",
       "      <td>NaN</td>\n",
       "      <td>['BE', 'DE', 'FR', 'GB', 'LU', 'NL']</td>\n",
       "      <td>[]</td>\n",
       "      <td>[]</td>\n",
       "      <td>[]</td>\n",
       "      <td>[{'name': 'De Beni, Giancarlo', 'country': 'IT...</td>\n",
       "      <td>7</td>\n",
       "      <td>– Goal 7: The patent describes \"the use of the...</td>\n",
       "      <td>Chemistry &amp; Metallurgy</td>\n",
       "      <td>Chemical Processes</td>\n",
       "    </tr>\n",
       "    <tr>\n",
       "      <th>3</th>\n",
       "      <td>196</td>\n",
       "      <td>B1</td>\n",
       "      <td>19820421</td>\n",
       "      <td>B65D5/02</td>\n",
       "      <td>[]</td>\n",
       "      <td>A corrugated fibreboard box</td>\n",
       "      <td>a corrugated fibreboard shipping box for packi...</td>\n",
       "      <td>NaN</td>\n",
       "      <td>This invention relates to a corrugated fibrebo...</td>\n",
       "      <td>[]</td>\n",
       "      <td>...</td>\n",
       "      <td>NaN</td>\n",
       "      <td>['DE', 'FR', 'GB']</td>\n",
       "      <td>[]</td>\n",
       "      <td>[]</td>\n",
       "      <td>[]</td>\n",
       "      <td>[{'name': 'Ken Kohayakawa', 'country': 'JP'}, ...</td>\n",
       "      <td>12</td>\n",
       "      <td>– Goal 12: The patent describes a \"corrugated ...</td>\n",
       "      <td>Performing Operations &amp; Transport</td>\n",
       "      <td>Packaging &amp; Containers</td>\n",
       "    </tr>\n",
       "    <tr>\n",
       "      <th>4</th>\n",
       "      <td>197</td>\n",
       "      <td>B1</td>\n",
       "      <td>19811111</td>\n",
       "      <td>H01M10/36, H01M4/58, C01G1/12</td>\n",
       "      <td>[]</td>\n",
       "      <td>Rechargeable non-aqueous cell with a chalcogen...</td>\n",
       "      <td>a nonaqueous secondary cell, comprising a nega...</td>\n",
       "      <td>NaN</td>\n",
       "      <td>Background of the Invention1. Field of the Inv...</td>\n",
       "      <td>[]</td>\n",
       "      <td>...</td>\n",
       "      <td>NaN</td>\n",
       "      <td>['BE', 'DE', 'FR', 'GB', 'NL', 'SE']</td>\n",
       "      <td>[]</td>\n",
       "      <td>[]</td>\n",
       "      <td>[]</td>\n",
       "      <td>[{'name': 'DiSalvo, Francis Joseph', 'country'...</td>\n",
       "      <td>7</td>\n",
       "      <td>– Goal 7: The patent describes a \"nonaqueous s...</td>\n",
       "      <td>Chemistry &amp; Metallurgy; Electricity</td>\n",
       "      <td>Electrical Power; Other Chemistry &amp; Metallurgy</td>\n",
       "    </tr>\n",
       "  </tbody>\n",
       "</table>\n",
       "<p>5 rows × 22 columns</p>\n",
       "</div>"
      ],
      "text/plain": [
       "   publication_number publication_kind  publication_date  \\\n",
       "0                   6               B1          19810204   \n",
       "1                  41               B1          19810429   \n",
       "2                  85               B1          19801029   \n",
       "3                 196               B1          19820421   \n",
       "4                 197               B1          19811111   \n",
       "\n",
       "                                        ipc cpc  \\\n",
       "0                                  C02F3/04  []   \n",
       "1                                 A61M25/00  []   \n",
       "2  C01B7/13, C01B17/90, C01B3/06, C01B13/02  []   \n",
       "3                                  B65D5/02  []   \n",
       "4             H01M10/36, H01M4/58, C01G1/12  []   \n",
       "\n",
       "                                            title_en  \\\n",
       "0           Process for nitrification of waste water   \n",
       "1                          An intravascular catheter   \n",
       "2  Process for the production and separation of h...   \n",
       "3                        A corrugated fibreboard box   \n",
       "4  Rechargeable non-aqueous cell with a chalcogen...   \n",
       "\n",
       "                                              claims  abstract_text  \\\n",
       "0  process for nitrifying oxidizable nitrogen com...            NaN   \n",
       "1  an intravascular catheter comprising a hub 2 h...            NaN   \n",
       "2  a process for the production and separation of...            NaN   \n",
       "3  a corrugated fibreboard shipping box for packi...            NaN   \n",
       "4  a nonaqueous secondary cell, comprising a nega...            NaN   \n",
       "\n",
       "                                    description_text prior_art  ...  \\\n",
       "0  The invention relates to a process for nitrifi...        []  ...   \n",
       "1  This invention relates to an intravascular cat...        []  ...   \n",
       "2  This invention relates to a process for the pr...        []  ...   \n",
       "3  This invention relates to a corrugated fibrebo...        []  ...   \n",
       "4  Background of the Invention1. Field of the Inv...        []  ...   \n",
       "\n",
       "  pct_publication_number         designated_states_contracting  \\\n",
       "0                    NaN  ['BE', 'DE', 'FR', 'GB', 'NL', 'SE']   \n",
       "1                    NaN        ['BE', 'DE', 'FR', 'GB', 'SE']   \n",
       "2                    NaN  ['BE', 'DE', 'FR', 'GB', 'LU', 'NL']   \n",
       "3                    NaN                    ['DE', 'FR', 'GB']   \n",
       "4                    NaN  ['BE', 'DE', 'FR', 'GB', 'NL', 'SE']   \n",
       "\n",
       "  designated_states_extension designated_states_validation applicant  \\\n",
       "0                          []                           []        []   \n",
       "1                          []                           []        []   \n",
       "2                          []                           []        []   \n",
       "3                          []                           []        []   \n",
       "4                          []                           []        []   \n",
       "\n",
       "                                            inventor sdg_number  \\\n",
       "0  [{'name': 'Bakker, Gerhard', 'country': 'NL'},...          6   \n",
       "1  [{'name': 'Sagae, Kyuta', 'country': 'JP'}, {'...          3   \n",
       "2  [{'name': 'De Beni, Giancarlo', 'country': 'IT...          7   \n",
       "3  [{'name': 'Ken Kohayakawa', 'country': 'JP'}, ...         12   \n",
       "4  [{'name': 'DiSalvo, Francis Joseph', 'country'...          7   \n",
       "\n",
       "                                analysis_explanation  \\\n",
       "0  – Goal 6: The patent explicitly describes a \"p...   \n",
       "1  – Goal 3: The patent describes \"an intravascul...   \n",
       "2  – Goal 7: The patent describes \"the use of the...   \n",
       "3  – Goal 12: The patent describes a \"corrugated ...   \n",
       "4  – Goal 7: The patent describes a \"nonaqueous s...   \n",
       "\n",
       "                        ipc_tech_field  \\\n",
       "0                                  NaN   \n",
       "1                    Human Necessities   \n",
       "2               Chemistry & Metallurgy   \n",
       "3    Performing Operations & Transport   \n",
       "4  Chemistry & Metallurgy; Electricity   \n",
       "\n",
       "                                 ipc_technologies  \n",
       "0                                             NaN  \n",
       "1                         Other Human Necessities  \n",
       "2                              Chemical Processes  \n",
       "3                          Packaging & Containers  \n",
       "4  Electrical Power; Other Chemistry & Metallurgy  \n",
       "\n",
       "[5 rows x 22 columns]"
      ]
     },
     "execution_count": 4,
     "metadata": {},
     "output_type": "execute_result"
    }
   ],
   "source": [
    "df.head()"
   ]
  },
  {
   "cell_type": "code",
   "execution_count": 5,
   "id": "2def50f2",
   "metadata": {},
   "outputs": [
    {
     "data": {
      "text/plain": [
       "True"
      ]
     },
     "execution_count": 5,
     "metadata": {},
     "output_type": "execute_result"
    }
   ],
   "source": [
    "df[\"publication_number\"].is_unique"
   ]
  },
  {
   "cell_type": "markdown",
   "id": "efac0d02",
   "metadata": {},
   "source": [
    "# Processing with Huggingface dataset"
   ]
  },
  {
   "cell_type": "code",
   "execution_count": 176,
   "id": "bc3d6511",
   "metadata": {},
   "outputs": [
    {
     "data": {
      "text/plain": [
       "Dataset({\n",
       "    features: ['publication_number', 'publication_kind', 'publication_date', 'ipc', 'cpc', 'title_en', 'claims', 'abstract_text', 'description_text', 'prior_art', 'reference', 'parent', 'pct_publication_number', 'designated_states_contracting', 'designated_states_extension', 'designated_states_validation', 'applicant', 'inventor', 'sdg_number', 'analysis_explanation', 'ipc_tech_field', 'ipc_technologies'],\n",
       "    num_rows: 24901\n",
       "})"
      ]
     },
     "execution_count": 176,
     "metadata": {},
     "output_type": "execute_result"
    }
   ],
   "source": [
    "dataset = Dataset.from_pandas(df)\n",
    "dataset"
   ]
  },
  {
   "cell_type": "markdown",
   "id": "101c5192",
   "metadata": {},
   "source": [
    "## create different `table` database for `sqlite`"
   ]
  },
  {
   "cell_type": "markdown",
   "id": "96740721",
   "metadata": {},
   "source": [
    "### `main_complementary_claimtxt_sdg` table"
   ]
  },
  {
   "cell_type": "code",
   "execution_count": 177,
   "id": "07de5ac9",
   "metadata": {},
   "outputs": [
    {
     "data": {
      "text/plain": [
       "Dataset({\n",
       "    features: ['publication_number', 'claims', 'sdg_number'],\n",
       "    num_rows: 24901\n",
       "})"
      ]
     },
     "execution_count": 177,
     "metadata": {},
     "output_type": "execute_result"
    }
   ],
   "source": [
    "# remove column => table `main`\n",
    "columns = dataset.column_names\n",
    "columns_to_keep = ['publication_number', 'claims', 'sdg_number']\n",
    "columns_to_remove = set(columns_to_keep).symmetric_difference(columns)\n",
    "dataset_main_complementary_claimtxt_sdg = dataset.remove_columns(columns_to_remove)\n",
    "dataset_main_complementary_claimtxt_sdg"
   ]
  },
  {
   "cell_type": "markdown",
   "id": "2d99c4db",
   "metadata": {},
   "source": [
    "### `main` table"
   ]
  },
  {
   "cell_type": "code",
   "execution_count": 8,
   "id": "75010da2",
   "metadata": {},
   "outputs": [
    {
     "data": {
      "text/plain": [
       "Dataset({\n",
       "    features: ['publication_number', 'title_en', 'claims', 'inventor'],\n",
       "    num_rows: 24901\n",
       "})"
      ]
     },
     "execution_count": 8,
     "metadata": {},
     "output_type": "execute_result"
    }
   ],
   "source": [
    "# remove column => table `main`\n",
    "columns = dataset.column_names\n",
    "columns_to_keep = ['publication_number', 'title_en', 'claims', 'inventor']\n",
    "columns_to_remove = set(columns_to_keep).symmetric_difference(columns)\n",
    "dataset_main = dataset.remove_columns(columns_to_remove)\n",
    "dataset_main"
   ]
  },
  {
   "cell_type": "markdown",
   "id": "3d947780",
   "metadata": {},
   "source": [
    "### `sdg_pub` table"
   ]
  },
  {
   "cell_type": "code",
   "execution_count": 41,
   "id": "9685c883",
   "metadata": {},
   "outputs": [
    {
     "data": {
      "text/plain": [
       "Dataset({\n",
       "    features: ['publication_number', 'sdg_number'],\n",
       "    num_rows: 24901\n",
       "})"
      ]
     },
     "execution_count": 41,
     "metadata": {},
     "output_type": "execute_result"
    }
   ],
   "source": [
    "# remove column => table `sdg_pub`\n",
    "columns = dataset.column_names\n",
    "columns_to_keep = ['publication_number', 'sdg_number']\n",
    "columns_to_remove = set(columns_to_keep).symmetric_difference(columns)\n",
    "dataset_sdg_pub = dataset.remove_columns(columns_to_remove)\n",
    "dataset_sdg_pub"
   ]
  },
  {
   "cell_type": "markdown",
   "id": "58f6e74a",
   "metadata": {},
   "source": [
    "### `ipc_pub` table"
   ]
  },
  {
   "cell_type": "code",
   "execution_count": 10,
   "id": "c875466a",
   "metadata": {},
   "outputs": [
    {
     "data": {
      "text/plain": [
       "Dataset({\n",
       "    features: ['publication_number', 'ipc'],\n",
       "    num_rows: 24901\n",
       "})"
      ]
     },
     "execution_count": 10,
     "metadata": {},
     "output_type": "execute_result"
    }
   ],
   "source": [
    "columns = dataset.column_names\n",
    "columns_to_keep = ['publication_number', 'ipc']\n",
    "columns_to_remove = set(columns_to_keep).symmetric_difference(columns)\n",
    "dataset_ipc_pub = dataset.remove_columns(columns_to_remove)\n",
    "dataset_ipc_pub"
   ]
  },
  {
   "cell_type": "markdown",
   "id": "5523a05c",
   "metadata": {},
   "source": [
    "# Processing the `sdg_pub` table"
   ]
  },
  {
   "cell_type": "code",
   "execution_count": 33,
   "id": "efba9f69",
   "metadata": {},
   "outputs": [
    {
     "data": {
      "text/plain": [
       "{'publication_number': 1707059, 'sdg_number': '2,3'}"
      ]
     },
     "execution_count": 33,
     "metadata": {},
     "output_type": "execute_result"
    }
   ],
   "source": [
    "dataset_sdg_pub[789]"
   ]
  },
  {
   "cell_type": "code",
   "execution_count": 42,
   "id": "1986508b",
   "metadata": {},
   "outputs": [
    {
     "name": "stderr",
     "output_type": "stream",
     "text": [
      "Map: 100%|██████████| 24901/24901 [00:00<00:00, 27179.63 examples/s]\n"
     ]
    }
   ],
   "source": [
    "dataset_sdg_pub_mod = dataset_sdg_pub.map(\n",
    "    lambda x: {\"sdg_number\": x[\"sdg_number\"].split(\",\")}\n",
    ")"
   ]
  },
  {
   "cell_type": "code",
   "execution_count": 52,
   "id": "e09eb3c9",
   "metadata": {},
   "outputs": [
    {
     "data": {
      "text/plain": [
       "{'publication_number': 1707059, 'sdg_number': ['2', '3']}"
      ]
     },
     "execution_count": 52,
     "metadata": {},
     "output_type": "execute_result"
    }
   ],
   "source": [
    "dataset_sdg_pub_mod[789]"
   ]
  },
  {
   "cell_type": "code",
   "execution_count": 58,
   "id": "61107204",
   "metadata": {},
   "outputs": [],
   "source": [
    "# convert to pandas to explode, and convert back to dataset\n",
    "dataset_sdg_pub_mod.set_format(\"pandas\")\n",
    "dataset_sdg_pub_mod = dataset_sdg_pub_mod[:] # convert to dataframe\n",
    "dataset_sdg_pub_mod= dataset_sdg_pub_mod.explode(\"sdg_number\", ignore_index=True) # explode\n",
    "dataset_sdg_pub_mod =  Dataset.from_pandas(dataset_sdg_pub_mod)"
   ]
  },
  {
   "cell_type": "code",
   "execution_count": 64,
   "id": "8cd15247",
   "metadata": {},
   "outputs": [
    {
     "data": {
      "text/plain": [
       "{'publication_number': [6, 41, 85, 196, 197, 238, 251, 251, 270, 270],\n",
       " 'sdg_number': ['6', '3', '7', '12', '7', '7', '7', '12', '9', '12']}"
      ]
     },
     "execution_count": 64,
     "metadata": {},
     "output_type": "execute_result"
    }
   ],
   "source": [
    "dataset_sdg_pub_mod[:10]"
   ]
  },
  {
   "cell_type": "markdown",
   "id": "0ce3f34f",
   "metadata": {},
   "source": [
    "## Save to json file"
   ]
  },
  {
   "cell_type": "code",
   "execution_count": 65,
   "id": "458bd08a",
   "metadata": {},
   "outputs": [],
   "source": [
    "sdg_json_db_path = 'C:/Users/20245580/Documents/Others/EPO2025/epo_data/processed_to_json/sdg_pub.json'"
   ]
  },
  {
   "cell_type": "code",
   "execution_count": 66,
   "id": "07c5479b",
   "metadata": {},
   "outputs": [],
   "source": [
    "test = dataset_sdg_pub_mod.to_list()"
   ]
  },
  {
   "cell_type": "code",
   "execution_count": 67,
   "id": "00a27a71",
   "metadata": {},
   "outputs": [
    {
     "name": "stdout",
     "output_type": "stream",
     "text": [
      "27053 <class 'dict'>\n"
     ]
    }
   ],
   "source": [
    "print(\n",
    "    len(test),\n",
    "    type(test[0])\n",
    "    )"
   ]
  },
  {
   "cell_type": "code",
   "execution_count": 68,
   "id": "1cc27c8c",
   "metadata": {},
   "outputs": [],
   "source": [
    "# Save to json file\n",
    "with open(sdg_json_db_path, 'w') as file:\n",
    "    json.dump(test, file)"
   ]
  },
  {
   "cell_type": "code",
   "execution_count": 69,
   "id": "65fc487c",
   "metadata": {},
   "outputs": [],
   "source": [
    "# Load from json file\n",
    "with open(sdg_json_db_path, 'r') as file:\n",
    "    load_data = json.load(file)"
   ]
  },
  {
   "cell_type": "code",
   "execution_count": 71,
   "id": "c4e7a4d5",
   "metadata": {},
   "outputs": [
    {
     "name": "stdout",
     "output_type": "stream",
     "text": [
      "27053 <class 'dict'> 3 41\n"
     ]
    }
   ],
   "source": [
    "print(\n",
    "    len(load_data),\n",
    "    type(load_data[0]),\n",
    "    load_data[1]['sdg_number'], \n",
    "    load_data[1]['publication_number']\n",
    "    )"
   ]
  },
  {
   "cell_type": "markdown",
   "id": "f195b1a2",
   "metadata": {},
   "source": [
    "# Processing the `ipc_pub` table"
   ]
  },
  {
   "cell_type": "code",
   "execution_count": 72,
   "id": "a9d57838",
   "metadata": {},
   "outputs": [
    {
     "data": {
      "text/plain": [
       "{'publication_number': 1707059, 'ipc': 'A23K1/16, A23K1/18'}"
      ]
     },
     "execution_count": 72,
     "metadata": {},
     "output_type": "execute_result"
    }
   ],
   "source": [
    "dataset_ipc_pub[789]"
   ]
  },
  {
   "cell_type": "code",
   "execution_count": 78,
   "id": "adfee271",
   "metadata": {},
   "outputs": [
    {
     "name": "stderr",
     "output_type": "stream",
     "text": [
      "Map: 100%|██████████| 24901/24901 [00:00<00:00, 28370.98 examples/s]\n"
     ]
    }
   ],
   "source": [
    "dataset_ipc_pub_mod = dataset_ipc_pub.map(\n",
    "    lambda x: {\"ipc\": x[\"ipc\"].split(\",\")}\n",
    ")"
   ]
  },
  {
   "cell_type": "code",
   "execution_count": 79,
   "id": "e6dcfb7e",
   "metadata": {},
   "outputs": [
    {
     "data": {
      "text/plain": [
       "{'publication_number': 1707059, 'ipc': ['A23K1/16', ' A23K1/18']}"
      ]
     },
     "execution_count": 79,
     "metadata": {},
     "output_type": "execute_result"
    }
   ],
   "source": [
    "dataset_ipc_pub_mod[789]"
   ]
  },
  {
   "cell_type": "code",
   "execution_count": 80,
   "id": "1d16320f",
   "metadata": {},
   "outputs": [],
   "source": [
    "# convert to pandas to explode, and convert back to dataset\n",
    "dataset_ipc_pub_mod.set_format(\"pandas\")\n",
    "dataset_ipc_pub_mod = dataset_ipc_pub_mod[:] # convert to dataframe\n",
    "dataset_ipc_pub_mod= dataset_ipc_pub_mod.explode(\"ipc\", ignore_index=True) # explode\n",
    "dataset_ipc_pub_mod =  Dataset.from_pandas(dataset_ipc_pub_mod)"
   ]
  },
  {
   "cell_type": "code",
   "execution_count": 81,
   "id": "d5bdb0cd",
   "metadata": {},
   "outputs": [
    {
     "data": {
      "text/plain": [
       "{'publication_number': [6, 41, 85, 85, 85, 85, 196, 197, 197, 197],\n",
       " 'ipc': ['C02F3/04',\n",
       "  'A61M25/00',\n",
       "  'C01B7/13',\n",
       "  ' C01B17/90',\n",
       "  ' C01B3/06',\n",
       "  ' C01B13/02',\n",
       "  'B65D5/02',\n",
       "  'H01M10/36',\n",
       "  ' H01M4/58',\n",
       "  ' C01G1/12']}"
      ]
     },
     "execution_count": 81,
     "metadata": {},
     "output_type": "execute_result"
    }
   ],
   "source": [
    "dataset_ipc_pub_mod[0:10]"
   ]
  },
  {
   "cell_type": "markdown",
   "id": "adcd83cd",
   "metadata": {},
   "source": [
    "## Save to json file"
   ]
  },
  {
   "cell_type": "code",
   "execution_count": 82,
   "id": "ea92a6dc",
   "metadata": {},
   "outputs": [],
   "source": [
    "ipc_json_db_path = 'C:/Users/20245580/Documents/Others/EPO2025/epo_data/processed_to_json/ipc_pub.json'"
   ]
  },
  {
   "cell_type": "code",
   "execution_count": 83,
   "id": "7172a0a6",
   "metadata": {},
   "outputs": [],
   "source": [
    "test = dataset_ipc_pub_mod.to_list()\n",
    "# Save to json file\n",
    "with open(ipc_json_db_path, 'w') as file:\n",
    "    json.dump(test, file)"
   ]
  },
  {
   "cell_type": "code",
   "execution_count": 84,
   "id": "a99f0cd4",
   "metadata": {},
   "outputs": [],
   "source": [
    "# Load from json file\n",
    "with open(ipc_json_db_path, 'r') as file:\n",
    "    load_data = json.load(file)"
   ]
  },
  {
   "cell_type": "code",
   "execution_count": 85,
   "id": "9d9e4fe7",
   "metadata": {},
   "outputs": [
    {
     "name": "stdout",
     "output_type": "stream",
     "text": [
      "90660 <class 'dict'> A61M25/00 41\n"
     ]
    }
   ],
   "source": [
    "print(\n",
    "    len(load_data),\n",
    "    type(load_data[0]),\n",
    "    load_data[1]['ipc'], \n",
    "    load_data[1]['publication_number']\n",
    "    )"
   ]
  },
  {
   "cell_type": "markdown",
   "id": "b3d99f7c",
   "metadata": {},
   "source": [
    "# Processing the `main` table"
   ]
  },
  {
   "cell_type": "code",
   "execution_count": 86,
   "id": "ef81ee82",
   "metadata": {},
   "outputs": [
    {
     "data": {
      "text/plain": [
       "'process for nitrifying oxidizable nitrogen compounds in waste water, with the aid of a gas containing molecular oxygen and of microorganisms bound to an inert carrier material in a column, wherein the offgas of the column is vented andor recycled and, if necessary, part of the effluent is recycled, this process being characterized in that a tricklephase reactor is used as column, that the gas containing molecular oxygen contains at least 25 w. of oxygen, that during the nitrification 0.510 w. of c02, referred to the total quantity of oxygen, is present in the column, that such a quantity of the liquid effluent of the column is recycled that the entire column contents are irrigated, and that the gas and the liquid contact each other countercurrently.process according to claim 1, characterized in that the gas contains at least 90 w. of molecular oxygen.process according to claim 1 or 2, characterized in that 5  10 w. of c02, referred to the total quantity of molecular oxygen, is present.process according to the claims 1, 2 or 3, characterized in that the vent amounts to 110 w. of the total circulating gas stream.process according to the claims 14, characterized in that the liquid effluent, prior to its return to the column, is given a ph value of at least 8.process according to the claims 1 5, characterized in that the gas containing molecular oxygen, which is supplied to the column, is saturated with water vapour.process according to the claims 16, characterized in that the nitrification mainly proceeds to nitrite.'"
      ]
     },
     "execution_count": 86,
     "metadata": {},
     "output_type": "execute_result"
    }
   ],
   "source": [
    "dataset_main[0]['claims']"
   ]
  },
  {
   "cell_type": "code",
   "execution_count": 87,
   "id": "3a2c8e0c",
   "metadata": {},
   "outputs": [
    {
     "name": "stderr",
     "output_type": "stream",
     "text": [
      "Map: 100%|██████████| 24901/24901 [00:03<00:00, 7475.24 examples/s]\n"
     ]
    }
   ],
   "source": [
    "dataset_main = dataset_main.map(\n",
    "    lambda x: {\"claims_length\": len(x[\"claims\"].split())}\n",
    ")"
   ]
  },
  {
   "cell_type": "code",
   "execution_count": 90,
   "id": "a73cdd19",
   "metadata": {},
   "outputs": [
    {
     "data": {
      "text/plain": [
       "249"
      ]
     },
     "execution_count": 90,
     "metadata": {},
     "output_type": "execute_result"
    }
   ],
   "source": [
    "dataset_main[2]['claims_length']"
   ]
  },
  {
   "cell_type": "markdown",
   "id": "e0d17cb4",
   "metadata": {},
   "source": [
    "Find min and max number of words in `claims`"
   ]
  },
  {
   "cell_type": "code",
   "execution_count": 91,
   "id": "430d809b",
   "metadata": {},
   "outputs": [
    {
     "name": "stdout",
     "output_type": "stream",
     "text": [
      "min length in dataset: 10 words\n",
      "max length in dataset: 8538\n"
     ]
    }
   ],
   "source": [
    "max = 0\n",
    "for i in range(len(dataset_main)):\n",
    "    length_description_dataset = dataset_main[i]['claims_length']\n",
    "    if i== 0:\n",
    "        min = length_description_dataset\n",
    "        max = length_description_dataset\n",
    "    else:\n",
    "        if length_description_dataset <= min:\n",
    "            min = length_description_dataset\n",
    "        \n",
    "        if length_description_dataset >= max:\n",
    "            max = length_description_dataset\n",
    "print(f\"min length in dataset: {min} words\\nmax length in dataset: {max}\")"
   ]
  },
  {
   "cell_type": "markdown",
   "id": "d7bf1a79",
   "metadata": {},
   "source": [
    "Split the long description into small chunks"
   ]
  },
  {
   "cell_type": "code",
   "execution_count": 181,
   "id": "fff4ba68",
   "metadata": {},
   "outputs": [],
   "source": [
    "def spilt_into_smaller_chunks(examples):\n",
    "    res = []\n",
    "    index = 0\n",
    "    num_words_per_chunk = 512\n",
    "    overlap = int(num_words_per_chunk * 0.5)\n",
    "    total_chunks = examples[\"claims\"].split()\n",
    "    total_len = examples[\"claims_length\"]\n",
    "    while index < total_len:\n",
    "        chunk = ' '.join(total_chunks[index: index+num_words_per_chunk]) \n",
    "                        # the elem with index = index + num_words_per_chunk \n",
    "                        # is excluded\n",
    "        res.append(chunk)\n",
    "        if (index+num_words_per_chunk >= total_len):\n",
    "            break\n",
    "        else:\n",
    "            index = index + num_words_per_chunk - overlap\n",
    "    # last_chunk = ' '.join(total_chunks[index - num_words_per_chunk: total_len])\n",
    "    # res.append(last_chunk)\n",
    "    return {\n",
    "        \"claims\": res\n",
    "    }"
   ]
  },
  {
   "cell_type": "code",
   "execution_count": 152,
   "id": "c1da0eb3",
   "metadata": {},
   "outputs": [
    {
     "name": "stdout",
     "output_type": "stream",
     "text": [
      "24901\n"
     ]
    }
   ],
   "source": [
    "print(len(dataset_main))"
   ]
  },
  {
   "cell_type": "code",
   "execution_count": 163,
   "id": "f8667ed6",
   "metadata": {},
   "outputs": [
    {
     "data": {
      "text/plain": [
       "'a nonaqueous secondary cell, comprising a negative electrode made with lithium andor sodium, an electrolyte, and a positive electrode made with a layered chalcogenide as the active material,characterized in that said chalcogenide has the nominal atom composition mxn1xs2, in which m is mn, fe, ni andor co and n is v andor cr, x is greater than zero but less than or equal to a maximum value of 0.5 when n is v and m is fe, less than or equal to a maximum value of 0.33 when n is v and m is ni, co or mn, and less than a maximum value of 0.33 when n is cr, and when n is v and m is fe and at least one of ni, co and mn, said maximum value, of x scales linearly from 0.33 to 0.50 with the fe atom percent of m.a cell according to claim 1, characterized in that m is fe and n is v.a cell according to claim 2, characterized in that x is less than 0.33 and greater than 0.20.a cell according to claim 1, characterized in that n has a nominal atom composition crzv1z, wherein z is less than or equal to 0.75.a cell according to any one of claims 1, 2, 3 or 4, characterized in that the cathode is made with lithium.a cell according to any one of claims 1, 2, 3, 4 or 5, characterized in that said electrolyte is composed of lic104 dissolved in propylene carbonate.a method of preparing the nonaqueous secondary cell according to any one of the preceding claims by assembling into a cell said negative electrode, at least one electrolytecontaining spacer, and said positive electrode made with said layered chalcogenide, characterized by preparing the said chalcogenide in the desired nominal atom composition by adding an oxidizing agent having an oxidizing potential of at least 2.8 volts to liymxn1xs2, where y is less than or equal to one, said liymxn1xs2 being prepared by reacting stoichiometric quantities of the alkali metal carbonate, and oxide of m and an oxide of n with sulfur, said preparation being carried out in the absence of air andor moisture.a method according to claim 7, characterized in that iodine, chlorine andor bromine is used as said oxidizing agent.a method according to claim 7 or 8, characterized by dissolving said oxidizing agent in a solvent.a method according to claim 9, characterized by using acetonitrile as the said solvent.a method of preparing a layered chalcogenide compound, characterized in that the layered chalcogenide compound has the nominal atom composition mxn1zs2, where m is mn, fe, ni andor co, n is v andor cr, x is greater than zero, but less than or equal to a maximum value of 0.5 when n is v and m is fe, less than or equal to a maximum value of 0.33 when n is v and m is ni, co or mn, and less than a maximum value of 0.33 when n is cr, and when n is v and m is fe and at least one of ni, co and mn said maximum value of x scales linearly from 0.33 to 0.50 with the fe atom percent of m, the preparation comprising adding an oxidizing agent having an oxidizing potential of at least 2.8 volts to liymxn1xs2, where y is less than or equal to one, said liymxnixs2 being prepared by reacting stoichiometric quantities of the alkali metal carbonate, an oxide of m and an oxide of n with sulfur, said chalcogenide preparation being carried out in the absence of air andor moisture.a method according to claim 11, characterized in that iodine, chlorine and bromine are used as said oxidizing agent.a method according to claims 11 or 12, characterized by dissolving said oxidizing agent in a solvent.a method according to claim 13, characterized by using acetonitrile as the said solvent.a method according to claim 11, 12, 13 or 14, characterized by selecting the composition such that n is v and m is fe.a method according to claim 11, 12, 13 or 14, characterized in that the composition is selected such than n has the nominal atom composition crzv1z in which z is less than or equal to 0.75.'"
      ]
     },
     "execution_count": 163,
     "metadata": {},
     "output_type": "execute_result"
    }
   ],
   "source": [
    "dataset_main[4]['claims']"
   ]
  },
  {
   "cell_type": "code",
   "execution_count": 153,
   "id": "17892f8e",
   "metadata": {},
   "outputs": [],
   "source": [
    "# 1. For demonstration purpose:\n",
    "#    extract only a small fraction of the database.\n",
    "# 2. For demonstrating the ability to add new data to later the embedding database for similar search:\n",
    "#    two samples are used. First sample = old data, New sample = new data\n",
    "all_samples = []\n",
    "all_samples.append(dataset_main.select(range(0, 5000))) # extract row from 0th to 19th\n",
    "all_samples.append(dataset_main.select(range(5000, 10000)))\n",
    "all_samples.append(dataset_main.select(range(10000, 15000)))\n",
    "all_samples.append(dataset_main.select(range(15000, 20000)))\n",
    "all_samples.append(dataset_main.select(range(20000, len(dataset_main)-1)))"
   ]
  },
  {
   "cell_type": "code",
   "execution_count": 154,
   "id": "52b27f49",
   "metadata": {},
   "outputs": [
    {
     "name": "stderr",
     "output_type": "stream",
     "text": [
      "Map: 100%|██████████| 5000/5000 [00:00<00:00, 9479.77 examples/s]\n",
      "Map: 100%|██████████| 5000/5000 [00:00<00:00, 9117.69 examples/s]\n",
      "Map: 100%|██████████| 5000/5000 [00:00<00:00, 9339.35 examples/s]\n",
      "Map: 100%|██████████| 5000/5000 [00:00<00:00, 8139.28 examples/s]\n",
      "Map: 100%|██████████| 4900/4900 [00:00<00:00, 10895.92 examples/s]\n"
     ]
    }
   ],
   "source": [
    "all_samples_split = []\n",
    "for idx, elem in enumerate(all_samples):\n",
    "    all_samples_split.append(elem.map(spilt_into_smaller_chunks))"
   ]
  },
  {
   "cell_type": "markdown",
   "id": "36970884",
   "metadata": {},
   "source": [
    "convert to dataframe to use `explode`"
   ]
  },
  {
   "cell_type": "code",
   "execution_count": 155,
   "id": "6161509a",
   "metadata": {},
   "outputs": [],
   "source": [
    "df_all_samples_split = []\n",
    "for idx, elem in enumerate(all_samples_split):\n",
    "    elem.set_format(\"pandas\")\n",
    "    df_elem = elem[:] # convert to dataframe\n",
    "    df_all_samples_split.append(df_elem.explode(\"claims\", ignore_index=True)) # explode"
   ]
  },
  {
   "cell_type": "code",
   "execution_count": 156,
   "id": "82499ead",
   "metadata": {},
   "outputs": [
    {
     "data": {
      "text/html": [
       "<div>\n",
       "<style scoped>\n",
       "    .dataframe tbody tr th:only-of-type {\n",
       "        vertical-align: middle;\n",
       "    }\n",
       "\n",
       "    .dataframe tbody tr th {\n",
       "        vertical-align: top;\n",
       "    }\n",
       "\n",
       "    .dataframe thead th {\n",
       "        text-align: right;\n",
       "    }\n",
       "</style>\n",
       "<table border=\"1\" class=\"dataframe\">\n",
       "  <thead>\n",
       "    <tr style=\"text-align: right;\">\n",
       "      <th></th>\n",
       "      <th>publication_number</th>\n",
       "      <th>title_en</th>\n",
       "      <th>claims</th>\n",
       "      <th>inventor</th>\n",
       "      <th>claims_length</th>\n",
       "    </tr>\n",
       "  </thead>\n",
       "  <tbody>\n",
       "    <tr>\n",
       "      <th>0</th>\n",
       "      <td>6</td>\n",
       "      <td>Process for nitrification of waste water</td>\n",
       "      <td>process for nitrifying oxidizable nitrogen com...</td>\n",
       "      <td>[{'name': 'Bakker, Gerhard', 'country': 'NL'},...</td>\n",
       "      <td>256</td>\n",
       "    </tr>\n",
       "    <tr>\n",
       "      <th>1</th>\n",
       "      <td>41</td>\n",
       "      <td>An intravascular catheter</td>\n",
       "      <td>an intravascular catheter comprising a hub 2 h...</td>\n",
       "      <td>[{'name': 'Sagae, Kyuta', 'country': 'JP'}, {'...</td>\n",
       "      <td>410</td>\n",
       "    </tr>\n",
       "    <tr>\n",
       "      <th>2</th>\n",
       "      <td>85</td>\n",
       "      <td>Process for the production and separation of h...</td>\n",
       "      <td>a process for the production and separation of...</td>\n",
       "      <td>[{'name': 'De Beni, Giancarlo', 'country': 'IT...</td>\n",
       "      <td>249</td>\n",
       "    </tr>\n",
       "    <tr>\n",
       "      <th>3</th>\n",
       "      <td>196</td>\n",
       "      <td>A corrugated fibreboard box</td>\n",
       "      <td>a corrugated fibreboard shipping box for packi...</td>\n",
       "      <td>[{'name': 'Ken Kohayakawa', 'country': 'JP'}, ...</td>\n",
       "      <td>363</td>\n",
       "    </tr>\n",
       "    <tr>\n",
       "      <th>4</th>\n",
       "      <td>197</td>\n",
       "      <td>Rechargeable non-aqueous cell with a chalcogen...</td>\n",
       "      <td>a nonaqueous secondary cell, comprising a nega...</td>\n",
       "      <td>[{'name': 'DiSalvo, Francis Joseph', 'country'...</td>\n",
       "      <td>701</td>\n",
       "    </tr>\n",
       "    <tr>\n",
       "      <th>5</th>\n",
       "      <td>197</td>\n",
       "      <td>Rechargeable non-aqueous cell with a chalcogen...</td>\n",
       "      <td>according to any one of the preceding claims b...</td>\n",
       "      <td>[{'name': 'DiSalvo, Francis Joseph', 'country'...</td>\n",
       "      <td>701</td>\n",
       "    </tr>\n",
       "    <tr>\n",
       "      <th>6</th>\n",
       "      <td>238</td>\n",
       "      <td>A method of converting a sulphur-containing fu...</td>\n",
       "      <td>a method of converting a sulfurcontaining fuel...</td>\n",
       "      <td>[{'name': 'Johnes, Graham Lloyd', 'country': '...</td>\n",
       "      <td>624</td>\n",
       "    </tr>\n",
       "    <tr>\n",
       "      <th>7</th>\n",
       "      <td>238</td>\n",
       "      <td>A method of converting a sulphur-containing fu...</td>\n",
       "      <td>separation device is regulated by an expedient...</td>\n",
       "      <td>[{'name': 'Johnes, Graham Lloyd', 'country': '...</td>\n",
       "      <td>624</td>\n",
       "    </tr>\n",
       "    <tr>\n",
       "      <th>8</th>\n",
       "      <td>251</td>\n",
       "      <td>Production of hydrogen sulfide from sulfur dio...</td>\n",
       "      <td>a regenerable process for the removal, and its...</td>\n",
       "      <td>[{'name': 'Miller, Ralph', 'country': 'US'}]</td>\n",
       "      <td>1157</td>\n",
       "    </tr>\n",
       "    <tr>\n",
       "      <th>9</th>\n",
       "      <td>251</td>\n",
       "      <td>Production of hydrogen sulfide from sulfur dio...</td>\n",
       "      <td>the slurry formed in step h and recycling said...</td>\n",
       "      <td>[{'name': 'Miller, Ralph', 'country': 'US'}]</td>\n",
       "      <td>1157</td>\n",
       "    </tr>\n",
       "    <tr>\n",
       "      <th>10</th>\n",
       "      <td>251</td>\n",
       "      <td>Production of hydrogen sulfide from sulfur dio...</td>\n",
       "      <td>at a concentration of from 0.1 to 1 .a process...</td>\n",
       "      <td>[{'name': 'Miller, Ralph', 'country': 'US'}]</td>\n",
       "      <td>1157</td>\n",
       "    </tr>\n",
       "  </tbody>\n",
       "</table>\n",
       "</div>"
      ],
      "text/plain": [
       "    publication_number                                           title_en  \\\n",
       "0                    6           Process for nitrification of waste water   \n",
       "1                   41                          An intravascular catheter   \n",
       "2                   85  Process for the production and separation of h...   \n",
       "3                  196                        A corrugated fibreboard box   \n",
       "4                  197  Rechargeable non-aqueous cell with a chalcogen...   \n",
       "5                  197  Rechargeable non-aqueous cell with a chalcogen...   \n",
       "6                  238  A method of converting a sulphur-containing fu...   \n",
       "7                  238  A method of converting a sulphur-containing fu...   \n",
       "8                  251  Production of hydrogen sulfide from sulfur dio...   \n",
       "9                  251  Production of hydrogen sulfide from sulfur dio...   \n",
       "10                 251  Production of hydrogen sulfide from sulfur dio...   \n",
       "\n",
       "                                               claims  \\\n",
       "0   process for nitrifying oxidizable nitrogen com...   \n",
       "1   an intravascular catheter comprising a hub 2 h...   \n",
       "2   a process for the production and separation of...   \n",
       "3   a corrugated fibreboard shipping box for packi...   \n",
       "4   a nonaqueous secondary cell, comprising a nega...   \n",
       "5   according to any one of the preceding claims b...   \n",
       "6   a method of converting a sulfurcontaining fuel...   \n",
       "7   separation device is regulated by an expedient...   \n",
       "8   a regenerable process for the removal, and its...   \n",
       "9   the slurry formed in step h and recycling said...   \n",
       "10  at a concentration of from 0.1 to 1 .a process...   \n",
       "\n",
       "                                             inventor  claims_length  \n",
       "0   [{'name': 'Bakker, Gerhard', 'country': 'NL'},...            256  \n",
       "1   [{'name': 'Sagae, Kyuta', 'country': 'JP'}, {'...            410  \n",
       "2   [{'name': 'De Beni, Giancarlo', 'country': 'IT...            249  \n",
       "3   [{'name': 'Ken Kohayakawa', 'country': 'JP'}, ...            363  \n",
       "4   [{'name': 'DiSalvo, Francis Joseph', 'country'...            701  \n",
       "5   [{'name': 'DiSalvo, Francis Joseph', 'country'...            701  \n",
       "6   [{'name': 'Johnes, Graham Lloyd', 'country': '...            624  \n",
       "7   [{'name': 'Johnes, Graham Lloyd', 'country': '...            624  \n",
       "8        [{'name': 'Miller, Ralph', 'country': 'US'}]           1157  \n",
       "9        [{'name': 'Miller, Ralph', 'country': 'US'}]           1157  \n",
       "10       [{'name': 'Miller, Ralph', 'country': 'US'}]           1157  "
      ]
     },
     "execution_count": 156,
     "metadata": {},
     "output_type": "execute_result"
    }
   ],
   "source": [
    "df_all_samples_split[0].head(11)"
   ]
  },
  {
   "cell_type": "code",
   "execution_count": 165,
   "id": "710b7fde",
   "metadata": {},
   "outputs": [
    {
     "data": {
      "text/plain": [
       "'according to any one of the preceding claims by assembling into a cell said negative electrode, at least one electrolytecontaining spacer, and said positive electrode made with said layered chalcogenide, characterized by preparing the said chalcogenide in the desired nominal atom composition by adding an oxidizing agent having an oxidizing potential of at least 2.8 volts to liymxn1xs2, where y is less than or equal to one, said liymxn1xs2 being prepared by reacting stoichiometric quantities of the alkali metal carbonate, and oxide of m and an oxide of n with sulfur, said preparation being carried out in the absence of air andor moisture.a method according to claim 7, characterized in that iodine, chlorine andor bromine is used as said oxidizing agent.a method according to claim 7 or 8, characterized by dissolving said oxidizing agent in a solvent.a method according to claim 9, characterized by using acetonitrile as the said solvent.a method of preparing a layered chalcogenide compound, characterized in that the layered chalcogenide compound has the nominal atom composition mxn1zs2, where m is mn, fe, ni andor co, n is v andor cr, x is greater than zero, but less than or equal to a maximum value of 0.5 when n is v and m is fe, less than or equal to a maximum value of 0.33 when n is v and m is ni, co or mn, and less than a maximum value of 0.33 when n is cr, and when n is v and m is fe and at least one of ni, co and mn said maximum value of x scales linearly from 0.33 to 0.50 with the fe atom percent of m, the preparation comprising adding an oxidizing agent having an oxidizing potential of at least 2.8 volts to liymxn1xs2, where y is less than or equal to one, said liymxnixs2 being prepared by reacting stoichiometric quantities of the alkali metal carbonate, an oxide of m and an oxide of n with sulfur, said chalcogenide preparation being carried out in the absence of air andor moisture.a method according to claim 11, characterized in that iodine, chlorine and bromine are used as said oxidizing agent.a method according to claims 11 or 12, characterized by dissolving said oxidizing agent in a solvent.a method according to claim 13, characterized by using acetonitrile as the said solvent.a method according to claim 11, 12, 13 or 14, characterized by selecting the composition such that n is v and m is fe.a method according to claim 11, 12, 13 or 14, characterized in that the composition is selected such than n has the nominal atom composition crzv1z in which z is less than or equal to 0.75.'"
      ]
     },
     "execution_count": 165,
     "metadata": {},
     "output_type": "execute_result"
    }
   ],
   "source": [
    "df_all_samples_split[0].loc[5]['claims']"
   ]
  },
  {
   "cell_type": "code",
   "execution_count": 166,
   "id": "787f5a84",
   "metadata": {},
   "outputs": [
    {
     "name": "stdout",
     "output_type": "stream",
     "text": [
      "[Dataset({\n",
      "    features: ['publication_number', 'title_en', 'claims', 'inventor', 'claims_length'],\n",
      "    num_rows: 12201\n",
      "}), Dataset({\n",
      "    features: ['publication_number', 'title_en', 'claims', 'inventor', 'claims_length'],\n",
      "    num_rows: 12791\n",
      "}), Dataset({\n",
      "    features: ['publication_number', 'title_en', 'claims', 'inventor', 'claims_length'],\n",
      "    num_rows: 12434\n",
      "}), Dataset({\n",
      "    features: ['publication_number', 'title_en', 'claims', 'inventor', 'claims_length'],\n",
      "    num_rows: 12359\n",
      "}), Dataset({\n",
      "    features: ['publication_number', 'title_en', 'claims', 'inventor', 'claims_length'],\n",
      "    num_rows: 9690\n",
      "})]\n"
     ]
    }
   ],
   "source": [
    "for idx, elem in enumerate(df_all_samples_split):\n",
    "    all_samples[idx] =  Dataset.from_pandas(elem)\n",
    "print(all_samples)"
   ]
  },
  {
   "cell_type": "markdown",
   "id": "a04516a1",
   "metadata": {},
   "source": [
    "## Creating text embeddings"
   ]
  },
  {
   "cell_type": "code",
   "execution_count": 168,
   "id": "89e69ff7",
   "metadata": {},
   "outputs": [],
   "source": [
    "import transformers"
   ]
  },
  {
   "cell_type": "code",
   "execution_count": 169,
   "id": "6d489c02",
   "metadata": {},
   "outputs": [],
   "source": [
    "from transformers import AutoTokenizer, AutoModel, AutoModelForCausalLM\n",
    "\n",
    "# **reference**\n",
    "# [1] what is the difference between AutoModel and AutoModelForCausalLM: https://www.reddit.com/r/huggingface/comments/1bv1kfk/what_is_the_difference_between/\n",
    "#  => Summary\n",
    "#       AutoModel: load the base model -> output is the model output embeddings\n",
    "#       AutoModelForCausalLM: -> output is the model output embeddings + a head layer to convert the model output embeddings to a meaningful reply."
   ]
  },
  {
   "cell_type": "code",
   "execution_count": 170,
   "id": "6062ad98",
   "metadata": {},
   "outputs": [],
   "source": [
    "# Because Arnab did not save the tokenizer of the fine-tune model,\n",
    "# so we should use the tokenizer downloaded from Hugging face of the model Arnab used in his training.\n",
    "# NOTE: actually, we could combine the model with tokenizer of other model such as:\n",
    "# token_ckpt = \"sentence-transformers/multi-qa-mpnet-base-dot-v1\".\n",
    "# However, not so sure there will be mismatching between the tokenizer id of other model with the used model?\n",
    "# and how it affects the output?\n",
    "# But using Arnab fine-tuned model gives much better relevancy test, \n",
    "# than using random model like \"sentence-transformers/multi-qa-mpnet-base-dot-v1\"\n",
    "token_ckpt = \"sadickam/sdg-classification-bert\"\n",
    "model_ckpt = \"../current_batch\"\n",
    "             # this is possible because Arnab saved the model using Huggingface trainer.save_model()\n",
    "tokenizer = AutoTokenizer.from_pretrained(token_ckpt)\n",
    "model = AutoModel.from_pretrained(model_ckpt)"
   ]
  },
  {
   "cell_type": "code",
   "execution_count": 175,
   "id": "8bf75c77",
   "metadata": {},
   "outputs": [
    {
     "name": "stdout",
     "output_type": "stream",
     "text": [
      "True\n",
      "cuda\n"
     ]
    }
   ],
   "source": [
    "import torch\n",
    "print(torch.cuda.is_available())\n",
    "device = torch.device(\"cuda\" if torch.cuda.is_available() else \"cpu\")\n",
    "print(device)"
   ]
  },
  {
   "cell_type": "code",
   "execution_count": 176,
   "id": "6ea278db",
   "metadata": {},
   "outputs": [
    {
     "data": {
      "text/plain": [
       "BertModel(\n",
       "  (embeddings): BertEmbeddings(\n",
       "    (word_embeddings): Embedding(30522, 768, padding_idx=0)\n",
       "    (position_embeddings): Embedding(512, 768)\n",
       "    (token_type_embeddings): Embedding(2, 768)\n",
       "    (LayerNorm): LayerNorm((768,), eps=1e-12, elementwise_affine=True)\n",
       "    (dropout): Dropout(p=0.1, inplace=False)\n",
       "  )\n",
       "  (encoder): BertEncoder(\n",
       "    (layer): ModuleList(\n",
       "      (0-11): 12 x BertLayer(\n",
       "        (attention): BertAttention(\n",
       "          (self): BertSdpaSelfAttention(\n",
       "            (query): Linear(in_features=768, out_features=768, bias=True)\n",
       "            (key): Linear(in_features=768, out_features=768, bias=True)\n",
       "            (value): Linear(in_features=768, out_features=768, bias=True)\n",
       "            (dropout): Dropout(p=0.1, inplace=False)\n",
       "          )\n",
       "          (output): BertSelfOutput(\n",
       "            (dense): Linear(in_features=768, out_features=768, bias=True)\n",
       "            (LayerNorm): LayerNorm((768,), eps=1e-12, elementwise_affine=True)\n",
       "            (dropout): Dropout(p=0.1, inplace=False)\n",
       "          )\n",
       "        )\n",
       "        (intermediate): BertIntermediate(\n",
       "          (dense): Linear(in_features=768, out_features=3072, bias=True)\n",
       "          (intermediate_act_fn): GELUActivation()\n",
       "        )\n",
       "        (output): BertOutput(\n",
       "          (dense): Linear(in_features=3072, out_features=768, bias=True)\n",
       "          (LayerNorm): LayerNorm((768,), eps=1e-12, elementwise_affine=True)\n",
       "          (dropout): Dropout(p=0.1, inplace=False)\n",
       "        )\n",
       "      )\n",
       "    )\n",
       "  )\n",
       "  (pooler): BertPooler(\n",
       "    (dense): Linear(in_features=768, out_features=768, bias=True)\n",
       "    (activation): Tanh()\n",
       "  )\n",
       ")"
      ]
     },
     "execution_count": 176,
     "metadata": {},
     "output_type": "execute_result"
    }
   ],
   "source": [
    "model.to(device)"
   ]
  },
  {
   "cell_type": "markdown",
   "id": "7264f03b",
   "metadata": {},
   "source": [
    "functions supporting embedding procedures"
   ]
  },
  {
   "cell_type": "code",
   "execution_count": 177,
   "id": "2f7f56f2",
   "metadata": {},
   "outputs": [],
   "source": [
    "def cls_pooling(model_output):\n",
    "    return model_output.last_hidden_state[:, 0]\n",
    "\n",
    "def get_embeddings(text_list, imp_model, imp_tokenizer):\n",
    "    encoded_input = imp_tokenizer(\n",
    "        text_list, padding=True, truncation=True, return_tensors=\"pt\"\n",
    "    )\n",
    "    encoded_input = {k: v.to(device) for k, v in encoded_input.items()}\n",
    "    model_output = imp_model(**encoded_input)\n",
    "    return cls_pooling(model_output)"
   ]
  },
  {
   "cell_type": "markdown",
   "id": "212073db",
   "metadata": {},
   "source": [
    "## Save to disk"
   ]
  },
  {
   "cell_type": "code",
   "execution_count": null,
   "id": "5ee0d7cc",
   "metadata": {},
   "outputs": [
    {
     "name": "stderr",
     "output_type": "stream",
     "text": [
      "Map: 100%|██████████| 12201/12201 [07:33<00:00, 26.90 examples/s]\n",
      "Saving the dataset (1/1 shards): 100%|██████████| 12201/12201 [00:00<00:00, 329708.42 examples/s]\n",
      "Map: 100%|██████████| 12791/12791 [08:12<00:00, 26.00 examples/s]\n",
      "Saving the dataset (1/1 shards): 100%|██████████| 12791/12791 [00:00<00:00, 397223.05 examples/s]\n",
      "Map: 100%|██████████| 12434/12434 [07:59<00:00, 25.91 examples/s]\n",
      "Saving the dataset (1/1 shards): 100%|██████████| 12434/12434 [00:00<00:00, 363413.21 examples/s]\n",
      "Map: 100%|██████████| 12359/12359 [07:35<00:00, 27.10 examples/s]\n",
      "Saving the dataset (1/1 shards): 100%|██████████| 12359/12359 [00:00<00:00, 112304.75 examples/s]\n",
      "Map: 100%|██████████| 9690/9690 [06:01<00:00, 26.82 examples/s]\n",
      "Saving the dataset (1/1 shards): 100%|██████████| 9690/9690 [00:00<00:00, 282905.75 examples/s]\n"
     ]
    }
   ],
   "source": [
    "# save the result directly to disk\n",
    "idx = 0\n",
    "for idx, elem in enumerate(all_samples):\n",
    "    embeddings_dataset = elem.map(lambda x: {\"embeddings\": get_embeddings(x[\"claims\"], model, tokenizer).detach().cpu().numpy()[0]}\n",
    "                )\n",
    "                                \n",
    "    saved_path = 'C:/Users/20245580/Documents/Others/EPO2025/epo_data/processed_to_json/epo_dataset' + str(idx)\n",
    "    # print(saved_path)\n",
    "    try:\n",
    "        embeddings_dataset.save_to_disk(saved_path)\n",
    "    except ValueError:\n",
    "        embeddings_dataset.drop_index('embeddings')\n",
    "        embeddings_dataset.save_to_disk(saved_path)\n",
    "# embedding_all_samples[0].save_to_disk('./data_embeddings/epo_dataset0')"
   ]
  },
  {
   "cell_type": "markdown",
   "id": "3742db4a",
   "metadata": {},
   "source": [
    "# Processing the `main_complementary..` table"
   ]
  },
  {
   "cell_type": "markdown",
   "id": "97cd1434",
   "metadata": {},
   "source": [
    "## Process the `claims`"
   ]
  },
  {
   "cell_type": "code",
   "execution_count": 178,
   "id": "678efbc5",
   "metadata": {},
   "outputs": [
    {
     "name": "stderr",
     "output_type": "stream",
     "text": [
      "Map: 100%|██████████| 24901/24901 [00:02<00:00, 11386.85 examples/s]\n"
     ]
    }
   ],
   "source": [
    "dataset_main_complementary_claimtxt_sdg = dataset_main_complementary_claimtxt_sdg.map(\n",
    "    lambda x: {\"claims_length\": len(x[\"claims\"].split())}\n",
    ")"
   ]
  },
  {
   "cell_type": "code",
   "execution_count": 179,
   "id": "581dd6b9",
   "metadata": {},
   "outputs": [],
   "source": [
    "# 1. For demonstration purpose:\n",
    "#    extract only a small fraction of the database.\n",
    "# 2. For demonstrating the ability to add new data to later the embedding database for similar search:\n",
    "#    two samples are used. First sample = old data, New sample = new data\n",
    "all_samples = []\n",
    "all_samples.append(dataset_main_complementary_claimtxt_sdg.select(range(0, 5000))) # extract row from 0th to 19th\n",
    "all_samples.append(dataset_main_complementary_claimtxt_sdg.select(range(5000, 10000)))\n",
    "all_samples.append(dataset_main_complementary_claimtxt_sdg.select(range(10000, 15000)))\n",
    "all_samples.append(dataset_main_complementary_claimtxt_sdg.select(range(15000, 20000)))\n",
    "all_samples.append(dataset_main_complementary_claimtxt_sdg.select(range(20000, len(dataset_main_complementary_claimtxt_sdg)-1)))"
   ]
  },
  {
   "cell_type": "code",
   "execution_count": 182,
   "id": "0b7fa339",
   "metadata": {},
   "outputs": [
    {
     "name": "stderr",
     "output_type": "stream",
     "text": [
      "Map: 100%|██████████| 5000/5000 [00:00<00:00, 6683.11 examples/s] \n",
      "Map: 100%|██████████| 5000/5000 [00:00<00:00, 9746.43 examples/s] \n",
      "Map: 100%|██████████| 5000/5000 [00:00<00:00, 10408.82 examples/s]\n",
      "Map: 100%|██████████| 5000/5000 [00:00<00:00, 9551.25 examples/s] \n",
      "Map: 100%|██████████| 4900/4900 [00:00<00:00, 12171.41 examples/s]\n"
     ]
    }
   ],
   "source": [
    "all_samples_split = []\n",
    "for idx, elem in enumerate(all_samples):\n",
    "    all_samples_split.append(elem.map(spilt_into_smaller_chunks))"
   ]
  },
  {
   "cell_type": "code",
   "execution_count": 183,
   "id": "7545d98b",
   "metadata": {},
   "outputs": [],
   "source": [
    "df_all_samples_split = []\n",
    "for idx, elem in enumerate(all_samples_split):\n",
    "    elem.set_format(\"pandas\")\n",
    "    df_elem = elem[:] # convert to dataframe\n",
    "    df_all_samples_split.append(df_elem.explode(\"claims\", ignore_index=True)) # explode"
   ]
  },
  {
   "cell_type": "code",
   "execution_count": 184,
   "id": "2863f195",
   "metadata": {},
   "outputs": [
    {
     "name": "stdout",
     "output_type": "stream",
     "text": [
      "[Dataset({\n",
      "    features: ['publication_number', 'claims', 'sdg_number', 'claims_length'],\n",
      "    num_rows: 12201\n",
      "}), Dataset({\n",
      "    features: ['publication_number', 'claims', 'sdg_number', 'claims_length'],\n",
      "    num_rows: 12791\n",
      "}), Dataset({\n",
      "    features: ['publication_number', 'claims', 'sdg_number', 'claims_length'],\n",
      "    num_rows: 12434\n",
      "}), Dataset({\n",
      "    features: ['publication_number', 'claims', 'sdg_number', 'claims_length'],\n",
      "    num_rows: 12359\n",
      "}), Dataset({\n",
      "    features: ['publication_number', 'claims', 'sdg_number', 'claims_length'],\n",
      "    num_rows: 9690\n",
      "})]\n"
     ]
    }
   ],
   "source": [
    "for idx, elem in enumerate(df_all_samples_split):\n",
    "    all_samples[idx] =  Dataset.from_pandas(elem)\n",
    "print(all_samples)"
   ]
  },
  {
   "cell_type": "code",
   "execution_count": 188,
   "id": "8c1e9788",
   "metadata": {},
   "outputs": [
    {
     "data": {
      "text/plain": [
       "('7,12',\n",
       " 'at a concentration of from 0.1 to 1 .a process as claimed in any one of claims 3 to 7 characterized in that in step b the crystals of sodium sulfite and sodium sulfate are separated from the reaction medium by filtering a portion of the slurry to obtain a moist filter cake, the solid portion of which is substantially sodium sulfite and sodium sulfate crystals, and a filtrate which is returned to step a.a process as claimed in any one of claims 1 to 8 characterized in that the sodium sulfite and sodium sulfate crystals are reduced with a carboncontaining reducing agent to form sodium sulfide and a carbon dioxidecontaining gas.a process as claimed in claim 9 characterized in that carbon dioxide formed in the reduction of the crystals of sodium sulfite and sodium sulfate with a carboncontaining reducing agent is used as the source of carbon dioxide in step h.a process as claimed in any one of claims 1 to 10 characterized in that step e is carried out a temperature in the range of from 180c to 220c.a system for removing the sulfur dioxide contained in a flue gas containing oxygen, comprisinga a gas contacting device 1 for contacting said flue gas with an aqueous, alkaline, sodium carbonate containing reaction medium saturated with sodium sulfite to react the bulk of the sulfur dioxide and a portion of the oxygen with the carbonate moiety, to form a slurry of sodium sulfite and sodium sulfate dispersed in the reaction medium, and for supplying the sodium and alkalinity to the reaction medium by the addition of recycled solid sodium carbonate, said gas contacting device having an inlets for receiving said flue gas and for receiving said reaction medium, and an outlets for discharging gas and for discharging the reaction product containing sodium sulfite and sodium sulfateb first conveying means 4 arranged for conveying the reaction medium to first separating means 5,9 for separating sodium sulfite and sodium sulfate crystals from the reaction mediumc second conveying means 18 arranged for conveying the separated sodium sulfite and sodium sulfate crystals from the outlet of said first separating means 5,9 to the inlet of a reducing means 19 for reducing the sodium sulfite and sodium sulfate to sodium sulfided third conveying means for conveying the sodium sulfide from the outlet of said reducing means 19 to the inlet of a mixing means 24 for forming an intimate blend of said solid sodium sulfide with solid sodium bicarbonatee fourth conveying means 25 for conveying said blend from the outlet of said mixing means 24 to the inlet of a heating means 26 arranged for heating said blend in the substantial absence of air to a temperature at which sodium bicarbonate would be converted to sodium carbonate and carbon dioxide to form gaseous hydrogen sulfide and dry, solid, anhydrous sodium carbonatef fifth conveying means 27 for conveying gaseous hydrogen sulfide from the outlet of the heating means 26 to the inlet of a recovering means for recovering said gaseous hydrogen sulfideg sixth conveying means 29,31,33,54 for conveying')"
      ]
     },
     "execution_count": 188,
     "metadata": {},
     "output_type": "execute_result"
    }
   ],
   "source": [
    "all_samples[0][10]['sdg_number'], all_samples[0][10]['claims']"
   ]
  },
  {
   "cell_type": "code",
   "execution_count": null,
   "id": "dd864302",
   "metadata": {},
   "outputs": [],
   "source": [
    "# rename column\n",
    "for idx, dataset_sample in enumerate(all_samples):\n",
    "    all_samples[idx] = dataset_sample.rename_column(\"claims\", \"claims_txt\")"
   ]
  },
  {
   "cell_type": "code",
   "execution_count": 195,
   "id": "1064cc05",
   "metadata": {},
   "outputs": [
    {
     "data": {
      "text/plain": [
       "[Dataset({\n",
       "     features: ['publication_number', 'claims_txt', 'sdg_number', 'claims_length'],\n",
       "     num_rows: 12201\n",
       " }),\n",
       " Dataset({\n",
       "     features: ['publication_number', 'claims_txt', 'sdg_number', 'claims_length'],\n",
       "     num_rows: 12791\n",
       " }),\n",
       " Dataset({\n",
       "     features: ['publication_number', 'claims_txt', 'sdg_number', 'claims_length'],\n",
       "     num_rows: 12434\n",
       " }),\n",
       " Dataset({\n",
       "     features: ['publication_number', 'claims_txt', 'sdg_number', 'claims_length'],\n",
       "     num_rows: 12359\n",
       " }),\n",
       " Dataset({\n",
       "     features: ['publication_number', 'claims_txt', 'sdg_number', 'claims_length'],\n",
       "     num_rows: 9690\n",
       " })]"
      ]
     },
     "execution_count": 195,
     "metadata": {},
     "output_type": "execute_result"
    }
   ],
   "source": [
    "all_samples"
   ]
  },
  {
   "cell_type": "code",
   "execution_count": 196,
   "id": "42db89d8",
   "metadata": {},
   "outputs": [
    {
     "data": {
      "text/plain": [
       "('7,12',\n",
       " 'at a concentration of from 0.1 to 1 .a process as claimed in any one of claims 3 to 7 characterized in that in step b the crystals of sodium sulfite and sodium sulfate are separated from the reaction medium by filtering a portion of the slurry to obtain a moist filter cake, the solid portion of which is substantially sodium sulfite and sodium sulfate crystals, and a filtrate which is returned to step a.a process as claimed in any one of claims 1 to 8 characterized in that the sodium sulfite and sodium sulfate crystals are reduced with a carboncontaining reducing agent to form sodium sulfide and a carbon dioxidecontaining gas.a process as claimed in claim 9 characterized in that carbon dioxide formed in the reduction of the crystals of sodium sulfite and sodium sulfate with a carboncontaining reducing agent is used as the source of carbon dioxide in step h.a process as claimed in any one of claims 1 to 10 characterized in that step e is carried out a temperature in the range of from 180c to 220c.a system for removing the sulfur dioxide contained in a flue gas containing oxygen, comprisinga a gas contacting device 1 for contacting said flue gas with an aqueous, alkaline, sodium carbonate containing reaction medium saturated with sodium sulfite to react the bulk of the sulfur dioxide and a portion of the oxygen with the carbonate moiety, to form a slurry of sodium sulfite and sodium sulfate dispersed in the reaction medium, and for supplying the sodium and alkalinity to the reaction medium by the addition of recycled solid sodium carbonate, said gas contacting device having an inlets for receiving said flue gas and for receiving said reaction medium, and an outlets for discharging gas and for discharging the reaction product containing sodium sulfite and sodium sulfateb first conveying means 4 arranged for conveying the reaction medium to first separating means 5,9 for separating sodium sulfite and sodium sulfate crystals from the reaction mediumc second conveying means 18 arranged for conveying the separated sodium sulfite and sodium sulfate crystals from the outlet of said first separating means 5,9 to the inlet of a reducing means 19 for reducing the sodium sulfite and sodium sulfate to sodium sulfided third conveying means for conveying the sodium sulfide from the outlet of said reducing means 19 to the inlet of a mixing means 24 for forming an intimate blend of said solid sodium sulfide with solid sodium bicarbonatee fourth conveying means 25 for conveying said blend from the outlet of said mixing means 24 to the inlet of a heating means 26 arranged for heating said blend in the substantial absence of air to a temperature at which sodium bicarbonate would be converted to sodium carbonate and carbon dioxide to form gaseous hydrogen sulfide and dry, solid, anhydrous sodium carbonatef fifth conveying means 27 for conveying gaseous hydrogen sulfide from the outlet of the heating means 26 to the inlet of a recovering means for recovering said gaseous hydrogen sulfideg sixth conveying means 29,31,33,54 for conveying')"
      ]
     },
     "execution_count": 196,
     "metadata": {},
     "output_type": "execute_result"
    }
   ],
   "source": [
    "all_samples[0][10]['sdg_number'], all_samples[0][10]['claims_txt']"
   ]
  },
  {
   "cell_type": "markdown",
   "id": "4db37ba4",
   "metadata": {},
   "source": [
    "## Save to disk"
   ]
  },
  {
   "cell_type": "code",
   "execution_count": 197,
   "id": "19aefe51",
   "metadata": {},
   "outputs": [
    {
     "name": "stderr",
     "output_type": "stream",
     "text": [
      "Saving the dataset (1/1 shards): 100%|██████████| 12201/12201 [00:00<00:00, 460378.05 examples/s]\n",
      "Saving the dataset (1/1 shards): 100%|██████████| 12791/12791 [00:00<00:00, 1553792.36 examples/s]\n",
      "Saving the dataset (1/1 shards): 100%|██████████| 12434/12434 [00:00<00:00, 921592.11 examples/s]\n",
      "Saving the dataset (1/1 shards): 100%|██████████| 12359/12359 [00:00<00:00, 720083.95 examples/s]\n",
      "Saving the dataset (1/1 shards): 100%|██████████| 9690/9690 [00:00<00:00, 550625.99 examples/s]\n"
     ]
    }
   ],
   "source": [
    "## Save to disk\n",
    "# save the result directly to disk\n",
    "for idx, elem in enumerate(all_samples):\n",
    "                                \n",
    "    saved_path = 'C:/Users/20245580/Documents/Others/EPO2025/epo_data/processed_to_json/epo_dataset_claimtxt_sdg' + str(idx)\n",
    "    # print(saved_path)\n",
    "    try:\n",
    "        elem.save_to_disk(saved_path)\n",
    "    except:\n",
    "        print(f\"fail while saving {elem}\")"
   ]
  },
  {
   "cell_type": "markdown",
   "id": "baa4fe73",
   "metadata": {},
   "source": [
    "# SQLite"
   ]
  },
  {
   "cell_type": "markdown",
   "id": "a555aa49",
   "metadata": {},
   "source": [
    "## Trial 1\n",
    "\n",
    "1. Using user-defined functions in SQLite for searching special strings: `create_function`\n",
    "\n",
    "2. Implement the user-defined functions into query of virtual table created from `sqlite-vec`"
   ]
  },
  {
   "cell_type": "code",
   "execution_count": 25,
   "id": "842d56c0",
   "metadata": {},
   "outputs": [],
   "source": [
    "# ! pip install sqlite-vec"
   ]
  },
  {
   "cell_type": "code",
   "execution_count": 3,
   "id": "16a940ef",
   "metadata": {},
   "outputs": [],
   "source": [
    "import sqlite3\n",
    "import sqlite_vec\n",
    "from sqlite_vec import serialize_float32\n",
    "from sqlite3 import Connection"
   ]
  },
  {
   "cell_type": "markdown",
   "id": "693c83ca",
   "metadata": {},
   "source": [
    "### Funcs"
   ]
  },
  {
   "cell_type": "code",
   "execution_count": 4,
   "id": "ee090eb8",
   "metadata": {},
   "outputs": [],
   "source": [
    "def create_embed_table(conn: Connection, embedding_length: str):\n",
    "\n",
    "    try:\n",
    "        # load the extention\n",
    "        conn.enable_load_extension(True) # start loading extensions\n",
    "        sqlite_vec.load(conn)\n",
    "        conn.enable_load_extension(True) # end loading extensions\n",
    "\n",
    "        sql_statement = f\"\"\"\n",
    "        CREATE VIRTUAL TABLE vec_items USING vec0(\n",
    "            ipc TEXT partition key, \n",
    "            embedding float[{embedding_length}]);\n",
    "        \"\"\"\n",
    "        cursor = conn.cursor()\n",
    "        cursor.execute(sql_statement)\n",
    "        conn.commit()\n",
    "    except:\n",
    "        print(\"Failed to create embedding tables\")\n"
   ]
  },
  {
   "cell_type": "code",
   "execution_count": 5,
   "id": "902afbb0",
   "metadata": {},
   "outputs": [],
   "source": [
    "def add_embeddings(conn: Connection, table_data):\n",
    "    # insert table statement\n",
    "    sql = \"INSERT INTO vec_items(rowid, embedding, ipc) VALUES (?, ?, ?)\"\n",
    "    try:\n",
    "        conn.enable_load_extension(True) # start loading extensions\n",
    "        sqlite_vec.load(conn)\n",
    "        conn.enable_load_extension(True) # end loading extensions\n",
    "        # Create  a cursor\n",
    "        cur = conn.cursor()\n",
    "\n",
    "        # execute the INSERT statement\n",
    "        cur.execute(sql, table_data)\n",
    "\n",
    "        # commit the changes\n",
    "        conn.commit()\n",
    "    except sqlite3.OperationalError as e:\n",
    "        print(\"Failed to add datat to embedding table.\", e)\n",
    "\n",
    "    # get the id of the last inserted row\n",
    "    return cur.lastrowid"
   ]
  },
  {
   "cell_type": "code",
   "execution_count": 6,
   "id": "e5b1fe74",
   "metadata": {},
   "outputs": [],
   "source": [
    "def delete_embed_table(conn: Connection):\n",
    "    try:\n",
    "            conn.enable_load_extension(True) # start loading extensions\n",
    "            sqlite_vec.load(conn)\n",
    "            conn.enable_load_extension(True) # end loading extensions\n",
    "\n",
    "            sql = 'DROP TABLE IF EXISTS vec_items;'\n",
    "            cursor = conn.cursor()\n",
    "            cursor.execute(sql)\n",
    "            conn.commit()\n",
    "    except sqlite3.OperationalError as e:\n",
    "        print(\"Failed to delete to embedding table.\", e)"
   ]
  },
  {
   "cell_type": "markdown",
   "id": "61fb7fb2",
   "metadata": {},
   "source": [
    "### Actions"
   ]
  },
  {
   "cell_type": "code",
   "execution_count": 7,
   "id": "8a9ae09c",
   "metadata": {},
   "outputs": [],
   "source": [
    "db_name = \"../../epo_data/embed_trial.db\""
   ]
  },
  {
   "cell_type": "code",
   "execution_count": 60,
   "id": "c31bedc4",
   "metadata": {},
   "outputs": [
    {
     "name": "stdout",
     "output_type": "stream",
     "text": [
      "Embeddings table created successfully.\n"
     ]
    }
   ],
   "source": [
    "#====\n",
    "# Create embeddings table\n",
    "#====\n",
    "create_embed_table_state =True\n",
    "\n",
    "if create_embed_table_state == True:\n",
    "    try:\n",
    "        with sqlite3.connect(db_name) as conn:\n",
    "            create_embed_table(conn, '4')\n",
    "            print(\"Embeddings table created successfully.\")\n",
    "    except sqlite3.OperationalError as e:\n",
    "        print(\"Failed to connect to database\", e)"
   ]
  },
  {
   "cell_type": "code",
   "execution_count": 61,
   "id": "b641fe80",
   "metadata": {},
   "outputs": [],
   "source": [
    "items = [\n",
    "    ([0.1, 0.1, 0.1, 0.1], \"2,3,4\"),\n",
    "    ([0.2, 0.2, 0.2, 0.2], \"6,2,7\"),\n",
    "    ([0.3, 0.3, 0.3, 0.3], \"2\"),\n",
    "    ([0.4, 0.4, 0.4, 0.4], \"1,2\"),\n",
    "    ([0.5, 0.5, 0.5, 0.5], \"12,11\"),\n",
    "    ([0.5, 0.5, 0.5, 0.5], \"12,8\"),\n",
    "    ([0.2, 0.2, 0.2, 0.2], \"6,2,0\"),\n",
    "]\n",
    "\n",
    "query = [0.3, 0.3, 0.3, 0.3]\n"
   ]
  },
  {
   "cell_type": "code",
   "execution_count": 62,
   "id": "80b78a36",
   "metadata": {},
   "outputs": [
    {
     "name": "stdout",
     "output_type": "stream",
     "text": [
      "0\n",
      "[0.1, 0.1, 0.1, 0.1] 2,3,4\n",
      "1\n",
      "[0.2, 0.2, 0.2, 0.2] 6,2,7\n",
      "2\n",
      "[0.3, 0.3, 0.3, 0.3] 2\n",
      "3\n",
      "[0.4, 0.4, 0.4, 0.4] 1,2\n",
      "4\n",
      "[0.5, 0.5, 0.5, 0.5] 12,11\n",
      "5\n",
      "[0.5, 0.5, 0.5, 0.5] 12,8\n",
      "6\n",
      "[0.2, 0.2, 0.2, 0.2] 6,2,0\n"
     ]
    }
   ],
   "source": [
    "for idx, item in enumerate(items):\n",
    "    print(idx)\n",
    "    print(item[0], item[1])"
   ]
  },
  {
   "cell_type": "code",
   "execution_count": 63,
   "id": "261aa8ab",
   "metadata": {},
   "outputs": [
    {
     "name": "stdout",
     "output_type": "stream",
     "text": [
      "Successfully add data to embed table\n"
     ]
    }
   ],
   "source": [
    "#====\n",
    "# Add to embeddings data \n",
    "#====\n",
    "add_embed_state = True\n",
    "if add_embed_state == True:\n",
    "    try:\n",
    "        with sqlite3.connect(db_name) as conn:\n",
    "            for idx, item in enumerate(items):\n",
    "                add_embeddings(conn,[idx, serialize_float32(item[0]), item[1]])\n",
    "            print(\"Successfully add data to embed table\")\n",
    "    except sqlite3.OperationalError as e:\n",
    "        print(\"Failed to connect to db\")"
   ]
  },
  {
   "cell_type": "code",
   "execution_count": 17,
   "id": "09bb5050",
   "metadata": {},
   "outputs": [
    {
     "name": "stdout",
     "output_type": "stream",
     "text": [
      "['2', '3', '4'] 5\n"
     ]
    }
   ],
   "source": [
    "s = \"2,3,4\"\n",
    "s = s.split(',')\n",
    "print(s,\n",
    "      len(items)) "
   ]
  },
  {
   "cell_type": "code",
   "execution_count": 64,
   "id": "8689c0d6",
   "metadata": {},
   "outputs": [],
   "source": [
    "import re\n",
    "\n",
    "# reference:\n",
    "# 1. https://stackoverflow.com/questions/5071601/how-do-i-use-regex-in-a-sqlite-query\n",
    "#       => the value needs to return if the function is used with `WHERE` SQLite, it must return 1 (found), 0 (not found)\n",
    "# 2. https://www.geeksforgeeks.org/python-create-or-redefine-sqlite-functions/\n",
    "#       => using `create_function()` is very flexible\n",
    "# 3. https://docs.python.org/3/library/sqlite3.html -> `create_function`\n",
    "def find_word(x, y): \n",
    "        y = y.split(',')\n",
    "        print(y)\n",
    "        for idx, elem in enumerate(y):\n",
    "                # print(elem, x)\n",
    "                # print(type(x), type(elem))\n",
    "                if x == elem:\n",
    "                        # print(\"find\")\n",
    "                        return 1\n",
    "        # print(\"not find\")\n",
    "        return 0\n",
    "\n",
    "conn.create_function('find_smth', 2, find_word)\n",
    "\n",
    "meta_query = f\"\"\"\n",
    "                SELECT\n",
    "                        rowid,\n",
    "                        distance\n",
    "                FROM vec_items\n",
    "                WHERE  embedding MATCH ?\n",
    "                        and k = 4\n",
    "                        and find_smth('2', ipc)\n",
    "                ORDER BY distance\n",
    "            \"\"\"\n",
    "\n",
    "meta_query_all = f\"\"\"\n",
    "                SELECT\n",
    "                        rowid,\n",
    "                        distance\n",
    "                FROM vec_items\n",
    "                WHERE  embedding MATCH ?\n",
    "                LIMIT {len(items)}\n",
    "            \"\"\"\n",
    "\n",
    "cursor = conn.cursor()\n",
    "res = cursor.execute(meta_query_all, [serialize_float32(query)]).fetchall()"
   ]
  },
  {
   "cell_type": "code",
   "execution_count": 65,
   "id": "10392eb1",
   "metadata": {},
   "outputs": [
    {
     "name": "stdout",
     "output_type": "stream",
     "text": [
      "[(2, 0.0), (3, 0.19999998807907104), (1, 0.20000001788139343), (6, 0.20000001788139343), (4, 0.3999999761581421), (5, 0.3999999761581421), (0, 0.40000003576278687)]\n"
     ]
    }
   ],
   "source": [
    "print(res)"
   ]
  },
  {
   "cell_type": "code",
   "execution_count": 66,
   "id": "94c576cc",
   "metadata": {},
   "outputs": [],
   "source": [
    "import numpy as np"
   ]
  },
  {
   "cell_type": "code",
   "execution_count": 67,
   "id": "0183dfe5",
   "metadata": {},
   "outputs": [
    {
     "name": "stdout",
     "output_type": "stream",
     "text": [
      "[[2.         0.        ]\n",
      " [3.         0.19999999]\n",
      " [1.         0.20000002]\n",
      " [6.         0.20000002]\n",
      " [4.         0.39999998]\n",
      " [5.         0.39999998]\n",
      " [0.         0.40000004]] <class 'numpy.ndarray'> (7, 2)\n"
     ]
    }
   ],
   "source": [
    "np_res = np.array(res)\n",
    "print(np_res, type(np_res), np_res.shape)"
   ]
  },
  {
   "cell_type": "code",
   "execution_count": 83,
   "id": "e6147876",
   "metadata": {},
   "outputs": [
    {
     "name": "stdout",
     "output_type": "stream",
     "text": [
      "3\n"
     ]
    }
   ],
   "source": [
    "index_f= (np.where(np_res[:,0] == float(6))[0][0])\n",
    "print(index_f)"
   ]
  },
  {
   "cell_type": "code",
   "execution_count": 84,
   "id": "be8e8ea0",
   "metadata": {},
   "outputs": [
    {
     "data": {
      "text/plain": [
       "array([6.        , 0.20000002])"
      ]
     },
     "execution_count": 84,
     "metadata": {},
     "output_type": "execute_result"
    }
   ],
   "source": [
    "np_res[index_f, :]"
   ]
  },
  {
   "cell_type": "code",
   "execution_count": 57,
   "id": "63419eab",
   "metadata": {},
   "outputs": [
    {
     "name": "stdout",
     "output_type": "stream",
     "text": [
      "[[2.         0.        ]\n",
      " [3.         0.19999999]\n",
      " [1.         0.20000002]\n",
      " [4.         0.39999998]\n",
      " [0.         0.40000004]]\n"
     ]
    }
   ],
   "source": [
    "print(np_res)"
   ]
  },
  {
   "cell_type": "code",
   "execution_count": 86,
   "id": "765b29bb",
   "metadata": {},
   "outputs": [
    {
     "name": "stdout",
     "output_type": "stream",
     "text": [
      "[2. 3. 1. 6. 4. 5. 0.]\n"
     ]
    }
   ],
   "source": [
    "np_res_idx = np_res[:,0].flatten()\n",
    "print(np_res_idx)"
   ]
  },
  {
   "cell_type": "code",
   "execution_count": 91,
   "id": "d92fb5d1",
   "metadata": {},
   "outputs": [
    {
     "name": "stdout",
     "output_type": "stream",
     "text": [
      "[0 3 5]\n",
      "[10 40 60]\n"
     ]
    }
   ],
   "source": [
    "import numpy as np\n",
    "\n",
    "# Main array\n",
    "a = np.array([10, 20, 30, 40, 50, 60])\n",
    "\n",
    "# Values to find\n",
    "values = np.array([40, 10, 60])\n",
    "\n",
    "# Find indices where elements in 'a' are in 'values'\n",
    "indices = np.where(np.isin(a, values))[0]\n",
    "\n",
    "print(indices)  # Output: [1 3 5]\n",
    "\n",
    "print(a[indices])"
   ]
  },
  {
   "cell_type": "code",
   "execution_count": 58,
   "id": "4fdf06b2",
   "metadata": {},
   "outputs": [
    {
     "name": "stdout",
     "output_type": "stream",
     "text": [
      "Successfully del embed table\n"
     ]
    }
   ],
   "source": [
    "#====\n",
    "# Delete embeddings table\n",
    "#====\n",
    "del_embed_table_state = True\n",
    "if del_embed_table_state == True:\n",
    "    try:\n",
    "        with sqlite3.connect(db_name) as conn:\n",
    "            delete_embed_table(conn)\n",
    "            print(\"Successfully del embed table\")\n",
    "    except sqlite3.OperationalError as e:\n",
    "        print(\"Failed to connect to db\")"
   ]
  },
  {
   "cell_type": "code",
   "execution_count": 59,
   "id": "694ce0cb",
   "metadata": {},
   "outputs": [],
   "source": [
    "conn.close()"
   ]
  },
  {
   "cell_type": "markdown",
   "id": "12ca05a2",
   "metadata": {},
   "source": [
    "## Trial 2\n",
    "\n",
    "1. create a sample of final database\n",
    "\n",
    "2. Testing sdg -> rag flow"
   ]
  },
  {
   "cell_type": "code",
   "execution_count": 81,
   "id": "3fab970d",
   "metadata": {},
   "outputs": [],
   "source": [
    "from datasets import load_from_disk"
   ]
  },
  {
   "cell_type": "markdown",
   "id": "214de5cb",
   "metadata": {},
   "source": [
    "### Load dataset"
   ]
  },
  {
   "cell_type": "code",
   "execution_count": 82,
   "id": "6a051a55",
   "metadata": {},
   "outputs": [],
   "source": [
    "meta_dataset = \"C:/Users/20245580/Documents/Others/EPO2025/epo_data/processed_to_json/epo_dataset_claimtxt_sdg0\"\n",
    "loaded_meta_dataset = load_from_disk(meta_dataset)"
   ]
  },
  {
   "cell_type": "code",
   "execution_count": 5,
   "id": "f56ee0fd",
   "metadata": {},
   "outputs": [
    {
     "data": {
      "text/plain": [
       "Dataset({\n",
       "    features: ['publication_number', 'claims_txt', 'sdg_number', 'claims_length'],\n",
       "    num_rows: 12201\n",
       "})"
      ]
     },
     "execution_count": 5,
     "metadata": {},
     "output_type": "execute_result"
    }
   ],
   "source": [
    "loaded_meta_dataset"
   ]
  },
  {
   "cell_type": "code",
   "execution_count": 6,
   "id": "33b82674",
   "metadata": {},
   "outputs": [],
   "source": [
    "embed_dataset = \"C:/Users/20245580/Documents/Others/EPO2025/epo_data/processed_to_json/epo_dataset0\"\n",
    "loaded_embed_dataset = load_from_disk(embed_dataset)"
   ]
  },
  {
   "cell_type": "code",
   "execution_count": 7,
   "id": "ba9ff271",
   "metadata": {},
   "outputs": [
    {
     "data": {
      "text/plain": [
       "Dataset({\n",
       "    features: ['publication_number', 'title_en', 'claims', 'inventor', 'claims_length', 'embeddings'],\n",
       "    num_rows: 12201\n",
       "})"
      ]
     },
     "execution_count": 7,
     "metadata": {},
     "output_type": "execute_result"
    }
   ],
   "source": [
    "loaded_embed_dataset"
   ]
  },
  {
   "cell_type": "code",
   "execution_count": 5,
   "id": "856113cc",
   "metadata": {},
   "outputs": [],
   "source": [
    "db_name = \"../../epo_data/embed_trial.db\""
   ]
  },
  {
   "cell_type": "markdown",
   "id": "21f8b044",
   "metadata": {},
   "source": [
    "### Create Embedding table"
   ]
  },
  {
   "cell_type": "markdown",
   "id": "b6458b0a",
   "metadata": {},
   "source": [
    "#### Funcs"
   ]
  },
  {
   "cell_type": "code",
   "execution_count": 10,
   "id": "fbd11a6d",
   "metadata": {},
   "outputs": [],
   "source": [
    "def create_embed_table(conn: Connection, embedding_length: str):\n",
    "\n",
    "    try:\n",
    "        # load the extention\n",
    "        conn.enable_load_extension(True) # start loading extensions\n",
    "        sqlite_vec.load(conn)\n",
    "        conn.enable_load_extension(True) # end loading extensions\n",
    "\n",
    "        sql_statement = f\"\"\"\n",
    "        CREATE VIRTUAL TABLE vec_items USING vec0(\n",
    "            embedding float[{embedding_length}]);\n",
    "        \"\"\"\n",
    "        cursor = conn.cursor()\n",
    "        cursor.execute(sql_statement)\n",
    "        conn.commit()\n",
    "    except:\n",
    "        print(\"Failed to create embedding tables\")\n"
   ]
  },
  {
   "cell_type": "code",
   "execution_count": 11,
   "id": "5090260d",
   "metadata": {},
   "outputs": [],
   "source": [
    "def add_embeddings(conn: Connection, table_data):\n",
    "    # insert table statement\n",
    "    sql = \"INSERT INTO vec_items(rowid, embedding) VALUES (?, ?)\"\n",
    "    try:\n",
    "        conn.enable_load_extension(True) # start loading extensions\n",
    "        sqlite_vec.load(conn)\n",
    "        conn.enable_load_extension(True) # end loading extensions\n",
    "        # Create  a cursor\n",
    "        cur = conn.cursor()\n",
    "\n",
    "        # execute the INSERT statement\n",
    "        cur.execute(sql, table_data)\n",
    "\n",
    "        # commit the changes\n",
    "        conn.commit()\n",
    "    except sqlite3.OperationalError as e:\n",
    "        print(\"Failed to add datat to embedding table.\", e)\n",
    "\n",
    "    # get the id of the last inserted row\n",
    "    return cur.lastrowid"
   ]
  },
  {
   "cell_type": "code",
   "execution_count": 12,
   "id": "fd58c9d1",
   "metadata": {},
   "outputs": [],
   "source": [
    "def delete_embed_table(conn: Connection):\n",
    "    try:\n",
    "            conn.enable_load_extension(True) # start loading extensions\n",
    "            sqlite_vec.load(conn)\n",
    "            conn.enable_load_extension(True) # end loading extensions\n",
    "\n",
    "            sql = 'DROP TABLE IF EXISTS vec_items;'\n",
    "            cursor = conn.cursor()\n",
    "            cursor.execute(sql)\n",
    "            conn.commit()\n",
    "    except sqlite3.OperationalError as e:\n",
    "        print(\"Failed to delete to embedding table.\", e)"
   ]
  },
  {
   "cell_type": "markdown",
   "id": "51d82b0e",
   "metadata": {},
   "source": [
    "#### Actions"
   ]
  },
  {
   "cell_type": "code",
   "execution_count": 20,
   "id": "c224f6ad",
   "metadata": {},
   "outputs": [
    {
     "name": "stdout",
     "output_type": "stream",
     "text": [
      "768\n"
     ]
    }
   ],
   "source": [
    "print(len(loaded_embed_dataset[0]['embeddings']))\n",
    "len_embed = len(loaded_embed_dataset[0]['embeddings'])"
   ]
  },
  {
   "cell_type": "code",
   "execution_count": 19,
   "id": "c09d9ef8",
   "metadata": {},
   "outputs": [],
   "source": [
    "#====\n",
    "# Create embeddings table\n",
    "#====\n",
    "create_embed_table_state =False\n",
    "\n",
    "if create_embed_table_state == True:\n",
    "    try:\n",
    "        with sqlite3.connect(db_name) as conn:\n",
    "            create_embed_table(conn, str(len_embed))\n",
    "            print(\"Embeddings table created successfully.\")\n",
    "    except sqlite3.OperationalError as e:\n",
    "        print(\"Failed to connect to database\", e)"
   ]
  },
  {
   "cell_type": "code",
   "execution_count": 25,
   "id": "c06dcb38",
   "metadata": {},
   "outputs": [
    {
     "name": "stdout",
     "output_type": "stream",
     "text": [
      "0\n",
      "{'publication_number': 6, 'title_en': 'Process for nitrification of waste water', 'claims': 'process for nitrifying oxidizable nitrogen compounds in waste water, with the aid of a gas containing molecular oxygen and of microorganisms bound to an inert carrier material in a column, wherein the offgas of the column is vented andor recycled and, if necessary, part of the effluent is recycled, this process being characterized in that a tricklephase reactor is used as column, that the gas containing molecular oxygen contains at least 25 w. of oxygen, that during the nitrification 0.510 w. of c02, referred to the total quantity of oxygen, is present in the column, that such a quantity of the liquid effluent of the column is recycled that the entire column contents are irrigated, and that the gas and the liquid contact each other countercurrently.process according to claim 1, characterized in that the gas contains at least 90 w. of molecular oxygen.process according to claim 1 or 2, characterized in that 5 10 w. of c02, referred to the total quantity of molecular oxygen, is present.process according to the claims 1, 2 or 3, characterized in that the vent amounts to 110 w. of the total circulating gas stream.process according to the claims 14, characterized in that the liquid effluent, prior to its return to the column, is given a ph value of at least 8.process according to the claims 1 5, characterized in that the gas containing molecular oxygen, which is supplied to the column, is saturated with water vapour.process according to the claims 16, characterized in that the nitrification mainly proceeds to nitrite.', 'inventor': \"[{'name': 'Bakker, Gerhard', 'country': 'NL'}, {'name': 'Dijkstra, Fokke', 'country': 'NL'}, {'name': 'Zeeman, Johannes Petrus', 'country': 'NL'}]\", 'claims_length': 256, 'embeddings': [-1.3069334030151367, -0.5081974864006042, 0.03631362318992615, -0.5825099349021912, -0.8208799958229065, -0.6745659112930298, -0.14974813163280487, -0.015528797172009945, 0.7551855444908142, -0.9339288473129272, -1.075154423713684, 0.6525485515594482, -1.105739951133728, -0.026572730392217636, 1.0221986770629883, 0.0518052913248539, -0.4268369972705841, -1.001899242401123, 1.349184274673462, 0.04354513809084892, 0.5399325489997864, 0.08791052550077438, 0.01874818466603756, 0.7026346325874329, 0.403434157371521, 0.6501240730285645, -0.2072014957666397, 0.49757108092308044, 1.4775667190551758, 0.04203486070036888, -0.06631147116422653, -0.5682640671730042, -0.3138153851032257, -0.6177368760108948, -0.5872899889945984, 0.44602856040000916, -0.2994166314601898, -0.008820674382150173, -0.6957208514213562, 1.0149712562561035, 0.2459617257118225, 0.17066793143749237, -0.7307531833648682, -0.007528492249548435, -0.8385115265846252, 1.1594245433807373, 0.5516409277915955, -0.675506591796875, 0.2190535068511963, -1.3469268083572388, 0.3930113613605499, 0.8342276215553284, -0.02886800840497017, -0.2820729613304138, -0.8887860774993896, 0.018990440294146538, -0.3219892382621765, -0.2673753499984741, -1.12021005153656, 0.21191918849945068, 0.053705133497714996, -0.8283869028091431, 0.5160902738571167, 1.1224114894866943, -0.025571133941411972, 0.7917786836624146, -0.0167388953268528, 0.5731244683265686, -0.18293510377407074, 0.3799492120742798, -0.5415475368499756, 0.9343456029891968, -0.11679116636514664, 0.3441195785999298, -0.6658419966697693, 0.23193180561065674, 0.6218199729919434, 0.08716145157814026, 0.4406094551086426, 1.0161051750183105, 1.0500978231430054, 1.4060372114181519, -0.7254883050918579, 0.47008422017097473, -0.33810630440711975, -0.8348846435546875, 0.09724801033735275, 0.8730340600013733, 0.2742319703102112, 0.07845047116279602, -0.34984293580055237, -0.41366687417030334, 0.41286107897758484, -0.47173169255256653, 1.259696125984192, -0.47076648473739624, 1.2181860208511353, 1.4964877367019653, 0.5645787715911865, 0.36918747425079346, 1.2306562662124634, -0.7851776480674744, -0.3624836206436157, -0.8792836666107178, 0.6279953122138977, -0.8577475547790527, -0.8064438700675964, -0.7446885108947754, 0.18429243564605713, -0.1788385659456253, 0.08493982255458832, 1.6227669715881348, -0.4165371060371399, -1.2446266412734985, 1.1785030364990234, -0.33586642146110535, -0.13825564086437225, -0.04778958857059479, 0.42615658044815063, -0.19288203120231628, 0.2834376394748688, -1.0344160795211792, 0.40685227513313293, 0.18257580697536469, -0.2939237654209137, 0.8684888482093811, 0.7512551546096802, -0.7943686246871948, -1.1897413730621338, -0.24101342260837555, 0.3262437582015991, -0.2562297582626343, 0.3924107253551483, -0.5802621841430664, 0.31136682629585266, -1.0192816257476807, -0.15976957976818085, 0.5645787119865417, -0.7586588859558105, -0.12495627999305725, -0.04654690623283386, -0.9302395582199097, 0.35478436946868896, 0.047365546226501465, 0.34759047627449036, 1.4186997413635254, -1.0995296239852905, -0.0023926866706460714, 0.14234083890914917, 0.9144227504730225, 0.4376230835914612, -0.607657790184021, -0.6547342538833618, 0.38498497009277344, 0.16149836778640747, -0.47877296805381775, 0.2981230318546295, -0.5984278321266174, 0.3543606698513031, -0.6946485042572021, 0.052463166415691376, 0.7129658460617065, -0.2702346742153168, 0.20241130888462067, 0.5356093645095825, -0.382674902677536, -0.7807663083076477, -1.1668912172317505, 0.10210097581148148, -0.43966808915138245, 0.5119829177856445, -1.1649459600448608, 0.1824766993522644, 0.3709433674812317, 0.03621630370616913, -1.013384461402893, -0.26058894395828247, -0.390698105096817, -0.5695890188217163, -0.4918162524700165, 0.37538325786590576, -0.3445611000061035, -1.1188057661056519, 0.03483263775706291, -0.842544674873352, -0.511946976184845, -0.07255734503269196, -0.7013670206069946, 0.9176576733589172, 0.7231784462928772, 0.12278110533952713, -0.07263973355293274, -0.5552130937576294, 0.25323182344436646, -0.3440701961517334, -0.41993606090545654, -0.4920841157436371, -0.8006609678268433, -0.13055630028247833, -1.0725001096725464, 0.6435444951057434, 0.09451523423194885, -0.9824097156524658, 0.5358905792236328, 0.01737629994750023, -0.3317681550979614, 1.570375919342041, -0.3252548277378082, 1.7390073537826538, 0.1980557143688202, 0.6986790299415588, -0.795683741569519, -0.6305463910102844, 0.22291824221611023, -0.026683682575821877, -0.3034047782421112, 0.15294116735458374, 0.033065684139728546, 0.30878281593322754, -0.5060381889343262, 0.2775917947292328, 0.10233895480632782, -0.5004502534866333, -0.21884645521640778, -0.6143114566802979, -1.3401706218719482, 1.148682713508606, 0.059889934957027435, -0.16992692649364471, 0.7096268534660339, 0.2470787912607193, 1.2686052322387695, -0.8263258337974548, 0.3000456392765045, -0.7050325870513916, -1.0875059366226196, 0.399971067905426, 0.07757439464330673, 0.38765060901641846, 0.7662792205810547, 0.2686143219470978, 0.42350339889526367, -0.33673295378685, 0.1823924034833908, 0.3434697985649109, 0.7081332206726074, -0.4741053879261017, 0.3025134801864624, 0.3255753219127655, -0.3001902103424072, 1.1927934885025024, -0.20528066158294678, -0.11221851408481598, -0.8646047115325928, 1.0037508010864258, -0.17491528391838074, -0.4958951771259308, 0.2574402093887329, 0.8025445342063904, 0.4373112916946411, -1.0643020868301392, 0.4127439856529236, -0.23477128148078918, -0.5154130458831787, -0.9787989854812622, -0.8750311136245728, -0.449040025472641, -0.4519463777542114, -1.500613808631897, -0.12887470424175262, 0.4164021611213684, 0.7321434617042542, 0.4749841094017029, -0.001027631456963718, 0.13885743916034698, 0.8441802263259888, -0.3187357485294342, 0.1912131905555725, 0.25837811827659607, -0.9834393858909607, 0.045089974999427795, -0.3567865192890167, -0.6488692164421082, 0.3718545138835907, -0.4369375705718994, -0.6203270554542542, -0.2672847509384155, 0.7623052000999451, -0.6139106154441833, -0.9286167621612549, -0.9347038269042969, -1.25312340259552, -0.6243249773979187, -0.729175865650177, 0.05614617094397545, 0.766021192073822, -0.05330817401409149, -0.558732807636261, 0.008054275065660477, 0.49789032340049744, -0.041942298412323, -0.07354577630758286, -0.22316130995750427, 1.3982436656951904, -0.5425364375114441, -1.4870105981826782, -0.4838879406452179, 0.2430536299943924, 0.38088658452033997, 0.1385212242603302, -0.42876681685447693, 0.7422085404396057, 1.0032265186309814, 0.45176953077316284, -0.2269594669342041, 0.6203185319900513, -0.6276106834411621, 0.9166069030761719, 0.015936454758048058, 0.41897547245025635, -0.9915609955787659, 1.4847368001937866, 0.09620239585638046, -0.04359453171491623, 0.10381966829299927, 1.5368573665618896, -0.8179689049720764, -0.20627851784229279, -0.4616355299949646, -0.5803018808364868, 0.007904073223471642, -0.5644087791442871, 0.6424188017845154, 0.6363189816474915, 0.6432968378067017, -0.48871734738349915, 0.05262229964137077, -0.7426890730857849, -0.3468742370605469, -1.0506372451782227, 0.856212854385376, 0.11496233940124512, 0.5355057120323181, 0.25200554728507996, -0.9889732599258423, 0.04170102998614311, 1.0928020477294922, -0.6736052632331848, -1.843434453010559, 0.7820336818695068, -0.5156930685043335, 0.06594692170619965, -0.5193427205085754, 1.6126543283462524, -0.6998395323753357, 0.20401543378829956, -0.04829897731542587, 0.31470558047294617, 0.1701083481311798, -0.08101668208837509, 0.06423831731081009, -0.21671496331691742, 0.5386952757835388, -0.36546748876571655, -0.4798302948474884, -0.3976842761039734, 0.3691183924674988, -0.8507541418075562, -0.2872961461544037, 0.44095557928085327, -0.5429802536964417, 0.5997066497802734, -0.8627634048461914, -0.11747512966394424, 1.159159541130066, -0.4955737590789795, 0.6666095852851868, -0.5818818807601929, -1.3921411037445068, -0.03566910699009895, -0.708674430847168, -0.0616212897002697, -0.007801986765116453, -0.1960001140832901, 0.6080421805381775, 0.24799835681915283, 0.3512289822101593, -0.08966199308633804, -0.39524349570274353, 1.1019344329833984, 0.406305193901062, 0.42626968026161194, -0.04834861308336258, -0.09055855870246887, 0.5867321491241455, 1.0905393362045288, -0.13094620406627655, 0.4929102957248688, 0.8358995914459229, -0.19074349105358124, -0.25057291984558105, 0.1291920244693756, 0.8454144597053528, -1.0911993980407715, -0.5577706694602966, -0.6937229037284851, 0.5715225338935852, -1.3917601108551025, -1.6601786613464355, -0.4948292374610901, 0.6716203689575195, 1.095626711845398, 0.03874417394399643, -1.5369058847427368, 0.15849265456199646, -0.05123170092701912, 0.36876535415649414, 0.971671462059021, 0.5928452610969543, 0.47251662611961365, 0.7127813696861267, 0.19160300493240356, 0.5728728771209717, -0.3689305782318115, 0.11194314062595367, 0.06626205891370773, 0.26881277561187744, -0.31995487213134766, -0.23042747378349304, -0.1450500786304474, -0.559705913066864, 0.10677234828472137, 0.5718536972999573, 0.5918868780136108, -0.5235975980758667, 0.9762500524520874, -0.4470897912979126, 0.07095020264387131, 0.5041708946228027, -0.027028532698750496, 0.20862151682376862, 0.31509074568748474, -0.9052971005439758, -0.05901771038770676, -0.43030092120170593, -1.6389645338058472, 0.09995776414871216, -0.4024338126182556, -0.7561686038970947, 1.0701085329055786, 0.26843446493148804, -0.9164507985115051, 0.3677602708339691, -0.6514257192611694, -0.753630518913269, 0.06202894449234009, -0.19825512170791626, -0.29200804233551025, 1.05064857006073, -1.1122599840164185, -1.3156858682632446, -0.05125567689538002, 1.3501808643341064, -0.2824288606643677, -0.8619428277015686, 0.5289326906204224, 1.1170904636383057, -1.3515868186950684, 1.1270833015441895, 0.6739211678504944, -0.10298214107751846, -0.3255104124546051, -0.7327220439910889, 1.067808747291565, 0.48228490352630615, -0.592239499092102, -0.8640594482421875, -0.6947643756866455, -0.310161292552948, -0.744218111038208, -1.470708966255188, 0.5708189606666565, 0.010327338241040707, -0.10373588651418686, -0.7707412838935852, 1.306830883026123, 0.5560216903686523, -0.4903739392757416, -0.5707840919494629, -0.6543201804161072, -0.359844833612442, -0.19785362482070923, 1.0767390727996826, -1.023929238319397, 0.016412004828453064, 0.7239729166030884, 0.4840784966945648, -1.0468636751174927, 0.12441059947013855, -0.6448010802268982, 0.23126013576984406, 0.6611194610595703, -0.3162171244621277, 0.20122715830802917, -0.07686303555965424, -0.4749694764614105, -0.4916020631790161, 0.351245254278183, 0.029139872640371323, -0.70482337474823, 0.4137742221355438, -1.3746047019958496, -0.5266923308372498, -0.5194291472434998, -0.6108402609825134, -0.013296598568558693, -0.0022825219202786684, -0.42628350853919983, -0.05105061084032059, -1.0165516138076782, -0.1393735706806183, -0.5474609732627869, -0.1538354754447937, -0.023381873965263367, 0.42420506477355957, -0.30753597617149353, 0.29480162262916565, -1.225403070449829, -0.7599301338195801, 0.07724400609731674, -0.6506395936012268, -0.07655646651983261, 0.5613082647323608, -1.0068671703338623, -0.6977893114089966, -0.3600381910800934, 0.8170729875564575, 0.14508186280727386, 0.153413325548172, 0.5340254902839661, -0.0996628999710083, 0.020582284778356552, 1.28683602809906, 0.9557613134384155, 0.13948799669742584, -0.3640940189361572, -0.09777149558067322, -0.20188860595226288, -0.15598945319652557, 0.05971403047442436, 1.1214776039123535, -1.400808572769165, -0.630095362663269, 0.2991374135017395, 0.4251589775085449, 0.5389442443847656, -0.16256804764270782, -1.349139928817749, -0.20726250112056732, 0.8555396199226379, -0.22058546543121338, 0.545235276222229, -0.1381617784500122, -0.6516756415367126, 0.3015676438808441, -0.7525385022163391, -0.4173498749732971, -0.5813602805137634, 0.07621636241674423, -0.22215338051319122, -0.7503963708877563, 0.8083801865577698, 0.19387048482894897, -0.538094699382782, -0.14775539934635162, -0.31438755989074707, -0.2329612523317337, -0.07640370726585388, 1.0061100721359253, 0.22764600813388824, 0.7146674990653992, -0.05287543311715126, -0.1681482344865799, -0.23631303012371063, 0.5785630941390991, -0.44606122374534607, 0.38333141803741455, -0.9535332322120667, -0.06493738293647766, 1.0612456798553467, -0.3577021658420563, 1.20000159740448, -0.16685934364795685, 0.03197934851050377, 0.858128011226654, 0.7724348306655884, -0.4299090504646301, -0.6982589364051819, -0.23625575006008148, -0.2730295956134796, -0.9514476656913757, 0.09712615609169006, 0.01921135187149048, 1.0143989324569702, -0.2274179607629776, 0.2691850960254669, -0.3006294071674347, -0.15989696979522705, -0.2727743089199066, 0.6693161725997925, 0.07271867245435715, 0.09466831386089325, -0.6975194215774536, 0.2366752177476883, 0.3079790771007538, 0.7093092799186707, 1.004072666168213, 0.49426591396331787, 0.803314208984375, -0.05270452797412872, 0.01347160805016756, 0.6149901747703552, 0.4349935054779053, -0.2709692418575287, 0.5382944941520691, 0.2293209284543991, 0.6106731295585632, -0.4057409465312958, 0.20743654668331146, -0.8958866000175476, 0.8150851130485535, -0.2822399139404297, 0.08536802232265472, 0.46448320150375366, -1.0622252225875854, -1.6877238750457764, -0.146397203207016, 0.06150020658969879, -1.0417741537094116, -0.10423590987920761, -0.8043383359909058, -0.5227532982826233, -0.6202319860458374, 0.8688602447509766, 0.23702917993068695, 0.3972623348236084, -0.4091418981552124, 0.08036758750677109, 0.7069991827011108, 0.5879361629486084, -0.2347855567932129, 0.12671531736850739, -0.5617401003837585, 0.37198472023010254, -0.03087179735302925, -0.16170315444469452, 0.9336424469947815, -0.0946122333407402, -1.3826904296875, 0.8499804139137268, 0.9140720963478088, -0.4050528407096863, 0.1436450481414795, 0.6684075593948364, 0.17431631684303284, -0.4363625645637512, 1.0349583625793457, -0.804661750793457, 0.9606207013130188, 1.3620738983154297, -0.20531006157398224, -0.3124449849128723, -0.19504468142986298, -1.6996092796325684, -1.2041078805923462, -1.4200667142868042, 0.2210572063922882, -0.10743863880634308, -0.14267250895500183, 1.1710652112960815, -0.27587661147117615, -0.31241557002067566, 0.24901102483272552, 1.0308862924575806, 0.3403022289276123, 1.143959641456604, 0.5287467837333679, -0.8953941464424133, 0.1338886171579361, 0.1519758105278015, -0.10247552394866943, 0.5822715163230896, 0.06757503747940063, -0.49436017870903015, 0.7319809794425964, 0.03495766595005989, -0.3744363486766815, -0.018109144642949104, -0.25482040643692017, 1.0575371980667114, -0.32028862833976746, 0.07521075010299683, 0.48026636242866516, 0.0646415501832962, -0.33303388953208923, 0.22109168767929077, -0.34710434079170227, 0.3304516673088074, 0.6723630428314209, -0.43991324305534363, -0.7529399991035461, 1.2253928184509277, 0.15690208971500397, 0.4249126613140106, -0.5487174987792969, 1.1509376764297485, -0.022304806858301163, 0.9859921336174011, 1.652834177017212, 0.19877001643180847, 0.12031795084476471, 0.26213890314102173, -0.9078482985496521, -0.21107089519500732, -0.10176985710859299, 0.538418173789978, 0.5588092803955078, 0.29819434881210327, 1.2019075155258179, 0.9902936220169067, -0.9019330143928528, 1.5344762802124023, -1.0462838411331177, 0.5219703316688538, 0.09524530917406082, -1.4745134115219116, 0.5706048607826233, -0.45200514793395996, 0.3589462637901306, -0.5387619137763977, -0.6390141248703003, 0.21296414732933044, -0.5491127967834473, 0.32405105233192444, 0.41541337966918945, 0.3971422016620636, -0.6310473680496216, 0.2577248811721802, 0.1587313413619995, -0.1435687094926834, 0.20705141127109528, 0.31083133816719055, 0.4874173700809479, -0.7011489868164062, -0.2358003705739975, -1.0740402936935425, 1.0505422353744507, 0.5095559358596802, 1.6124728918075562, -0.317696213722229, -0.26114270091056824, 0.11699862033128738, -0.7439690828323364, -0.6878646612167358, 0.14702001214027405, -0.2849157452583313, -1.17649507522583, 0.4098983108997345]}\n",
      "<class 'dict'>\n",
      "6\n",
      "1\n",
      "{'publication_number': 41, 'title_en': 'An intravascular catheter', 'claims': 'an intravascular catheter comprising a hub 2 having an axial passageway 5 open at ihe forward end thereof, an auxiliary passageway 7 branched from the axial passageway 5. a flexible doublewalled tube 3 extending into the forward end of the hub 2 and having an inwardlytapered tip portion 21 remote from the hub. the doublewalled tube 3 consisting of an inner tube 13 providing a central passageway 15 and an outer tube 16 arranged coaxially with respect to the inner tube 13 and forming an annular passageway 20 therearound, the annular passagewav 10 communicating with the auxiliary passageway 7 and the central passageway 15 extending into the axial passageway 5 and boing sealingly separate from the annular passageway 20 and the auxiliary passageway 7, there bing at least one bore 23, 24 ill the outer tube 16 communicating with the annular passageway 20, and a needle 4 removably inserted into the central passageway 15 and having a needle tip extending beyond the tapered tip portion 121 characterised in that the tapered tip portion 21 is formed of the same material as the inner tube 13 and the outer tube 16. the central passageway 15 extends through the tapered up pur lion 21 and torminatee at the end thereof, the tapering tip portion 21 tapers smoothly and uniformly inwardly from the oiller tube 16 and is ct solid construction so as to facilitate insertion into a patient. the annular passageway 20 terminates at the beginning of the tapered tip portion 21 with the at least one bore 23, 24 arrangod at the and of the annular passageway 20 adjacent the beginniny of the tapered tip portion 21 thereby preventing blood stagnation at the end of the annular passageway 20.the intravascular catheter according to claim wherein a cap 27 having a waterrepelling filter 26 for withdrawal of air from the needle is provided at tne end of the needle romoto from the tip.the . intravascular catheler according to claim 1 or 2, and further comprising a second auxiliary passageway 8 branched from the axial passageway 5 and communicating with the central passageway 15, a scaling member 6 being provided in the rearward end of the hub 2 and through which the needle 4 is removably insened.the intravascular catheter according to claim 3, wherein a flexible sheet 32 acting as a valve to prevent blood from leaking through the sealing member 6 is mounted et the inner end of the sealing member 6.', 'inventor': \"[{'name': 'Sagae, Kyuta', 'country': 'JP'}, {'name': 'Tanabe, Susumu', 'country': 'JP'}, {'name': 'Kamogawa, Hiroshi', 'country': 'JP'}]\", 'claims_length': 410, 'embeddings': [1.1171661615371704, -0.25005418062210083, 0.0053628431633114815, 0.46414321660995483, -0.28037306666374207, 1.5694245100021362, 0.4281512498855591, -0.6357294917106628, 0.1806197166442871, -0.9720199704170227, -0.2752220332622528, 0.6725196838378906, -0.8526753187179565, -0.1575610488653183, 0.6108061671257019, -0.2927282750606537, 1.2700409889221191, -0.2486187070608139, 0.16840247809886932, -0.13888244330883026, -0.13958612084388733, 0.16783598065376282, 0.9977296590805054, 0.01580042950809002, -1.7793424129486084, 0.2212710827589035, 0.6722737550735474, -0.9713448882102966, -1.5478535890579224, -1.0962456464767456, 0.3700141906738281, -0.3717789649963379, 0.2542993426322937, -0.15117807686328888, -1.0348622798919678, -1.172011375427246, -0.6693089008331299, 0.013863623142242432, 0.9405038952827454, -0.7420521378517151, -0.029722677543759346, -1.4348745346069336, -0.7015780806541443, 1.4914703369140625, -1.2625932693481445, -0.147074356675148, -0.4949580729007721, 0.5029886960983276, -0.517204999923706, -0.06170519068837166, 0.17609697580337524, -0.5489504933357239, 1.0279431343078613, -0.7710592150688171, -0.6257038116455078, 0.9048423171043396, -0.3659311532974243, -0.06639961153268814, -0.598124086856842, -0.364881306886673, 1.151802659034729, 0.29236742854118347, 1.8556127548217773, -0.07076625525951385, -1.4167860746383667, -0.7221032381057739, 0.9650136232376099, 0.59904944896698, 0.07519876956939697, 0.137276753783226, -0.15430404245853424, -0.02358599565923214, -0.5326606631278992, 0.2347850501537323, 0.17569704353809357, 0.5510847568511963, -0.004148310516029596, 0.10064994543790817, 0.11911937594413757, -1.1898279190063477, -0.28062674403190613, -0.3179887533187866, 0.3849634528160095, -0.06799576431512833, -0.2831245958805084, -0.07195010036230087, 0.5616735219955444, -0.977887749671936, -0.9216749668121338, -0.15288762748241425, 0.6123625040054321, 0.2958855628967285, -0.18948610126972198, -0.2048431932926178, -0.36450567841529846, 0.3341786563396454, 1.0614569187164307, -0.8584034442901611, 0.11837724596261978, -0.9951776266098022, -0.6881412863731384, -0.5613572597503662, 0.15758609771728516, -0.6880813241004944, -0.4607091546058655, -0.13375434279441833, 0.4652193784713745, 0.5902270078659058, -0.20928899943828583, -0.4742893576622009, -1.0072580575942993, 0.33699342608451843, 0.7287324666976929, -0.2616269588470459, -0.11027836799621582, 0.08846142888069153, -0.5266819596290588, 0.5612839460372925, -0.586378276348114, 1.063238501548767, 0.3114049732685089, 0.232268825173378, -0.5081777572631836, 0.12421773374080658, 0.18221791088581085, -0.5813032388687134, 0.6953626871109009, 0.2863807678222656, 1.023673415184021, 1.1039276123046875, -0.2517678141593933, -0.17006057500839233, -0.09118806570768356, -0.21480467915534973, 1.0397998094558716, -0.7363091111183167, -0.6173745393753052, -0.37657591700553894, -0.20927122235298157, 0.18792153894901276, 1.6586731672286987, 0.022159293293952942, -0.341783344745636, 0.30672216415405273, 0.009575984440743923, -0.22832809388637543, 0.04855545610189438, -0.12268051505088806, 0.2670215964317322, 0.30772411823272705, -1.692595362663269, -0.2353830337524414, 0.7479842901229858, -0.03227734938263893, 0.797185480594635, 0.8623210787773132, 1.454842209815979, -0.7897447347640991, -0.5640719532966614, 0.8075946569442749, -0.4506438970565796, 0.6992295980453491, 0.785065233707428, 0.2720017731189728, -0.6983925104141235, -0.541286826133728, -0.06696697324514389, 0.3993084728717804, -0.8416515588760376, 0.3286580443382263, 0.4745912551879883, -0.0854257270693779, 0.31946200132369995, -0.2818058729171753, 0.5420998930931091, 0.5867413878440857, -0.22166617214679718, 0.4627278745174408, 0.4127868413925171, 0.4773508310317993, -0.3128814101219177, 0.4936273694038391, 1.038964033126831, 0.6873829960823059, 0.7495462894439697, 0.23163309693336487, 0.01067934837192297, 0.17592620849609375, 1.051503300666809, 0.406086802482605, 0.5562043190002441, -0.142469123005867, -0.8893001675605774, 0.43349945545196533, -0.07489161193370819, -0.9680306315422058, -0.546481728553772, 1.3626998662948608, 0.9072484374046326, -1.5394412279129028, -0.11855965107679367, 0.21618150174617767, 0.04750429838895798, 0.4583480954170227, -1.4311829805374146, 0.5797110795974731, -0.21672885119915009, 0.04760066047310829, -0.8943154215812683, 0.39037781953811646, -0.41261640191078186, 0.04201209545135498, 0.4432065486907959, -0.8663241863250732, -0.1410873830318451, 0.3129202127456665, 0.14258745312690735, -0.3479400873184204, 0.45050254464149475, -0.013665517792105675, 0.8725570440292358, -0.7936936616897583, 0.04918025806546211, 0.7608212828636169, -0.4489547908306122, 0.9992235898971558, 0.5197487473487854, -0.3124895691871643, 0.39456769824028015, -0.309634268283844, -0.775025486946106, 0.5658859610557556, 0.9048393964767456, -1.0252400636672974, 0.0514819510281086, -0.23932023346424103, -0.15558819472789764, -1.070743441581726, 0.6795946359634399, 0.1756220906972885, 0.4633479714393616, 0.39309099316596985, 0.8493068814277649, -0.518677830696106, -0.4151630997657776, -0.7782829999923706, -0.08591695129871368, 0.06082260608673096, 0.3689270317554474, 0.026197116822004318, 1.2612839937210083, 0.5165960192680359, 0.5384263396263123, 9.988551028072834e-05, 0.8008335828781128, -0.26495593786239624, 0.3302369713783264, 0.4446410536766052, -0.3132113516330719, 0.47371745109558105, -1.045322060585022, 0.8611474633216858, 0.9799660444259644, -1.2180513143539429, 0.7814304232597351, -0.26084354519844055, -1.1095027923583984, -0.3763102889060974, -0.3483515977859497, -0.8278968334197998, 1.2868678569793701, -0.3675282895565033, 0.14742529392242432, -0.7920220494270325, 0.4243863523006439, -0.9475833177566528, 1.2057852745056152, 0.5010594129562378, -1.2574691772460938, -1.0687148571014404, 0.5141210556030273, -0.08391409367322922, -0.16739830374717712, 1.4581735134124756, 0.3491082787513733, 0.12224317342042923, -0.32249915599823, -0.7575475573539734, 0.19016963243484497, -0.31344449520111084, 0.724190890789032, 1.7230088710784912, 0.49213096499443054, -0.24722084403038025, 0.6230697631835938, 0.7790000438690186, 0.5716536641120911, 0.18346333503723145, -0.3366604447364807, -0.19989126920700073, 0.35081157088279724, -0.3828662931919098, 0.5587196350097656, 0.36167091131210327, -0.3024210035800934, -0.6829653382301331, 0.27442196011543274, -0.008074238896369934, 0.5659705996513367, -0.10239865630865097, -1.2767444849014282, -0.25357770919799805, -0.24623622000217438, -0.5472710132598877, -0.1653238832950592, 0.49593377113342285, -0.29496145248413086, -0.026898089796304703, 0.4097192585468292, -0.12587641179561615, 0.1847294420003891, 0.3817371726036072, 0.604819655418396, -0.7826563715934753, -1.0188837051391602, 0.1876252293586731, 0.5504843592643738, 0.7581919431686401, 0.60118168592453, 0.9988492727279663, -0.4804752767086029, 0.663699209690094, -0.6020619869232178, -0.008323132060468197, -0.6627449989318848, 0.11528127640485764, -1.6600910425186157, 0.11266171932220459, -0.09310153871774673, 0.011789525859057903, 0.38913780450820923, 0.07123314589262009, -0.5543773174285889, -0.007587190251797438, -0.1321587860584259, 0.47716009616851807, 0.9950152635574341, 0.8958932757377625, 0.18889255821704865, 0.1850282847881317, -0.861195981502533, -0.34456539154052734, -1.617386817932129, -0.295981764793396, -0.5819207429885864, 1.242915153503418, 0.5629867315292358, 0.5899819731712341, 0.2314096987247467, -0.12136321514844894, 0.3800746500492096, 0.7681805491447449, -0.9934541583061218, -0.32741373777389526, -0.49591729044914246, -0.022663870826363564, -0.4598538875579834, 0.6151480674743652, -0.8393958806991577, -0.5896350741386414, -0.02544982358813286, -0.8138812780380249, 0.2807689309120178, -0.8892924189567566, -0.2563283145427704, 0.5640236139297485, 0.9517079591751099, 1.3956023454666138, -0.1383434236049652, 0.5053678750991821, -0.361850380897522, 0.35604128241539, -0.11072102934122086, -0.6207950115203857, 0.032572343945503235, -0.09757546335458755, -0.576474666595459, -0.9634023308753967, -1.2287850379943848, -0.8457017540931702, 0.21457064151763916, 0.7341117262840271, 0.2149132341146469, 0.6530230045318604, -0.06845518201589584, 0.09439709037542343, -0.3162505328655243, 0.19449160993099213, -0.5172189474105835, -0.9149656891822815, 0.12886075675487518, -0.01367682870477438, 1.154069185256958, 0.5710546970367432, -0.2104303240776062, -0.7627578377723694, 0.263937383890152, 0.9182524681091309, 1.0453722476959229, -0.7014965415000916, 0.563410758972168, -0.13484680652618408, -0.33838796615600586, -0.2545531690120697, -0.9142013788223267, 0.6494109630584717, -0.2241135835647583, -0.3088803291320801, 0.5813080072402954, -0.766100287437439, 0.5322612524032593, -0.7919475436210632, 0.7176800966262817, 0.3013646900653839, -0.13042624294757843, -0.5991145968437195, -0.27871939539909363, 0.5930157899856567, 0.4689220190048218, -1.2067581415176392, -1.0008468627929688, -0.7007015347480774, -1.7426457405090332, 0.03796570748090744, -0.5350677967071533, 0.2862161695957184, -0.7416085600852966, 0.7378888130187988, 0.23578622937202454, -0.4963836669921875, 0.21843184530735016, 0.09912315011024475, -0.05237393453717232, -0.5188645124435425, 0.27414536476135254, 0.4996925890445709, -0.8948017358779907, -0.3082592189311981, 0.10070646554231644, 0.12316612154245377, 0.056850071996450424, 0.1533130705356598, -0.7189483046531677, -0.1203254833817482, -0.15880221128463745, -0.13668490946292877, -1.0518012046813965, 0.05436984822154045, -0.6725294589996338, -0.4589289128780365, -0.4538971185684204, 0.7799566984176636, -0.07055699080228806, 0.6679651141166687, 0.6380636096000671, -0.19548451900482178, -0.5994897484779358, 0.4862164556980133, -0.35931268334388733, -0.4237806499004364, -0.47874894738197327, 0.2383642941713333, -0.05749271810054779, -0.1465020775794983, 0.7487839460372925, -0.059435661882162094, 0.4387023448944092, -0.1623786985874176, 0.9443933963775635, -0.4707045555114746, 0.38303297758102417, -0.5766152143478394, 1.5545493364334106, 0.2887337803840637, 0.24738414585590363, 0.9814008474349976, -0.13915392756462097, 1.2717074155807495, -0.4558485746383667, 1.163280725479126, -0.15934902429580688, -0.7970901727676392, -0.40450572967529297, 0.8876532912254333, -0.4068417549133301, -0.6945288777351379, 0.10961229354143143, -0.05430842563509941, 0.20146594941616058, -0.2023557722568512, 0.5349851250648499, 1.0208027362823486, -0.18385519087314606, 1.4996131658554077, -0.3891505002975464, 0.39729928970336914, 0.2152823656797409, 0.537993848323822, -0.011092787608504295, 0.7009708285331726, -0.768837571144104, -1.4727206230163574, 0.37046635150909424, -0.8139728903770447, 1.2638086080551147, -0.8519376516342163, -0.9282114505767822, 1.1985310316085815, -0.17788581550121307, -1.083272099494934, -0.7986837029457092, -0.8799998760223389, -0.21414679288864136, -0.1419658064842224, -0.8519596457481384, -0.19732658565044403, 1.1414599418640137, 0.5327876210212708, 0.7021953463554382, 0.01992228254675865, -0.8259633183479309, -0.2812764048576355, 0.08782990276813507, 0.20734916627407074, -0.1505134403705597, -2.1137194633483887, -0.5438421368598938, 0.5664774179458618, -0.474164754152298, -0.8611395359039307, 1.024763584136963, -0.9247036576271057, -0.3095341920852661, -0.680296003818512, 0.09592486917972565, 0.5665963292121887, -0.4982025623321533, -1.6384165287017822, -0.8189985752105713, 2.470160722732544, -1.0317198038101196, 0.24421292543411255, 0.49992120265960693, 1.0595788955688477, -0.1338668316602707, -0.8058740496635437, 0.7654345631599426, 0.394502729177475, -0.49091029167175293, 0.36375871300697327, 0.42764735221862793, -0.9644439816474915, -0.5880866050720215, 0.6719051599502563, -0.7489849328994751, -1.3502366542816162, -0.2603638768196106, 0.10831627249717712, -0.46128299832344055, -0.4079536199569702, 1.3514755964279175, -0.8954315781593323, -1.421878695487976, 0.10211596637964249, 0.43273839354515076, 0.1877891570329666, 0.3707442581653595, -0.703857958316803, 1.025447964668274, -0.42065900564193726, 0.5890761613845825, -0.4892297387123108, 1.449522852897644, -0.20258592069149017, 0.09154138714075089, -0.046891286969184875, -0.7381630539894104, 0.051217809319496155, 0.4188241958618164, -0.1032387986779213, -0.008835161104798317, -0.16792316734790802, 0.2597562074661255, 0.15806661546230316, 0.10435397177934647, 0.04285106435418129, -0.21542836725711823, 0.25045934319496155, -0.7734929323196411, 0.5771213173866272, 0.42021340131759644, 1.0229082107543945, 0.3513188660144806, 0.4514627754688263, -0.15950347483158112, 0.49016231298446655, -0.1610727459192276, -0.20097695291042328, 0.18133336305618286, -0.15949268639087677, 0.520054817199707, 0.8193687796592712, 0.23099017143249512, 0.47829705476760864, -0.5971471071243286, -0.905716061592102, -0.7077666521072388, -0.5259073972702026, 1.1395798921585083, -1.0930827856063843, 0.7947890162467957, -1.0915720462799072, 0.6358264088630676, -0.32970955967903137, -0.6721011400222778, -0.2613057494163513, 0.8442292213439941, -0.6093340516090393, 0.2588871419429779, 0.21200823783874512, 0.6892951726913452, 0.5662940740585327, 0.7199404835700989, -0.4305819272994995, 0.07237140089273453, 0.37124255299568176, 0.3907233774662018, 0.5984365940093994, 0.18941159546375275, 0.7597415447235107, -0.5838993787765503, 0.4272150695323944, -0.09775235503911972, -0.022906888276338577, -0.602643609046936, -0.5091246962547302, -0.21881014108657837, -0.7894529700279236, -0.7417441606521606, -0.14322848618030548, -0.35037270188331604, -0.4557223320007324, 0.20347163081169128, 0.7106486558914185, 0.03370275720953941, -0.3736145794391632, 0.9915924072265625, -0.20809198915958405, 0.5671213865280151, 0.44021075963974, -0.051469143480062485, 0.21474912762641907, -0.35850265622138977, -0.5275738835334778, 0.3306909203529358, -0.7324733138084412, 0.25367680191993713, -0.1981029063463211, 0.08829763531684875, -1.3893351554870605, -1.3896470069885254, -0.9849247932434082, 0.7021844983100891, -0.19978773593902588, 1.0918402671813965, -0.08318579196929932, 0.008397514000535011, -0.5205269455909729, -0.7640724778175354, 0.060228440910577774, -0.14072199165821075, -0.18654502928256989, 0.09859312325716019, -0.22885753214359283, 1.0398197174072266, 1.0208773612976074, -0.6117880344390869, -0.7494507431983948, 0.4408758282661438, -0.6551143527030945, -0.9419113993644714, -0.4027716815471649, -0.4893195927143097, 0.8750849962234497, -0.4041769802570343, -0.6728535890579224, -0.4788387417793274, 1.055841326713562, -0.5795869827270508, -1.2322756052017212, 0.11621297895908356, -0.9743980169296265, 0.17544673383235931, -1.0798050165176392, 0.6727688312530518, -0.6712391376495361, 0.6498116254806519, -0.6654600501060486, 0.07722227275371552, -0.17229604721069336, -0.06227787956595421, -0.20620417594909668, 0.6343322396278381, 0.18384875357151031, 0.6685330867767334, -0.541045606136322, -0.6819913387298584, 0.2058144360780716, 0.29425472021102905, 0.627051591873169, -0.37504857778549194, 1.247097134590149, 0.6103962659835815, 0.3867630958557129, 0.8664687275886536, 0.05242889001965523, -0.9728801846504211, -0.5435671806335449, -1.1723052263259888, -1.1608821153640747, 0.4535348117351532, -0.15949085354804993, -0.056322600692510605, -0.15188100934028625, -0.31345680356025696, -0.5156020522117615, -1.0743926763534546, 0.5351349115371704, -1.1813713312149048, 1.0732176303863525, 1.1496777534484863, 0.2626400887966156, -0.3809788227081299, 0.06788823008537292, 1.7193734645843506, 0.35656389594078064, 0.06012841314077377, -0.5689119100570679, 0.05702311545610428, -1.2696834802627563, -0.45135727524757385, 0.4386141896247864, -0.009538899175822735, -0.11271268129348755, -0.5951645970344543, 0.357357919216156, -2.0352487564086914, 0.3332434296607971, -1.3232749700546265, 0.6135261058807373, 0.018752457574009895, -0.04454457759857178, 0.6084784269332886, -0.24823404848575592, 0.17148014903068542, -0.6536461114883423, 0.2909439206123352, 0.13723044097423553]}\n",
      "<class 'dict'>\n",
      "41\n",
      "2\n",
      "{'publication_number': 85, 'title_en': 'Process for the production and separation of hydrogen iodide and sulphuric acid and their respective uses in the production of hydrogen and oxygen', 'claims': 'a process for the production and separation of hydrogen iodide and sulphuric acid which process comprises reacting together a mixture of iodine, water and an excess of sulphur dioxide so as to produce two phases, a first phase comprising aqueous sulphuric acid and a second phase comprising sulphur dioxide containing dissolved hydrogen iodide separating the two phases and recovering sulphuric acid and hydrogen iodide respectively from the two phases characterised in that at least one waterinsoluble organic compound selected from trialkyl phosphates and dialkylalkyl phosphonates and mixtures thereof, is added to the reaction mixture.a process as claimed in claim 1 wherein the variable parameters of the process, including the quantity of the organic compound employed, are selected such as to produce a sulphuric acid phase having a concentration of at least 40 by weight hzso4.a process as claimed in claim 1 or claim 2 wherein the organic compound or one of the organic compounds employed is tributyl phosphate.a process as claimed in any one of the preceding claims wherein the organic compound is diluted with an organic sovent.the use of the hydrogen iodide produced and separated by the process claimed in any one of the preceding claims, for the production of hydrogen by decomposition of the hydrogen iodide into hydrogen and iodine.the use of the sulphuric acid produced and separated by the process claimed in any one of claims 1 to 4, for the production of oxygen by decomposition of the sulphuric acid into sulphur dioxide, water and oxygen.', 'inventor': \"[{'name': 'De Beni, Giancarlo', 'country': 'IT'}, {'name': 'Pierini, Giancarlo', 'country': 'IT'}, {'name': 'Spelta, Bruno', 'country': 'IT'}]\", 'claims_length': 249, 'embeddings': [-1.4407191276550293, 0.18085557222366333, -0.7000855803489685, -0.8616888523101807, -0.5346929430961609, -0.7107738256454468, -0.05152815580368042, 0.1399097740650177, 0.5817747712135315, -0.5821991562843323, -0.9199899435043335, 0.4677495062351227, -1.2031584978103638, -0.19563893973827362, 1.1864726543426514, -0.13367809355258942, -0.7251750230789185, 0.030929772183299065, 0.6685963273048401, 0.2663946747779846, 0.9154059886932373, -0.4525896906852722, -0.3287179172039032, 0.4213893711566925, -0.18300297856330872, 1.036124348640442, 0.2919634282588959, -0.247409388422966, 1.2370994091033936, -0.3249862492084503, 0.2463712841272354, -0.46333563327789307, -0.610409140586853, -1.1529556512832642, -0.35192883014678955, 0.6662425994873047, -0.5737271308898926, -0.044849295169115067, -0.4032756984233856, 1.4802272319793701, -0.1515994668006897, -0.16323283314704895, -1.4750709533691406, 0.39518046379089355, -1.178700566291809, 1.0931752920150757, 0.11121828109025955, -0.2643428444862366, 0.1633850485086441, -0.801791250705719, 0.6492758989334106, 0.2856507897377014, -0.00928403064608574, -0.09472225606441498, -0.6042176485061646, 0.2774292230606079, -0.5974973440170288, -1.0113242864608765, -1.6024497747421265, 0.3128317892551422, 0.20029623806476593, -0.9292365908622742, 0.08931266516447067, 0.20547117292881012, -0.08381221443414688, 1.0055272579193115, -0.5739091038703918, 0.4949662983417511, -0.11931189149618149, 0.23558123409748077, -0.31192389130592346, 1.487166166305542, -0.6552852988243103, 0.3893798589706421, -0.8529816269874573, 0.4022447466850281, 0.7949040532112122, 0.1662909984588623, 0.5342869758605957, 0.7270357608795166, 1.2099753618240356, 1.0606263875961304, -0.7429388165473938, 0.7706069946289062, -1.0256235599517822, -0.7340853214263916, -0.22055934369564056, 0.4422145187854767, 0.4552565813064575, -0.14839212596416473, -0.3245106041431427, -0.5507143139839172, 0.24011141061782837, -0.7476947903633118, 0.941885769367218, -0.21404443681240082, 1.4259004592895508, 0.9937742352485657, -0.5683271884918213, 0.19560618698596954, 0.16659438610076904, -0.8130483031272888, -0.5323655009269714, -1.5988805294036865, 0.32334768772125244, -0.8937578201293945, -0.48783376812934875, -0.31259074807167053, 0.8701914548873901, 0.2764941155910492, -0.07010839134454727, 1.5292383432388306, -0.7720454335212708, -0.9406976103782654, 0.6376522183418274, -0.6018669009208679, -0.4950479567050934, -0.17451956868171692, 0.35675331950187683, -0.5084925889968872, 0.16067185997962952, -0.8660134077072144, 0.7749856114387512, -0.18622277677059174, -0.7166039943695068, 0.09919977933168411, 0.1573740690946579, -1.3179636001586914, -0.6156761050224304, -0.22091621160507202, 0.29758015275001526, -0.39105698466300964, 0.3446926176548004, -0.2794877290725708, 0.4158245921134949, -0.24429704248905182, 0.08586141467094421, 0.41895076632499695, -0.5679532289505005, 0.0843464583158493, 0.36920467019081116, -0.9536967873573303, 0.12115710973739624, 0.1623951643705368, 0.7529654502868652, 1.0382570028305054, -1.4215004444122314, 0.10656805336475372, 0.23536032438278198, 0.40479958057403564, 0.3316534459590912, -0.14085747301578522, -0.08531688153743744, 0.16778288781642914, -0.22299888730049133, 0.6086798906326294, -0.13014458119869232, -0.6466909050941467, -0.011501393280923367, -1.4310839176177979, -0.1872919648885727, 0.07673938572406769, -0.3710651099681854, 0.2585989236831665, 1.0109758377075195, -0.17920450866222382, -1.026192307472229, -1.1432446241378784, -0.16759316623210907, 0.019786512479186058, -0.033762309700250626, -1.5420624017715454, 1.015533208847046, -0.00820939987897873, 0.29108262062072754, -1.0188567638397217, 0.12553630769252777, -0.15833042562007904, 0.3526793122291565, 0.121327705681324, 0.03208403289318085, 0.5222721695899963, -1.0208338499069214, -0.22799433767795563, -0.19492746889591217, -0.8239153027534485, 0.3954916000366211, -0.09783897548913956, 0.6297993063926697, 1.1667824983596802, -0.05337972193956375, -0.3307480216026306, -0.4610823690891266, 0.5679149627685547, -0.15566878020763397, -0.04116953909397125, 0.04231952875852585, -1.2422094345092773, -0.5045098662376404, -0.45551395416259766, 0.6354795694351196, 0.7829859256744385, -0.38229045271873474, 0.21659836173057556, -0.18008865416049957, -0.4405273199081421, 1.188275933265686, -0.42898300290107727, 1.220773696899414, 0.7074612379074097, 0.8141951560974121, -0.7055952548980713, -0.07680296897888184, 0.38471028208732605, 0.08725738525390625, 0.08022376894950867, -0.25846782326698303, -0.015003006905317307, 0.09815000742673874, -0.728448748588562, -0.020737232640385628, 0.35761359333992004, -0.9837040305137634, -0.3848012685775757, -0.3302643299102783, -0.38543739914894104, 0.2815704047679901, -0.29597947001457214, 0.3190118074417114, 0.11816742271184921, 0.5774277448654175, 0.8419637084007263, -0.7068526148796082, -0.07430078089237213, -0.8995839357376099, -0.7048519253730774, 0.9426060318946838, -0.5434572100639343, 0.6317988634109497, -0.23742453753948212, 0.14082664251327515, 0.017673665657639503, 0.0961475595831871, 0.23568111658096313, 0.30191314220428467, 0.7223449349403381, -0.4032686650753021, 0.4570278823375702, -0.49957209825515747, 0.18190240859985352, 1.1024435758590698, 0.5086421966552734, -0.14951491355895996, -0.3276979327201843, 0.6043317317962646, -0.07452770322561264, -0.2503944933414459, 1.0591704845428467, 1.0310372114181519, 0.30835241079330444, -0.9161474108695984, 0.9685670137405396, 0.06866563111543655, -0.24581074714660645, -0.6078698635101318, -1.213987112045288, -0.8024541735649109, -0.3949805200099945, -1.1332502365112305, 0.1795445829629898, 0.5098732709884644, 0.5352907776832581, -0.4427945017814636, 0.2662124037742615, -0.0839761421084404, 0.9609012007713318, -0.4619978666305542, 0.2681318521499634, -0.09529644250869751, -0.8531052470207214, 0.08613016456365585, -0.28773272037506104, -0.07081276923418045, 1.027503490447998, -0.4525078237056732, -0.2814651131629944, -0.41514143347740173, 0.49865901470184326, -0.8601944446563721, -0.6602513194084167, -1.0406320095062256, -0.7508195042610168, -0.3638021647930145, -0.42201757431030273, 0.014811715111136436, 0.2186833918094635, 0.05812497437000275, 0.20290544629096985, -0.4151301681995392, 0.5201085209846497, 0.332305908203125, -0.3186565339565277, -0.15192319452762604, 1.1057811975479126, -0.5997037887573242, -1.4858505725860596, 0.1424718201160431, -0.12554356455802917, 0.603245735168457, 0.4204697012901306, -0.2748327851295471, 0.849118709564209, 0.9589443802833557, 0.3374048173427582, -0.567018985748291, 0.11852994561195374, -1.3946571350097656, 0.717242956161499, 0.22348076105117798, -0.009891696274280548, 0.08885776251554489, 1.2903844118118286, -0.04373573511838913, 0.0631897896528244, -0.4627158045768738, 0.7494938373565674, -0.7272139191627502, 0.6857630610466003, -0.14603181183338165, -0.4537658393383026, -0.01801391690969467, -0.663835883140564, 0.4335973560810089, 0.2483338713645935, 0.37259745597839355, -0.21131554245948792, -0.10559238493442535, -0.9114518761634827, 0.45545580983161926, -1.2429336309432983, 0.4681299030780792, 0.1860298216342926, 0.7187334299087524, 0.4722832441329956, -0.8008257150650024, -0.004018666222691536, 0.6535971164703369, -0.7971159219741821, -2.031179904937744, -0.1806354820728302, -0.7734172940254211, -0.23667055368423462, -0.26634618639945984, 1.0469213724136353, -0.26878446340560913, -0.2066558450460434, -0.025601334869861603, 0.4339194893836975, 0.46735143661499023, -0.4861048758029938, 0.1410132199525833, 0.2750956416130066, 0.4351290762424469, -0.19210584461688995, -0.16291403770446777, -0.3852972984313965, 0.5526907444000244, -0.6339525580406189, -0.032103266566991806, 0.5218659043312073, -0.888709545135498, 0.9863172173500061, -0.3766697645187378, -0.3298664093017578, 1.1539267301559448, -1.0497463941574097, 0.6117168068885803, -0.1014505922794342, -0.896335780620575, -0.5065415501594543, -0.9352210760116577, -0.4603187143802643, -0.16741569340229034, -0.4732390344142914, 0.9936718940734863, -0.14356715977191925, 0.12762831151485443, 0.20884135365486145, -1.0487562417984009, 1.127285361289978, 0.11025624722242355, 0.7607232332229614, 0.34982937574386597, 1.0307384729385376, 0.5468751192092896, 1.329500675201416, 0.16174626350402832, 0.377247154712677, 0.575200617313385, 0.34666720032691956, -0.47002607583999634, 0.2599453926086426, 0.49583443999290466, -1.1202107667922974, 0.14695943892002106, -0.5256285071372986, 0.8731381893157959, -0.8435132503509521, -0.6828075051307678, -0.3176831305027008, 0.8933666348457336, 0.15551838278770447, -0.6727107763290405, -1.1435987949371338, 0.3346332013607025, 0.09774769842624664, 0.8141952157020569, 0.7656891942024231, 0.3238096535205841, 0.5291044116020203, 0.7568967342376709, 0.019023533910512924, 0.7055378556251526, -0.2644139230251312, 0.582841694355011, 0.46053069829940796, 0.7546747922897339, -0.2852872908115387, -0.8036512136459351, -0.24292685091495514, -0.8409140706062317, 0.15866735577583313, 1.0232104063034058, 0.43165796995162964, -1.0164918899536133, 1.1037514209747314, -0.5883407592773438, 0.03897890821099281, -0.023852460086345673, -0.4389088749885559, 0.5995537638664246, 0.8401855826377869, -0.5991365313529968, 0.48318836092948914, -0.4242926836013794, -1.195419192314148, 0.09000638127326965, -0.5950788855552673, -0.6617234945297241, 0.6016470789909363, 0.5829242467880249, -0.8338118195533752, 0.9755097031593323, -0.8554673194885254, -0.9218689203262329, -0.5183551907539368, 0.0011234674602746964, -0.135910764336586, 1.3984832763671875, -1.2237322330474854, -0.9781038165092468, 0.24357594549655914, 1.2468352317810059, 0.40274032950401306, -0.8328280448913574, 0.4087580442428589, 1.3257683515548706, -1.7479819059371948, 1.1436256170272827, 0.04550854489207268, -0.1494620144367218, -0.41370657086372375, -0.9235429763793945, 0.11948296427726746, 1.308937907218933, -0.7924859523773193, -0.4135405719280243, -0.6242254972457886, -0.23718954622745514, -0.9354042410850525, -1.4341521263122559, 0.1079668328166008, 0.20202013850212097, -0.3747982382774353, -0.9203733801841736, 0.759348452091217, -0.39888477325439453, -0.060103852301836014, -0.9211575388908386, -0.8996992707252502, -0.20717495679855347, -0.5019916296005249, 1.1379437446594238, -0.7703827023506165, 0.3968427777290344, -0.08797843009233475, 0.13844338059425354, -1.6024339199066162, -0.03618026524782181, -0.018843842670321465, -0.21022731065750122, 0.7932095527648926, -0.3840136229991913, -0.2254282534122467, 0.34426647424697876, -0.02099122665822506, -0.290088027715683, 0.44863033294677734, 0.7233374714851379, -1.026419997215271, 0.7695844173431396, -0.9334824085235596, -0.5426924228668213, -0.44161456823349, -1.0204530954360962, 0.4653770923614502, -0.164465069770813, -0.25197461247444153, 0.37782514095306396, -0.5901209115982056, -0.7387952208518982, -0.37872421741485596, -0.07994528114795685, -0.22102059423923492, 0.23171718418598175, -0.07955145090818405, -0.2024623602628708, -0.7156777381896973, -0.49480554461479187, 1.0719338655471802, -0.3327011466026306, -0.35264238715171814, 0.491448312997818, -1.494991421699524, -0.4753216505050659, 0.022738449275493622, 0.5813727378845215, -0.053602296859025955, -0.06735097616910934, 1.024566888809204, 0.16689954698085785, -0.013761725276708603, 0.6369179487228394, 0.6679284572601318, 0.17966532707214355, 0.0894719660282135, -0.2800818085670471, -0.095542311668396, -0.5314298868179321, 0.4917512536048889, 1.0141303539276123, -0.7652056813240051, -0.41580498218536377, 1.7100903987884521, 0.3095180094242096, -0.3636094033718109, -0.4176291823387146, -0.6600525975227356, -0.13499322533607483, 0.3569483160972595, 0.4866999685764313, 0.36825692653656006, 0.036834653466939926, -0.6161062717437744, 0.7828920483589172, -0.603063702583313, -1.2068153619766235, -0.27057212591171265, 0.7075906991958618, 0.5567831993103027, 0.31571289896965027, 0.7886903882026672, -0.13704456388950348, -0.6046345829963684, 0.0182783305644989, 0.19279618561267853, -0.24417366087436676, -0.20152464509010315, 1.2338600158691406, 0.20817741751670837, 0.3820188641548157, -0.25486743450164795, 0.05828985571861267, 0.3018869161605835, 0.34867674112319946, -0.5537764430046082, -0.4366013705730438, -1.1889081001281738, 0.11069990694522858, 0.25774258375167847, -0.5880060791969299, 1.0450795888900757, 0.4090383052825928, -0.2745155096054077, 0.764777421951294, 0.3591423034667969, -0.885094165802002, -0.1584632694721222, -0.5629899501800537, -0.2193518579006195, -0.7951866388320923, 0.21970675885677338, -0.1160566434264183, 0.841754674911499, -0.8165193796157837, 0.8101555109024048, -0.45338138937950134, -0.35378310084342957, -0.5130504965782166, 1.0601037740707397, 0.7949460744857788, 0.8330414295196533, -0.69435054063797, -0.5025132894515991, 0.46660110354423523, 0.07310661673545837, 0.25008025765419006, 0.3267578184604645, 1.5975162982940674, -0.1175837516784668, -0.3256829082965851, 0.9437884092330933, 0.14221985638141632, -0.04889897257089615, 0.35323086380958557, 0.6859726905822754, 0.041687075048685074, -1.0405629873275757, 0.5726981163024902, -0.6769189834594727, 0.6781894564628601, -0.41922929883003235, 0.22875188291072845, -0.20543323457241058, -1.1251415014266968, -1.0109597444534302, -0.7826459407806396, 1.1043460369110107, -0.23069559037685394, -0.5653594732284546, -0.5090563297271729, -0.24652789533138275, 0.03324761986732483, 0.47948890924453735, 0.265429824590683, 0.35616087913513184, -0.7340951561927795, -0.47942209243774414, 0.6509207487106323, 0.6534453630447388, -0.2674649655818939, 0.16569572687149048, 0.03547128289937973, -0.4317242503166199, -0.17761939764022827, -0.12460482865571976, 1.2761136293411255, 0.16979825496673584, -0.9207087159156799, 1.0536129474639893, 0.9952727556228638, -0.6510199904441833, -0.4926111400127411, 1.2491586208343506, 0.43184128403663635, -0.33684492111206055, 0.006699917372316122, 0.11474458128213882, 0.04586390405893326, 1.075704574584961, -0.3768984377384186, 0.48285984992980957, -0.09151399880647659, -1.386228322982788, -1.53965163230896, -1.1465227603912354, -0.5535949468612671, 0.08113551139831543, -0.6371215581893921, 0.48785635828971863, -1.167694330215454, -0.37938976287841797, 0.7141609787940979, 0.6576599478721619, 0.3992909789085388, 0.8858913779258728, -0.04823311045765877, -1.1410521268844604, 0.21033525466918945, 0.40034639835357666, 0.06155610457062721, 0.27747413516044617, -0.10712393373250961, -0.4177524447441101, 1.1165090799331665, -0.5180107355117798, -0.19027887284755707, -0.340034544467926, 0.04180043190717697, 0.7893609404563904, -0.10438334941864014, -0.29538992047309875, 0.8026441931724548, -0.22730891406536102, -0.09540083259344101, -0.0004361773608252406, -0.5126989483833313, 0.2353566586971283, 0.5368250608444214, -0.414689838886261, -1.1070258617401123, 0.5847221612930298, 0.8556279540061951, 0.7948681712150574, -0.18149138987064362, 1.13288414478302, 0.43482065200805664, 0.6418176889419556, 1.0029774904251099, 0.22231794893741608, 0.0664001926779747, 0.8075244426727295, -0.07274278998374939, -0.04205332696437836, -0.2184004932641983, 0.5607213973999023, 0.22931799292564392, -0.11221516877412796, 1.1009739637374878, 0.8783573508262634, -0.3917901813983917, 1.835859775543213, -1.2362644672393799, 0.6543849110603333, 0.2316790223121643, -1.6777689456939697, 0.6711859107017517, -0.04558124765753746, 0.2622870206832886, 0.3949430286884308, -0.8477708697319031, 0.2522211968898773, -0.08864307403564453, 0.1051039919257164, 0.9577027559280396, 0.8914154767990112, -1.423582911491394, 0.35359323024749756, 0.6390343904495239, 0.26242080330848694, -0.5240045785903931, 0.3603757321834564, 0.5296587347984314, -1.2196626663208008, -0.3767426311969757, -1.2257442474365234, 1.177696704864502, -0.11516361683607101, 0.5353773236274719, -0.6295347213745117, -0.7305336594581604, 0.48426005244255066, -0.6808594465255737, -0.5788000822067261, 0.19810475409030914, -0.337676465511322, -0.6859256625175476, 0.6778095960617065]}\n",
      "<class 'dict'>\n",
      "85\n",
      "3\n",
      "{'publication_number': 196, 'title_en': 'A corrugated fibreboard box', 'claims': 'a corrugated fibreboard shipping box for packing and protecting an article or articles having a flat rectangular shape and a certain thickness comprising a rectangular bottom section 1, a pair of rectangular side sections 3a, 3b connected to the opposite parallel sides of the bottom section 1 and extending perpendicular to the bottom section 1, a pair of rectangular flaps 4, 6 connected to the opposite parallel ends of the bottom section 1, a pair of top half sections 2a, 2b connected to the sides of the side sections 3a, 3b parallel to the opposite sides of the bottom section 1 and extending parallel to the bottom section 1, said top half sections 2a, 2b having widths the sum of which is equal to the width of the bottom section 1, characterized by two pairs of rectangular flaps 5a, 7a, 5b, 7b each connected to the opposite ends of a different one of the pair of top half sections 2a, 2b with said flaps 4, 6, 5a, 5b, 7a, 7b having folding lines which are so spaced with respect to the thickness of the corrugated board that the flaps when folded inside will form tightly folded end portions to close opposite open ends of the box, the sum of the thickness of the tightly folded end portions 4, 6 connected to the bottom section 1 and the thickness of the tightly folded end portions 5a, 5b, 7a, 7b connected to the top half sections 2a, 2b being equal to the thickness of the article or articles to be packed.a corrugated fibreboard shipping box as claimed in claim 1 in which said top half sections 2a, 2b are rectangular in shape.a corrugated fibreboard shipping box as claimed in claim 2 in which each of said top half sections 2a, 2b has a width half of the width of the bottom section a corrugated fibreboard shipping box as claimed in claim 1 in which said flaps 4, 6, 5a, 5b, 7a, 7b have parallel folding lines.a corrugated fibreboard shipping box as claimed in claim 1 in which said flaps 4, 6, 5a, 5b, 7a, 7b are applied with adhesive and bound together after being folded.', 'inventor': \"[{'name': 'Ken Kohayakawa', 'country': 'JP'}, {'name': 'Atuhiro Sano', 'country': 'JP'}, {'name': 'Kinichi, Araki', 'country': 'JP'}, {'name': 'Yoshishige Shimizu', 'country': 'JP'}]\", 'claims_length': 363, 'embeddings': [0.08090226352214813, -0.9578984975814819, 0.2816691994667053, 0.4562874436378479, 1.265629768371582, 1.1743841171264648, -0.02063971571624279, -0.09290088713169098, -0.43808212876319885, -0.41101351380348206, 0.2756868898868561, -0.6566318869590759, -0.27170634269714355, 0.3310886025428772, -0.030899623408913612, 0.41037294268608093, 0.23078051209449768, 1.1361011266708374, -0.0862661674618721, 0.5322827696800232, -0.32699137926101685, -0.34006693959236145, 0.18554192781448364, -0.4215640127658844, -0.3709760010242462, -1.8360947370529175, -0.5269360542297363, -0.2744307219982147, 0.11524975299835205, 0.42446622252464294, 0.0661587044596672, 0.3372204899787903, 0.9220494031906128, -0.5048927068710327, 0.5973383188247681, -0.24576042592525482, -1.0791845321655273, 0.48822057247161865, -0.4080277681350708, -0.6178271174430847, -0.3473210334777832, 0.637600839138031, 1.149610996246338, 0.7696439623832703, 0.5622849464416504, -0.058423321694135666, -0.24248628318309784, 0.5800877809524536, -2.149493455886841, 0.3263562023639679, 0.423262357711792, 0.05126442015171051, 0.3565657138824463, 0.44774675369262695, -0.2773134708404541, 0.7167932987213135, 0.1779802441596985, 0.7238112092018127, 1.7082715034484863, -0.68791264295578, 0.33125266432762146, 0.2944476306438446, 0.7505967617034912, -0.33904263377189636, -0.008174791932106018, 0.027264682576060295, -0.6532384753227234, -0.5702139735221863, 0.02071118913590908, -1.0305812358856201, 0.10551846772432327, -0.16276808083057404, 0.5034510493278503, -0.18563152849674225, 0.5451855659484863, -0.2766297459602356, -1.3561991453170776, 0.10065234452486038, -0.4394731819629669, 0.5278801321983337, -0.6359570622444153, -0.03184450417757034, -0.6418488621711731, 1.1635172367095947, 0.9592663645744324, -0.06950318813323975, 0.6827526092529297, 0.18008281290531158, -0.4918338656425476, 1.0803792476654053, 0.35551717877388, -0.38424602150917053, -0.46782639622688293, 0.021093443036079407, 0.08734577894210815, -0.3141736388206482, -0.009673228487372398, -0.5908478498458862, 1.121315360069275, -0.27240392565727234, -0.9964891672134399, -0.000521348905749619, -0.06291566789150238, -0.5422399044036865, -0.5265263915061951, -0.24763475358486176, -0.4105852544307709, 0.5860448479652405, 0.6208330392837524, -0.5587302446365356, 0.3309627175331116, 0.29695773124694824, 0.05975555256009102, -0.5249167084693909, -0.3092506229877472, 0.611607015132904, 0.4043691158294678, -0.08800014853477478, 0.02272638864815235, 0.6660753488540649, 0.31214001774787903, 0.8927009105682373, -0.39407795667648315, 0.3611294627189636, 0.12160632014274597, -0.5712223052978516, 0.2996387183666229, 1.5034594535827637, -0.49380457401275635, 1.1514322757720947, -0.3157898783683777, 0.4800655245780945, -0.4843233525753021, 0.13407965004444122, -0.27210095524787903, -0.23345357179641724, 0.4429154694080353, 1.0446877479553223, 0.37268269062042236, -0.034344542771577835, -0.7858460545539856, 0.6772416830062866, -0.05162642151117325, 0.2784895598888397, -0.7977126836776733, -0.3901677131652832, -0.5820050239562988, -0.3259405493736267, -0.2549215257167816, -1.0507566928863525, 0.1611398458480835, 0.10067756474018097, 0.02714453637599945, -0.26385632157325745, -0.2993848919868469, 0.09214387089014053, 1.3837578296661377, 0.27371945977211, -0.07566815614700317, 0.35529381036758423, 0.3376578092575073, 1.0325605869293213, 0.22231532633304596, -0.622547447681427, -0.8226688504219055, 0.8255472779273987, 1.1380977630615234, 1.2470966577529907, 0.05711234360933304, -0.02620088867843151, 1.0284918546676636, 0.28948548436164856, -0.6530894041061401, 0.5151171684265137, -0.26368552446365356, 0.5880535244941711, 0.6916964650154114, -0.01813456229865551, -0.1886269897222519, -0.8124223947525024, -1.0271801948547363, 0.30205851793289185, 0.7388811707496643, -0.4521900713443756, 0.21533000469207764, 0.7309431433677673, 1.0500138998031616, -0.1035330668091774, -0.12909182906150818, -0.17239537835121155, -0.07938888669013977, -0.17893289029598236, 0.03694211691617966, -0.37973347306251526, -0.09889870136976242, 0.5853241086006165, -0.3147013187408447, 0.20334352552890778, 0.8794155120849609, -0.09690015763044357, -0.23239710927009583, 0.47451961040496826, 1.0984288454055786, -0.04810095578432083, -1.0963653326034546, 0.6822584867477417, -0.7171117067337036, -0.032450832426548004, -0.057879868894815445, -0.2566036283969879, 0.24678921699523926, -0.8567075729370117, 0.9396190047264099, -0.2895827293395996, 0.41472873091697693, -1.4551602602005005, -0.017499521374702454, 0.8258683085441589, 0.40867719054222107, -0.343278169631958, 0.7009422779083252, -0.23196767270565033, 0.3146246373653412, 0.13256795704364777, -0.16046713292598724, 1.1162433624267578, 1.7607855796813965, 0.44660186767578125, 0.39118799567222595, 0.4457772970199585, -1.0086604356765747, -0.7630012631416321, 0.3217325806617737, -1.2769088745117188, -0.21983326971530914, 0.2742427885532379, 0.38085660338401794, 0.41811689734458923, -0.7458149790763855, 0.08983416855335236, -0.8459846377372742, 0.3163406252861023, -0.701010525226593, -0.5055697560310364, -0.9199507236480713, -0.19633881747722626, 0.13929137587547302, -0.5022197365760803, 0.6055276393890381, -1.164637804031372, -1.0221277475357056, 1.2043310403823853, 0.2095259130001068, 0.086332768201828, -0.1694079488515854, -0.41271084547042847, 0.09787336736917496, -0.2395690530538559, 0.07381980121135712, -0.002313869306817651, 0.5714460015296936, -0.8674181699752808, -0.017993276938796043, -0.6132022142410278, -0.23454970121383667, -0.9011350870132446, -0.18369431793689728, -0.4214404821395874, 0.14611487090587616, 0.1437980830669403, 1.2634634971618652, 0.28776243329048157, -0.06706297397613525, -0.021297654137015343, 0.894117534160614, -0.8100576400756836, 0.6154989004135132, 0.17397429049015045, 0.2263191044330597, -0.9717076420783997, 0.6630521416664124, 0.5732912421226501, 0.5628393888473511, -0.2865762710571289, -0.4944891631603241, 0.08953013271093369, 0.8477004170417786, -0.5000958442687988, 0.6965783834457397, -0.48810192942619324, 1.248444676399231, 1.0635086297988892, -0.90800541639328, 0.015303049236536026, 0.16095677018165588, 0.3221185803413391, -0.3355775773525238, -1.4602116346359253, -0.22403085231781006, -0.027534248307347298, -0.6701273918151855, -0.8168270587921143, -0.1981053203344345, -0.6644017696380615, -0.1330421268939972, 0.42678073048591614, -0.01651114597916603, -0.7526686191558838, -1.5790998935699463, 0.996056854724884, -0.09243105351924896, 0.4536929726600647, 1.159604787826538, -0.42947643995285034, -0.5268949866294861, 0.5400797128677368, -0.20418979227542877, -0.007547058165073395, -0.7622804045677185, 0.613163948059082, -1.5975804328918457, -0.15159466862678528, 0.23364582657814026, 0.21390408277511597, 0.6860678791999817, -0.22108381986618042, 1.0869697332382202, -1.2702308893203735, -0.8038285374641418, -0.7682002782821655, 0.5714810490608215, 0.18604260683059692, -0.11894442141056061, 1.063815712928772, -0.4581005573272705, 0.5220373868942261, 0.3274955451488495, 0.11084116995334625, -0.403613805770874, -1.43422269821167, 0.6698526740074158, 0.07906768471002579, 0.049862090498209, -0.7456158995628357, -0.09964185953140259, -0.19659921526908875, -0.5308042168617249, 1.1630181074142456, 0.9778457880020142, 0.5180799961090088, -0.5215137600898743, 0.16610227525234222, 0.42538517713546753, -0.2237386703491211, 0.04477977380156517, 0.5996147394180298, 0.44311946630477905, 0.5930285453796387, -0.1628570556640625, 0.2498169094324112, 0.33806145191192627, -0.7878925204277039, -0.8848916292190552, 0.640357494354248, 0.2381039261817932, -0.21209608018398285, -0.9579875469207764, 0.311311811208725, 0.11920139938592911, -0.32762327790260315, -0.5591439604759216, 0.041923120617866516, -0.02294555865228176, 0.23941268026828766, -1.0325939655303955, -0.15234720706939697, -0.5591942667961121, 0.39129990339279175, 0.3889148235321045, 0.40615108609199524, 0.5756723880767822, -0.16901132464408875, -0.1736387461423874, -0.5462753772735596, -0.009967831894755363, -0.9630336761474609, -0.02344665676355362, -0.006066575180739164, 0.048043251037597656, -1.314507007598877, 0.19673557579517365, -0.3514251708984375, -1.1286057233810425, -0.8136093020439148, -0.14667706191539764, -0.5500107407569885, -0.011110261082649231, -0.37213805317878723, -0.03441721200942993, -0.8006007671356201, 0.47569331526756287, -0.46013346314430237, 0.5908445119857788, -0.2628866732120514, 0.4388134181499481, 0.457590788602829, 0.004013551864773035, 0.17245188355445862, -0.05579738691449165, -0.3595464527606964, -0.7187547087669373, 0.6642205119132996, -0.07102397084236145, 0.5544975996017456, -1.2677252292633057, -0.1718297004699707, 0.4065520465373993, 0.24844424426555634, 0.18496377766132355, -0.21851296722888947, -0.08947540819644928, -2.004404067993164, 0.3030470311641693, 1.0011931657791138, -0.5251966714859009, -0.037177469581365585, 0.44785067439079285, -0.19491542875766754, 0.7446696162223816, -0.09313517808914185, 0.391484797000885, -0.025659004226326942, 0.2525681257247925, 0.9443661570549011, 1.0882755517959595, -1.2854602336883545, -0.599791407585144, -0.34661146998405457, -1.2969646453857422, -1.4349839687347412, -0.2085912972688675, -0.7455213069915771, 0.2674083709716797, 0.1758129596710205, 0.10269191861152649, 0.9500434994697571, -0.9384690523147583, -0.7220681309700012, -0.2873186767101288, 0.27555644512176514, -0.3564804494380951, 0.020947135984897614, -0.07962968200445175, 0.4980607032775879, 0.6862593293190002, 0.2175777703523636, 0.26143118739128113, -0.47676655650138855, -0.7286269068717957, -0.4871964752674103, -0.11528436094522476, -0.4583039879798889, -1.6228479146957397, -0.3447763919830322, 0.239193856716156, 0.035514093935489655, -0.6205037236213684, -0.6583064198493958, -0.6698406338691711, -0.60291987657547, -1.9239662885665894, -0.22673892974853516, -0.08465820550918579, 0.26692062616348267, 0.4201412796974182, -0.5422992706298828, 0.3148787021636963, -0.05518938601016998, -0.7317138314247131, 0.5186479687690735, 1.366646647453308, -0.09382443875074387, -0.4830251634120941, 0.223699152469635, 1.456483006477356, -0.7576456069946289, 0.09655707329511642, 0.40026432275772095, -0.3052787184715271, 0.18323858082294464, -1.2715816497802734, 0.14849980175495148, 0.07279624044895172, -0.09291993081569672, -0.5963453054428101, 0.45695894956588745, 0.07881755381822586, 0.12216383218765259, -1.3994169235229492, 0.9534142017364502, 0.5598604083061218, 0.36914023756980896, -0.06254896521568298, -0.6362434029579163, -0.41534948348999023, 0.7498775720596313, -0.24202434718608856, -0.368618369102478, -1.13325035572052, 0.33345794677734375, 0.2819880545139313, 0.6967607736587524, -0.38023850321769714, -0.4462611675262451, 0.5022662878036499, 0.28997617959976196, 0.4272242486476898, 0.5261152982711792, -0.2603525221347809, -0.11074817180633545, 0.309497594833374, 0.4242449700832367, -0.21073566377162933, 0.2857874035835266, -0.01218812633305788, 0.5897579193115234, 1.381481409072876, -1.0196201801300049, -0.4295125901699066, -0.24220886826515198, -0.23311656713485718, 0.6896005272865295, 0.23522575199604034, 1.6774024963378906, 0.6315836310386658, -1.6541534662246704, 1.1243515014648438, -0.4867790639400482, 0.1262497454881668, -0.23922370374202728, -0.41460368037223816, 0.5755568742752075, -0.8187347650527954, 0.24356448650360107, -0.06993765383958817, 0.18078066408634186, -0.3009165823459625, 0.3872310221195221, 1.1843454837799072, 0.22815334796905518, -0.6245302557945251, -0.3325434923171997, 0.3478052020072937, 0.2599618136882782, 0.3622192144393921, -0.5836861729621887, 0.9075443148612976, -0.6581437587738037, -0.18135370314121246, -0.8513226509094238, -1.596367359161377, -0.2524462044239044, 0.9524312019348145, -0.31246238946914673, -0.8977479934692383, 0.6857413649559021, -0.20339436829090118, -0.16207413375377655, -0.7974284291267395, 0.15277084708213806, -0.7588059306144714, 0.7806294560432434, 1.5795437097549438, 0.3733338415622711, 0.3808484971523285, -0.4551955461502075, -0.02824101783335209, 0.528548002243042, 0.38624000549316406, -0.443763792514801, 0.48733586072921753, 0.596335232257843, 0.5667924284934998, -0.4649127125740051, 0.07075195014476776, -0.8012328147888184, 0.21026146411895752, -0.16322502493858337, -0.9002222418785095, -0.7919000387191772, 0.7927178144454956, -0.2960589826107025, 0.007009750697761774, 0.29629257321357727, 0.19951605796813965, -0.09967607259750366, -0.01947072148323059, 1.2966874837875366, -0.6456887722015381, 0.15686044096946716, 0.6686328649520874, -0.680188775062561, -0.6894698143005371, 0.125057190656662, 0.3434644341468811, -0.6757099032402039, 0.5984526872634888, -0.5588574409484863, -0.5229373574256897, 0.11135729402303696, -0.09451761841773987, -1.348742127418518, 0.8872173428535461, 0.34849220514297485, -0.189189150929451, -0.3371981382369995, 0.13778869807720184, -0.1818104088306427, -0.6720535755157471, -1.1993303298950195, -0.24295702576637268, 0.058126188814640045, 0.30971553921699524, 0.42574670910835266, -0.2778494954109192, -0.7347155213356018, 0.5546125173568726, 0.8383325338363647, -0.681648850440979, -0.3741246163845062, -0.849325954914093, -0.09708551317453384, -0.5021547675132751, 0.3972044885158539, -0.4674706757068634, -0.02179289609193802, 1.263884425163269, -0.33884894847869873, 0.5743380784988403, 1.0394749641418457, -0.7176111936569214, -0.058287397027015686, -0.0909096971154213, 0.04219668731093407, -1.026003122329712, -0.3898008465766907, -0.34068572521209717, 0.7986018657684326, -1.0219039916992188, -0.7719388604164124, 0.0771922841668129, -0.7771866321563721, -0.34626254439353943, 0.07732701301574707, -0.24173887073993683, -0.3688628077507019, 0.2597353458404541, 0.5600614547729492, 0.3240531384944916, -0.8341029286384583, -0.39561694860458374, 0.8031278252601624, 0.565956175327301, -1.1604419946670532, 0.5742203593254089, -0.8359598517417908, 0.2202060967683792, 0.3718489706516266, 0.24185357987880707, 0.8459362983703613, 0.39488452672958374, 0.06629668176174164, -0.3046365976333618, -0.10804136097431183, 0.6548698544502258, -0.770468533039093, 0.5437610745429993, -0.08940034359693527, 1.171297311782837, 0.004956834949553013, 0.6063976883888245, 0.8271922469139099, -0.15018536150455475, 1.080154299736023, -0.25272276997566223, 1.0968767404556274, 0.5690909028053284, 0.4493907690048218, -0.7698138952255249, -0.6113243103027344, -0.18558906018733978, -0.47239765524864197, 0.4396149218082428, -0.2354429066181183, -0.7979912757873535, -0.10889527946710587, 0.5290538668632507, -0.5222323536872864, -0.63395094871521, -0.9766802787780762, 0.4175412654876709, 0.04768413305282593, -0.35194820165634155, 1.8666102886199951, -0.0887656882405281, 0.515895426273346, 1.7116529941558838, -0.9822829961776733, 0.9962106347084045, 0.5261037945747375, 0.18705715239048004, -0.271293580532074, 0.25219428539276123, 0.2729296088218689, 0.8301571607589722, -0.38153815269470215, -2.3455517292022705, 0.6492228507995605, -0.6142034530639648, -0.10131576657295227, 0.4275268614292145, -0.3945108950138092, -0.43258073925971985, 0.1577807515859604, -0.11638296395540237, -0.8736822009086609, 0.0032517551444470882, -0.6319146156311035, -0.36597001552581787, -0.5913323760032654, -0.03667236864566803, -0.38825806975364685, 1.0446674823760986, -0.10077851265668869, -0.30901798605918884, 0.33527398109436035, -1.0984125137329102, 0.4115006923675537, -0.10597195476293564, -0.05294265225529671, -0.1390644907951355, -0.12724043428897858, -0.6825383901596069, 0.26187586784362793, -0.6228978037834167, -0.899586021900177, 0.21835669875144958, -1.6601393222808838, 0.3879208266735077, 0.2747601270675659, 0.15505491197109222, 0.0505908839404583, -0.16903504729270935, 0.12977880239486694, -0.138051837682724, -0.064320407807827, -0.815299391746521, 1.8683555126190186, 0.10379267483949661, 0.24038024246692657, 0.5558512806892395, 0.3599872291088104, -0.04040876775979996, -0.10215160995721817, 0.24486513435840607, 0.8710740804672241, 0.7638334631919861, -0.5497511029243469]}\n",
      "<class 'dict'>\n",
      "196\n",
      "4\n",
      "{'publication_number': 197, 'title_en': 'Rechargeable non-aqueous cell with a chalcogenide-containing electrode, a method for preparing the chalcogenide compound and a method for the preparation of the cell', 'claims': 'a nonaqueous secondary cell, comprising a negative electrode made with lithium andor sodium, an electrolyte, and a positive electrode made with a layered chalcogenide as the active material,characterized in that said chalcogenide has the nominal atom composition mxn1xs2, in which m is mn, fe, ni andor co and n is v andor cr, x is greater than zero but less than or equal to a maximum value of 0.5 when n is v and m is fe, less than or equal to a maximum value of 0.33 when n is v and m is ni, co or mn, and less than a maximum value of 0.33 when n is cr, and when n is v and m is fe and at least one of ni, co and mn, said maximum value, of x scales linearly from 0.33 to 0.50 with the fe atom percent of m.a cell according to claim 1, characterized in that m is fe and n is v.a cell according to claim 2, characterized in that x is less than 0.33 and greater than 0.20.a cell according to claim 1, characterized in that n has a nominal atom composition crzv1z, wherein z is less than or equal to 0.75.a cell according to any one of claims 1, 2, 3 or 4, characterized in that the cathode is made with lithium.a cell according to any one of claims 1, 2, 3, 4 or 5, characterized in that said electrolyte is composed of lic104 dissolved in propylene carbonate.a method of preparing the nonaqueous secondary cell according to any one of the preceding claims by assembling into a cell said negative electrode, at least one electrolytecontaining spacer, and said positive electrode made with said layered chalcogenide, characterized by preparing the said chalcogenide in the desired nominal atom composition by adding an oxidizing agent having an oxidizing potential of at least 2.8 volts to liymxn1xs2, where y is less than or equal to one, said liymxn1xs2 being prepared by reacting stoichiometric quantities of the alkali metal carbonate, and oxide of m and an oxide of n with sulfur, said preparation being carried out in the absence of air andor moisture.a method according to claim 7, characterized in that iodine, chlorine andor bromine is used as said oxidizing agent.a method according to claim 7 or 8, characterized by dissolving said oxidizing agent in a solvent.a method according to claim 9, characterized by using acetonitrile as the said solvent.a method of preparing a layered chalcogenide compound, characterized in that the layered chalcogenide compound has the nominal atom composition mxn1zs2, where m is mn, fe, ni andor co, n is v andor cr, x is greater than zero, but less than or equal to a maximum value of 0.5 when n is v and m is fe, less than or equal to a maximum value of 0.33 when n is v and m is ni, co or mn, and less than a maximum value of 0.33 when n is cr, and when n is v and m is fe and at least one of ni, co', 'inventor': \"[{'name': 'DiSalvo, Francis Joseph', 'country': 'US'}, {'name': 'Murphy, Donald Winslow', 'country': 'US'}]\", 'claims_length': 701, 'embeddings': [-1.5997036695480347, -0.057658601552248, -0.3907420039176941, -0.832043468952179, -0.7506784200668335, -0.23417705297470093, 0.4821068346500397, -0.2423858940601349, 0.18538518249988556, -0.20198455452919006, -1.1502535343170166, 0.4417441487312317, -1.6574848890304565, -0.26413092017173767, 1.2087299823760986, 0.08345407992601395, -0.46757975220680237, -0.1272144317626953, 0.8532077074050903, 0.07683248817920685, 0.32511383295059204, -0.15984304249286652, -0.3317641019821167, 0.016149623319506645, 0.04192556440830231, 0.6352124214172363, 0.3004842698574066, -0.06195276603102684, 1.035688877105713, -0.44697195291519165, 0.0943998321890831, -0.44398292899131775, -0.8159703016281128, -0.5392612814903259, -0.017699014395475388, 0.9830921292304993, -0.31322619318962097, -0.02216905914247036, -0.42802193760871887, 1.094427227973938, -0.16230161488056183, -0.1824594885110855, -0.9158522486686707, 0.639136016368866, -1.0429573059082031, 1.4396498203277588, 0.5831308364868164, -0.28577569127082825, 0.3234814405441284, -0.8103816509246826, 0.10327426344156265, 1.0482743978500366, 0.3872704803943634, -0.2184043526649475, -0.3504139482975006, 0.3477739691734314, 0.06812229007482529, -0.22047874331474304, -0.7203198671340942, 0.2024880200624466, -0.19341595470905304, -0.9961569905281067, 0.5125159025192261, 0.723663866519928, 0.04541227966547012, 0.42638203501701355, -0.5370556712150574, 0.6296043395996094, 0.008292526006698608, 0.5590940713882446, -0.13942979276180267, 1.2862411737442017, 0.03296114131808281, 0.11295853555202484, -0.275116503238678, 0.9230085015296936, 0.4624938666820526, 0.02655155397951603, 0.12744885683059692, 1.3082530498504639, 0.874069094657898, 1.4552218914031982, -1.1647424697875977, 0.5386294722557068, -0.3947620689868927, -0.9751175045967102, -0.05174735188484192, 0.7047369480133057, -0.17134198546409607, 0.597481906414032, -0.3607041835784912, -0.5337293148040771, 0.5457900762557983, -0.6391676664352417, 1.209332823753357, -0.023641319945454597, 1.647866129875183, 1.1573528051376343, 0.16473416984081268, 0.11392111331224442, 1.3191815614700317, -0.948391854763031, -0.3966340124607086, -1.2537026405334473, 0.33208730816841125, -0.7649838924407959, -0.6779853105545044, -0.395626425743103, 0.004303410183638334, -0.0954398438334465, 0.07375474274158478, 1.1496098041534424, -0.20888613164424896, -0.91643226146698, 0.5063917636871338, -0.4166218638420105, 0.08302583545446396, -0.029893290251493454, 0.34589529037475586, 0.4086708128452301, 0.30072852969169617, -0.4985804855823517, 0.5718114972114563, 0.46579572558403015, -0.10049990564584732, 0.5757558345794678, 0.9565772414207458, -0.22131121158599854, -0.8510841727256775, 0.1662106215953827, 0.3933308720588684, -0.44178226590156555, 0.22738581895828247, -0.672092616558075, 0.07182653993368149, -0.9463130235671997, 0.23211883008480072, 0.6126396059989929, -0.12692920863628387, 0.40424060821533203, -0.1979108452796936, -0.7588526010513306, 0.07261226326227188, 0.4147970378398895, 0.40800797939300537, 1.2971891164779663, -1.0702407360076904, 0.1873491108417511, -0.29284894466400146, 0.42417779564857483, 0.40821224451065063, -0.3875584602355957, 0.5423091053962708, 0.16458286345005035, -0.45767876505851746, 0.5291049480438232, -0.06364463269710541, -0.42890867590904236, -0.26903092861175537, -0.9919942021369934, 0.16511821746826172, 0.43702179193496704, -0.37570273876190186, 0.3103202283382416, 0.5704854726791382, -0.33705970644950867, -0.4129238724708557, -0.26839807629585266, 0.01914118602871895, -0.016051461920142174, 0.09693928062915802, -1.2448707818984985, -0.027474969625473022, 0.10454514622688293, -0.1443549543619156, -0.6252717971801758, -0.27712488174438477, -0.3082713782787323, -0.2178450971841812, -0.262235164642334, 0.1353044956922531, 0.31252947449684143, -0.6230928301811218, -0.003832640592008829, -0.3642803132534027, -0.5606685876846313, 0.3520658016204834, -0.47774264216423035, 0.5308318138122559, 1.3051012754440308, 0.19588181376457214, 0.11927057057619095, -0.1910373419523239, 0.042216844856739044, -0.496448278427124, -0.40163105726242065, -0.2961110472679138, -1.2240359783172607, 0.2032252997159958, -0.7909068465232849, 0.8549126982688904, 0.6212360858917236, -1.0662771463394165, 0.08230756223201752, -0.6499513387680054, -0.4204164147377014, 1.1721762418746948, -0.4935051500797272, 1.5413525104522705, 0.1862621307373047, 1.121390700340271, -0.7679518461227417, 0.11318313330411911, -0.24410778284072876, 0.2546319365501404, -0.29926520586013794, -0.06800942867994308, 0.12951798737049103, 0.3778866231441498, -0.10664482414722443, -0.4315807819366455, -0.4367145895957947, -0.39010268449783325, -0.06915957480669022, -0.13337372243404388, -0.17187795042991638, 1.1357609033584595, -0.27385222911834717, -0.06638532131910324, 0.8544191122055054, 0.1784380078315735, 0.9771187901496887, -0.662006139755249, -0.07784339040517807, -1.0787385702133179, -0.8412192463874817, 0.5448453426361084, -0.49997031688690186, 0.4141615033149719, 0.5018371939659119, 0.1969202160835266, 1.234512448310852, -0.09808403253555298, 0.2654542624950409, 0.4752791225910187, 0.38951340317726135, 0.008316566236317158, -0.07189564406871796, -0.16998228430747986, -0.14211109280586243, 0.8835712671279907, 0.3243773281574249, -0.38559916615486145, -0.45704004168510437, 1.11649489402771, -0.8901656866073608, -0.7898235321044922, 0.64925616979599, 1.1958571672439575, 0.14111651480197906, -0.6921071410179138, 0.22835171222686768, 0.5280372500419617, -0.908036470413208, -0.8296985030174255, -1.6737161874771118, -0.31048646569252014, -0.41156184673309326, -1.3664040565490723, -0.21828047931194305, 0.502289891242981, 0.8462579250335693, 0.7323775291442871, -0.13321296870708466, 0.02006484568119049, 0.6831981539726257, -0.6370793581008911, 0.5935381054878235, -0.30555203557014465, -1.2074354887008667, -0.08982716500759125, -0.15827547013759613, 0.05268780142068863, 0.5321863889694214, -0.3151959180831909, -0.21987423300743103, -0.79294753074646, 0.1961367279291153, -0.3057730793952942, -1.237825632095337, -0.6895501613616943, -0.8810330033302307, -0.1320677399635315, -0.6835299134254456, -0.07457666099071503, 1.0800668001174927, 0.1645558625459671, -0.15884102880954742, -0.305550217628479, 1.2145521640777588, -0.09128430485725403, 0.01148757804185152, -0.3577615022659302, 1.192525863647461, -0.5075094699859619, -0.8387678861618042, -0.34633490443229675, -0.39216122031211853, -0.7184197306632996, 0.747098445892334, -0.1589316725730896, 0.61965411901474, 0.48498985171318054, 0.40302422642707825, -0.1914023458957672, 0.3869471848011017, -1.1158547401428223, 1.0128891468048096, 0.1538023054599762, 0.7965031862258911, -0.5755927562713623, 1.3697811365127563, 0.22451719641685486, 0.2962953448295593, 0.6326332092285156, 0.8883923292160034, -0.8477258086204529, -0.1127803847193718, -0.5420315861701965, -0.26996421813964844, -0.06473588943481445, 0.023341188207268715, 0.8656037449836731, 0.3975973427295685, 0.786547064781189, -0.09075162559747696, 0.16856950521469116, -0.8658705353736877, -0.39149466156959534, -1.1933653354644775, 0.7525574564933777, 0.5813080072402954, 0.5214856863021851, 0.8747217655181885, -0.5578067302703857, -0.19017495214939117, 0.9018397331237793, -0.643009603023529, -1.774940013885498, 0.18974073231220245, -0.3837127387523651, 0.6830582618713379, -0.747840404510498, 0.7470831274986267, -0.6020033955574036, 0.5119588971138, 0.2648024559020996, 1.2825400829315186, -0.35135790705680847, 0.009684150107204914, -0.0787641853094101, -0.5314332246780396, 0.2751787304878235, -0.08131895959377289, -0.646293044090271, -0.2888695001602173, 0.018997279927134514, -0.8832597732543945, -0.5979059338569641, 0.7056487202644348, -1.1564366817474365, 0.4332272410392761, -0.8670403957366943, -0.04235983267426491, 0.5884413719177246, -1.0535376071929932, 0.2218453586101532, -0.12603747844696045, -1.2014720439910889, -0.05464909225702286, -0.11107877641916275, -0.2541252374649048, -0.46611636877059937, -0.6843818426132202, 0.9793722629547119, 0.04718243330717087, 0.33354997634887695, -0.2306504100561142, -1.0342222452163696, 1.2475390434265137, -0.016355490311980247, 0.7473964095115662, 0.35797303915023804, 0.4562646150588989, 0.5269818902015686, 1.1499401330947876, -0.14180999994277954, 0.6428990960121155, 0.5592461228370667, -0.4210052788257599, -0.738540530204773, 0.45367321372032166, 0.5485745072364807, -0.8821324110031128, -0.07705438882112503, -0.8933470845222473, 0.5165582895278931, -1.1416497230529785, -1.516555905342102, -0.3036756217479706, 0.5628097653388977, 1.2509052753448486, -0.8699864745140076, -0.9628898501396179, 0.0012145393993705511, -0.3187665045261383, 0.5236160159111023, 1.0028482675552368, 0.5648078322410583, 0.36711278557777405, 0.6323069930076599, 0.20355550944805145, 0.6920177340507507, -0.42563754320144653, 0.7063801884651184, 0.29132765531539917, 0.5465973615646362, 0.03441428765654564, -0.3817952573299408, -0.22181318700313568, -0.8970286250114441, -0.7543574571609497, 0.7572507262229919, 0.7723477482795715, -0.22046226263046265, 0.8731763362884521, -0.8564288020133972, 0.11103276908397675, -0.017362914979457855, -0.4705865681171417, -0.06498430669307709, 0.818695604801178, -0.42418372631073, 0.15408457815647125, -0.9912363290786743, -1.0215086936950684, 0.24303270876407623, -0.5949864387512207, -1.2295223474502563, 0.7297025322914124, -0.18890435993671417, -0.9903968572616577, 0.7555996179580688, -1.2516751289367676, -0.7524568438529968, 0.15848833322525024, -0.7288410663604736, -0.5384753346443176, 1.1220660209655762, -1.3545808792114258, -0.9626586437225342, 0.10540679842233658, 0.6927962303161621, 0.3098541498184204, -0.6918144822120667, -0.02801230363547802, 1.0034420490264893, -1.7700610160827637, 0.9249473214149475, 0.38502606749534607, -0.177226722240448, -0.09135563671588898, -0.5806143879890442, 1.0556925535202026, 0.4677794575691223, -0.26130563020706177, -0.46106261014938354, -1.3575125932693481, -0.573723554611206, -1.2012624740600586, -2.089437961578369, 0.04558068513870239, 0.09737204760313034, 0.38522717356681824, -0.6990949511528015, 1.1965166330337524, 0.047808460891246796, -0.5531980395317078, -0.5660280585289001, -0.46398934721946716, -0.1441165953874588, -0.42557844519615173, 0.8100550770759583, -0.671135425567627, 0.011785119771957397, 0.15921755135059357, 0.4046277105808258, -0.8726499676704407, 0.2953494191169739, -0.09655384719371796, -0.13391543924808502, 0.5071465969085693, -0.41796424984931946, -0.12756933271884918, -0.029609620571136475, -0.39641982316970825, 0.24011094868183136, 0.1275080144405365, 0.22591935098171234, -0.856965959072113, 0.37110278010368347, -0.9050841331481934, -0.8155957460403442, -1.098303198814392, -0.51109379529953, 0.789079487323761, -0.47552651166915894, -0.1634465903043747, 0.1568964272737503, -1.0560388565063477, -0.5090833306312561, -0.4521516263484955, -0.8114861249923706, -0.09292902797460556, 0.3257874846458435, 0.02227938361465931, 0.20966972410678864, -1.5919228792190552, -0.6493232846260071, 0.07979059219360352, -0.1782880425453186, -0.43499043583869934, 0.7135501503944397, -1.0186632871627808, -0.27790817618370056, -0.19454821944236755, 0.7021050453186035, 0.16538260877132416, -0.5262145400047302, 0.4285643398761749, -0.3682865798473358, -0.02480212226510048, 0.471683531999588, 0.7191489338874817, 0.18891014158725739, -0.5263710618019104, -0.3660557270050049, -0.10528301447629929, -0.30363646149635315, 0.22179892659187317, 0.5728259682655334, -1.37407386302948, -1.0578702688217163, 1.3261125087738037, 0.4994625747203827, -0.0713813453912735, -0.3683442771434784, -1.1588517427444458, -0.46510663628578186, 0.3559776246547699, -0.642148494720459, -0.23835574090480804, -0.18360620737075806, -0.2702357769012451, 0.7667257189750671, -0.891936719417572, -0.7374703884124756, -0.6004996299743652, 0.08782882243394852, -0.32212913036346436, -0.6255815625190735, 1.0037482976913452, -0.27557429671287537, -0.24608449637889862, -0.22376856207847595, -0.16155308485031128, -0.4918808043003082, 0.08556152880191803, 1.6914753913879395, 0.04791458323597908, 0.6322090029716492, 0.6154648065567017, -0.663795530796051, 0.150058314204216, 0.8742857575416565, -0.027142662554979324, -0.12102649360895157, -1.4847146272659302, -0.11453898251056671, 0.3199080526828766, 0.3974783420562744, 1.2035882472991943, 0.7636301517486572, -0.14852619171142578, 1.266755223274231, 0.08204527944326401, -0.9038698077201843, -0.7043594121932983, -0.04020965099334717, -0.3157547116279602, -0.8406809568405151, -0.17166216671466827, 0.25988447666168213, 1.8695180416107178, -1.0005067586898804, 0.04512832313776016, 0.055817048996686935, 0.049841735512018204, -0.5896360874176025, 1.377159833908081, 0.7116196751594543, 0.5652042627334595, -0.30636468529701233, 0.17614427208900452, 0.1872834414243698, 0.5584876537322998, 0.14559222757816315, 0.4089755713939667, 1.0673025846481323, 0.2620343267917633, -0.3770851492881775, 0.8497248291969299, -0.031032970175147057, -0.40908414125442505, 0.7010325789451599, 0.41795456409454346, 0.24181035161018372, -0.625004231929779, 0.405158668756485, -0.602586567401886, 1.018954873085022, -0.07072056829929352, 0.4068607687950134, 0.29328253865242004, -0.8208727836608887, -1.4950182437896729, -0.8041214346885681, 0.8674932718276978, -0.3878266215324402, 0.11163517832756042, -0.17329314351081848, 0.21128886938095093, -0.1167871505022049, 0.807209849357605, 0.0385911650955677, 0.509303629398346, -0.5704853534698486, -0.2078731507062912, 0.058941856026649475, 0.6081352829933167, -0.6072186231613159, 0.3518672287464142, -0.40221670269966125, 0.30157551169395447, -0.17625080049037933, -0.7099653482437134, 0.5911732912063599, -0.053464125841856, -0.08895761519670486, 0.9764224290847778, 0.7295815348625183, -0.180230975151062, -0.272249311208725, 0.5923498868942261, 0.2166418731212616, -0.2829994559288025, 0.1702795922756195, -0.007171959616243839, 0.9372979402542114, 0.8338428735733032, -0.29566189646720886, 0.18325427174568176, 0.006616479717195034, -1.3485760688781738, -1.2826982736587524, -1.6469041109085083, 0.3454539477825165, 0.19845184683799744, -0.33939018845558167, 0.7990036606788635, -0.5120792388916016, 0.4126092493534088, 0.6826364994049072, 0.6189740896224976, 0.3747127652168274, 1.010513186454773, 0.8330561518669128, -1.1641643047332764, 0.003494594246149063, 0.07776231318712234, -0.30187320709228516, 0.20786750316619873, -0.43435055017471313, -0.5955777168273926, 0.4544852674007416, -0.26986977458000183, -0.8344001770019531, 0.6544405817985535, 0.03887050971388817, 1.3665305376052856, 0.24166910350322723, -0.4321857988834381, -0.1726430505514145, -0.16203948855400085, 0.6473867297172546, -0.33241036534309387, -1.1164878606796265, 0.3128960430622101, 0.32554540038108826, -0.12985284626483917, -0.6342837810516357, 0.9087569117546082, 0.605364203453064, 0.6310559511184692, -0.7385656833648682, 1.7137798070907593, 0.00707366643473506, -0.007650683168321848, 1.3068857192993164, 0.11050713062286377, 0.6267208456993103, -0.21288110315799713, -0.21659283339977264, 0.14765611290931702, -0.39040374755859375, 0.5304039120674133, 0.2327931672334671, 0.3806653618812561, 0.5762302875518799, 0.4200287163257599, -0.4992177188396454, 1.6192243099212646, -0.5469316840171814, 0.8084643483161926, 0.4330574870109558, -1.405766248703003, 0.8799697756767273, -0.1535068303346634, 0.5716763734817505, 0.04450876638293266, -0.8832864761352539, 0.3857610821723938, -0.3958955705165863, 0.6890116333961487, 0.20234927535057068, 0.7019401788711548, -1.0322468280792236, -0.29723721742630005, 0.20559002459049225, -0.7026974558830261, -0.08167538791894913, 0.012719789519906044, 0.32434511184692383, -1.108564853668213, -0.5431581735610962, -1.1384364366531372, 0.8878307938575745, 0.9061782360076904, 1.1086825132369995, -0.175992950797081, -0.43530648946762085, 0.29895591735839844, -0.6855862140655518, -0.7646143436431885, 0.440532386302948, -0.6879339218139648, -0.7972082495689392, 0.3900347352027893]}\n",
      "<class 'dict'>\n",
      "197\n"
     ]
    }
   ],
   "source": [
    "cn =0\n",
    "for idx, items in enumerate(loaded_embed_dataset):\n",
    "    if cn == 5:\n",
    "        break\n",
    "    else:\n",
    "        print(idx)\n",
    "        print(items)\n",
    "        print(type(items))\n",
    "        print(items['publication_number'])\n",
    "        cn = cn +1"
   ]
  },
  {
   "cell_type": "code",
   "execution_count": 28,
   "id": "ebfc0c8a",
   "metadata": {},
   "outputs": [],
   "source": [
    "#====\n",
    "# Add to embeddings data \n",
    "#====\n",
    "add_embed_state = False\n",
    "if add_embed_state == True:\n",
    "    try:\n",
    "        with sqlite3.connect(db_name) as conn:\n",
    "            for idx, row_data in enumerate(loaded_embed_dataset):\n",
    "                add_embeddings(conn,[idx, serialize_float32(row_data['embeddings'])])\n",
    "            print(\"Successfully add data to embed table\")\n",
    "    except sqlite3.OperationalError as e:\n",
    "        print(\"Failed to connect to db\")"
   ]
  },
  {
   "cell_type": "code",
   "execution_count": 29,
   "id": "addbf8a0",
   "metadata": {},
   "outputs": [],
   "source": [
    "#====\n",
    "# Delete embeddings table\n",
    "#====\n",
    "del_embed_table_state = False\n",
    "if del_embed_table_state == True:\n",
    "    try:\n",
    "        with sqlite3.connect(db_name) as conn:\n",
    "            delete_embed_table(conn)\n",
    "            print(\"Successfully del embed table\")\n",
    "    except sqlite3.OperationalError as e:\n",
    "        print(\"Failed to connect to db\")"
   ]
  },
  {
   "cell_type": "code",
   "execution_count": 30,
   "id": "21937799",
   "metadata": {},
   "outputs": [],
   "source": [
    "conn.close()"
   ]
  },
  {
   "cell_type": "markdown",
   "id": "590788e6",
   "metadata": {},
   "source": [
    "### Create meta table"
   ]
  },
  {
   "cell_type": "markdown",
   "id": "89c6262b",
   "metadata": {},
   "source": [
    "#### Funcs"
   ]
  },
  {
   "cell_type": "code",
   "execution_count": 31,
   "id": "ef3799e9",
   "metadata": {},
   "outputs": [],
   "source": [
    "def create_table(conn: Connection):\n",
    "\n",
    "    sql_statement = \"\"\"\n",
    "    CREATE TABLE IF NOT EXISTS meta_data_embeddings (\n",
    "            pub_num INTEGER NOT NULL,\n",
    "            title TEXT NOT NULL, \n",
    "            claims TEXT NOT NULL, \n",
    "            sdg_labels TEXT NOT NULL\n",
    "        );\n",
    "    \"\"\"\n",
    "    try:\n",
    "        cursor = conn.cursor()\n",
    "        cursor.execute(sql_statement)\n",
    "        conn.commit()\n",
    "    except:\n",
    "        print(\"Failed to create meta table\")"
   ]
  },
  {
   "cell_type": "code",
   "execution_count": 32,
   "id": "26c9dad0",
   "metadata": {},
   "outputs": [],
   "source": [
    "def add_to_meta_data(conn: Connection, table_data):\n",
    "    # insert table statement\n",
    "    sql = \"\"\" INSERT INTO meta_data_embeddings(rowid, pub_num, title, claims, sdg_labels)\n",
    "              VALUES(?,?,?,?,?) \n",
    "            \"\"\"\n",
    "    try:\n",
    "        # Create  a cursor\n",
    "        cur = conn.cursor()\n",
    "\n",
    "        # execute the INSERT statement\n",
    "        cur.execute(sql, table_data)\n",
    "\n",
    "        # commit the changes\n",
    "        conn.commit()\n",
    "    except:\n",
    "        print(\"Failed to add datat to table.\")\n",
    "\n",
    "    # get the id of the last inserted row\n",
    "    return cur.lastrowid"
   ]
  },
  {
   "cell_type": "code",
   "execution_count": 33,
   "id": "2fd68a5a",
   "metadata": {},
   "outputs": [],
   "source": [
    "def delete_meta_table(conn: Connection):\n",
    "    try:\n",
    "            sql = 'DROP TABLE IF EXISTS meta_data_embeddings;'\n",
    "            cursor = conn.cursor()\n",
    "            cursor.execute(sql)\n",
    "            conn.commit()\n",
    "    except sqlite3.OperationalError as e:\n",
    "        print(\"Failed to delete to meta table.\")"
   ]
  },
  {
   "cell_type": "markdown",
   "id": "46ccd703",
   "metadata": {},
   "source": [
    "#### Actions"
   ]
  },
  {
   "cell_type": "code",
   "execution_count": 35,
   "id": "fb0fe5f8",
   "metadata": {},
   "outputs": [],
   "source": [
    "#====\n",
    "# Create meta table\n",
    "#====\n",
    "create_meta_table_state = False\n",
    "\n",
    "if create_meta_table_state == True:\n",
    "    try:\n",
    "        with sqlite3.connect(db_name) as conn:\n",
    "            create_table(conn)\n",
    "            print(\"Tables created successfully.\")\n",
    "    except sqlite3.OperationalError as e:\n",
    "        print(\"Failed to connect to database\", e)"
   ]
  },
  {
   "cell_type": "code",
   "execution_count": 43,
   "id": "e31e2c8e",
   "metadata": {},
   "outputs": [
    {
     "name": "stdout",
     "output_type": "stream",
     "text": [
      "Dataset({\n",
      "    features: ['publication_number', 'claims_txt', 'sdg_number', 'claims_length'],\n",
      "    num_rows: 12201\n",
      "})\n",
      "0\n",
      "{'publication_number': 6, 'claims_txt': 'process for nitrifying oxidizable nitrogen compounds in waste water, with the aid of a gas containing molecular oxygen and of microorganisms bound to an inert carrier material in a column, wherein the offgas of the column is vented andor recycled and, if necessary, part of the effluent is recycled, this process being characterized in that a tricklephase reactor is used as column, that the gas containing molecular oxygen contains at least 25 w. of oxygen, that during the nitrification 0.510 w. of c02, referred to the total quantity of oxygen, is present in the column, that such a quantity of the liquid effluent of the column is recycled that the entire column contents are irrigated, and that the gas and the liquid contact each other countercurrently.process according to claim 1, characterized in that the gas contains at least 90 w. of molecular oxygen.process according to claim 1 or 2, characterized in that 5 10 w. of c02, referred to the total quantity of molecular oxygen, is present.process according to the claims 1, 2 or 3, characterized in that the vent amounts to 110 w. of the total circulating gas stream.process according to the claims 14, characterized in that the liquid effluent, prior to its return to the column, is given a ph value of at least 8.process according to the claims 1 5, characterized in that the gas containing molecular oxygen, which is supplied to the column, is saturated with water vapour.process according to the claims 16, characterized in that the nitrification mainly proceeds to nitrite.', 'sdg_number': '6', 'claims_length': 256}\n",
      "<class 'dict'>\n",
      "sdg: 6\n",
      "title: Process for nitrification of waste water\n",
      "1\n",
      "{'publication_number': 41, 'claims_txt': 'an intravascular catheter comprising a hub 2 having an axial passageway 5 open at ihe forward end thereof, an auxiliary passageway 7 branched from the axial passageway 5. a flexible doublewalled tube 3 extending into the forward end of the hub 2 and having an inwardlytapered tip portion 21 remote from the hub. the doublewalled tube 3 consisting of an inner tube 13 providing a central passageway 15 and an outer tube 16 arranged coaxially with respect to the inner tube 13 and forming an annular passageway 20 therearound, the annular passagewav 10 communicating with the auxiliary passageway 7 and the central passageway 15 extending into the axial passageway 5 and boing sealingly separate from the annular passageway 20 and the auxiliary passageway 7, there bing at least one bore 23, 24 ill the outer tube 16 communicating with the annular passageway 20, and a needle 4 removably inserted into the central passageway 15 and having a needle tip extending beyond the tapered tip portion 121 characterised in that the tapered tip portion 21 is formed of the same material as the inner tube 13 and the outer tube 16. the central passageway 15 extends through the tapered up pur lion 21 and torminatee at the end thereof, the tapering tip portion 21 tapers smoothly and uniformly inwardly from the oiller tube 16 and is ct solid construction so as to facilitate insertion into a patient. the annular passageway 20 terminates at the beginning of the tapered tip portion 21 with the at least one bore 23, 24 arrangod at the and of the annular passageway 20 adjacent the beginniny of the tapered tip portion 21 thereby preventing blood stagnation at the end of the annular passageway 20.the intravascular catheter according to claim wherein a cap 27 having a waterrepelling filter 26 for withdrawal of air from the needle is provided at tne end of the needle romoto from the tip.the . intravascular catheler according to claim 1 or 2, and further comprising a second auxiliary passageway 8 branched from the axial passageway 5 and communicating with the central passageway 15, a scaling member 6 being provided in the rearward end of the hub 2 and through which the needle 4 is removably insened.the intravascular catheter according to claim 3, wherein a flexible sheet 32 acting as a valve to prevent blood from leaking through the sealing member 6 is mounted et the inner end of the sealing member 6.', 'sdg_number': '3', 'claims_length': 410}\n",
      "<class 'dict'>\n",
      "sdg: 3\n",
      "title: An intravascular catheter\n",
      "2\n",
      "{'publication_number': 85, 'claims_txt': 'a process for the production and separation of hydrogen iodide and sulphuric acid which process comprises reacting together a mixture of iodine, water and an excess of sulphur dioxide so as to produce two phases, a first phase comprising aqueous sulphuric acid and a second phase comprising sulphur dioxide containing dissolved hydrogen iodide separating the two phases and recovering sulphuric acid and hydrogen iodide respectively from the two phases characterised in that at least one waterinsoluble organic compound selected from trialkyl phosphates and dialkylalkyl phosphonates and mixtures thereof, is added to the reaction mixture.a process as claimed in claim 1 wherein the variable parameters of the process, including the quantity of the organic compound employed, are selected such as to produce a sulphuric acid phase having a concentration of at least 40 by weight hzso4.a process as claimed in claim 1 or claim 2 wherein the organic compound or one of the organic compounds employed is tributyl phosphate.a process as claimed in any one of the preceding claims wherein the organic compound is diluted with an organic sovent.the use of the hydrogen iodide produced and separated by the process claimed in any one of the preceding claims, for the production of hydrogen by decomposition of the hydrogen iodide into hydrogen and iodine.the use of the sulphuric acid produced and separated by the process claimed in any one of claims 1 to 4, for the production of oxygen by decomposition of the sulphuric acid into sulphur dioxide, water and oxygen.', 'sdg_number': '7', 'claims_length': 249}\n",
      "<class 'dict'>\n",
      "sdg: 7\n",
      "title: Process for the production and separation of hydrogen iodide and sulphuric acid and their respective uses in the production of hydrogen and oxygen\n",
      "3\n",
      "{'publication_number': 196, 'claims_txt': 'a corrugated fibreboard shipping box for packing and protecting an article or articles having a flat rectangular shape and a certain thickness comprising a rectangular bottom section 1, a pair of rectangular side sections 3a, 3b connected to the opposite parallel sides of the bottom section 1 and extending perpendicular to the bottom section 1, a pair of rectangular flaps 4, 6 connected to the opposite parallel ends of the bottom section 1, a pair of top half sections 2a, 2b connected to the sides of the side sections 3a, 3b parallel to the opposite sides of the bottom section 1 and extending parallel to the bottom section 1, said top half sections 2a, 2b having widths the sum of which is equal to the width of the bottom section 1, characterized by two pairs of rectangular flaps 5a, 7a, 5b, 7b each connected to the opposite ends of a different one of the pair of top half sections 2a, 2b with said flaps 4, 6, 5a, 5b, 7a, 7b having folding lines which are so spaced with respect to the thickness of the corrugated board that the flaps when folded inside will form tightly folded end portions to close opposite open ends of the box, the sum of the thickness of the tightly folded end portions 4, 6 connected to the bottom section 1 and the thickness of the tightly folded end portions 5a, 5b, 7a, 7b connected to the top half sections 2a, 2b being equal to the thickness of the article or articles to be packed.a corrugated fibreboard shipping box as claimed in claim 1 in which said top half sections 2a, 2b are rectangular in shape.a corrugated fibreboard shipping box as claimed in claim 2 in which each of said top half sections 2a, 2b has a width half of the width of the bottom section a corrugated fibreboard shipping box as claimed in claim 1 in which said flaps 4, 6, 5a, 5b, 7a, 7b have parallel folding lines.a corrugated fibreboard shipping box as claimed in claim 1 in which said flaps 4, 6, 5a, 5b, 7a, 7b are applied with adhesive and bound together after being folded.', 'sdg_number': '12', 'claims_length': 363}\n",
      "<class 'dict'>\n",
      "sdg: 12\n",
      "title: A corrugated fibreboard box\n",
      "4\n",
      "{'publication_number': 197, 'claims_txt': 'a nonaqueous secondary cell, comprising a negative electrode made with lithium andor sodium, an electrolyte, and a positive electrode made with a layered chalcogenide as the active material,characterized in that said chalcogenide has the nominal atom composition mxn1xs2, in which m is mn, fe, ni andor co and n is v andor cr, x is greater than zero but less than or equal to a maximum value of 0.5 when n is v and m is fe, less than or equal to a maximum value of 0.33 when n is v and m is ni, co or mn, and less than a maximum value of 0.33 when n is cr, and when n is v and m is fe and at least one of ni, co and mn, said maximum value, of x scales linearly from 0.33 to 0.50 with the fe atom percent of m.a cell according to claim 1, characterized in that m is fe and n is v.a cell according to claim 2, characterized in that x is less than 0.33 and greater than 0.20.a cell according to claim 1, characterized in that n has a nominal atom composition crzv1z, wherein z is less than or equal to 0.75.a cell according to any one of claims 1, 2, 3 or 4, characterized in that the cathode is made with lithium.a cell according to any one of claims 1, 2, 3, 4 or 5, characterized in that said electrolyte is composed of lic104 dissolved in propylene carbonate.a method of preparing the nonaqueous secondary cell according to any one of the preceding claims by assembling into a cell said negative electrode, at least one electrolytecontaining spacer, and said positive electrode made with said layered chalcogenide, characterized by preparing the said chalcogenide in the desired nominal atom composition by adding an oxidizing agent having an oxidizing potential of at least 2.8 volts to liymxn1xs2, where y is less than or equal to one, said liymxn1xs2 being prepared by reacting stoichiometric quantities of the alkali metal carbonate, and oxide of m and an oxide of n with sulfur, said preparation being carried out in the absence of air andor moisture.a method according to claim 7, characterized in that iodine, chlorine andor bromine is used as said oxidizing agent.a method according to claim 7 or 8, characterized by dissolving said oxidizing agent in a solvent.a method according to claim 9, characterized by using acetonitrile as the said solvent.a method of preparing a layered chalcogenide compound, characterized in that the layered chalcogenide compound has the nominal atom composition mxn1zs2, where m is mn, fe, ni andor co, n is v andor cr, x is greater than zero, but less than or equal to a maximum value of 0.5 when n is v and m is fe, less than or equal to a maximum value of 0.33 when n is v and m is ni, co or mn, and less than a maximum value of 0.33 when n is cr, and when n is v and m is fe and at least one of ni, co', 'sdg_number': '7', 'claims_length': 701}\n",
      "<class 'dict'>\n",
      "sdg: 7\n",
      "title: Rechargeable non-aqueous cell with a chalcogenide-containing electrode, a method for preparing the chalcogenide compound and a method for the preparation of the cell\n",
      "5\n",
      "{'publication_number': 197, 'claims_txt': 'according to any one of the preceding claims by assembling into a cell said negative electrode, at least one electrolytecontaining spacer, and said positive electrode made with said layered chalcogenide, characterized by preparing the said chalcogenide in the desired nominal atom composition by adding an oxidizing agent having an oxidizing potential of at least 2.8 volts to liymxn1xs2, where y is less than or equal to one, said liymxn1xs2 being prepared by reacting stoichiometric quantities of the alkali metal carbonate, and oxide of m and an oxide of n with sulfur, said preparation being carried out in the absence of air andor moisture.a method according to claim 7, characterized in that iodine, chlorine andor bromine is used as said oxidizing agent.a method according to claim 7 or 8, characterized by dissolving said oxidizing agent in a solvent.a method according to claim 9, characterized by using acetonitrile as the said solvent.a method of preparing a layered chalcogenide compound, characterized in that the layered chalcogenide compound has the nominal atom composition mxn1zs2, where m is mn, fe, ni andor co, n is v andor cr, x is greater than zero, but less than or equal to a maximum value of 0.5 when n is v and m is fe, less than or equal to a maximum value of 0.33 when n is v and m is ni, co or mn, and less than a maximum value of 0.33 when n is cr, and when n is v and m is fe and at least one of ni, co and mn said maximum value of x scales linearly from 0.33 to 0.50 with the fe atom percent of m, the preparation comprising adding an oxidizing agent having an oxidizing potential of at least 2.8 volts to liymxn1xs2, where y is less than or equal to one, said liymxnixs2 being prepared by reacting stoichiometric quantities of the alkali metal carbonate, an oxide of m and an oxide of n with sulfur, said chalcogenide preparation being carried out in the absence of air andor moisture.a method according to claim 11, characterized in that iodine, chlorine and bromine are used as said oxidizing agent.a method according to claims 11 or 12, characterized by dissolving said oxidizing agent in a solvent.a method according to claim 13, characterized by using acetonitrile as the said solvent.a method according to claim 11, 12, 13 or 14, characterized by selecting the composition such that n is v and m is fe.a method according to claim 11, 12, 13 or 14, characterized in that the composition is selected such than n has the nominal atom composition crzv1z in which z is less than or equal to 0.75.', 'sdg_number': '7', 'claims_length': 701}\n",
      "<class 'dict'>\n",
      "sdg: 7\n",
      "title: Rechargeable non-aqueous cell with a chalcogenide-containing electrode, a method for preparing the chalcogenide compound and a method for the preparation of the cell\n",
      "6\n",
      "{'publication_number': 238, 'claims_txt': 'a method of converting a sulfurcontaining fuel to a low sulfurcontaining combustible gas by the steps of partially combusting the sulfurcontaining fuel within a dense phase fluidized conversion bed of particulate solids of which at least some solids comprise alkaline earth metal oxide whereby to produce a combustible gas of low sulfur content which leaves the top surface of the bed and entrains fine solids from the bed, the bed being contained in partial combustion equipment whereof the operating conditions include at least one condition which is limiting with respect to reducing the amount of sulfur in the combustible gas causing the combustible gas to pass through a solids separation device whereby at least some of the entrained fine solids are separated from the combustible gas, and a combustible gas of low sulfur content and reduced solids content is discharged from the separation device and monitoring the sulfur content of the combustible gas or of gases derived therefrom e.g. flue gases to obtain a signal representative of the sulfur content of the combustible gas characterized by causing a regulated increase in the total amount of solids in the combustible gas passing to the solids separation device in response to an increase in the sulfur content of the combustible gas as indicated by the sulfurrepresentative signal thereby reducing the amount of sulfur in the combustible gas discharged from the separating device.a method according to claim 1 characterized in that the said regulated increase in the total amount of solids in the combustible gas passing to the solids separation device is regulated by an expedient selected from the following a causing the combustible gas to impinge on a pivoted or hinged member deriving a signal representative of a deflection of the member, and employing said signal to regulate the amount of solids in the combustible gas b deriving a signal representative of the rate of retention or accumulation of solids by a device for separating solids from the combustible gas, and employing the signal to regulate the amount of solids in the combustible gas c deriving a signal representative of a property of the combustible gas which property is affected by the amount of solids in the combustible gas, and employing the signal to regulate the amount of solids in the combustible gas.a method according to claim 2 characterized in that the combustible gas is passed through a cyclone separator and separated solids are caused to pass to a dipleg forming a solidsoutlet conduit from the separator, and wherein the temperature of the dipleg is monitored and a signal representative of the temperature of the dipleg is employed to regulate the amount of solids in the combustible gas.a method according to any one of claims 1 to 3 characterized in that solids separated from the combustible gas by the said solids separation device are returned, at least in part, to the dense phase fluidized bed andor at least in part to the freeboard dilute phase space above the top surface of the bed in accordance with the requirement for fines in the combustible gas', 'sdg_number': '7', 'claims_length': 624}\n",
      "<class 'dict'>\n",
      "sdg: 7\n",
      "title: A method of converting a sulphur-containing fuel to a substantially sulphur-free combustible gas\n",
      "7\n",
      "{'publication_number': 238, 'claims_txt': 'separation device is regulated by an expedient selected from the following a causing the combustible gas to impinge on a pivoted or hinged member deriving a signal representative of a deflection of the member, and employing said signal to regulate the amount of solids in the combustible gas b deriving a signal representative of the rate of retention or accumulation of solids by a device for separating solids from the combustible gas, and employing the signal to regulate the amount of solids in the combustible gas c deriving a signal representative of a property of the combustible gas which property is affected by the amount of solids in the combustible gas, and employing the signal to regulate the amount of solids in the combustible gas.a method according to claim 2 characterized in that the combustible gas is passed through a cyclone separator and separated solids are caused to pass to a dipleg forming a solidsoutlet conduit from the separator, and wherein the temperature of the dipleg is monitored and a signal representative of the temperature of the dipleg is employed to regulate the amount of solids in the combustible gas.a method according to any one of claims 1 to 3 characterized in that solids separated from the combustible gas by the said solids separation device are returned, at least in part, to the dense phase fluidized bed andor at least in part to the freeboard dilute phase space above the top surface of the bed in accordance with the requirement for fines in the combustible gas passing to the said solids separation device.a method according to any one of claims 1 to 4 characterized in that the amount of solids in the combustible gas product passing to the solids separation device is varied by varying the amount of elutriatable solids in the bed.a method according to claim 5 characterized in that the amount of elutriatable solids is varied by one of the following a increasing the velocity of gas through the bed b adding elutriatable solids into the bed c attriting particles within the bed d adding to the bed a substance which, at the bed conditions, generates elutriatable solids e a combination of any of the foregoing.', 'sdg_number': '7', 'claims_length': 624}\n",
      "<class 'dict'>\n",
      "sdg: 7\n",
      "title: A method of converting a sulphur-containing fuel to a substantially sulphur-free combustible gas\n",
      "8\n",
      "{'publication_number': 251, 'claims_txt': 'a regenerable process for the removal, and its subsequent recovery as hydrogen sulfide, of the bulk of the sulfur dioxide contained in a flue gas containing oxygen, comprising the steps ofa contacting said flue gas with an aqueous alkaline, sodiumcarbonate containing reaction medium substantially saturated with sodium sulfite so as to react the bulk of the sulfur dioxide and a portion of the oxygen with the carbonate to form a slurry of sodium sulfite and sodium sulfate dispersed in the reaction medium, the sodium and alkalinity being supplied to said reaction medium by the addition of recycled solid sodium carbonate from stem gb separating sodium sulfite and sodium sulfate crystals from the reaction mediumc reducing the separated sodium sulfite and sodium sulfate crystals to solid sodium sulfided forming an intimate blend consisting essentially of said solid sodium sulfide and the separated solid sodium bicarbonate of step ie heating the blend in the substantial absence of air to a temperature sufficient to remove any water present in said blend and to react the sodium bicarbonate with the sodium sulfide in the blend to form gaseous hydrogen sulfide and dry, solid, anhydrous sodium carbonatef recovering the gaseous hydrogen sulfideg recycling at least part of the sodium carbonate formed in step e to step ah adding the remainder of the sodium carbonate formed in step e to a sodium bicarbonate saturated solution and carbonating with carbon dioxide to form a slurry composed of solid particles of sodium bicarbonate dispersed in said solution andi separating particles of sodium bicarbonate from the slurry formed in step h and recycling said separated solid particles of sodium bicarbonate to step d.a process as claimed in claim 1 in which process a substantial amount of insoluble solid particulate material is present in the separated crystals of step b, wherein, prior to the reducing step c, said separated crystals of step b are contacted with water to dissolve the sodium sulfite and sodium sulfate crystals to form a solution of sodium sulfite and sodium sulfate, the solution is separated from the remaining solid particulate material, and the separated solution is then evaporated to recover sodium sulfite and sodium sulfate crystals.a process as claimed in claim 1 or claim 2 in which process said reaction medium is a slurry, whose solid phase is substantially sodium sulfite and sodium sulfate crystals.a process as claimed in claim 3 characterized in that the absorptive capacity of the slurry for sulfur dioxide is maintained by the addition of solid, dry, sodium carbonate, the amount of solid sodium carbonate added to the slurry being substantially equivalent to the amount of solid sodium sulfite and sodium sulfate crystals separated from the reaction medium.a process as claimed in claim 3 or claim 4 characterized in that step a is carried out at a temperature of above 35c.a process as claimed in any one of claims 3 to 5 characterized in that step a is carried out at a ph in excess of 8.a process as claimed in claim 6 characterized in that ammonia is maintained in the step a', 'sdg_number': '7,12', 'claims_length': 1157}\n",
      "<class 'dict'>\n",
      "sdg: 7,12\n",
      "title: Production of hydrogen sulfide from sulfur dioxide obtained from flue gas\n",
      "9\n",
      "{'publication_number': 251, 'claims_txt': 'the slurry formed in step h and recycling said separated solid particles of sodium bicarbonate to step d.a process as claimed in claim 1 in which process a substantial amount of insoluble solid particulate material is present in the separated crystals of step b, wherein, prior to the reducing step c, said separated crystals of step b are contacted with water to dissolve the sodium sulfite and sodium sulfate crystals to form a solution of sodium sulfite and sodium sulfate, the solution is separated from the remaining solid particulate material, and the separated solution is then evaporated to recover sodium sulfite and sodium sulfate crystals.a process as claimed in claim 1 or claim 2 in which process said reaction medium is a slurry, whose solid phase is substantially sodium sulfite and sodium sulfate crystals.a process as claimed in claim 3 characterized in that the absorptive capacity of the slurry for sulfur dioxide is maintained by the addition of solid, dry, sodium carbonate, the amount of solid sodium carbonate added to the slurry being substantially equivalent to the amount of solid sodium sulfite and sodium sulfate crystals separated from the reaction medium.a process as claimed in claim 3 or claim 4 characterized in that step a is carried out at a temperature of above 35c.a process as claimed in any one of claims 3 to 5 characterized in that step a is carried out at a ph in excess of 8.a process as claimed in claim 6 characterized in that ammonia is maintained in the step a at a concentration of from 0.1 to 1 .a process as claimed in any one of claims 3 to 7 characterized in that in step b the crystals of sodium sulfite and sodium sulfate are separated from the reaction medium by filtering a portion of the slurry to obtain a moist filter cake, the solid portion of which is substantially sodium sulfite and sodium sulfate crystals, and a filtrate which is returned to step a.a process as claimed in any one of claims 1 to 8 characterized in that the sodium sulfite and sodium sulfate crystals are reduced with a carboncontaining reducing agent to form sodium sulfide and a carbon dioxidecontaining gas.a process as claimed in claim 9 characterized in that carbon dioxide formed in the reduction of the crystals of sodium sulfite and sodium sulfate with a carboncontaining reducing agent is used as the source of carbon dioxide in step h.a process as claimed in any one of claims 1 to 10 characterized in that step e is carried out a temperature in the range of from 180c to 220c.a system for removing the sulfur dioxide contained in a flue gas containing oxygen, comprisinga a gas contacting device 1 for contacting said flue gas with an aqueous, alkaline, sodium carbonate containing reaction medium saturated with sodium sulfite to react the bulk of the sulfur dioxide and a portion of the oxygen with the carbonate moiety, to form a slurry of sodium sulfite and sodium sulfate dispersed in the reaction medium, and for supplying the sodium', 'sdg_number': '7,12', 'claims_length': 1157}\n",
      "<class 'dict'>\n",
      "sdg: 7,12\n",
      "title: Production of hydrogen sulfide from sulfur dioxide obtained from flue gas\n"
     ]
    }
   ],
   "source": [
    "print(loaded_meta_dataset)\n",
    "cn =0\n",
    "for idx, items in enumerate(loaded_meta_dataset):\n",
    "    if cn == 10:\n",
    "        break\n",
    "    else:\n",
    "        print(idx)\n",
    "        print(items)\n",
    "        print(type(items))\n",
    "        print(f\"sdg: {items['sdg_number']}\")\n",
    "        print(f\"title: {loaded_embed_dataset[idx]['title_en']}\")\n",
    "        cn = cn +1"
   ]
  },
  {
   "cell_type": "code",
   "execution_count": null,
   "id": "27b385c3",
   "metadata": {},
   "outputs": [
    {
     "name": "stdout",
     "output_type": "stream",
     "text": [
      "Successfully add data to meta table\n"
     ]
    }
   ],
   "source": [
    "#====\n",
    "# Add to meta data of embedding table\n",
    "#====\n",
    "add_data_state = False\n",
    "if add_data_state == True:\n",
    "    try:\n",
    "        with sqlite3.connect(db_name) as conn:\n",
    "        \n",
    "            for idx, row_data in enumerate(loaded_meta_dataset):\n",
    "                # rowid, pub_num, title, claims, sdg_labels\n",
    "                add_to_meta_data(conn, (idx,\n",
    "                                        row_data['publication_number'], \n",
    "                                        loaded_embed_dataset[idx]['title_en'],\n",
    "                                        row_data['claims_txt'], \n",
    "                                        row_data['sdg_number']\n",
    "                                        )\n",
    "                                )\n",
    "            print(\"Successfully add data to meta table\")\n",
    "    except sqlite3.OperationalError as e:\n",
    "        print(\"Failed to connect to db\")"
   ]
  },
  {
   "cell_type": "code",
   "execution_count": 45,
   "id": "c805808c",
   "metadata": {},
   "outputs": [],
   "source": [
    "#====\n",
    "# Delete meta table\n",
    "#====\n",
    "del_meta_table_state = False\n",
    "if del_meta_table_state == True:\n",
    "    try:\n",
    "        with sqlite3.connect(db_name) as conn:\n",
    "            delete_meta_table(conn)\n",
    "            print(\"Successfully del meta table\")\n",
    "    except sqlite3.OperationalError as e:\n",
    "        print(\"Failed to connect to db\")"
   ]
  },
  {
   "cell_type": "code",
   "execution_count": 46,
   "id": "bcbe826f",
   "metadata": {},
   "outputs": [],
   "source": [
    "conn.close()"
   ]
  },
  {
   "cell_type": "markdown",
   "id": "463de281",
   "metadata": {},
   "source": [
    "## Query"
   ]
  },
  {
   "cell_type": "code",
   "execution_count": 6,
   "id": "0a267f37",
   "metadata": {},
   "outputs": [
    {
     "name": "stdout",
     "output_type": "stream",
     "text": [
      "sqlite_version=3.45.3, vec_version=v0.1.6\n",
      "[('vec_items',), ('vec_items_info',), ('sqlite_autoindex_vec_items_info_1',), ('vec_items_chunks',), ('sqlite_sequence',), ('vec_items_rowids',), ('vec_items_vector_chunks00',), ('sqlite_autoindex_vec_items_vector_chunks00_1',), ('meta_data_embeddings',)]\n"
     ]
    }
   ],
   "source": [
    "#====\n",
    "# check\n",
    "#====\n",
    "try:\n",
    "    with sqlite3.connect(db_name) as conn:\n",
    "\n",
    "        conn.enable_load_extension(True) # start loading extensions\n",
    "        sqlite_vec.load(conn)\n",
    "        conn.enable_load_extension(True) # end loading extensions\n",
    "\n",
    "        # Check the loading extension successfully?\n",
    "        sqlite_version, vec_version = conn.execute(\n",
    "        \"select sqlite_version(), vec_version()\"\n",
    "        ).fetchone()\n",
    "        print(f\"sqlite_version={sqlite_version}, vec_version={vec_version}\")\n",
    "\n",
    "        # Check the state of tables in db\n",
    "        cur = conn.cursor()\n",
    "        res = cur.execute(\"SELECT name FROM sqlite_master\")\n",
    "        print(res.fetchall())\n",
    "\n",
    "        # # Check all available tables in the databse\n",
    "        # cursor = conn.cursor()\n",
    "        # res = cursor.execute(\"SELECT name FROM sqlite_master\")\n",
    "        # print(f\"{'='*10}\")\n",
    "        # print(res.fetchall())\n",
    "\n",
    "        # # Check data in the embedding table\n",
    "        # cursor = conn.cursor()\n",
    "        # res = cursor.execute(\"SELECT * FROM vec_items_rowids\")\n",
    "        # print(f\"{'='*10}\")\n",
    "        # print(res.fetchall())\n",
    "\n",
    "        # # Check data in the mata table\n",
    "        # meta_query = \"\"\"\n",
    "        # SELECT\n",
    "        #     rowid\n",
    "        # FROM meta_data_embeddings\n",
    "        # \"\"\"\n",
    "        # cursor = conn.cursor()\n",
    "        # res = cursor.execute(meta_query)\n",
    "        # print(f\"{'='*10}\")\n",
    "        # print(res.fetchall())\n",
    "\n",
    "        # meta_query = \"\"\"\n",
    "        # SELECT\n",
    "        #     title\n",
    "        # FROM meta_data_embeddings\n",
    "        # WHERE rowid=1\n",
    "        # \"\"\"\n",
    "        # cursor = conn.cursor()\n",
    "        # res = cursor.execute(meta_query)\n",
    "        # print(f\"{'='*10}\")\n",
    "        # print(res.fetchall())\n",
    "\n",
    "except sqlite3.OperationalError as e:\n",
    "    print(e)"
   ]
  },
  {
   "cell_type": "code",
   "execution_count": 7,
   "id": "9e4dd230",
   "metadata": {},
   "outputs": [
    {
     "name": "stdout",
     "output_type": "stream",
     "text": [
      "rows in embed table: [(12201,)]\n",
      "rows in meta table: 12201\n"
     ]
    }
   ],
   "source": [
    "sql_cn_embeds = f\"\"\"\n",
    "    SELECT COUNT(*) FROM vec_items\n",
    "\"\"\"\n",
    "res = cur.execute(sql_cn_embeds)\n",
    "print(f\"rows in embed table: {res.fetchall()}\")\n",
    "\n",
    "sql_cn_meta = f\"\"\"\n",
    "    SELECT COUNT(*) FROM meta_data_embeddings\n",
    "\"\"\"\n",
    "res = cur.execute(sql_cn_meta)\n",
    "len_embed_table = res.fetchall()[0][0]\n",
    "print(f\"rows in meta table: {len_embed_table}\")"
   ]
  },
  {
   "cell_type": "code",
   "execution_count": 51,
   "id": "7fabc658",
   "metadata": {},
   "outputs": [
    {
     "name": "stdout",
     "output_type": "stream",
     "text": [
      "rows in embed table: [(0,), (1,), (2,), (3,), (4,), (5,), (6,), (7,), (8,), (9,)]\n",
      "rows in meta table: [(0,), (1,), (2,), (3,), (4,), (5,), (6,), (7,), (8,), (9,)]\n"
     ]
    }
   ],
   "source": [
    "sql_cn_embeds = f\"\"\"\n",
    "    SELECT rowid FROM vec_items \n",
    "    LIMIT 10\n",
    "\"\"\"\n",
    "res = cur.execute(sql_cn_embeds)\n",
    "print(f\"rows in embed table: {res.fetchall()}\")\n",
    "\n",
    "sql_cn_meta = f\"\"\"\n",
    "    SELECT rowid FROM meta_data_embeddings \n",
    "    LIMIT 10\n",
    "\"\"\"\n",
    "res = cur.execute(sql_cn_meta)\n",
    "print(f\"rows in meta table: {res.fetchall()}\")"
   ]
  },
  {
   "cell_type": "markdown",
   "id": "a95b4bfb",
   "metadata": {},
   "source": [
    "### Sdg -> rag query flow"
   ]
  },
  {
   "cell_type": "code",
   "execution_count": 8,
   "id": "359aca89",
   "metadata": {},
   "outputs": [],
   "source": [
    "from transformers import AutoTokenizer, AutoModel"
   ]
  },
  {
   "cell_type": "code",
   "execution_count": 9,
   "id": "97def9e3",
   "metadata": {},
   "outputs": [],
   "source": [
    "#===\n",
    "# Supporting Functions\n",
    "#===\n",
    "def cls_pooling(model_output):\n",
    "    return model_output.last_hidden_state[:, 0]\n",
    "\n",
    "def get_embeddings(text_list, imp_tokenizer, imp_model):\n",
    "    encoded_input = imp_tokenizer(\n",
    "        text_list, padding=True, truncation=True, return_tensors=\"pt\"\n",
    "    )\n",
    "    encoded_input = {k: v.to(device) for k, v in encoded_input.items()}\n",
    "    model_output = imp_model(**encoded_input)\n",
    "    return cls_pooling(model_output)"
   ]
  },
  {
   "cell_type": "code",
   "execution_count": 10,
   "id": "f8c0ba6d",
   "metadata": {},
   "outputs": [],
   "source": [
    " #====\n",
    "#  Load model for embeddings\n",
    "#====\n",
    "token_ckpt = \"sadickam/sdg-classification-bert\"\n",
    "model_ckpt = \"C:/Users/20245580/Documents/Others/EPO2025/EPO-CodeFest-2025/current_batch\" \n",
    "tokenizer = AutoTokenizer.from_pretrained(token_ckpt)\n",
    "model = AutoModel.from_pretrained(model_ckpt)"
   ]
  },
  {
   "cell_type": "code",
   "execution_count": 11,
   "id": "61975685",
   "metadata": {},
   "outputs": [],
   "source": [
    "device = \"cpu\"\n",
    "request = \"how to have clean water?\"\n",
    "question_embedding = get_embeddings([request], tokenizer, model).cpu().detach().numpy()"
   ]
  },
  {
   "cell_type": "code",
   "execution_count": 12,
   "id": "2f99f48c",
   "metadata": {},
   "outputs": [],
   "source": [
    "query = question_embedding.tolist()"
   ]
  },
  {
   "cell_type": "code",
   "execution_count": 69,
   "id": "f2d5332a",
   "metadata": {},
   "outputs": [
    {
     "ename": "OperationalError",
     "evalue": "k value in knn query too large, provided 12201 and the limit is 4096",
     "output_type": "error",
     "traceback": [
      "\u001b[31m---------------------------------------------------------------------------\u001b[39m",
      "\u001b[31mOperationalError\u001b[39m                          Traceback (most recent call last)",
      "\u001b[36mCell\u001b[39m\u001b[36m \u001b[39m\u001b[32mIn[69]\u001b[39m\u001b[32m, line 2\u001b[39m\n\u001b[32m      1\u001b[39m \u001b[38;5;66;03m# Search for KNN only\u001b[39;00m\n\u001b[32m----> \u001b[39m\u001b[32m2\u001b[39m rows = \u001b[43mconn\u001b[49m\u001b[43m.\u001b[49m\u001b[43mexecute\u001b[49m\u001b[43m(\u001b[49m\n\u001b[32m      3\u001b[39m \u001b[43m            \u001b[49m\u001b[33;43mf\u001b[39;49m\u001b[33;43m\"\"\"\u001b[39;49m\n\u001b[32m      4\u001b[39m \u001b[33;43m            SELECT\u001b[39;49m\n\u001b[32m      5\u001b[39m \u001b[33;43m                rowid,\u001b[39;49m\n\u001b[32m      6\u001b[39m \u001b[33;43m                distance\u001b[39;49m\n\u001b[32m      7\u001b[39m \u001b[33;43m            FROM vec_items\u001b[39;49m\n\u001b[32m      8\u001b[39m \u001b[33;43m            WHERE embedding MATCH ?\u001b[39;49m\n\u001b[32m      9\u001b[39m \u001b[33;43m            LIMIT \u001b[39;49m\u001b[38;5;132;43;01m{\u001b[39;49;00m\u001b[38;5;28;43mstr\u001b[39;49m\u001b[43m(\u001b[49m\u001b[43mlen_embed_table\u001b[49m\u001b[43m)\u001b[49m\u001b[38;5;132;43;01m}\u001b[39;49;00m\n\u001b[32m     10\u001b[39m \u001b[33;43m            \u001b[39;49m\u001b[33;43m\"\"\"\u001b[39;49m\u001b[43m,\u001b[49m\n\u001b[32m     11\u001b[39m \u001b[43m            \u001b[49m\u001b[43m[\u001b[49m\u001b[43mserialize_float32\u001b[49m\u001b[43m(\u001b[49m\u001b[43mquery\u001b[49m\u001b[43m[\u001b[49m\u001b[32;43m0\u001b[39;49m\u001b[43m]\u001b[49m\u001b[43m)\u001b[49m\u001b[43m]\u001b[49m\u001b[43m,\u001b[49m\n\u001b[32m     12\u001b[39m \u001b[43m            \u001b[49m\u001b[43m)\u001b[49m.fetchall()\n",
      "\u001b[31mOperationalError\u001b[39m: k value in knn query too large, provided 12201 and the limit is 4096"
     ]
    }
   ],
   "source": [
    "# Search for KNN only\n",
    "rows = conn.execute(\n",
    "            f\"\"\"\n",
    "            SELECT\n",
    "                rowid,\n",
    "                distance\n",
    "            FROM vec_items\n",
    "            WHERE embedding MATCH ?\n",
    "            LIMIT {str(len_embed_table)}\n",
    "            \"\"\",\n",
    "            [serialize_float32(query[0])],\n",
    "            ).fetchall()"
   ]
  },
  {
   "cell_type": "code",
   "execution_count": 26,
   "id": "5051baeb",
   "metadata": {},
   "outputs": [],
   "source": [
    "# Distance for all samples\n",
    "# ref: https://medium.com/@stephenc211/how-sqlite-vec-works-for-storing-and-querying-vector-embeddings-165adeeeceea\n",
    "\n",
    "# SQLite key words:\n",
    "# reference: www.google.com/url?sa=t&rct=j&q=&esrc=s&source=web&cd=&cad=rja&uact=8&ved=2ahUKEwje-c608JWNAxUxlP0HHbbSBrwQFnoECCQQAw&url=https%3A%2F%2Fwww.sqlitetutorial.net%2Fsqlite-order-by%2F%23%3A~%3Atext%3DIf%2520you%2520don%27t%2520specify%2C%252C)%2520to%2520separate%2520two%2520columns.&usg=AOvVaw0YOZUleMvp8XZj5P6KJJ9v&opi=89978449\n",
    "# ASC: order by ascending \n",
    "# DESC: order by descending\n",
    "rows = conn.execute(\n",
    "            f\"\"\"\n",
    "            SELECT rowid, vec_distance_cosine(embedding, ?) AS score\n",
    "            FROM vec_items\n",
    "            ORDER BY score ASC\n",
    "            LIMIT {str(len_embed_table)}\n",
    "            \"\"\",\n",
    "            [serialize_float32(query[0])],\n",
    "            ).fetchall()"
   ]
  },
  {
   "cell_type": "code",
   "execution_count": 27,
   "id": "f869f584",
   "metadata": {},
   "outputs": [
    {
     "name": "stdout",
     "output_type": "stream",
     "text": [
      "12201 (5882, 1.5021852254867554)\n"
     ]
    }
   ],
   "source": [
    "q_query_distance = rows\n",
    "print(len(q_query_distance),\n",
    "      q_query_distance[-1])"
   ]
  },
  {
   "cell_type": "code",
   "execution_count": 30,
   "id": "86f892d8",
   "metadata": {},
   "outputs": [],
   "source": [
    "import numpy as np"
   ]
  },
  {
   "cell_type": "code",
   "execution_count": 33,
   "id": "4c5c1926",
   "metadata": {},
   "outputs": [
    {
     "name": "stdout",
     "output_type": "stream",
     "text": [
      "(12201, 2) [1123. 9550. 4580. ... 5884. 6696. 5882.]\n"
     ]
    }
   ],
   "source": [
    "q_query_distance[0:10]\n",
    "np_q_query_distance = np.array(q_query_distance)\n",
    "print(np.shape(np_q_query_distance),\n",
    "      np_q_query_distance[:,0])"
   ]
  },
  {
   "cell_type": "code",
   "execution_count": 19,
   "id": "eb141f72",
   "metadata": {},
   "outputs": [],
   "source": [
    "import re\n",
    "\n",
    "# reference:\n",
    "# 1. https://stackoverflow.com/questions/5071601/how-do-i-use-regex-in-a-sqlite-query\n",
    "#       => the value needs to return if the function is used with `WHERE` SQLite, it must return 1 (found), 0 (not found)\n",
    "# 2. https://www.geeksforgeeks.org/python-create-or-redefine-sqlite-functions/\n",
    "#       => using `create_function()` is very flexible\n",
    "# 3. https://docs.python.org/3/library/sqlite3.html -> `create_function`\n",
    "def find_word(x, y): \n",
    "        y = y.split(',')\n",
    "        # print(y)\n",
    "        for idx, elem in enumerate(y):\n",
    "                # print(elem, x)\n",
    "                # print(type(x), type(elem))\n",
    "                if x == elem:\n",
    "                        # print(\"find\")\n",
    "                        return 1\n",
    "        # print(\"not find\")\n",
    "        return 0\n",
    "\n",
    "conn.create_function('find_smth', 2, find_word)"
   ]
  },
  {
   "cell_type": "code",
   "execution_count": 20,
   "id": "ed4fbd87",
   "metadata": {},
   "outputs": [
    {
     "name": "stdout",
     "output_type": "stream",
     "text": [
      "[(0, 6, '6'), (1, 41, '3'), (2, 85, '7'), (3, 196, '12'), (4, 197, '7'), (5, 197, '7'), (6, 238, '7'), (7, 238, '7'), (8, 251, '7,12'), (9, 251, '7,12'), (10, 251, '7,12'), (11, 251, '7,12'), (12, 270, '9,12'), (13, 282, '9'), (14, 282, '9'), (15, 282, '9'), (16, 291, '3'), (17, 355, '3'), (18, 355, '3'), (19, 443, '3')]\n"
     ]
    }
   ],
   "source": [
    "meta_query = f\"\"\"\n",
    "                SELECT\n",
    "                        rowid,\n",
    "                        pub_num,\n",
    "                        sdg_labels\n",
    "                FROM meta_data_embeddings\n",
    "                LIMIT 20\n",
    "            \"\"\"\n",
    "\n",
    "cursor = conn.cursor()\n",
    "res = cursor.execute(meta_query).fetchall()\n",
    "print(res)"
   ]
  },
  {
   "cell_type": "code",
   "execution_count": 34,
   "id": "83307279",
   "metadata": {},
   "outputs": [
    {
     "name": "stdout",
     "output_type": "stream",
     "text": [
      "601 [(3, 196, '12'), (8, 251, '7,12'), (9, 251, '7,12'), (10, 251, '7,12'), (11, 251, '7,12'), (12, 270, '9,12'), (93, 2548, '12'), (206, 824, '12'), (220, 1418, '6,12'), (249, 2860, '12'), (303, 3957, '12'), (304, 3961, '12'), (306, 4133, '12'), (315, 4714, '12'), (316, 4714, '12'), (317, 4714, '12'), (318, 4714, '12'), (319, 4714, '12'), (320, 4714, '12'), (324, 4778, '12')]\n"
     ]
    }
   ],
   "source": [
    "meta_query = f\"\"\"\n",
    "                SELECT\n",
    "                        rowid,\n",
    "                        pub_num,\n",
    "                        sdg_labels\n",
    "                FROM meta_data_embeddings\n",
    "                WHERE find_smth('12', sdg_labels)\n",
    "            \"\"\"\n",
    "\n",
    "cursor = conn.cursor()\n",
    "meta_data_sdg = cursor.execute(meta_query).fetchall()\n",
    "print(len(meta_data_sdg),\n",
    "      meta_data_sdg[0:20])"
   ]
  },
  {
   "cell_type": "code",
   "execution_count": 35,
   "id": "204ef8f0",
   "metadata": {},
   "outputs": [
    {
     "name": "stdout",
     "output_type": "stream",
     "text": [
      "(601, 3)\n"
     ]
    }
   ],
   "source": [
    "np_meta_data_sdg = np.array(meta_data_sdg)\n",
    "print(np.shape(meta_data_sdg))"
   ]
  },
  {
   "cell_type": "code",
   "execution_count": 53,
   "id": "d48907fd",
   "metadata": {},
   "outputs": [
    {
     "name": "stdout",
     "output_type": "stream",
     "text": [
      "[  3.   8.   9.  10.  11.  12.  93. 206. 220. 249.]\n"
     ]
    }
   ],
   "source": [
    "np_meta_data_sdg_float = np_meta_data_sdg[:,0].astype(float)\n",
    "print(np_meta_data_sdg_float[0:10])"
   ]
  },
  {
   "cell_type": "code",
   "execution_count": 52,
   "id": "9a14fb06",
   "metadata": {},
   "outputs": [
    {
     "name": "stdout",
     "output_type": "stream",
     "text": [
      "[1123. 9550. 4580.  479. 4583. 2793. 5200. 6925.  339. 3651.] <class 'numpy.float64'>\n"
     ]
    }
   ],
   "source": [
    "print(np_q_query_distance[0:10,0],\n",
    "      type(np_q_query_distance[0,0]))"
   ]
  },
  {
   "cell_type": "code",
   "execution_count": 44,
   "id": "b7874ea9",
   "metadata": {},
   "outputs": [
    {
     "name": "stdout",
     "output_type": "stream",
     "text": [
      "<class 'numpy.ndarray'> <class 'numpy.ndarray'>\n"
     ]
    }
   ],
   "source": [
    "print(type(np_q_query_distance[:,0]), type(np_meta_data_sdg[:,0]))"
   ]
  },
  {
   "cell_type": "code",
   "execution_count": 45,
   "id": "7a428360",
   "metadata": {},
   "outputs": [
    {
     "name": "stdout",
     "output_type": "stream",
     "text": [
      "[False False False ... False False False]\n"
     ]
    }
   ],
   "source": [
    "print(np.isin(np_q_query_distance[:,0], np_meta_data_sdg[:,0]))"
   ]
  },
  {
   "cell_type": "code",
   "execution_count": 54,
   "id": "73856d68",
   "metadata": {},
   "outputs": [
    {
     "name": "stdout",
     "output_type": "stream",
     "text": [
      "[   14    26    37    42    52    69    72    85    88    92   100   106\n",
      "   114   120   121   137   139   144   154   159   162   167   170   174\n",
      "   182   209   238   248   249   251   254   266   289   297   323   326\n",
      "   347   350   363   371   379   382   390   391   399   401   403   416\n",
      "   417   423   434   447   449   478   484   486   488   492   505   511\n",
      "   517   536   543   544   558   566   575   584   600   605   611   612\n",
      "   614   618   622   624   633   634   637   640   646   652   657   663\n",
      "   664   667   676   677   689   696   699   728   785   791   797   803\n",
      "   808   817   819   825   833   843   851   858   894   895   897   903\n",
      "   905   907   917   927   930   933   934   935   941   977   987  1019\n",
      "  1028  1063  1066  1067  1081  1111  1113  1115  1132  1141  1148  1150\n",
      "  1158  1184  1185  1196  1199  1203  1222  1259  1280  1285  1293  1302\n",
      "  1305  1306  1360  1378  1381  1450  1504  1523  1531  1545  1576  1614\n",
      "  1616  1618  1633  1642  1655  1659  1697  1699  1700  1724  1730  1731\n",
      "  1732  1766  1774  1803  1821  1823  1836  1840  1850  1870  1878  1882\n",
      "  1885  1892  1906  1952  1959  1965  1973  1976  1982  1991  2050  2051\n",
      "  2052  2055  2098  2099  2127  2146  2147  2173  2185  2203  2216  2280\n",
      "  2318  2319  2339  2342  2351  2359  2398  2427  2435  2468  2472  2480\n",
      "  2485  2543  2544  2552  2608  2631  2636  2687  2714  2732  2737  2755\n",
      "  2810  2813  2828  2834  2835  2852  2866  2882  2894  2896  2899  2903\n",
      "  2918  2936  2964  2973  2977  3001  3012  3025  3040  3052  3085  3101\n",
      "  3103  3120  3129  3145  3166  3199  3213  3221  3224  3247  3259  3300\n",
      "  3324  3326  3327  3332  3362  3393  3408  3415  3422  3425  3452  3472\n",
      "  3474  3505  3508  3512  3516  3533  3542  3575  3580  3587  3602  3608\n",
      "  3659  3673  3688  3690  3741  3756  3764  3767  3776  3778  3787  3797\n",
      "  3829  3848  3857  3858  3867  3880  3889  3898  3914  3944  3947  3957\n",
      "  3972  3973  3974  3983  3987  3989  3996  4021  4028  4032  4038  4061\n",
      "  4094  4097  4124  4167  4183  4197  4225  4243  4244  4253  4258  4264\n",
      "  4276  4278  4283  4290  4349  4356  4363  4398  4425  4428  4433  4439\n",
      "  4462  4500  4503  4573  4575  4594  4611  4620  4631  4645  4673  4681\n",
      "  4686  4692  4711  4712  4722  4745  4751  4783  4790  4805  4824  4897\n",
      "  4916  4922  4923  4957  4975  4982  5016  5092  5098  5129  5149  5172\n",
      "  5188  5194  5249  5273  5278  5294  5306  5332  5365  5367  5407  5412\n",
      "  5428  5438  5522  5523  5526  5533  5548  5555  5560  5565  5572  5584\n",
      "  5591  5610  5634  5644  5665  5688  5718  5725  5727  5746  5755  5756\n",
      "  5780  5795  5809  5829  5845  5883  5897  5922  5940  5941  5943  5946\n",
      "  5980  6001  6005  6035  6085  6103  6109  6116  6184  6210  6260  6264\n",
      "  6292  6322  6323  6350  6352  6380  6415  6461  6472  6478  6482  6508\n",
      "  6516  6522  6529  6532  6544  6597  6602  6609  6612  6692  6779  6781\n",
      "  6828  6890  6895  6917  6949  6962  6979  7011  7025  7031  7084  7119\n",
      "  7129  7143  7150  7235  7261  7331  7343  7347  7356  7361  7424  7454\n",
      "  7481  7482  7504  7510  7585  7600  7689  7734  7740  7791  7796  7803\n",
      "  7806  7832  7838  7922  7992  7997  8013  8062  8109  8173  8180  8280\n",
      "  8291  8297  8404  8439  8441  8481  8497  8507  8530  8557  8594  8637\n",
      "  8654  8669  8693  8699  8720  8799  8827  8871  8913  8915  9024  9112\n",
      "  9118  9170  9202  9254  9295  9315  9328  9339  9346  9356  9470  9476\n",
      "  9497  9543  9565  9568  9575  9683  9728  9745  9758  9871 10026 10033\n",
      " 10053 10172 10175 10180 10181 10203 10445 10537 10541 10626 10666 10741\n",
      " 10773 10862 10907 10948 10985 11110 11128 11150 11187 11212 11223 11248\n",
      " 11340 11351 11355 11526 11632 11664 11672 11674 11886 11979 12024 12192\n",
      " 12196]\n"
     ]
    }
   ],
   "source": [
    "# Find the rowid of the q-dis query, which as the desired sdg label.\n",
    "# Find indices where elements in 'a' are in 'values'\n",
    "indices = np.where(np.isin(np_q_query_distance[:,0], np_meta_data_sdg_float))[0]\n",
    "\n",
    "print(indices)  # Output: [1 3 5]\n",
    "\n",
    "# print(a[indices])"
   ]
  },
  {
   "cell_type": "code",
   "execution_count": 71,
   "id": "d19c4f32",
   "metadata": {},
   "outputs": [
    {
     "name": "stdout",
     "output_type": "stream",
     "text": [
      "(12201, 2)\n",
      "[[6.43300000e+03 1.98837504e-01]\n",
      " [6.43200000e+03 2.20638573e-01]\n",
      " [5.57900000e+03 2.46267036e-01]\n",
      " [5.10200000e+03 2.58869588e-01]\n",
      " [2.48600000e+03 2.70256907e-01]] (5, 2)\n"
     ]
    }
   ],
   "source": [
    "limit_search = 5\n",
    "print(np.shape(np_q_query_distance))\n",
    "q_dis_sdg = np_q_query_distance[indices[0:limit_search], :]\n",
    "print(q_dis_sdg,\n",
    "      np.shape(q_dis_sdg))"
   ]
  },
  {
   "cell_type": "code",
   "execution_count": 88,
   "id": "baa6cbe8",
   "metadata": {},
   "outputs": [
    {
     "name": "stdout",
     "output_type": "stream",
     "text": [
      "[(5102, 2552862, '7,9,12', 'PROCESS TO INCREASE SELECTIVITY TO ETHYLENE IN OXYGENATES-TO-OLEFINS CONVERSIONS', 'a process for converting methanol to olefins comprising passing a methanolcontaining feedstock over a catalyst capable of converting methanol to a product including ethylene and propylene, wherein from 0.05 to 0.5 weight percent of ammonia is included in the methanolcontaining feedstock, such that the ratio of ethylene to propylene in the product is increased in comparison with the product of a process that is otherwise identical but lacks ammonia in the methanolcontaining feedstock wherein a catalyst selected from sapo molecular sieves and metalsubstituted sapo molecular sieves is employed.the process of claim 1 wherein the conditions include a temperature from 200 c to 700 c, a pressure from 0.01 megapascals to 2 megapascals, or both.the process of claim 1 or 2, wherein the methanolcontaining feedstock and the ammonia are in the vapor phase, liquid phase, or a mixed vaporliquid phase.the process of any of claims 1 to 3, wherein the ratio of ethylene to propylene is increased by at least 5 percent by weight.the process of any of claims 1 to 4, wherein a sapo34 molecular sieve catalyst is employed.')]\n",
      "      rowid: 5102\n",
      "      pub_num: 2552862\n",
      "      sdg: 7,9,12\n",
      "      dist: 0.25886958837509155\n",
      "      title: PROCESS TO INCREASE SELECTIVITY TO ETHYLENE IN OXYGENATES-TO-OLEFINS CONVERSIONS\n",
      "      claim: a process for converting methanol to olefins comprising passing a methanolcontaining feedstock over a catalyst capable of converting methanol to a product including ethylene and propylene, wherein from 0.05 to 0.5 weight percent of ammonia is included in the methanolcontaining feedstock, such that the ratio of ethylene to propylene in the product is increased in comparison with the product of a process that is otherwise identical but lacks ammonia in the methanolcontaining feedstock wherein a catalyst selected from sapo molecular sieves and metalsubstituted sapo molecular sieves is employed.the process of claim 1 wherein the conditions include a temperature from 200 c to 700 c, a pressure from 0.01 megapascals to 2 megapascals, or both.the process of claim 1 or 2, wherein the methanolcontaining feedstock and the ammonia are in the vapor phase, liquid phase, or a mixed vaporliquid phase.the process of any of claims 1 to 3, wherein the ratio of ethylene to propylene is increased by at least 5 percent by weight.the process of any of claims 1 to 4, wherein a sapo34 molecular sieve catalyst is employed.\n",
      "      \n"
     ]
    }
   ],
   "source": [
    "# query the meta table again\n",
    "## How to select list of values from a same column, SQLite table \n",
    "## reference: https://www.sqlitetutorial.net/sqlite-in/\n",
    "idx = 3\n",
    "meta_query = f\"\"\"\n",
    "                SELECT\n",
    "                        rowid,\n",
    "                        pub_num,\n",
    "                        sdg_labels,\n",
    "                        title,\n",
    "                        claims\n",
    "                FROM meta_data_embeddings\n",
    "                WHERE rowid == {str(q_dis_sdg[idx,0])}\n",
    "            \"\"\"\n",
    "\n",
    "cursor = conn.cursor()\n",
    "meta_data_sdg_dis = cursor.execute(meta_query).fetchall()\n",
    "print(meta_data_sdg_dis)\n",
    "print(f\"\\\n",
    "      rowid: {meta_data_sdg_dis[0][0]}\\n\\\n",
    "      pub_num: {meta_data_sdg_dis[0][1]}\\n\\\n",
    "      sdg: {meta_data_sdg_dis[0][2]}\\n\\\n",
    "      dist: {q_dis_sdg[idx,1]}\\n\\\n",
    "      title: {meta_data_sdg_dis[0][3]}\\n\\\n",
    "      claim: {meta_data_sdg_dis[0][4]}\\n\\\n",
    "      \")"
   ]
  },
  {
   "cell_type": "markdown",
   "id": "0ff19d27",
   "metadata": {},
   "source": [
    "#### Double check with the hf dataset"
   ]
  },
  {
   "cell_type": "code",
   "execution_count": 89,
   "id": "0e86442e",
   "metadata": {},
   "outputs": [
    {
     "data": {
      "text/plain": [
       "{'publication_number': 2552862,\n",
       " 'claims_txt': 'a process for converting methanol to olefins comprising passing a methanolcontaining feedstock over a catalyst capable of converting methanol to a product including ethylene and propylene, wherein from 0.05 to 0.5 weight percent of ammonia is included in the methanolcontaining feedstock, such that the ratio of ethylene to propylene in the product is increased in comparison with the product of a process that is otherwise identical but lacks ammonia in the methanolcontaining feedstock wherein a catalyst selected from sapo molecular sieves and metalsubstituted sapo molecular sieves is employed.the process of claim 1 wherein the conditions include a temperature from 200 c to 700 c, a pressure from 0.01 megapascals to 2 megapascals, or both.the process of claim 1 or 2, wherein the methanolcontaining feedstock and the ammonia are in the vapor phase, liquid phase, or a mixed vaporliquid phase.the process of any of claims 1 to 3, wherein the ratio of ethylene to propylene is increased by at least 5 percent by weight.the process of any of claims 1 to 4, wherein a sapo34 molecular sieve catalyst is employed.',\n",
       " 'sdg_number': '7,9,12',\n",
       " 'claims_length': 179}"
      ]
     },
     "execution_count": 89,
     "metadata": {},
     "output_type": "execute_result"
    }
   ],
   "source": [
    "loaded_meta_dataset[5102]"
   ]
  },
  {
   "cell_type": "markdown",
   "id": "7ad0eece",
   "metadata": {},
   "source": [
    "### Close connections to database"
   ]
  },
  {
   "cell_type": "code",
   "execution_count": 90,
   "id": "c02bce69",
   "metadata": {},
   "outputs": [],
   "source": [
    "conn.close()"
   ]
  },
  {
   "cell_type": "code",
   "execution_count": null,
   "id": "64f30031",
   "metadata": {},
   "outputs": [],
   "source": []
  }
 ],
 "metadata": {
  "kernelspec": {
   "display_name": "workspace_1",
   "language": "python",
   "name": "python3"
  },
  "language_info": {
   "codemirror_mode": {
    "name": "ipython",
    "version": 3
   },
   "file_extension": ".py",
   "mimetype": "text/x-python",
   "name": "python",
   "nbconvert_exporter": "python",
   "pygments_lexer": "ipython3",
   "version": "3.12.9"
  }
 },
 "nbformat": 4,
 "nbformat_minor": 5
}
