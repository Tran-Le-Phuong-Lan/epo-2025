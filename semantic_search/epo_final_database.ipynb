{
 "cells": [
  {
   "cell_type": "markdown",
   "id": "2a79f71b",
   "metadata": {},
   "source": [
    "# Envs"
   ]
  },
  {
   "cell_type": "code",
   "execution_count": 1,
   "id": "63568368",
   "metadata": {},
   "outputs": [],
   "source": [
    "import os\n",
    "os.environ[\"KMP_DUPLICATE_LIB_OK\"]=\"TRUE\""
   ]
  },
  {
   "cell_type": "code",
   "execution_count": 2,
   "id": "e7313025",
   "metadata": {},
   "outputs": [
    {
     "name": "stderr",
     "output_type": "stream",
     "text": [
      "c:\\Users\\20245580\\AppData\\Local\\anaconda3\\envs\\workspace_1\\Lib\\site-packages\\tqdm\\auto.py:21: TqdmWarning: IProgress not found. Please update jupyter and ipywidgets. See https://ipywidgets.readthedocs.io/en/stable/user_install.html\n",
      "  from .autonotebook import tqdm as notebook_tqdm\n"
     ]
    }
   ],
   "source": [
    "import pandas as pd\n",
    "import json\n",
    "# convert panda data frame to dataset\n",
    "from datasets import Dataset"
   ]
  },
  {
   "cell_type": "markdown",
   "id": "3f43b241",
   "metadata": {},
   "source": [
    "# Import data for processing"
   ]
  },
  {
   "cell_type": "code",
   "execution_count": 53,
   "id": "74a8b13e",
   "metadata": {},
   "outputs": [
    {
     "name": "stdout",
     "output_type": "stream",
     "text": [
      "row counts in df: 237\n"
     ]
    }
   ],
   "source": [
    "df_sample= pd.read_csv(\"C:/Users/20245580/Documents/Others/EPO2025/epo_data/sample_dataset.csv\")\n",
    "print(f\"row counts in df: {len(df_sample)}\")"
   ]
  },
  {
   "cell_type": "code",
   "execution_count": 56,
   "id": "a18e4fe5",
   "metadata": {},
   "outputs": [
    {
     "data": {
      "text/html": [
       "<div>\n",
       "<style scoped>\n",
       "    .dataframe tbody tr th:only-of-type {\n",
       "        vertical-align: middle;\n",
       "    }\n",
       "\n",
       "    .dataframe tbody tr th {\n",
       "        vertical-align: top;\n",
       "    }\n",
       "\n",
       "    .dataframe thead th {\n",
       "        text-align: right;\n",
       "    }\n",
       "</style>\n",
       "<table border=\"1\" class=\"dataframe\">\n",
       "  <thead>\n",
       "    <tr style=\"text-align: right;\">\n",
       "      <th></th>\n",
       "      <th>publication_number</th>\n",
       "      <th>publication_kind</th>\n",
       "      <th>publication_date</th>\n",
       "      <th>ipc</th>\n",
       "      <th>cpc</th>\n",
       "      <th>title_en</th>\n",
       "      <th>claims</th>\n",
       "      <th>abstract_text</th>\n",
       "      <th>description_text</th>\n",
       "      <th>prior_art</th>\n",
       "      <th>...</th>\n",
       "      <th>pct_publication_number</th>\n",
       "      <th>designated_states_contracting</th>\n",
       "      <th>designated_states_extension</th>\n",
       "      <th>designated_states_validation</th>\n",
       "      <th>applicant</th>\n",
       "      <th>inventor</th>\n",
       "      <th>sdg_number</th>\n",
       "      <th>analysis_explanation</th>\n",
       "      <th>ipc_tech_field</th>\n",
       "      <th>ipc_technologies</th>\n",
       "    </tr>\n",
       "  </thead>\n",
       "  <tbody>\n",
       "    <tr>\n",
       "      <th>10</th>\n",
       "      <td>3316253</td>\n",
       "      <td>B1</td>\n",
       "      <td>20200812</td>\n",
       "      <td>G10L13/02, G10L25/84, H04R25/00, A42B3/30, H04...</td>\n",
       "      <td>[]</td>\n",
       "      <td>SPEECH SYNTHESIS DEVICE, SPEECH SYNTHESIS METH...</td>\n",
       "      <td>a voice synthesis device comprisinga plurality...</td>\n",
       "      <td>NaN</td>\n",
       "      <td>This application claims the benefit and priori...</td>\n",
       "      <td>[{'is_patent': True}, {'is_patent': True}, {'i...</td>\n",
       "      <td>...</td>\n",
       "      <td>WO2016206285</td>\n",
       "      <td>['AL', 'AT', 'BE', 'BG', 'CH', 'CY', 'CZ', 'DE...</td>\n",
       "      <td>[]</td>\n",
       "      <td>[]</td>\n",
       "      <td>[{'name': 'BOE Technology Group Co., Ltd.', 'c...</td>\n",
       "      <td>[{'name': 'LIANG, Xuan', 'country': 'CN'}]</td>\n",
       "      <td>3</td>\n",
       "      <td>– Goal 3: The patent describes a \"hearing aid\"...</td>\n",
       "      <td>Electricity; Human Necessities; Physics</td>\n",
       "      <td>Audio/Video Technology; Clothing &amp; Apparel; Me...</td>\n",
       "    </tr>\n",
       "    <tr>\n",
       "      <th>11</th>\n",
       "      <td>3316950</td>\n",
       "      <td>B1</td>\n",
       "      <td>20200805</td>\n",
       "      <td>A61M16/06, A61M16/14</td>\n",
       "      <td>[]</td>\n",
       "      <td>NASAL CANNULA FOR CONTINUOUS AND SIMULTANEOUS ...</td>\n",
       "      <td>a nasal cannula 100 for delivering humidified ...</td>\n",
       "      <td>NaN</td>\n",
       "      <td>BackgroundPatients with respiratory ailments m...</td>\n",
       "      <td>[{'is_patent': True}, {'is_patent': True}, {'i...</td>\n",
       "      <td>...</td>\n",
       "      <td>WO2017004404</td>\n",
       "      <td>['AL', 'AT', 'BE', 'BG', 'CH', 'CY', 'CZ', 'DE...</td>\n",
       "      <td>[]</td>\n",
       "      <td>[]</td>\n",
       "      <td>[{'name': 'Vapotherm, Inc.', 'country': 'US'}]</td>\n",
       "      <td>[{'name': 'CORTEZ, Felino, V., Jr.', 'country'...</td>\n",
       "      <td>3</td>\n",
       "      <td>– Goal 3: The patent describes a \"nasal cannul...</td>\n",
       "      <td>Human Necessities</td>\n",
       "      <td>Other Human Necessities</td>\n",
       "    </tr>\n",
       "    <tr>\n",
       "      <th>12</th>\n",
       "      <td>3320019</td>\n",
       "      <td>B1</td>\n",
       "      <td>20200812</td>\n",
       "      <td>C08G63/88, C08J9/14, C08J9/20</td>\n",
       "      <td>[]</td>\n",
       "      <td>PROCESS FOR PREPARING POLY(GLYCOLIDE-CO-LACTID...</td>\n",
       "      <td>process for preparing polylactidecoglycolide c...</td>\n",
       "      <td>NaN</td>\n",
       "      <td>Field of the inventionThe invention is concern...</td>\n",
       "      <td>[{'is_patent': False}]</td>\n",
       "      <td>...</td>\n",
       "      <td>WO2017005483</td>\n",
       "      <td>['AL', 'AT', 'BE', 'BG', 'CH', 'CY', 'CZ', 'DE...</td>\n",
       "      <td>[]</td>\n",
       "      <td>[]</td>\n",
       "      <td>[{'name': 'Evonik Operations GmbH', 'country':...</td>\n",
       "      <td>[{'name': 'KIRCHNER, Andreas', 'country': 'DE'...</td>\n",
       "      <td>3</td>\n",
       "      <td>– Goal 3: The patent describes a process for p...</td>\n",
       "      <td>Chemistry &amp; Metallurgy</td>\n",
       "      <td>Chemical Processes</td>\n",
       "    </tr>\n",
       "    <tr>\n",
       "      <th>13</th>\n",
       "      <td>3320928</td>\n",
       "      <td>B1</td>\n",
       "      <td>20200826</td>\n",
       "      <td>A61M5/168, A61M5/148, A61M5/14, A61M5/142, A61...</td>\n",
       "      <td>[]</td>\n",
       "      <td>DRUG INJECTION DEVICE</td>\n",
       "      <td>a medicine infusing apparatus comprisinga cove...</td>\n",
       "      <td>NaN</td>\n",
       "      <td>Technical FieldThe present invention relates t...</td>\n",
       "      <td>[{'is_patent': True}, {'is_patent': True}, {'i...</td>\n",
       "      <td>...</td>\n",
       "      <td>WO2017007125</td>\n",
       "      <td>['AL', 'AT', 'BE', 'BG', 'CH', 'CY', 'CZ', 'DE...</td>\n",
       "      <td>[]</td>\n",
       "      <td>[]</td>\n",
       "      <td>[{'name': 'Cebika Inc.', 'country': 'KR'}]</td>\n",
       "      <td>[{'name': 'CHO, Byoung Chic', 'country': 'KR'}]</td>\n",
       "      <td>3</td>\n",
       "      <td>– Goal 3: The patent describes a \"medicine inf...</td>\n",
       "      <td>Human Necessities</td>\n",
       "      <td>Other Human Necessities</td>\n",
       "    </tr>\n",
       "    <tr>\n",
       "      <th>14</th>\n",
       "      <td>3320941</td>\n",
       "      <td>B1</td>\n",
       "      <td>20200805</td>\n",
       "      <td>A61M16/06, A61M16/08</td>\n",
       "      <td>[]</td>\n",
       "      <td>ARTIFICIAL RESPIRATION SYSTEM</td>\n",
       "      <td>an artificial respiration system 100, comprisi...</td>\n",
       "      <td>NaN</td>\n",
       "      <td>TECHNICAL FIELDThe present invention relates t...</td>\n",
       "      <td>[{'is_patent': True}, {'is_patent': True}, {'i...</td>\n",
       "      <td>...</td>\n",
       "      <td>NaN</td>\n",
       "      <td>['AL', 'AT', 'BE', 'BG', 'CH', 'CY', 'CZ', 'DE...</td>\n",
       "      <td>[]</td>\n",
       "      <td>[]</td>\n",
       "      <td>[{'name': 'Intersurgical S.P.A.', 'country': '...</td>\n",
       "      <td>[{'name': 'NAVALESI, Paolo', 'country': 'IT'},...</td>\n",
       "      <td>3</td>\n",
       "      <td>– Goal 3: The patent describes an \"artificial ...</td>\n",
       "      <td>Human Necessities</td>\n",
       "      <td>Other Human Necessities</td>\n",
       "    </tr>\n",
       "    <tr>\n",
       "      <th>15</th>\n",
       "      <td>3324171</td>\n",
       "      <td>B1</td>\n",
       "      <td>20200805</td>\n",
       "      <td>B01L9/00, G01N1/30, G01N1/31, G01N1/36, G01N35/00</td>\n",
       "      <td>[]</td>\n",
       "      <td>AUTOMATED HIGH VOLUME SLIDE PROCESSING METHOD</td>\n",
       "      <td>an automated method for processing a plurality...</td>\n",
       "      <td>NaN</td>\n",
       "      <td>Background of the Invention1. FieldThe present...</td>\n",
       "      <td>[{'is_patent': True}, {'is_patent': True}, {'i...</td>\n",
       "      <td>...</td>\n",
       "      <td>NaN</td>\n",
       "      <td>['AT', 'BE', 'BG', 'CH', 'CY', 'CZ', 'DE', 'DK...</td>\n",
       "      <td>[]</td>\n",
       "      <td>[]</td>\n",
       "      <td>[{'name': 'Ventana Medical Systems, Inc.', 'co...</td>\n",
       "      <td>[{'name': 'Griebel, Rick', 'country': 'US'}, {...</td>\n",
       "      <td>3</td>\n",
       "      <td>– Goal 3: The patent describes an automated me...</td>\n",
       "      <td>Performing Operations &amp; Transport; Physics</td>\n",
       "      <td>Measurement &amp; Testing; Mechanical Tools &amp; Equi...</td>\n",
       "    </tr>\n",
       "    <tr>\n",
       "      <th>16</th>\n",
       "      <td>3324744</td>\n",
       "      <td>B1</td>\n",
       "      <td>20200812</td>\n",
       "      <td>A01N57/12, A01N25/30, A01N25/04, A01N59/26, A0...</td>\n",
       "      <td>[]</td>\n",
       "      <td>NOVEL FORMULATIONS COMPRISING PHOSPHITE</td>\n",
       "      <td>an aqueous suspension comprising a solubilized...</td>\n",
       "      <td>NaN</td>\n",
       "      <td>Field:The invention relates to novel aqueous s...</td>\n",
       "      <td>[{'is_patent': True}, {'is_patent': True}, {'i...</td>\n",
       "      <td>...</td>\n",
       "      <td>WO2017014633</td>\n",
       "      <td>['AL', 'AT', 'BE', 'BG', 'CH', 'CY', 'CZ', 'DE...</td>\n",
       "      <td>[]</td>\n",
       "      <td>[]</td>\n",
       "      <td>[{'name': 'Ceradis B.V.', 'country': 'NL'}]</td>\n",
       "      <td>[{'name': 'VAN DER KRIEKEN, Wilhelmus Maria', ...</td>\n",
       "      <td>2</td>\n",
       "      <td>– Goal 2: The patent describes \"a method of fe...</td>\n",
       "      <td>Human Necessities</td>\n",
       "      <td>Agriculture &amp; Forestry; Food &amp; Beverage Proces...</td>\n",
       "    </tr>\n",
       "    <tr>\n",
       "      <th>17</th>\n",
       "      <td>3325972</td>\n",
       "      <td>B1</td>\n",
       "      <td>20200819</td>\n",
       "      <td>G01N33/574</td>\n",
       "      <td>[]</td>\n",
       "      <td>BIOMARKER COMBINATIONS FOR PROSTATE DISEASE</td>\n",
       "      <td>a method for determining whether a subject has...</td>\n",
       "      <td>NaN</td>\n",
       "      <td>Technical FieldThe present invention relates g...</td>\n",
       "      <td>[{'is_patent': False}, {'is_patent': False}, {...</td>\n",
       "      <td>...</td>\n",
       "      <td>WO2017011855</td>\n",
       "      <td>['AL', 'AT', 'BE', 'BG', 'CH', 'CY', 'CZ', 'DE...</td>\n",
       "      <td>[]</td>\n",
       "      <td>[]</td>\n",
       "      <td>[{'name': 'Minomic International Ltd.', 'count...</td>\n",
       "      <td>[{'name': 'WALSH, Bradley', 'country': 'AU'}, ...</td>\n",
       "      <td>3</td>\n",
       "      <td>– Goal 3: The patent directly addresses health...</td>\n",
       "      <td>Physics</td>\n",
       "      <td>Measurement &amp; Testing</td>\n",
       "    </tr>\n",
       "    <tr>\n",
       "      <th>18</th>\n",
       "      <td>3327120</td>\n",
       "      <td>B1</td>\n",
       "      <td>20200826</td>\n",
       "      <td>C12N15/09, C12N1/19, C12P7/64, C12P19/44</td>\n",
       "      <td>[]</td>\n",
       "      <td>SOPHOROLIPID HIGHLY-PRODUCTIVE MUTANT STRAIN</td>\n",
       "      <td>a sophorolipidproducing yeast mutant strain of...</td>\n",
       "      <td>NaN</td>\n",
       "      <td>Field of the InventionThe present disclosure r...</td>\n",
       "      <td>[{'is_patent': True}, {'is_patent': True}, {'i...</td>\n",
       "      <td>...</td>\n",
       "      <td>WO2017014175</td>\n",
       "      <td>['AL', 'AT', 'BE', 'BG', 'CH', 'CY', 'CZ', 'DE...</td>\n",
       "      <td>[]</td>\n",
       "      <td>[]</td>\n",
       "      <td>[{'name': 'Kao Corporation', 'country': 'JP'}]</td>\n",
       "      <td>[{'name': 'ICHIHARA, Takahiro', 'country': 'JP...</td>\n",
       "      <td>12</td>\n",
       "      <td>– Goal 12: The patent describes a \"sophorolipi...</td>\n",
       "      <td>Chemistry &amp; Metallurgy</td>\n",
       "      <td>Biochemistry &amp; Biotechnology; Chemical Processes</td>\n",
       "    </tr>\n",
       "    <tr>\n",
       "      <th>19</th>\n",
       "      <td>3327125</td>\n",
       "      <td>B1</td>\n",
       "      <td>20200805</td>\n",
       "      <td>C12N15/113</td>\n",
       "      <td>[]</td>\n",
       "      <td>RNA INTERFERENCE MEDIATED INHIBITION OF GENE E...</td>\n",
       "      <td>a doublestranded short interfering nucleic aci...</td>\n",
       "      <td>NaN</td>\n",
       "      <td>The present invention relates to double-strand...</td>\n",
       "      <td>[{'is_patent': True}, {'is_patent': True}, {'i...</td>\n",
       "      <td>...</td>\n",
       "      <td>NaN</td>\n",
       "      <td>['AL', 'AT', 'BE', 'BG', 'CH', 'CY', 'CZ', 'DE...</td>\n",
       "      <td>[]</td>\n",
       "      <td>[]</td>\n",
       "      <td>[{'name': 'Sirna Therapeutics, Inc.', 'country...</td>\n",
       "      <td>[{'name': 'Cancilla, Mark', 'country': 'US'}, ...</td>\n",
       "      <td>3</td>\n",
       "      <td>– Goal 3: The patent describes a \"doublestrand...</td>\n",
       "      <td>Chemistry &amp; Metallurgy</td>\n",
       "      <td>Biochemistry &amp; Biotechnology</td>\n",
       "    </tr>\n",
       "  </tbody>\n",
       "</table>\n",
       "<p>10 rows × 22 columns</p>\n",
       "</div>"
      ],
      "text/plain": [
       "    publication_number publication_kind  publication_date  \\\n",
       "10             3316253               B1          20200812   \n",
       "11             3316950               B1          20200805   \n",
       "12             3320019               B1          20200812   \n",
       "13             3320928               B1          20200826   \n",
       "14             3320941               B1          20200805   \n",
       "15             3324171               B1          20200805   \n",
       "16             3324744               B1          20200812   \n",
       "17             3325972               B1          20200819   \n",
       "18             3327120               B1          20200826   \n",
       "19             3327125               B1          20200805   \n",
       "\n",
       "                                                  ipc cpc  \\\n",
       "10  G10L13/02, G10L25/84, H04R25/00, A42B3/30, H04...  []   \n",
       "11                               A61M16/06, A61M16/14  []   \n",
       "12                      C08G63/88, C08J9/14, C08J9/20  []   \n",
       "13  A61M5/168, A61M5/148, A61M5/14, A61M5/142, A61...  []   \n",
       "14                               A61M16/06, A61M16/08  []   \n",
       "15  B01L9/00, G01N1/30, G01N1/31, G01N1/36, G01N35/00  []   \n",
       "16  A01N57/12, A01N25/30, A01N25/04, A01N59/26, A0...  []   \n",
       "17                                         G01N33/574  []   \n",
       "18           C12N15/09, C12N1/19, C12P7/64, C12P19/44  []   \n",
       "19                                         C12N15/113  []   \n",
       "\n",
       "                                             title_en  \\\n",
       "10  SPEECH SYNTHESIS DEVICE, SPEECH SYNTHESIS METH...   \n",
       "11  NASAL CANNULA FOR CONTINUOUS AND SIMULTANEOUS ...   \n",
       "12  PROCESS FOR PREPARING POLY(GLYCOLIDE-CO-LACTID...   \n",
       "13                              DRUG INJECTION DEVICE   \n",
       "14                      ARTIFICIAL RESPIRATION SYSTEM   \n",
       "15      AUTOMATED HIGH VOLUME SLIDE PROCESSING METHOD   \n",
       "16            NOVEL FORMULATIONS COMPRISING PHOSPHITE   \n",
       "17        BIOMARKER COMBINATIONS FOR PROSTATE DISEASE   \n",
       "18       SOPHOROLIPID HIGHLY-PRODUCTIVE MUTANT STRAIN   \n",
       "19  RNA INTERFERENCE MEDIATED INHIBITION OF GENE E...   \n",
       "\n",
       "                                               claims  abstract_text  \\\n",
       "10  a voice synthesis device comprisinga plurality...            NaN   \n",
       "11  a nasal cannula 100 for delivering humidified ...            NaN   \n",
       "12  process for preparing polylactidecoglycolide c...            NaN   \n",
       "13  a medicine infusing apparatus comprisinga cove...            NaN   \n",
       "14  an artificial respiration system 100, comprisi...            NaN   \n",
       "15  an automated method for processing a plurality...            NaN   \n",
       "16  an aqueous suspension comprising a solubilized...            NaN   \n",
       "17  a method for determining whether a subject has...            NaN   \n",
       "18  a sophorolipidproducing yeast mutant strain of...            NaN   \n",
       "19  a doublestranded short interfering nucleic aci...            NaN   \n",
       "\n",
       "                                     description_text  \\\n",
       "10  This application claims the benefit and priori...   \n",
       "11  BackgroundPatients with respiratory ailments m...   \n",
       "12  Field of the inventionThe invention is concern...   \n",
       "13  Technical FieldThe present invention relates t...   \n",
       "14  TECHNICAL FIELDThe present invention relates t...   \n",
       "15  Background of the Invention1. FieldThe present...   \n",
       "16  Field:The invention relates to novel aqueous s...   \n",
       "17  Technical FieldThe present invention relates g...   \n",
       "18  Field of the InventionThe present disclosure r...   \n",
       "19  The present invention relates to double-strand...   \n",
       "\n",
       "                                            prior_art  ...  \\\n",
       "10  [{'is_patent': True}, {'is_patent': True}, {'i...  ...   \n",
       "11  [{'is_patent': True}, {'is_patent': True}, {'i...  ...   \n",
       "12                             [{'is_patent': False}]  ...   \n",
       "13  [{'is_patent': True}, {'is_patent': True}, {'i...  ...   \n",
       "14  [{'is_patent': True}, {'is_patent': True}, {'i...  ...   \n",
       "15  [{'is_patent': True}, {'is_patent': True}, {'i...  ...   \n",
       "16  [{'is_patent': True}, {'is_patent': True}, {'i...  ...   \n",
       "17  [{'is_patent': False}, {'is_patent': False}, {...  ...   \n",
       "18  [{'is_patent': True}, {'is_patent': True}, {'i...  ...   \n",
       "19  [{'is_patent': True}, {'is_patent': True}, {'i...  ...   \n",
       "\n",
       "   pct_publication_number                      designated_states_contracting  \\\n",
       "10           WO2016206285  ['AL', 'AT', 'BE', 'BG', 'CH', 'CY', 'CZ', 'DE...   \n",
       "11           WO2017004404  ['AL', 'AT', 'BE', 'BG', 'CH', 'CY', 'CZ', 'DE...   \n",
       "12           WO2017005483  ['AL', 'AT', 'BE', 'BG', 'CH', 'CY', 'CZ', 'DE...   \n",
       "13           WO2017007125  ['AL', 'AT', 'BE', 'BG', 'CH', 'CY', 'CZ', 'DE...   \n",
       "14                    NaN  ['AL', 'AT', 'BE', 'BG', 'CH', 'CY', 'CZ', 'DE...   \n",
       "15                    NaN  ['AT', 'BE', 'BG', 'CH', 'CY', 'CZ', 'DE', 'DK...   \n",
       "16           WO2017014633  ['AL', 'AT', 'BE', 'BG', 'CH', 'CY', 'CZ', 'DE...   \n",
       "17           WO2017011855  ['AL', 'AT', 'BE', 'BG', 'CH', 'CY', 'CZ', 'DE...   \n",
       "18           WO2017014175  ['AL', 'AT', 'BE', 'BG', 'CH', 'CY', 'CZ', 'DE...   \n",
       "19                    NaN  ['AL', 'AT', 'BE', 'BG', 'CH', 'CY', 'CZ', 'DE...   \n",
       "\n",
       "   designated_states_extension designated_states_validation  \\\n",
       "10                          []                           []   \n",
       "11                          []                           []   \n",
       "12                          []                           []   \n",
       "13                          []                           []   \n",
       "14                          []                           []   \n",
       "15                          []                           []   \n",
       "16                          []                           []   \n",
       "17                          []                           []   \n",
       "18                          []                           []   \n",
       "19                          []                           []   \n",
       "\n",
       "                                            applicant  \\\n",
       "10  [{'name': 'BOE Technology Group Co., Ltd.', 'c...   \n",
       "11     [{'name': 'Vapotherm, Inc.', 'country': 'US'}]   \n",
       "12  [{'name': 'Evonik Operations GmbH', 'country':...   \n",
       "13         [{'name': 'Cebika Inc.', 'country': 'KR'}]   \n",
       "14  [{'name': 'Intersurgical S.P.A.', 'country': '...   \n",
       "15  [{'name': 'Ventana Medical Systems, Inc.', 'co...   \n",
       "16        [{'name': 'Ceradis B.V.', 'country': 'NL'}]   \n",
       "17  [{'name': 'Minomic International Ltd.', 'count...   \n",
       "18     [{'name': 'Kao Corporation', 'country': 'JP'}]   \n",
       "19  [{'name': 'Sirna Therapeutics, Inc.', 'country...   \n",
       "\n",
       "                                             inventor sdg_number  \\\n",
       "10         [{'name': 'LIANG, Xuan', 'country': 'CN'}]          3   \n",
       "11  [{'name': 'CORTEZ, Felino, V., Jr.', 'country'...          3   \n",
       "12  [{'name': 'KIRCHNER, Andreas', 'country': 'DE'...          3   \n",
       "13    [{'name': 'CHO, Byoung Chic', 'country': 'KR'}]          3   \n",
       "14  [{'name': 'NAVALESI, Paolo', 'country': 'IT'},...          3   \n",
       "15  [{'name': 'Griebel, Rick', 'country': 'US'}, {...          3   \n",
       "16  [{'name': 'VAN DER KRIEKEN, Wilhelmus Maria', ...          2   \n",
       "17  [{'name': 'WALSH, Bradley', 'country': 'AU'}, ...          3   \n",
       "18  [{'name': 'ICHIHARA, Takahiro', 'country': 'JP...         12   \n",
       "19  [{'name': 'Cancilla, Mark', 'country': 'US'}, ...          3   \n",
       "\n",
       "                                 analysis_explanation  \\\n",
       "10  – Goal 3: The patent describes a \"hearing aid\"...   \n",
       "11  – Goal 3: The patent describes a \"nasal cannul...   \n",
       "12  – Goal 3: The patent describes a process for p...   \n",
       "13  – Goal 3: The patent describes a \"medicine inf...   \n",
       "14  – Goal 3: The patent describes an \"artificial ...   \n",
       "15  – Goal 3: The patent describes an automated me...   \n",
       "16  – Goal 2: The patent describes \"a method of fe...   \n",
       "17  – Goal 3: The patent directly addresses health...   \n",
       "18  – Goal 12: The patent describes a \"sophorolipi...   \n",
       "19  – Goal 3: The patent describes a \"doublestrand...   \n",
       "\n",
       "                                ipc_tech_field  \\\n",
       "10     Electricity; Human Necessities; Physics   \n",
       "11                           Human Necessities   \n",
       "12                      Chemistry & Metallurgy   \n",
       "13                           Human Necessities   \n",
       "14                           Human Necessities   \n",
       "15  Performing Operations & Transport; Physics   \n",
       "16                           Human Necessities   \n",
       "17                                     Physics   \n",
       "18                      Chemistry & Metallurgy   \n",
       "19                      Chemistry & Metallurgy   \n",
       "\n",
       "                                     ipc_technologies  \n",
       "10  Audio/Video Technology; Clothing & Apparel; Me...  \n",
       "11                            Other Human Necessities  \n",
       "12                                 Chemical Processes  \n",
       "13                            Other Human Necessities  \n",
       "14                            Other Human Necessities  \n",
       "15  Measurement & Testing; Mechanical Tools & Equi...  \n",
       "16  Agriculture & Forestry; Food & Beverage Proces...  \n",
       "17                              Measurement & Testing  \n",
       "18   Biochemistry & Biotechnology; Chemical Processes  \n",
       "19                       Biochemistry & Biotechnology  \n",
       "\n",
       "[10 rows x 22 columns]"
      ]
     },
     "execution_count": 56,
     "metadata": {},
     "output_type": "execute_result"
    }
   ],
   "source": [
    "df_sample[10:20]"
   ]
  },
  {
   "cell_type": "code",
   "execution_count": 173,
   "id": "1411df84",
   "metadata": {},
   "outputs": [
    {
     "name": "stdout",
     "output_type": "stream",
     "text": [
      "row counts in df: 24901\n"
     ]
    }
   ],
   "source": [
    "df= pd.read_csv(\"C:/Users/20245580/Documents/Others/EPO2025/epo_data/Full_dataset.csv\")\n",
    "print(f\"row counts in df: {len(df)}\")"
   ]
  },
  {
   "cell_type": "markdown",
   "id": "01e1a5eb",
   "metadata": {},
   "source": [
    "## Investigating"
   ]
  },
  {
   "cell_type": "code",
   "execution_count": 4,
   "id": "44a9b340",
   "metadata": {},
   "outputs": [
    {
     "data": {
      "text/html": [
       "<div>\n",
       "<style scoped>\n",
       "    .dataframe tbody tr th:only-of-type {\n",
       "        vertical-align: middle;\n",
       "    }\n",
       "\n",
       "    .dataframe tbody tr th {\n",
       "        vertical-align: top;\n",
       "    }\n",
       "\n",
       "    .dataframe thead th {\n",
       "        text-align: right;\n",
       "    }\n",
       "</style>\n",
       "<table border=\"1\" class=\"dataframe\">\n",
       "  <thead>\n",
       "    <tr style=\"text-align: right;\">\n",
       "      <th></th>\n",
       "      <th>publication_number</th>\n",
       "      <th>publication_kind</th>\n",
       "      <th>publication_date</th>\n",
       "      <th>ipc</th>\n",
       "      <th>cpc</th>\n",
       "      <th>title_en</th>\n",
       "      <th>claims</th>\n",
       "      <th>abstract_text</th>\n",
       "      <th>description_text</th>\n",
       "      <th>prior_art</th>\n",
       "      <th>...</th>\n",
       "      <th>pct_publication_number</th>\n",
       "      <th>designated_states_contracting</th>\n",
       "      <th>designated_states_extension</th>\n",
       "      <th>designated_states_validation</th>\n",
       "      <th>applicant</th>\n",
       "      <th>inventor</th>\n",
       "      <th>sdg_number</th>\n",
       "      <th>analysis_explanation</th>\n",
       "      <th>ipc_tech_field</th>\n",
       "      <th>ipc_technologies</th>\n",
       "    </tr>\n",
       "  </thead>\n",
       "  <tbody>\n",
       "    <tr>\n",
       "      <th>0</th>\n",
       "      <td>6</td>\n",
       "      <td>B1</td>\n",
       "      <td>19810204</td>\n",
       "      <td>C02F3/04</td>\n",
       "      <td>[]</td>\n",
       "      <td>Process for nitrification of waste water</td>\n",
       "      <td>process for nitrifying oxidizable nitrogen com...</td>\n",
       "      <td>NaN</td>\n",
       "      <td>The invention relates to a process for nitrifi...</td>\n",
       "      <td>[]</td>\n",
       "      <td>...</td>\n",
       "      <td>NaN</td>\n",
       "      <td>['BE', 'DE', 'FR', 'GB', 'NL', 'SE']</td>\n",
       "      <td>[]</td>\n",
       "      <td>[]</td>\n",
       "      <td>[]</td>\n",
       "      <td>[{'name': 'Bakker, Gerhard', 'country': 'NL'},...</td>\n",
       "      <td>6</td>\n",
       "      <td>– Goal 6: The patent explicitly describes a \"p...</td>\n",
       "      <td>NaN</td>\n",
       "      <td>NaN</td>\n",
       "    </tr>\n",
       "    <tr>\n",
       "      <th>1</th>\n",
       "      <td>41</td>\n",
       "      <td>B1</td>\n",
       "      <td>19810429</td>\n",
       "      <td>A61M25/00</td>\n",
       "      <td>[]</td>\n",
       "      <td>An intravascular catheter</td>\n",
       "      <td>an intravascular catheter comprising a hub 2 h...</td>\n",
       "      <td>NaN</td>\n",
       "      <td>This invention relates to an intravascular cat...</td>\n",
       "      <td>[]</td>\n",
       "      <td>...</td>\n",
       "      <td>NaN</td>\n",
       "      <td>['BE', 'DE', 'FR', 'GB', 'SE']</td>\n",
       "      <td>[]</td>\n",
       "      <td>[]</td>\n",
       "      <td>[]</td>\n",
       "      <td>[{'name': 'Sagae, Kyuta', 'country': 'JP'}, {'...</td>\n",
       "      <td>3</td>\n",
       "      <td>– Goal 3: The patent describes \"an intravascul...</td>\n",
       "      <td>Human Necessities</td>\n",
       "      <td>Other Human Necessities</td>\n",
       "    </tr>\n",
       "    <tr>\n",
       "      <th>2</th>\n",
       "      <td>85</td>\n",
       "      <td>B1</td>\n",
       "      <td>19801029</td>\n",
       "      <td>C01B7/13, C01B17/90, C01B3/06, C01B13/02</td>\n",
       "      <td>[]</td>\n",
       "      <td>Process for the production and separation of h...</td>\n",
       "      <td>a process for the production and separation of...</td>\n",
       "      <td>NaN</td>\n",
       "      <td>This invention relates to a process for the pr...</td>\n",
       "      <td>[]</td>\n",
       "      <td>...</td>\n",
       "      <td>NaN</td>\n",
       "      <td>['BE', 'DE', 'FR', 'GB', 'LU', 'NL']</td>\n",
       "      <td>[]</td>\n",
       "      <td>[]</td>\n",
       "      <td>[]</td>\n",
       "      <td>[{'name': 'De Beni, Giancarlo', 'country': 'IT...</td>\n",
       "      <td>7</td>\n",
       "      <td>– Goal 7: The patent describes \"the use of the...</td>\n",
       "      <td>Chemistry &amp; Metallurgy</td>\n",
       "      <td>Chemical Processes</td>\n",
       "    </tr>\n",
       "    <tr>\n",
       "      <th>3</th>\n",
       "      <td>196</td>\n",
       "      <td>B1</td>\n",
       "      <td>19820421</td>\n",
       "      <td>B65D5/02</td>\n",
       "      <td>[]</td>\n",
       "      <td>A corrugated fibreboard box</td>\n",
       "      <td>a corrugated fibreboard shipping box for packi...</td>\n",
       "      <td>NaN</td>\n",
       "      <td>This invention relates to a corrugated fibrebo...</td>\n",
       "      <td>[]</td>\n",
       "      <td>...</td>\n",
       "      <td>NaN</td>\n",
       "      <td>['DE', 'FR', 'GB']</td>\n",
       "      <td>[]</td>\n",
       "      <td>[]</td>\n",
       "      <td>[]</td>\n",
       "      <td>[{'name': 'Ken Kohayakawa', 'country': 'JP'}, ...</td>\n",
       "      <td>12</td>\n",
       "      <td>– Goal 12: The patent describes a \"corrugated ...</td>\n",
       "      <td>Performing Operations &amp; Transport</td>\n",
       "      <td>Packaging &amp; Containers</td>\n",
       "    </tr>\n",
       "    <tr>\n",
       "      <th>4</th>\n",
       "      <td>197</td>\n",
       "      <td>B1</td>\n",
       "      <td>19811111</td>\n",
       "      <td>H01M10/36, H01M4/58, C01G1/12</td>\n",
       "      <td>[]</td>\n",
       "      <td>Rechargeable non-aqueous cell with a chalcogen...</td>\n",
       "      <td>a nonaqueous secondary cell, comprising a nega...</td>\n",
       "      <td>NaN</td>\n",
       "      <td>Background of the Invention1. Field of the Inv...</td>\n",
       "      <td>[]</td>\n",
       "      <td>...</td>\n",
       "      <td>NaN</td>\n",
       "      <td>['BE', 'DE', 'FR', 'GB', 'NL', 'SE']</td>\n",
       "      <td>[]</td>\n",
       "      <td>[]</td>\n",
       "      <td>[]</td>\n",
       "      <td>[{'name': 'DiSalvo, Francis Joseph', 'country'...</td>\n",
       "      <td>7</td>\n",
       "      <td>– Goal 7: The patent describes a \"nonaqueous s...</td>\n",
       "      <td>Chemistry &amp; Metallurgy; Electricity</td>\n",
       "      <td>Electrical Power; Other Chemistry &amp; Metallurgy</td>\n",
       "    </tr>\n",
       "  </tbody>\n",
       "</table>\n",
       "<p>5 rows × 22 columns</p>\n",
       "</div>"
      ],
      "text/plain": [
       "   publication_number publication_kind  publication_date  \\\n",
       "0                   6               B1          19810204   \n",
       "1                  41               B1          19810429   \n",
       "2                  85               B1          19801029   \n",
       "3                 196               B1          19820421   \n",
       "4                 197               B1          19811111   \n",
       "\n",
       "                                        ipc cpc  \\\n",
       "0                                  C02F3/04  []   \n",
       "1                                 A61M25/00  []   \n",
       "2  C01B7/13, C01B17/90, C01B3/06, C01B13/02  []   \n",
       "3                                  B65D5/02  []   \n",
       "4             H01M10/36, H01M4/58, C01G1/12  []   \n",
       "\n",
       "                                            title_en  \\\n",
       "0           Process for nitrification of waste water   \n",
       "1                          An intravascular catheter   \n",
       "2  Process for the production and separation of h...   \n",
       "3                        A corrugated fibreboard box   \n",
       "4  Rechargeable non-aqueous cell with a chalcogen...   \n",
       "\n",
       "                                              claims  abstract_text  \\\n",
       "0  process for nitrifying oxidizable nitrogen com...            NaN   \n",
       "1  an intravascular catheter comprising a hub 2 h...            NaN   \n",
       "2  a process for the production and separation of...            NaN   \n",
       "3  a corrugated fibreboard shipping box for packi...            NaN   \n",
       "4  a nonaqueous secondary cell, comprising a nega...            NaN   \n",
       "\n",
       "                                    description_text prior_art  ...  \\\n",
       "0  The invention relates to a process for nitrifi...        []  ...   \n",
       "1  This invention relates to an intravascular cat...        []  ...   \n",
       "2  This invention relates to a process for the pr...        []  ...   \n",
       "3  This invention relates to a corrugated fibrebo...        []  ...   \n",
       "4  Background of the Invention1. Field of the Inv...        []  ...   \n",
       "\n",
       "  pct_publication_number         designated_states_contracting  \\\n",
       "0                    NaN  ['BE', 'DE', 'FR', 'GB', 'NL', 'SE']   \n",
       "1                    NaN        ['BE', 'DE', 'FR', 'GB', 'SE']   \n",
       "2                    NaN  ['BE', 'DE', 'FR', 'GB', 'LU', 'NL']   \n",
       "3                    NaN                    ['DE', 'FR', 'GB']   \n",
       "4                    NaN  ['BE', 'DE', 'FR', 'GB', 'NL', 'SE']   \n",
       "\n",
       "  designated_states_extension designated_states_validation applicant  \\\n",
       "0                          []                           []        []   \n",
       "1                          []                           []        []   \n",
       "2                          []                           []        []   \n",
       "3                          []                           []        []   \n",
       "4                          []                           []        []   \n",
       "\n",
       "                                            inventor sdg_number  \\\n",
       "0  [{'name': 'Bakker, Gerhard', 'country': 'NL'},...          6   \n",
       "1  [{'name': 'Sagae, Kyuta', 'country': 'JP'}, {'...          3   \n",
       "2  [{'name': 'De Beni, Giancarlo', 'country': 'IT...          7   \n",
       "3  [{'name': 'Ken Kohayakawa', 'country': 'JP'}, ...         12   \n",
       "4  [{'name': 'DiSalvo, Francis Joseph', 'country'...          7   \n",
       "\n",
       "                                analysis_explanation  \\\n",
       "0  – Goal 6: The patent explicitly describes a \"p...   \n",
       "1  – Goal 3: The patent describes \"an intravascul...   \n",
       "2  – Goal 7: The patent describes \"the use of the...   \n",
       "3  – Goal 12: The patent describes a \"corrugated ...   \n",
       "4  – Goal 7: The patent describes a \"nonaqueous s...   \n",
       "\n",
       "                        ipc_tech_field  \\\n",
       "0                                  NaN   \n",
       "1                    Human Necessities   \n",
       "2               Chemistry & Metallurgy   \n",
       "3    Performing Operations & Transport   \n",
       "4  Chemistry & Metallurgy; Electricity   \n",
       "\n",
       "                                 ipc_technologies  \n",
       "0                                             NaN  \n",
       "1                         Other Human Necessities  \n",
       "2                              Chemical Processes  \n",
       "3                          Packaging & Containers  \n",
       "4  Electrical Power; Other Chemistry & Metallurgy  \n",
       "\n",
       "[5 rows x 22 columns]"
      ]
     },
     "execution_count": 4,
     "metadata": {},
     "output_type": "execute_result"
    }
   ],
   "source": [
    "df.head()"
   ]
  },
  {
   "cell_type": "code",
   "execution_count": 5,
   "id": "2def50f2",
   "metadata": {},
   "outputs": [
    {
     "data": {
      "text/plain": [
       "True"
      ]
     },
     "execution_count": 5,
     "metadata": {},
     "output_type": "execute_result"
    }
   ],
   "source": [
    "df[\"publication_number\"].is_unique"
   ]
  },
  {
   "cell_type": "markdown",
   "id": "efac0d02",
   "metadata": {},
   "source": [
    "# Processing with Huggingface dataset"
   ]
  },
  {
   "cell_type": "code",
   "execution_count": 176,
   "id": "bc3d6511",
   "metadata": {},
   "outputs": [
    {
     "data": {
      "text/plain": [
       "Dataset({\n",
       "    features: ['publication_number', 'publication_kind', 'publication_date', 'ipc', 'cpc', 'title_en', 'claims', 'abstract_text', 'description_text', 'prior_art', 'reference', 'parent', 'pct_publication_number', 'designated_states_contracting', 'designated_states_extension', 'designated_states_validation', 'applicant', 'inventor', 'sdg_number', 'analysis_explanation', 'ipc_tech_field', 'ipc_technologies'],\n",
       "    num_rows: 24901\n",
       "})"
      ]
     },
     "execution_count": 176,
     "metadata": {},
     "output_type": "execute_result"
    }
   ],
   "source": [
    "dataset = Dataset.from_pandas(df)\n",
    "dataset"
   ]
  },
  {
   "cell_type": "markdown",
   "id": "101c5192",
   "metadata": {},
   "source": [
    "## create different `table` database for `sqlite`"
   ]
  },
  {
   "cell_type": "markdown",
   "id": "96740721",
   "metadata": {},
   "source": [
    "### `main_complementary_claimtxt_sdg` table"
   ]
  },
  {
   "cell_type": "code",
   "execution_count": 177,
   "id": "07de5ac9",
   "metadata": {},
   "outputs": [
    {
     "data": {
      "text/plain": [
       "Dataset({\n",
       "    features: ['publication_number', 'claims', 'sdg_number'],\n",
       "    num_rows: 24901\n",
       "})"
      ]
     },
     "execution_count": 177,
     "metadata": {},
     "output_type": "execute_result"
    }
   ],
   "source": [
    "# remove column => table `main`\n",
    "columns = dataset.column_names\n",
    "columns_to_keep = ['publication_number', 'claims', 'sdg_number']\n",
    "columns_to_remove = set(columns_to_keep).symmetric_difference(columns)\n",
    "dataset_main_complementary_claimtxt_sdg = dataset.remove_columns(columns_to_remove)\n",
    "dataset_main_complementary_claimtxt_sdg"
   ]
  },
  {
   "cell_type": "markdown",
   "id": "2d99c4db",
   "metadata": {},
   "source": [
    "### `main` table"
   ]
  },
  {
   "cell_type": "code",
   "execution_count": 8,
   "id": "75010da2",
   "metadata": {},
   "outputs": [
    {
     "data": {
      "text/plain": [
       "Dataset({\n",
       "    features: ['publication_number', 'title_en', 'claims', 'inventor'],\n",
       "    num_rows: 24901\n",
       "})"
      ]
     },
     "execution_count": 8,
     "metadata": {},
     "output_type": "execute_result"
    }
   ],
   "source": [
    "# remove column => table `main`\n",
    "columns = dataset.column_names\n",
    "columns_to_keep = ['publication_number', 'title_en', 'claims', 'inventor']\n",
    "columns_to_remove = set(columns_to_keep).symmetric_difference(columns)\n",
    "dataset_main = dataset.remove_columns(columns_to_remove)\n",
    "dataset_main"
   ]
  },
  {
   "cell_type": "markdown",
   "id": "3d947780",
   "metadata": {},
   "source": [
    "### `sdg_pub` table"
   ]
  },
  {
   "cell_type": "code",
   "execution_count": 41,
   "id": "9685c883",
   "metadata": {},
   "outputs": [
    {
     "data": {
      "text/plain": [
       "Dataset({\n",
       "    features: ['publication_number', 'sdg_number'],\n",
       "    num_rows: 24901\n",
       "})"
      ]
     },
     "execution_count": 41,
     "metadata": {},
     "output_type": "execute_result"
    }
   ],
   "source": [
    "# remove column => table `sdg_pub`\n",
    "columns = dataset.column_names\n",
    "columns_to_keep = ['publication_number', 'sdg_number']\n",
    "columns_to_remove = set(columns_to_keep).symmetric_difference(columns)\n",
    "dataset_sdg_pub = dataset.remove_columns(columns_to_remove)\n",
    "dataset_sdg_pub"
   ]
  },
  {
   "cell_type": "markdown",
   "id": "58f6e74a",
   "metadata": {},
   "source": [
    "### `ipc_pub` table"
   ]
  },
  {
   "cell_type": "code",
   "execution_count": 10,
   "id": "c875466a",
   "metadata": {},
   "outputs": [
    {
     "data": {
      "text/plain": [
       "Dataset({\n",
       "    features: ['publication_number', 'ipc'],\n",
       "    num_rows: 24901\n",
       "})"
      ]
     },
     "execution_count": 10,
     "metadata": {},
     "output_type": "execute_result"
    }
   ],
   "source": [
    "columns = dataset.column_names\n",
    "columns_to_keep = ['publication_number', 'ipc']\n",
    "columns_to_remove = set(columns_to_keep).symmetric_difference(columns)\n",
    "dataset_ipc_pub = dataset.remove_columns(columns_to_remove)\n",
    "dataset_ipc_pub"
   ]
  },
  {
   "cell_type": "markdown",
   "id": "5523a05c",
   "metadata": {},
   "source": [
    "# Processing the `sdg_pub` table"
   ]
  },
  {
   "cell_type": "code",
   "execution_count": 33,
   "id": "efba9f69",
   "metadata": {},
   "outputs": [
    {
     "data": {
      "text/plain": [
       "{'publication_number': 1707059, 'sdg_number': '2,3'}"
      ]
     },
     "execution_count": 33,
     "metadata": {},
     "output_type": "execute_result"
    }
   ],
   "source": [
    "dataset_sdg_pub[789]"
   ]
  },
  {
   "cell_type": "code",
   "execution_count": 42,
   "id": "1986508b",
   "metadata": {},
   "outputs": [
    {
     "name": "stderr",
     "output_type": "stream",
     "text": [
      "Map: 100%|██████████| 24901/24901 [00:00<00:00, 27179.63 examples/s]\n"
     ]
    }
   ],
   "source": [
    "dataset_sdg_pub_mod = dataset_sdg_pub.map(\n",
    "    lambda x: {\"sdg_number\": x[\"sdg_number\"].split(\",\")}\n",
    ")"
   ]
  },
  {
   "cell_type": "code",
   "execution_count": 52,
   "id": "e09eb3c9",
   "metadata": {},
   "outputs": [
    {
     "data": {
      "text/plain": [
       "{'publication_number': 1707059, 'sdg_number': ['2', '3']}"
      ]
     },
     "execution_count": 52,
     "metadata": {},
     "output_type": "execute_result"
    }
   ],
   "source": [
    "dataset_sdg_pub_mod[789]"
   ]
  },
  {
   "cell_type": "code",
   "execution_count": 58,
   "id": "61107204",
   "metadata": {},
   "outputs": [],
   "source": [
    "# convert to pandas to explode, and convert back to dataset\n",
    "dataset_sdg_pub_mod.set_format(\"pandas\")\n",
    "dataset_sdg_pub_mod = dataset_sdg_pub_mod[:] # convert to dataframe\n",
    "dataset_sdg_pub_mod= dataset_sdg_pub_mod.explode(\"sdg_number\", ignore_index=True) # explode\n",
    "dataset_sdg_pub_mod =  Dataset.from_pandas(dataset_sdg_pub_mod)"
   ]
  },
  {
   "cell_type": "code",
   "execution_count": 64,
   "id": "8cd15247",
   "metadata": {},
   "outputs": [
    {
     "data": {
      "text/plain": [
       "{'publication_number': [6, 41, 85, 196, 197, 238, 251, 251, 270, 270],\n",
       " 'sdg_number': ['6', '3', '7', '12', '7', '7', '7', '12', '9', '12']}"
      ]
     },
     "execution_count": 64,
     "metadata": {},
     "output_type": "execute_result"
    }
   ],
   "source": [
    "dataset_sdg_pub_mod[:10]"
   ]
  },
  {
   "cell_type": "markdown",
   "id": "0ce3f34f",
   "metadata": {},
   "source": [
    "## Save to json file"
   ]
  },
  {
   "cell_type": "code",
   "execution_count": 65,
   "id": "458bd08a",
   "metadata": {},
   "outputs": [],
   "source": [
    "sdg_json_db_path = 'C:/Users/20245580/Documents/Others/EPO2025/epo_data/processed_to_json/sdg_pub.json'"
   ]
  },
  {
   "cell_type": "code",
   "execution_count": 66,
   "id": "07c5479b",
   "metadata": {},
   "outputs": [],
   "source": [
    "test = dataset_sdg_pub_mod.to_list()"
   ]
  },
  {
   "cell_type": "code",
   "execution_count": 67,
   "id": "00a27a71",
   "metadata": {},
   "outputs": [
    {
     "name": "stdout",
     "output_type": "stream",
     "text": [
      "27053 <class 'dict'>\n"
     ]
    }
   ],
   "source": [
    "print(\n",
    "    len(test),\n",
    "    type(test[0])\n",
    "    )"
   ]
  },
  {
   "cell_type": "code",
   "execution_count": 68,
   "id": "1cc27c8c",
   "metadata": {},
   "outputs": [],
   "source": [
    "# Save to json file\n",
    "with open(sdg_json_db_path, 'w') as file:\n",
    "    json.dump(test, file)"
   ]
  },
  {
   "cell_type": "code",
   "execution_count": 69,
   "id": "65fc487c",
   "metadata": {},
   "outputs": [],
   "source": [
    "# Load from json file\n",
    "with open(sdg_json_db_path, 'r') as file:\n",
    "    load_data = json.load(file)"
   ]
  },
  {
   "cell_type": "code",
   "execution_count": 71,
   "id": "c4e7a4d5",
   "metadata": {},
   "outputs": [
    {
     "name": "stdout",
     "output_type": "stream",
     "text": [
      "27053 <class 'dict'> 3 41\n"
     ]
    }
   ],
   "source": [
    "print(\n",
    "    len(load_data),\n",
    "    type(load_data[0]),\n",
    "    load_data[1]['sdg_number'], \n",
    "    load_data[1]['publication_number']\n",
    "    )"
   ]
  },
  {
   "cell_type": "markdown",
   "id": "f195b1a2",
   "metadata": {},
   "source": [
    "# Processing the `ipc_pub` table"
   ]
  },
  {
   "cell_type": "code",
   "execution_count": 72,
   "id": "a9d57838",
   "metadata": {},
   "outputs": [
    {
     "data": {
      "text/plain": [
       "{'publication_number': 1707059, 'ipc': 'A23K1/16, A23K1/18'}"
      ]
     },
     "execution_count": 72,
     "metadata": {},
     "output_type": "execute_result"
    }
   ],
   "source": [
    "dataset_ipc_pub[789]"
   ]
  },
  {
   "cell_type": "code",
   "execution_count": 78,
   "id": "adfee271",
   "metadata": {},
   "outputs": [
    {
     "name": "stderr",
     "output_type": "stream",
     "text": [
      "Map: 100%|██████████| 24901/24901 [00:00<00:00, 28370.98 examples/s]\n"
     ]
    }
   ],
   "source": [
    "dataset_ipc_pub_mod = dataset_ipc_pub.map(\n",
    "    lambda x: {\"ipc\": x[\"ipc\"].split(\",\")}\n",
    ")"
   ]
  },
  {
   "cell_type": "code",
   "execution_count": 79,
   "id": "e6dcfb7e",
   "metadata": {},
   "outputs": [
    {
     "data": {
      "text/plain": [
       "{'publication_number': 1707059, 'ipc': ['A23K1/16', ' A23K1/18']}"
      ]
     },
     "execution_count": 79,
     "metadata": {},
     "output_type": "execute_result"
    }
   ],
   "source": [
    "dataset_ipc_pub_mod[789]"
   ]
  },
  {
   "cell_type": "code",
   "execution_count": 80,
   "id": "1d16320f",
   "metadata": {},
   "outputs": [],
   "source": [
    "# convert to pandas to explode, and convert back to dataset\n",
    "dataset_ipc_pub_mod.set_format(\"pandas\")\n",
    "dataset_ipc_pub_mod = dataset_ipc_pub_mod[:] # convert to dataframe\n",
    "dataset_ipc_pub_mod= dataset_ipc_pub_mod.explode(\"ipc\", ignore_index=True) # explode\n",
    "dataset_ipc_pub_mod =  Dataset.from_pandas(dataset_ipc_pub_mod)"
   ]
  },
  {
   "cell_type": "code",
   "execution_count": 81,
   "id": "d5bdb0cd",
   "metadata": {},
   "outputs": [
    {
     "data": {
      "text/plain": [
       "{'publication_number': [6, 41, 85, 85, 85, 85, 196, 197, 197, 197],\n",
       " 'ipc': ['C02F3/04',\n",
       "  'A61M25/00',\n",
       "  'C01B7/13',\n",
       "  ' C01B17/90',\n",
       "  ' C01B3/06',\n",
       "  ' C01B13/02',\n",
       "  'B65D5/02',\n",
       "  'H01M10/36',\n",
       "  ' H01M4/58',\n",
       "  ' C01G1/12']}"
      ]
     },
     "execution_count": 81,
     "metadata": {},
     "output_type": "execute_result"
    }
   ],
   "source": [
    "dataset_ipc_pub_mod[0:10]"
   ]
  },
  {
   "cell_type": "markdown",
   "id": "adcd83cd",
   "metadata": {},
   "source": [
    "## Save to json file"
   ]
  },
  {
   "cell_type": "code",
   "execution_count": 82,
   "id": "ea92a6dc",
   "metadata": {},
   "outputs": [],
   "source": [
    "ipc_json_db_path = 'C:/Users/20245580/Documents/Others/EPO2025/epo_data/processed_to_json/ipc_pub.json'"
   ]
  },
  {
   "cell_type": "code",
   "execution_count": 83,
   "id": "7172a0a6",
   "metadata": {},
   "outputs": [],
   "source": [
    "test = dataset_ipc_pub_mod.to_list()\n",
    "# Save to json file\n",
    "with open(ipc_json_db_path, 'w') as file:\n",
    "    json.dump(test, file)"
   ]
  },
  {
   "cell_type": "code",
   "execution_count": 84,
   "id": "a99f0cd4",
   "metadata": {},
   "outputs": [],
   "source": [
    "# Load from json file\n",
    "with open(ipc_json_db_path, 'r') as file:\n",
    "    load_data = json.load(file)"
   ]
  },
  {
   "cell_type": "code",
   "execution_count": 85,
   "id": "9d9e4fe7",
   "metadata": {},
   "outputs": [
    {
     "name": "stdout",
     "output_type": "stream",
     "text": [
      "90660 <class 'dict'> A61M25/00 41\n"
     ]
    }
   ],
   "source": [
    "print(\n",
    "    len(load_data),\n",
    "    type(load_data[0]),\n",
    "    load_data[1]['ipc'], \n",
    "    load_data[1]['publication_number']\n",
    "    )"
   ]
  },
  {
   "cell_type": "markdown",
   "id": "b3d99f7c",
   "metadata": {},
   "source": [
    "# Processing the `main` table"
   ]
  },
  {
   "cell_type": "code",
   "execution_count": 86,
   "id": "ef81ee82",
   "metadata": {},
   "outputs": [
    {
     "data": {
      "text/plain": [
       "'process for nitrifying oxidizable nitrogen compounds in waste water, with the aid of a gas containing molecular oxygen and of microorganisms bound to an inert carrier material in a column, wherein the offgas of the column is vented andor recycled and, if necessary, part of the effluent is recycled, this process being characterized in that a tricklephase reactor is used as column, that the gas containing molecular oxygen contains at least 25 w. of oxygen, that during the nitrification 0.510 w. of c02, referred to the total quantity of oxygen, is present in the column, that such a quantity of the liquid effluent of the column is recycled that the entire column contents are irrigated, and that the gas and the liquid contact each other countercurrently.process according to claim 1, characterized in that the gas contains at least 90 w. of molecular oxygen.process according to claim 1 or 2, characterized in that 5  10 w. of c02, referred to the total quantity of molecular oxygen, is present.process according to the claims 1, 2 or 3, characterized in that the vent amounts to 110 w. of the total circulating gas stream.process according to the claims 14, characterized in that the liquid effluent, prior to its return to the column, is given a ph value of at least 8.process according to the claims 1 5, characterized in that the gas containing molecular oxygen, which is supplied to the column, is saturated with water vapour.process according to the claims 16, characterized in that the nitrification mainly proceeds to nitrite.'"
      ]
     },
     "execution_count": 86,
     "metadata": {},
     "output_type": "execute_result"
    }
   ],
   "source": [
    "dataset_main[0]['claims']"
   ]
  },
  {
   "cell_type": "code",
   "execution_count": 87,
   "id": "3a2c8e0c",
   "metadata": {},
   "outputs": [
    {
     "name": "stderr",
     "output_type": "stream",
     "text": [
      "Map: 100%|██████████| 24901/24901 [00:03<00:00, 7475.24 examples/s]\n"
     ]
    }
   ],
   "source": [
    "dataset_main = dataset_main.map(\n",
    "    lambda x: {\"claims_length\": len(x[\"claims\"].split())}\n",
    ")"
   ]
  },
  {
   "cell_type": "code",
   "execution_count": 90,
   "id": "a73cdd19",
   "metadata": {},
   "outputs": [
    {
     "data": {
      "text/plain": [
       "249"
      ]
     },
     "execution_count": 90,
     "metadata": {},
     "output_type": "execute_result"
    }
   ],
   "source": [
    "dataset_main[2]['claims_length']"
   ]
  },
  {
   "cell_type": "markdown",
   "id": "e0d17cb4",
   "metadata": {},
   "source": [
    "Find min and max number of words in `claims`"
   ]
  },
  {
   "cell_type": "code",
   "execution_count": 91,
   "id": "430d809b",
   "metadata": {},
   "outputs": [
    {
     "name": "stdout",
     "output_type": "stream",
     "text": [
      "min length in dataset: 10 words\n",
      "max length in dataset: 8538\n"
     ]
    }
   ],
   "source": [
    "max = 0\n",
    "for i in range(len(dataset_main)):\n",
    "    length_description_dataset = dataset_main[i]['claims_length']\n",
    "    if i== 0:\n",
    "        min = length_description_dataset\n",
    "        max = length_description_dataset\n",
    "    else:\n",
    "        if length_description_dataset <= min:\n",
    "            min = length_description_dataset\n",
    "        \n",
    "        if length_description_dataset >= max:\n",
    "            max = length_description_dataset\n",
    "print(f\"min length in dataset: {min} words\\nmax length in dataset: {max}\")"
   ]
  },
  {
   "cell_type": "markdown",
   "id": "d7bf1a79",
   "metadata": {},
   "source": [
    "Split the long description into small chunks"
   ]
  },
  {
   "cell_type": "code",
   "execution_count": 181,
   "id": "fff4ba68",
   "metadata": {},
   "outputs": [],
   "source": [
    "def spilt_into_smaller_chunks(examples):\n",
    "    res = []\n",
    "    index = 0\n",
    "    num_words_per_chunk = 512\n",
    "    overlap = int(num_words_per_chunk * 0.5)\n",
    "    total_chunks = examples[\"claims\"].split()\n",
    "    total_len = examples[\"claims_length\"]\n",
    "    while index < total_len:\n",
    "        chunk = ' '.join(total_chunks[index: index+num_words_per_chunk]) \n",
    "                        # the elem with index = index + num_words_per_chunk \n",
    "                        # is excluded\n",
    "        res.append(chunk)\n",
    "        if (index+num_words_per_chunk >= total_len):\n",
    "            break\n",
    "        else:\n",
    "            index = index + num_words_per_chunk - overlap\n",
    "    # last_chunk = ' '.join(total_chunks[index - num_words_per_chunk: total_len])\n",
    "    # res.append(last_chunk)\n",
    "    return {\n",
    "        \"claims\": res\n",
    "    }"
   ]
  },
  {
   "cell_type": "code",
   "execution_count": 152,
   "id": "c1da0eb3",
   "metadata": {},
   "outputs": [
    {
     "name": "stdout",
     "output_type": "stream",
     "text": [
      "24901\n"
     ]
    }
   ],
   "source": [
    "print(len(dataset_main))"
   ]
  },
  {
   "cell_type": "code",
   "execution_count": 163,
   "id": "f8667ed6",
   "metadata": {},
   "outputs": [
    {
     "data": {
      "text/plain": [
       "'a nonaqueous secondary cell, comprising a negative electrode made with lithium andor sodium, an electrolyte, and a positive electrode made with a layered chalcogenide as the active material,characterized in that said chalcogenide has the nominal atom composition mxn1xs2, in which m is mn, fe, ni andor co and n is v andor cr, x is greater than zero but less than or equal to a maximum value of 0.5 when n is v and m is fe, less than or equal to a maximum value of 0.33 when n is v and m is ni, co or mn, and less than a maximum value of 0.33 when n is cr, and when n is v and m is fe and at least one of ni, co and mn, said maximum value, of x scales linearly from 0.33 to 0.50 with the fe atom percent of m.a cell according to claim 1, characterized in that m is fe and n is v.a cell according to claim 2, characterized in that x is less than 0.33 and greater than 0.20.a cell according to claim 1, characterized in that n has a nominal atom composition crzv1z, wherein z is less than or equal to 0.75.a cell according to any one of claims 1, 2, 3 or 4, characterized in that the cathode is made with lithium.a cell according to any one of claims 1, 2, 3, 4 or 5, characterized in that said electrolyte is composed of lic104 dissolved in propylene carbonate.a method of preparing the nonaqueous secondary cell according to any one of the preceding claims by assembling into a cell said negative electrode, at least one electrolytecontaining spacer, and said positive electrode made with said layered chalcogenide, characterized by preparing the said chalcogenide in the desired nominal atom composition by adding an oxidizing agent having an oxidizing potential of at least 2.8 volts to liymxn1xs2, where y is less than or equal to one, said liymxn1xs2 being prepared by reacting stoichiometric quantities of the alkali metal carbonate, and oxide of m and an oxide of n with sulfur, said preparation being carried out in the absence of air andor moisture.a method according to claim 7, characterized in that iodine, chlorine andor bromine is used as said oxidizing agent.a method according to claim 7 or 8, characterized by dissolving said oxidizing agent in a solvent.a method according to claim 9, characterized by using acetonitrile as the said solvent.a method of preparing a layered chalcogenide compound, characterized in that the layered chalcogenide compound has the nominal atom composition mxn1zs2, where m is mn, fe, ni andor co, n is v andor cr, x is greater than zero, but less than or equal to a maximum value of 0.5 when n is v and m is fe, less than or equal to a maximum value of 0.33 when n is v and m is ni, co or mn, and less than a maximum value of 0.33 when n is cr, and when n is v and m is fe and at least one of ni, co and mn said maximum value of x scales linearly from 0.33 to 0.50 with the fe atom percent of m, the preparation comprising adding an oxidizing agent having an oxidizing potential of at least 2.8 volts to liymxn1xs2, where y is less than or equal to one, said liymxnixs2 being prepared by reacting stoichiometric quantities of the alkali metal carbonate, an oxide of m and an oxide of n with sulfur, said chalcogenide preparation being carried out in the absence of air andor moisture.a method according to claim 11, characterized in that iodine, chlorine and bromine are used as said oxidizing agent.a method according to claims 11 or 12, characterized by dissolving said oxidizing agent in a solvent.a method according to claim 13, characterized by using acetonitrile as the said solvent.a method according to claim 11, 12, 13 or 14, characterized by selecting the composition such that n is v and m is fe.a method according to claim 11, 12, 13 or 14, characterized in that the composition is selected such than n has the nominal atom composition crzv1z in which z is less than or equal to 0.75.'"
      ]
     },
     "execution_count": 163,
     "metadata": {},
     "output_type": "execute_result"
    }
   ],
   "source": [
    "dataset_main[4]['claims']"
   ]
  },
  {
   "cell_type": "code",
   "execution_count": 153,
   "id": "17892f8e",
   "metadata": {},
   "outputs": [],
   "source": [
    "# 1. For demonstration purpose:\n",
    "#    extract only a small fraction of the database.\n",
    "# 2. For demonstrating the ability to add new data to later the embedding database for similar search:\n",
    "#    two samples are used. First sample = old data, New sample = new data\n",
    "all_samples = []\n",
    "all_samples.append(dataset_main.select(range(0, 5000))) # extract row from 0th to 19th\n",
    "all_samples.append(dataset_main.select(range(5000, 10000)))\n",
    "all_samples.append(dataset_main.select(range(10000, 15000)))\n",
    "all_samples.append(dataset_main.select(range(15000, 20000)))\n",
    "all_samples.append(dataset_main.select(range(20000, len(dataset_main)-1)))"
   ]
  },
  {
   "cell_type": "code",
   "execution_count": 154,
   "id": "52b27f49",
   "metadata": {},
   "outputs": [
    {
     "name": "stderr",
     "output_type": "stream",
     "text": [
      "Map: 100%|██████████| 5000/5000 [00:00<00:00, 9479.77 examples/s]\n",
      "Map: 100%|██████████| 5000/5000 [00:00<00:00, 9117.69 examples/s]\n",
      "Map: 100%|██████████| 5000/5000 [00:00<00:00, 9339.35 examples/s]\n",
      "Map: 100%|██████████| 5000/5000 [00:00<00:00, 8139.28 examples/s]\n",
      "Map: 100%|██████████| 4900/4900 [00:00<00:00, 10895.92 examples/s]\n"
     ]
    }
   ],
   "source": [
    "all_samples_split = []\n",
    "for idx, elem in enumerate(all_samples):\n",
    "    all_samples_split.append(elem.map(spilt_into_smaller_chunks))"
   ]
  },
  {
   "cell_type": "markdown",
   "id": "36970884",
   "metadata": {},
   "source": [
    "convert to dataframe to use `explode`"
   ]
  },
  {
   "cell_type": "code",
   "execution_count": 155,
   "id": "6161509a",
   "metadata": {},
   "outputs": [],
   "source": [
    "df_all_samples_split = []\n",
    "for idx, elem in enumerate(all_samples_split):\n",
    "    elem.set_format(\"pandas\")\n",
    "    df_elem = elem[:] # convert to dataframe\n",
    "    df_all_samples_split.append(df_elem.explode(\"claims\", ignore_index=True)) # explode"
   ]
  },
  {
   "cell_type": "code",
   "execution_count": 156,
   "id": "82499ead",
   "metadata": {},
   "outputs": [
    {
     "data": {
      "text/html": [
       "<div>\n",
       "<style scoped>\n",
       "    .dataframe tbody tr th:only-of-type {\n",
       "        vertical-align: middle;\n",
       "    }\n",
       "\n",
       "    .dataframe tbody tr th {\n",
       "        vertical-align: top;\n",
       "    }\n",
       "\n",
       "    .dataframe thead th {\n",
       "        text-align: right;\n",
       "    }\n",
       "</style>\n",
       "<table border=\"1\" class=\"dataframe\">\n",
       "  <thead>\n",
       "    <tr style=\"text-align: right;\">\n",
       "      <th></th>\n",
       "      <th>publication_number</th>\n",
       "      <th>title_en</th>\n",
       "      <th>claims</th>\n",
       "      <th>inventor</th>\n",
       "      <th>claims_length</th>\n",
       "    </tr>\n",
       "  </thead>\n",
       "  <tbody>\n",
       "    <tr>\n",
       "      <th>0</th>\n",
       "      <td>6</td>\n",
       "      <td>Process for nitrification of waste water</td>\n",
       "      <td>process for nitrifying oxidizable nitrogen com...</td>\n",
       "      <td>[{'name': 'Bakker, Gerhard', 'country': 'NL'},...</td>\n",
       "      <td>256</td>\n",
       "    </tr>\n",
       "    <tr>\n",
       "      <th>1</th>\n",
       "      <td>41</td>\n",
       "      <td>An intravascular catheter</td>\n",
       "      <td>an intravascular catheter comprising a hub 2 h...</td>\n",
       "      <td>[{'name': 'Sagae, Kyuta', 'country': 'JP'}, {'...</td>\n",
       "      <td>410</td>\n",
       "    </tr>\n",
       "    <tr>\n",
       "      <th>2</th>\n",
       "      <td>85</td>\n",
       "      <td>Process for the production and separation of h...</td>\n",
       "      <td>a process for the production and separation of...</td>\n",
       "      <td>[{'name': 'De Beni, Giancarlo', 'country': 'IT...</td>\n",
       "      <td>249</td>\n",
       "    </tr>\n",
       "    <tr>\n",
       "      <th>3</th>\n",
       "      <td>196</td>\n",
       "      <td>A corrugated fibreboard box</td>\n",
       "      <td>a corrugated fibreboard shipping box for packi...</td>\n",
       "      <td>[{'name': 'Ken Kohayakawa', 'country': 'JP'}, ...</td>\n",
       "      <td>363</td>\n",
       "    </tr>\n",
       "    <tr>\n",
       "      <th>4</th>\n",
       "      <td>197</td>\n",
       "      <td>Rechargeable non-aqueous cell with a chalcogen...</td>\n",
       "      <td>a nonaqueous secondary cell, comprising a nega...</td>\n",
       "      <td>[{'name': 'DiSalvo, Francis Joseph', 'country'...</td>\n",
       "      <td>701</td>\n",
       "    </tr>\n",
       "    <tr>\n",
       "      <th>5</th>\n",
       "      <td>197</td>\n",
       "      <td>Rechargeable non-aqueous cell with a chalcogen...</td>\n",
       "      <td>according to any one of the preceding claims b...</td>\n",
       "      <td>[{'name': 'DiSalvo, Francis Joseph', 'country'...</td>\n",
       "      <td>701</td>\n",
       "    </tr>\n",
       "    <tr>\n",
       "      <th>6</th>\n",
       "      <td>238</td>\n",
       "      <td>A method of converting a sulphur-containing fu...</td>\n",
       "      <td>a method of converting a sulfurcontaining fuel...</td>\n",
       "      <td>[{'name': 'Johnes, Graham Lloyd', 'country': '...</td>\n",
       "      <td>624</td>\n",
       "    </tr>\n",
       "    <tr>\n",
       "      <th>7</th>\n",
       "      <td>238</td>\n",
       "      <td>A method of converting a sulphur-containing fu...</td>\n",
       "      <td>separation device is regulated by an expedient...</td>\n",
       "      <td>[{'name': 'Johnes, Graham Lloyd', 'country': '...</td>\n",
       "      <td>624</td>\n",
       "    </tr>\n",
       "    <tr>\n",
       "      <th>8</th>\n",
       "      <td>251</td>\n",
       "      <td>Production of hydrogen sulfide from sulfur dio...</td>\n",
       "      <td>a regenerable process for the removal, and its...</td>\n",
       "      <td>[{'name': 'Miller, Ralph', 'country': 'US'}]</td>\n",
       "      <td>1157</td>\n",
       "    </tr>\n",
       "    <tr>\n",
       "      <th>9</th>\n",
       "      <td>251</td>\n",
       "      <td>Production of hydrogen sulfide from sulfur dio...</td>\n",
       "      <td>the slurry formed in step h and recycling said...</td>\n",
       "      <td>[{'name': 'Miller, Ralph', 'country': 'US'}]</td>\n",
       "      <td>1157</td>\n",
       "    </tr>\n",
       "    <tr>\n",
       "      <th>10</th>\n",
       "      <td>251</td>\n",
       "      <td>Production of hydrogen sulfide from sulfur dio...</td>\n",
       "      <td>at a concentration of from 0.1 to 1 .a process...</td>\n",
       "      <td>[{'name': 'Miller, Ralph', 'country': 'US'}]</td>\n",
       "      <td>1157</td>\n",
       "    </tr>\n",
       "  </tbody>\n",
       "</table>\n",
       "</div>"
      ],
      "text/plain": [
       "    publication_number                                           title_en  \\\n",
       "0                    6           Process for nitrification of waste water   \n",
       "1                   41                          An intravascular catheter   \n",
       "2                   85  Process for the production and separation of h...   \n",
       "3                  196                        A corrugated fibreboard box   \n",
       "4                  197  Rechargeable non-aqueous cell with a chalcogen...   \n",
       "5                  197  Rechargeable non-aqueous cell with a chalcogen...   \n",
       "6                  238  A method of converting a sulphur-containing fu...   \n",
       "7                  238  A method of converting a sulphur-containing fu...   \n",
       "8                  251  Production of hydrogen sulfide from sulfur dio...   \n",
       "9                  251  Production of hydrogen sulfide from sulfur dio...   \n",
       "10                 251  Production of hydrogen sulfide from sulfur dio...   \n",
       "\n",
       "                                               claims  \\\n",
       "0   process for nitrifying oxidizable nitrogen com...   \n",
       "1   an intravascular catheter comprising a hub 2 h...   \n",
       "2   a process for the production and separation of...   \n",
       "3   a corrugated fibreboard shipping box for packi...   \n",
       "4   a nonaqueous secondary cell, comprising a nega...   \n",
       "5   according to any one of the preceding claims b...   \n",
       "6   a method of converting a sulfurcontaining fuel...   \n",
       "7   separation device is regulated by an expedient...   \n",
       "8   a regenerable process for the removal, and its...   \n",
       "9   the slurry formed in step h and recycling said...   \n",
       "10  at a concentration of from 0.1 to 1 .a process...   \n",
       "\n",
       "                                             inventor  claims_length  \n",
       "0   [{'name': 'Bakker, Gerhard', 'country': 'NL'},...            256  \n",
       "1   [{'name': 'Sagae, Kyuta', 'country': 'JP'}, {'...            410  \n",
       "2   [{'name': 'De Beni, Giancarlo', 'country': 'IT...            249  \n",
       "3   [{'name': 'Ken Kohayakawa', 'country': 'JP'}, ...            363  \n",
       "4   [{'name': 'DiSalvo, Francis Joseph', 'country'...            701  \n",
       "5   [{'name': 'DiSalvo, Francis Joseph', 'country'...            701  \n",
       "6   [{'name': 'Johnes, Graham Lloyd', 'country': '...            624  \n",
       "7   [{'name': 'Johnes, Graham Lloyd', 'country': '...            624  \n",
       "8        [{'name': 'Miller, Ralph', 'country': 'US'}]           1157  \n",
       "9        [{'name': 'Miller, Ralph', 'country': 'US'}]           1157  \n",
       "10       [{'name': 'Miller, Ralph', 'country': 'US'}]           1157  "
      ]
     },
     "execution_count": 156,
     "metadata": {},
     "output_type": "execute_result"
    }
   ],
   "source": [
    "df_all_samples_split[0].head(11)"
   ]
  },
  {
   "cell_type": "code",
   "execution_count": 165,
   "id": "710b7fde",
   "metadata": {},
   "outputs": [
    {
     "data": {
      "text/plain": [
       "'according to any one of the preceding claims by assembling into a cell said negative electrode, at least one electrolytecontaining spacer, and said positive electrode made with said layered chalcogenide, characterized by preparing the said chalcogenide in the desired nominal atom composition by adding an oxidizing agent having an oxidizing potential of at least 2.8 volts to liymxn1xs2, where y is less than or equal to one, said liymxn1xs2 being prepared by reacting stoichiometric quantities of the alkali metal carbonate, and oxide of m and an oxide of n with sulfur, said preparation being carried out in the absence of air andor moisture.a method according to claim 7, characterized in that iodine, chlorine andor bromine is used as said oxidizing agent.a method according to claim 7 or 8, characterized by dissolving said oxidizing agent in a solvent.a method according to claim 9, characterized by using acetonitrile as the said solvent.a method of preparing a layered chalcogenide compound, characterized in that the layered chalcogenide compound has the nominal atom composition mxn1zs2, where m is mn, fe, ni andor co, n is v andor cr, x is greater than zero, but less than or equal to a maximum value of 0.5 when n is v and m is fe, less than or equal to a maximum value of 0.33 when n is v and m is ni, co or mn, and less than a maximum value of 0.33 when n is cr, and when n is v and m is fe and at least one of ni, co and mn said maximum value of x scales linearly from 0.33 to 0.50 with the fe atom percent of m, the preparation comprising adding an oxidizing agent having an oxidizing potential of at least 2.8 volts to liymxn1xs2, where y is less than or equal to one, said liymxnixs2 being prepared by reacting stoichiometric quantities of the alkali metal carbonate, an oxide of m and an oxide of n with sulfur, said chalcogenide preparation being carried out in the absence of air andor moisture.a method according to claim 11, characterized in that iodine, chlorine and bromine are used as said oxidizing agent.a method according to claims 11 or 12, characterized by dissolving said oxidizing agent in a solvent.a method according to claim 13, characterized by using acetonitrile as the said solvent.a method according to claim 11, 12, 13 or 14, characterized by selecting the composition such that n is v and m is fe.a method according to claim 11, 12, 13 or 14, characterized in that the composition is selected such than n has the nominal atom composition crzv1z in which z is less than or equal to 0.75.'"
      ]
     },
     "execution_count": 165,
     "metadata": {},
     "output_type": "execute_result"
    }
   ],
   "source": [
    "df_all_samples_split[0].loc[5]['claims']"
   ]
  },
  {
   "cell_type": "code",
   "execution_count": 166,
   "id": "787f5a84",
   "metadata": {},
   "outputs": [
    {
     "name": "stdout",
     "output_type": "stream",
     "text": [
      "[Dataset({\n",
      "    features: ['publication_number', 'title_en', 'claims', 'inventor', 'claims_length'],\n",
      "    num_rows: 12201\n",
      "}), Dataset({\n",
      "    features: ['publication_number', 'title_en', 'claims', 'inventor', 'claims_length'],\n",
      "    num_rows: 12791\n",
      "}), Dataset({\n",
      "    features: ['publication_number', 'title_en', 'claims', 'inventor', 'claims_length'],\n",
      "    num_rows: 12434\n",
      "}), Dataset({\n",
      "    features: ['publication_number', 'title_en', 'claims', 'inventor', 'claims_length'],\n",
      "    num_rows: 12359\n",
      "}), Dataset({\n",
      "    features: ['publication_number', 'title_en', 'claims', 'inventor', 'claims_length'],\n",
      "    num_rows: 9690\n",
      "})]\n"
     ]
    }
   ],
   "source": [
    "for idx, elem in enumerate(df_all_samples_split):\n",
    "    all_samples[idx] =  Dataset.from_pandas(elem)\n",
    "print(all_samples)"
   ]
  },
  {
   "cell_type": "markdown",
   "id": "a04516a1",
   "metadata": {},
   "source": [
    "## Creating text embeddings"
   ]
  },
  {
   "cell_type": "code",
   "execution_count": 168,
   "id": "89e69ff7",
   "metadata": {},
   "outputs": [],
   "source": [
    "import transformers"
   ]
  },
  {
   "cell_type": "code",
   "execution_count": 169,
   "id": "6d489c02",
   "metadata": {},
   "outputs": [],
   "source": [
    "from transformers import AutoTokenizer, AutoModel, AutoModelForCausalLM\n",
    "\n",
    "# **reference**\n",
    "# [1] what is the difference between AutoModel and AutoModelForCausalLM: https://www.reddit.com/r/huggingface/comments/1bv1kfk/what_is_the_difference_between/\n",
    "#  => Summary\n",
    "#       AutoModel: load the base model -> output is the model output embeddings\n",
    "#       AutoModelForCausalLM: -> output is the model output embeddings + a head layer to convert the model output embeddings to a meaningful reply."
   ]
  },
  {
   "cell_type": "code",
   "execution_count": 170,
   "id": "6062ad98",
   "metadata": {},
   "outputs": [],
   "source": [
    "# Because Arnab did not save the tokenizer of the fine-tune model,\n",
    "# so we should use the tokenizer downloaded from Hugging face of the model Arnab used in his training.\n",
    "# NOTE: actually, we could combine the model with tokenizer of other model such as:\n",
    "# token_ckpt = \"sentence-transformers/multi-qa-mpnet-base-dot-v1\".\n",
    "# However, not so sure there will be mismatching between the tokenizer id of other model with the used model?\n",
    "# and how it affects the output?\n",
    "# But using Arnab fine-tuned model gives much better relevancy test, \n",
    "# than using random model like \"sentence-transformers/multi-qa-mpnet-base-dot-v1\"\n",
    "token_ckpt = \"sadickam/sdg-classification-bert\"\n",
    "model_ckpt = \"../current_batch\"\n",
    "             # this is possible because Arnab saved the model using Huggingface trainer.save_model()\n",
    "tokenizer = AutoTokenizer.from_pretrained(token_ckpt)\n",
    "model = AutoModel.from_pretrained(model_ckpt)"
   ]
  },
  {
   "cell_type": "code",
   "execution_count": 175,
   "id": "8bf75c77",
   "metadata": {},
   "outputs": [
    {
     "name": "stdout",
     "output_type": "stream",
     "text": [
      "True\n",
      "cuda\n"
     ]
    }
   ],
   "source": [
    "import torch\n",
    "print(torch.cuda.is_available())\n",
    "device = torch.device(\"cuda\" if torch.cuda.is_available() else \"cpu\")\n",
    "print(device)"
   ]
  },
  {
   "cell_type": "code",
   "execution_count": 176,
   "id": "6ea278db",
   "metadata": {},
   "outputs": [
    {
     "data": {
      "text/plain": [
       "BertModel(\n",
       "  (embeddings): BertEmbeddings(\n",
       "    (word_embeddings): Embedding(30522, 768, padding_idx=0)\n",
       "    (position_embeddings): Embedding(512, 768)\n",
       "    (token_type_embeddings): Embedding(2, 768)\n",
       "    (LayerNorm): LayerNorm((768,), eps=1e-12, elementwise_affine=True)\n",
       "    (dropout): Dropout(p=0.1, inplace=False)\n",
       "  )\n",
       "  (encoder): BertEncoder(\n",
       "    (layer): ModuleList(\n",
       "      (0-11): 12 x BertLayer(\n",
       "        (attention): BertAttention(\n",
       "          (self): BertSdpaSelfAttention(\n",
       "            (query): Linear(in_features=768, out_features=768, bias=True)\n",
       "            (key): Linear(in_features=768, out_features=768, bias=True)\n",
       "            (value): Linear(in_features=768, out_features=768, bias=True)\n",
       "            (dropout): Dropout(p=0.1, inplace=False)\n",
       "          )\n",
       "          (output): BertSelfOutput(\n",
       "            (dense): Linear(in_features=768, out_features=768, bias=True)\n",
       "            (LayerNorm): LayerNorm((768,), eps=1e-12, elementwise_affine=True)\n",
       "            (dropout): Dropout(p=0.1, inplace=False)\n",
       "          )\n",
       "        )\n",
       "        (intermediate): BertIntermediate(\n",
       "          (dense): Linear(in_features=768, out_features=3072, bias=True)\n",
       "          (intermediate_act_fn): GELUActivation()\n",
       "        )\n",
       "        (output): BertOutput(\n",
       "          (dense): Linear(in_features=3072, out_features=768, bias=True)\n",
       "          (LayerNorm): LayerNorm((768,), eps=1e-12, elementwise_affine=True)\n",
       "          (dropout): Dropout(p=0.1, inplace=False)\n",
       "        )\n",
       "      )\n",
       "    )\n",
       "  )\n",
       "  (pooler): BertPooler(\n",
       "    (dense): Linear(in_features=768, out_features=768, bias=True)\n",
       "    (activation): Tanh()\n",
       "  )\n",
       ")"
      ]
     },
     "execution_count": 176,
     "metadata": {},
     "output_type": "execute_result"
    }
   ],
   "source": [
    "model.to(device)"
   ]
  },
  {
   "cell_type": "markdown",
   "id": "7264f03b",
   "metadata": {},
   "source": [
    "functions supporting embedding procedures"
   ]
  },
  {
   "cell_type": "code",
   "execution_count": 177,
   "id": "2f7f56f2",
   "metadata": {},
   "outputs": [],
   "source": [
    "def cls_pooling(model_output):\n",
    "    return model_output.last_hidden_state[:, 0]\n",
    "\n",
    "def get_embeddings(text_list, imp_model, imp_tokenizer):\n",
    "    encoded_input = imp_tokenizer(\n",
    "        text_list, padding=True, truncation=True, return_tensors=\"pt\"\n",
    "    )\n",
    "    encoded_input = {k: v.to(device) for k, v in encoded_input.items()}\n",
    "    model_output = imp_model(**encoded_input)\n",
    "    return cls_pooling(model_output)"
   ]
  },
  {
   "cell_type": "markdown",
   "id": "212073db",
   "metadata": {},
   "source": [
    "## Save to disk"
   ]
  },
  {
   "cell_type": "code",
   "execution_count": null,
   "id": "5ee0d7cc",
   "metadata": {},
   "outputs": [
    {
     "name": "stderr",
     "output_type": "stream",
     "text": [
      "Map: 100%|██████████| 12201/12201 [07:33<00:00, 26.90 examples/s]\n",
      "Saving the dataset (1/1 shards): 100%|██████████| 12201/12201 [00:00<00:00, 329708.42 examples/s]\n",
      "Map: 100%|██████████| 12791/12791 [08:12<00:00, 26.00 examples/s]\n",
      "Saving the dataset (1/1 shards): 100%|██████████| 12791/12791 [00:00<00:00, 397223.05 examples/s]\n",
      "Map: 100%|██████████| 12434/12434 [07:59<00:00, 25.91 examples/s]\n",
      "Saving the dataset (1/1 shards): 100%|██████████| 12434/12434 [00:00<00:00, 363413.21 examples/s]\n",
      "Map: 100%|██████████| 12359/12359 [07:35<00:00, 27.10 examples/s]\n",
      "Saving the dataset (1/1 shards): 100%|██████████| 12359/12359 [00:00<00:00, 112304.75 examples/s]\n",
      "Map: 100%|██████████| 9690/9690 [06:01<00:00, 26.82 examples/s]\n",
      "Saving the dataset (1/1 shards): 100%|██████████| 9690/9690 [00:00<00:00, 282905.75 examples/s]\n"
     ]
    }
   ],
   "source": [
    "# save the result directly to disk\n",
    "idx = 0\n",
    "for idx, elem in enumerate(all_samples):\n",
    "    embeddings_dataset = elem.map(lambda x: {\"embeddings\": get_embeddings(x[\"claims\"], model, tokenizer).detach().cpu().numpy()[0]}\n",
    "                )\n",
    "                                \n",
    "    saved_path = 'C:/Users/20245580/Documents/Others/EPO2025/epo_data/processed_to_json/epo_dataset' + str(idx)\n",
    "    # print(saved_path)\n",
    "    try:\n",
    "        embeddings_dataset.save_to_disk(saved_path)\n",
    "    except ValueError:\n",
    "        embeddings_dataset.drop_index('embeddings')\n",
    "        embeddings_dataset.save_to_disk(saved_path)\n",
    "# embedding_all_samples[0].save_to_disk('./data_embeddings/epo_dataset0')"
   ]
  },
  {
   "cell_type": "markdown",
   "id": "3742db4a",
   "metadata": {},
   "source": [
    "# Processing the `main_complementary..` table"
   ]
  },
  {
   "cell_type": "markdown",
   "id": "97cd1434",
   "metadata": {},
   "source": [
    "## Process the `claims`"
   ]
  },
  {
   "cell_type": "code",
   "execution_count": 178,
   "id": "678efbc5",
   "metadata": {},
   "outputs": [
    {
     "name": "stderr",
     "output_type": "stream",
     "text": [
      "Map: 100%|██████████| 24901/24901 [00:02<00:00, 11386.85 examples/s]\n"
     ]
    }
   ],
   "source": [
    "dataset_main_complementary_claimtxt_sdg = dataset_main_complementary_claimtxt_sdg.map(\n",
    "    lambda x: {\"claims_length\": len(x[\"claims\"].split())}\n",
    ")"
   ]
  },
  {
   "cell_type": "code",
   "execution_count": 179,
   "id": "581dd6b9",
   "metadata": {},
   "outputs": [],
   "source": [
    "# 1. For demonstration purpose:\n",
    "#    extract only a small fraction of the database.\n",
    "# 2. For demonstrating the ability to add new data to later the embedding database for similar search:\n",
    "#    two samples are used. First sample = old data, New sample = new data\n",
    "all_samples = []\n",
    "all_samples.append(dataset_main_complementary_claimtxt_sdg.select(range(0, 5000))) # extract row from 0th to 19th\n",
    "all_samples.append(dataset_main_complementary_claimtxt_sdg.select(range(5000, 10000)))\n",
    "all_samples.append(dataset_main_complementary_claimtxt_sdg.select(range(10000, 15000)))\n",
    "all_samples.append(dataset_main_complementary_claimtxt_sdg.select(range(15000, 20000)))\n",
    "all_samples.append(dataset_main_complementary_claimtxt_sdg.select(range(20000, len(dataset_main_complementary_claimtxt_sdg)-1)))"
   ]
  },
  {
   "cell_type": "code",
   "execution_count": 182,
   "id": "0b7fa339",
   "metadata": {},
   "outputs": [
    {
     "name": "stderr",
     "output_type": "stream",
     "text": [
      "Map: 100%|██████████| 5000/5000 [00:00<00:00, 6683.11 examples/s] \n",
      "Map: 100%|██████████| 5000/5000 [00:00<00:00, 9746.43 examples/s] \n",
      "Map: 100%|██████████| 5000/5000 [00:00<00:00, 10408.82 examples/s]\n",
      "Map: 100%|██████████| 5000/5000 [00:00<00:00, 9551.25 examples/s] \n",
      "Map: 100%|██████████| 4900/4900 [00:00<00:00, 12171.41 examples/s]\n"
     ]
    }
   ],
   "source": [
    "all_samples_split = []\n",
    "for idx, elem in enumerate(all_samples):\n",
    "    all_samples_split.append(elem.map(spilt_into_smaller_chunks))"
   ]
  },
  {
   "cell_type": "code",
   "execution_count": 183,
   "id": "7545d98b",
   "metadata": {},
   "outputs": [],
   "source": [
    "df_all_samples_split = []\n",
    "for idx, elem in enumerate(all_samples_split):\n",
    "    elem.set_format(\"pandas\")\n",
    "    df_elem = elem[:] # convert to dataframe\n",
    "    df_all_samples_split.append(df_elem.explode(\"claims\", ignore_index=True)) # explode"
   ]
  },
  {
   "cell_type": "code",
   "execution_count": 184,
   "id": "2863f195",
   "metadata": {},
   "outputs": [
    {
     "name": "stdout",
     "output_type": "stream",
     "text": [
      "[Dataset({\n",
      "    features: ['publication_number', 'claims', 'sdg_number', 'claims_length'],\n",
      "    num_rows: 12201\n",
      "}), Dataset({\n",
      "    features: ['publication_number', 'claims', 'sdg_number', 'claims_length'],\n",
      "    num_rows: 12791\n",
      "}), Dataset({\n",
      "    features: ['publication_number', 'claims', 'sdg_number', 'claims_length'],\n",
      "    num_rows: 12434\n",
      "}), Dataset({\n",
      "    features: ['publication_number', 'claims', 'sdg_number', 'claims_length'],\n",
      "    num_rows: 12359\n",
      "}), Dataset({\n",
      "    features: ['publication_number', 'claims', 'sdg_number', 'claims_length'],\n",
      "    num_rows: 9690\n",
      "})]\n"
     ]
    }
   ],
   "source": [
    "for idx, elem in enumerate(df_all_samples_split):\n",
    "    all_samples[idx] =  Dataset.from_pandas(elem)\n",
    "print(all_samples)"
   ]
  },
  {
   "cell_type": "code",
   "execution_count": 188,
   "id": "8c1e9788",
   "metadata": {},
   "outputs": [
    {
     "data": {
      "text/plain": [
       "('7,12',\n",
       " 'at a concentration of from 0.1 to 1 .a process as claimed in any one of claims 3 to 7 characterized in that in step b the crystals of sodium sulfite and sodium sulfate are separated from the reaction medium by filtering a portion of the slurry to obtain a moist filter cake, the solid portion of which is substantially sodium sulfite and sodium sulfate crystals, and a filtrate which is returned to step a.a process as claimed in any one of claims 1 to 8 characterized in that the sodium sulfite and sodium sulfate crystals are reduced with a carboncontaining reducing agent to form sodium sulfide and a carbon dioxidecontaining gas.a process as claimed in claim 9 characterized in that carbon dioxide formed in the reduction of the crystals of sodium sulfite and sodium sulfate with a carboncontaining reducing agent is used as the source of carbon dioxide in step h.a process as claimed in any one of claims 1 to 10 characterized in that step e is carried out a temperature in the range of from 180c to 220c.a system for removing the sulfur dioxide contained in a flue gas containing oxygen, comprisinga a gas contacting device 1 for contacting said flue gas with an aqueous, alkaline, sodium carbonate containing reaction medium saturated with sodium sulfite to react the bulk of the sulfur dioxide and a portion of the oxygen with the carbonate moiety, to form a slurry of sodium sulfite and sodium sulfate dispersed in the reaction medium, and for supplying the sodium and alkalinity to the reaction medium by the addition of recycled solid sodium carbonate, said gas contacting device having an inlets for receiving said flue gas and for receiving said reaction medium, and an outlets for discharging gas and for discharging the reaction product containing sodium sulfite and sodium sulfateb first conveying means 4 arranged for conveying the reaction medium to first separating means 5,9 for separating sodium sulfite and sodium sulfate crystals from the reaction mediumc second conveying means 18 arranged for conveying the separated sodium sulfite and sodium sulfate crystals from the outlet of said first separating means 5,9 to the inlet of a reducing means 19 for reducing the sodium sulfite and sodium sulfate to sodium sulfided third conveying means for conveying the sodium sulfide from the outlet of said reducing means 19 to the inlet of a mixing means 24 for forming an intimate blend of said solid sodium sulfide with solid sodium bicarbonatee fourth conveying means 25 for conveying said blend from the outlet of said mixing means 24 to the inlet of a heating means 26 arranged for heating said blend in the substantial absence of air to a temperature at which sodium bicarbonate would be converted to sodium carbonate and carbon dioxide to form gaseous hydrogen sulfide and dry, solid, anhydrous sodium carbonatef fifth conveying means 27 for conveying gaseous hydrogen sulfide from the outlet of the heating means 26 to the inlet of a recovering means for recovering said gaseous hydrogen sulfideg sixth conveying means 29,31,33,54 for conveying')"
      ]
     },
     "execution_count": 188,
     "metadata": {},
     "output_type": "execute_result"
    }
   ],
   "source": [
    "all_samples[0][10]['sdg_number'], all_samples[0][10]['claims']"
   ]
  },
  {
   "cell_type": "code",
   "execution_count": null,
   "id": "dd864302",
   "metadata": {},
   "outputs": [],
   "source": [
    "# rename column\n",
    "for idx, dataset_sample in enumerate(all_samples):\n",
    "    all_samples[idx] = dataset_sample.rename_column(\"claims\", \"claims_txt\")"
   ]
  },
  {
   "cell_type": "code",
   "execution_count": 195,
   "id": "1064cc05",
   "metadata": {},
   "outputs": [
    {
     "data": {
      "text/plain": [
       "[Dataset({\n",
       "     features: ['publication_number', 'claims_txt', 'sdg_number', 'claims_length'],\n",
       "     num_rows: 12201\n",
       " }),\n",
       " Dataset({\n",
       "     features: ['publication_number', 'claims_txt', 'sdg_number', 'claims_length'],\n",
       "     num_rows: 12791\n",
       " }),\n",
       " Dataset({\n",
       "     features: ['publication_number', 'claims_txt', 'sdg_number', 'claims_length'],\n",
       "     num_rows: 12434\n",
       " }),\n",
       " Dataset({\n",
       "     features: ['publication_number', 'claims_txt', 'sdg_number', 'claims_length'],\n",
       "     num_rows: 12359\n",
       " }),\n",
       " Dataset({\n",
       "     features: ['publication_number', 'claims_txt', 'sdg_number', 'claims_length'],\n",
       "     num_rows: 9690\n",
       " })]"
      ]
     },
     "execution_count": 195,
     "metadata": {},
     "output_type": "execute_result"
    }
   ],
   "source": [
    "all_samples"
   ]
  },
  {
   "cell_type": "code",
   "execution_count": 196,
   "id": "42db89d8",
   "metadata": {},
   "outputs": [
    {
     "data": {
      "text/plain": [
       "('7,12',\n",
       " 'at a concentration of from 0.1 to 1 .a process as claimed in any one of claims 3 to 7 characterized in that in step b the crystals of sodium sulfite and sodium sulfate are separated from the reaction medium by filtering a portion of the slurry to obtain a moist filter cake, the solid portion of which is substantially sodium sulfite and sodium sulfate crystals, and a filtrate which is returned to step a.a process as claimed in any one of claims 1 to 8 characterized in that the sodium sulfite and sodium sulfate crystals are reduced with a carboncontaining reducing agent to form sodium sulfide and a carbon dioxidecontaining gas.a process as claimed in claim 9 characterized in that carbon dioxide formed in the reduction of the crystals of sodium sulfite and sodium sulfate with a carboncontaining reducing agent is used as the source of carbon dioxide in step h.a process as claimed in any one of claims 1 to 10 characterized in that step e is carried out a temperature in the range of from 180c to 220c.a system for removing the sulfur dioxide contained in a flue gas containing oxygen, comprisinga a gas contacting device 1 for contacting said flue gas with an aqueous, alkaline, sodium carbonate containing reaction medium saturated with sodium sulfite to react the bulk of the sulfur dioxide and a portion of the oxygen with the carbonate moiety, to form a slurry of sodium sulfite and sodium sulfate dispersed in the reaction medium, and for supplying the sodium and alkalinity to the reaction medium by the addition of recycled solid sodium carbonate, said gas contacting device having an inlets for receiving said flue gas and for receiving said reaction medium, and an outlets for discharging gas and for discharging the reaction product containing sodium sulfite and sodium sulfateb first conveying means 4 arranged for conveying the reaction medium to first separating means 5,9 for separating sodium sulfite and sodium sulfate crystals from the reaction mediumc second conveying means 18 arranged for conveying the separated sodium sulfite and sodium sulfate crystals from the outlet of said first separating means 5,9 to the inlet of a reducing means 19 for reducing the sodium sulfite and sodium sulfate to sodium sulfided third conveying means for conveying the sodium sulfide from the outlet of said reducing means 19 to the inlet of a mixing means 24 for forming an intimate blend of said solid sodium sulfide with solid sodium bicarbonatee fourth conveying means 25 for conveying said blend from the outlet of said mixing means 24 to the inlet of a heating means 26 arranged for heating said blend in the substantial absence of air to a temperature at which sodium bicarbonate would be converted to sodium carbonate and carbon dioxide to form gaseous hydrogen sulfide and dry, solid, anhydrous sodium carbonatef fifth conveying means 27 for conveying gaseous hydrogen sulfide from the outlet of the heating means 26 to the inlet of a recovering means for recovering said gaseous hydrogen sulfideg sixth conveying means 29,31,33,54 for conveying')"
      ]
     },
     "execution_count": 196,
     "metadata": {},
     "output_type": "execute_result"
    }
   ],
   "source": [
    "all_samples[0][10]['sdg_number'], all_samples[0][10]['claims_txt']"
   ]
  },
  {
   "cell_type": "markdown",
   "id": "4db37ba4",
   "metadata": {},
   "source": [
    "## Save to disk"
   ]
  },
  {
   "cell_type": "code",
   "execution_count": 197,
   "id": "19aefe51",
   "metadata": {},
   "outputs": [
    {
     "name": "stderr",
     "output_type": "stream",
     "text": [
      "Saving the dataset (1/1 shards): 100%|██████████| 12201/12201 [00:00<00:00, 460378.05 examples/s]\n",
      "Saving the dataset (1/1 shards): 100%|██████████| 12791/12791 [00:00<00:00, 1553792.36 examples/s]\n",
      "Saving the dataset (1/1 shards): 100%|██████████| 12434/12434 [00:00<00:00, 921592.11 examples/s]\n",
      "Saving the dataset (1/1 shards): 100%|██████████| 12359/12359 [00:00<00:00, 720083.95 examples/s]\n",
      "Saving the dataset (1/1 shards): 100%|██████████| 9690/9690 [00:00<00:00, 550625.99 examples/s]\n"
     ]
    }
   ],
   "source": [
    "## Save to disk\n",
    "# save the result directly to disk\n",
    "for idx, elem in enumerate(all_samples):\n",
    "                                \n",
    "    saved_path = 'C:/Users/20245580/Documents/Others/EPO2025/epo_data/processed_to_json/epo_dataset_claimtxt_sdg' + str(idx)\n",
    "    # print(saved_path)\n",
    "    try:\n",
    "        elem.save_to_disk(saved_path)\n",
    "    except:\n",
    "        print(f\"fail while saving {elem}\")"
   ]
  },
  {
   "cell_type": "markdown",
   "id": "baa4fe73",
   "metadata": {},
   "source": [
    "# SQLite"
   ]
  },
  {
   "cell_type": "markdown",
   "id": "a555aa49",
   "metadata": {},
   "source": [
    "# Trial 1\n",
    "\n",
    "1. Using user-defined functions in SQLite for searching special strings: `create_function`\n",
    "\n",
    "2. Implement the user-defined functions into query of virtual table created from `sqlite-vec`"
   ]
  },
  {
   "cell_type": "code",
   "execution_count": 25,
   "id": "842d56c0",
   "metadata": {},
   "outputs": [],
   "source": [
    "# ! pip install sqlite-vec"
   ]
  },
  {
   "cell_type": "code",
   "execution_count": 3,
   "id": "16a940ef",
   "metadata": {},
   "outputs": [],
   "source": [
    "import sqlite3\n",
    "import sqlite_vec\n",
    "from sqlite_vec import serialize_float32\n",
    "from sqlite3 import Connection"
   ]
  },
  {
   "cell_type": "markdown",
   "id": "693c83ca",
   "metadata": {},
   "source": [
    "### Funcs"
   ]
  },
  {
   "cell_type": "code",
   "execution_count": 4,
   "id": "ee090eb8",
   "metadata": {},
   "outputs": [],
   "source": [
    "def create_embed_table(conn: Connection, embedding_length: str):\n",
    "\n",
    "    try:\n",
    "        # load the extention\n",
    "        conn.enable_load_extension(True) # start loading extensions\n",
    "        sqlite_vec.load(conn)\n",
    "        conn.enable_load_extension(True) # end loading extensions\n",
    "\n",
    "        sql_statement = f\"\"\"\n",
    "        CREATE VIRTUAL TABLE vec_items USING vec0(\n",
    "            ipc TEXT partition key, \n",
    "            embedding float[{embedding_length}]);\n",
    "        \"\"\"\n",
    "        cursor = conn.cursor()\n",
    "        cursor.execute(sql_statement)\n",
    "        conn.commit()\n",
    "    except:\n",
    "        print(\"Failed to create embedding tables\")\n"
   ]
  },
  {
   "cell_type": "code",
   "execution_count": 5,
   "id": "902afbb0",
   "metadata": {},
   "outputs": [],
   "source": [
    "def add_embeddings(conn: Connection, table_data):\n",
    "    # insert table statement\n",
    "    sql = \"INSERT INTO vec_items(rowid, embedding, ipc) VALUES (?, ?, ?)\"\n",
    "    try:\n",
    "        conn.enable_load_extension(True) # start loading extensions\n",
    "        sqlite_vec.load(conn)\n",
    "        conn.enable_load_extension(True) # end loading extensions\n",
    "        # Create  a cursor\n",
    "        cur = conn.cursor()\n",
    "\n",
    "        # execute the INSERT statement\n",
    "        cur.execute(sql, table_data)\n",
    "\n",
    "        # commit the changes\n",
    "        conn.commit()\n",
    "    except sqlite3.OperationalError as e:\n",
    "        print(\"Failed to add datat to embedding table.\", e)\n",
    "\n",
    "    # get the id of the last inserted row\n",
    "    return cur.lastrowid"
   ]
  },
  {
   "cell_type": "code",
   "execution_count": 6,
   "id": "e5b1fe74",
   "metadata": {},
   "outputs": [],
   "source": [
    "def delete_embed_table(conn: Connection):\n",
    "    try:\n",
    "            conn.enable_load_extension(True) # start loading extensions\n",
    "            sqlite_vec.load(conn)\n",
    "            conn.enable_load_extension(True) # end loading extensions\n",
    "\n",
    "            sql = 'DROP TABLE IF EXISTS vec_items;'\n",
    "            cursor = conn.cursor()\n",
    "            cursor.execute(sql)\n",
    "            conn.commit()\n",
    "    except sqlite3.OperationalError as e:\n",
    "        print(\"Failed to delete to embedding table.\", e)"
   ]
  },
  {
   "cell_type": "markdown",
   "id": "61fb7fb2",
   "metadata": {},
   "source": [
    "### Actions"
   ]
  },
  {
   "cell_type": "code",
   "execution_count": 7,
   "id": "8a9ae09c",
   "metadata": {},
   "outputs": [],
   "source": [
    "db_name = \"../../epo_data/embed_trial.db\""
   ]
  },
  {
   "cell_type": "code",
   "execution_count": 60,
   "id": "c31bedc4",
   "metadata": {},
   "outputs": [
    {
     "name": "stdout",
     "output_type": "stream",
     "text": [
      "Embeddings table created successfully.\n"
     ]
    }
   ],
   "source": [
    "#====\n",
    "# Create embeddings table\n",
    "#====\n",
    "create_embed_table_state =True\n",
    "\n",
    "if create_embed_table_state == True:\n",
    "    try:\n",
    "        with sqlite3.connect(db_name) as conn:\n",
    "            create_embed_table(conn, '4')\n",
    "            print(\"Embeddings table created successfully.\")\n",
    "    except sqlite3.OperationalError as e:\n",
    "        print(\"Failed to connect to database\", e)"
   ]
  },
  {
   "cell_type": "code",
   "execution_count": 61,
   "id": "b641fe80",
   "metadata": {},
   "outputs": [],
   "source": [
    "items = [\n",
    "    ([0.1, 0.1, 0.1, 0.1], \"2,3,4\"),\n",
    "    ([0.2, 0.2, 0.2, 0.2], \"6,2,7\"),\n",
    "    ([0.3, 0.3, 0.3, 0.3], \"2\"),\n",
    "    ([0.4, 0.4, 0.4, 0.4], \"1,2\"),\n",
    "    ([0.5, 0.5, 0.5, 0.5], \"12,11\"),\n",
    "    ([0.5, 0.5, 0.5, 0.5], \"12,8\"),\n",
    "    ([0.2, 0.2, 0.2, 0.2], \"6,2,0\"),\n",
    "]\n",
    "\n",
    "query = [0.3, 0.3, 0.3, 0.3]\n"
   ]
  },
  {
   "cell_type": "code",
   "execution_count": 62,
   "id": "80b78a36",
   "metadata": {},
   "outputs": [
    {
     "name": "stdout",
     "output_type": "stream",
     "text": [
      "0\n",
      "[0.1, 0.1, 0.1, 0.1] 2,3,4\n",
      "1\n",
      "[0.2, 0.2, 0.2, 0.2] 6,2,7\n",
      "2\n",
      "[0.3, 0.3, 0.3, 0.3] 2\n",
      "3\n",
      "[0.4, 0.4, 0.4, 0.4] 1,2\n",
      "4\n",
      "[0.5, 0.5, 0.5, 0.5] 12,11\n",
      "5\n",
      "[0.5, 0.5, 0.5, 0.5] 12,8\n",
      "6\n",
      "[0.2, 0.2, 0.2, 0.2] 6,2,0\n"
     ]
    }
   ],
   "source": [
    "for idx, item in enumerate(items):\n",
    "    print(idx)\n",
    "    print(item[0], item[1])"
   ]
  },
  {
   "cell_type": "code",
   "execution_count": 63,
   "id": "261aa8ab",
   "metadata": {},
   "outputs": [
    {
     "name": "stdout",
     "output_type": "stream",
     "text": [
      "Successfully add data to embed table\n"
     ]
    }
   ],
   "source": [
    "#====\n",
    "# Add to embeddings data \n",
    "#====\n",
    "add_embed_state = True\n",
    "if add_embed_state == True:\n",
    "    try:\n",
    "        with sqlite3.connect(db_name) as conn:\n",
    "            for idx, item in enumerate(items):\n",
    "                add_embeddings(conn,[idx, serialize_float32(item[0]), item[1]])\n",
    "            print(\"Successfully add data to embed table\")\n",
    "    except sqlite3.OperationalError as e:\n",
    "        print(\"Failed to connect to db\")"
   ]
  },
  {
   "cell_type": "code",
   "execution_count": 17,
   "id": "09bb5050",
   "metadata": {},
   "outputs": [
    {
     "name": "stdout",
     "output_type": "stream",
     "text": [
      "['2', '3', '4'] 5\n"
     ]
    }
   ],
   "source": [
    "s = \"2,3,4\"\n",
    "s = s.split(',')\n",
    "print(s,\n",
    "      len(items)) "
   ]
  },
  {
   "cell_type": "code",
   "execution_count": 64,
   "id": "8689c0d6",
   "metadata": {},
   "outputs": [],
   "source": [
    "import re\n",
    "\n",
    "# reference:\n",
    "# 1. https://stackoverflow.com/questions/5071601/how-do-i-use-regex-in-a-sqlite-query\n",
    "#       => the value needs to return if the function is used with `WHERE` SQLite, it must return 1 (found), 0 (not found)\n",
    "# 2. https://www.geeksforgeeks.org/python-create-or-redefine-sqlite-functions/\n",
    "#       => using `create_function()` is very flexible\n",
    "# 3. https://docs.python.org/3/library/sqlite3.html -> `create_function`\n",
    "def find_word(x, y): \n",
    "        y = y.split(',')\n",
    "        print(y)\n",
    "        for idx, elem in enumerate(y):\n",
    "                # print(elem, x)\n",
    "                # print(type(x), type(elem))\n",
    "                if x == elem:\n",
    "                        # print(\"find\")\n",
    "                        return 1\n",
    "        # print(\"not find\")\n",
    "        return 0\n",
    "\n",
    "conn.create_function('find_smth', 2, find_word)\n",
    "\n",
    "meta_query = f\"\"\"\n",
    "                SELECT\n",
    "                        rowid,\n",
    "                        distance\n",
    "                FROM vec_items\n",
    "                WHERE  embedding MATCH ?\n",
    "                        and k = 4\n",
    "                        and find_smth('2', ipc)\n",
    "                ORDER BY distance\n",
    "            \"\"\"\n",
    "\n",
    "meta_query_all = f\"\"\"\n",
    "                SELECT\n",
    "                        rowid,\n",
    "                        distance\n",
    "                FROM vec_items\n",
    "                WHERE  embedding MATCH ?\n",
    "                LIMIT {len(items)}\n",
    "            \"\"\"\n",
    "\n",
    "cursor = conn.cursor()\n",
    "res = cursor.execute(meta_query_all, [serialize_float32(query)]).fetchall()"
   ]
  },
  {
   "cell_type": "code",
   "execution_count": 65,
   "id": "10392eb1",
   "metadata": {},
   "outputs": [
    {
     "name": "stdout",
     "output_type": "stream",
     "text": [
      "[(2, 0.0), (3, 0.19999998807907104), (1, 0.20000001788139343), (6, 0.20000001788139343), (4, 0.3999999761581421), (5, 0.3999999761581421), (0, 0.40000003576278687)]\n"
     ]
    }
   ],
   "source": [
    "print(res)"
   ]
  },
  {
   "cell_type": "code",
   "execution_count": 66,
   "id": "94c576cc",
   "metadata": {},
   "outputs": [],
   "source": [
    "import numpy as np"
   ]
  },
  {
   "cell_type": "code",
   "execution_count": 67,
   "id": "0183dfe5",
   "metadata": {},
   "outputs": [
    {
     "name": "stdout",
     "output_type": "stream",
     "text": [
      "[[2.         0.        ]\n",
      " [3.         0.19999999]\n",
      " [1.         0.20000002]\n",
      " [6.         0.20000002]\n",
      " [4.         0.39999998]\n",
      " [5.         0.39999998]\n",
      " [0.         0.40000004]] <class 'numpy.ndarray'> (7, 2)\n"
     ]
    }
   ],
   "source": [
    "np_res = np.array(res)\n",
    "print(np_res, type(np_res), np_res.shape)"
   ]
  },
  {
   "cell_type": "code",
   "execution_count": 83,
   "id": "e6147876",
   "metadata": {},
   "outputs": [
    {
     "name": "stdout",
     "output_type": "stream",
     "text": [
      "3\n"
     ]
    }
   ],
   "source": [
    "index_f= (np.where(np_res[:,0] == float(6))[0][0])\n",
    "print(index_f)"
   ]
  },
  {
   "cell_type": "code",
   "execution_count": 84,
   "id": "be8e8ea0",
   "metadata": {},
   "outputs": [
    {
     "data": {
      "text/plain": [
       "array([6.        , 0.20000002])"
      ]
     },
     "execution_count": 84,
     "metadata": {},
     "output_type": "execute_result"
    }
   ],
   "source": [
    "np_res[index_f, :]"
   ]
  },
  {
   "cell_type": "code",
   "execution_count": 57,
   "id": "63419eab",
   "metadata": {},
   "outputs": [
    {
     "name": "stdout",
     "output_type": "stream",
     "text": [
      "[[2.         0.        ]\n",
      " [3.         0.19999999]\n",
      " [1.         0.20000002]\n",
      " [4.         0.39999998]\n",
      " [0.         0.40000004]]\n"
     ]
    }
   ],
   "source": [
    "print(np_res)"
   ]
  },
  {
   "cell_type": "code",
   "execution_count": 86,
   "id": "765b29bb",
   "metadata": {},
   "outputs": [
    {
     "name": "stdout",
     "output_type": "stream",
     "text": [
      "[2. 3. 1. 6. 4. 5. 0.]\n"
     ]
    }
   ],
   "source": [
    "np_res_idx = np_res[:,0].flatten()\n",
    "print(np_res_idx)"
   ]
  },
  {
   "cell_type": "code",
   "execution_count": 91,
   "id": "d92fb5d1",
   "metadata": {},
   "outputs": [
    {
     "name": "stdout",
     "output_type": "stream",
     "text": [
      "[0 3 5]\n",
      "[10 40 60]\n"
     ]
    }
   ],
   "source": [
    "import numpy as np\n",
    "\n",
    "# Main array\n",
    "a = np.array([10, 20, 30, 40, 50, 60])\n",
    "\n",
    "# Values to find\n",
    "values = np.array([40, 10, 60])\n",
    "\n",
    "# Find indices where elements in 'a' are in 'values'\n",
    "indices = np.where(np.isin(a, values))[0]\n",
    "\n",
    "print(indices)  # Output: [1 3 5]\n",
    "\n",
    "print(a[indices])"
   ]
  },
  {
   "cell_type": "code",
   "execution_count": 58,
   "id": "4fdf06b2",
   "metadata": {},
   "outputs": [
    {
     "name": "stdout",
     "output_type": "stream",
     "text": [
      "Successfully del embed table\n"
     ]
    }
   ],
   "source": [
    "#====\n",
    "# Delete embeddings table\n",
    "#====\n",
    "del_embed_table_state = True\n",
    "if del_embed_table_state == True:\n",
    "    try:\n",
    "        with sqlite3.connect(db_name) as conn:\n",
    "            delete_embed_table(conn)\n",
    "            print(\"Successfully del embed table\")\n",
    "    except sqlite3.OperationalError as e:\n",
    "        print(\"Failed to connect to db\")"
   ]
  },
  {
   "cell_type": "code",
   "execution_count": 59,
   "id": "694ce0cb",
   "metadata": {},
   "outputs": [],
   "source": [
    "conn.close()"
   ]
  },
  {
   "cell_type": "code",
   "execution_count": null,
   "id": "3fab970d",
   "metadata": {},
   "outputs": [],
   "source": []
  }
 ],
 "metadata": {
  "kernelspec": {
   "display_name": "workspace_1",
   "language": "python",
   "name": "python3"
  },
  "language_info": {
   "codemirror_mode": {
    "name": "ipython",
    "version": 3
   },
   "file_extension": ".py",
   "mimetype": "text/x-python",
   "name": "python",
   "nbconvert_exporter": "python",
   "pygments_lexer": "ipython3",
   "version": "3.12.9"
  }
 },
 "nbformat": 4,
 "nbformat_minor": 5
}
