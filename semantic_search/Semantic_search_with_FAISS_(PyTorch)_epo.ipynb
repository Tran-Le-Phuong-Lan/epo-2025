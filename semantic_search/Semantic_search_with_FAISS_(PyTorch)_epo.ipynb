{
  "cells": [
    {
      "cell_type": "markdown",
      "metadata": {
        "id": "HfPCA-ShVh3w"
      },
      "source": [
        "# Semantic search with FAISS (PyTorch)"
      ]
    },
    {
      "cell_type": "markdown",
      "metadata": {},
      "source": [
        "# Libs"
      ]
    },
    {
      "cell_type": "code",
      "execution_count": 6,
      "metadata": {},
      "outputs": [
        {
          "name": "stdout",
          "output_type": "stream",
          "text": [
            "Collecting faiss-cpu\n",
            "  Downloading faiss_cpu-1.10.0-cp312-cp312-manylinux_2_28_x86_64.whl.metadata (4.4 kB)\n",
            "Requirement already satisfied: numpy<3.0,>=1.25.0 in /home/lephuonglantran/.conda/envs/gpuenv_2/lib/python3.12/site-packages (from faiss-cpu) (1.26.4)\n",
            "Requirement already satisfied: packaging in /home/lephuonglantran/.conda/envs/gpuenv_2/lib/python3.12/site-packages (from faiss-cpu) (24.2)\n",
            "Downloading faiss_cpu-1.10.0-cp312-cp312-manylinux_2_28_x86_64.whl (30.7 MB)\n",
            "\u001b[2K   \u001b[90m━━━━━━━━━━━━━━━━━━━━━━━━━━━━━━━━━━━━━━━━\u001b[0m \u001b[32m30.7/30.7 MB\u001b[0m \u001b[31m88.4 MB/s\u001b[0m eta \u001b[36m0:00:00\u001b[0ma \u001b[36m0:00:01\u001b[0m\n",
            "\u001b[?25hInstalling collected packages: faiss-cpu\n",
            "Successfully installed faiss-cpu-1.10.0\n"
          ]
        }
      ],
      "source": [
        "# ! pip install datasets evaluate transformers[sentencepiece]\n",
        "\n",
        "# reference:\n",
        "# [1] https://stackoverflow.com/questions/58957169/faiss-error-could-not-find-a-version-that-satisfies-the-requirement-faiss-from/58957380\n",
        "# [1] Self-summary: \n",
        "#   1.1 Python version too high (for example: 3.13 has problem with installing faiss)\n",
        "#   1.2 must state the cuda version explicitly while installing faiss -> (after install torch) check 'nvidia-...' version in  `conda list > requirement.txt` \n",
        "# ! pip install faiss-gpu-cu12 #\n",
        "# ! pip install faiss-cpu "
      ]
    },
    {
      "cell_type": "code",
      "execution_count": 1,
      "metadata": {},
      "outputs": [],
      "source": [
        "import pandas as pd"
      ]
    },
    {
      "cell_type": "markdown",
      "metadata": {},
      "source": [
        "# Data processing"
      ]
    },
    {
      "cell_type": "code",
      "execution_count": 7,
      "metadata": {},
      "outputs": [
        {
          "name": "stdout",
          "output_type": "stream",
          "text": [
            "row counts in df: 1848\n"
          ]
        }
      ],
      "source": [
        "df= pd.read_csv(\"/home/lephuonglantran/EPO2024/df_combine.csv\")\n",
        "print(f\"row counts in df: {len(df)}\")"
      ]
    },
    {
      "cell_type": "code",
      "execution_count": 3,
      "metadata": {},
      "outputs": [],
      "source": [
        "# df[\"claims\"][0], df[\"title\"][0]"
      ]
    },
    {
      "cell_type": "code",
      "execution_count": 8,
      "metadata": {},
      "outputs": [],
      "source": [
        "# convert panda data frame to dataset\n",
        "from datasets import Dataset"
      ]
    },
    {
      "cell_type": "code",
      "execution_count": 5,
      "metadata": {},
      "outputs": [
        {
          "data": {
            "text/plain": [
              "Dataset({\n",
              "    features: ['title', 'description', 'claims', 'ipc'],\n",
              "    num_rows: 1848\n",
              "})"
            ]
          },
          "execution_count": 5,
          "metadata": {},
          "output_type": "execute_result"
        }
      ],
      "source": [
        "dataset = Dataset.from_pandas(df)\n",
        "dataset"
      ]
    },
    {
      "cell_type": "code",
      "execution_count": 9,
      "metadata": {
        "id": "KQPnvx7pVh30",
        "outputId": "277f3ac1-4c34-46ca-ae94-c0032c045dcf"
      },
      "outputs": [
        {
          "data": {
            "text/plain": [
              "Dataset({\n",
              "    features: ['title', 'claims', 'ipc'],\n",
              "    num_rows: 1848\n",
              "})"
            ]
          },
          "execution_count": 9,
          "metadata": {},
          "output_type": "execute_result"
        }
      ],
      "source": [
        "# remove column description\n",
        "columns = dataset.column_names\n",
        "columns_to_keep = [\"title\", \"claims\", \"ipc\"]\n",
        "columns_to_remove = set(columns_to_keep).symmetric_difference(columns)\n",
        "dataset = dataset.remove_columns(columns_to_remove)\n",
        "dataset\n"
      ]
    },
    {
      "cell_type": "markdown",
      "metadata": {},
      "source": [
        "> Now that we **have one comment per row**, let’s **create a new claims_length column** that **contains the number of words per claims**:  "
      ]
    },
    {
      "cell_type": "code",
      "execution_count": 12,
      "metadata": {
        "id": "u1V7Gs2lVh31"
      },
      "outputs": [
        {
          "name": "stderr",
          "output_type": "stream",
          "text": [
            "Map: 100%|██████████| 1848/1848 [00:00<00:00, 8293.42 examples/s]\n"
          ]
        }
      ],
      "source": [
        "description_dataset = dataset.map(\n",
        "    lambda x: {\"claims_length\": len(x[\"claims\"].split())}\n",
        ")"
      ]
    },
    {
      "cell_type": "markdown",
      "metadata": {},
      "source": [
        "> We can **use this new column to filter out short comments**, which typically **include things like “cc @lewtun” or “Thanks!” that are not relevant** for our search engine. There’s **no precise number to select for the filter**, **but around 15 words** seems like a good start:  "
      ]
    },
    {
      "cell_type": "code",
      "execution_count": 13,
      "metadata": {
        "id": "vrAOWkChVh31",
        "outputId": "d45e7de1-f384-4a1c-c997-0534f917b12e"
      },
      "outputs": [
        {
          "name": "stderr",
          "output_type": "stream",
          "text": [
            "Filter: 100%|██████████| 1848/1848 [00:00<00:00, 84820.58 examples/s]\n"
          ]
        },
        {
          "data": {
            "text/plain": [
              "Dataset({\n",
              "    features: ['title', 'claims', 'ipc', 'claims_length'],\n",
              "    num_rows: 1847\n",
              "})"
            ]
          },
          "execution_count": 13,
          "metadata": {},
          "output_type": "execute_result"
        }
      ],
      "source": [
        "description_dataset = description_dataset.filter(lambda x: x[\"claims_length\"] > 15)\n",
        "description_dataset"
      ]
    },
    {
      "cell_type": "code",
      "execution_count": 24,
      "metadata": {},
      "outputs": [],
      "source": [
        "# description_dataset[0]['claims_length']"
      ]
    },
    {
      "cell_type": "code",
      "execution_count": 26,
      "metadata": {},
      "outputs": [
        {
          "name": "stdout",
          "output_type": "stream",
          "text": [
            "min length in dataset: 27 words\n",
            "max length in dataset: 9265\n"
          ]
        }
      ],
      "source": [
        "max = 0\n",
        "for i in range(len(description_dataset)):\n",
        "    length_description_dataset = description_dataset[i]['claims_length']\n",
        "    if i== 0:\n",
        "        min = length_description_dataset\n",
        "        max = length_description_dataset\n",
        "    else:\n",
        "        if length_description_dataset <= min:\n",
        "            min = length_description_dataset\n",
        "        \n",
        "        if length_description_dataset >= max:\n",
        "            max = length_description_dataset\n",
        "print(f\"min length in dataset: {min} words\\nmax length in dataset: {max}\")"
      ]
    },
    {
      "cell_type": "markdown",
      "metadata": {},
      "source": [
        "Split the long description into small chunks"
      ]
    },
    {
      "cell_type": "code",
      "execution_count": 27,
      "metadata": {},
      "outputs": [],
      "source": [
        "# def spilt_into_smaller_descriptions(examples):\n",
        "#     res = []\n",
        "#     index = 0\n",
        "#     num_words_per_chunk = 4500\n",
        "#     total_chunks = examples[\"claims\"].split()\n",
        "#     total_len = examples[\"claims_length\"]\n",
        "#     while index < total_len:\n",
        "#         chunk = ' '.join(total_chunks[index: index+num_words_per_chunk]) \n",
        "#                         # the elem with index = index + num_words_per_chunk \n",
        "#                         # is excluded\n",
        "#         res.append(chunk)\n",
        "#         index = index + num_words_per_chunk\n",
        "#     last_chunk = ' '.join(total_chunks[index - num_words_per_chunk: total_len])\n",
        "#     res.append(last_chunk)\n",
        "#     return {\n",
        "#         \"claims\": res\n",
        "#     }"
      ]
    },
    {
      "cell_type": "code",
      "execution_count": 65,
      "metadata": {},
      "outputs": [],
      "source": [
        "# 1. For demonstration purpose:\n",
        "#    extract only a small fraction of the database.\n",
        "# 2. For demonstrating the ability to add new data to later the embedding database for similar search:\n",
        "#    two samples are used. First sample = old data, New sample = new data\n",
        "all_samples = []\n",
        "all_samples.append(description_dataset.select(range(20))) # extract row from 0th to 19th\n",
        "all_samples.append(description_dataset.select(range(20, 40)))"
      ]
    },
    {
      "cell_type": "code",
      "execution_count": 66,
      "metadata": {},
      "outputs": [],
      "source": [
        "# all_samples[1][0]['title'], all_samples[0][0]['title'] "
      ]
    },
    {
      "cell_type": "code",
      "execution_count": 67,
      "metadata": {},
      "outputs": [],
      "source": [
        "# all_samples_split = []\n",
        "# for idx, elem in enumerate(all_samples):\n",
        "#     all_samples_split.append(elem.map(spilt_into_smaller_descriptions))"
      ]
    },
    {
      "cell_type": "code",
      "execution_count": 68,
      "metadata": {},
      "outputs": [],
      "source": [
        "# all_samples_split[1][0]"
      ]
    },
    {
      "cell_type": "markdown",
      "metadata": {},
      "source": [
        "convert to dataframe to use `explode`"
      ]
    },
    {
      "cell_type": "code",
      "execution_count": 69,
      "metadata": {},
      "outputs": [],
      "source": [
        "# df_all_samples_split = []\n",
        "# for idx, elem in enumerate(all_samples_split):\n",
        "#     elem.set_format(\"pandas\")\n",
        "#     df_elem = elem[:] # convert to dataframe\n",
        "#     df_all_samples_split.append(df_elem.explode(\"claims\", ignore_index=True)) # explode\n"
      ]
    },
    {
      "cell_type": "code",
      "execution_count": 70,
      "metadata": {},
      "outputs": [],
      "source": [
        "# df_all_samples_split[0].head(4)"
      ]
    },
    {
      "cell_type": "markdown",
      "metadata": {},
      "source": [
        "Convert the dataframe back to dataset "
      ]
    },
    {
      "cell_type": "code",
      "execution_count": 71,
      "metadata": {},
      "outputs": [],
      "source": [
        "# for idx, elem in enumerate(df_all_samples_split):\n",
        "#     all_samples[idx] =  Dataset.from_pandas(elem)\n",
        "# print(all_samples)"
      ]
    },
    {
      "cell_type": "code",
      "execution_count": 72,
      "metadata": {},
      "outputs": [],
      "source": [
        "# all_samples[0][0]['title'],all_samples[1][0]['title'] "
      ]
    },
    {
      "cell_type": "markdown",
      "metadata": {},
      "source": [
        "# Creating text embeddings"
      ]
    },
    {
      "cell_type": "code",
      "execution_count": 73,
      "metadata": {
        "id": "yKcqAREOVh32"
      },
      "outputs": [
        {
          "name": "stderr",
          "output_type": "stream",
          "text": [
            "Xet Storage is enabled for this repo, but the 'hf_xet' package is not installed. Falling back to regular HTTP download. For better performance, install the package with: `pip install huggingface_hub[hf_xet]` or `pip install hf_xet`\n"
          ]
        }
      ],
      "source": [
        "from transformers import AutoTokenizer, AutoModel\n",
        "model_ckpt = \"sentence-transformers/multi-qa-mpnet-base-dot-v1\"\n",
        "tokenizer = AutoTokenizer.from_pretrained(model_ckpt)\n",
        "model = AutoModel.from_pretrained(model_ckpt)"
      ]
    },
    {
      "cell_type": "code",
      "execution_count": 74,
      "metadata": {
        "id": "nX3lDtF-Vh32"
      },
      "outputs": [
        {
          "data": {
            "text/plain": [
              "MPNetModel(\n",
              "  (embeddings): MPNetEmbeddings(\n",
              "    (word_embeddings): Embedding(30527, 768, padding_idx=1)\n",
              "    (position_embeddings): Embedding(514, 768, padding_idx=1)\n",
              "    (LayerNorm): LayerNorm((768,), eps=1e-05, elementwise_affine=True)\n",
              "    (dropout): Dropout(p=0.1, inplace=False)\n",
              "  )\n",
              "  (encoder): MPNetEncoder(\n",
              "    (layer): ModuleList(\n",
              "      (0-11): 12 x MPNetLayer(\n",
              "        (attention): MPNetAttention(\n",
              "          (attn): MPNetSelfAttention(\n",
              "            (q): Linear(in_features=768, out_features=768, bias=True)\n",
              "            (k): Linear(in_features=768, out_features=768, bias=True)\n",
              "            (v): Linear(in_features=768, out_features=768, bias=True)\n",
              "            (o): Linear(in_features=768, out_features=768, bias=True)\n",
              "            (dropout): Dropout(p=0.1, inplace=False)\n",
              "          )\n",
              "          (LayerNorm): LayerNorm((768,), eps=1e-05, elementwise_affine=True)\n",
              "          (dropout): Dropout(p=0.1, inplace=False)\n",
              "        )\n",
              "        (intermediate): MPNetIntermediate(\n",
              "          (dense): Linear(in_features=768, out_features=3072, bias=True)\n",
              "          (intermediate_act_fn): GELUActivation()\n",
              "        )\n",
              "        (output): MPNetOutput(\n",
              "          (dense): Linear(in_features=3072, out_features=768, bias=True)\n",
              "          (LayerNorm): LayerNorm((768,), eps=1e-05, elementwise_affine=True)\n",
              "          (dropout): Dropout(p=0.1, inplace=False)\n",
              "        )\n",
              "      )\n",
              "    )\n",
              "    (relative_attention_bias): Embedding(32, 12)\n",
              "  )\n",
              "  (pooler): MPNetPooler(\n",
              "    (dense): Linear(in_features=768, out_features=768, bias=True)\n",
              "    (activation): Tanh()\n",
              "  )\n",
              ")"
            ]
          },
          "execution_count": 74,
          "metadata": {},
          "output_type": "execute_result"
        }
      ],
      "source": [
        "import torch\n",
        "\n",
        "device = torch.device(\"cpu\")\n",
        "model.to(device)"
      ]
    },
    {
      "cell_type": "markdown",
      "metadata": {},
      "source": [
        " > As we mentioned earlier, we’d **like to represent each entry in our GitHub issues corpus as a single vector**, so we **need to “pool” or average our token embeddings** in some way. One popular approach is to **perform CLS pooling on our model’s outputs**, where we **simply collect the last hidden state for the special [CLS] token**. The following function does the trick for us:"
      ]
    },
    {
      "cell_type": "code",
      "execution_count": 75,
      "metadata": {
        "id": "5fDzb5SWVh32"
      },
      "outputs": [],
      "source": [
        "def cls_pooling(model_output):\n",
        "    return model_output.last_hidden_state[:, 0]"
      ]
    },
    {
      "cell_type": "markdown",
      "metadata": {},
      "source": [
        "> Next, we’ll create a helper function that will tokenize a list of documents, place the tensors on the GPU, feed them to the model, and finally apply CLS pooling to the outputs:"
      ]
    },
    {
      "cell_type": "code",
      "execution_count": 76,
      "metadata": {
        "id": "7vnrkBahVh32"
      },
      "outputs": [],
      "source": [
        "def get_embeddings(text_list):\n",
        "    # encoded_input = tokenizer(\n",
        "    #     text_list, padding=True, truncation=True, return_tensors=\"pt\"\n",
        "    # )\n",
        "    encoded_input = tokenizer(\n",
        "        text_list, padding=True, truncation=True, return_tensors=\"pt\"\n",
        "    )\n",
        "    encoded_input = {k: v.to(device) for k, v in encoded_input.items()}\n",
        "    model_output = model(**encoded_input)\n",
        "    return cls_pooling(model_output)"
      ]
    },
    {
      "cell_type": "code",
      "execution_count": 77,
      "metadata": {
        "id": "27el6788Vh32",
        "outputId": "7ba1f604-edf1-434f-9ab5-5919fc13c3a4"
      },
      "outputs": [
        {
          "data": {
            "text/plain": [
              "torch.Size([1, 768])"
            ]
          },
          "execution_count": 77,
          "metadata": {},
          "output_type": "execute_result"
        }
      ],
      "source": [
        "embedding = get_embeddings(all_samples[0][\"claims\"][0])\n",
        "embedding.shape"
      ]
    },
    {
      "cell_type": "code",
      "execution_count": 138,
      "metadata": {
        "id": "dO9LHydvVh32"
      },
      "outputs": [
        {
          "name": "stderr",
          "output_type": "stream",
          "text": [
            "Map: 100%|██████████| 826/826 [00:21<00:00, 39.11 examples/s]\n"
          ]
        }
      ],
      "source": [
        "embeddings_dataset = sm_description_dataset.map(\n",
        "    lambda x: {\"embeddings\": get_embeddings(x[\"description\"]).detach().cpu().numpy()[0]}\n",
        ")"
      ]
    },
    {
      "cell_type": "code",
      "execution_count": 87,
      "metadata": {
        "id": "7RbZJfVZVh32"
      },
      "outputs": [
        {
          "name": "stderr",
          "output_type": "stream",
          "text": [
            "100%|██████████| 1/1 [00:00<00:00, 325.11it/s]\n"
          ]
        },
        {
          "data": {
            "text/plain": [
              "Dataset({\n",
              "    features: ['title', 'description', 'ipc', 'description_length', 'embeddings'],\n",
              "    num_rows: 843\n",
              "})"
            ]
          },
          "execution_count": 87,
          "metadata": {},
          "output_type": "execute_result"
        }
      ],
      "source": [
        "embeddings_dataset.add_faiss_index(column=\"embeddings\")"
      ]
    },
    {
      "cell_type": "code",
      "execution_count": 88,
      "metadata": {
        "id": "0TYuteMRVh32",
        "outputId": "06a98363-a102-4efa-9f1d-7c0666471847"
      },
      "outputs": [
        {
          "data": {
            "text/plain": [
              "(1, 768)"
            ]
          },
          "execution_count": 88,
          "metadata": {},
          "output_type": "execute_result"
        }
      ],
      "source": [
        "# question = \"How can I load a dataset offline?\"\n",
        "question = \"How to test nucleic acids in a sample\"\n",
        "question_embedding = get_embeddings([question]).cpu().detach().numpy()\n",
        "question_embedding.shape"
      ]
    },
    {
      "cell_type": "code",
      "execution_count": 89,
      "metadata": {
        "id": "42Mxc3zUVh32"
      },
      "outputs": [],
      "source": [
        "scores, samples = embeddings_dataset.get_nearest_examples(\n",
        "    \"embeddings\", question_embedding, k=5\n",
        ")\n",
        "\n",
        "# Loaded version\n",
        "# scores, samples = load_dataset.get_nearest_examples(\n",
        "#     \"embeddings\", question_embedding, k=5\n",
        "# )"
      ]
    },
    {
      "cell_type": "code",
      "execution_count": 90,
      "metadata": {},
      "outputs": [],
      "source": [
        "# samples"
      ]
    },
    {
      "cell_type": "code",
      "execution_count": 91,
      "metadata": {
        "id": "CEY-C86lVh32"
      },
      "outputs": [],
      "source": [
        "import pandas as pd\n",
        "\n",
        "samples_df = pd.DataFrame.from_dict(samples)\n",
        "samples_df[\"scores\"] = scores\n",
        "samples_df.sort_values(\"scores\", ascending=False, inplace=True)"
      ]
    },
    {
      "cell_type": "code",
      "execution_count": 92,
      "metadata": {},
      "outputs": [],
      "source": [
        "# samples_df"
      ]
    },
    {
      "cell_type": "code",
      "execution_count": 93,
      "metadata": {
        "id": "YNm1oWXmVh32",
        "outputId": "249ba260-bbd1-4e3d-f99e-148f29e721aa"
      },
      "outputs": [
        {
          "name": "stdout",
          "output_type": "stream",
          "text": [
            "TITLE: POLYMER-BIOACTIVE AGENT CONJUGATES\n",
            "SCORE: 34.82658767700195\n",
            "DESCRIPTION: (s, 1H, H-2); 8.07-7.97 (m, 1H, H-5); 7.41-7.30 (m, 1H, H-8); 3.57-3.46 (m, CH of cyclopropane ring); 3.41-3.24 (m, 4H, 2xCH2 of piperazine); 2.74-2.58 (m, 2xCH2 of piperazine); 2.44-2.33 (m, 2H, CH2N); 1.65-1.45 (m, 2H, CH2); 1.45-1.28 (m, 2H, CH2 of cyclopropane ring); 1.28-1.12 (m, 2H, CH2 of cyclopropane ring); 0.94 (t, 3H, CH3) MS (CH2Cl2) 374 [M+ 1] 747 [2M+1]b) (2,2-dimethyl-1,3-dioxolan-4-yl)methyl 1-cyclopropyl-6-fluoro-4-oxo-7-(4-propylpiperazin-1-yl)-1,4-dihydroquinoline-3-carboxylate1-cyclopropyl-6-fluoro-4-oxo-7-(4-propylpiperazin-1-yl)-1,4-dihydroquinoline-3-carboxylic acid (8.86 g, 23.70 mmol) was dissolved in anhydrous dichloromethane (370 ml) under argon. 2,2-dimethyl-1,3-dioxolane-4-methanol (4.71 g, 35.60 mmol), triethylamine (9.59 g, 94.80 mmol) and HBTU (9.90 g, 26.10 mmol) were added and the reaction mixture was stirred at room temperature for three days (exclusion of light). The reaction mixture was washed with saturated NaHCO3 solution (500 ml), aqueous (pH 5) hydrochloric acid (500 ml) and water (500 ml) successively. The organic layer was dried over Na2SO4 and the solvent was removed under reduced pressure, yielding 10.28 g (89 %) of a yellow solid.1H-NMR (CDCl3, 400 MHz): δ[ppm] = 8.53 (s, 1H, H-2); 8.09-7.95 (m,1H, H-5); 7.32-7.17 (m, H-8); 4.51-4.41 (m, 1H, CH); 4.41-4.31 (m, 2H, 1H of CH2O+ 1H of CH2O); 4.19-4.09 (m, 1H, CH2O); 3.98-3.86 (m, 1H, CH2O); 3.50-3.36 (m, 1H of cyclopropane ring); 3.36-3.15 (m, 4H, 2xCH2 of piperazine); 2.76-2.61 (m, 4H, 2xCH2 of piperazine); 2.49-2.31 (m, 2H, CH2N); 1.72-1.48 (m, 2H, CH2CH2CH3); 1.44 (s, 3H, CH3), 1.36 (s, 3H, CH3); 1.33-1.25 (m, 2H, CH2 of cyclopropane); 1.16-1.03 (m, 2H, CH2 of cyclopropane); 0.93 (t, 3H, CH3)c) 2,3-dihydroxypropyl 1-cyclopropyl-6-fluoro-4-oxo-7-(4-propylpiperazin-1-yl)-1,4-dihydroquinoline-3-carboxylate(2,2-dimethyl-1,3-dioxolan-4-yl)methyl 1-cyclopropyl-6-fluoro-4-oxo-7-(4-propylpiperazin-1-yl)-1,4-dihydroquinoline-3-carboxylate (2.45 g, 5.03 mmol) was dissolved in anhydrous dichloromethane (245 ml) under argon. A 1 M solution of boron trichloride in dichloromethane (6.3 ml, 6.30 mmol) was added dropwise and the reaction mixture was stirred at room temperature for 1 h. Methanol (25 ml) was added to the reaction mixture and the volatiles were removed under reduced pressure. The crude product was purified through flash column chromatography (5% MeOH in CHCl3) giving a yellow oil (1.58 g, 3.53 mmol, 70 %). MS (MeOH): 448.3 [M+1]Levofloxacin (9-fluoro-3-methyl-10-(4-methylpiperazin-1-yl)-7-oxo-3,7-dihydro-2H-[1,4]oxazino[2,3,4-ij]quinoline-6-carboxylic acidExample 7: 2,3-dihydroxypropyl 9-fluoro-3-methyl-10-(-4-methylpiperazin-1-yl)-7-oxo-3,7-dihydro-2H-[1,4]oxazino[2,3,4-ij]quinoline-6-carboxylatea) (2,2-dimethyl-1,3-dioxolan-4-yl)methyl 9-fluoro-3-methyl-10-(4-methylpipirazin-1-yl)-7-oxo-3,7-dihydro-2H-[1,4]oxazino[2,3,4-ij]quinoline-6-carboxylate(9-fluoro-3-methyl-10-(4-methylpiperazin-1-yl)-7-oxo-3,7-dihydro-2H-[1,4]oxazino[2,3,4-ij]quinoline-6-carboxylic acid (10.00 g, 27.7 mmol), was dissolved in CH2Cl2 (500 ml) under argon. 2,2-dimethyl-1,3-dioxolane-4-methanol (5.49 g, 41.5 mmol) triethylamine (11.21 g,\n",
            "==================================================\n",
            "\n",
            "TITLE: POLYMER-BIOACTIVE AGENT CONJUGATES\n",
            "SCORE: 34.536468505859375\n",
            "DESCRIPTION: and cooled to 0°C (ice/water bath). Benzyloxycarbonyl chloride (0.40 ml, 0.48 g, 2.8 mmol) was added dropwise. The reaction mixture was stirred at 0°C for 1 h and then gradually warmed to room temperature and stirred for another 16 h. After that the reaction mixture was brought to pH 5 through dropwise addition of 2N HCl solution. The reaction mixture was extracted with CHCl3 (3 x 50 ml). The combined organic layers were dried over Na2SO4 and the solvent was removed under reduced pressure. The crude product was purified through crystallisation from acetonitrile to give a colourless solid (0.23 g, 0.49 mmol, 49 %)1H-NMR (CDCl3, 400 MHz): δ[ppm] = 8.78 (s, 1H, H-2); 8.10-8.00 (m, 1H, H-5); 7.44-7.28 (m, 6H, 1H of H-8+5H of ArH); 5.17 (s, 2H, ArCH2); 3.81-3.63 (m, 4H, 2xCH2 of piperazine); 3.56-3.46 (m, 1H of cyclopropane); 3.38-3.23 (m, 4H, 2xCH2 of piperazine); 1.44-1.33 (m, 2H, CH2 of cyclopropane); 1.24-1.13 (m, 2H, CH2 of cyclopropane)b) (2,2-dimethyl-1,3-dioxolan-4-yl)methyl 7-(4-(benzyloxycarbonyl)piperazin-1-yl)-1-cyclopropyl-6-fluoro-4-oxo-1,4-dihydroquinoline-3-carboxylate7-(4-(benzyloxycarbonyl)piperazin-1-yl)-1-cyclopropyl-6-fluoro-4-oxo-1,4-dihydroquinoline-3-carboxylic acid (0.47 g, 1.0 mmol) was dissolved in anhydrous CH2Cl2 (47 ml) under argon. 2,2-dimethyl-1,3-dioxolane-4-methanol (0.20 g, 1.5 mmol) triethylamine (0.40 g, 4.0 mmol) and O-benzotriazol-1-yl-N,N,N',N'-trimethyluronium hexafluorophosphate (0.42 g, 1.1 mmol) were added successively. The reaction mixture was stirred under argon for 72 h. The reaction mixture was washed with saturated NaHCO3 solution (1 x 50 ml), water (1 x 50 ml) and dried over Na2SO4. The organic solvent was removed under reduced pressuregiving a pale, pink solid (0.54 g, 0.93 mmol, 93 %).1H-NMR (CDCl3, 400 MHz): δ[ppm] = 8.56 (s, 1H, H-2); 8.10-7.97 (m, 1H, H-5); 7.42-7.13 (m, 6H, 5xArH+1H of H-8); 5.16 (s, 2H, ArCH2O); 4.52-4.40 (m, 1H, CH); 4.40-4.30 (m, 2H, 1H of CH2O+1H of CH2O); 4.08-3.96 (m, 1H, 1H of CH2O); 3.86-3.81 (m, 1H, 1H of CH2O); 3.62-3.51 (m, 4H, 2xCH2 of piperazine); 3.37-3.33 (m, 1H, CH of cyclopropane); 3.31-3.14 (m, 4H, 2xCH2 of piperazine); 1.44 (s, 3H, CH3); 1.36 (s, 3H, CH3); 1.34-1.26 (m, CH2 of cyclopropane); 1.26-1.03 (m, CH2 of cyclopropane) MS (MeCN) 580 [M+ 1] 602 [M+23]c) 2,3-dihydroxypropyl 7-(4-(benzyloxycarbonyl)piperazin-1-yl)-1-cyclopropyl-6-fluoro-4-oxo-1,4-dihydroquinoline-3-carboxylate(2,2-dimethyl-1,3-dioxolan-4-yl)methyl 7-(4-(benzyloxycarbonyl)piperazin-1-yl)-1-cyclopropyl-6-fluoro-4-oxo-1,4-dihydroquinoline-3-carboxylate (2.85 g, 4.9 mmol) was dissolved in 95 % aqueous ehanol (100 ml). After addition of amberlyst 15 (wet) ion exchange resion\n",
            "==================================================\n",
            "\n",
            "TITLE: POLYMER-BIOACTIVE AGENT CONJUGATES\n",
            "SCORE: 34.2430419921875\n",
            "DESCRIPTION: giving a yellow solid (0.35 g, 88 %)1H-NMR (CDCl3, 400 MHz): δ[ppm] = 8.67 (s, H-5); 7.56-7.40 (m, H-8); 4.71-4.56 (m, 1H, H-3 of benzoxazine ring); 4.56-4.33 (m, 3H, 2H of NHCHCH2O+1H of CH2OCO); 4.33-4.21 (m, 1H, CH2OCO); 4.02-3.91 (m, 1H, CHOH); 3.57-3.52 (m, 2H, CH2OH); 3.52-3.34 (m, 4H, 2xCH2 piperazine); 2.85-2.56 (m, 4H, 2xCH2 piperazine); 2.43 (s, 3H, NHCH3); 1.52 (d, 3H, CH3). MS (MeOH) 436 [M+ 1] 458 [M+23]Example 8: (S)-1,3-dihydroxypropan-2-yl 9-fluoro-3-methyl-10-(4-methylpiperazin-1-yl)-7-oxo-3,7-dihydro-2H-[1,4]oxazino[2,3,4-ij]quinoline-6-carboxylatea) (S)-2-phenyl-1,3-dioxan-5-yl 9-fluoro-3-methyl-10-(4-methylpiperazin-1-yl)-7-oxo-3,7-dihydro-2H-[1,4]oxazino[2,3,4-ij]quinoline-6-carboxylate(S)-9-fluoro-3-methyl-10-(4-methylpiperazin-1-yl)-7-oxo-3,7-dihydro-2H-[1,4] oxazino [2,3,4-ij] quinoline-6-carboxylic acid (4.18 g, 11.56 mmol) was dissolved in anhydrous dichloromethane (210 ml) under argon. 1,3-O-benzylideneglycerol (2.50 g, 13.67 mmol), triethylamine (4.68 g, 46.24 mmol) and HBTU (4.38 g, 11.56 mmol) were added successively. The reaction mixture was stirred at room temperature (exclusion of light) for 3 days. The reaction mixture was washed with saturated NaHCO3 solution (500 ml), aqueous (pH 5) hydrochloric acid (500 ml) and water (500 ml) successively. The organic layer was dried over Na2SO4 and the solvent was removed under reduced pressure. The crude product was purified through flash column chromatography (SiO2/10 % MeOH in CHCl3) yielding 4.32 g, 71 %) of a yellow, crystalline solid.1H-NMR (CDCl3, 400 MHz): δ[ppm] = 8.22 (s, 1H, H-5); 7.64-7.52 (m, 1H, H-8); 7.46-7.31 (m,4H, ArH); 7.10 (d, 1H, ArH); 5.65 (s, 1H, CHOCO); 4.91 (s, 1H, ArCH); 4.64-4.01 (m, 7H, 1H of CHN+2H of CH2O+4H of 2xCH2O); 3.38-3.22 (m, 2xCH2 of piperazine ring); 2.62-2.43 (m, 4H, 2xCH2 of piperazine ring); 2.36 (s, NCH3); 0.95 (d, 3H, CHCH3) MS (MeOH) 524 [M+1] 546 [M+23]b) (S)-1,3-dihydroxypropan-2-yl 9-fluoro-3-methyl-10-(4-methylpiperazin-1-yl)-7-oxo-3,7-dihydro-2H-[1,4]oxazino[2,3,4-ij]quinoline-6-carboxylate(S)-2-phenyl-1,3-dioxan-5-yl 9-fluoro-3-methyl-10-(4-methylpiperazin-1-yl)-7-oxo-3,7-dihydro-2H-[1,4]oxazino[2,3,4-ij]quinoline-6-carboxylate (0.50 g, 9.55 mmol), was dissolved in a mixture of dichloromethane/methanol (2:1.5, 87.5 ml) under argon. Palladium catalyst (10 wt % Pd/C) (180 mg) was added, the flask was evacuated and allowed to stir 1 atm of hydrogen gas at room temperature for 16 hours. The crude reaction mixture was passed through a glass microfiber on a sintered funnel. The volatiles were removed under reduced pressure yielding 370 mg (88%) of a yellow gum1H-NMR (CDCl3, 400 MHz): δ[ppm] = 8.72 (s, 1H), 7.57 (dd, 1H, J1 = 12.6 Hz, J2 = 1.8 Hz), 4.67-4.60 (m, 1H), 4.55-4.49 (m, 1H), 4.41-4.35 (m, 2H), 4.31-4.25 (m,\n",
            "==================================================\n",
            "\n",
            "TITLE: METHOD FOR MULTIPLEX NUCLEIC ACID ANALYSIS\n",
            "SCORE: 33.87230682373047\n",
            "DESCRIPTION: nucleic acids include those with positive backbones, non-ionic backbones, and non-ribose backbones. See, e.g., Denpcy et al., 1995, Proc. Natl. Acad. Sci. USA 92:6097; Jeffs et al., 1994, J. Biomolecular NMR 34:17; U.S. Pat. Nos. 5,386,023, 5,235,033 and 5,034,506. Modifications of the ribose-phosphate backbone may be done to facilitate the addition of labels, or to increase the stability and half-life of such molecules in physiological environments.In some embodiments, peptide nucleic acids (PNA) may be used for nucleic acids in the present invention. The PNA backbones are substantially non-ionic under neutral conditions, in contrast to the highly charged phosphodiester backbone of naturally occurring nucleic acids. This results in two advantages. First, the PNA backbone exhibits improved hybridization kinetics. PNAs have larger changes in the melting temperature (Tm) for mismatched versus perfectly matched basepairs. DNA and RNA typically exhibit a 2-4°C drop in Tm for an internal mismatch. With the non-ionic PNA backbone, the drop is closer to 7-9°C. This allows for better detection of mismatches. Similarly, due to their non-ionic nature, hybridization of the bases attached to these backbones is relatively insensitive to salt concentration.Nucleic acids may be single stranded or double stranded, as specified, or contain portions of both double stranded or single stranded sequence. Nucleic acids may be DNA, genomic DNA, cDNA, RNA or a hybrid. Nucleic acids may contain any combination of deoxyribo- and ribo-nucleotides, and any combination of bases, including uracil, adenine, thymine, cytosine, guanine, inosine, xanthanine, hypoxanthine, isocytosine, isoguanine, etc. In one embodiment, nucleic acids utilize isocytosine and isoguanine in nucleic acids designed to be complementary to other probes, rather than target sequences, as this reduces non-specific hybridization, as is generally described in U.S. Patent No. 5,681,702. As used herein, the term \"nucleoside\" includes nucleotides as well as nucleoside and nucleotide analogs, and modified nucleosides such as amino modified nucleosides. In addition, \"nucleoside\" includes non-naturally occurring analog structures. Thus, for example, the individual units of a peptide nucleic acid, each containing a base, are referred to herein as a nucleoside.In some embodiments, the methods according to the present invention are directed to the multiplexed detection of target nucleic acids. The term \"target nucleic acid\" or\n",
            "==================================================\n",
            "\n",
            "TITLE: METHOD FOR MULTIPLEX NUCLEIC ACID ANALYSIS\n",
            "SCORE: 33.4687385559082\n",
            "DESCRIPTION: example, the presence, absence or quantity of more than about 48, 96, 192, 384 or more target nucleic acids in the sample may be assayed in a multiplexed manner. The probes corresponding to all the target nucleic acids may be added to the sample and a single ligation reaction is performed to obtain ligation products for all the target nucleic acids.The sample to be assayed may be a sample of a bodily fluid, a biopsy tissue, or a paraffin-embedded tissue from an animal. The bodily fluid may be blood, plasma, serum, urine, sputum, spinal fluid, cerebrospinal fluid, pleural fluid, nipple aspirates, lymph fluid, fluid of the respiratory, intestinal, or genitourinary tracts, tear fluid, saliva, breast milk, fluid from the lymphatic system, semen, cerebrospinal fluid, intra-organ system fluid, ascitic fluid, tumor cyst fluid, amniotic fluid, or combinations thereof from an animal, e.g., a human.In some embodiments, nucleic acids are extracted from the sample before forming a mixture with the set of probes. The target nucleic acid may be DNA, RNA, or cDNA. The RNA may be reverse transcribed into cDNA before forming a mixture with the set of probes.In some embodiments, at least one primer of the set of primers is labeled with a detectable moiety, e.g., an oligonucleotide tag or a fluorescent dye. The fluorescent dye may be FAM (5-or 6-carboxyfluorescein), VIC, NED, PET, Fluorescein, FITC, IRD-700/800, CY3, CY5, CY3.5, CY5.5, HEX, TET, TAMRA, JOE, ROX, BODIPY TMR, Oregon Green, Rhodamine Green, Rhodamine Red, Texas Red, or Yakima Yellow. In other embodiments, at least one primer of the set of primers includes a stuffer sequence. The stuffer sequence in some primers may have about 10 to about 500 nucleotides. The stuffer sequence in other primers may be about 10 to about 60 nucleotides. In some preferred embodiments, no primer has more than about 125 nucleotides, preferably about 75 nucleotides. In still other embodiments, at least one primer of the set of primers includes an oligonucleotide comprising a sequence GTTTCTT or a functional equivalent variant of the oligonucleotide comprising a sequence GTTTCTT.In further embodiments, at least one probe of the set of probes includes a stuffer sequence. In some instances,\n",
            "==================================================\n",
            "\n"
          ]
        }
      ],
      "source": [
        "for _, row in samples_df.iterrows():\n",
        "    print(f\"TITLE: {row.title}\")\n",
        "    print(f\"SCORE: {row.scores}\")\n",
        "    print(f\"DESCRIPTION: {row.description}\")\n",
        "    print(\"=\" * 50)\n",
        "    print()"
      ]
    },
    {
      "cell_type": "markdown",
      "metadata": {},
      "source": [
        "# Save and reload FAISS database\n",
        "\n",
        "**references:**\n",
        "\n",
        "[1] https://huggingface.co/docs/datasets/v1.2.0/faiss_and_ea.html\n",
        "\n",
        "[2] https://discuss.huggingface.co/t/save-and-load-datasets/9260"
      ]
    },
    {
      "cell_type": "markdown",
      "metadata": {},
      "source": [
        "## Save\n",
        "\n",
        "IMPORTANT:\n",
        "\n",
        "[1] must save the dataset which contains the corresponding computed embeddings"
      ]
    },
    {
      "cell_type": "code",
      "execution_count": 139,
      "metadata": {},
      "outputs": [
        {
          "name": "stderr",
          "output_type": "stream",
          "text": [
            "Saving the dataset (1/1 shards): 100%|██████████| 826/826 [00:00<00:00, 54299.88 examples/s]\n"
          ]
        }
      ],
      "source": [
        "embeddings_dataset.save_to_disk('./data_embeddings/epo_dataset2')"
      ]
    },
    {
      "cell_type": "code",
      "execution_count": 96,
      "metadata": {},
      "outputs": [],
      "source": [
        "# ds_with_embeddings.save_faiss_index('embeddings', 'my_index.faiss')\n",
        "embeddings_dataset.save_faiss_index('embeddings', './data_embeddings/epo_index1.faiss')"
      ]
    },
    {
      "cell_type": "markdown",
      "metadata": {},
      "source": [
        "## Load"
      ]
    },
    {
      "cell_type": "code",
      "execution_count": 7,
      "metadata": {},
      "outputs": [],
      "source": [
        "# ds = load_dataset('crime_and_punish', split='train[:100]')\n",
        "# ds.load_faiss_index('embeddings', 'my_index.faiss')\n",
        "from datasets import load_from_disk\n",
        "load_dataset = load_from_disk('./data_embeddings/epo_dataset')"
      ]
    },
    {
      "cell_type": "code",
      "execution_count": 8,
      "metadata": {},
      "outputs": [],
      "source": [
        "load_dataset.load_faiss_index('embeddings', './data_embeddings/epo_index.faiss')"
      ]
    },
    {
      "cell_type": "markdown",
      "metadata": {},
      "source": [
        "# Searching in multiple databse using FAISS index\n",
        "\n",
        "[1] https://huggingface.co/learn/cookbook/en/semantic_cache_chroma_vector_database\n",
        "\n",
        "[2] https://www.pinecone.io/learn/series/faiss/faiss-tutorial/"
      ]
    },
    {
      "cell_type": "code",
      "execution_count": 140,
      "metadata": {},
      "outputs": [
        {
          "name": "stdout",
          "output_type": "stream",
          "text": [
            "2\n"
          ]
        }
      ],
      "source": [
        "from datasets import load_from_disk\n",
        "load_all_dataset = []\n",
        "for i in range(2):\n",
        "    dataset_name = './data_embeddings/epo_dataset' + str(i+1)\n",
        "    loaded_dataset = load_from_disk(dataset_name)\n",
        "    # dataset_faiss_name = './data_embeddings/epo_index' + str(i+1) + '.faiss'\n",
        "    # loaded_dataset.load_faiss_index('embeddings', dataset_faiss_name)\n",
        "    load_all_dataset.append(loaded_dataset)\n",
        "print(len(load_all_dataset))"
      ]
    },
    {
      "cell_type": "code",
      "execution_count": 141,
      "metadata": {},
      "outputs": [
        {
          "name": "stdout",
          "output_type": "stream",
          "text": [
            "Dataset({\n",
            "    features: ['title', 'description', 'ipc', 'description_length', 'embeddings'],\n",
            "    num_rows: 826\n",
            "}) METHOD FOR MULTIPLEX NUCLEIC ACID ANALYSIS\n"
          ]
        }
      ],
      "source": [
        "print(\n",
        "    load_all_dataset[1],\n",
        "    load_all_dataset[0]['title'][0]\n",
        ")"
      ]
    },
    {
      "cell_type": "code",
      "execution_count": 142,
      "metadata": {},
      "outputs": [],
      "source": [
        "from datasets import concatenate_datasets\n",
        "all_dataset = concatenate_datasets(load_all_dataset)"
      ]
    },
    {
      "cell_type": "code",
      "execution_count": 143,
      "metadata": {},
      "outputs": [
        {
          "data": {
            "text/plain": [
              "Dataset({\n",
              "    features: ['title', 'description', 'ipc', 'description_length', 'embeddings'],\n",
              "    num_rows: 1669\n",
              "})"
            ]
          },
          "execution_count": 143,
          "metadata": {},
          "output_type": "execute_result"
        }
      ],
      "source": [
        "all_dataset"
      ]
    },
    {
      "cell_type": "code",
      "execution_count": 144,
      "metadata": {},
      "outputs": [
        {
          "name": "stderr",
          "output_type": "stream",
          "text": [
            "100%|██████████| 2/2 [00:00<00:00, 249.36it/s]\n"
          ]
        },
        {
          "data": {
            "text/plain": [
              "Dataset({\n",
              "    features: ['title', 'description', 'ipc', 'description_length', 'embeddings'],\n",
              "    num_rows: 1669\n",
              "})"
            ]
          },
          "execution_count": 144,
          "metadata": {},
          "output_type": "execute_result"
        }
      ],
      "source": [
        "all_dataset.add_faiss_index(column=\"embeddings\")"
      ]
    },
    {
      "cell_type": "code",
      "execution_count": 145,
      "metadata": {},
      "outputs": [
        {
          "data": {
            "text/plain": [
              "(1, 768)"
            ]
          },
          "execution_count": 145,
          "metadata": {},
          "output_type": "execute_result"
        }
      ],
      "source": [
        "question = \"How to test nucleic acids in a sample\"\n",
        "question_embedding = get_embeddings([question]).cpu().detach().numpy()\n",
        "question_embedding.shape"
      ]
    },
    {
      "cell_type": "code",
      "execution_count": 148,
      "metadata": {},
      "outputs": [
        {
          "name": "stdout",
          "output_type": "stream",
          "text": [
            "TITLE: METHOD FOR MULTIPLEX NUCLEIC ACID ANALYSIS\n",
            "SCORE: 35.79100799560547\n",
            "DESCRIPTION: DNA <213> Artificial<220> <223> synthetic oligonucleotide primers or probes<400> 886 tgctaactag atcgcgggtt gattgacaga acacatagcc tgggcaaat 49<210> 887 <211> 45 <212> DNA <213> Artificial<220> <223> synthetic oligonucleotide primers or probes<400> 887 agacaaatag cagcggtggt gccaaaatca cccgctctag ggaag 45<210> 888 <211> 42 <212> DNA <213> Artificial<220> <223> synthetic oligonucleotide primers or probes<400> 888 tattcgctca taacgggttc gccaagaggg aaggcaggca ga 42<210> 889 <211> 51 <212> DNA <213> Artificial<220> <223> synthetic oligonucleotide primers or probes<400> 889 atgtcctact ccaccagttc ccagcattac agtccgttag cccgatggta a 51<210> 890 <211> 42 <212> DNA <213> Artificial<220> <223> synthetic oligonucleotide primers or probes<400> 890 tattcgctca taacgggttc gaggaacaca ctgactccgc cc 42<210> 891 <211> 60 <212> DNA <213> Artificial<220> <223> synthetic oligonucleotide primers or probes<400> 891 gttattcctg aaagatggag aaggggcatt acgcgattat agcgccggtc aatagagaaa 60<210> 892 <211> 60 <212> DNA <213> Artificial<220> <223> synthetic oligonucleotide primers or probes<400> 892 acacgaccgg taacgcttag aattacgcga ttacgcgatc gtaggaatgc cccagcttct 60<210> 893 <211> 60 <212> DNA <213> Artificial<220> <223> synthetic oligonucleotide primers or probes<400> 893 cagggaagga gagagcaggg tttattacgc gattacgcga aatcacccgc tctagggaag 60<210> 894 <211> 60 <212> DNA <213> Artificial<220> <223> synthetic oligonucleotide primers or probes<400> 894 acacgaccgg taacgcttag aattacgcga ttacgagaga gatgggggaa ggaagagaga 60<210> 895 <211> 48 <212> DNA <213> Artificial<220> <223> synthetic oligonucleotide primers or probes<400> 895 cgaggaaaaa aattaggggt gggaattagt ccgttagccc gatggtaa 48<210> 896 <211> 45 <212> DNA <213> Artificial<220> <223> synthetic oligonucleotide primers or probes<400> 896 ttattgcacg cgtcagccta tccttcaccc taacaccaaa cacca 45<210> 897 <211> 42 <212> DNA <213> Artificial<220> <223> synthetic oligonucleotide primers or probes<400> 897 catccccagt gtgggaccat gaaatcaccc gctctaggga ag 42<210> 898 <211> 45 <212> DNA <213> Artificial<220> <223> synthetic oligonucleotide primers or probes<400> 898 ttattgcacg cgtcagccta ttgcctagct gtgtgacatg attgg 45<210> 899 <211> 45 <212> DNA <213> Artificial<220> <223> synthetic oligonucleotide primers or probes<400> 899 ctctggtggc cttgaaaaac aaccagtccg ttagcccgat ggtaa 45<210> 900 <211> 42 <212> DNA <213> Artificial<220> <223> synthetic oligonucleotide primers or probes<400> 900 acacgaccgg taacgcttag agccagcctt agccaaatgc ag 42<210> 901 <211> 60 <212> DNA <213> Artificial<220> <223> synthetic oligonucleotide primers or probes<400> 901 ctttctacct cccacagtgt ttgggattac gcgattacga aatcacccgc tctagggaag 60<210> 902 <211> 60 <212> DNA <213> Artificial<220> <223> synthetic oligonucleotide primers or probes<400> 902 tattcgctca taacgggttc gattacgcga ttggcttctc agttctaagc ctcacaaatc 60<210> 903 <211> 59 <212> DNA <213> Artificial<220> <223> synthetic oligonucleotide primers or probes<400> 903 cagccaagga tttttttccc\n",
            "==================================================\n",
            "\n",
            "TITLE: COMPOSITIONS AND METHODS FOR TREATING AND DIAGNOSING ASTHMA\n",
            "SCORE: 35.77166748046875\n",
            "DESCRIPTION: DNA <213> Artificial Sequence<220> <221> source <223> /note=\"Description of Artificial Sequence: Synthetic primer\"<400> 79 tgtctgttac ggtcaactcg gt 22<210> 80 <211> 21 <212> DNA <213> Artificial Sequence<220> <221> source <223> /note=\"Description of Artificial Sequence: Synthetic primer\"<400> 80 gcttccccct ctgttcttcc t 21<210> 81 <211> 23 <212> DNA <213> Artificial Sequence<220> <221> source <223> /note=\"Description of Artificial Sequence: Synthetic primer\"<400> 81 gctctgtgag gctgttcaaa gtt 23<210> 82 <211> 26 <212> DNA <213> Artificial Sequence<220> <221> source <223> /note=\"Description of Artificial Sequence: Synthetic probe\"<400> 82 tccacggaca caagtgcgat atcacc 26<210> 83 <211> 20 <212> DNA <213> Artificial Sequence<220> <221> source <223> /note=\"Description of Artificial Sequence: Synthetic primer\"<400> 83 gccatgagga tgcttctgca 20<210> 84 <211> 26 <212> DNA <213> Artificial Sequence<220> <221> source <223> /note=\"Description of Artificial Sequence: Synthetic primer\"<400> 84 gaatcctcag agtctcattg gctatc 26<210> 85 <211> 20 <212> DNA <213> Artificial Sequence<220> <221> source <223> /note=\"Description of Artificial Sequence: Synthetic primer\"<400> 85 agctgcctac gtgtatgcca 20<210> 86 <211> 21 <212> DNA <213> Artificial Sequence<220> <221> source <223> /note=\"Description of Artificial Sequence: Synthetic primer\"<400> 86 gtgccaaggt ctctttcacc a 21<210> 87 <211> 25 <212> DNA <213> Artificial Sequence<220> <221> source <223> /note=\"Description of Artificial Sequence: Synthetic probe\"<400> 87 ccccacagaa attcccacaa gtgca 25<210> 88 <211> 26 <212> DNA <213> Artificial Sequence<220> <221> source <223> /note=\"Description of Artificial Sequence: Synthetic primer\"<400> 88 actcctctac ctccatcaat aactcc 26<210> 89 <211> 23 <212> DNA <213> Artificial Sequence<220> <221> source <223> /note=\"Description of Artificial Sequence: Synthetic primer\"<400> 89 tggctctgca agagatgtta gct 23<210> 90 <211> 20 <212> DNA <213> Artificial Sequence<220> <221> source <223> /note=\"Description of Artificial Sequence: Synthetic primer\"<400> 90 gctggctgga ttctggaaaa 20<210> 91 <211> 22 <212> DNA <213> Artificial Sequence<220> <221> source <223> /note=\"Description of Artificial Sequence: Synthetic primer\"<400> 91 tggctctgca agagatgtta gc 22<210> 92 <211> 29 <212> DNA <213> Artificial Sequence<220> <221> source <223> /note=\"Description of Artificial Sequence: Synthetic probe\"<400> 92 tctccaatca attctgtgtc tccacctgg 29<210> 93 <211> 18 <212> DNA <213> Artificial Sequence<220> <221> source <223> /note=\"Description of Artificial Sequence: Synthetic primer\"<400> 93 tgtggcggga aagacagc 18<210> 94 <211> 23 <212> DNA <213> Artificial Sequence<220> <221> source <223> /note=\"Description of Artificial Sequence: Synthetic primer\"<400> 94 ccttcctatg gcttagcttc agc 23<210> 95 <211> 20 <212> DNA <213> Artificial Sequence<220> <221> source <223> /note=\"Description of Artificial Sequence:\n",
            "==================================================\n",
            "\n",
            "TITLE: METHOD FOR MULTIPLEX NUCLEIC ACID ANALYSIS\n",
            "SCORE: 35.75013732910156\n",
            "DESCRIPTION: cgattacgcg attacgcgta gcgccggtca atagagaaa 59<210> 904 <211> 54 <212> DNA <213> Artificial<220> <223> synthetic oligonucleotide primers or probes<400> 904 acacgaccgg taacgcttag aattacgcgc attcaaacag ctttccgaca tcac 54<210> 905 <211> 48 <212> DNA <213> Artificial<220> <223> synthetic oligonucleotide primers or probes<400> 905 tttggttccc accccccaca ttacgcgagt ccgttagccc gatggtaa 48<210> 906 <211> 42 <212> DNA <213> Artificial<220> <223> synthetic oligonucleotide primers or probes<400> 906 tgctaactag atcgcgggtt gcctctctct catcgacccc cc 42<210> 907 <211> 54 <212> DNA <213> Artificial<220> <223> synthetic oligonucleotide primers or probes<400> 907 cctggagccc tgaacaagta caaatgatta cgcatccagt cgcaacgcta aatg 54<210> 908 <211> 42 <212> DNA <213> Artificial<220> <223> synthetic oligonucleotide primers or probes<400> 908 tgctaactag atcgcgggtt ggctggggcc ttttttcagc at 42<210> 909 <211> 59 <212> DNA <213> Artificial<220> <223> synthetic oligonucleotide primers or probes<400> 909 ttaagtgctg tgatgttagc tgctggtatt acgcgattag tccgttagcc cgatggtaa 59<210> 910 <211> 51 <212> DNA <213> Artificial<220> <223> synthetic oligonucleotide primers or probes<400> 910 ttattgcacg cgtcagccta tattacgctt tgcttctgtg gtctcgagta a 51<210> 911 <211> 47 <212> DNA <213> Artificial<220> <223> synthetic oligonucleotide primers or probes<400> 911 cagtgacgcc ttgggaatcc cattacatcc agtcgcaacg ctaaatg 47<210> 912 <211> 46 <212> DNA <213> Artificial<220> <223> synthetic oligonucleotide primers or probes<400> 912 ttattgcacg cgtcagccta tcacaaactc gtctcttcct tcccaa 46<210> 913 <211> 48 <212> DNA <213> Artificial<220> <223> synthetic oligonucleotide primers or probes<400> 913 ggtagaaggg ggacaaagtt ccctgattag cgccggtcaa tagagaaa 48<210> 914 <211> 60 <212> DNA <213> Artificial<220> <223> synthetic oligonucleotide primers or probes<400> 914 acacgaccgg taacgcttag aattacgcga ttacgcggac agccctggtt gtgagtgctt 60<210> 915 <211> 59 <212> DNA <213> Artificial<220> <223> synthetic oligonucleotide primers or probes<400> 915 ctaggactag ggtcttgcat agagccttca ttacgcgaaa atcacccgct ctagggaag 59<210> 916 <211> 49 <212> DNA <213> Artificial<220> <223> synthetic oligonucleotide primers or probes<400> 916 tgctaactag atcgcgggtt gattacgccc aatggttgca agaggttcc 49<210> 917 <211> 60 <212> DNA <213> Artificial<220> <223> synthetic oligonucleotide primers or probes<400> 917 tttgagactc ctgaagctga aacccattac gcgattacga gtccgttagc ccgatggtaa 60<210> 918 <211> 60 <212> DNA <213> Artificial<220> <223> synthetic oligonucleotide primers or probes<400> 918 tattcgctca taacgggttc gattacgcga ttacgtggca gctcggattc tgaaggtaat 60<210> 919 <211> 52 <212> DNA <213> Artificial<220> <223> synthetic oligonucleotide primers or probes<400> 919 ctctctcgag ctaacattgt ggagggatta catccagtcg caacgctaaa tg 52<210> 920 <211> 47 <212> DNA <213> Artificial<220> <223> synthetic oligonucleotide primers or probes<400> 920 acacgaccgg taacgcttag acactgtgat tcagcagtga agtcctg 47<210> 921 <211> 45 <212> DNA\n",
            "==================================================\n",
            "\n",
            "TITLE: ENCAPSULATES\n",
            "SCORE: 35.5499267578125\n",
            "DESCRIPTION: method described in the test method section of this specification.Example 10: Aromatic Polyurea EncapsulateA 12.5% polyvinyl alcohol solution is prepared by adding 612.89 grams of deionized water to a water jacketed vessel set to 80°C. The water is stirred with a paddle mixer while 87.52 grams of granular Acetic Aicd Ethenyl Ester, polymer with Ethenol (Celvol 523, Partially Hydrolyzed, (Celanese Ltd. Dallas, Texas U.S.A.)) is added slowly over one minute. The granules are allowed to mix and cook at this temperature for 30 minutes before being removed and cooled to room temperature.An amine solution is prepared by adding 5.24 grams of tetraethylenepentamine (TEPA, (The Dow Chemical Company Midland, Michigan U.S.A.)) and 25.65 grams of deionized water to a beaker with magnetic stir bar. The solution is allowed to stir under mild mixing for 15 minutes and set aside until needed.60.3 grams of the cooked 12.5% 523 polyvinyl alcohol solution are added to a 45°C 1 kg reactor to which is previously added 190.15 grams distilled water. The mixture is stirred with a 5.08cm (2 inch) diameter, 4 point star blade mixer for a period of 5 minutes at 600 RPM. 221.35 grams of a suspension formed by 30.21 grams of Diphenylmethane Diisocyanate, isomers and homologues 4,4'-Methylenediphenyl diisocyanate (PAPI27, 31.4 % NCO, (The Dow Chemical Company Midland, Michigan U.S.A.) and 191.14 grams of a solid, water soluble manganese complex, such as of meso-5,5,7,12,12,14-hexamethyl-1,4,8,11-tetraazacyclotetradecane and racemic-5,5,7,12,12,14-hcxamethyl-1,4,8,11-tetraazacyclotetradecane ligands, a polysiloxane (60,000 centistokes) and a hydrophobic organic composition formulated with materials listed in Tables 1 to 10, is added to the previous mixture under mechanical agitation. The mixture is milled with the same that 4 point star blade, 2 inches in diameter at 45°C 2500 ppm for 15 minutes to form a stable emulsion with desired particle size.The flat 4-point star mixer is changed to a paddle mixer and the RPM set to 450. The TEPA solution is added drop-wise over 5 minutes at 45°C. The mixture is then heated to 65°C and kept here for at least 2 minutes, preferable, 2,4, 6, or even 24 hours with stirring to complete the encapsulation. The average particle size is 10 microns as analyzed by\n",
            "==================================================\n",
            "\n",
            "TITLE: POLYMER-BIOACTIVE AGENT CONJUGATES\n",
            "SCORE: 34.82658767700195\n",
            "DESCRIPTION: (s, 1H, H-2); 8.07-7.97 (m, 1H, H-5); 7.41-7.30 (m, 1H, H-8); 3.57-3.46 (m, CH of cyclopropane ring); 3.41-3.24 (m, 4H, 2xCH2 of piperazine); 2.74-2.58 (m, 2xCH2 of piperazine); 2.44-2.33 (m, 2H, CH2N); 1.65-1.45 (m, 2H, CH2); 1.45-1.28 (m, 2H, CH2 of cyclopropane ring); 1.28-1.12 (m, 2H, CH2 of cyclopropane ring); 0.94 (t, 3H, CH3) MS (CH2Cl2) 374 [M+ 1] 747 [2M+1]b) (2,2-dimethyl-1,3-dioxolan-4-yl)methyl 1-cyclopropyl-6-fluoro-4-oxo-7-(4-propylpiperazin-1-yl)-1,4-dihydroquinoline-3-carboxylate1-cyclopropyl-6-fluoro-4-oxo-7-(4-propylpiperazin-1-yl)-1,4-dihydroquinoline-3-carboxylic acid (8.86 g, 23.70 mmol) was dissolved in anhydrous dichloromethane (370 ml) under argon. 2,2-dimethyl-1,3-dioxolane-4-methanol (4.71 g, 35.60 mmol), triethylamine (9.59 g, 94.80 mmol) and HBTU (9.90 g, 26.10 mmol) were added and the reaction mixture was stirred at room temperature for three days (exclusion of light). The reaction mixture was washed with saturated NaHCO3 solution (500 ml), aqueous (pH 5) hydrochloric acid (500 ml) and water (500 ml) successively. The organic layer was dried over Na2SO4 and the solvent was removed under reduced pressure, yielding 10.28 g (89 %) of a yellow solid.1H-NMR (CDCl3, 400 MHz): δ[ppm] = 8.53 (s, 1H, H-2); 8.09-7.95 (m,1H, H-5); 7.32-7.17 (m, H-8); 4.51-4.41 (m, 1H, CH); 4.41-4.31 (m, 2H, 1H of CH2O+ 1H of CH2O); 4.19-4.09 (m, 1H, CH2O); 3.98-3.86 (m, 1H, CH2O); 3.50-3.36 (m, 1H of cyclopropane ring); 3.36-3.15 (m, 4H, 2xCH2 of piperazine); 2.76-2.61 (m, 4H, 2xCH2 of piperazine); 2.49-2.31 (m, 2H, CH2N); 1.72-1.48 (m, 2H, CH2CH2CH3); 1.44 (s, 3H, CH3), 1.36 (s, 3H, CH3); 1.33-1.25 (m, 2H, CH2 of cyclopropane); 1.16-1.03 (m, 2H, CH2 of cyclopropane); 0.93 (t, 3H, CH3)c) 2,3-dihydroxypropyl 1-cyclopropyl-6-fluoro-4-oxo-7-(4-propylpiperazin-1-yl)-1,4-dihydroquinoline-3-carboxylate(2,2-dimethyl-1,3-dioxolan-4-yl)methyl 1-cyclopropyl-6-fluoro-4-oxo-7-(4-propylpiperazin-1-yl)-1,4-dihydroquinoline-3-carboxylate (2.45 g, 5.03 mmol) was dissolved in anhydrous dichloromethane (245 ml) under argon. A 1 M solution of boron trichloride in dichloromethane (6.3 ml, 6.30 mmol) was added dropwise and the reaction mixture was stirred at room temperature for 1 h. Methanol (25 ml) was added to the reaction mixture and the volatiles were removed under reduced pressure. The crude product was purified through flash column chromatography (5% MeOH in CHCl3) giving a yellow oil (1.58 g, 3.53 mmol, 70 %). MS (MeOH): 448.3 [M+1]Levofloxacin (9-fluoro-3-methyl-10-(4-methylpiperazin-1-yl)-7-oxo-3,7-dihydro-2H-[1,4]oxazino[2,3,4-ij]quinoline-6-carboxylic acidExample 7: 2,3-dihydroxypropyl 9-fluoro-3-methyl-10-(-4-methylpiperazin-1-yl)-7-oxo-3,7-dihydro-2H-[1,4]oxazino[2,3,4-ij]quinoline-6-carboxylatea) (2,2-dimethyl-1,3-dioxolan-4-yl)methyl 9-fluoro-3-methyl-10-(4-methylpipirazin-1-yl)-7-oxo-3,7-dihydro-2H-[1,4]oxazino[2,3,4-ij]quinoline-6-carboxylate(9-fluoro-3-methyl-10-(4-methylpiperazin-1-yl)-7-oxo-3,7-dihydro-2H-[1,4]oxazino[2,3,4-ij]quinoline-6-carboxylic acid (10.00 g, 27.7 mmol), was dissolved in CH2Cl2 (500 ml) under argon. 2,2-dimethyl-1,3-dioxolane-4-methanol (5.49 g, 41.5 mmol) triethylamine (11.21 g,\n",
            "==================================================\n",
            "\n",
            "TITLE: POLYMER-BIOACTIVE AGENT CONJUGATES\n",
            "SCORE: 34.536468505859375\n",
            "DESCRIPTION: and cooled to 0°C (ice/water bath). Benzyloxycarbonyl chloride (0.40 ml, 0.48 g, 2.8 mmol) was added dropwise. The reaction mixture was stirred at 0°C for 1 h and then gradually warmed to room temperature and stirred for another 16 h. After that the reaction mixture was brought to pH 5 through dropwise addition of 2N HCl solution. The reaction mixture was extracted with CHCl3 (3 x 50 ml). The combined organic layers were dried over Na2SO4 and the solvent was removed under reduced pressure. The crude product was purified through crystallisation from acetonitrile to give a colourless solid (0.23 g, 0.49 mmol, 49 %)1H-NMR (CDCl3, 400 MHz): δ[ppm] = 8.78 (s, 1H, H-2); 8.10-8.00 (m, 1H, H-5); 7.44-7.28 (m, 6H, 1H of H-8+5H of ArH); 5.17 (s, 2H, ArCH2); 3.81-3.63 (m, 4H, 2xCH2 of piperazine); 3.56-3.46 (m, 1H of cyclopropane); 3.38-3.23 (m, 4H, 2xCH2 of piperazine); 1.44-1.33 (m, 2H, CH2 of cyclopropane); 1.24-1.13 (m, 2H, CH2 of cyclopropane)b) (2,2-dimethyl-1,3-dioxolan-4-yl)methyl 7-(4-(benzyloxycarbonyl)piperazin-1-yl)-1-cyclopropyl-6-fluoro-4-oxo-1,4-dihydroquinoline-3-carboxylate7-(4-(benzyloxycarbonyl)piperazin-1-yl)-1-cyclopropyl-6-fluoro-4-oxo-1,4-dihydroquinoline-3-carboxylic acid (0.47 g, 1.0 mmol) was dissolved in anhydrous CH2Cl2 (47 ml) under argon. 2,2-dimethyl-1,3-dioxolane-4-methanol (0.20 g, 1.5 mmol) triethylamine (0.40 g, 4.0 mmol) and O-benzotriazol-1-yl-N,N,N',N'-trimethyluronium hexafluorophosphate (0.42 g, 1.1 mmol) were added successively. The reaction mixture was stirred under argon for 72 h. The reaction mixture was washed with saturated NaHCO3 solution (1 x 50 ml), water (1 x 50 ml) and dried over Na2SO4. The organic solvent was removed under reduced pressuregiving a pale, pink solid (0.54 g, 0.93 mmol, 93 %).1H-NMR (CDCl3, 400 MHz): δ[ppm] = 8.56 (s, 1H, H-2); 8.10-7.97 (m, 1H, H-5); 7.42-7.13 (m, 6H, 5xArH+1H of H-8); 5.16 (s, 2H, ArCH2O); 4.52-4.40 (m, 1H, CH); 4.40-4.30 (m, 2H, 1H of CH2O+1H of CH2O); 4.08-3.96 (m, 1H, 1H of CH2O); 3.86-3.81 (m, 1H, 1H of CH2O); 3.62-3.51 (m, 4H, 2xCH2 of piperazine); 3.37-3.33 (m, 1H, CH of cyclopropane); 3.31-3.14 (m, 4H, 2xCH2 of piperazine); 1.44 (s, 3H, CH3); 1.36 (s, 3H, CH3); 1.34-1.26 (m, CH2 of cyclopropane); 1.26-1.03 (m, CH2 of cyclopropane) MS (MeCN) 580 [M+ 1] 602 [M+23]c) 2,3-dihydroxypropyl 7-(4-(benzyloxycarbonyl)piperazin-1-yl)-1-cyclopropyl-6-fluoro-4-oxo-1,4-dihydroquinoline-3-carboxylate(2,2-dimethyl-1,3-dioxolan-4-yl)methyl 7-(4-(benzyloxycarbonyl)piperazin-1-yl)-1-cyclopropyl-6-fluoro-4-oxo-1,4-dihydroquinoline-3-carboxylate (2.85 g, 4.9 mmol) was dissolved in 95 % aqueous ehanol (100 ml). After addition of amberlyst 15 (wet) ion exchange resion\n",
            "==================================================\n",
            "\n",
            "TITLE: POLYMER-BIOACTIVE AGENT CONJUGATES\n",
            "SCORE: 34.2430419921875\n",
            "DESCRIPTION: giving a yellow solid (0.35 g, 88 %)1H-NMR (CDCl3, 400 MHz): δ[ppm] = 8.67 (s, H-5); 7.56-7.40 (m, H-8); 4.71-4.56 (m, 1H, H-3 of benzoxazine ring); 4.56-4.33 (m, 3H, 2H of NHCHCH2O+1H of CH2OCO); 4.33-4.21 (m, 1H, CH2OCO); 4.02-3.91 (m, 1H, CHOH); 3.57-3.52 (m, 2H, CH2OH); 3.52-3.34 (m, 4H, 2xCH2 piperazine); 2.85-2.56 (m, 4H, 2xCH2 piperazine); 2.43 (s, 3H, NHCH3); 1.52 (d, 3H, CH3). MS (MeOH) 436 [M+ 1] 458 [M+23]Example 8: (S)-1,3-dihydroxypropan-2-yl 9-fluoro-3-methyl-10-(4-methylpiperazin-1-yl)-7-oxo-3,7-dihydro-2H-[1,4]oxazino[2,3,4-ij]quinoline-6-carboxylatea) (S)-2-phenyl-1,3-dioxan-5-yl 9-fluoro-3-methyl-10-(4-methylpiperazin-1-yl)-7-oxo-3,7-dihydro-2H-[1,4]oxazino[2,3,4-ij]quinoline-6-carboxylate(S)-9-fluoro-3-methyl-10-(4-methylpiperazin-1-yl)-7-oxo-3,7-dihydro-2H-[1,4] oxazino [2,3,4-ij] quinoline-6-carboxylic acid (4.18 g, 11.56 mmol) was dissolved in anhydrous dichloromethane (210 ml) under argon. 1,3-O-benzylideneglycerol (2.50 g, 13.67 mmol), triethylamine (4.68 g, 46.24 mmol) and HBTU (4.38 g, 11.56 mmol) were added successively. The reaction mixture was stirred at room temperature (exclusion of light) for 3 days. The reaction mixture was washed with saturated NaHCO3 solution (500 ml), aqueous (pH 5) hydrochloric acid (500 ml) and water (500 ml) successively. The organic layer was dried over Na2SO4 and the solvent was removed under reduced pressure. The crude product was purified through flash column chromatography (SiO2/10 % MeOH in CHCl3) yielding 4.32 g, 71 %) of a yellow, crystalline solid.1H-NMR (CDCl3, 400 MHz): δ[ppm] = 8.22 (s, 1H, H-5); 7.64-7.52 (m, 1H, H-8); 7.46-7.31 (m,4H, ArH); 7.10 (d, 1H, ArH); 5.65 (s, 1H, CHOCO); 4.91 (s, 1H, ArCH); 4.64-4.01 (m, 7H, 1H of CHN+2H of CH2O+4H of 2xCH2O); 3.38-3.22 (m, 2xCH2 of piperazine ring); 2.62-2.43 (m, 4H, 2xCH2 of piperazine ring); 2.36 (s, NCH3); 0.95 (d, 3H, CHCH3) MS (MeOH) 524 [M+1] 546 [M+23]b) (S)-1,3-dihydroxypropan-2-yl 9-fluoro-3-methyl-10-(4-methylpiperazin-1-yl)-7-oxo-3,7-dihydro-2H-[1,4]oxazino[2,3,4-ij]quinoline-6-carboxylate(S)-2-phenyl-1,3-dioxan-5-yl 9-fluoro-3-methyl-10-(4-methylpiperazin-1-yl)-7-oxo-3,7-dihydro-2H-[1,4]oxazino[2,3,4-ij]quinoline-6-carboxylate (0.50 g, 9.55 mmol), was dissolved in a mixture of dichloromethane/methanol (2:1.5, 87.5 ml) under argon. Palladium catalyst (10 wt % Pd/C) (180 mg) was added, the flask was evacuated and allowed to stir 1 atm of hydrogen gas at room temperature for 16 hours. The crude reaction mixture was passed through a glass microfiber on a sintered funnel. The volatiles were removed under reduced pressure yielding 370 mg (88%) of a yellow gum1H-NMR (CDCl3, 400 MHz): δ[ppm] = 8.72 (s, 1H), 7.57 (dd, 1H, J1 = 12.6 Hz, J2 = 1.8 Hz), 4.67-4.60 (m, 1H), 4.55-4.49 (m, 1H), 4.41-4.35 (m, 2H), 4.31-4.25 (m,\n",
            "==================================================\n",
            "\n",
            "TITLE: METHODS AND KITS FOR THE DIAGNOSIS OF LUNG CANCER\n",
            "SCORE: 33.93384552001953\n",
            "DESCRIPTION: nucleic acid to be introduced into prokaryotic and/or into eukaryotic cells and, where appropriate, be integrated into a genome. Such vectors are preferably replicated and/or expressed in the cell. Vectors include plasmids, phagemids, bacteriophages or viral genomes. The term \"plasmid\" as used herein relates generally to a construct of extrachromosomal genetic material, usually a circular DNA duplex, which can replicate independently of chromosomal DNA. In one embodiment, the vector is an expression vector.The term \"host cell\" relates to any cell which can be transformed or transfected with an exogenous nucleic acid, preferably DNA or RNA. The term \"host cell\" includes prokaryotic (e.g. E. coli) or eukaryotic cells (e.g. mammalian cells, especially human cells, yeast cells and insect cells). Mammalian cells such as human cells, mouse cells, hamster cells, pig cells, goat cells and primate cells are particularly preferred. The cells can be derived from a large number of tissue types and include primary cells and cell lines. Specific examples include keratinocytes, peripheral blood leukocytes, bone marrow stem cells and embryonic stem cells. In further embodiments, the host cell is an antigen-presenting cell, where the term \"antigen-presenting cell\" includes dendritic cells, monocytes and macrophages. A nucleic acid may be present in the host cell in a single or in a plurality of copies and is expressed in one embodiment in the host cell.According to the invention there is further provided a diagnostic device comprising a panel of isolated peptides as defined above, wherein, preferably, the panel of isolated peptides is immobilized on a support.According to the present invention, a diagnostic device can take different forms, and it can be varied depending on the precise nature of the assay being performed. For example, the isolated peptide as disclosed herein may be coated onto a solid support, typically nitrocellulose or other hydrophobic porous material. Alternatively, the peptide may be coated on a synthetic plastics material, multi-well plate, microtitre assay plate, microarray chip, latex bead, filter comprising a cellulosic or synthetic polymeric material, glass or plastic slide, dipstick, capillary fill device and the like. Coating of the peptides to these surfaces can be accomplished by methods known in the art. Protein carriers are\n",
            "==================================================\n",
            "\n",
            "TITLE: METHOD FOR MULTIPLEX NUCLEIC ACID ANALYSIS\n",
            "SCORE: 33.87230682373047\n",
            "DESCRIPTION: nucleic acids include those with positive backbones, non-ionic backbones, and non-ribose backbones. See, e.g., Denpcy et al., 1995, Proc. Natl. Acad. Sci. USA 92:6097; Jeffs et al., 1994, J. Biomolecular NMR 34:17; U.S. Pat. Nos. 5,386,023, 5,235,033 and 5,034,506. Modifications of the ribose-phosphate backbone may be done to facilitate the addition of labels, or to increase the stability and half-life of such molecules in physiological environments.In some embodiments, peptide nucleic acids (PNA) may be used for nucleic acids in the present invention. The PNA backbones are substantially non-ionic under neutral conditions, in contrast to the highly charged phosphodiester backbone of naturally occurring nucleic acids. This results in two advantages. First, the PNA backbone exhibits improved hybridization kinetics. PNAs have larger changes in the melting temperature (Tm) for mismatched versus perfectly matched basepairs. DNA and RNA typically exhibit a 2-4°C drop in Tm for an internal mismatch. With the non-ionic PNA backbone, the drop is closer to 7-9°C. This allows for better detection of mismatches. Similarly, due to their non-ionic nature, hybridization of the bases attached to these backbones is relatively insensitive to salt concentration.Nucleic acids may be single stranded or double stranded, as specified, or contain portions of both double stranded or single stranded sequence. Nucleic acids may be DNA, genomic DNA, cDNA, RNA or a hybrid. Nucleic acids may contain any combination of deoxyribo- and ribo-nucleotides, and any combination of bases, including uracil, adenine, thymine, cytosine, guanine, inosine, xanthanine, hypoxanthine, isocytosine, isoguanine, etc. In one embodiment, nucleic acids utilize isocytosine and isoguanine in nucleic acids designed to be complementary to other probes, rather than target sequences, as this reduces non-specific hybridization, as is generally described in U.S. Patent No. 5,681,702. As used herein, the term \"nucleoside\" includes nucleotides as well as nucleoside and nucleotide analogs, and modified nucleosides such as amino modified nucleosides. In addition, \"nucleoside\" includes non-naturally occurring analog structures. Thus, for example, the individual units of a peptide nucleic acid, each containing a base, are referred to herein as a nucleoside.In some embodiments, the methods according to the present invention are directed to the multiplexed detection of target nucleic acids. The term \"target nucleic acid\" or\n",
            "==================================================\n",
            "\n",
            "TITLE: METHOD FOR MULTIPLEX NUCLEIC ACID ANALYSIS\n",
            "SCORE: 33.4687385559082\n",
            "DESCRIPTION: example, the presence, absence or quantity of more than about 48, 96, 192, 384 or more target nucleic acids in the sample may be assayed in a multiplexed manner. The probes corresponding to all the target nucleic acids may be added to the sample and a single ligation reaction is performed to obtain ligation products for all the target nucleic acids.The sample to be assayed may be a sample of a bodily fluid, a biopsy tissue, or a paraffin-embedded tissue from an animal. The bodily fluid may be blood, plasma, serum, urine, sputum, spinal fluid, cerebrospinal fluid, pleural fluid, nipple aspirates, lymph fluid, fluid of the respiratory, intestinal, or genitourinary tracts, tear fluid, saliva, breast milk, fluid from the lymphatic system, semen, cerebrospinal fluid, intra-organ system fluid, ascitic fluid, tumor cyst fluid, amniotic fluid, or combinations thereof from an animal, e.g., a human.In some embodiments, nucleic acids are extracted from the sample before forming a mixture with the set of probes. The target nucleic acid may be DNA, RNA, or cDNA. The RNA may be reverse transcribed into cDNA before forming a mixture with the set of probes.In some embodiments, at least one primer of the set of primers is labeled with a detectable moiety, e.g., an oligonucleotide tag or a fluorescent dye. The fluorescent dye may be FAM (5-or 6-carboxyfluorescein), VIC, NED, PET, Fluorescein, FITC, IRD-700/800, CY3, CY5, CY3.5, CY5.5, HEX, TET, TAMRA, JOE, ROX, BODIPY TMR, Oregon Green, Rhodamine Green, Rhodamine Red, Texas Red, or Yakima Yellow. In other embodiments, at least one primer of the set of primers includes a stuffer sequence. The stuffer sequence in some primers may have about 10 to about 500 nucleotides. The stuffer sequence in other primers may be about 10 to about 60 nucleotides. In some preferred embodiments, no primer has more than about 125 nucleotides, preferably about 75 nucleotides. In still other embodiments, at least one primer of the set of primers includes an oligonucleotide comprising a sequence GTTTCTT or a functional equivalent variant of the oligonucleotide comprising a sequence GTTTCTT.In further embodiments, at least one probe of the set of probes includes a stuffer sequence. In some instances,\n",
            "==================================================\n",
            "\n"
          ]
        }
      ],
      "source": [
        "\n",
        "scores, samples = all_dataset.get_nearest_examples(\n",
        "    \"embeddings\", question_embedding, k=10\n",
        ")\n",
        "samples_df = pd.DataFrame.from_dict(samples)\n",
        "samples_df[\"scores\"] = scores\n",
        "samples_df.sort_values(\"scores\", ascending=False, inplace=True)\n",
        "\n",
        "for _, row in samples_df.iterrows():\n",
        "    print(f\"TITLE: {row.title}\")\n",
        "    print(f\"SCORE: {row.scores}\")\n",
        "    print(f\"DESCRIPTION: {row.description}\")\n",
        "    print(\"=\" * 50)\n",
        "    print()\n"
      ]
    }
  ],
  "metadata": {
    "colab": {
      "name": "Semantic search with FAISS (PyTorch)",
      "provenance": []
    },
    "kernelspec": {
      "display_name": "gpuenv",
      "language": "python",
      "name": "python3"
    },
    "language_info": {
      "codemirror_mode": {
        "name": "ipython",
        "version": 3
      },
      "file_extension": ".py",
      "mimetype": "text/x-python",
      "name": "python",
      "nbconvert_exporter": "python",
      "pygments_lexer": "ipython3",
      "version": "3.12.9"
    }
  },
  "nbformat": 4,
  "nbformat_minor": 0
}
