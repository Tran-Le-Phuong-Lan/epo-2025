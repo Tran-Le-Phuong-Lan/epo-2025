{
  "cells": [
    {
      "cell_type": "markdown",
      "metadata": {
        "id": "HfPCA-ShVh3w"
      },
      "source": [
        "# Semantic search with FAISS (PyTorch)"
      ]
    },
    {
      "cell_type": "markdown",
      "metadata": {},
      "source": [
        "# Libs"
      ]
    },
    {
      "cell_type": "code",
      "execution_count": 24,
      "metadata": {},
      "outputs": [],
      "source": [
        "# ! pip install datasets evaluate transformers[sentencepiece]\n",
        "\n",
        "# reference:\n",
        "# [1] https://stackoverflow.com/questions/58957169/faiss-error-could-not-find-a-version-that-satisfies-the-requirement-faiss-from/58957380\n",
        "# [1] Self-summary: \n",
        "#   1.1 Python version too high (for example: 3.13 has problem with installing faiss)\n",
        "#   1.2 must state the cuda version explicitly while installing faiss -> (after install torch) check 'nvidia-...' version in  `conda list > requirement.txt` \n",
        "# ! pip install faiss-gpu-cu12 # (NO NEED TO INSTALL THIS, WE DO NOT USE GPU)\n",
        "# ! pip install faiss-cpu \n",
        "# ! pip install torch"
      ]
    },
    {
      "cell_type": "code",
      "execution_count": 1,
      "metadata": {},
      "outputs": [],
      "source": [
        "# reference: https://stackoverflow.com/questions/20554074/sklearn-omp-error-15-initializing-libiomp5md-dll-but-found-mk2iomp5md-dll-a\n",
        "# for solving crashing problem: 22:48:44.157 [error] Disposing session as kernel process died ExitCode: 3, \n",
        "# Reason: OMP: Error #15: Initializing libomp140.x86_64.dll, but found libiomp5md.dll already initialized\n",
        "import os\n",
        "os.environ[\"KMP_DUPLICATE_LIB_OK\"]=\"TRUE\""
      ]
    },
    {
      "cell_type": "code",
      "execution_count": 2,
      "metadata": {},
      "outputs": [],
      "source": [
        "import pandas as pd"
      ]
    },
    {
      "cell_type": "markdown",
      "metadata": {},
      "source": [
        "# Data processing"
      ]
    },
    {
      "cell_type": "code",
      "execution_count": 3,
      "metadata": {},
      "outputs": [
        {
          "name": "stdout",
          "output_type": "stream",
          "text": [
            "row counts in df: 1848\n"
          ]
        }
      ],
      "source": [
        "df= pd.read_csv(\"./df_combine.csv\")\n",
        "print(f\"row counts in df: {len(df)}\")"
      ]
    },
    {
      "cell_type": "code",
      "execution_count": 4,
      "metadata": {},
      "outputs": [],
      "source": [
        "# df[\"claims\"][0], df[\"title\"][0]"
      ]
    },
    {
      "cell_type": "code",
      "execution_count": 5,
      "metadata": {},
      "outputs": [
        {
          "name": "stderr",
          "output_type": "stream",
          "text": [
            "c:\\Users\\20245580\\AppData\\Local\\anaconda3\\envs\\workspace_1\\Lib\\site-packages\\tqdm\\auto.py:21: TqdmWarning: IProgress not found. Please update jupyter and ipywidgets. See https://ipywidgets.readthedocs.io/en/stable/user_install.html\n",
            "  from .autonotebook import tqdm as notebook_tqdm\n"
          ]
        }
      ],
      "source": [
        "# convert panda data frame to dataset\n",
        "from datasets import Dataset"
      ]
    },
    {
      "cell_type": "code",
      "execution_count": 6,
      "metadata": {},
      "outputs": [
        {
          "data": {
            "text/plain": [
              "Dataset({\n",
              "    features: ['title', 'description', 'claims', 'ipc'],\n",
              "    num_rows: 1848\n",
              "})"
            ]
          },
          "execution_count": 6,
          "metadata": {},
          "output_type": "execute_result"
        }
      ],
      "source": [
        "dataset = Dataset.from_pandas(df)\n",
        "dataset"
      ]
    },
    {
      "cell_type": "code",
      "execution_count": 7,
      "metadata": {
        "id": "KQPnvx7pVh30",
        "outputId": "277f3ac1-4c34-46ca-ae94-c0032c045dcf"
      },
      "outputs": [
        {
          "data": {
            "text/plain": [
              "Dataset({\n",
              "    features: ['title', 'claims', 'ipc'],\n",
              "    num_rows: 1848\n",
              "})"
            ]
          },
          "execution_count": 7,
          "metadata": {},
          "output_type": "execute_result"
        }
      ],
      "source": [
        "# remove column description\n",
        "columns = dataset.column_names\n",
        "columns_to_keep = [\"title\", \"claims\", \"ipc\"]\n",
        "columns_to_remove = set(columns_to_keep).symmetric_difference(columns)\n",
        "dataset = dataset.remove_columns(columns_to_remove)\n",
        "dataset\n"
      ]
    },
    {
      "cell_type": "markdown",
      "metadata": {},
      "source": [
        "> Now that we **have one comment per row**, let’s **create a new claims_length column** that **contains the number of words per claims**:  "
      ]
    },
    {
      "cell_type": "code",
      "execution_count": 8,
      "metadata": {
        "id": "u1V7Gs2lVh31"
      },
      "outputs": [
        {
          "name": "stderr",
          "output_type": "stream",
          "text": [
            "Map: 100%|██████████| 1848/1848 [00:00<00:00, 13325.83 examples/s]\n"
          ]
        }
      ],
      "source": [
        "description_dataset = dataset.map(\n",
        "    lambda x: {\"claims_length\": len(x[\"claims\"].split())}\n",
        ")"
      ]
    },
    {
      "cell_type": "markdown",
      "metadata": {},
      "source": [
        "> We can **use this new column to filter out short comments**, which typically **include things like “cc @lewtun” or “Thanks!” that are not relevant** for our search engine. There’s **no precise number to select for the filter**, **but around 15 words** seems like a good start:  "
      ]
    },
    {
      "cell_type": "code",
      "execution_count": 9,
      "metadata": {
        "id": "vrAOWkChVh31",
        "outputId": "d45e7de1-f384-4a1c-c997-0534f917b12e"
      },
      "outputs": [
        {
          "name": "stderr",
          "output_type": "stream",
          "text": [
            "Filter: 100%|██████████| 1848/1848 [00:00<00:00, 216570.94 examples/s]\n"
          ]
        },
        {
          "data": {
            "text/plain": [
              "Dataset({\n",
              "    features: ['title', 'claims', 'ipc', 'claims_length'],\n",
              "    num_rows: 1847\n",
              "})"
            ]
          },
          "execution_count": 9,
          "metadata": {},
          "output_type": "execute_result"
        }
      ],
      "source": [
        "description_dataset = description_dataset.filter(lambda x: x[\"claims_length\"] > 15)\n",
        "description_dataset"
      ]
    },
    {
      "cell_type": "code",
      "execution_count": 10,
      "metadata": {},
      "outputs": [],
      "source": [
        "# description_dataset[0]['claims_length']"
      ]
    },
    {
      "cell_type": "code",
      "execution_count": 11,
      "metadata": {},
      "outputs": [
        {
          "name": "stdout",
          "output_type": "stream",
          "text": [
            "min length in dataset: 27 words\n",
            "max length in dataset: 9265\n"
          ]
        }
      ],
      "source": [
        "max = 0\n",
        "for i in range(len(description_dataset)):\n",
        "    length_description_dataset = description_dataset[i]['claims_length']\n",
        "    if i== 0:\n",
        "        min = length_description_dataset\n",
        "        max = length_description_dataset\n",
        "    else:\n",
        "        if length_description_dataset <= min:\n",
        "            min = length_description_dataset\n",
        "        \n",
        "        if length_description_dataset >= max:\n",
        "            max = length_description_dataset\n",
        "print(f\"min length in dataset: {min} words\\nmax length in dataset: {max}\")"
      ]
    },
    {
      "cell_type": "markdown",
      "metadata": {},
      "source": [
        "Split the long description into small chunks"
      ]
    },
    {
      "cell_type": "code",
      "execution_count": 12,
      "metadata": {},
      "outputs": [],
      "source": [
        "# def spilt_into_smaller_descriptions(examples):\n",
        "#     res = []\n",
        "#     index = 0\n",
        "#     num_words_per_chunk = 4500\n",
        "#     total_chunks = examples[\"claims\"].split()\n",
        "#     total_len = examples[\"claims_length\"]\n",
        "#     while index < total_len:\n",
        "#         chunk = ' '.join(total_chunks[index: index+num_words_per_chunk]) \n",
        "#                         # the elem with index = index + num_words_per_chunk \n",
        "#                         # is excluded\n",
        "#         res.append(chunk)\n",
        "#         index = index + num_words_per_chunk\n",
        "#     last_chunk = ' '.join(total_chunks[index - num_words_per_chunk: total_len])\n",
        "#     res.append(last_chunk)\n",
        "#     return {\n",
        "#         \"claims\": res\n",
        "#     }"
      ]
    },
    {
      "cell_type": "code",
      "execution_count": 13,
      "metadata": {},
      "outputs": [],
      "source": [
        "# 1. For demonstration purpose:\n",
        "#    extract only a small fraction of the database.\n",
        "# 2. For demonstrating the ability to add new data to later the embedding database for similar search:\n",
        "#    two samples are used. First sample = old data, New sample = new data\n",
        "all_samples = []\n",
        "all_samples.append(description_dataset.select(range(20))) # extract row from 0th to 19th\n",
        "all_samples.append(description_dataset.select(range(20, 40)))"
      ]
    },
    {
      "cell_type": "code",
      "execution_count": 14,
      "metadata": {},
      "outputs": [],
      "source": [
        "# all_samples[1][0]['title'], all_samples[0][0]['title'] "
      ]
    },
    {
      "cell_type": "code",
      "execution_count": 15,
      "metadata": {},
      "outputs": [],
      "source": [
        "# all_samples_split = []\n",
        "# for idx, elem in enumerate(all_samples):\n",
        "#     all_samples_split.append(elem.map(spilt_into_smaller_descriptions))"
      ]
    },
    {
      "cell_type": "code",
      "execution_count": 16,
      "metadata": {},
      "outputs": [],
      "source": [
        "# all_samples_split[1][0]"
      ]
    },
    {
      "cell_type": "markdown",
      "metadata": {},
      "source": [
        "convert to dataframe to use `explode`"
      ]
    },
    {
      "cell_type": "code",
      "execution_count": 17,
      "metadata": {},
      "outputs": [],
      "source": [
        "# df_all_samples_split = []\n",
        "# for idx, elem in enumerate(all_samples_split):\n",
        "#     elem.set_format(\"pandas\")\n",
        "#     df_elem = elem[:] # convert to dataframe\n",
        "#     df_all_samples_split.append(df_elem.explode(\"claims\", ignore_index=True)) # explode\n"
      ]
    },
    {
      "cell_type": "code",
      "execution_count": 18,
      "metadata": {},
      "outputs": [],
      "source": [
        "# df_all_samples_split[0].head(4)"
      ]
    },
    {
      "cell_type": "markdown",
      "metadata": {},
      "source": [
        "Convert the dataframe back to dataset "
      ]
    },
    {
      "cell_type": "code",
      "execution_count": 19,
      "metadata": {},
      "outputs": [],
      "source": [
        "# for idx, elem in enumerate(df_all_samples_split):\n",
        "#     all_samples[idx] =  Dataset.from_pandas(elem)\n",
        "# print(all_samples)"
      ]
    },
    {
      "cell_type": "code",
      "execution_count": 20,
      "metadata": {},
      "outputs": [],
      "source": [
        "# all_samples[0][0]['title'],all_samples[1][0]['title'] "
      ]
    },
    {
      "cell_type": "markdown",
      "metadata": {},
      "source": [
        "# Creating text embeddings"
      ]
    },
    {
      "cell_type": "code",
      "execution_count": 21,
      "metadata": {},
      "outputs": [],
      "source": [
        "# import torch\n",
        "# x = torch.rand(5, 3)\n",
        "# print(x)"
      ]
    },
    {
      "cell_type": "code",
      "execution_count": 22,
      "metadata": {
        "id": "yKcqAREOVh32"
      },
      "outputs": [],
      "source": [
        "from transformers import AutoTokenizer, AutoModel\n",
        "# Because Arnab did not save the tokenizer of the fine-tune model,\n",
        "# so we should use the tokenizer downloaded from Hugging face of the model Arnab used in his training.\n",
        "# NOTE: actually, we could combine the model with tokenizer of other model such as:\n",
        "# token_ckpt = \"sentence-transformers/multi-qa-mpnet-base-dot-v1\".\n",
        "# However, not so sure there will be mismatching between the tokenizer id of other model with the used model?\n",
        "# and how it affects the output?\n",
        "# But using Arnab fine-tuned model gives much better relevancy test, \n",
        "# than using random model like \"sentence-transformers/multi-qa-mpnet-base-dot-v1\"\n",
        "token_ckpt = \"sadickam/sdg-classification-bert\"\n",
        "model_ckpt = \"../current_batch\" \n",
        "             # this is possible because Arnab saved the model using Huggingface trainer.save_model()\n",
        "tokenizer = AutoTokenizer.from_pretrained(token_ckpt)\n",
        "model = AutoModel.from_pretrained(model_ckpt)"
      ]
    },
    {
      "cell_type": "code",
      "execution_count": 23,
      "metadata": {
        "id": "nX3lDtF-Vh32"
      },
      "outputs": [
        {
          "data": {
            "text/plain": [
              "BertModel(\n",
              "  (embeddings): BertEmbeddings(\n",
              "    (word_embeddings): Embedding(30522, 768, padding_idx=0)\n",
              "    (position_embeddings): Embedding(512, 768)\n",
              "    (token_type_embeddings): Embedding(2, 768)\n",
              "    (LayerNorm): LayerNorm((768,), eps=1e-12, elementwise_affine=True)\n",
              "    (dropout): Dropout(p=0.1, inplace=False)\n",
              "  )\n",
              "  (encoder): BertEncoder(\n",
              "    (layer): ModuleList(\n",
              "      (0-11): 12 x BertLayer(\n",
              "        (attention): BertAttention(\n",
              "          (self): BertSdpaSelfAttention(\n",
              "            (query): Linear(in_features=768, out_features=768, bias=True)\n",
              "            (key): Linear(in_features=768, out_features=768, bias=True)\n",
              "            (value): Linear(in_features=768, out_features=768, bias=True)\n",
              "            (dropout): Dropout(p=0.1, inplace=False)\n",
              "          )\n",
              "          (output): BertSelfOutput(\n",
              "            (dense): Linear(in_features=768, out_features=768, bias=True)\n",
              "            (LayerNorm): LayerNorm((768,), eps=1e-12, elementwise_affine=True)\n",
              "            (dropout): Dropout(p=0.1, inplace=False)\n",
              "          )\n",
              "        )\n",
              "        (intermediate): BertIntermediate(\n",
              "          (dense): Linear(in_features=768, out_features=3072, bias=True)\n",
              "          (intermediate_act_fn): GELUActivation()\n",
              "        )\n",
              "        (output): BertOutput(\n",
              "          (dense): Linear(in_features=3072, out_features=768, bias=True)\n",
              "          (LayerNorm): LayerNorm((768,), eps=1e-12, elementwise_affine=True)\n",
              "          (dropout): Dropout(p=0.1, inplace=False)\n",
              "        )\n",
              "      )\n",
              "    )\n",
              "  )\n",
              "  (pooler): BertPooler(\n",
              "    (dense): Linear(in_features=768, out_features=768, bias=True)\n",
              "    (activation): Tanh()\n",
              "  )\n",
              ")"
            ]
          },
          "execution_count": 23,
          "metadata": {},
          "output_type": "execute_result"
        }
      ],
      "source": [
        "import torch\n",
        "\n",
        "device = torch.device(\"cpu\")\n",
        "model.to(device)"
      ]
    },
    {
      "cell_type": "markdown",
      "metadata": {},
      "source": [
        " > As we mentioned earlier, we’d **like to represent each entry in our GitHub issues corpus as a single vector**, so we **need to “pool” or average our token embeddings** in some way. One popular approach is to **perform CLS pooling on our model’s outputs**, where we **simply collect the last hidden state for the special [CLS] token**. The following function does the trick for us:"
      ]
    },
    {
      "cell_type": "code",
      "execution_count": 24,
      "metadata": {
        "id": "5fDzb5SWVh32"
      },
      "outputs": [],
      "source": [
        "def cls_pooling(model_output):\n",
        "    return model_output.last_hidden_state[:, 0]"
      ]
    },
    {
      "cell_type": "markdown",
      "metadata": {},
      "source": [
        "> Next, we’ll create a helper function that will tokenize a list of documents, place the tensors on the GPU, feed them to the model, and finally apply CLS pooling to the outputs:"
      ]
    },
    {
      "cell_type": "code",
      "execution_count": null,
      "metadata": {
        "id": "7vnrkBahVh32"
      },
      "outputs": [],
      "source": [
        "def get_embeddings(text_list, imp_model, imp_tokenizer):\n",
        "    # encoded_input = tokenizer(\n",
        "    #     text_list, padding=True, truncation=True, return_tensors=\"pt\"\n",
        "    # )\n",
        "    encoded_input = imp_tokenizer(\n",
        "        text_list, padding=True, truncation=True, return_tensors=\"pt\"\n",
        "    )\n",
        "    encoded_input = {k: v.to(device) for k, v in encoded_input.items()}\n",
        "    model_output = imp_model(**encoded_input)\n",
        "    return cls_pooling(model_output)"
      ]
    },
    {
      "cell_type": "code",
      "execution_count": 26,
      "metadata": {
        "id": "27el6788Vh32",
        "outputId": "7ba1f604-edf1-434f-9ab5-5919fc13c3a4"
      },
      "outputs": [
        {
          "data": {
            "text/plain": [
              "torch.Size([1, 768])"
            ]
          },
          "execution_count": 26,
          "metadata": {},
          "output_type": "execute_result"
        }
      ],
      "source": [
        "embedding = get_embeddings(all_samples[0][\"claims\"][0])\n",
        "embedding.shape"
      ]
    },
    {
      "cell_type": "code",
      "execution_count": 27,
      "metadata": {
        "id": "dO9LHydvVh32"
      },
      "outputs": [
        {
          "name": "stderr",
          "output_type": "stream",
          "text": [
            "Map: 100%|██████████| 20/20 [00:04<00:00,  4.04 examples/s]\n",
            "Map: 100%|██████████| 20/20 [00:05<00:00,  3.84 examples/s]\n"
          ]
        }
      ],
      "source": [
        "embedding_all_samples = []\n",
        "for idx, elem in enumerate(all_samples):\n",
        "    embedding_all_samples.append( elem.map(\n",
        "                                    lambda x: {\"embeddings\": get_embeddings(x[\"claims\"]).detach().cpu().numpy()[0]}\n",
        "                                    )\n",
        "                                )   "
      ]
    },
    {
      "cell_type": "code",
      "execution_count": 28,
      "metadata": {
        "id": "7RbZJfVZVh32"
      },
      "outputs": [
        {
          "name": "stderr",
          "output_type": "stream",
          "text": [
            "100%|██████████| 1/1 [00:00<?, ?it/s]\n"
          ]
        },
        {
          "data": {
            "text/plain": [
              "Dataset({\n",
              "    features: ['title', 'claims', 'ipc', 'claims_length', 'embeddings'],\n",
              "    num_rows: 20\n",
              "})"
            ]
          },
          "execution_count": 28,
          "metadata": {},
          "output_type": "execute_result"
        }
      ],
      "source": [
        "# for demonstration, assume we only have the first sample being tracked by FAISS:\n",
        "embedding_all_samples[0].add_faiss_index(column=\"embeddings\")"
      ]
    },
    {
      "cell_type": "code",
      "execution_count": 29,
      "metadata": {},
      "outputs": [
        {
          "data": {
            "text/plain": [
              "(\"A method of assaying nucleic acids in a sample, comprising the steps of: a) adding multiple sets of probes into the sample to form a mixture, each set of probes comprising: i. a first probe having a first portion at least partially complementary to a first region of a target nucleic acid in the sample and a second portion forming a first primer binding site;ii. a second probe having a first portion at least partially complementary to a second region of the target nucleic acid in the sample and a second portion forming a second primer binding site, wherein the 5' end of the first probe is adjacent to the 3' end of the second probe when both probes are hybridized to the target nucleic acid;b) denaturing nucleic acids in the mixture;c) hybridizing the set of probes to the complementary regions of the target nucleic acid;d) performing a ligation reaction with a ligase enzyme on the set of hybridized probes to connect the adjacent 5' end of the first probe and the 3' end of the second probe to form a third probe, wherein steps b-d are repeated 1-100 times;e) amplifying the third probe with multiple sets of primers to obtain an amplification product, each set of primers comprising: i. a first primer at least partially complementary to the first primer binding site in one or more first probes of the multiple sets of probes;ii. a second primer at least partially complementary to the second primer binding site in one or more second probes of the multiple sets of probes;f) assaying the presence, absence or quantity of the target nucleic acid in the sample by determining the presence, absence or quantity of the third probe in the amplification product; and wherein at least one primer of each set of primers is labeled with a detectable moiety; and at least one primer of the multiple sets of primers includes a stuffer sequence; and at least one probe of the multiple sets of probes includes a stuffer sequence, wherein the measurement is carried out using capillary electrophoresis.The method of claim 1, wherein the stuffer sequence in the at least one primer of the multiple sets of primers has about 10 to about 500 nucleotides, preferably about 10 to about 60 nucleotides; and/or the stuffer sequence in the at least one probe of the multiple sets of probes has about 1 to about 200 nucleotides, preferably about 1 to about 55 nucleotides.The method of claim 1 or 2, wherein at least one primer of each set of primers includes an oligonucleotide comprising a sequence GTTTCTT or a functional equivalent variant of the oligonucleotide comprising a sequence GTTTCTT.The method of any one of preceding claims, wherein the determination of the presence, absence or quantity of the third probe in the amplification product is carried out by measuring the presence, absence or quantity of the third probe in the amplification product on the basis of detectable moieties, fragment sizes, or both.The method of any one of preceding claims, wherein the moiety is a fluorescent dye; preferably the moiety is a fluorescent dye selected from the group consisting of FAM (5-or 6-carboxyfluorescein), VIC, NED, PET, Fluorescein, FITC, IRD-700/800, CY3, CY5, CY3.5, CY5.5, HEX, TET, TAMRA, JOE, ROX, BODIPY TMR, Oregon Green, Rhodamine Green, Rhodamine Red, Texas Red, and Yakima Yellow.The method of any one of preceding claims, wherein the target nucleic acid is the dystrophin gene having a deletion of one or more exons and the sets of probes for assaying the dystrophin gene comprise one or more probe pairs selected from SEQ ID NOs: 158-541; or the target nucleic acid corresponds to a part of human chromosome 21 and the sets of probes for assaying the part of human chromosome 21 comprise probe pairs selected from SEQ ID NOs: 559-942.The method of any one of preceding claims, wherein the denaturing step is carried at about 90°C to about 99°C for about 5 seconds to about 30 minutes, and the hybridization and the ligation steps are carried out simultaneously at about 4°C to about 70°C for about 1 minute to about 48 hours, preferably the denaturing step is carried at about 95°C for about 30 seconds, and the hybridization and the ligation steps are carried out simultaneously at about 58°C for about 4 hours, and the steps of denaturing, hybridization and ligation are repeated 4 times.The method of any one of preceding claims, wherein two or more sets of probes are used to hybridize to two or more target sites in the target nucleic acid, with each set of probes hybridizing to a different target site.The method of any one of preceding claims, wherein the target nucleic acid has a quantitative variation of about 0.1% to about 30% between two samples.The method of any one of preceding claims, wherein one set of primers is used to amplify a group of the third probes, said group of the third probes comprises multiple third probes which are formed from multiple sets of probes hybridizing to multiple target sites and from multiple sets of reference probes hybridizing to multiple reference target sites.The method of any one of preceding claims, wherein the multiple third probes in the group are formed from about 1 to about 100 sets of probes hybridizing to target sites and about 1 to about 100 sets of reference probes.The method of any one of preceding claims, wherein about 50 to about 500 sets of probes are used to hybridize to about 50 to about 500 target sites on the target nucleic acid.The method of any one of preceding claims, wherein the target nucleic acid corresponds to at least a part of human chromosome 21, human chromosome 18, human chromosome 13, human chromosome region 22q11.2, or the pseudoautosomal regions of human chromosomes X or Y in a maternal blood or urine sample.The method of any one of preceding claims, wherein the copy number of each target site is determined by the following four steps: a) a ratio of the quantity of the third probe targeting the target site to the quantity of the third probe in the same group targeting one reference sites are calculated; b) a copy number value is calculated by this ratio value in a test sample divided by the corresponding ratio value in a control sample or the median value of the corresponding ratio values in all control samples or all test samples, and then times 2; c) more copy number values are calculated by repeating a-b by using the quantity of another third probe in the same group targeting another reference sites in step a; d) the copy number of each target site is calculated by taking the average or median of all the copy number values with or without abandoning egregious value.The method of any one of preceding claims, further comprising a step of determining the copy number of the target nucleic acid in a sample by taking the average or median of the copy numbers of all target sites on the target nucleic acid or by taking the average or median of the copy numbers of all target sites on the target nucleic acid after abandoning egregious values.A kit for assaying nucleic acids in a sample according to claims 1-15, comprising: a) multiple sets of probes corresponding to a target nucleic acid, each set of probes comprising: i. a first probe having a first portion at least partially complementary to a first region of a target nucleic acid in the sample and a second portion forming a first primer binding site;ii. a second probe having a first portion at least partially complementary to a second region of the target nucleic acid in the sample and a second portion forming a second primer binding site, wherein the 5' end of the first probe is adjacent to the 3' end of the second probe when both probes are hybridized to the target nucleic acid and the first and the second probes may be ligated to form a third probe;b) multiple sets of primers for amplifying the third probe, wherein each set of multiple sets of primers comprising: i. a first primer at least partially complementary to the first primer binding site in one or more first probes of the multiple sets of probes;ii. a second primer at least partially complementary to the second primer binding site in one or more second probes of the multiple sets of probes;c) reagents including a ligase, a buffer for a ligation reaction, a DNA polymerase, a buffer for a polymerase chain reaction, or a combination thereof; andd) optionally a brochure containing instructions of using the kit; wherein at least one primer of each set of primers is labeled with a detectable moiety; and at least one primer of the multiple sets of primers includes a stuffer sequence; and at least one probe of the multiple sets of probes includes a stuffer sequence, wherein the measurement is carried out using capillary electrophoresis.\",\n",
              " 'METHOD FOR MULTIPLEX NUCLEIC ACID ANALYSIS')"
            ]
          },
          "execution_count": 29,
          "metadata": {},
          "output_type": "execute_result"
        }
      ],
      "source": [
        "# from the embedded samples, get some idea for testing questions:\n",
        "embedding_all_samples[0]['claims'][0], embedding_all_samples[0]['title'][0]"
      ]
    },
    {
      "cell_type": "code",
      "execution_count": 30,
      "metadata": {
        "id": "0TYuteMRVh32",
        "outputId": "06a98363-a102-4efa-9f1d-7c0666471847"
      },
      "outputs": [
        {
          "data": {
            "text/plain": [
              "(1, 768)"
            ]
          },
          "execution_count": 30,
          "metadata": {},
          "output_type": "execute_result"
        }
      ],
      "source": [
        "# question = \"How can I load a dataset offline?\"\n",
        "question = \"How to test nucleic acids in a sample\"\n",
        "question_embedding = get_embeddings([question]).cpu().detach().numpy()\n",
        "question_embedding.shape"
      ]
    },
    {
      "cell_type": "code",
      "execution_count": 31,
      "metadata": {
        "id": "42Mxc3zUVh32"
      },
      "outputs": [],
      "source": [
        "scores, samples = embedding_all_samples[0].get_nearest_examples(\n",
        "    \"embeddings\", question_embedding, k=5\n",
        ")"
      ]
    },
    {
      "cell_type": "code",
      "execution_count": 32,
      "metadata": {
        "id": "CEY-C86lVh32"
      },
      "outputs": [],
      "source": [
        "samples_df = pd.DataFrame.from_dict(samples)\n",
        "samples_df[\"scores\"] = scores\n",
        "samples_df.sort_values(\"scores\", ascending=False, inplace=True)"
      ]
    },
    {
      "cell_type": "code",
      "execution_count": 33,
      "metadata": {
        "id": "YNm1oWXmVh32",
        "outputId": "249ba260-bbd1-4e3d-f99e-148f29e721aa"
      },
      "outputs": [
        {
          "name": "stdout",
          "output_type": "stream",
          "text": [
            "TITLE: POLYMER-BIOACTIVE AGENT CONJUGATES\n",
            "SCORE: 338.6058349609375\n",
            "CLAIMS: A bioerodible polymer - bioactive agent conjugate comprising as part of its polymer backbone a moiety of general formula (I):  wherein: A and B, which may be the same or different, represent the remainder of the polymer backbone and are (i) attached to the -O-R(ZD)-O- moiety as shown in formula (I) via a bioerodible moiety, and (ii) comprise a poly(urethane-ester) having monomeric units coupled via bioerodible urethane or ester moieties;R represents a linear or branched optionally substituted hydrocarbon;Z is a linking group; andD is a releasable bioactive agent.The bioerodible polymer - bioactive agent conjugate according to claim 1, wherein A and B each comprise a copolymer of polyurethane and polyester.The bioerodible polymer - bioactive agent conjugate according to claim 1 or claim 2, which comprises less than 25 mol% of polymerised residues that are derived from a C2 diol, relative to the total number of moles of polymerized diol residues.The bioerodible polymer - bioactive agent conjugate according to any one of claims 1 to 3, wherein D is coupled through Z to R by an ester, amide, anhydride, imide, carbonate, peroxide, peroxyester, thiol, phosphate ester, thioester, sulphate ester, carbamate, azo or boronate ester moiety.The bioerodible polymer - bioactive agent conjugate according to claim 4, wherein Z is selected from -O-; -C(O)-; and optionally substituted: -OC(O)-C1-18alkylene-C(O)-; -C(O)O-C1-18alkylene-C(O)-; -NRaC(O)-C1-18alkylene-C(O)-; -C(O)O-C1-18alkylene-O-; -O-C1-18alkylene-O-; -O-C1-18alkylene-NRa-; -OC(O)-C1-18alkylene-NRa-; -C(O)-C1-18alkylene-NRa-; -OC(O)-C1-18alkylene-O-; -C(O)-C1-18alkylene-O-; and-C(O)NRa-C1-18alkylene-NRa- where Ra is selected from hydrogen, C1-18alkyl, C1-18alkenyl, C1-18alkynyl, C6-18aryl, C3-18carbocyclyl, C3-18heteroaryl, C3-18heterocyclyl, and C7-18arylalkyl.The bioerodible polymer - bioactive agent conjugate according to any one of claims 1 to 5, wherein R is a linear or branched optionally substituted hydrocarbon having from 1 to 12 carbon atoms.The bioerodible polymer - bioactive agent conjugate according to any one of claims 1 to 6, wherein the bioactive agent (D) is selected from 5-alpha-reductase inhibitors, amebicides, aminosalicylates, anaesthetics (general and local), analgesics, angiotensin inhibitors, anorexiants, antacid agents, anti-angiogenic agents, antianginal agents, antiarrythmic agents, antiarthritic agents, antibiotics, antibacterial agents, antibodies, anticoagulants, anticonvulsants, antidepressants, antiepileptic agents, antifungals, anthelmintics, antihistamines, antihypertensives, antihyperlipidemic agents, antiinfectives, antiinflammatories, antiemetics, antimalarial, antimetabolites, antimigraine, antimitotics, antiparasitic agents, antiparkinson agents, antipsychotics, antiprotozoals, antitussives, antiulcer agents, antivirals, anxiolytics, bronchodilators, decongestants and expectorants, cancer therapy and related pharmaceuticals, cardiovascular pharmaceuticals, central nervous system pharmaceuticals, benzopidazepines, beta-adrenergic blocking agents, bisphosphonates, calcium channel blockers, carbonic anhydrase inhibitors, chemokine receptor antagonist, coumarins and indadiones, cox-2 inhibitors, contraceptives, cytotoxics, diuretics, diabetes therapies, growth hormones, fertility pharmaceuticals, hematinics, glucose modifying agents, growth promoters, H2 antagonists, heparin and heparin antagonists, hormone replacement therapies, hemostatics, immunosuppressants, immunostimulants, inotropic agents, interferons, hormones and analogs, impotence agents, kinase inhibitors, laxatives, leukotriene modifiers, macrolides, mast cell stabilizers, muscle relaxants/stimulants, mydiratics, neuromuscular blocking agents, obesity therapeutics, ophthalmic pharmaceuticals, osteoporosis drugs, pain therapeutics, peptides and polypeptides, peripheral vasodilators, platelet inhibitors/stimulating agents, prolactin inhibitors, protease inhibitors, protein therapeutics, proton pump inhibtors, radiopharmaceuticals, respiratory pharmaceuticals, sedatives, spermicides, steroids, smoking cessation agents, statins, stimulants and tranquilizers, sulphonamides, thyroid drugs, urinary acidifiers/alkalinisers, and vasodilators.The bioerodible polymer - bioactive agent conjugate according to any one of claims 1 to 7, wherein the bioactive agent (D) is selected from fluoroquinolone antibiotics.The bioerodible polymer - bioactive agent conjugate according to claim 8, wherein the bioactive agent (D) is selected from alatrofloxacin, balofloxacin, ciprofloxacin, clinafloxacin, danofoxacin, delafloxacin, dextrofloxacin, difloxacin, enoxacin, enrofloxacin, garenoxacin, gatifloxacin, gemifloxacin, grepafloxacin, levofloxacin, lomefloxacin, marbofloxacin, moxifloxacin, nadifloxacin, norfloxacin, ofloxacin, orbifloxacin, pefloxacin, sitafloxacin, sparfloxacin, temafloxacin, tosufloxacin, tosulfloxacin and trovafloxacin.The bioerodible polymer - bioactive agent conjugate according to any one of claims 1 to 9, obtainable by polymerising a monomer - bioactive moiety conjugate of formula (II):  where: R represents a linear or branched optionally substituted hydrocarbon;Z is a spacer moiety; andD is a releasable bioactive moiety; with a polyisocyanate and a polyester polyol.The bioerodible polymer - bioactive agent conjugate according to claim 10, wherein the polyisocyanate is selected from the group consisting of m-phenylene diisocyanate, p-phenylene diisocyanate, 2,4-toluene diisocyanate, 2,6-toluene diisocyanate, 1,6-hexamethylene diisocyanate, 1,4-hexamethylene diisocyanate, 1,3-cyclohexane diisocyanate, 1,4-cyclohexane diisocyanate, hexahydro-toluene diisocyanate and its isomers, isophorone diisocyanate, dicyclo-hexylmethane diisocyanates, 1,5-napthylene diisocyanate, 4,4'-diphenylmethane diisocyanate, 2,4' diphenylmethane diisocyanate, 4,4'-biphenylene diisocyanate, 3,3'-dimethoxy-4,4'-biphenylene diisocyanate, 3,3'-dimethyl-diphenylpropane-4,4'-diisocyanate, 2,4,6-toluene triisocyanate, 4,4'-dimethyl-diphenylmethane-2,2',5,5'-tetraisocyanate, polymethylene polyphenhyl polyisocyanates and alkyl esters of lysine diisocyanate (preferably ethyl ester of lysine diisocyanate) and combinations thereof.The bioerodible polymer - bioactive agent conjugate according to any one of claims 10 or claim 11, wherein the polyester polyol is selected from the group consisting of polycaprolactone diol (PCLD), poly(DL lactide) (DLLA) and poly(lactic acid-co-glycolic acid) (PLGA) and combinations thereof.A process for preparing a bioerodible polymer - bioactive agent conjugate according to any one of claims 1 to 9, said process comprising the step of polymerising a monomer - bioactive agent conjugate of formula (II):  wherein: R, Z and D are as defined in any one of claims 1 to 9;with a polyisocyanate and a polyester polyol.A monomer - bioactive agent conjugate that is suitable for use in preparing a bioerodible polymer - bioactive agent conjugate, the monomer - bioactive agent conjugate having a structure of general formula (II):  wherein: R represents a linear or branched optionally substituted hydrocarbon;Z is a linking group; andD is a releasable bioactive agent selected from fluoroquinolone antibiotics.A monomer - bioactive agent conjugate according to claim 14, wherein the bioactive agent (D) is selected from alatrofloxacin, balofloxacin, ciprofloxacin, clinafloxacin, danofoxacin, delafloxacin, dextrofloxacin, difloxacin, enoxacin, enrofloxacin, garenoxacin, gatifloxacin, gemifloxacin, grepafloxacin, levofloxacin, lomefloxacin, marbofloxacin, moxifloxacin, nadifloxacin, norfloxacin, ofloxacin, orbifloxacin, pefloxacin, sitafloxacin, sparfloxacin, temafloxacin, tosufloxacin, tosulfloxacin and trovafloxacin.\n",
            "==================================================\n",
            "\n",
            "TITLE: RNA sequence-specific mediators of RNA interference\n",
            "SCORE: 319.7586364746094\n",
            "CLAIMS: Isolated double stranded RNA of from 21 to 23 nucleotides that mediates RNA interference of an mRNA to which it corresponds, provided that the double stranded RNA is not ucg agc ugg acg gcg acg uaa, chemically linked at the 3' end to the 5' end of the complementary RNA by a C18 linker group.Isolated dsRNA of claim 1 that comprises a terminal 3' hydroxyl group.Isolated dsRNA of claim 1 which is synthetic RNA or comprises non-naturally occurring nucleotides.Isolated dsRNA of from 21 to 23 nucleotides that directs cleavage of specific mRNA to which its sequence corresponds, provided that the double stranded RNA is not ucg agc ugg acg gcg acg uaa, chemically linked at the 3' end to the 5' end of the complementary RNA by a C18 linker group.Double stranded RNA of from 21 to 23 nucleotides for use in a method of treating a disease or condition associated with the presence of a protein in an individual comprising administering to the individual dsRNA of from 21 to 23 nucleotides that targets the mRNA of the protein for degradation.The dsRNA for use in the method of claim 5 wherein dsRNA of from 21 to 23 nucleotides is synthetic RNA or comprises non-naturally occurring nucleotides.A pharmaceutical composition comprising dsRNA of from 21 to 23 nucleotides that mediates RNA interference and an appropriate carrier, provided that the double stranded RNA is not ucg agc ugg acg gcg acg uaa, chemically linked at the 3' end to the 5' end of the complementary RNA by a C18 linker group.Use of dsRNA of claim 1 to 4 for specifically inactivating gene function in vitro, provided that the double stranded RNA is not ucg agc ugg acg gcg acg uaa, chemically linked at the 3' end to the 5' end of the complementary RNA by a C18 linker group.\n",
            "==================================================\n",
            "\n",
            "TITLE: COMPOSITIONS FOR INCREASING POLYPEPTIDE STABILITY AND ACTIVITY, AND RELATED METHODS\n",
            "SCORE: 239.78807067871094\n",
            "CLAIMS: A fusion polypeptide comprising: i) a peptide tag comprising an amino acid sequence that has at least 70% identity to SEQ ID NO: 1, wherein the identity is determined over the entire length of SEQ ID NO: 1; andii) at least one reverse transcriptase polypeptide, wherein the peptide tag is linked to the at least one reverse transcriptase polypeptide, and the peptide tag stabilizes the at least one reverse transcriptase polypeptide when exposed to temperatures between -20°C and 50°C.A kit comprising: a solution comprising the fusion polypeptide of claim 1;a buffer solution; anda solution comprising 2'-deoxynucleoside 5'-triphosphates.The fusion polypeptide of claim 1 or the kit of claim 2, wherein the peptide tag comprises an amino acid sequence that has at least 90% identity to SEQ ID NO: 1, and wherein the identity is determined over the entire length of SEQ ID NO: 1.The fusion polypeptide of claim 1 or the kit of claim 2, wherein the peptide tag comprises an amino acid sequence that has at least 95% identity to SEQ ID NO: 1, and wherein the identity is determined over the entire length of SEQ ID NO: 1.The fusion polypeptide of claim 1 or the kit of claim 2, wherein the peptide tag is SEQ ID NO: 1, SEQ ID NO: 13, SEQ ID NO: 14, SEQ ID NO: 16, or SEQ ID NO: 18.The fusion polypeptide of claim 1 or the kit of claim 2, wherein the peptide tag is linked to the amino-terminus of the at least one reverse transcriptase polypeptide.The fusion polypeptide of claim 1 or the kit of claim 2, wherein the peptide tag is linked to the carboxyl-terminus of the at least one reverse transcriptase polypeptide.The fusion polypeptide of claim 1 or the kit of claim 2, wherein the fusion polypeptide comprises the peptide tag linked to the amino-terminus of the at least one reverse transcriptase polypeptide and a second peptide tag of claim 1 linked to the carboxyl-terminus of the at least one reverse transcriptase polypeptide.The fusion polypeptide of claim 1 or the kit of claim 2, wherein the at least one reverse transcriptase polypeptide is a Maloney murine leukemia virus (M-MLV) reverse transcriptase.The kit of claim 2, further comprising an oligonucleotide.The kit of claim 2, further comprising a FRET dye.The fusion polypeptide of claim 1 or the kit of claim 2, wherein the fusion polypeptide retains at least 50% of its enzymatic activity when exposed to temperatures between -20°C and 35°C for at least one week.The fusion polypeptide of claim 1 or the kit of claim 2, wherein the fusion polypeptide retains at least 50% of its enzymatic activity when exposed to temperatures between -20°C and 35°C for at least one month.A method of increasing stability of a polypeptide comprising: providing a peptide tag that has an amino acid sequence with at least 80% identity to SEQ ID NO: 1; andcovalently linking the polypeptide to the peptide tag with at least 80% identity to SEQ ID NO:1, wherein the identity is determined over the entire length of SEQ ID NO: 1.The method of claim 14, wherein the peptide tag comprises at least two histidine residues.The method of claim 14, wherein the peptide tag comprises a protease cleavage site or wherein the peptide tag comprises an amino acid sequence DDDDK.The method of claim 14, wherein the peptide tag is linked to the amino-terminus of the polypeptide.The method of claim 14, wherein the peptide tag is linked to the carboxyl-terminus of the polypeptide.The method of claim 17, wherein the peptide tag is linked to an amino-terminus of the polypeptide and a second peptide tag of claim 1 is linked to the carboxyl-terminus of the polypeptide.The method of claim 14, wherein the polypeptide is an enzyme, and the peptide tag stabilizes the polypeptide activity such that the polypeptide retains at least 50% of its activity when exposed to temperatures between -20°C and 35°C for at least one week.The method of claim 14, wherein the polypeptide is an enzyme, and the peptide tag stabilizes the polypeptide activity such that the polypeptide retains at least 50% of its activity when exposed to temperatures between -20°C and 35°C for at least one month.The method of claim 14, wherein the polypeptide is a reverse transcriptase.The method of claim 22, wherein the reverse transcriptase is a Maloney murine leukemia virus (M-MLV) reverse transcriptase.The method of claim 22, wherein the reverse transcriptase comprises an RNase H activity.The fusion polypeptide of claim 1 or the kit of claim 2, wherein the at least one reverse transcriptase polypeptide comprises an RNAase H activity.The fusion polypeptide of claim 1 or the kit of claim 2, wherein the fusion polypeptide retains enzymatic activity after exposure to a temperature of 20 °C to 30 °C for at least one day and wherein the enzymatic activity is at least 50% of the activity of the fusion polypeptide prior to exposure to the temperature.\n",
            "==================================================\n",
            "\n",
            "TITLE: METHODS FOR ISOLATING BACTERIA\n",
            "SCORE: 191.32444763183594\n",
            "CLAIMS: A method to identify or isolate a bacterium which produces a metabolite selected from antibiotics and anti-fungal agents, the method comprising: a) providing a sample comprising uncharacterized bacteria;b) subjecting the sample to at least 3 UV treatments of between 0.5 and 400 mJ/cm2, irradiations being carried out at an interval of between 3 and 5 hours;c) identifying or isolating a living or growing bacterium from said treated sample; andd) selecting a bacterium of step c) which produces the metabolite.The method of claim 1, wherein the sample is or derives from an environmental sample, preferably obtained or derived from soil, water, hot springs, marine environment, mud, wood, stone, moss, vegetal extract, lichen, biological material, sediment, peatlands, biofilm, industrial effluents, gas, sand, oil, sewage, animal or human dejection.The method of claim 1 or 2, wherein said treatment comprises repeated irradiations at intervals of 4 hours.The method of any one of claims 1 to 3, further comprising a step of selecting a Deinococcus bacterium.The method of any one of the preceding claims, wherein step b) is performed in a solid culture medium.The method of any one of the preceding claims, wherein, in step c), colonies are identified or isolated.The method of any one of the preceding claims, wherein steps c) and d) are performed sequentially, in any order, or simultaneously.The method of any one of the preceding claims, wherein step d) comprises exposing identified or isolated bacteria of step c), or an extract thereof, to one or several indicator cells and selecting a bacterium which affects the viability, growth, metabolism, mobility, RNA expression, protein expression, protein secretion or virus production of at least one of said indicator cells.The method of any one of the preceding claims, wherein the method comprises a further step of isolating or purifying said metabolite.The method of any one of the preceding claims, wherein the metabolite is an antibiotic.The method of claim 1, wherein the metabolite is an antibiotic and wherein step d) comprises exposing identified or isolated bacteria of step c), or an extract thereof, to a reference bacterial strain and identifying or isolating a bacterium which exhibits an antibiotic activity.The method of claim 11, further comprising a step of isolating or purifying the antibiotic compound produced by said bacterium.The method of any one of the preceding claims, which further comprises a step of selecting a bacterium which is viable or grows under selected culture conditions, such as media, nutrients, temperature, pH, salinity, oxygenation, co-culture, bioreactors or carbon source.The method of any one of the preceding claims, which further comprises a step of modifying, either biologically, genetically and/or chemically, the identified or isolated bacteria, or their DNA, in order to improve the viability, growth or functions of the said bacterium.\n",
            "==================================================\n",
            "\n",
            "TITLE: METHOD FOR MULTIPLEX NUCLEIC ACID ANALYSIS\n",
            "SCORE: 87.96330261230469\n",
            "CLAIMS: A method of assaying nucleic acids in a sample, comprising the steps of: a) adding multiple sets of probes into the sample to form a mixture, each set of probes comprising: i. a first probe having a first portion at least partially complementary to a first region of a target nucleic acid in the sample and a second portion forming a first primer binding site;ii. a second probe having a first portion at least partially complementary to a second region of the target nucleic acid in the sample and a second portion forming a second primer binding site, wherein the 5' end of the first probe is adjacent to the 3' end of the second probe when both probes are hybridized to the target nucleic acid;b) denaturing nucleic acids in the mixture;c) hybridizing the set of probes to the complementary regions of the target nucleic acid;d) performing a ligation reaction with a ligase enzyme on the set of hybridized probes to connect the adjacent 5' end of the first probe and the 3' end of the second probe to form a third probe, wherein steps b-d are repeated 1-100 times;e) amplifying the third probe with multiple sets of primers to obtain an amplification product, each set of primers comprising: i. a first primer at least partially complementary to the first primer binding site in one or more first probes of the multiple sets of probes;ii. a second primer at least partially complementary to the second primer binding site in one or more second probes of the multiple sets of probes;f) assaying the presence, absence or quantity of the target nucleic acid in the sample by determining the presence, absence or quantity of the third probe in the amplification product; and wherein at least one primer of each set of primers is labeled with a detectable moiety; and at least one primer of the multiple sets of primers includes a stuffer sequence; and at least one probe of the multiple sets of probes includes a stuffer sequence, wherein the measurement is carried out using capillary electrophoresis.The method of claim 1, wherein the stuffer sequence in the at least one primer of the multiple sets of primers has about 10 to about 500 nucleotides, preferably about 10 to about 60 nucleotides; and/or the stuffer sequence in the at least one probe of the multiple sets of probes has about 1 to about 200 nucleotides, preferably about 1 to about 55 nucleotides.The method of claim 1 or 2, wherein at least one primer of each set of primers includes an oligonucleotide comprising a sequence GTTTCTT or a functional equivalent variant of the oligonucleotide comprising a sequence GTTTCTT.The method of any one of preceding claims, wherein the determination of the presence, absence or quantity of the third probe in the amplification product is carried out by measuring the presence, absence or quantity of the third probe in the amplification product on the basis of detectable moieties, fragment sizes, or both.The method of any one of preceding claims, wherein the moiety is a fluorescent dye; preferably the moiety is a fluorescent dye selected from the group consisting of FAM (5-or 6-carboxyfluorescein), VIC, NED, PET, Fluorescein, FITC, IRD-700/800, CY3, CY5, CY3.5, CY5.5, HEX, TET, TAMRA, JOE, ROX, BODIPY TMR, Oregon Green, Rhodamine Green, Rhodamine Red, Texas Red, and Yakima Yellow.The method of any one of preceding claims, wherein the target nucleic acid is the dystrophin gene having a deletion of one or more exons and the sets of probes for assaying the dystrophin gene comprise one or more probe pairs selected from SEQ ID NOs: 158-541; or the target nucleic acid corresponds to a part of human chromosome 21 and the sets of probes for assaying the part of human chromosome 21 comprise probe pairs selected from SEQ ID NOs: 559-942.The method of any one of preceding claims, wherein the denaturing step is carried at about 90°C to about 99°C for about 5 seconds to about 30 minutes, and the hybridization and the ligation steps are carried out simultaneously at about 4°C to about 70°C for about 1 minute to about 48 hours, preferably the denaturing step is carried at about 95°C for about 30 seconds, and the hybridization and the ligation steps are carried out simultaneously at about 58°C for about 4 hours, and the steps of denaturing, hybridization and ligation are repeated 4 times.The method of any one of preceding claims, wherein two or more sets of probes are used to hybridize to two or more target sites in the target nucleic acid, with each set of probes hybridizing to a different target site.The method of any one of preceding claims, wherein the target nucleic acid has a quantitative variation of about 0.1% to about 30% between two samples.The method of any one of preceding claims, wherein one set of primers is used to amplify a group of the third probes, said group of the third probes comprises multiple third probes which are formed from multiple sets of probes hybridizing to multiple target sites and from multiple sets of reference probes hybridizing to multiple reference target sites.The method of any one of preceding claims, wherein the multiple third probes in the group are formed from about 1 to about 100 sets of probes hybridizing to target sites and about 1 to about 100 sets of reference probes.The method of any one of preceding claims, wherein about 50 to about 500 sets of probes are used to hybridize to about 50 to about 500 target sites on the target nucleic acid.The method of any one of preceding claims, wherein the target nucleic acid corresponds to at least a part of human chromosome 21, human chromosome 18, human chromosome 13, human chromosome region 22q11.2, or the pseudoautosomal regions of human chromosomes X or Y in a maternal blood or urine sample.The method of any one of preceding claims, wherein the copy number of each target site is determined by the following four steps: a) a ratio of the quantity of the third probe targeting the target site to the quantity of the third probe in the same group targeting one reference sites are calculated; b) a copy number value is calculated by this ratio value in a test sample divided by the corresponding ratio value in a control sample or the median value of the corresponding ratio values in all control samples or all test samples, and then times 2; c) more copy number values are calculated by repeating a-b by using the quantity of another third probe in the same group targeting another reference sites in step a; d) the copy number of each target site is calculated by taking the average or median of all the copy number values with or without abandoning egregious value.The method of any one of preceding claims, further comprising a step of determining the copy number of the target nucleic acid in a sample by taking the average or median of the copy numbers of all target sites on the target nucleic acid or by taking the average or median of the copy numbers of all target sites on the target nucleic acid after abandoning egregious values.A kit for assaying nucleic acids in a sample according to claims 1-15, comprising: a) multiple sets of probes corresponding to a target nucleic acid, each set of probes comprising: i. a first probe having a first portion at least partially complementary to a first region of a target nucleic acid in the sample and a second portion forming a first primer binding site;ii. a second probe having a first portion at least partially complementary to a second region of the target nucleic acid in the sample and a second portion forming a second primer binding site, wherein the 5' end of the first probe is adjacent to the 3' end of the second probe when both probes are hybridized to the target nucleic acid and the first and the second probes may be ligated to form a third probe;b) multiple sets of primers for amplifying the third probe, wherein each set of multiple sets of primers comprising: i. a first primer at least partially complementary to the first primer binding site in one or more first probes of the multiple sets of probes;ii. a second primer at least partially complementary to the second primer binding site in one or more second probes of the multiple sets of probes;c) reagents including a ligase, a buffer for a ligation reaction, a DNA polymerase, a buffer for a polymerase chain reaction, or a combination thereof; andd) optionally a brochure containing instructions of using the kit; wherein at least one primer of each set of primers is labeled with a detectable moiety; and at least one primer of the multiple sets of primers includes a stuffer sequence; and at least one probe of the multiple sets of probes includes a stuffer sequence, wherein the measurement is carried out using capillary electrophoresis.\n",
            "==================================================\n",
            "\n"
          ]
        }
      ],
      "source": [
        "for _, row in samples_df.iterrows():\n",
        "    print(f\"TITLE: {row.title}\")\n",
        "    print(f\"SCORE: {row.scores}\")\n",
        "    print(f\"CLAIMS: {row.claims}\")\n",
        "    print(\"=\" * 50)\n",
        "    print()"
      ]
    },
    {
      "cell_type": "markdown",
      "metadata": {},
      "source": [
        "# Save and reload FAISS database\n",
        "\n",
        "**references:**\n",
        "\n",
        "[1] https://huggingface.co/docs/datasets/v1.2.0/faiss_and_ea.html\n",
        "\n",
        "[2] https://discuss.huggingface.co/t/save-and-load-datasets/9260"
      ]
    },
    {
      "cell_type": "markdown",
      "metadata": {},
      "source": [
        "## Save\n",
        "\n",
        "IMPORTANT:\n",
        "\n",
        "[1] must save the dataset which contains the corresponding computed embeddings"
      ]
    },
    {
      "cell_type": "code",
      "execution_count": 34,
      "metadata": {},
      "outputs": [
        {
          "name": "stdout",
          "output_type": "stream",
          "text": [
            "../backend-API/data_embeddings/epo_dataset0\n"
          ]
        },
        {
          "name": "stderr",
          "output_type": "stream",
          "text": [
            "Saving the dataset (1/1 shards): 100%|██████████| 20/20 [00:00<?, ? examples/s]\n"
          ]
        },
        {
          "name": "stdout",
          "output_type": "stream",
          "text": [
            "../backend-API/data_embeddings/epo_dataset1\n"
          ]
        },
        {
          "name": "stderr",
          "output_type": "stream",
          "text": [
            "Saving the dataset (1/1 shards): 100%|██████████| 20/20 [00:00<?, ? examples/s]\n"
          ]
        }
      ],
      "source": [
        "for idx, elem in enumerate(embedding_all_samples):\n",
        "    saved_path = '../backend-API/data_embeddings/epo_dataset' + str(idx)\n",
        "    print(saved_path)\n",
        "    try:\n",
        "        elem.save_to_disk(saved_path)\n",
        "    except ValueError:\n",
        "        elem.drop_index('embeddings')\n",
        "        elem.save_to_disk(saved_path)\n",
        "# embedding_all_samples[0].save_to_disk('./data_embeddings/epo_dataset0')"
      ]
    },
    {
      "cell_type": "markdown",
      "metadata": {},
      "source": [
        "# Searching in multiple databse using FAISS index\n",
        "\n",
        "[1] https://huggingface.co/learn/cookbook/en/semantic_cache_chroma_vector_database\n",
        "\n",
        "[2] https://www.pinecone.io/learn/series/faiss/faiss-tutorial/"
      ]
    },
    {
      "cell_type": "code",
      "execution_count": 55,
      "metadata": {},
      "outputs": [
        {
          "name": "stdout",
          "output_type": "stream",
          "text": [
            "looking into: C:/Users/20245580/Documents/Others/EPO2025/EPO-CodeFest-2025/backend-API/data_embeddings\n",
            "['epo_dataset0', 'epo_dataset1']\n",
            "looking into: C:/Users/20245580/Documents/Others/EPO2025/EPO-CodeFest-2025/backend-API/data_embeddings\\epo_dataset0\n",
            "[]\n",
            "looking into: C:/Users/20245580/Documents/Others/EPO2025/EPO-CodeFest-2025/backend-API/data_embeddings\\epo_dataset1\n",
            "[]\n",
            "files: 6\n",
            "directories: ['epo_dataset0', 'epo_dataset1']\n"
          ]
        }
      ],
      "source": [
        "# check how many data files \n",
        "# ref: https://pythonclcoding.medium.com/count-files-and-folders-using-python-93e0f8dc9337#:~:text=dirs%20%2B%3D%20len(dirnames)%20%3A,directory%20to%20the%20files%20counter.\n",
        "PATH = 'C:/Users/20245580/Documents/Others/EPO2025/EPO-CodeFest-2025/backend-API/data_embeddings'\n",
        "files, dir_names = 0, []\n",
        "for root, dirnames, filenames in os.walk(PATH):\n",
        "    print(f\"looking into: {root}\")\n",
        "    if dirnames != []:\n",
        "        for idx, elem in enumerate(dirnames):\n",
        "            dir_names.append(elem)\n",
        "    print(dirnames)\n",
        "    files += len(filenames)\n",
        "\n",
        "print(f\"files: {files}\")\n",
        "print(f\"directories: {dir_names}\")\n"
      ]
    },
    {
      "cell_type": "code",
      "execution_count": 57,
      "metadata": {},
      "outputs": [
        {
          "name": "stdout",
          "output_type": "stream",
          "text": [
            "Dataset({\n",
            "    features: ['title', 'claims', 'ipc', 'claims_length', 'embeddings'],\n",
            "    num_rows: 20\n",
            "}) 2\n"
          ]
        }
      ],
      "source": [
        "from datasets import load_from_disk\n",
        "load_all_dataset = []\n",
        "for idx, names in enumerate(dir_names):\n",
        "    dataset_name = PATH + '/'+ names\n",
        "    loaded_dataset = load_from_disk(dataset_name)\n",
        "    load_all_dataset.append(loaded_dataset)\n",
        "print( load_all_dataset[0],\n",
        "     len(load_all_dataset)\n",
        "    )"
      ]
    },
    {
      "cell_type": "code",
      "execution_count": 37,
      "metadata": {},
      "outputs": [
        {
          "name": "stdout",
          "output_type": "stream",
          "text": [
            "Dataset({\n",
            "    features: ['title', 'claims', 'ipc', 'claims_length', 'embeddings'],\n",
            "    num_rows: 20\n",
            "}) INHALATION PARTICLES: method of preparation METHOD FOR MULTIPLEX NUCLEIC ACID ANALYSIS\n"
          ]
        }
      ],
      "source": [
        "print(\n",
        "    load_all_dataset[1],\n",
        "    load_all_dataset[1]['title'][0],\n",
        "    load_all_dataset[0]['title'][0]\n",
        ")"
      ]
    },
    {
      "cell_type": "code",
      "execution_count": 87,
      "metadata": {},
      "outputs": [],
      "source": [
        "from datasets import concatenate_datasets\n",
        "all_dataset = concatenate_datasets(load_all_dataset)"
      ]
    },
    {
      "cell_type": "code",
      "execution_count": 88,
      "metadata": {},
      "outputs": [
        {
          "data": {
            "text/plain": [
              "Dataset({\n",
              "    features: ['title', 'claims', 'ipc', 'claims_length', 'embeddings'],\n",
              "    num_rows: 40\n",
              "})"
            ]
          },
          "execution_count": 88,
          "metadata": {},
          "output_type": "execute_result"
        }
      ],
      "source": [
        "all_dataset"
      ]
    },
    {
      "cell_type": "markdown",
      "metadata": {},
      "source": [
        "## FAISS "
      ]
    },
    {
      "cell_type": "code",
      "execution_count": 89,
      "metadata": {},
      "outputs": [],
      "source": [
        "import numpy as np\n",
        "import faiss"
      ]
    },
    {
      "cell_type": "code",
      "execution_count": 103,
      "metadata": {},
      "outputs": [
        {
          "name": "stdout",
          "output_type": "stream",
          "text": [
            "(40, 768)\n",
            "True\n",
            "40\n"
          ]
        }
      ],
      "source": [
        "# get the stored embeddings \n",
        "test_emds = np.array(all_dataset['embeddings'])\n",
        "print(test_emds.shape)\n",
        "\n",
        "# add faiss index\n",
        "index_faiss = faiss.IndexFlatL2(test_emds.shape[1]) \n",
        "print(index_faiss.is_trained)\n",
        "index_faiss.add(test_emds)                  # add vectors to the index\n",
        "print(index_faiss.ntotal)"
      ]
    },
    {
      "cell_type": "code",
      "execution_count": 104,
      "metadata": {},
      "outputs": [
        {
          "data": {
            "text/plain": [
              "(1, 768)"
            ]
          },
          "execution_count": 104,
          "metadata": {},
          "output_type": "execute_result"
        }
      ],
      "source": [
        "question = \"How to test nuclear acids in a sample?\"\n",
        "question_embedding = get_embeddings([question]).cpu().detach().numpy()\n",
        "question_embedding.shape"
      ]
    },
    {
      "cell_type": "code",
      "execution_count": 105,
      "metadata": {},
      "outputs": [
        {
          "name": "stdout",
          "output_type": "stream",
          "text": [
            "[ 2  8 28 16 18]\n",
            "[177.28308 183.54887 212.45772 240.05504 245.35034]\n"
          ]
        }
      ],
      "source": [
        "k = 5\n",
        "[distance_res], [index_res] = index_faiss.search(question_embedding, k)\n",
        "print(index_res)\n",
        "print(distance_res)"
      ]
    },
    {
      "cell_type": "code",
      "execution_count": 106,
      "metadata": {},
      "outputs": [
        {
          "name": "stdout",
          "output_type": "stream",
          "text": [
            "TITLE: EMULSIFYING DISPERSANTS, METHOD FOR EMUSIFICATION AND DISPERSION WITH THE SAME, EMULSIONS, AND EMULSION FUELS\n",
            "DISTANCE: 177.2830810546875\n",
            "CLAIMS: An emulsification dispersant, wherein the main component is vesicles that are formed from amphiphilic substances capable of forming vesicles spontaneously and that adhere onto the surface of an oil based material, and wherein the average particle size of said vesicles is 8 nm to 500 nm when the emulsion is being formed, and 200 nm to 800 nm when the dispersant is being conditioned within a concentration range of 5 to 20 wt.% in the dispersion, wherein said amphiphilic substance is selected from a group comprising a. derivatives with an average number of 5 to 15 added ethylene oxide molecules (E), selected from among polyoxyethylene hydrogenated castor oil derivatives represented by the following general formula (Formula 1): b. halides of dialkylammonium derivatives, trialkylammonium derivatives, tetraalkylammonium derivatives, dialkenylammonium derivatives, trialkenylammonium derivatives, or tetraalkenylammonium derivatives, as represented by the following general formula (Formula 2): wherein, R1 and R2 are alkyl or alkenyl group of C8 - C22,R3 and R4 are H or alkyl group of C1 - C4, and X is F, C1, Br, or Ic. particles made from phospholipids or phospholipid derivatives.An emulsification dispersant according to claim 1, wherein the dispersant is being conditioned within a polyoxyethylene-hydrogenated castor oil derivative with an average number of 10 added ethylene oxide molecules (HCO-10) concentration range of 5 to 20wt% in the dispersion.An emulsification dispersant according to claim 1, wherein a surfactant is further added to polyoxyethylene hydrogenated caster oil derivatives in the range of the mol fraction 0.1 ≤ Xs ≤ 0.33.An emulsification method using an emulsification dispersant according to any one of claims 1 to 3, wherein an oil component to be emulsified and said emulsification dispersant are to be mixed by a weight ratio of 1:1 to 1000:1.An emulsification dispersant wherein the main component is one or more than two biopolymers disintegrated into single particles that are selected from the group consisting of microbially produced polysaccharides, polyesters, naturally-derived polysaccharides, such as starch, and chitosans.An emulsification method using an emulsification dispersant according to claim 5, wherein the oil component to be emulsified and said emulsification dispersant are to be mixed by a weight ratio of 50:1 to 2000:1.A method of producing emulsification dispersants, comprising the steps of: forming vesicles from amphiphilic substances capable of forming vesicles spontaneously, or, disintegrating one or two biopolymers into single particles that are selected from the group consisting of microbially produced polysaccharides, phospholipids, polyesters, naturally-derived polysaccharides, such as starch, and chitosans; and processing the vesicles or biopolymers that have been disintegrated into single particles into fine particles by addition into water below the designated temperature.Emulsions characterized by being formed by contacting and mixing an emulsification dispersant according to any one of claims 1 to 3 or claim 5 with oil component to be emulsified.An emulsion fuel characterized in being generated by a process 1 for forming a dispersant solution wherein the amphiphilic substance is selected from a group comprising a. derivatives with an average number of 5 to 15 added ethylene oxide molecules (E), selected from among polyoxyethylene hydrogenated caster oil derivatives represented by the following general formula (Formula 1): b. halides of dialkylammonium derivatives, trialkylammonium derivatives, tetraalkylammonium derivatives, dialkenylammonium derivatives, trialkenylammonium derivatives, or tetraalkenylammonium derivatives, as represented by the following general formula (Formula 2): wherein, R1 and R2 are alkyl or alkenyl group of C8 - C22,R3 and R4 are H or alkyl group of C1 - C4, and X is F, C1, Br, or I andc. particles made from phospholipids or phospholipid derivatives wherein the amphiphilic substance is dispersed for adjusting the average particle size of said vesicles is 200 nm-800 nm, and a process 2 wherein the vesicles obtained in said process 1 are adhered onto the surface of the oil, the average particle size of said vesicles being adjusted to 8 nm-500 nm when the emulsion is being formed.The emulsion fuel according to claim 9, wherein the amphiphilic substance HCO-10 is dispersed so as to be 5-20wt%, and for adjusting the average particle size of said vesicles is 200 nm-800 nm, and a process 2 wherein the vesicles obtained in said process 1 are adhered onto the surface of the heavy oil having an adjusted viscosity, the average particle size of said vesicles being adjusted to 8 nm-500 nm when the emulsion is being formed.The emulsion fuel according to claim 9, wherein the composition consists of HCO-10 as said amphiphilic substance at 0.8-10wt %, light oil as said fuel at 5-60 wt % and the corresponding proportion of water.The emulsion fuel according to claim 9, wherein the composition consists of HCO-10 as said amphiphilic substance at 0.3-9wt %, conditioned heavy oil at 80 to 10 wt% and the corresponding proportion of water.\n",
            "==================================================\n",
            "\n",
            "TITLE: RESIN COMPOSITION\n",
            "DISTANCE: 183.5488739013672\n",
            "CLAIMS: A resin composition comprising (A) 75 to 99.98 wt% of an aromatic polycarbonate resin (component A),(B) 0.01 to 5 wt% of a mixture (component B) of polytetrafluoroethylene particles and an organic polymer, wherein the organic polymer is a polymer derived from a styrene-based monomer and/or an acrylic monomer and(C) 0.01 to 20 wt% of a flame retardant (component C), wherein the sodium metal ion content of the component B (excluding sodium metal ion contained in the polytetrafluoroethylene particles) is 10 ppm or less, andwherein the potassium metal ion content of the component B (excluding potassium metal ion contained in the polytetrafluoroethylene particles) is 15 ppm or less,wherein the sodium metal ion content and potassium metal ion content of the component B is measured as described in the present description.The resin composition according to claim 1, wherein the component B is manufactured by suspension polymerization.The resin composition according to claim 1, wherein the component B is a mixture obtained by polymerizing an organic monomer in the presence of polytetrafluoroethylene particles without forming a latex.The resin composition according to claim 1, wherein the polytetrafluoroethylene particles have a diameter of 0.1 to 0.6 µm, wherein the diameter is obtained by measuring the diameter of a sample solution prepared by diluting a particle dispersion with water by a dynamic light scattering method (ELS800 of Otsuka Denshi Co., Ltd., temperature of 25°C, scattering angle of 90°).The resin composition according to claim 1, wherein the organic polymer is a styrene-acrylic polymer.The resin composition according to claim 5, wherein the styrene-acrylic polymer is a polymer of a styrene-based monomer (i) and an acrylic monomer (ii), in which the styrene-based monomer (i) may be substituted by at least one group selected from the group consisting of an alkyl group having 1 to 6 carbon atoms, alkoxy group having 1 to 6 carbon atoms and halogen atom, and the acrylic monomer (ii) includes a (meth)acrylate derivatives which may be substituted by at least one group selected from the group consisting of an alkyl group having 1 to 20 carbon atoms, cycloalkyl group having 3 to 8 carbon atoms, aryl group and glycidyl group.The resin composition according to claim 1, wherein the component C is an organic metal salt-based flame retardant.The resin composition according to claim 7, wherein the organic metal salt-based flame retardant is an alkali (earth) metal salt of an organic sulfonic acid.The resin composition according to claim 1, wherein the component C is a fluorine-containing organic metal salt-based flame retardant.The resin composition according to claim 9, wherein the fluorine-containing organic metal salt-based flame retardant is a metal salt of a perfluoroalkylsulfonic acid.The resin composition according to claim 1 which comprises 1 to 50 parts by weight of at least one reinforcing filler (component D) selected from the group consisting of a lamellar inorganic filler (component D-1) and a fibrous inorganic filler (component D-2) based on 100 parts by weight of the total of the components A, B and C.The resin composition according to claim 11, wherein the component D-1 is talc.The resin composition according to claim 11, wherein the component D-2 is at least one fibrous inorganic filler selected from the group consisting of glass fibers and glass short fibers.The resin composition according to claim 1 which further comprises another thermoplastic resin (component E) in an amount of 1 to 50 parts by weight based on 100 parts by weight of the total of the components A and E.The resin composition according to claim 14, wherein the component E is a polyester resin and/or ABS resin.A molded product of the resin composition of claim 1.A method for improving the thermal stability and hydrolysis resistance of a resin composition comprising (A) 75 to 99.98 wt% of an aromatic polycarbonate resin (component A),(B) 0.01 to 5 wt% of a mixture (component B) of polytetrafluoroethylene particles and an organic polymer, wherein the organic polymer is a polymer derived from a styrene-based monomer and/or an acrylic monomer and(C) 0.01 to 20 wt% of a flame retardant (component C), characterized in that a mixture having the sodium metal ion content (excluding sodium metal ion contained in the polytetrafluoroethylene particles) of 10 ppm or less, and having the potassium metal ion content (excluding potassium metal ion contained in the polytetrafluoroethylene particles) of 15 ppm or less is used as component B,wherein the sodium metal ion content and potassium metal ion content of the component B is measured as described in the present description.\n",
            "==================================================\n",
            "\n",
            "TITLE: METHOD FOR RINSING A SUBSTRATE SURFACE\n",
            "DISTANCE: 212.4577178955078\n",
            "CLAIMS: A method for rinsing a substrate surface in the presence of water having a total dissolved solids content in excess of 200 ppm, the method comprising: applying the aqueous rinse agent composition to a substrate surface, wherein the method includes a step of cleaning the substrate surface prior to the step of rinsing, wherein the rinse agent composition comprises (a) sheeting agent comprising surfactant for promoting draining of sheets of water from a surface; wherein the sheeting agent comprises at least one of a nonionic block copolymer having ethylene oxide and propylene oxide residues, alkyl polyglycosides, zwitterionics, and anionics,(b) humectant comprising a material that contains greater than 5 wt % water when the material is equilibrated at 50% relative humidity and room temperature; wherein the humectant comprises propylene glycol, wherein the sheeting agent and the humectant are different and the weight ratio of the total amount of humectant in the rinse agent composition to the total amount of sheeting agent in the rinse agent composition is greater than 1:3.The method for rinsing a substrate surface of claim 1, wherein the substrate surface comprises a motor vehicle surface.The method for rinsing a substrate surface of claim 1, wherein the substrate surface comprises a food or beverage contacting surface.The method of claim 1, wherein the weight ratio of the total amount of humectant in the rinse agent composition to the total amount of sheeting agent in the rinse agent composition is between about 5:1 and 1:3.The method of claim 1, wherein the weight ratio of the total amount of humectant in the rinse agent composition to the total amount of sheeting agent in the rinse agent composition is between about 4:1 and 1:2.The method of claim 1, wherein the weight ratio of the total amount of humectant in the rinse agent composition to the total amount of sheeting agent in the rinse agent composition is between about 3:1 and 1:1.The method of claim 1, wherein the sheeting agent comprises a nonionic block copolymer having ethylene oxide and propylene oxide units and a number average molecular weight of between about 1,500 and about 100,000.The method of claim 1, wherein the sheeting agent comprises an alkyl polyglycoside having the formula.         (G)x-O-R wherein G is a moiety derived from reducing saccharide containing 5 or 6 carbon atoms, R is a fatty aliphatic group containing 6 to 20 carbon atoms, and x is about 0.5 to about 10.The method of claim 1, wherein the sheeting agent copolymer is provided in an amount of between about 5 wt. % and about 40 wt. % based on the solids weight percent of the rinse agent composition.\n",
            "==================================================\n",
            "\n",
            "TITLE: ENCAPSULATES\n",
            "DISTANCE: 240.05503845214844\n",
            "CLAIMS: A consumer product comprising a particle, said particle comprising: a) a shell material, said shell material comprising a material selected from: (i) a material comprising polyvinyl pyrrolidone;(ii) polymers derived from hydrophilic monomers comprising diamines, triamines, diols and mixtures thereof;(iii) polymers derived from hydrophobic monomers comprising diacyl chlorides, diisocyanates, bischloroformates and mixtures thereof;(iv) a material comprising a polyvinyl alcohol derivative;(v) a material comprising an acrylate derivative; and(vii) a material comprising a cellulosic polymer; andb) a core material, said core material comprising: (i) a protective suspension agent comprising an organosilicone, said organosilicone being linear, branched and/or crosslinked and having a viscosity at 25°C of from 500 centistokes to 2,000,000 centistokes, preferably from 1000 centistokes to 800,000 centistokes, more preferably from 1000 centistokes to 300,000 centistokes, said core material preferably comprising, based total core weight, from 0.1% to 99%, more preferably from 1% to 95%, more preferably from 1% to 80%, most preferably from 5% to 50% of said protective suspension agent;(ii) a solid, water soluble benefit agent, said core material preferably comprising, based total core weight, from 0.01% to 80%, more preferably from 0.1 % to 50%, more preferably from 1% to 25%, most preferably from 1% to 10% of said solid, water soluble benefit agent, wherein said solid, water soluble benefit agent comprises a material selected from the group consisting of a metal catalyst, a non-metal catalyst, an activator, a pre-formed peroxy carboxylic acid, a diacyl peroxide, a hydrogen peroxide source, an enzyme and mixtures thereof, and(iii) an optional hydrophobic organic material preferably comprising a material having a ClogP from 1.5 to 10, more preferably from 1.5 to 6, more preferably from 2 to 5, most preferably from 2.2 to 4.5, said core material preferably comprising, based total core weight, from 0.1% to 99%, more preferably from 1% to 95%, more preferably from 1% to 80%, most preferably from 5% to 80% of said hydrophobic organic material; said shell material encapsulating said core material, said particle preferably comprising, based total particle weight, from 1% to 95%, more preferably from 1% to 95%, more preferably from 5% to 80%, most preferably from 5% to 50% of said core material, said consumer product preferably comprising, based total consumer product weight, from 0.01% to 80%, more preferably from 0.1% to 50%, more preferably from 1% to 25%, most preferably from 1% to 10% of said particle, and said consumer product preferably comprising, based total consumer product weight, from 1% to 85%, more preferably from 3% to 60%, more preferably from 5% to 40%, most preferably from 5% to 20% total water.A consumer product according to any preceding claim, wherein: a) said metal catalyst comprises a material selected from the group consisting of dichloro-1,4-diethyl-1,4,8,11-tetraaazabicyclo[6.6.2]hexadecane manganese(II); dichloro-1,4-dimethyl-1,4,8,11-tetraaazabicyclo[6.6.2]hexadecane manganese(II) and mixtures thereof;b) said non- metal catalyst comprises material selected from the group consisting of 2-[3-[(2-hexyldodecyl)oxy]-2-(sulfooxy)propyl]-3,4-dihydroisoquinolinium, inner salt; 3,4-dihydro-2-[3-[(2-pentylundecyl)oxy]-2-(sulfooxy)propyl]isoquinolinium, inner salt; 2-[3-[(2-butyldecyl)oxy]-2-(sulfooxy)propyl]-3,4-dihydroisoquinolinium, inner salt; 3,4-dihydro-2-[3-(octadecyloxy)-2-(sulfooxy)propyl]isoquinolinium, inner salt; 2-[3-(hexadecyloxy)-2-(sulfooxy)propyl]-3,4-dihydroisoquinolinium, inner salt; 3,4-dihydro-2-[2-(sulfooxy)-3-(tetradecyloxy)propyl]isoquinolinium, inner salt; 2-[3-(dodecyloxy)-2-(sulfooxy)propyl]-3,4-dihydroisoquinolinium, inner salt; 2-[3-[(3-hexyldecyl)oxy]-2-(sulfooxy)propyl]-3,4-dihydroisoquinolinium, inner salt; 3,4-dihydro-2-[3-[(2-pentylnonyl)oxy]-2-(sulfooxy)propyl]isoquinolinium, inner salt; 3,4-dihydrn-2-[3-[(2-propylheptyl)oxy]-2-(sulfooxy)propyl]isoquinolinium, inner salt; 2-[3-[(2-butyloctyl)oxy]-2-(sulfooxy)propyl]-3,4-dihydroisoquinolinium, inner salt; 2-[3-(decyloxy)-2-(sulfooxy)propyl]-3,4-dihydroisoquinolinium, inner salt; 3,4-dihydro-2-[3-(octyloxy)-2-(sulfaoxy)propyl]isoquinolinium, inner salt; 2-[3-[(2-ethylhexyl)oxy]-2-(sulfooxy)propyl]-3,4-dihydroisoquinolinium, inner salt and mixtures thereof;c) said bleach activator comprises a material selected from the group consisting of tetraacetyl ethylene diamine (TAED); benzoylcaprolactam (BzCL); 4-nitrobenzoylcaprolactam; 3-chlorobenzoylcaprolactam; benzoyloxybenzenesulphonate (BOBS); nonanoyloxybenzene-sulphonate (NOBS); phenyl benzoate (PhBz); decanoyloxybenzenesulphonate (C10-OBS); benzoylvalerolactam (BZVL); octanoyloxybenzenesulphonate (C8-OBS); perhydrolyzable esters; 4-[N-(nonaoyl) amino hexanoyloxy]-benzene sulfonate sodium salt (NACA-OBS); dodecanoyloxybenzenesulphonate (LOBS or C12-OBS); 10-undecenoyloxybenzenesulfonate (UDOBS or C11-OBS with unsaturation in the 10 position); decanoyloxybenzoic acid (DOBA); (6-octanamidocaproyl)oxybenzenesulfonate; (6-nonanamidocaproyl) oxybenzenesulfonate; (6-decanamidocaproyl)oxybenzenesulfonate and mixtures thereof;d) said preformed peracid comprises a material selected from the group consisting of peroxymonosulfuric acids; perimidic acids; percabonic acids; percarboxilic acids and salts of said acids; in one aspect said percarboxilic acids and salts thereof may be phthalimidoperoxyhexanoic acid, 1,12-diperoxydodecanedioic acid; or monoperoxyphthalic acid (magnesium salt hexahydrate); amidoperoxyacids, in one aspect, said amidoperoxyacids may be N,N'-terephthaloyl-di(6-aminocaproic acid), a monononylamide of either peroxysuccinic acid (NAPSA) or of peroxyadipic acid (NAPAA), N-nonanoylaminoperoxycaproic acid (NAPCA), and mixtures thereof;e) said diacyl peroxide comprises a material selected from the group consisting of dinonanoyl peroxide, didecanoyl peroxide, diundecanoyl peroxide, dilauroyl peroxide, dibenzoyl peroxide, di-(3,5,5-trimethyl hexanoyl) peroxide and mixtures thereof;f) said hydrogen peroxide source comprises a material selected from the group consisting of a perborate, a percarbonate a peroxyhydrate, a peroxide, a persulfate and mixtures thereof; andg) said enzyme comprises a material selected from the group consisting of peroxidases, proteases, lipases, phospholipases, cellobiohydrolases, cellobiose dehydrogenases, esterases, cutinases, pectinases, mannanases, pectate lyases, keratinases, reductases, oxidases, phenoloxidases, lipoxygenases, ligninases, pullulanases, tannases, pentosanases, glucanases, arabinosidases, hyaluronidase, chondroitinase, laccases, amylases, and mixtures thereof.A consumer product according to any preceding claim, wherein said organosilicone comprises a material selected from the group consisting of non-functionalized siloxane polymers, functionalized siloxane polymers and mixtures thereof, said functionalized siloxane polymers preferably comprising an aminosilicone.A consumer product according to any preceding claim, wherein said hydrophobic organic material comprises a material selected from the group consisting of an aliphatic hydrophobic organic material; an aromatic hydrophobic organic material and mixtures thereof.A consumer product according to any preceding claim, wherein said hydrophobic organic material comprises a material selected from the group consisting of a carboxylic acid, an ester, an alcohol, a fatty acid, a natural oil, a synthetic oil, an aldehyde, a ketone, a nitrile, a hydrocarbon, an ether, an acetal, a Schiff Base, a wax and mixtures thereof.A consumer product according to claim 5, wherein; a) said alcohol comprises a material selected from Lauryl alcohol, Citronellol, Alpha-terpineol, 2-tert-butylcyclohexanol, 2,6-dimethyl-2-octanol, 3,7-dimethyl-3-octanol and 2,6-dimethyl-2-octanol, 2-methyl-4-(2,2,3-trimethyl-3-cyclopentenyl)-2-buten-1-ol, linalool, Tetrahydrolinalool and mixtures thereof;b) said ester comprises a material selected from Methyl laurate, Methyl jasmonate, Hexyl isovalerate, Geranyl acetate, 1,4-dioxacyclohexadecane-5,16-dione, 4-tert-butylcyclohexyl acetate, 3,5,5-trimethylhexyl acetate, Ethyl-2-methylpentanoate, Ethyl Methyl-2-Butyrate, Isopropyl myristate and mixtures thereof;c) said ether comprises a material selected from (3z)-1-[(2-methyl-2-propenyl)oxy]-3-hexene, decahydrospiro[furan-2(3h),5'-[4.7]methano[5h[indene], 4,9,12,12-tetramethyl-5-oxatricyclo[8.2.0.0(4,6)]dodecane, decahydro-2,6,6,7,8,8-hexamethyl-2h-indeno[4,5-b]furan, isomers of decahydro-2,6,6,7,8,8-hexamethyl-2h-indeno[4,5-b]furan, 2-(1-ethylpentyl)-1,3-dioxolane, 2-methyl-1,5-dioxaspiro[5.5]undecane, phenyl ethyl cyclohexyl ether and mixtures thereof;d) said carboxylic acid comprises a material selected from Lauric acid, Myristic acid, 2,4-dimethoxybenzoic acid, 2,4-dimethyl-2-pentenoic acid, geranic acid, salicylic acid, Cyclohexylacetic acid and mixtures thereof;e) said nitrile comprises a material selected from Lauryl nitrile, 2-phenyl hexanenitrile, methyl 2-[{(4-(4-hydroxy-4-methylpentyl)-1-cyclohexenyl)methylene}amino}benzoate, 2,2,4-trimethyl-4-phenyl-butanenitrile, 3,7-dimethyloctanenitrile, (e)-3-phenyl-2-propenenitrile, 3,7-dimethyl-6-octenenitrile and mixtures thereof;f) said amine comprises a material selected from 4-(4,8-dimethyl-3,7-nonadienyl) pyridine, (2-methylpropyl)-quinoline and mixtures thereof;g) said ketone comprises a material selected from Dihydrojasmone, Methyl-beta-ionone, Methyl heptenone, 6,10-dimethylundecen-2-one, 1,3,4,6,7,8a-hexahydro-1.1,5,5-tetramethyl-2h-2,4a-methanonaphthalen-8(5h)-one, 5-Cyclohexadecen-1-one, lonone and mixtures thereof;h) said aldehyde comprises a material selected from Lauric aldehyde, Amyl Cinnamic Aldehyde, 3,6(and 4,6)-dimetttylcyclohex-3-ene-1-carboxaldehyde, 2,4-dimethyl-3-cyclohexene-1-carboxaldehyde, 1-methyl-4-(4-methyl-3-pentenyl)cyclohex-3-ene-1-carboxaldehyde, 3-(and 4-)(4-methyl-3-pnetyl)cyclohex-3-ene-1-carboxaldehyde, ((3,7,-dimethyl-6-octenyl)oxy)acetaldehyde and mixtures thereof;i) said hydrocarbon comprises a material selected from isolongifolene, Limonene, Terpinolene, 3,7-dimethyl-1,3,6-octatriene, Bisabolene Alpha-pinene and mixtures thereof;j) said Schiff base comprises a material selected from Methyl anthranilate/citronellal Schiff Base, Isononylaidehyde/methylanffiranilate Schiff Base, Methyl N-(3,7-dimethyl-7-hydroxyoctylidene)-anthranilate Schiff Base and mixtures thereof;k) said waxes comprises a material selected from the group consisting of carnauba wax, beeswax, paraffin, petrolatum, polytetrafluoroethylene wax, and mixtures thereof;l) said natural and/or synthetic oils comprise a material selected from the group consisting of lavender oil, cedarwood oil, vegetal oil, brominated oil, eucalyptol oil, Ylang Ylang oil, patchouli oil, bergamot oil and mixtures thereof.A consumer product according to any preceding claim having a benefit agent release of at least 10%, preferably at least 25%, more preferably at least 35%, more preferably from 50% to 100%, more preferably from 65% to 95%, most preferably from 85% to 95% of said benefit agent after 10 minutes, preferably 8 minutes, more preferably 5 minutes of use of such consumer product containing said particles.A consumer product according to any preceding claim, wherein at least 75%, preferably 85%, more preferably 90%, of said particles have a particle size of from 1 micron to 120 microns.A consumer product according to any preceding claim, wherein at least 75%, preferably 85%, more preferably 90%, of said particles have a particle wall thickness of from 30 nm to 500 nm, preferably from 40 nm to 250 nm, more preferably from 50 nm to 150 nm.A consumer product according to any preceding claim, said consumer product comprising a material selected from the group consisting of a scavenger, a structurant, an anti-agglomeration agent and mixtures thereof.A method of treating and/or cleaning a situs, said method comprising a) optionally washing and/or rinsing said situs;b) contacting said situs with a consumer product according to any preceding claim; andc) optionally washing and/or rinsing said situs.A process of making a consumer product comprising a consumer product adjunct material and a particle, said process comprising: a) preparing a core material comprising a solid, water soluble benefit agent, a protective suspension agent having a viscosity at 25°C of from 500 centistokes to 2,000,000 centistokes, preferably from 1000 centistokes to 800,000 centistokes, more preferably from 1000 centistokes to 300,000 centistokes, preferably said protective suspension agent comprises a silicone material having a viscosity of at least 30,000 centistokes, more preferably from 30,000 centistokes to 60,000 centistokes; and an optional hydrophobic organic material and cooling this core material, preferably to a temperature of from 0°C to 25°C;b) preparing a first solution comprising, based on total solution weight, from 0.1% to 5% of an emulsifier, preferably polyvinyl alcohol, and cooling this first solution, preferably to a temperature of from 0°C to 25°C;c) preparing a second solution comprising, based on total solution weight, from 65% to 97% core material, and one or more hydrophobic monomers comprising diacyl chlorides, diisocyanates and/or bischloroformates, and cooling this second solution, preferably to a temperature of from 0°C to 25°C;d) preparing a third solution comprising based on total weight from 10% to 90% water, and one or more hydrophilic monomers comprising di-amines, triamines and/or diols, and cooling this third solution, preferably to a temperature of from 0°C to 25°C;e) forming a first composition at a temperature of from 0°C to 25°C, by either combining said second solution and said first solution and emulsifying said first composition; or emulsifying said second solution in said first solution via a micro-device, preferably said micro-device is selected from the group consisting of a cross flow membrane, and/or a flow focusing technology;f) combining said first composition and said third solution to form a second composition and optionally combining any processing aids and said second composition;g) stirring said second composition for at least 15 minutes at a temperature of from 0°C to 25°C and optionally combining any processing aids to said second composition;h) optionally combining any scavenger material, neutralizing agent, structurant, salts and/or anti-agglomeration agent with said second composition during step g) or thereafter,j) optionally spray drying or agglomerating said second composition; andk) combining said second composition with one or more consumer product adjuncts.A process of making a consumer product, comprising a consumer product adjunct material and a particle, said process comprising: a) preparing a core material comprising a solid, water soluble benefit agent, a protective suspension agent having a viscosity at 25°C of from 500 centistokes to 2,000,000 centistokes, preferably from 1000 centistokes to 800,000 centistokes, more preferably from 1000 centistokes to 300,000 centistokes, preferably said protective suspension agent comprises a silicone material having a viscosity of at least 30,000 centistokes, more preferably from 30,000 centistokes to 60,000 centistokes and an optional hydrophobic organic, material and cooling this core material, preferably to a temperature of from 0°C to 4°C;b) preparing a first solution comprising, based on total solution weight, from 0.1% to 10% of a polymer having a cloud point between 0°C and 120°C, more preferably between 20°C and 60°C, preferably said polymer comprises a polyvinyl alcohol derivate; and then said first solution is cooled, preferably to a temperature of from 0°C to 4°C;c) optionally, lowering the cloud point of the polymer contained in said first solution, preferably by increasing the ionic strength of said solution, preferably by adding salt to said first solution;d) preparing a second solution comprising, based on total solution weight, from 50% to 70% water, from 5 to 20% of a water miscible, organic solvent, preferably methanol, from 0.1% to 1% of a strong acid, preferably sulfuric acid, from 2% to 10% of a weak acid, preferably acetic acid, and from 15% to 25% of a crosslinking agent, preferably gluteraldehyde;e) preparing a third solution comprising, based on total third solution weight, from 70% to 99% water, and one or more electrolytes comprising sodium sulphate, sodium phosphate, sodium citrate, sodium carbonate, sodium acetate and mixtures thereof;f) forming a first composition at temperature of from 0°C to 25°C, by either combining said core material and said first solution and emulsifying said first composition; or emulsifying said core material in said first solution via a micro-device, preferably said micro-device is selected from the group consisting of a cross flow membrane, and/or a flow focusing technology;g) adding said third solution to said first composition to form a second composition and optionally combining any processing aids and said second composition;h) increasing the temperature of said second composition at a rate from 0.2°C/min to 5°C/min;i) mixing said second composition for at least 15 minutes at a temperature from 1°C to 10°C above the cloud point of said second composition;j) adding said second solution to said second composition to form a third composition and optionally combining any processing aids and said third composition;k) optionally combining any scavenger material, neutralizing agent, structurant, salts and/or anti-agglomeration agent with said third composition during step j) or thereafter;l) optionally spray drying or agglomerating said third composition; andm) combining said third composition with one or more consumer product adjuncts.\n",
            "==================================================\n",
            "\n",
            "TITLE: POLYMER-BIOACTIVE AGENT CONJUGATES\n",
            "DISTANCE: 245.350341796875\n",
            "CLAIMS: A bioerodible polymer - bioactive agent conjugate comprising as part of its polymer backbone a moiety of general formula (I):  wherein: A and B, which may be the same or different, represent the remainder of the polymer backbone and are (i) attached to the -O-R(ZD)-O- moiety as shown in formula (I) via a bioerodible moiety, and (ii) comprise a poly(urethane-ester) having monomeric units coupled via bioerodible urethane or ester moieties;R represents a linear or branched optionally substituted hydrocarbon;Z is a linking group; andD is a releasable bioactive agent.The bioerodible polymer - bioactive agent conjugate according to claim 1, wherein A and B each comprise a copolymer of polyurethane and polyester.The bioerodible polymer - bioactive agent conjugate according to claim 1 or claim 2, which comprises less than 25 mol% of polymerised residues that are derived from a C2 diol, relative to the total number of moles of polymerized diol residues.The bioerodible polymer - bioactive agent conjugate according to any one of claims 1 to 3, wherein D is coupled through Z to R by an ester, amide, anhydride, imide, carbonate, peroxide, peroxyester, thiol, phosphate ester, thioester, sulphate ester, carbamate, azo or boronate ester moiety.The bioerodible polymer - bioactive agent conjugate according to claim 4, wherein Z is selected from -O-; -C(O)-; and optionally substituted: -OC(O)-C1-18alkylene-C(O)-; -C(O)O-C1-18alkylene-C(O)-; -NRaC(O)-C1-18alkylene-C(O)-; -C(O)O-C1-18alkylene-O-; -O-C1-18alkylene-O-; -O-C1-18alkylene-NRa-; -OC(O)-C1-18alkylene-NRa-; -C(O)-C1-18alkylene-NRa-; -OC(O)-C1-18alkylene-O-; -C(O)-C1-18alkylene-O-; and-C(O)NRa-C1-18alkylene-NRa- where Ra is selected from hydrogen, C1-18alkyl, C1-18alkenyl, C1-18alkynyl, C6-18aryl, C3-18carbocyclyl, C3-18heteroaryl, C3-18heterocyclyl, and C7-18arylalkyl.The bioerodible polymer - bioactive agent conjugate according to any one of claims 1 to 5, wherein R is a linear or branched optionally substituted hydrocarbon having from 1 to 12 carbon atoms.The bioerodible polymer - bioactive agent conjugate according to any one of claims 1 to 6, wherein the bioactive agent (D) is selected from 5-alpha-reductase inhibitors, amebicides, aminosalicylates, anaesthetics (general and local), analgesics, angiotensin inhibitors, anorexiants, antacid agents, anti-angiogenic agents, antianginal agents, antiarrythmic agents, antiarthritic agents, antibiotics, antibacterial agents, antibodies, anticoagulants, anticonvulsants, antidepressants, antiepileptic agents, antifungals, anthelmintics, antihistamines, antihypertensives, antihyperlipidemic agents, antiinfectives, antiinflammatories, antiemetics, antimalarial, antimetabolites, antimigraine, antimitotics, antiparasitic agents, antiparkinson agents, antipsychotics, antiprotozoals, antitussives, antiulcer agents, antivirals, anxiolytics, bronchodilators, decongestants and expectorants, cancer therapy and related pharmaceuticals, cardiovascular pharmaceuticals, central nervous system pharmaceuticals, benzopidazepines, beta-adrenergic blocking agents, bisphosphonates, calcium channel blockers, carbonic anhydrase inhibitors, chemokine receptor antagonist, coumarins and indadiones, cox-2 inhibitors, contraceptives, cytotoxics, diuretics, diabetes therapies, growth hormones, fertility pharmaceuticals, hematinics, glucose modifying agents, growth promoters, H2 antagonists, heparin and heparin antagonists, hormone replacement therapies, hemostatics, immunosuppressants, immunostimulants, inotropic agents, interferons, hormones and analogs, impotence agents, kinase inhibitors, laxatives, leukotriene modifiers, macrolides, mast cell stabilizers, muscle relaxants/stimulants, mydiratics, neuromuscular blocking agents, obesity therapeutics, ophthalmic pharmaceuticals, osteoporosis drugs, pain therapeutics, peptides and polypeptides, peripheral vasodilators, platelet inhibitors/stimulating agents, prolactin inhibitors, protease inhibitors, protein therapeutics, proton pump inhibtors, radiopharmaceuticals, respiratory pharmaceuticals, sedatives, spermicides, steroids, smoking cessation agents, statins, stimulants and tranquilizers, sulphonamides, thyroid drugs, urinary acidifiers/alkalinisers, and vasodilators.The bioerodible polymer - bioactive agent conjugate according to any one of claims 1 to 7, wherein the bioactive agent (D) is selected from fluoroquinolone antibiotics.The bioerodible polymer - bioactive agent conjugate according to claim 8, wherein the bioactive agent (D) is selected from alatrofloxacin, balofloxacin, ciprofloxacin, clinafloxacin, danofoxacin, delafloxacin, dextrofloxacin, difloxacin, enoxacin, enrofloxacin, garenoxacin, gatifloxacin, gemifloxacin, grepafloxacin, levofloxacin, lomefloxacin, marbofloxacin, moxifloxacin, nadifloxacin, norfloxacin, ofloxacin, orbifloxacin, pefloxacin, sitafloxacin, sparfloxacin, temafloxacin, tosufloxacin, tosulfloxacin and trovafloxacin.The bioerodible polymer - bioactive agent conjugate according to any one of claims 1 to 9, obtainable by polymerising a monomer - bioactive moiety conjugate of formula (II):  where: R represents a linear or branched optionally substituted hydrocarbon;Z is a spacer moiety; andD is a releasable bioactive moiety; with a polyisocyanate and a polyester polyol.The bioerodible polymer - bioactive agent conjugate according to claim 10, wherein the polyisocyanate is selected from the group consisting of m-phenylene diisocyanate, p-phenylene diisocyanate, 2,4-toluene diisocyanate, 2,6-toluene diisocyanate, 1,6-hexamethylene diisocyanate, 1,4-hexamethylene diisocyanate, 1,3-cyclohexane diisocyanate, 1,4-cyclohexane diisocyanate, hexahydro-toluene diisocyanate and its isomers, isophorone diisocyanate, dicyclo-hexylmethane diisocyanates, 1,5-napthylene diisocyanate, 4,4'-diphenylmethane diisocyanate, 2,4' diphenylmethane diisocyanate, 4,4'-biphenylene diisocyanate, 3,3'-dimethoxy-4,4'-biphenylene diisocyanate, 3,3'-dimethyl-diphenylpropane-4,4'-diisocyanate, 2,4,6-toluene triisocyanate, 4,4'-dimethyl-diphenylmethane-2,2',5,5'-tetraisocyanate, polymethylene polyphenhyl polyisocyanates and alkyl esters of lysine diisocyanate (preferably ethyl ester of lysine diisocyanate) and combinations thereof.The bioerodible polymer - bioactive agent conjugate according to any one of claims 10 or claim 11, wherein the polyester polyol is selected from the group consisting of polycaprolactone diol (PCLD), poly(DL lactide) (DLLA) and poly(lactic acid-co-glycolic acid) (PLGA) and combinations thereof.A process for preparing a bioerodible polymer - bioactive agent conjugate according to any one of claims 1 to 9, said process comprising the step of polymerising a monomer - bioactive agent conjugate of formula (II):  wherein: R, Z and D are as defined in any one of claims 1 to 9;with a polyisocyanate and a polyester polyol.A monomer - bioactive agent conjugate that is suitable for use in preparing a bioerodible polymer - bioactive agent conjugate, the monomer - bioactive agent conjugate having a structure of general formula (II):  wherein: R represents a linear or branched optionally substituted hydrocarbon;Z is a linking group; andD is a releasable bioactive agent selected from fluoroquinolone antibiotics.A monomer - bioactive agent conjugate according to claim 14, wherein the bioactive agent (D) is selected from alatrofloxacin, balofloxacin, ciprofloxacin, clinafloxacin, danofoxacin, delafloxacin, dextrofloxacin, difloxacin, enoxacin, enrofloxacin, garenoxacin, gatifloxacin, gemifloxacin, grepafloxacin, levofloxacin, lomefloxacin, marbofloxacin, moxifloxacin, nadifloxacin, norfloxacin, ofloxacin, orbifloxacin, pefloxacin, sitafloxacin, sparfloxacin, temafloxacin, tosufloxacin, tosulfloxacin and trovafloxacin.\n",
            "==================================================\n",
            "\n"
          ]
        }
      ],
      "source": [
        "for i, d in zip(index_res, distance_res):\n",
        "    # print(i, d)\n",
        "    print(f\"TITLE: {all_dataset['title'][i]}\")\n",
        "    print(f\"DISTANCE: {d}\")\n",
        "    print(f\"CLAIMS: {all_dataset['claims'][i]}\")\n",
        "    print(\"=\" * 50)\n",
        "    print()"
      ]
    },
    {
      "cell_type": "markdown",
      "metadata": {},
      "source": [
        "## HUGGING FACE FAISS"
      ]
    },
    {
      "cell_type": "code",
      "execution_count": 107,
      "metadata": {},
      "outputs": [
        {
          "name": "stderr",
          "output_type": "stream",
          "text": [
            "100%|██████████| 1/1 [00:00<00:00, 179.94it/s]\n"
          ]
        },
        {
          "data": {
            "text/plain": [
              "Dataset({\n",
              "    features: ['title', 'claims', 'ipc', 'claims_length', 'embeddings'],\n",
              "    num_rows: 40\n",
              "})"
            ]
          },
          "execution_count": 107,
          "metadata": {},
          "output_type": "execute_result"
        }
      ],
      "source": [
        "all_dataset.add_faiss_index(column=\"embeddings\")"
      ]
    },
    {
      "cell_type": "code",
      "execution_count": 108,
      "metadata": {},
      "outputs": [],
      "source": [
        "# question = \"Is solar pannel friendly to the environment\"\n",
        "# question_embedding = get_embeddings([question]).cpu().detach().numpy()\n",
        "# question_embedding.shape"
      ]
    },
    {
      "cell_type": "code",
      "execution_count": 109,
      "metadata": {},
      "outputs": [
        {
          "name": "stdout",
          "output_type": "stream",
          "text": [
            "TITLE: POLYMER-BIOACTIVE AGENT CONJUGATES\n",
            "SCORE: 245.350341796875\n",
            "DESCRIPTION: A bioerodible polymer - bioactive agent conjugate comprising as part of its polymer backbone a moiety of general formula (I):  wherein: A and B, which may be the same or different, represent the remainder of the polymer backbone and are (i) attached to the -O-R(ZD)-O- moiety as shown in formula (I) via a bioerodible moiety, and (ii) comprise a poly(urethane-ester) having monomeric units coupled via bioerodible urethane or ester moieties;R represents a linear or branched optionally substituted hydrocarbon;Z is a linking group; andD is a releasable bioactive agent.The bioerodible polymer - bioactive agent conjugate according to claim 1, wherein A and B each comprise a copolymer of polyurethane and polyester.The bioerodible polymer - bioactive agent conjugate according to claim 1 or claim 2, which comprises less than 25 mol% of polymerised residues that are derived from a C2 diol, relative to the total number of moles of polymerized diol residues.The bioerodible polymer - bioactive agent conjugate according to any one of claims 1 to 3, wherein D is coupled through Z to R by an ester, amide, anhydride, imide, carbonate, peroxide, peroxyester, thiol, phosphate ester, thioester, sulphate ester, carbamate, azo or boronate ester moiety.The bioerodible polymer - bioactive agent conjugate according to claim 4, wherein Z is selected from -O-; -C(O)-; and optionally substituted: -OC(O)-C1-18alkylene-C(O)-; -C(O)O-C1-18alkylene-C(O)-; -NRaC(O)-C1-18alkylene-C(O)-; -C(O)O-C1-18alkylene-O-; -O-C1-18alkylene-O-; -O-C1-18alkylene-NRa-; -OC(O)-C1-18alkylene-NRa-; -C(O)-C1-18alkylene-NRa-; -OC(O)-C1-18alkylene-O-; -C(O)-C1-18alkylene-O-; and-C(O)NRa-C1-18alkylene-NRa- where Ra is selected from hydrogen, C1-18alkyl, C1-18alkenyl, C1-18alkynyl, C6-18aryl, C3-18carbocyclyl, C3-18heteroaryl, C3-18heterocyclyl, and C7-18arylalkyl.The bioerodible polymer - bioactive agent conjugate according to any one of claims 1 to 5, wherein R is a linear or branched optionally substituted hydrocarbon having from 1 to 12 carbon atoms.The bioerodible polymer - bioactive agent conjugate according to any one of claims 1 to 6, wherein the bioactive agent (D) is selected from 5-alpha-reductase inhibitors, amebicides, aminosalicylates, anaesthetics (general and local), analgesics, angiotensin inhibitors, anorexiants, antacid agents, anti-angiogenic agents, antianginal agents, antiarrythmic agents, antiarthritic agents, antibiotics, antibacterial agents, antibodies, anticoagulants, anticonvulsants, antidepressants, antiepileptic agents, antifungals, anthelmintics, antihistamines, antihypertensives, antihyperlipidemic agents, antiinfectives, antiinflammatories, antiemetics, antimalarial, antimetabolites, antimigraine, antimitotics, antiparasitic agents, antiparkinson agents, antipsychotics, antiprotozoals, antitussives, antiulcer agents, antivirals, anxiolytics, bronchodilators, decongestants and expectorants, cancer therapy and related pharmaceuticals, cardiovascular pharmaceuticals, central nervous system pharmaceuticals, benzopidazepines, beta-adrenergic blocking agents, bisphosphonates, calcium channel blockers, carbonic anhydrase inhibitors, chemokine receptor antagonist, coumarins and indadiones, cox-2 inhibitors, contraceptives, cytotoxics, diuretics, diabetes therapies, growth hormones, fertility pharmaceuticals, hematinics, glucose modifying agents, growth promoters, H2 antagonists, heparin and heparin antagonists, hormone replacement therapies, hemostatics, immunosuppressants, immunostimulants, inotropic agents, interferons, hormones and analogs, impotence agents, kinase inhibitors, laxatives, leukotriene modifiers, macrolides, mast cell stabilizers, muscle relaxants/stimulants, mydiratics, neuromuscular blocking agents, obesity therapeutics, ophthalmic pharmaceuticals, osteoporosis drugs, pain therapeutics, peptides and polypeptides, peripheral vasodilators, platelet inhibitors/stimulating agents, prolactin inhibitors, protease inhibitors, protein therapeutics, proton pump inhibtors, radiopharmaceuticals, respiratory pharmaceuticals, sedatives, spermicides, steroids, smoking cessation agents, statins, stimulants and tranquilizers, sulphonamides, thyroid drugs, urinary acidifiers/alkalinisers, and vasodilators.The bioerodible polymer - bioactive agent conjugate according to any one of claims 1 to 7, wherein the bioactive agent (D) is selected from fluoroquinolone antibiotics.The bioerodible polymer - bioactive agent conjugate according to claim 8, wherein the bioactive agent (D) is selected from alatrofloxacin, balofloxacin, ciprofloxacin, clinafloxacin, danofoxacin, delafloxacin, dextrofloxacin, difloxacin, enoxacin, enrofloxacin, garenoxacin, gatifloxacin, gemifloxacin, grepafloxacin, levofloxacin, lomefloxacin, marbofloxacin, moxifloxacin, nadifloxacin, norfloxacin, ofloxacin, orbifloxacin, pefloxacin, sitafloxacin, sparfloxacin, temafloxacin, tosufloxacin, tosulfloxacin and trovafloxacin.The bioerodible polymer - bioactive agent conjugate according to any one of claims 1 to 9, obtainable by polymerising a monomer - bioactive moiety conjugate of formula (II):  where: R represents a linear or branched optionally substituted hydrocarbon;Z is a spacer moiety; andD is a releasable bioactive moiety; with a polyisocyanate and a polyester polyol.The bioerodible polymer - bioactive agent conjugate according to claim 10, wherein the polyisocyanate is selected from the group consisting of m-phenylene diisocyanate, p-phenylene diisocyanate, 2,4-toluene diisocyanate, 2,6-toluene diisocyanate, 1,6-hexamethylene diisocyanate, 1,4-hexamethylene diisocyanate, 1,3-cyclohexane diisocyanate, 1,4-cyclohexane diisocyanate, hexahydro-toluene diisocyanate and its isomers, isophorone diisocyanate, dicyclo-hexylmethane diisocyanates, 1,5-napthylene diisocyanate, 4,4'-diphenylmethane diisocyanate, 2,4' diphenylmethane diisocyanate, 4,4'-biphenylene diisocyanate, 3,3'-dimethoxy-4,4'-biphenylene diisocyanate, 3,3'-dimethyl-diphenylpropane-4,4'-diisocyanate, 2,4,6-toluene triisocyanate, 4,4'-dimethyl-diphenylmethane-2,2',5,5'-tetraisocyanate, polymethylene polyphenhyl polyisocyanates and alkyl esters of lysine diisocyanate (preferably ethyl ester of lysine diisocyanate) and combinations thereof.The bioerodible polymer - bioactive agent conjugate according to any one of claims 10 or claim 11, wherein the polyester polyol is selected from the group consisting of polycaprolactone diol (PCLD), poly(DL lactide) (DLLA) and poly(lactic acid-co-glycolic acid) (PLGA) and combinations thereof.A process for preparing a bioerodible polymer - bioactive agent conjugate according to any one of claims 1 to 9, said process comprising the step of polymerising a monomer - bioactive agent conjugate of formula (II):  wherein: R, Z and D are as defined in any one of claims 1 to 9;with a polyisocyanate and a polyester polyol.A monomer - bioactive agent conjugate that is suitable for use in preparing a bioerodible polymer - bioactive agent conjugate, the monomer - bioactive agent conjugate having a structure of general formula (II):  wherein: R represents a linear or branched optionally substituted hydrocarbon;Z is a linking group; andD is a releasable bioactive agent selected from fluoroquinolone antibiotics.A monomer - bioactive agent conjugate according to claim 14, wherein the bioactive agent (D) is selected from alatrofloxacin, balofloxacin, ciprofloxacin, clinafloxacin, danofoxacin, delafloxacin, dextrofloxacin, difloxacin, enoxacin, enrofloxacin, garenoxacin, gatifloxacin, gemifloxacin, grepafloxacin, levofloxacin, lomefloxacin, marbofloxacin, moxifloxacin, nadifloxacin, norfloxacin, ofloxacin, orbifloxacin, pefloxacin, sitafloxacin, sparfloxacin, temafloxacin, tosufloxacin, tosulfloxacin and trovafloxacin.\n",
            "==================================================\n",
            "\n",
            "TITLE: ENCAPSULATES\n",
            "SCORE: 240.05503845214844\n",
            "DESCRIPTION: A consumer product comprising a particle, said particle comprising: a) a shell material, said shell material comprising a material selected from: (i) a material comprising polyvinyl pyrrolidone;(ii) polymers derived from hydrophilic monomers comprising diamines, triamines, diols and mixtures thereof;(iii) polymers derived from hydrophobic monomers comprising diacyl chlorides, diisocyanates, bischloroformates and mixtures thereof;(iv) a material comprising a polyvinyl alcohol derivative;(v) a material comprising an acrylate derivative; and(vii) a material comprising a cellulosic polymer; andb) a core material, said core material comprising: (i) a protective suspension agent comprising an organosilicone, said organosilicone being linear, branched and/or crosslinked and having a viscosity at 25°C of from 500 centistokes to 2,000,000 centistokes, preferably from 1000 centistokes to 800,000 centistokes, more preferably from 1000 centistokes to 300,000 centistokes, said core material preferably comprising, based total core weight, from 0.1% to 99%, more preferably from 1% to 95%, more preferably from 1% to 80%, most preferably from 5% to 50% of said protective suspension agent;(ii) a solid, water soluble benefit agent, said core material preferably comprising, based total core weight, from 0.01% to 80%, more preferably from 0.1 % to 50%, more preferably from 1% to 25%, most preferably from 1% to 10% of said solid, water soluble benefit agent, wherein said solid, water soluble benefit agent comprises a material selected from the group consisting of a metal catalyst, a non-metal catalyst, an activator, a pre-formed peroxy carboxylic acid, a diacyl peroxide, a hydrogen peroxide source, an enzyme and mixtures thereof, and(iii) an optional hydrophobic organic material preferably comprising a material having a ClogP from 1.5 to 10, more preferably from 1.5 to 6, more preferably from 2 to 5, most preferably from 2.2 to 4.5, said core material preferably comprising, based total core weight, from 0.1% to 99%, more preferably from 1% to 95%, more preferably from 1% to 80%, most preferably from 5% to 80% of said hydrophobic organic material; said shell material encapsulating said core material, said particle preferably comprising, based total particle weight, from 1% to 95%, more preferably from 1% to 95%, more preferably from 5% to 80%, most preferably from 5% to 50% of said core material, said consumer product preferably comprising, based total consumer product weight, from 0.01% to 80%, more preferably from 0.1% to 50%, more preferably from 1% to 25%, most preferably from 1% to 10% of said particle, and said consumer product preferably comprising, based total consumer product weight, from 1% to 85%, more preferably from 3% to 60%, more preferably from 5% to 40%, most preferably from 5% to 20% total water.A consumer product according to any preceding claim, wherein: a) said metal catalyst comprises a material selected from the group consisting of dichloro-1,4-diethyl-1,4,8,11-tetraaazabicyclo[6.6.2]hexadecane manganese(II); dichloro-1,4-dimethyl-1,4,8,11-tetraaazabicyclo[6.6.2]hexadecane manganese(II) and mixtures thereof;b) said non- metal catalyst comprises material selected from the group consisting of 2-[3-[(2-hexyldodecyl)oxy]-2-(sulfooxy)propyl]-3,4-dihydroisoquinolinium, inner salt; 3,4-dihydro-2-[3-[(2-pentylundecyl)oxy]-2-(sulfooxy)propyl]isoquinolinium, inner salt; 2-[3-[(2-butyldecyl)oxy]-2-(sulfooxy)propyl]-3,4-dihydroisoquinolinium, inner salt; 3,4-dihydro-2-[3-(octadecyloxy)-2-(sulfooxy)propyl]isoquinolinium, inner salt; 2-[3-(hexadecyloxy)-2-(sulfooxy)propyl]-3,4-dihydroisoquinolinium, inner salt; 3,4-dihydro-2-[2-(sulfooxy)-3-(tetradecyloxy)propyl]isoquinolinium, inner salt; 2-[3-(dodecyloxy)-2-(sulfooxy)propyl]-3,4-dihydroisoquinolinium, inner salt; 2-[3-[(3-hexyldecyl)oxy]-2-(sulfooxy)propyl]-3,4-dihydroisoquinolinium, inner salt; 3,4-dihydro-2-[3-[(2-pentylnonyl)oxy]-2-(sulfooxy)propyl]isoquinolinium, inner salt; 3,4-dihydrn-2-[3-[(2-propylheptyl)oxy]-2-(sulfooxy)propyl]isoquinolinium, inner salt; 2-[3-[(2-butyloctyl)oxy]-2-(sulfooxy)propyl]-3,4-dihydroisoquinolinium, inner salt; 2-[3-(decyloxy)-2-(sulfooxy)propyl]-3,4-dihydroisoquinolinium, inner salt; 3,4-dihydro-2-[3-(octyloxy)-2-(sulfaoxy)propyl]isoquinolinium, inner salt; 2-[3-[(2-ethylhexyl)oxy]-2-(sulfooxy)propyl]-3,4-dihydroisoquinolinium, inner salt and mixtures thereof;c) said bleach activator comprises a material selected from the group consisting of tetraacetyl ethylene diamine (TAED); benzoylcaprolactam (BzCL); 4-nitrobenzoylcaprolactam; 3-chlorobenzoylcaprolactam; benzoyloxybenzenesulphonate (BOBS); nonanoyloxybenzene-sulphonate (NOBS); phenyl benzoate (PhBz); decanoyloxybenzenesulphonate (C10-OBS); benzoylvalerolactam (BZVL); octanoyloxybenzenesulphonate (C8-OBS); perhydrolyzable esters; 4-[N-(nonaoyl) amino hexanoyloxy]-benzene sulfonate sodium salt (NACA-OBS); dodecanoyloxybenzenesulphonate (LOBS or C12-OBS); 10-undecenoyloxybenzenesulfonate (UDOBS or C11-OBS with unsaturation in the 10 position); decanoyloxybenzoic acid (DOBA); (6-octanamidocaproyl)oxybenzenesulfonate; (6-nonanamidocaproyl) oxybenzenesulfonate; (6-decanamidocaproyl)oxybenzenesulfonate and mixtures thereof;d) said preformed peracid comprises a material selected from the group consisting of peroxymonosulfuric acids; perimidic acids; percabonic acids; percarboxilic acids and salts of said acids; in one aspect said percarboxilic acids and salts thereof may be phthalimidoperoxyhexanoic acid, 1,12-diperoxydodecanedioic acid; or monoperoxyphthalic acid (magnesium salt hexahydrate); amidoperoxyacids, in one aspect, said amidoperoxyacids may be N,N'-terephthaloyl-di(6-aminocaproic acid), a monononylamide of either peroxysuccinic acid (NAPSA) or of peroxyadipic acid (NAPAA), N-nonanoylaminoperoxycaproic acid (NAPCA), and mixtures thereof;e) said diacyl peroxide comprises a material selected from the group consisting of dinonanoyl peroxide, didecanoyl peroxide, diundecanoyl peroxide, dilauroyl peroxide, dibenzoyl peroxide, di-(3,5,5-trimethyl hexanoyl) peroxide and mixtures thereof;f) said hydrogen peroxide source comprises a material selected from the group consisting of a perborate, a percarbonate a peroxyhydrate, a peroxide, a persulfate and mixtures thereof; andg) said enzyme comprises a material selected from the group consisting of peroxidases, proteases, lipases, phospholipases, cellobiohydrolases, cellobiose dehydrogenases, esterases, cutinases, pectinases, mannanases, pectate lyases, keratinases, reductases, oxidases, phenoloxidases, lipoxygenases, ligninases, pullulanases, tannases, pentosanases, glucanases, arabinosidases, hyaluronidase, chondroitinase, laccases, amylases, and mixtures thereof.A consumer product according to any preceding claim, wherein said organosilicone comprises a material selected from the group consisting of non-functionalized siloxane polymers, functionalized siloxane polymers and mixtures thereof, said functionalized siloxane polymers preferably comprising an aminosilicone.A consumer product according to any preceding claim, wherein said hydrophobic organic material comprises a material selected from the group consisting of an aliphatic hydrophobic organic material; an aromatic hydrophobic organic material and mixtures thereof.A consumer product according to any preceding claim, wherein said hydrophobic organic material comprises a material selected from the group consisting of a carboxylic acid, an ester, an alcohol, a fatty acid, a natural oil, a synthetic oil, an aldehyde, a ketone, a nitrile, a hydrocarbon, an ether, an acetal, a Schiff Base, a wax and mixtures thereof.A consumer product according to claim 5, wherein; a) said alcohol comprises a material selected from Lauryl alcohol, Citronellol, Alpha-terpineol, 2-tert-butylcyclohexanol, 2,6-dimethyl-2-octanol, 3,7-dimethyl-3-octanol and 2,6-dimethyl-2-octanol, 2-methyl-4-(2,2,3-trimethyl-3-cyclopentenyl)-2-buten-1-ol, linalool, Tetrahydrolinalool and mixtures thereof;b) said ester comprises a material selected from Methyl laurate, Methyl jasmonate, Hexyl isovalerate, Geranyl acetate, 1,4-dioxacyclohexadecane-5,16-dione, 4-tert-butylcyclohexyl acetate, 3,5,5-trimethylhexyl acetate, Ethyl-2-methylpentanoate, Ethyl Methyl-2-Butyrate, Isopropyl myristate and mixtures thereof;c) said ether comprises a material selected from (3z)-1-[(2-methyl-2-propenyl)oxy]-3-hexene, decahydrospiro[furan-2(3h),5'-[4.7]methano[5h[indene], 4,9,12,12-tetramethyl-5-oxatricyclo[8.2.0.0(4,6)]dodecane, decahydro-2,6,6,7,8,8-hexamethyl-2h-indeno[4,5-b]furan, isomers of decahydro-2,6,6,7,8,8-hexamethyl-2h-indeno[4,5-b]furan, 2-(1-ethylpentyl)-1,3-dioxolane, 2-methyl-1,5-dioxaspiro[5.5]undecane, phenyl ethyl cyclohexyl ether and mixtures thereof;d) said carboxylic acid comprises a material selected from Lauric acid, Myristic acid, 2,4-dimethoxybenzoic acid, 2,4-dimethyl-2-pentenoic acid, geranic acid, salicylic acid, Cyclohexylacetic acid and mixtures thereof;e) said nitrile comprises a material selected from Lauryl nitrile, 2-phenyl hexanenitrile, methyl 2-[{(4-(4-hydroxy-4-methylpentyl)-1-cyclohexenyl)methylene}amino}benzoate, 2,2,4-trimethyl-4-phenyl-butanenitrile, 3,7-dimethyloctanenitrile, (e)-3-phenyl-2-propenenitrile, 3,7-dimethyl-6-octenenitrile and mixtures thereof;f) said amine comprises a material selected from 4-(4,8-dimethyl-3,7-nonadienyl) pyridine, (2-methylpropyl)-quinoline and mixtures thereof;g) said ketone comprises a material selected from Dihydrojasmone, Methyl-beta-ionone, Methyl heptenone, 6,10-dimethylundecen-2-one, 1,3,4,6,7,8a-hexahydro-1.1,5,5-tetramethyl-2h-2,4a-methanonaphthalen-8(5h)-one, 5-Cyclohexadecen-1-one, lonone and mixtures thereof;h) said aldehyde comprises a material selected from Lauric aldehyde, Amyl Cinnamic Aldehyde, 3,6(and 4,6)-dimetttylcyclohex-3-ene-1-carboxaldehyde, 2,4-dimethyl-3-cyclohexene-1-carboxaldehyde, 1-methyl-4-(4-methyl-3-pentenyl)cyclohex-3-ene-1-carboxaldehyde, 3-(and 4-)(4-methyl-3-pnetyl)cyclohex-3-ene-1-carboxaldehyde, ((3,7,-dimethyl-6-octenyl)oxy)acetaldehyde and mixtures thereof;i) said hydrocarbon comprises a material selected from isolongifolene, Limonene, Terpinolene, 3,7-dimethyl-1,3,6-octatriene, Bisabolene Alpha-pinene and mixtures thereof;j) said Schiff base comprises a material selected from Methyl anthranilate/citronellal Schiff Base, Isononylaidehyde/methylanffiranilate Schiff Base, Methyl N-(3,7-dimethyl-7-hydroxyoctylidene)-anthranilate Schiff Base and mixtures thereof;k) said waxes comprises a material selected from the group consisting of carnauba wax, beeswax, paraffin, petrolatum, polytetrafluoroethylene wax, and mixtures thereof;l) said natural and/or synthetic oils comprise a material selected from the group consisting of lavender oil, cedarwood oil, vegetal oil, brominated oil, eucalyptol oil, Ylang Ylang oil, patchouli oil, bergamot oil and mixtures thereof.A consumer product according to any preceding claim having a benefit agent release of at least 10%, preferably at least 25%, more preferably at least 35%, more preferably from 50% to 100%, more preferably from 65% to 95%, most preferably from 85% to 95% of said benefit agent after 10 minutes, preferably 8 minutes, more preferably 5 minutes of use of such consumer product containing said particles.A consumer product according to any preceding claim, wherein at least 75%, preferably 85%, more preferably 90%, of said particles have a particle size of from 1 micron to 120 microns.A consumer product according to any preceding claim, wherein at least 75%, preferably 85%, more preferably 90%, of said particles have a particle wall thickness of from 30 nm to 500 nm, preferably from 40 nm to 250 nm, more preferably from 50 nm to 150 nm.A consumer product according to any preceding claim, said consumer product comprising a material selected from the group consisting of a scavenger, a structurant, an anti-agglomeration agent and mixtures thereof.A method of treating and/or cleaning a situs, said method comprising a) optionally washing and/or rinsing said situs;b) contacting said situs with a consumer product according to any preceding claim; andc) optionally washing and/or rinsing said situs.A process of making a consumer product comprising a consumer product adjunct material and a particle, said process comprising: a) preparing a core material comprising a solid, water soluble benefit agent, a protective suspension agent having a viscosity at 25°C of from 500 centistokes to 2,000,000 centistokes, preferably from 1000 centistokes to 800,000 centistokes, more preferably from 1000 centistokes to 300,000 centistokes, preferably said protective suspension agent comprises a silicone material having a viscosity of at least 30,000 centistokes, more preferably from 30,000 centistokes to 60,000 centistokes; and an optional hydrophobic organic material and cooling this core material, preferably to a temperature of from 0°C to 25°C;b) preparing a first solution comprising, based on total solution weight, from 0.1% to 5% of an emulsifier, preferably polyvinyl alcohol, and cooling this first solution, preferably to a temperature of from 0°C to 25°C;c) preparing a second solution comprising, based on total solution weight, from 65% to 97% core material, and one or more hydrophobic monomers comprising diacyl chlorides, diisocyanates and/or bischloroformates, and cooling this second solution, preferably to a temperature of from 0°C to 25°C;d) preparing a third solution comprising based on total weight from 10% to 90% water, and one or more hydrophilic monomers comprising di-amines, triamines and/or diols, and cooling this third solution, preferably to a temperature of from 0°C to 25°C;e) forming a first composition at a temperature of from 0°C to 25°C, by either combining said second solution and said first solution and emulsifying said first composition; or emulsifying said second solution in said first solution via a micro-device, preferably said micro-device is selected from the group consisting of a cross flow membrane, and/or a flow focusing technology;f) combining said first composition and said third solution to form a second composition and optionally combining any processing aids and said second composition;g) stirring said second composition for at least 15 minutes at a temperature of from 0°C to 25°C and optionally combining any processing aids to said second composition;h) optionally combining any scavenger material, neutralizing agent, structurant, salts and/or anti-agglomeration agent with said second composition during step g) or thereafter,j) optionally spray drying or agglomerating said second composition; andk) combining said second composition with one or more consumer product adjuncts.A process of making a consumer product, comprising a consumer product adjunct material and a particle, said process comprising: a) preparing a core material comprising a solid, water soluble benefit agent, a protective suspension agent having a viscosity at 25°C of from 500 centistokes to 2,000,000 centistokes, preferably from 1000 centistokes to 800,000 centistokes, more preferably from 1000 centistokes to 300,000 centistokes, preferably said protective suspension agent comprises a silicone material having a viscosity of at least 30,000 centistokes, more preferably from 30,000 centistokes to 60,000 centistokes and an optional hydrophobic organic, material and cooling this core material, preferably to a temperature of from 0°C to 4°C;b) preparing a first solution comprising, based on total solution weight, from 0.1% to 10% of a polymer having a cloud point between 0°C and 120°C, more preferably between 20°C and 60°C, preferably said polymer comprises a polyvinyl alcohol derivate; and then said first solution is cooled, preferably to a temperature of from 0°C to 4°C;c) optionally, lowering the cloud point of the polymer contained in said first solution, preferably by increasing the ionic strength of said solution, preferably by adding salt to said first solution;d) preparing a second solution comprising, based on total solution weight, from 50% to 70% water, from 5 to 20% of a water miscible, organic solvent, preferably methanol, from 0.1% to 1% of a strong acid, preferably sulfuric acid, from 2% to 10% of a weak acid, preferably acetic acid, and from 15% to 25% of a crosslinking agent, preferably gluteraldehyde;e) preparing a third solution comprising, based on total third solution weight, from 70% to 99% water, and one or more electrolytes comprising sodium sulphate, sodium phosphate, sodium citrate, sodium carbonate, sodium acetate and mixtures thereof;f) forming a first composition at temperature of from 0°C to 25°C, by either combining said core material and said first solution and emulsifying said first composition; or emulsifying said core material in said first solution via a micro-device, preferably said micro-device is selected from the group consisting of a cross flow membrane, and/or a flow focusing technology;g) adding said third solution to said first composition to form a second composition and optionally combining any processing aids and said second composition;h) increasing the temperature of said second composition at a rate from 0.2°C/min to 5°C/min;i) mixing said second composition for at least 15 minutes at a temperature from 1°C to 10°C above the cloud point of said second composition;j) adding said second solution to said second composition to form a third composition and optionally combining any processing aids and said third composition;k) optionally combining any scavenger material, neutralizing agent, structurant, salts and/or anti-agglomeration agent with said third composition during step j) or thereafter;l) optionally spray drying or agglomerating said third composition; andm) combining said third composition with one or more consumer product adjuncts.\n",
            "==================================================\n",
            "\n",
            "TITLE: METHOD FOR RINSING A SUBSTRATE SURFACE\n",
            "SCORE: 212.4577178955078\n",
            "DESCRIPTION: A method for rinsing a substrate surface in the presence of water having a total dissolved solids content in excess of 200 ppm, the method comprising: applying the aqueous rinse agent composition to a substrate surface, wherein the method includes a step of cleaning the substrate surface prior to the step of rinsing, wherein the rinse agent composition comprises (a) sheeting agent comprising surfactant for promoting draining of sheets of water from a surface; wherein the sheeting agent comprises at least one of a nonionic block copolymer having ethylene oxide and propylene oxide residues, alkyl polyglycosides, zwitterionics, and anionics,(b) humectant comprising a material that contains greater than 5 wt % water when the material is equilibrated at 50% relative humidity and room temperature; wherein the humectant comprises propylene glycol, wherein the sheeting agent and the humectant are different and the weight ratio of the total amount of humectant in the rinse agent composition to the total amount of sheeting agent in the rinse agent composition is greater than 1:3.The method for rinsing a substrate surface of claim 1, wherein the substrate surface comprises a motor vehicle surface.The method for rinsing a substrate surface of claim 1, wherein the substrate surface comprises a food or beverage contacting surface.The method of claim 1, wherein the weight ratio of the total amount of humectant in the rinse agent composition to the total amount of sheeting agent in the rinse agent composition is between about 5:1 and 1:3.The method of claim 1, wherein the weight ratio of the total amount of humectant in the rinse agent composition to the total amount of sheeting agent in the rinse agent composition is between about 4:1 and 1:2.The method of claim 1, wherein the weight ratio of the total amount of humectant in the rinse agent composition to the total amount of sheeting agent in the rinse agent composition is between about 3:1 and 1:1.The method of claim 1, wherein the sheeting agent comprises a nonionic block copolymer having ethylene oxide and propylene oxide units and a number average molecular weight of between about 1,500 and about 100,000.The method of claim 1, wherein the sheeting agent comprises an alkyl polyglycoside having the formula.         (G)x-O-R wherein G is a moiety derived from reducing saccharide containing 5 or 6 carbon atoms, R is a fatty aliphatic group containing 6 to 20 carbon atoms, and x is about 0.5 to about 10.The method of claim 1, wherein the sheeting agent copolymer is provided in an amount of between about 5 wt. % and about 40 wt. % based on the solids weight percent of the rinse agent composition.\n",
            "==================================================\n",
            "\n",
            "TITLE: RESIN COMPOSITION\n",
            "SCORE: 183.5488739013672\n",
            "DESCRIPTION: A resin composition comprising (A) 75 to 99.98 wt% of an aromatic polycarbonate resin (component A),(B) 0.01 to 5 wt% of a mixture (component B) of polytetrafluoroethylene particles and an organic polymer, wherein the organic polymer is a polymer derived from a styrene-based monomer and/or an acrylic monomer and(C) 0.01 to 20 wt% of a flame retardant (component C), wherein the sodium metal ion content of the component B (excluding sodium metal ion contained in the polytetrafluoroethylene particles) is 10 ppm or less, andwherein the potassium metal ion content of the component B (excluding potassium metal ion contained in the polytetrafluoroethylene particles) is 15 ppm or less,wherein the sodium metal ion content and potassium metal ion content of the component B is measured as described in the present description.The resin composition according to claim 1, wherein the component B is manufactured by suspension polymerization.The resin composition according to claim 1, wherein the component B is a mixture obtained by polymerizing an organic monomer in the presence of polytetrafluoroethylene particles without forming a latex.The resin composition according to claim 1, wherein the polytetrafluoroethylene particles have a diameter of 0.1 to 0.6 µm, wherein the diameter is obtained by measuring the diameter of a sample solution prepared by diluting a particle dispersion with water by a dynamic light scattering method (ELS800 of Otsuka Denshi Co., Ltd., temperature of 25°C, scattering angle of 90°).The resin composition according to claim 1, wherein the organic polymer is a styrene-acrylic polymer.The resin composition according to claim 5, wherein the styrene-acrylic polymer is a polymer of a styrene-based monomer (i) and an acrylic monomer (ii), in which the styrene-based monomer (i) may be substituted by at least one group selected from the group consisting of an alkyl group having 1 to 6 carbon atoms, alkoxy group having 1 to 6 carbon atoms and halogen atom, and the acrylic monomer (ii) includes a (meth)acrylate derivatives which may be substituted by at least one group selected from the group consisting of an alkyl group having 1 to 20 carbon atoms, cycloalkyl group having 3 to 8 carbon atoms, aryl group and glycidyl group.The resin composition according to claim 1, wherein the component C is an organic metal salt-based flame retardant.The resin composition according to claim 7, wherein the organic metal salt-based flame retardant is an alkali (earth) metal salt of an organic sulfonic acid.The resin composition according to claim 1, wherein the component C is a fluorine-containing organic metal salt-based flame retardant.The resin composition according to claim 9, wherein the fluorine-containing organic metal salt-based flame retardant is a metal salt of a perfluoroalkylsulfonic acid.The resin composition according to claim 1 which comprises 1 to 50 parts by weight of at least one reinforcing filler (component D) selected from the group consisting of a lamellar inorganic filler (component D-1) and a fibrous inorganic filler (component D-2) based on 100 parts by weight of the total of the components A, B and C.The resin composition according to claim 11, wherein the component D-1 is talc.The resin composition according to claim 11, wherein the component D-2 is at least one fibrous inorganic filler selected from the group consisting of glass fibers and glass short fibers.The resin composition according to claim 1 which further comprises another thermoplastic resin (component E) in an amount of 1 to 50 parts by weight based on 100 parts by weight of the total of the components A and E.The resin composition according to claim 14, wherein the component E is a polyester resin and/or ABS resin.A molded product of the resin composition of claim 1.A method for improving the thermal stability and hydrolysis resistance of a resin composition comprising (A) 75 to 99.98 wt% of an aromatic polycarbonate resin (component A),(B) 0.01 to 5 wt% of a mixture (component B) of polytetrafluoroethylene particles and an organic polymer, wherein the organic polymer is a polymer derived from a styrene-based monomer and/or an acrylic monomer and(C) 0.01 to 20 wt% of a flame retardant (component C), characterized in that a mixture having the sodium metal ion content (excluding sodium metal ion contained in the polytetrafluoroethylene particles) of 10 ppm or less, and having the potassium metal ion content (excluding potassium metal ion contained in the polytetrafluoroethylene particles) of 15 ppm or less is used as component B,wherein the sodium metal ion content and potassium metal ion content of the component B is measured as described in the present description.\n",
            "==================================================\n",
            "\n",
            "TITLE: EMULSIFYING DISPERSANTS, METHOD FOR EMUSIFICATION AND DISPERSION WITH THE SAME, EMULSIONS, AND EMULSION FUELS\n",
            "SCORE: 177.2830810546875\n",
            "DESCRIPTION: An emulsification dispersant, wherein the main component is vesicles that are formed from amphiphilic substances capable of forming vesicles spontaneously and that adhere onto the surface of an oil based material, and wherein the average particle size of said vesicles is 8 nm to 500 nm when the emulsion is being formed, and 200 nm to 800 nm when the dispersant is being conditioned within a concentration range of 5 to 20 wt.% in the dispersion, wherein said amphiphilic substance is selected from a group comprising a. derivatives with an average number of 5 to 15 added ethylene oxide molecules (E), selected from among polyoxyethylene hydrogenated castor oil derivatives represented by the following general formula (Formula 1): b. halides of dialkylammonium derivatives, trialkylammonium derivatives, tetraalkylammonium derivatives, dialkenylammonium derivatives, trialkenylammonium derivatives, or tetraalkenylammonium derivatives, as represented by the following general formula (Formula 2): wherein, R1 and R2 are alkyl or alkenyl group of C8 - C22,R3 and R4 are H or alkyl group of C1 - C4, and X is F, C1, Br, or Ic. particles made from phospholipids or phospholipid derivatives.An emulsification dispersant according to claim 1, wherein the dispersant is being conditioned within a polyoxyethylene-hydrogenated castor oil derivative with an average number of 10 added ethylene oxide molecules (HCO-10) concentration range of 5 to 20wt% in the dispersion.An emulsification dispersant according to claim 1, wherein a surfactant is further added to polyoxyethylene hydrogenated caster oil derivatives in the range of the mol fraction 0.1 ≤ Xs ≤ 0.33.An emulsification method using an emulsification dispersant according to any one of claims 1 to 3, wherein an oil component to be emulsified and said emulsification dispersant are to be mixed by a weight ratio of 1:1 to 1000:1.An emulsification dispersant wherein the main component is one or more than two biopolymers disintegrated into single particles that are selected from the group consisting of microbially produced polysaccharides, polyesters, naturally-derived polysaccharides, such as starch, and chitosans.An emulsification method using an emulsification dispersant according to claim 5, wherein the oil component to be emulsified and said emulsification dispersant are to be mixed by a weight ratio of 50:1 to 2000:1.A method of producing emulsification dispersants, comprising the steps of: forming vesicles from amphiphilic substances capable of forming vesicles spontaneously, or, disintegrating one or two biopolymers into single particles that are selected from the group consisting of microbially produced polysaccharides, phospholipids, polyesters, naturally-derived polysaccharides, such as starch, and chitosans; and processing the vesicles or biopolymers that have been disintegrated into single particles into fine particles by addition into water below the designated temperature.Emulsions characterized by being formed by contacting and mixing an emulsification dispersant according to any one of claims 1 to 3 or claim 5 with oil component to be emulsified.An emulsion fuel characterized in being generated by a process 1 for forming a dispersant solution wherein the amphiphilic substance is selected from a group comprising a. derivatives with an average number of 5 to 15 added ethylene oxide molecules (E), selected from among polyoxyethylene hydrogenated caster oil derivatives represented by the following general formula (Formula 1): b. halides of dialkylammonium derivatives, trialkylammonium derivatives, tetraalkylammonium derivatives, dialkenylammonium derivatives, trialkenylammonium derivatives, or tetraalkenylammonium derivatives, as represented by the following general formula (Formula 2): wherein, R1 and R2 are alkyl or alkenyl group of C8 - C22,R3 and R4 are H or alkyl group of C1 - C4, and X is F, C1, Br, or I andc. particles made from phospholipids or phospholipid derivatives wherein the amphiphilic substance is dispersed for adjusting the average particle size of said vesicles is 200 nm-800 nm, and a process 2 wherein the vesicles obtained in said process 1 are adhered onto the surface of the oil, the average particle size of said vesicles being adjusted to 8 nm-500 nm when the emulsion is being formed.The emulsion fuel according to claim 9, wherein the amphiphilic substance HCO-10 is dispersed so as to be 5-20wt%, and for adjusting the average particle size of said vesicles is 200 nm-800 nm, and a process 2 wherein the vesicles obtained in said process 1 are adhered onto the surface of the heavy oil having an adjusted viscosity, the average particle size of said vesicles being adjusted to 8 nm-500 nm when the emulsion is being formed.The emulsion fuel according to claim 9, wherein the composition consists of HCO-10 as said amphiphilic substance at 0.8-10wt %, light oil as said fuel at 5-60 wt % and the corresponding proportion of water.The emulsion fuel according to claim 9, wherein the composition consists of HCO-10 as said amphiphilic substance at 0.3-9wt %, conditioned heavy oil at 80 to 10 wt% and the corresponding proportion of water.\n",
            "==================================================\n",
            "\n"
          ]
        }
      ],
      "source": [
        "\n",
        "scores, samples = all_dataset.get_nearest_examples(\n",
        "    \"embeddings\", question_embedding, k=k\n",
        ")\n",
        "samples_df = pd.DataFrame.from_dict(samples)\n",
        "samples_df[\"scores\"] = scores\n",
        "samples_df.sort_values(\"scores\", ascending=False, inplace=True)\n",
        "\n",
        "for _, row in samples_df.iterrows():\n",
        "    print(f\"TITLE: {row.title}\")\n",
        "    print(f\"SCORE: {row.scores}\")\n",
        "    print(f\"DESCRIPTION: {row.claims}\")\n",
        "    print(\"=\" * 50)\n",
        "    print()\n"
      ]
    },
    {
      "cell_type": "code",
      "execution_count": null,
      "metadata": {},
      "outputs": [],
      "source": []
    }
  ],
  "metadata": {
    "colab": {
      "name": "Semantic search with FAISS (PyTorch)",
      "provenance": []
    },
    "kernelspec": {
      "display_name": "workspace_1",
      "language": "python",
      "name": "python3"
    },
    "language_info": {
      "codemirror_mode": {
        "name": "ipython",
        "version": 3
      },
      "file_extension": ".py",
      "mimetype": "text/x-python",
      "name": "python",
      "nbconvert_exporter": "python",
      "pygments_lexer": "ipython3",
      "version": "3.12.9"
    }
  },
  "nbformat": 4,
  "nbformat_minor": 0
}
